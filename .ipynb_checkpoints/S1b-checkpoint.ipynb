{
 "cells": [
  {
   "cell_type": "markdown",
   "id": "48ed3992-e9ff-45c7-bbbf-9ab00ceeca3d",
   "metadata": {},
   "source": [
    "# Worked Examples for EDA\n",
    "\n",
    "This page contains a few worked examples for exploratory data analysis of a single numeric variable."
   ]
  },
  {
   "cell_type": "markdown",
   "id": "b7d174dd-cf1f-4c2c-bbc9-06855f9cac86",
   "metadata": {},
   "source": [
    "## EDA for MPG Column in mtcars Data Frame\n",
    "\n",
    "Let's gather than standard descriptives, 5-number summary and information about outliers as we begin.\n",
    "- The [descriptive statstics code](https://straightdraw.github.io/probstat/S0b.html) can be found at this link.\n",
    "- The [outliers code](https://straightdraw.github.io/probstat/A2e.html) can be found at this link.\n",
    "\n",
    "The **mtcars** data frame is found in native R, so we can load it. Then we will begin."
   ]
  },
  {
   "cell_type": "code",
   "execution_count": 15,
   "id": "ac62d582-9b7f-499c-89d7-14d52c1eb651",
   "metadata": {},
   "outputs": [],
   "source": [
    "miles <- mtcars$mpg"
   ]
  },
  {
   "cell_type": "markdown",
   "id": "e0c573b2-6c20-4e49-9593-85495abfe5a8",
   "metadata": {},
   "source": [
    "### Descriptive Statistics for MPG"
   ]
  },
  {
   "cell_type": "code",
   "execution_count": 14,
   "id": "16bd56fd-081e-409b-9b2a-07f58f40767f",
   "metadata": {},
   "outputs": [
    {
     "name": "stdout",
     "output_type": "stream",
     "text": [
      "The standard descriptives for the mtcars MPG data:\n",
      "   Mean =  20.09 \n",
      "   Standard Deviation =  6.03 \n",
      "   Sample Size =  32 \n",
      "\n",
      "The 5-number summary for SLEEEP"
     ]
    },
    {
     "data": {
      "text/plain": [
       "   Min. 1st Qu.  Median    Mean 3rd Qu.    Max. \n",
       "  10.40   15.43   19.20   20.09   22.80   33.90 "
      ]
     },
     "metadata": {},
     "output_type": "display_data"
    }
   ],
   "source": [
    "cat('The standard descriptives for the mtcars MPG data:\\n   Mean = ', round(mean(miles),2),\n",
    "    '\\n   Standard Deviation = ', round(sd(miles),2),\n",
    "    '\\n   Sample Size = ', length(miles),\n",
    "    '\\n\\nThe 5-number summary for SLEEEP')\n",
    "summary(miles)"
   ]
  },
  {
   "cell_type": "markdown",
   "id": "acfcff74-db92-4069-9516-b018c9bc90fe",
   "metadata": {},
   "source": [
    "**Anlaysis.** We notice that $|\\text{mean}-\\text{median}|=0.89>0.603$. Since the difference between the mean and the median is greater than a tenth of a standard deviation, we expect skew and outliers to right.\n",
    "\n",
    "### Outliers for MPG"
   ]
  },
  {
   "cell_type": "code",
   "execution_count": 28,
   "id": "d5610238-aace-4469-8a2a-2ddbdfedd5cc",
   "metadata": {},
   "outputs": [
    {
     "name": "stdout",
     "output_type": "stream",
     "text": [
      "Outliers for the MPG data using the 2 standard deviation rule:\n",
      "    2  to the right, and \n",
      "    0  to the left.\n",
      "\n",
      "Outliers for the MPG data using the Box Plot method:\n",
      "    1  to the right, and \n",
      "    0  to the left."
     ]
    }
   ],
   "source": [
    "cat('Outliers for the MPG data using the 2 standard deviation rule:\\n   ',sum(miles > mean(miles) + 2 * sd(miles)), \n",
    "    ' to the right, and','\\n   ', sum(miles < mean(miles) - 2 * sd(miles)) , ' to the left.\\n\\n')\n",
    "\n",
    "Q1 <- quantile(miles)[[\"25%\"]] ; Q3 <- quantile(miles)[[\"75%\"]] ; IQR <- Q3 - Q1\n",
    "\n",
    "cat('Outliers for the MPG data using the Box Plot method:\\n   ',sum(miles > Q3 + 1.5 * IQR), \n",
    "    ' to the right, and','\\n   ', sum(miles < Q1 - 1.5 * IQR) , ' to the left.')"
   ]
  },
  {
   "cell_type": "markdown",
   "id": "32f31c1b-3b5b-496b-89a1-0a42a8956fea",
   "metadata": {},
   "source": [
    "**Analysis.** Our suspicions of outliers to the right was confirmed with our calculations showing either one or two outliers to the right and none to the left."
   ]
  },
  {
   "cell_type": "markdown",
   "id": "08f61ab7-0954-45a8-968b-1bd73f7cb83e",
   "metadata": {},
   "source": [
    "### Shape of MGP Data\n",
    "\n",
    "Let's look at both a histogram and density plot. We can combine the 2 visualizations into a single plot, and the [information about how to do so is linked here](https://straightdraw.github.io/probstat/A2d.html)."
   ]
  },
  {
   "cell_type": "code",
   "execution_count": 26,
   "id": "d1e48e7a-dd9f-4eaa-ac49-692b7c72e1c3",
   "metadata": {},
   "outputs": [
    {
     "data": {
      "image/png": "[encoded data removed]",
      "text/plain": [
       "Plot with title \"density.default(x = miles)\""
      ]
     },
     "metadata": {},
     "output_type": "display_data"
    }
   ],
   "source": [
    "layout(matrix(c(1,2), ncol = 2), lcm(8))\n",
    "    hist(miles, breaks = 15)\n",
    "plt <- {\n",
    "    plot(density(miles))\n",
    " }"
   ]
  },
  {
   "cell_type": "markdown",
   "id": "ed52d18c-5589-4da2-8180-2dc46dbd9cc4",
   "metadata": {},
   "source": [
    "**Analysis.** While the histogram shows somme evidence of the data being drawing from a bell-shaped distribution, the density plot shows more clearly an approximately normal distribution with a slight skew to the right.\n",
    "\n",
    "### Box Plot\n",
    "\n",
    "Finally, let's construct a box plot to confirm all the work above."
   ]
  },
  {
   "cell_type": "code",
   "execution_count": 27,
   "id": "8ad247d9-69a8-43de-9c2f-1360c2d388fd",
   "metadata": {},
   "outputs": [
    {
     "data": {
      "image/png": "[encoded data removed]",
      "text/plain": [
       "plot without title"
      ]
     },
     "metadata": {},
     "output_type": "display_data"
    }
   ],
   "source": [
    "boxplot(miles)"
   ]
  },
  {
   "cell_type": "markdown",
   "id": "bbc7062b-8c3e-46bf-b426-037c20c718c8",
   "metadata": {},
   "source": [
    "### Overall Analsyis\n",
    "\n",
    "First, note that the boxplot and quantile function differ on whether an outlier exists to the right in the box plot. This is not problematic.\n",
    "\n",
    "We can see overall that **the distribution is approximately normal with some skew to the right**. Numerically, we identified 1-2 outliers to the right, yet the box plot shows no outliers as explained above."
   ]
  },
  {
   "cell_type": "code",
   "execution_count": null,
   "id": "da4905cb-55c5-463c-a840-e840939ca5e0",
   "metadata": {},
   "outputs": [],
   "source": []
  }
 ],
 "metadata": {
  "kernelspec": {
   "display_name": "R",
   "language": "R",
   "name": "ir"
  },
  "language_info": {
   "codemirror_mode": "r",
   "file_extension": ".r",
   "mimetype": "text/x-r-source",
   "name": "R",
   "pygments_lexer": "r",
   "version": "3.6.1"
  }
 },
 "nbformat": 4,
 "nbformat_minor": 5
}
