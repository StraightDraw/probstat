{
 "cells": [
  {
   "cell_type": "markdown",
   "id": "01f459f4-ee20-48f7-956c-31938a0119a7",
   "metadata": {},
   "source": [
    "# Solutions to Exercises"
   ]
  },
  {
   "cell_type": "markdown",
   "id": "d3b91c2f-aed7-473d-9af8-f1399f894960",
   "metadata": {},
   "source": [
    "1. Professor Daniels has 7 books to place on a single shelf. How many different arrangements are possible?\n",
    "\n",
    "**Solution.** Assuming we are referring to orderings, there are $7! = 5040$ arrangements. We use the scientific computing capabilities of R or a graphing calculator to find:"
   ]
  },
  {
   "cell_type": "code",
   "execution_count": 1,
   "id": "ee1e19a0-f7dd-40be-9fb6-5b34f4f2f147",
   "metadata": {},
   "outputs": [
    {
     "data": {
      "text/html": [
       "5040"
      ],
      "text/latex": [
       "5040"
      ],
      "text/markdown": [
       "5040"
      ],
      "text/plain": [
       "[1] 5040"
      ]
     },
     "metadata": {},
     "output_type": "display_data"
    }
   ],
   "source": [
    "factorial(7)"
   ]
  },
  {
   "cell_type": "markdown",
   "id": "af193d73-7b12-442b-847e-3b298da38439",
   "metadata": {},
   "source": [
    "2. We do not know precisely how many seats there were at the Round Table as traditions differ. Supposing there were 24 seats at the table and that King Authur always sat in his radomnly assigned seat, in how many ways could King Arthur plus the 23 Knights of the Round Table be arranged?\n",
    "\n",
    "**Solution.** This is permutations on a ring with $n = 24$, so the solution is \n",
    "$$\\begin{align}\\frac{24!}{23} &= 23!\\\\ &\\approx 3.58202\\times 10^{22}\\end{align}$$"
   ]
  },
  {
   "cell_type": "code",
   "execution_count": 2,
   "id": "fa537f0e-cab1-48cf-8078-e6d19fdb690d",
   "metadata": {},
   "outputs": [
    {
     "data": {
      "text/html": [
       "2.5852016738885e+22"
      ],
      "text/latex": [
       "2.5852016738885e+22"
      ],
      "text/markdown": [
       "2.5852016738885e+22"
      ],
      "text/plain": [
       "[1] 2.585202e+22"
      ]
     },
     "metadata": {},
     "output_type": "display_data"
    }
   ],
   "source": [
    "factorial(23)"
   ]
  },
  {
   "cell_type": "markdown",
   "id": "587ba762-933d-4d59-ba98-6d85559323c7",
   "metadata": {},
   "source": [
    "3. Poker Pro Daniel Negreanu is one of nine players being seated at random at the final table of a poker tournament. Another pro we will call Betty is often a problem for Negreanu, and two amateurs have had the amazing luck to battle their way through. Poker players do not like having a troublesome player to their left.\n",
    "  - What is the probability Betty is seated to Negreanu's left?\n",
    "  - What the probability that one of the amateurs is seated to Negreanu's left?"
   ]
  },
  {
   "cell_type": "code",
   "execution_count": null,
   "id": "5457ba0d-c317-40e0-937a-408762659852",
   "metadata": {},
   "outputs": [],
   "source": []
  }
 ],
 "metadata": {
  "kernelspec": {
   "display_name": "R",
   "language": "R",
   "name": "ir"
  },
  "language_info": {
   "codemirror_mode": "r",
   "file_extension": ".r",
   "mimetype": "text/x-r-source",
   "name": "R",
   "pygments_lexer": "r",
   "version": "3.6.1"
  }
 },
 "nbformat": 4,
 "nbformat_minor": 5
}