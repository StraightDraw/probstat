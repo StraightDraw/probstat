{
 "cells": [
  {
   "cell_type": "markdown",
   "id": "48abcacf-7e11-4b34-8a77-8a87c5a58da3",
   "metadata": {},
   "source": [
    "# Exploratory Data Analysis"
   ]
  },
  {
   "cell_type": "markdown",
   "id": "803fcb6a-fdfb-4a67-9daa-05f96eb1962e",
   "metadata": {},
   "source": [
    "The 2 key questions as we conduct an <span style=\"color: purple\"><b>exploratory data analysis</b></span> are as follows:\n",
    "\n",
    "- What is the **shape of the distribution**?\n",
    "- Do **outliers** or **skew** exist?\n",
    "\n",
    "The most significant shape of distributions for introductory statistics is the *normal distribution* since parametric statistical tests like the\n",
    "\n",
    "- $z$-test,\n",
    "- $t$-test, and\n",
    "- ANOVA\n",
    "\n",
    "are built on assumptions of **normality**. We also need to know whether or not skew and outliers exist because we often must treat skewed data and outliers with care and possibly different tools."
   ]
  },
  {
   "cell_type": "markdown",
   "id": "43205314-e8ec-4c12-96d8-fa09d20a0c60",
   "metadata": {},
   "source": [
    "## Types of Data\n",
    "Data come in two varieties: **quantitative** (numeric) or **qualitative** (categorical) data. Poker player Pete plays Heads Up tournaments with a 20 dollar buy-in (HU20). These two-player tournaments take less than half an hour where he either loses 21, or wins 19. (The online casino takes a cut of each tournament buy-in, called the *rake*.) Pete's HU20 win-loss record is *category data*, a series of W's and L's.\n",
    "\n",
    "Pete's friend Mandy, a math major with a data science minor at North Georgia, enjoys 6-max NL10, a small stakes cash game. Mandy's list of winnings from her past twenty cash game sessions is *numeric data*.\n",
    "\n",
    "For numeric data sets, we have a **sample** of $n$ data points: \n",
    "\n",
    "$$\\{x_1,x_2,…,x_n\\}∈X$$"
   ]
  },
  {
   "cell_type": "markdown",
   "id": "16a05bf3-670d-47e7-9365-ed9678096d16",
   "metadata": {},
   "source": [
    "## Parameters and Statistics\n",
    "\n",
    "We will continue to emphasize the difference between **parameters** and **statistics**:\n",
    "\n",
    "$$\n",
    "\\begin{array}{c|cc}\n",
    "&\\text{Population}&\\text{Sample}\\\\ \\hline\n",
    "\\text{AVG}&\\mu&\\bar{x}\\\\\n",
    "\\text{SD}&\\sigma& s\\\\\n",
    "\\end{array}\n",
    "$$"
   ]
  },
  {
   "cell_type": "markdown",
   "id": "f43cf68a-f3bc-4287-924c-71449b5eeee2",
   "metadata": {},
   "source": [
    "### Parameters\n",
    "\n",
    "The population parameters of mean $\\mu$ and standard deviation $\\sigma$ are typically the values of greatest interest. Also typically, they are rarely known. Consider a study at UNG Dahlonega where we wish to know the *Perfectionism* levels for undergraduate students. We know little about the overall population parameters but can collect sample data from, say, 200 students to launch our investigation."
   ]
  },
  {
   "cell_type": "markdown",
   "id": "f69f8523-de04-446e-91f2-52f4dd4f63c6",
   "metadata": {},
   "source": [
    "```{sidebar} **Law of Large Numbers**\n",
    "Larger sample sizes lead to increased accuracy of our estimates. We are typically estimating the mean, but the law applies to all parameters we estimate with statistical methods.\n",
    "```"
   ]
  },
  {
   "cell_type": "markdown",
   "id": "732b2b12-d9fc-4721-8b5e-ff70b11ed183",
   "metadata": {},
   "source": [
    "### Statistics\n",
    "\n",
    "The sample statistics of mean $\\bar x$ and standard deviation $s$ are known and thus can be used to estimate the population parameters. The accuracy of the estimates will depend upon two things, among others:\n",
    "\n",
    "1. Shape of the data\n",
    "2. Sample size\n",
    "\n",
    "The shape of the distribution the data are drawn from matters due to the fact that we handle different distributions in different ways. Larger samples lead to improved accuracy."
   ]
  },
  {
   "cell_type": "markdown",
   "id": "0f8d3049-034f-47ad-a382-0b7c2fea0051",
   "metadata": {},
   "source": [
    "```{admonition} Example 1\n",
    "Recall our data from Example 1 which were winnings and losses from Mandy's 20 most recent poker sessions.\n",
    "```\n",
    "\n",
    "<table style=\"width:60%\">\n",
    "  <tr>\n",
    "    <td style='text-align:center; vertical-align:middle'>28</td>\n",
    "    <td style='text-align:center; vertical-align:middle'>11</td>\n",
    "    <td style='text-align:center; vertical-align:middle'>18</td>\n",
    "    <td style='text-align:center; vertical-align:middle'>35</td>\n",
    "    <td style='text-align:center; vertical-align:middle'>36</td>\n",
    "    <td style='text-align:center; vertical-align:middle'>6</td>\n",
    "    <td style='text-align:center; vertical-align:middle'>-38</td>\n",
    "    <td style='text-align:center; vertical-align:middle'>14</td>\n",
    "    <td style='text-align:center; vertical-align:middle'>-19</td>\n",
    "    <td style='text-align:center; vertical-align:middle'>43</td>\n",
    "  </tr>\n",
    "  <tr>\n",
    "    <td style='text-align:center; vertical-align:middle'>-14</td>\n",
    "    <td style='text-align:center; vertical-align:middle'>-30</td>\n",
    "    <td style='text-align:center; vertical-align:middle'>-16</td>\n",
    "    <td style='text-align:center; vertical-align:middle'>-25</td>\n",
    "    <td style='text-align:center; vertical-align:middle'>0</td>\n",
    "    <td style='text-align:center; vertical-align:middle'>40</td>\n",
    "    <td style='text-align:center; vertical-align:middle'>16</td>\n",
    "    <td style='text-align:center; vertical-align:middle'>-79</td>\n",
    "    <td style='text-align:center; vertical-align:middle'>3</td>\n",
    "    <td style='text-align:center; vertical-align:middle'>1</td>\n",
    "  </tr>\n",
    "</table>"
   ]
  },
  {
   "cell_type": "markdown",
   "id": "99f7c6db-51b3-4502-983e-5bcd25c105f2",
   "metadata": {},
   "source": [
    "```{tip}\n",
    "In R, the concatenate function **c()** is widely useful. Here, we use it to create a data vector where we can type in the values from a list.\n",
    "```"
   ]
  },
  {
   "cell_type": "code",
   "execution_count": 4,
   "id": "4109536a-5d55-4268-8295-00a680549a46",
   "metadata": {},
   "outputs": [],
   "source": [
    "W <- c( 28, 11, 18, 35, 36, 6, -38, 14, -19, 43, -14, -30, -16, -25, 0, 40, 16, -79, 3, 11)"
   ]
  },
  {
   "cell_type": "markdown",
   "id": "98794c1d-7d69-43c4-afa8-1f0bc0c869ea",
   "metadata": {},
   "source": [
    "Using our code and the **cat()** function from an earlier section, we have the following:"
   ]
  },
  {
   "cell_type": "code",
   "execution_count": 5,
   "id": "4d7d4ee5-ab4b-49ec-ac04-b6e4a3230a0f",
   "metadata": {},
   "outputs": [
    {
     "name": "stdout",
     "output_type": "stream",
     "text": [
      "The standard descriptives for Winnings \n",
      "   Mean =  2 \n",
      "   Standard Deviation =  30.57 \n",
      "   Sample Size =  20 \n",
      "\n",
      "The 5-number summary for Winnings"
     ]
    },
    {
     "data": {
      "text/plain": [
       "   Min. 1st Qu.  Median    Mean 3rd Qu.    Max. \n",
       " -79.00  -16.75    8.50    2.00   20.50   43.00 "
      ]
     },
     "metadata": {},
     "output_type": "display_data"
    }
   ],
   "source": [
    "cat('The standard descriptives for Winnings \\n   Mean = ', round(mean(W),2),\n",
    "    '\\n   Standard Deviation = ', round(sd(W),2),\n",
    "    '\\n   Sample Size = ', length(W),\n",
    "    '\\n\\nThe 5-number summary for Winnings')\n",
    "summary(W)"
   ]
  },
  {
   "cell_type": "markdown",
   "id": "41409c9f-7089-4e86-bbcc-38d8b7194d9b",
   "metadata": {},
   "source": [
    "## Analysis of Descriptives\n",
    "\n",
    "The most interesting feature of the descriptive statistics is that the mean and median are quite different. Since the median is $8.5$ and the mean is $2$, their difference is $6.5$ which is about $\\frac{1}{4}$ of standard deviation.\n",
    "\n",
    "In this example, because the mean is significantly less than the median, we anticipate skew to the left and outliers, if present, to be on the left, which brings up the second detail one should notice. There is a much longer tail to the left shown the Five Number Summary. The Lower Quartile spans the interval $(−79,−17.5)$ or more than $60$ units. The upper Quartile spans only $(23,43)$ or $20$ units. This indicates likely skew to left since the lower Quartile range is much larger and hence has more room for outliers."
   ]
  },
  {
   "cell_type": "markdown",
   "id": "6b8b83b9-1e8c-47e0-a124-519517341072",
   "metadata": {},
   "source": [
    "### Example 2\n",
    "\n",
    "Recall that standardardized scores are calculated as $z = \\frac{x-\\mu}{\\sigma}$. SAT math section scores have the $N(500,100)$ distribution meaning the population average is 500 and the standard deviation is 100. If Brea earns a 630 on her math SAT section, what is her standardized score?\n",
    "\n",
    "$$\\begin{align}z &= \\frac{630-500}{100}\\\\&=\\frac{130}{100}\\\\&=1.3\\end{align}$$\n",
    "\n",
    "The interpretation? Brea's raw score is 1.3 standard deviation above average. A negative $z$ score indicates a score that is below average."
   ]
  },
  {
   "cell_type": "markdown",
   "id": "49b23877-19e6-4fed-af27-07a8a1085035",
   "metadata": {},
   "source": [
    "## Outliers\n",
    "\n",
    "We have two different ways of checking for outliers:\n",
    "\n",
    "1. Based upon **mean** and **standard deviation**.\n",
    "2. Based upon the 5-Number Summary: **Q1**, **Q3**, and **IQR**.\n",
    "\n",
    "### Outliers Based upon Meand and Standard Deviation\n",
    "\n",
    "The basic rule is that any data point more than **2 standard deviations** from the mean will count as an outlier in a small data set where small indicates a sample of $n\\leq 200$. For larger sample sizes, a **3 standard deviations** from the mean may be more appropriate. We will create cutoff points above and below mean as follows:\n",
    "\n",
    "- **Upper Cutoff:** $\\bar x + 2s$\n",
    "- **Lower Cutoff:** $\\bar x - 2s$\n",
    "\n",
    "Any data point above the Upper Cutoff will be counted as an outlier. Any data point below the Lower Cutoff will be counted as an outlier.\n",
    "\n",
    "### Outliers Based upon 5-Number Summary\n",
    "\n",
    "The box plot checks for outliers using fences which are calculated as follows:\n",
    "\n",
    "- **Upper Fence:** Q3 + 1.5 * IQR\n",
    "- **Lower Fence:** Q1 - 1.5 * IQR\n",
    "\n",
    "where the inner quartile range (IQR) is given by:\n",
    "\n",
    "<center><b>IQR = Q3 - Q1</b></center>\n",
    "\n",
    "Again, any data points that lie outside or beyond the fences are designated as outliers. The only difference between the two methods is the formula used to calculate the cutoff points."
   ]
  },
  {
   "cell_type": "markdown",
   "id": "ee1b0a96-6edd-47e8-b6b8-458e828f5f53",
   "metadata": {},
   "source": [
    "## Analysis of Shape"
   ]
  },
  {
   "cell_type": "markdown",
   "id": "5e052c53-6be9-4bb6-ac10-cd1aaf5f4bc5",
   "metadata": {},
   "source": [
    "### Describing the Distribution of a Quantitative Variable\n",
    "* Shape: Symmetry or Skew\n",
    "* Shape: Uniform, Peaks - unimodal, bimodal, others\n",
    "* Center: Mean and Median\n",
    "* Spread: Range, IQR, standard deviation\n",
    "* Outliers\n",
    "\n",
    "**Run the cell below to see examples of different shape characteristics.**"
   ]
  },
  {
   "cell_type": "code",
   "execution_count": 6,
   "id": "1f7cf376-d9b8-43c3-ab9b-64946f7cd38c",
   "metadata": {},
   "outputs": [
    {
     "data": {
      "image/png": "[encoded data removed]",
      "text/plain": [
       "Plot with title \"Bimodal\""
      ]
     },
     "metadata": {},
     "output_type": "display_data"
    }
   ],
   "source": [
    "set.seed(844)\n",
    "setA <- rnorm(500,21,2)\n",
    "setB <- rchisq(500,df=800)\n",
    "setC <- rchisq(500,df=6)\n",
    "setD <- -1*setC+30\n",
    "setE <- runif(5000,min=1,max=6)\n",
    "setF <- c(rnorm(500,21,2),rnorm(500,32,2))\n",
    "\n",
    "par(mfrow=c(3,2))\n",
    "hist(setA,main=\"Approximately Normal\", xlab=\"Data Set A\")\n",
    "hist(setB,main=\"Unimodal and Roughly Symmetric\", xlab=\"Data Set B\")\n",
    "hist(setC,main=\"Unimodal and Skewed RIGHT\", xlab=\"Data Set C\")\n",
    "hist(setD,main=\"Unimodal and Skewed LEFT\", xlab=\"Data Set D\")\n",
    "hist(setE,main=\"Approximately Uniform\", xlab=\"Data Set E\")\n",
    "hist(setF,main=\"Bimodal\", xlab=\"Data Set F\")"
   ]
  },
  {
   "cell_type": "markdown",
   "id": "174847c7-c747-43e8-aa68-83b33a19021b",
   "metadata": {},
   "source": [
    "## Skew and Outliers\n",
    "\n",
    "If a distribution has skew, then the majority of outliers in that data set are likely to lie in the same direction. Why do we care?\n",
    "\n",
    "1. Outliers are called *influential data points* because they affect the **mean**.\n",
    "2. The **median** is not affected much by outliers.\n",
    "\n",
    "Thus, in the presence of skew, we can see where the majority of these influential data points are likely to live.\n",
    "\n",
    "**Example**\n",
    "\n",
    "Due to the influential data points, e.g. outliers, the following are true:\n",
    "\n",
    "- If the distribution is skewed left, the **mean** is likely to be **less than the median**.\n",
    "- If the distribution is skewed right, the **mean** is likely to be **greater than the median**."
   ]
  },
  {
   "cell_type": "markdown",
   "id": "6282282e-b820-40b9-a8fd-df8dff2b6468",
   "metadata": {},
   "source": [
    "## Example 3\n",
    "\n",
    "Perform exploratory data analysis for Life Expectancy in 2015 using the World Health Organization country-by-country comparison data."
   ]
  },
  {
   "cell_type": "code",
   "execution_count": 7,
   "id": "56ed9488-f7cc-42f4-a0dc-382b8cfd4d0f",
   "metadata": {},
   "outputs": [
    {
     "data": {
      "text/html": [
       "<table>\n",
       "<thead><tr><th></th><th scope=col>Country</th><th scope=col>Year</th><th scope=col>Status</th><th scope=col>LifeExpectancy</th><th scope=col>AdultMortality</th><th scope=col>InfantDeaths</th><th scope=col>Alcohol</th><th scope=col>PercentageExpenditure</th><th scope=col>HepatitisB</th><th scope=col>Measles</th><th scope=col>...</th><th scope=col>Polio</th><th scope=col>TotalExpenditure</th><th scope=col>Diphtheria</th><th scope=col>HIV.AIDS</th><th scope=col>GDP</th><th scope=col>Population</th><th scope=col>Thinness_.1.19_years</th><th scope=col>Thinness_5.9_years</th><th scope=col>Income</th><th scope=col>SchoolingYrs</th></tr></thead>\n",
       "<tbody>\n",
       "\t<tr><th scope=row>1</th><td>Afghanistan        </td><td>2015               </td><td>Developing         </td><td>65.0               </td><td>263                </td><td>62                 </td><td>0.01               </td><td> 71.27962          </td><td>65                 </td><td>1154               </td><td>...                </td><td> 6                 </td><td>8.16               </td><td>65                 </td><td>0.1                </td><td>  584.2592         </td><td>33736494           </td><td>17.2               </td><td>17.3               </td><td>0.479              </td><td>10.1               </td></tr>\n",
       "\t<tr><th scope=row>17</th><td>Albania            </td><td>2015               </td><td>Developing         </td><td>77.8               </td><td> 74                </td><td> 0                 </td><td>4.60               </td><td>364.97523          </td><td>99                 </td><td>   0               </td><td>...                </td><td>99                 </td><td>6.00               </td><td>99                 </td><td>0.1                </td><td> 3954.2278         </td><td>   28873           </td><td> 1.2               </td><td> 1.3               </td><td>0.762              </td><td>14.2               </td></tr>\n",
       "\t<tr><th scope=row>33</th><td>Algeria            </td><td>2015               </td><td>Developing         </td><td>75.6               </td><td> 19                </td><td>21                 </td><td>  NA               </td><td>  0.00000          </td><td>95                 </td><td>  63               </td><td>...                </td><td>95                 </td><td>  NA               </td><td>95                 </td><td>0.1                </td><td> 4132.7629         </td><td>39871528           </td><td> 6.0               </td><td> 5.8               </td><td>0.743              </td><td>14.4               </td></tr>\n",
       "\t<tr><th scope=row>49</th><td>Angola             </td><td>2015               </td><td>Developing         </td><td>52.4               </td><td>335                </td><td>66                 </td><td>  NA               </td><td>  0.00000          </td><td>64                 </td><td> 118               </td><td>...                </td><td> 7                 </td><td>  NA               </td><td>64                 </td><td>1.9                </td><td> 3695.7937         </td><td> 2785935           </td><td> 8.3               </td><td> 8.2               </td><td>0.531              </td><td>11.4               </td></tr>\n",
       "\t<tr><th scope=row>65</th><td>Antigua and Barbuda</td><td>2015               </td><td>Developing         </td><td>76.4               </td><td> 13                </td><td> 0                 </td><td>  NA               </td><td>  0.00000          </td><td>99                 </td><td>   0               </td><td>...                </td><td>86                 </td><td>  NA               </td><td>99                 </td><td>0.2                </td><td>13566.9541         </td><td>      NA           </td><td> 3.3               </td><td> 3.3               </td><td>0.784              </td><td>13.9               </td></tr>\n",
       "\t<tr><th scope=row>81</th><td>Argentina          </td><td>2015               </td><td>Developing         </td><td>76.3               </td><td>116                </td><td> 8                 </td><td>  NA               </td><td>  0.00000          </td><td>94                 </td><td>   0               </td><td>...                </td><td>93                 </td><td>  NA               </td><td>94                 </td><td>0.1                </td><td>13467.1236         </td><td>43417765           </td><td> 1.0               </td><td> 0.9               </td><td>0.826              </td><td>17.3               </td></tr>\n",
       "\t<tr><th scope=row>97</th><td>Armenia            </td><td>2015               </td><td>Developing         </td><td>74.8               </td><td>118                </td><td> 1                 </td><td>  NA               </td><td>  0.00000          </td><td>94                 </td><td>  33               </td><td>...                </td><td>96                 </td><td>  NA               </td><td>94                 </td><td>0.1                </td><td>  369.6548         </td><td>  291695           </td><td> 2.1               </td><td> 2.2               </td><td>0.741              </td><td>12.7               </td></tr>\n",
       "</tbody>\n",
       "</table>\n"
      ],
      "text/latex": [
       "\\begin{tabular}{r|llllllllllllllllllllll}\n",
       "  & Country & Year & Status & LifeExpectancy & AdultMortality & InfantDeaths & Alcohol & PercentageExpenditure & HepatitisB & Measles & ... & Polio & TotalExpenditure & Diphtheria & HIV.AIDS & GDP & Population & Thinness\\_.1.19\\_years & Thinness\\_5.9\\_years & Income & SchoolingYrs\\\\\n",
       "\\hline\n",
       "\t1 & Afghanistan         & 2015                & Developing          & 65.0                & 263                 & 62                  & 0.01                &  71.27962           & 65                  & 1154                & ...                 &  6                  & 8.16                & 65                  & 0.1                 &   584.2592          & 33736494            & 17.2                & 17.3                & 0.479               & 10.1               \\\\\n",
       "\t17 & Albania             & 2015                & Developing          & 77.8                &  74                 &  0                  & 4.60                & 364.97523           & 99                  &    0                & ...                 & 99                  & 6.00                & 99                  & 0.1                 &  3954.2278          &    28873            &  1.2                &  1.3                & 0.762               & 14.2               \\\\\n",
       "\t33 & Algeria             & 2015                & Developing          & 75.6                &  19                 & 21                  &   NA                &   0.00000           & 95                  &   63                & ...                 & 95                  &   NA                & 95                  & 0.1                 &  4132.7629          & 39871528            &  6.0                &  5.8                & 0.743               & 14.4               \\\\\n",
       "\t49 & Angola              & 2015                & Developing          & 52.4                & 335                 & 66                  &   NA                &   0.00000           & 64                  &  118                & ...                 &  7                  &   NA                & 64                  & 1.9                 &  3695.7937          &  2785935            &  8.3                &  8.2                & 0.531               & 11.4               \\\\\n",
       "\t65 & Antigua and Barbuda & 2015                & Developing          & 76.4                &  13                 &  0                  &   NA                &   0.00000           & 99                  &    0                & ...                 & 86                  &   NA                & 99                  & 0.2                 & 13566.9541          &       NA            &  3.3                &  3.3                & 0.784               & 13.9               \\\\\n",
       "\t81 & Argentina           & 2015                & Developing          & 76.3                & 116                 &  8                  &   NA                &   0.00000           & 94                  &    0                & ...                 & 93                  &   NA                & 94                  & 0.1                 & 13467.1236          & 43417765            &  1.0                &  0.9                & 0.826               & 17.3               \\\\\n",
       "\t97 & Armenia             & 2015                & Developing          & 74.8                & 118                 &  1                  &   NA                &   0.00000           & 94                  &   33                & ...                 & 96                  &   NA                & 94                  & 0.1                 &   369.6548          &   291695            &  2.1                &  2.2                & 0.741               & 12.7               \\\\\n",
       "\\end{tabular}\n"
      ],
      "text/markdown": [
       "\n",
       "| <!--/--> | Country | Year | Status | LifeExpectancy | AdultMortality | InfantDeaths | Alcohol | PercentageExpenditure | HepatitisB | Measles | ... | Polio | TotalExpenditure | Diphtheria | HIV.AIDS | GDP | Population | Thinness_.1.19_years | Thinness_5.9_years | Income | SchoolingYrs |\n",
       "|---|---|---|---|---|---|---|---|---|---|---|---|---|---|---|---|---|---|---|---|---|---|\n",
       "| 1 | Afghanistan         | 2015                | Developing          | 65.0                | 263                 | 62                  | 0.01                |  71.27962           | 65                  | 1154                | ...                 |  6                  | 8.16                | 65                  | 0.1                 |   584.2592          | 33736494            | 17.2                | 17.3                | 0.479               | 10.1                |\n",
       "| 17 | Albania             | 2015                | Developing          | 77.8                |  74                 |  0                  | 4.60                | 364.97523           | 99                  |    0                | ...                 | 99                  | 6.00                | 99                  | 0.1                 |  3954.2278          |    28873            |  1.2                |  1.3                | 0.762               | 14.2                |\n",
       "| 33 | Algeria             | 2015                | Developing          | 75.6                |  19                 | 21                  |   NA                |   0.00000           | 95                  |   63                | ...                 | 95                  |   NA                | 95                  | 0.1                 |  4132.7629          | 39871528            |  6.0                |  5.8                | 0.743               | 14.4                |\n",
       "| 49 | Angola              | 2015                | Developing          | 52.4                | 335                 | 66                  |   NA                |   0.00000           | 64                  |  118                | ...                 |  7                  |   NA                | 64                  | 1.9                 |  3695.7937          |  2785935            |  8.3                |  8.2                | 0.531               | 11.4                |\n",
       "| 65 | Antigua and Barbuda | 2015                | Developing          | 76.4                |  13                 |  0                  |   NA                |   0.00000           | 99                  |    0                | ...                 | 86                  |   NA                | 99                  | 0.2                 | 13566.9541          |       NA            |  3.3                |  3.3                | 0.784               | 13.9                |\n",
       "| 81 | Argentina           | 2015                | Developing          | 76.3                | 116                 |  8                  |   NA                |   0.00000           | 94                  |    0                | ...                 | 93                  |   NA                | 94                  | 0.1                 | 13467.1236          | 43417765            |  1.0                |  0.9                | 0.826               | 17.3                |\n",
       "| 97 | Armenia             | 2015                | Developing          | 74.8                | 118                 |  1                  |   NA                |   0.00000           | 94                  |   33                | ...                 | 96                  |   NA                | 94                  | 0.1                 |   369.6548          |   291695            |  2.1                |  2.2                | 0.741               | 12.7                |\n",
       "\n"
      ],
      "text/plain": [
       "   Country             Year Status     LifeExpectancy AdultMortality\n",
       "1  Afghanistan         2015 Developing 65.0           263           \n",
       "17 Albania             2015 Developing 77.8            74           \n",
       "33 Algeria             2015 Developing 75.6            19           \n",
       "49 Angola              2015 Developing 52.4           335           \n",
       "65 Antigua and Barbuda 2015 Developing 76.4            13           \n",
       "81 Argentina           2015 Developing 76.3           116           \n",
       "97 Armenia             2015 Developing 74.8           118           \n",
       "   InfantDeaths Alcohol PercentageExpenditure HepatitisB Measles ... Polio\n",
       "1  62           0.01     71.27962             65         1154    ...  6   \n",
       "17  0           4.60    364.97523             99            0    ... 99   \n",
       "33 21             NA      0.00000             95           63    ... 95   \n",
       "49 66             NA      0.00000             64          118    ...  7   \n",
       "65  0             NA      0.00000             99            0    ... 86   \n",
       "81  8             NA      0.00000             94            0    ... 93   \n",
       "97  1             NA      0.00000             94           33    ... 96   \n",
       "   TotalExpenditure Diphtheria HIV.AIDS GDP        Population\n",
       "1  8.16             65         0.1        584.2592 33736494  \n",
       "17 6.00             99         0.1       3954.2278    28873  \n",
       "33   NA             95         0.1       4132.7629 39871528  \n",
       "49   NA             64         1.9       3695.7937  2785935  \n",
       "65   NA             99         0.2      13566.9541       NA  \n",
       "81   NA             94         0.1      13467.1236 43417765  \n",
       "97   NA             94         0.1        369.6548   291695  \n",
       "   Thinness_.1.19_years Thinness_5.9_years Income SchoolingYrs\n",
       "1  17.2                 17.3               0.479  10.1        \n",
       "17  1.2                  1.3               0.762  14.2        \n",
       "33  6.0                  5.8               0.743  14.4        \n",
       "49  8.3                  8.2               0.531  11.4        \n",
       "65  3.3                  3.3               0.784  13.9        \n",
       "81  1.0                  0.9               0.826  17.3        \n",
       "97  2.1                  2.2               0.741  12.7        "
      ]
     },
     "metadata": {},
     "output_type": "display_data"
    }
   ],
   "source": [
    "life <- read.csv('https://faculty.ung.edu/rsinn/data/lifeexpectancy.csv')\n",
    "life <- subset(life, Year == 2015)\n",
    "head(life,7)"
   ]
  },
  {
   "cell_type": "code",
   "execution_count": 8,
   "id": "9f18c4bb-97ca-42fc-9a02-37372ae23eca",
   "metadata": {},
   "outputs": [
    {
     "data": {
      "text/html": [
       "<ol class=list-inline>\n",
       "\t<li>65</li>\n",
       "\t<li>77.8</li>\n",
       "\t<li>75.6</li>\n",
       "\t<li>52.4</li>\n",
       "</ol>\n"
      ],
      "text/latex": [
       "\\begin{enumerate*}\n",
       "\\item 65\n",
       "\\item 77.8\n",
       "\\item 75.6\n",
       "\\item 52.4\n",
       "\\end{enumerate*}\n"
      ],
      "text/markdown": [
       "1. 65\n",
       "2. 77.8\n",
       "3. 75.6\n",
       "4. 52.4\n",
       "\n",
       "\n"
      ],
      "text/plain": [
       "[1] 65.0 77.8 75.6 52.4"
      ]
     },
     "metadata": {},
     "output_type": "display_data"
    }
   ],
   "source": [
    "le <- life[ , 'LifeExpectancy']\n",
    "head(le,4)"
   ]
  },
  {
   "cell_type": "markdown",
   "id": "ffe0e165-8c46-4d4b-a205-8aec23e61e81",
   "metadata": {},
   "source": [
    "### Example 3: Shape\n",
    "\n",
    "Let's consider shape by constructing a histogram and a density plot."
   ]
  },
  {
   "cell_type": "code",
   "execution_count": 9,
   "id": "bc9fa6be-c9a9-4630-992c-c7c507dca3dd",
   "metadata": {},
   "outputs": [
    {
     "data": {
      "image/png": "[encoded data removed]",
      "text/plain": [
       "Plot with title \"Histogram: Life Expectancy in 2010\""
      ]
     },
     "metadata": {},
     "output_type": "display_data"
    }
   ],
   "source": [
    "hist(le, breaks = 10, main = 'Histogram: Life Expectancy in 2010',xlab = \"Years\")"
   ]
  },
  {
   "cell_type": "code",
   "execution_count": 10,
   "id": "f4cdebf0-350a-4767-bfd8-c8e82846313d",
   "metadata": {},
   "outputs": [
    {
     "data": {
      "image/png": "[encoded data removed]",
      "text/plain": [
       "Plot with title \"Histogram: Life Expectancy in 2010\""
      ]
     },
     "metadata": {},
     "output_type": "display_data"
    }
   ],
   "source": [
    "plot(density(le), main = 'Histogram: Life Expectancy in 2010',xlab = \"Years\")"
   ]
  },
  {
   "cell_type": "markdown",
   "id": "b2a33ec7-df1a-44a8-9525-ce06de9e3eb1",
   "metadata": {},
   "source": [
    "We have a normal or bell-shaped distribution. Given the longer tail to the left, we are seeing some skew to the left and anticipate outliers in that direction.\n",
    "\n",
    "### Example 3: Outliers\n",
    "\n",
    "Let's create a boxplot to investigate skew and outliers."
   ]
  },
  {
   "cell_type": "code",
   "execution_count": 11,
   "id": "4e9b55a1-c5c1-49e9-8a30-485bb75498f9",
   "metadata": {},
   "outputs": [
    {
     "data": {
      "image/png": "[encoded data removed]",
      "text/plain": [
       "Plot with title \"Life Expectancy\""
      ]
     },
     "metadata": {},
     "output_type": "display_data"
    }
   ],
   "source": [
    "boxplot(le, main = 'Life Expectancy', ylab = 'Years')"
   ]
  },
  {
   "cell_type": "markdown",
   "id": "2c934395-4069-4f0d-afef-e5b2a0d1b212",
   "metadata": {},
   "source": [
    "We see no outliers in the boxplot, but we do see a slightly longer tail to the left. Checking numerically, we find that:"
   ]
  },
  {
   "cell_type": "code",
   "execution_count": 12,
   "id": "a50423f8-dc5e-4e61-846c-be8919fa32d9",
   "metadata": {},
   "outputs": [
    {
     "data": {
      "text/html": [
       "87.864352186001"
      ],
      "text/latex": [
       "87.864352186001"
      ],
      "text/markdown": [
       "87.864352186001"
      ],
      "text/plain": [
       "[1] 87.86435"
      ]
     },
     "metadata": {},
     "output_type": "display_data"
    },
    {
     "data": {
      "text/html": [
       "55.3695275954198"
      ],
      "text/latex": [
       "55.3695275954198"
      ],
      "text/markdown": [
       "55.3695275954198"
      ],
      "text/plain": [
       "[1] 55.36953"
      ]
     },
     "metadata": {},
     "output_type": "display_data"
    }
   ],
   "source": [
    "upper_cutoff = mean(le) + 2 * sd(le)\n",
    "lower_cutoff = mean(le) - 2 * sd(le)\n",
    "\n",
    "upper_cutoff\n",
    "lower_cutoff"
   ]
  },
  {
   "cell_type": "code",
   "execution_count": 13,
   "id": "52badc80-037a-48e5-85eb-617075b6c627",
   "metadata": {},
   "outputs": [
    {
     "data": {
      "text/html": [
       "8"
      ],
      "text/latex": [
       "8"
      ],
      "text/markdown": [
       "8"
      ],
      "text/plain": [
       "[1] 8"
      ]
     },
     "metadata": {},
     "output_type": "display_data"
    },
    {
     "data": {
      "text/html": [
       "1"
      ],
      "text/latex": [
       "1"
      ],
      "text/markdown": [
       "1"
      ],
      "text/plain": [
       "[1] 1"
      ]
     },
     "metadata": {},
     "output_type": "display_data"
    }
   ],
   "source": [
    "sum(le < lower_cutoff)\n",
    "sum(le > upper_cutoff)"
   ]
  },
  {
   "cell_type": "markdown",
   "id": "4a3d44fb-169c-43aa-9288-ef081ebe20fc",
   "metadata": {},
   "source": [
    "Using the boxplot method for checking for outliers, we find:\n",
    "- Upper Fence = Q3 + 1.5 * IQR\n",
    "- Lower Fence = Q1 - 1.5 * IQR"
   ]
  },
  {
   "cell_type": "code",
   "execution_count": 14,
   "id": "6eb0c206-b18f-4f80-9275-1c4ba7dd165c",
   "metadata": {},
   "outputs": [
    {
     "data": {
      "text/plain": [
       "   Min. 1st Qu.  Median    Mean 3rd Qu.    Max. \n",
       "  51.00   65.75   73.90   71.62   76.95   88.00 "
      ]
     },
     "metadata": {},
     "output_type": "display_data"
    }
   ],
   "source": [
    "summary(le)"
   ]
  },
  {
   "cell_type": "code",
   "execution_count": 15,
   "id": "e20e7961-aa28-486e-8adb-30b5e7cd7adf",
   "metadata": {},
   "outputs": [
    {
     "data": {
      "text/html": [
       "93.75"
      ],
      "text/latex": [
       "93.75"
      ],
      "text/markdown": [
       "93.75"
      ],
      "text/plain": [
       "[1] 93.75"
      ]
     },
     "metadata": {},
     "output_type": "display_data"
    },
    {
     "data": {
      "text/html": [
       "48.95"
      ],
      "text/latex": [
       "48.95"
      ],
      "text/markdown": [
       "48.95"
      ],
      "text/plain": [
       "[1] 48.95"
      ]
     },
     "metadata": {},
     "output_type": "display_data"
    }
   ],
   "source": [
    "IQR = 76.95 - 65.75\n",
    "upper_fence = 76.95 + 1.5 * IQR\n",
    "lower_fence = 65.75 - 1.5 * IQR\n",
    "\n",
    "upper_fence\n",
    "lower_fence"
   ]
  },
  {
   "cell_type": "code",
   "execution_count": 16,
   "id": "3654648a-1850-417f-8d76-d166770347b8",
   "metadata": {},
   "outputs": [
    {
     "data": {
      "text/html": [
       "0"
      ],
      "text/latex": [
       "0"
      ],
      "text/markdown": [
       "0"
      ],
      "text/plain": [
       "[1] 0"
      ]
     },
     "metadata": {},
     "output_type": "display_data"
    },
    {
     "data": {
      "text/html": [
       "0"
      ],
      "text/latex": [
       "0"
      ],
      "text/markdown": [
       "0"
      ],
      "text/plain": [
       "[1] 0"
      ]
     },
     "metadata": {},
     "output_type": "display_data"
    }
   ],
   "source": [
    "sum(le < lower_fence)\n",
    "sum(le > upper_fence)"
   ]
  },
  {
   "cell_type": "markdown",
   "id": "ec5c951e-3bb3-4020-9854-dc635d4d8ec4",
   "metadata": {},
   "source": [
    "Notice that two methods differ. While the box plot shows no outliers, the numeric method identifies 8 outliers to the left with only 1 to the right. The methods do differ at times, especially when the outliers in discrepency are marginal. If a data point is 4 standard deviations from the mean, both methods will identify it as an outlier. When close the cutoff points, some data points will be classified differently by the two methods.\n",
    "\n",
    "Given several marginal outliers to the left and 1 to the right, we see the skew to the left."
   ]
  },
  {
   "cell_type": "markdown",
   "id": "49e2dd2a-6eba-4231-a2ce-d181c60c45ea",
   "metadata": {},
   "source": [
    "### Example 3: Descriptive Statistics"
   ]
  },
  {
   "cell_type": "code",
   "execution_count": 17,
   "id": "e7dbcb7d-bf2c-46fd-aefb-cabd29e3a609",
   "metadata": {},
   "outputs": [
    {
     "name": "stdout",
     "output_type": "stream",
     "text": [
      "The standard descriptives for Life Expectancy \n",
      "   Mean =  71.6 \n",
      "   Standard Deviation =  8.12 \n",
      "   Sample Size =  183 \n",
      "\n",
      "The 5-number summary for Life Expectancy"
     ]
    },
    {
     "data": {
      "text/plain": [
       "   Min. 1st Qu.  Median    Mean 3rd Qu.    Max. \n",
       "  51.00   65.75   73.90   71.62   76.95   88.00 "
      ]
     },
     "metadata": {},
     "output_type": "display_data"
    }
   ],
   "source": [
    "cat('The standard descriptives for Life Expectancy \\n   Mean = ', round(mean(le),1),\n",
    "    '\\n   Standard Deviation = ', round(sd(le),2),\n",
    "    '\\n   Sample Size = ', length(le),\n",
    "    '\\n\\nThe 5-number summary for Life Expectancy')\n",
    "summary(le)"
   ]
  },
  {
   "cell_type": "markdown",
   "id": "3c7117c7-0ca6-49d4-8b3a-de5dab371aa7",
   "metadata": {},
   "source": [
    "Applying **Robb's Rule of Thumb,\" notice that the mean and median are significantly differ (e.g. differ by more than $\\frac{s}{10}$ ) since\n",
    "\n",
    "$$\\text{mean} - \\text{median} = 71.62 - 73.9 = -2.28$$\n",
    "\n",
    "The absolute value of the difference is greater than a tenth of the standard deviation:\n",
    "$$\\frac{s}{10} = \\frac{8.12}{10} = 0.812$$"
   ]
  },
  {
   "cell_type": "markdown",
   "id": "78d47bd7-2a5c-485b-ac11-94d48151b330",
   "metadata": {},
   "source": [
    "Robb's Rule of Thumb says that, in this instance, we would expect skew and outlier. This confirms the work above showing a skew to the left and several outliers to the left."
   ]
  },
  {
   "cell_type": "code",
   "execution_count": null,
   "id": "3102a515-10b5-4e08-a596-ec96ebdcf2a8",
   "metadata": {},
   "outputs": [],
   "source": []
  }
 ],
 "metadata": {
  "kernelspec": {
   "display_name": "R",
   "language": "R",
   "name": "ir"
  },
  "language_info": {
   "codemirror_mode": "r",
   "file_extension": ".r",
   "mimetype": "text/x-r-source",
   "name": "R",
   "pygments_lexer": "r",
   "version": "3.6.1"
  }
 },
 "nbformat": 4,
 "nbformat_minor": 5
}
