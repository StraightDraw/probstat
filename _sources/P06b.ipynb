{
 "cells": [
  {
   "cell_type": "markdown",
   "id": "8a1a5bc9-6337-48a2-ba67-20458dd0296f",
   "metadata": {},
   "source": [
    "# Worked Examples\n",
    "\n",
    "With discrete probability functions, we have two main tasks:\n",
    "\n",
    "1. Solve for and find a closed form equation for the probability density function (pdf).\n",
    "2. Use pdf in probability problem-solving.\n",
    "\n",
    "We will need our combinations and permutations formulae:"
   ]
  },
  {
   "cell_type": "code",
   "execution_count": 1,
   "id": "e0a7e450-6757-406d-a578-11fa6fc38025",
   "metadata": {},
   "outputs": [],
   "source": [
    "combin <- function(n, k) {\n",
    "    return(factorial(n) / ( factorial(k)*factorial(n-k) )) }\n",
    "perm <- function(n, k) {\n",
    "    return(combin(n,k) * factorial(k))}"
   ]
  },
  {
   "cell_type": "markdown",
   "id": "365c86ee-f752-4bb5-b633-3cee0b3d89c7",
   "metadata": {},
   "source": [
    "Let's do some mixed practice."
   ]
  },
  {
   "cell_type": "markdown",
   "id": "a6834a9a-09e1-4490-a623-be3e38e0183e",
   "metadata": {},
   "source": [
    "## Example 1\n",
    "\n",
    "In Texas Holdem, players are dealt 2 cards face down to begin. When those 2 cards have the same value as in JJ, the player is said to have a **pocket pair.** What is the probability that Hero sitting in at a new poker table sees his first pocket pair on the fifth hand dealt to him?"
   ]
  },
  {
   "cell_type": "markdown",
   "id": "96fdf159-1bc7-42b1-8bff-f2106dfea378",
   "metadata": {},
   "source": [
    "### Solution\n",
    "\n",
    "We first need to determine the probability of success. What is the probability of being dealt a pocket pair on any one hand? Let $\\textbf{pp}$ be the event of drawing a pocket pair, and we have the following:\n",
    "\n",
    "$$P(\\textbf{pp}) = \\frac{\\binom{13}{1}\\binom{4}{2}}{\\binom{52}{2}}=\\frac{1}{17}$$"
   ]
  },
  {
   "cell_type": "code",
   "execution_count": 3,
   "id": "b46ef4df-2556-491f-84e7-5527e25b7a79",
   "metadata": {},
   "outputs": [
    {
     "data": {
      "text/html": [
       "0.0588235294117632"
      ],
      "text/latex": [
       "0.0588235294117632"
      ],
      "text/markdown": [
       "0.0588235294117632"
      ],
      "text/plain": [
       "[1] 0.05882353"
      ]
     },
     "metadata": {},
     "output_type": "display_data"
    }
   ],
   "source": [
    "( combin(13,1) * combin(4,2) ) / combin(52,2)"
   ]
  },
  {
   "cell_type": "markdown",
   "id": "b99c607a-5304-4cbc-badb-5fb7f4b66598",
   "metadata": {},
   "source": [
    "```{figure} /images/Ti7.png\n",
    "---\n",
    "height: 400px\n",
    "name: pp probability\n",
    "---\n",
    "Simplifying the Fraction\n",
    "```"
   ]
  },
  {
   "cell_type": "code",
   "execution_count": null,
   "id": "cd0fb246-494e-4c9c-95ff-861e88fef3ed",
   "metadata": {},
   "outputs": [],
   "source": []
  },
  {
   "cell_type": "code",
   "execution_count": null,
   "id": "12f3314f-6eb8-4f48-8240-f9c0065b46f8",
   "metadata": {},
   "outputs": [],
   "source": []
  },
  {
   "cell_type": "code",
   "execution_count": null,
   "id": "197f16d0-b253-45c7-b10a-29d2e8cbf2a6",
   "metadata": {},
   "outputs": [],
   "source": []
  }
 ],
 "metadata": {
  "kernelspec": {
   "display_name": "R",
   "language": "R",
   "name": "ir"
  },
  "language_info": {
   "codemirror_mode": "r",
   "file_extension": ".r",
   "mimetype": "text/x-r-source",
   "name": "R",
   "pygments_lexer": "r",
   "version": "3.6.1"
  }
 },
 "nbformat": 4,
 "nbformat_minor": 5
}
