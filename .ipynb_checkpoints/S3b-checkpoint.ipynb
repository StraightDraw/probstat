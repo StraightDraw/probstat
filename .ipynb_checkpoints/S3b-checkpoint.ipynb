{
 "cells": [
  {
   "cell_type": "markdown",
   "id": "e2c8beb6-9ca3-472a-8da1-c24b589a03e8",
   "metadata": {},
   "source": [
    "# The $z$-Proportion Test"
   ]
  },
  {
   "cell_type": "code",
   "execution_count": null,
   "id": "971a85a6-bb23-41e0-8ec3-8452305e7c61",
   "metadata": {},
   "outputs": [],
   "source": []
  }
 ],
 "metadata": {
  "kernelspec": {
   "display_name": "R",
   "language": "R",
   "name": "ir"
  },
  "language_info": {
   "codemirror_mode": "r",
   "file_extension": ".r",
   "mimetype": "text/x-r-source",
   "name": "R",
   "pygments_lexer": "r",
   "version": "3.6.1"
  }
 },
 "nbformat": 4,
 "nbformat_minor": 5
}
