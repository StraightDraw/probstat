{
 "cells": [
  {
   "cell_type": "markdown",
   "id": "3cb6bc38-fe4b-4851-b5f6-664600599b44",
   "metadata": {},
   "source": [
    "# The $z$-Proportion Test\n",
    "\n",
    "While the $z$ procedures have been, in the main, replaced by $t$ procedures, one area of study still uses the the normal curve: qualitative data with research questions framed as proportions per category.\n",
    "\n",
    "## Uses for $z$-Proportion Testing\n",
    "\n",
    "The quintessential example of using $z$-proportion procedures is political polling where researchers estimate the percentage of votes a candidate is likely to receive in the primaries or general election. As our class formula sheet makes clear, we are estimating the proportion data for the qualitative variable $p$ using the following conversion to a normal distribution:"
   ]
  },
  {
   "cell_type": "markdown",
   "id": "71bb9e5a-7d00-4977-8f05-334f31421fc7",
   "metadata": {},
   "source": [
    "$$ z = \\frac{\\hat p - p_0}{\\sqrt{\\frac{p_0(1-p_0)}{n}}} $$"
   ]
  },
  {
   "cell_type": "markdown",
   "id": "65dc3427-4fb9-4fbd-b52a-0a8e196cfaa0",
   "metadata": {},
   "source": [
    "where the distribution of $p$ is approximately $N\\left(p, \\sqrt{\\frac{p(1-p))}{n}}\\right)$."
   ]
  },
  {
   "cell_type": "markdown",
   "id": "4c05771d-1097-4441-b40c-4ce4b6b3f4a0",
   "metadata": {},
   "source": [
    "## Example: Voting\n",
    "\n",
    "A gun control resolution is being considered for the metro Atlanta area. A pollster wishes to gauge opinion for or against the law in both Fulton and Gwinett counties. Test at the $\\alpha = 0.10$ level given that the data collected are shown in the table below.\n",
    "\n",
    "<table style=\"width:35%\">\n",
    "<tr><tr><th></th><th style=\"text-align: center;\">For</th> <th style=\"text-align: center;\">Against</th></tr>\n",
    "  <tr><th>Fulton</th><td style=\"text-align: center;\">281</td> <td style=\"text-align: center;\">192</td></tr>\n",
    "  <tr><th>Gwinnett</th><td style=\"text-align: center;\">214</td> <td style=\"text-align: center;\">229</td></tr>\n",
    "</table>"
   ]
  },
  {
   "cell_type": "markdown",
   "id": "d86217b4-8c8d-420b-8ef6-4d0953aac72d",
   "metadata": {},
   "source": [
    "### Hypotheses\n",
    "\n",
    "This is a 2-sample proportion test where we test for a difference in the percent of voters who plan to vote for the resolution.\n",
    "\n",
    "$$\\begin{align}H_0 &: p_f = p_g \\\\ H_a &: p_f \\neq p_g\\end{align}$$"
   ]
  },
  {
   "cell_type": "markdown",
   "id": "f6b27cb7-7d77-4ae3-b1dd-d9d120c24ea2",
   "metadata": {},
   "source": [
    "### Conduct the Test\n",
    "\n",
    "We first proceed with table and a formula. The [$z$ table](https://faculty.ung.edu/rsinn/3350/Table_Z.pdf) shows that $t^* = \\pm 1.65$ corresponds to $\\alpha = 0.05$ and $\\alpha = 0.95$ which, since we are conducting a 2-tailed hypothesis test, will be correct. The correct formula for a 2-sample $z$-proportion test is given below"
   ]
  },
  {
   "cell_type": "markdown",
   "id": "56540548-533b-4b17-ad06-f21e963c66f7",
   "metadata": {},
   "source": [
    "$$ z = \\frac{\\hat p_f - \\hat p_g}{\\sqrt{\\hat p(1-\\hat p)\\left(\\frac{1}{n_f}+\\frac{1}{n_g}\\right)}} $$"
   ]
  },
  {
   "cell_type": "markdown",
   "id": "3f04586b-eef3-436c-838a-94267f4b1113",
   "metadata": {},
   "source": [
    "where $\\hat p$ is the pooled (overall) proportion of successes."
   ]
  },
  {
   "cell_type": "markdown",
   "id": "ffec9a49-54b0-4ef6-ae52-f6db0cf21bce",
   "metadata": {},
   "source": [
    "$$\\begin{align}z &= \\frac{\\hat p_f - \\hat p_g}{\\sqrt{\\hat p(1-\\hat p)\\left(\\frac{1}{n_f}+\\frac{1}{n_g}\\right)}}\\\\&= \\frac{0.594 - 0.483}{\\sqrt{0.5404(0.4596)\\left(\\frac{1}{473}+\\frac{1}{443}\\right)}}\\\\&= \\frac{0.111}{\\sqrt{0.2484\\left(0.004372\\right)}}\\implies\\\\z &\\approx 3.3683 \\end{align}$$"
   ]
  },
  {
   "cell_type": "markdown",
   "id": "8657ce70-54bf-4b2b-800f-ae0f06f2fe12",
   "metadata": {},
   "source": [
    "Since $z = 3.3683 > 1.65 = z^*$, we reject the null."
   ]
  },
  {
   "cell_type": "markdown",
   "id": "821e9cfa-ccce-4e3e-a1ff-e8aef25bc850",
   "metadata": {},
   "source": [
    "### Using R to do all computations, we have the following:\n",
    "\n",
    "Creating the observed data matrix:"
   ]
  },
  {
   "cell_type": "code",
   "execution_count": 22,
   "id": "4159b2f9-9558-45cb-849e-5e018eba930f",
   "metadata": {},
   "outputs": [
    {
     "data": {
      "text/html": [
       "<table>\n",
       "<tbody>\n",
       "\t<tr><td>281</td><td>192</td></tr>\n",
       "\t<tr><td>214</td><td>229</td></tr>\n",
       "</tbody>\n",
       "</table>\n"
      ],
      "text/latex": [
       "\\begin{tabular}{ll}\n",
       "\t 281 & 192\\\\\n",
       "\t 214 & 229\\\\\n",
       "\\end{tabular}\n"
      ],
      "text/markdown": [
       "\n",
       "| 281 | 192 |\n",
       "| 214 | 229 |\n",
       "\n"
      ],
      "text/plain": [
       "     [,1] [,2]\n",
       "[1,] 281  192 \n",
       "[2,] 214  229 "
      ]
     },
     "metadata": {},
     "output_type": "display_data"
    }
   ],
   "source": [
    "obs = matrix(c(281, 214, 192, 229), ncol =2)\n",
    "obs"
   ]
  },
  {
   "cell_type": "markdown",
   "id": "4262ba12-11a3-405c-b7e6-2fe22cd46c7d",
   "metadata": {},
   "source": [
    "We set $\\textbf{correct} = \\textbf{FALSE}$ to turn off the continuity correction which will force R into a similar computation as we do with formulas and tables:"
   ]
  },
  {
   "cell_type": "code",
   "execution_count": 23,
   "id": "3e9c3687-db18-4a3e-b720-d8d520c2a861",
   "metadata": {},
   "outputs": [
    {
     "data": {
      "text/plain": [
       "\n",
       "\t2-sample test for equality of proportions without continuity\n",
       "\tcorrection\n",
       "\n",
       "data:  obs\n",
       "X-squared = 11.35, df = 1, p-value = 0.0007544\n",
       "alternative hypothesis: two.sided\n",
       "95 percent confidence interval:\n",
       " 0.04679303 0.17522769\n",
       "sample estimates:\n",
       "   prop 1    prop 2 \n",
       "0.5940803 0.4830700 \n"
      ]
     },
     "metadata": {},
     "output_type": "display_data"
    }
   ],
   "source": [
    "test <- prop.test(obs, correct = FALSE)\n",
    "test"
   ]
  },
  {
   "cell_type": "markdown",
   "id": "1eaf0ef8-43d3-45d9-88a1-f16fb7b58cf0",
   "metadata": {},
   "source": [
    "Our calculated test statistic $z = 3.3683$ should be within rounding error of the square root of R's calcuated test statistic:"
   ]
  },
  {
   "cell_type": "code",
   "execution_count": 24,
   "id": "60d17b8e-1885-4aac-bede-22dbb147c555",
   "metadata": {},
   "outputs": [
    {
     "data": {
      "text/html": [
       "<strong>X-squared:</strong> 3.36899244646954"
      ],
      "text/latex": [
       "\\textbf{X-squared:} 3.36899244646954"
      ],
      "text/markdown": [
       "**X-squared:** 3.36899244646954"
      ],
      "text/plain": [
       "X-squared \n",
       " 3.368992 "
      ]
     },
     "metadata": {},
     "output_type": "display_data"
    }
   ],
   "source": [
    "sqrt(test$statistic)"
   ]
  },
  {
   "cell_type": "markdown",
   "id": "8df24d5a-b9cb-4757-8524-7b2ca42b4729",
   "metadata": {},
   "source": [
    "We find that it is, and with $p = 0.000754 < 0.05 = \\alpha$, we reject the null.\n",
    "\n",
    "### Reporting Out\n",
    "\n",
    "Given that we reject the null ($p < 0.001$), we have evidence for a difference in voter preferrence on this referrendum. A higher percentage of Fulton County voters favor the referrendum than do Gwinnett County voters."
   ]
  },
  {
   "cell_type": "code",
   "execution_count": null,
   "id": "9f540369-55b4-4458-8261-efcd57a88180",
   "metadata": {},
   "outputs": [],
   "source": []
  }
 ],
 "metadata": {
  "kernelspec": {
   "display_name": "R",
   "language": "R",
   "name": "ir"
  },
  "language_info": {
   "codemirror_mode": "r",
   "file_extension": ".r",
   "mimetype": "text/x-r-source",
   "name": "R",
   "pygments_lexer": "r",
   "version": "3.6.1"
  }
 },
 "nbformat": 4,
 "nbformat_minor": 5
}
