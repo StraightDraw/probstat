{
 "cells": [
  {
   "cell_type": "markdown",
   "id": "77b017a9-bde6-4921-bbec-2dc26f5261ed",
   "metadata": {},
   "source": [
    "# Expected Value"
   ]
  },
  {
   "cell_type": "markdown",
   "id": "ff759b56-6d65-4635-86d4-9176e550f067",
   "metadata": {},
   "source": [
    "Professional gamblers often talk about the **equity** or **EV** of their playing decisions. Poker pros think of every bet and call as an investment. Professional investors on Wall Street think in the same terms. **EV** stands for **expected value**, and positive **EV** is good. In both gambling and investing in the stock market, there is no guarantee that positive **EV** will lead to a positive outcome. Yet, on average and over time, playing with positive **EV** will win money. Negative *EV* is bad - it's means the play loses money on average."
   ]
  },
  {
   "cell_type": "markdown",
   "id": "ded30131-a366-427a-816b-fca43df2f619",
   "metadata": {},
   "source": [
    "## Definitions\n",
    "- The **expected value** of a simple random variable $x\\in X$ is given by:\n",
    "\n",
    "$$E(X)=\\sum x_iP(x_i)$$\n",
    "\n",
    "for all $i$ such that $x_i\\in X$. The expected value is often referred to as the **mean** of $X$ and written as\n",
    "\n",
    "$$\\mu_X=E(X)$$"
   ]
  },
  {
   "cell_type": "markdown",
   "id": "bfbbd5a2-cdd6-4ac3-a2e2-a7819557d034",
   "metadata": {},
   "source": [
    "- The **variance** of a simple random variable $x\\in X$ is given by:\n",
    "\n",
    "$$V(X) = E\\left(X^2\\right)-E\\left(X\\right)^2$$\n",
    "\n",
    "Note that, since $\\mu_X=E(X)$, we can write variance as follows:\n",
    "\n",
    "$$V(X) = E\\left(X^2\\right)-\\mu_X^2$$\n",
    "\n",
    "- The **standard deviation** is the square root of the variance:\n",
    "\n",
    "$$\\sigma_X^2=V(X)$$"
   ]
  },
  {
   "cell_type": "markdown",
   "id": "44ad1747-7ac3-4212-92ff-e37587bf378b",
   "metadata": {},
   "source": [
    "The expected value of a probability experiment is the value that, on average, one would expect to earn if the experiment were repeated many, many times. The variance measures how widely the different outcomes spread apart. We generally prefer standard deviation over the variance because the standard deviation is in the same the units as the original outcomes.\n",
    "\n",
    "Why do millions of reasonably intelligent people play the lottery which has an expected value of $\\mu_X\\approx -\\$0.33$ for every dollar invested? Because of the extremely high variance. Yes, most times you lose a little bit of money, but the huge variance means that, if you win, you win really, really big. Slot machines with their $\\mu_X \\approx -\\$0.05$ per dollar work on the exact same principle, but on a much smaller scale. In fact, most gambling games take advantage of this alluring facet of probability theory: small, negative expected values paired with huge variance so that, if you do win, you have story to tell."
   ]
  },
  {
   "cell_type": "markdown",
   "id": "77909c5f-96ca-4c1f-9c1f-345879f37689",
   "metadata": {},
   "source": [
    "## Examples\n",
    "\n",
    "Expected value and variance calculations are not difficult. Several examples should suffice to see how the calculations work, and calculator tips are given, as well.\n",
    "\n",
    "### Die Roll\n",
    "\n",
    "What is the expected value, variance and standard deviation of rolling a standard, fair, 6-sided die?\n",
    "\n",
    "#### Expected Value\n",
    "\n",
    "We start with our expected value formula and substitute the correct values for our given scenario. The calculations and simplifications follow:\n",
    "\n",
    "$$\\begin{align}E(X)&=\\sum x_iP(x_i)\\\\\\\\&=(1)\\frac{1}{6}+(2)\\frac{1}{6}+(3)\\frac{1}{6}+(4)\\frac{1}{6}+(5)\\frac{1}{6}+(6)\\frac{1}{6}\\\\\\\\&=\\frac{1+2+3+4+5+6}{6}\\\\\\\\&=\\frac{21}{6}\\\\\\\\&=\\frac{7}{2}\\\\\\\\&=3.5\\end{align}$$\n",
    "\n",
    "To summarize, we have the following:\n",
    "\n",
    "$$E(X)=3.5$$\n",
    "\n",
    "and thus:\n",
    "\n",
    "$$\\mu_X=3.5$$"
   ]
  },
  {
   "cell_type": "markdown",
   "id": "e810a2ef-a6d1-4356-8dfc-8000e7b964c7",
   "metadata": {},
   "source": [
    "#### Variance and Standard Deviation\n",
    "\n",
    "Given the formula for variance, $V(x) = E(X^2) - E(X)^2$, we first must calculate $E(X^2)$ which is similar to the expected value calcuations above with the outcome values squared:\n",
    "\n",
    "$$\\begin{align}E(X^2) &= (1)^2\\frac{1}{6}+(2)^2\\frac{1}{6}+(3)^2\\frac{1}{6}+(4)^2\\frac{1}{6}+(5)^2\\frac{1}{6}+(6)^2\\frac{1}{6}\\\\\\\\&= (1)\\frac{1}{6}+(4)\\frac{1}{6}+(9)\\frac{1}{6}+(16)\\frac{1}{6}+(25)\\frac{1}{6}+(36)\\frac{1}{6}\\\\\\\\&= \\frac{91}{6}\\\\\\\\&\\approx 15.1667\\end{align}$$\n",
    "\n",
    "Then, we find that:\n",
    "\n",
    "$$\\begin{align}V(X) &= E(X^2) - \\mu_X^2\\\\\\\\&= \\frac{91}{6} - \\left(\\frac{7}{2}\\right)^2\\\\\\\\&= \\frac{91}{6} - \\frac{49}{4}\\\\\\\\&= \\frac{182-147}{12}\\\\\\\\&= \\frac{35}{12} \\approx 2.91667\\end{align}$$"
   ]
  },
  {
   "cell_type": "markdown",
   "id": "ae2d727b-3641-474d-aaf9-e364662df99b",
   "metadata": {},
   "source": [
    "Finally, we can calculate the standard deviation as follows:\n",
    "\n",
    "$$\\begin{align}\\sigma_X^2&= V(X)=\\frac{35}{12}\\implies \\\\\\\\ \\sigma_X &=\\sqrt{\\frac{35}{12}}\\\\\\\\&\\approx 1.70783 \\end{align}$$"
   ]
  },
  {
   "cell_type": "markdown",
   "id": "b2fba397-432d-4b90-98c2-c7a37d9a786f",
   "metadata": {},
   "source": [
    "#### Solution\n",
    "\n",
    "Thus, the requested values are given below:\n",
    "\n",
    "- $E(X) = 3.5$\n",
    "\n",
    "- $V(X) = \\frac{35}{12}$\n",
    "\n",
    "- $\\sigma_X \\approx 1.70783$"
   ]
  },
  {
   "cell_type": "markdown",
   "id": "f7c4b6a2-d42a-4938-8710-5ca8129a2d42",
   "metadata": {},
   "source": [
    "### Example: Spinner\n",
    "\n",
    "```{sidebar}\n",
    "Let's agree that the spinner cannot land on the line between sectors. It can only land in a sector.\n",
    "```\n",
    "The spinner below has a 25\\% chance of landing on each sector. When it lands in a sector, the person spinning earns the number of points shown for that sector. Find the expected value, variance and standard deviation for a spin."
   ]
  },
  {
   "cell_type": "markdown",
   "id": "a79c04c4-9567-458c-a705-b22d17798293",
   "metadata": {},
   "source": [
    "```{image} /images/Spinner2358.png\n",
    ":alt: Spinner\n",
    ":width: 175px\n",
    ":align: center\n",
    "```"
   ]
  },
  {
   "cell_type": "markdown",
   "id": "2ea4909e-854a-4367-ae85-cebf130d7ae9",
   "metadata": {},
   "source": [
    "#### Expected Value\n",
    "\n",
    "Let's substitute and simplify efficiently:\n",
    "\n",
    "$$\\begin{align}E(X) &= \\frac{2+3+5+8}{4} = \\frac{18}{4}= \\frac{9}{2}\\\\\\\\&=4.5\\end{align}$$"
   ]
  },
  {
   "cell_type": "markdown",
   "id": "cced9240-0b92-46d1-a4aa-dd9530bbf13b",
   "metadata": {},
   "source": [
    "#### Variance and Standard Deviation\n",
    "\n",
    "$$\\begin{align}V(X) &= E(X^2) - \\mu_X^2 \\\\\\\\ &= \\frac{4+9+25+64}{5}-\\left(\\frac{9}{2}\\right)^2\\\\\\\\&=\\frac{102}{5}-\\frac{81}{4}\\\\\\\\&=\\frac{408-405}{10} = \\frac{3}{20}\\\\\\\\&=0.15\\end{align}$$"
   ]
  },
  {
   "cell_type": "markdown",
   "id": "c994e7ae-4c4a-461e-86bf-735a7f6bc57a",
   "metadata": {},
   "source": [
    "Taking the square root, we find $\\sigma_X$ as follows:\n",
    "\n",
    "$$\\sigma_X = \\sqrt{0.15} \\approx 0.387298$$"
   ]
  }
 ],
 "metadata": {
  "kernelspec": {
   "display_name": "R",
   "language": "R",
   "name": "ir"
  },
  "language_info": {
   "codemirror_mode": "r",
   "file_extension": ".r",
   "mimetype": "text/x-r-source",
   "name": "R",
   "pygments_lexer": "r",
   "version": "3.6.1"
  }
 },
 "nbformat": 4,
 "nbformat_minor": 5
}