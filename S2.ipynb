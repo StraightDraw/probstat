{
 "cells": [
  {
   "cell_type": "markdown",
   "id": "50dabac9-2237-4045-9038-b24141d0d25b",
   "metadata": {
    "editable": true,
    "slideshow": {
     "slide_type": ""
    },
    "tags": []
   },
   "source": [
    "# Sampling Distributions and the Central Limit Theorem"
   ]
  },
  {
   "cell_type": "markdown",
   "id": "7f5a1b4a-e7ab-4f99-a8c1-53925392dacf",
   "metadata": {},
   "source": [
    "A key connection between probability and statistics is the concept of <span style=\"color:green; font-weight:bold\">sampling distributions</span>.\n",
    "\n",
    "## Sampling Distributions"
   ]
  },
  {
   "cell_type": "markdown",
   "id": "89fcc0ba-cb34-4776-8ac9-5b942ee678de",
   "metadata": {},
   "source": [
    "```{sidebar}\n",
    "Before we dig into sampling distributions and statistical theory, we need to understand sampling. We have several pre-packaged commands in R that allow is to quickly generate sample data from a specific distribution. We can also sample rows from a dataframe. The pages in this section will demonstrate how to use these functions together with specific examples.\n",
    "```"
   ]
  },
  {
   "cell_type": "markdown",
   "id": "d3e6af17-6221-4b3c-ba43-a7b76684025f",
   "metadata": {},
   "source": [
    "**Definition.** For a fixed population and fixed sample size $k\\in \\mathbb{N}$, a collection of values of the mean over $n$ samples of size $k$ forms what we call a <span style=\"color:green; font-weight:bold\">sampling distribution</span>.\n",
    "\n",
    "Suppose that we have a sampling distribution:\n",
    "\n",
    "$$X =\\left\\{X_1, X_2, \\cdots, X_n\\right\\}$$\n",
    "\n",
    "where $\\bar x_i$ is the mean of the sample $X_i$.\n",
    "\n",
    "For a sampling distribution, we know that:\n",
    "- The sample size is $k$ for all $X_i$.\n",
    "- The number of samples in our sampling distribution is $n$.\n",
    "\n",
    "We refer to the <span style=\"color:blue; font-weight:bold\">grand mean</span> $\\bar x$ as the mean of the $n$ sample means, e.g.\n",
    "\n",
    "$$\\bar x = \\sum_{i=1}^n\\frac{\\bar x_i}{n}$$"
   ]
  },
  {
   "cell_type": "markdown",
   "id": "40869ae5-fed5-40ee-a2cd-c6f5bd04b29e",
   "metadata": {},
   "source": [
    "## Two Vital Theorems\n",
    "\n",
    "The <span style=\"color:blue; font-weight:bold\">Centrol Limit Theorem</span> (CLT) and <span style=\"color:blue; font-weight:bold\">Law of Large Numbers</span> govern how sampling distributions work:\n",
    "\n",
    "1. **Central Limit Theorem.** The means $\\bar x_i$ of a sampling distribution are approximately normal (bell-shaped) and centered upon $\\mu_0$, the population average. Additionally, as sample size $k$ increases, $\\bar x \\rightarrow \\mu_0$.\n",
    "2. **Law of Large Numbers.** As the number of samples $n$ in our sampling distribution increases, our estimates of the population mean $\\mu_0$ increase in accuracy.\n",
    "\n",
    "Thus, the CLT guarantees a bell-shaped distribution centered upon the population average, and the Law of Large Numbers works like a lever that allows us to control the accuracy. Increased sample size $k$ leads to increased accuracy by the CLT, and increased number of samples $n$ leads to increased accuracy by the Law of Large Numbers.\n",
    "\n",
    "The Law of Large Numbers is vital due to the fact that the sample size is often limited. For example, sample size should be kept to less than $10\\%$ of the population size. The population of all SAT scores for Forsyth County, GA, in 2025 may contain a few thousand items, while the population of SAT scores for the United States will contain millions of items. When the size of the population the sampling distribution is drawn from is limited, the Law of Large Numbers allows us to take many more samples to improve accuracy."
   ]
  },
  {
   "cell_type": "markdown",
   "id": "9fa6a1d8-56c9-486d-9ada-2024d38f03df",
   "metadata": {},
   "source": [
    "## Law of Large Numbers\n",
    "\n",
    "If $\\bar x$ is the grand mean of $n$ many sample averages $\\bar x_i$ which are all have the same sample size $k$ and are drawn from the same population (or distribution) with mean $\\mu$, then\n",
    "\n",
    "$$n \\rightarrow \\infty \\implies \\bar{x} \\rightarrow \\mu$$\n",
    "\n",
    "## Central Limit Theorem\n",
    "\n",
    "Assume $\\bar x$ is the grand mean of $n$ many sample averages $\\bar x_i$ which all have the sample size $k$ and are drawn from the same population (or distribution) with mean $\\mu$ and population standard deviation $\\sigma$. For large values of $k$, this sampling distribution can be assumed approximately normal. Specifically, the sampling distribution can be assumed to be\n",
    "\n",
    "$$N\\left(\\mu, \\frac{\\sigma}{\\sqrt{k}} \\right)$$"
   ]
  },
  {
   "cell_type": "markdown",
   "id": "b042c7eb-6642-4349-8d1d-898a8041d96d",
   "metadata": {},
   "source": [
    "## Getting Started\n",
    "\n",
    "To prepare for the examples and demonstrations, we two things. First, we need data to work with. Second, we need our main sampling function: **sample.data.frame**.\n",
    "\n",
    "**Run the cell below to load 4 data sets.**"
   ]
  },
  {
   "cell_type": "code",
   "execution_count": 1,
   "id": "136b2323-d638-4474-abd2-f0e66293acb4",
   "metadata": {
    "editable": true,
    "slideshow": {
     "slide_type": ""
    },
    "tags": [
     "hide-input"
    ]
   },
   "outputs": [],
   "source": [
    "united <- read.csv('http://faculty.ung.edu/rsinn/data/united.csv')\n",
    "p <- read.csv('http://faculty.ung.edu/rsinn/data/personality.csv')\n",
    "airports <- read.csv('http://faculty.ung.edu/rsinn/data/airports.csv')\n",
    "births <-  read.csv('http://faculty.ung.edu/rsinn/data/baby.csv')"
   ]
  },
  {
   "cell_type": "markdown",
   "id": "9476e8f4-ac83-4198-943e-b77fb894a4e1",
   "metadata": {
    "editable": true,
    "slideshow": {
     "slide_type": ""
    },
    "tags": []
   },
   "source": [
    "We will use three functions to perform the sampling:\n",
    "\n",
    "1. **rflip** -- simulates a coin flip or binomial distribution.\n",
    "2. **rspin** -- simulates a spinner which allows for a couple different distributions.\n",
    "3. **sample.data.frame** -- draw a random sample of rows from a given data frame.\n",
    "\n",
    "The code for these functions has been adapted from the documentation of the classic *mosaic* package which is still available in R given that you have the correct versioning for R and all mosaic's required dependencies.\n",
    "\n",
    "**Run the cell below to activate the function:**\n",
    "\n",
    "<font color=\"green\"><center><b>rflip</b></center></font>"
   ]
  },
  {
   "cell_type": "code",
   "execution_count": 2,
   "id": "9e5ae86e-d4ee-433f-bef3-511284305887",
   "metadata": {
    "editable": true,
    "slideshow": {
     "slide_type": ""
    },
    "tags": [
     "hide-input"
    ]
   },
   "outputs": [],
   "source": [
    "rflip <- function(n=1, prob=.5, quiet=FALSE, verbose = !quiet, summarize = FALSE, \n",
    "                  summarise = summarize) {\n",
    "\tif ( ( prob > 1 && is.integer(prob) ) ) {  \n",
    "\t\t# swap n and prob\n",
    "\t\ttemp <- prob\n",
    "\t\tprob <- n\n",
    "\t\tn <- temp\n",
    "\t}\n",
    "\tif (summarise) {\n",
    "\t  heads <- rbinom(1, n, prob)\n",
    "\t  return(data.frame(n = n, heads = heads, tails = n - heads, prob = prob))\n",
    "\t} else {\n",
    "\t  r <- rbinom(n,1,prob)\n",
    "\t  result <- c('T','H')[ 1 + r ]\n",
    "\t  heads <- sum(r)\n",
    "\t  attr(heads,\"n\") <- n\n",
    "\t  attr(heads,\"prob\") <- prob \n",
    "\t  attr(heads,\"sequence\") <- result\n",
    "\t  attr(heads,\"verbose\") <- verbose\n",
    "\t  class(heads) <- 'cointoss'\n",
    "\t  return(heads)\n",
    "\t}\n",
    "}"
   ]
  },
  {
   "cell_type": "markdown",
   "id": "8369a21c-b7bc-4d97-9630-e8f191f65ed9",
   "metadata": {
    "editable": true,
    "slideshow": {
     "slide_type": ""
    },
    "tags": []
   },
   "source": [
    "Let's run an example."
   ]
  },
  {
   "cell_type": "code",
   "execution_count": 3,
   "id": "6808627e-6630-4c56-872b-b7c483afaeb5",
   "metadata": {
    "editable": true,
    "slideshow": {
     "slide_type": ""
    },
    "tags": [
     "hide-output"
    ]
   },
   "outputs": [
    {
     "data": {
      "text/plain": [
       "[1] 6\n",
       "attr(,\"n\")\n",
       "[1] 20\n",
       "attr(,\"prob\")\n",
       "[1] 0.25\n",
       "attr(,\"sequence\")\n",
       " [1] \"T\" \"T\" \"T\" \"T\" \"T\" \"T\" \"T\" \"H\" \"T\" \"H\" \"T\" \"H\" \"T\" \"H\" \"T\" \"H\" \"T\" \"H\" \"T\"\n",
       "[20] \"T\"\n",
       "attr(,\"verbose\")\n",
       "[1] TRUE\n",
       "attr(,\"class\")\n",
       "[1] \"cointoss\""
      ]
     },
     "metadata": {},
     "output_type": "display_data"
    }
   ],
   "source": [
    "rflip(20, prob = 1/4)"
   ]
  },
  {
   "cell_type": "markdown",
   "id": "c059151f-aa8f-4d6d-9543-3e687941a61d",
   "metadata": {
    "editable": true,
    "slideshow": {
     "slide_type": ""
    },
    "tags": []
   },
   "source": [
    "```{hint}\n",
    "Notice how the summarize = TRUE option organizes the output.\n",
    "```"
   ]
  },
  {
   "cell_type": "code",
   "execution_count": 4,
   "id": "345351a1-36e8-4c2d-8672-d4c7a3816948",
   "metadata": {},
   "outputs": [
    {
     "data": {
      "text/html": [
       "<table>\n",
       "<thead><tr><th scope=col>n</th><th scope=col>heads</th><th scope=col>tails</th><th scope=col>prob</th></tr></thead>\n",
       "<tbody>\n",
       "\t<tr><td>20  </td><td>3   </td><td>17  </td><td>0.25</td></tr>\n",
       "</tbody>\n",
       "</table>\n"
      ],
      "text/latex": [
       "\\begin{tabular}{r|llll}\n",
       " n & heads & tails & prob\\\\\n",
       "\\hline\n",
       "\t 20   & 3    & 17   & 0.25\\\\\n",
       "\\end{tabular}\n"
      ],
      "text/markdown": [
       "\n",
       "| n | heads | tails | prob |\n",
       "|---|---|---|---|\n",
       "| 20   | 3    | 17   | 0.25 |\n",
       "\n"
      ],
      "text/plain": [
       "  n  heads tails prob\n",
       "1 20 3     17    0.25"
      ]
     },
     "metadata": {},
     "output_type": "display_data"
    }
   ],
   "source": [
    "rflip(20, prob = 1/4, summarize = TRUE)"
   ]
  },
  {
   "cell_type": "markdown",
   "id": "f5b51cdf-f6b4-4835-8413-66ceb1fd7f42",
   "metadata": {},
   "source": [
    "```{tip}\n",
    "To extract the successes, (e.g. \"heads\"), we use our knowlege of how data frames work. Below, we use [row,column] notation to grab the value showing the number of successes.\n",
    "```"
   ]
  },
  {
   "cell_type": "code",
   "execution_count": 5,
   "id": "f39c84a9-e943-4d66-9242-9c5919c9d7e4",
   "metadata": {},
   "outputs": [
    {
     "data": {
      "text/html": [
       "3"
      ],
      "text/latex": [
       "3"
      ],
      "text/markdown": [
       "3"
      ],
      "text/plain": [
       "[1] 3"
      ]
     },
     "metadata": {},
     "output_type": "display_data"
    }
   ],
   "source": [
    "rflip(20, prob = 1/4, summarize = TRUE)[1,2]"
   ]
  },
  {
   "cell_type": "markdown",
   "id": "33367148-5c6c-4364-b361-cc9682606895",
   "metadata": {},
   "source": [
    "## For Loops\n",
    "\n",
    "We will use a for loop to create sampling distributions, and the instructions for how to set up and [how to use for loops is linked](https://straightdraw.github.io/probstat/A2g.html). The code block we use for creating a sampling distribution with histogram is developed at the linked page."
   ]
  },
  {
   "cell_type": "markdown",
   "id": "09af5377-cc1d-48c9-950b-a2c0a6fe72a0",
   "metadata": {},
   "source": [
    "## Example 1: M&M's\n",
    "\n",
    "A collection vat in the manufacturing process at the M&M plant has millions of unsorted candies. There is 25\\% chance of drawing a red candy. What is the expected number of red candies that will be drawn if we draw a sample of size 50?\n",
    "\n",
    "The main <span style = 'color:blue;font-weight:bold'>for loop</span> is created below along with a display of middle 90\\% of the results distribution indicated by blue vertical lines."
   ]
  },
  {
   "cell_type": "code",
   "execution_count": 15,
   "id": "41c68aa7-312f-4674-9220-ba32ed8a7c50",
   "metadata": {},
   "outputs": [
    {
     "name": "stdout",
     "output_type": "stream",
     "text": [
      "The mean of the simulated distribution is\n",
      "    12.403"
     ]
    },
    {
     "data": {
      "image/png": "[encoded data removed]",
      "text/plain": [
       "Plot with title \"Histogram of Binomial: n = 50, p =0.25\""
      ]
     },
     "metadata": {},
     "output_type": "display_data"
    }
   ],
   "source": [
    "num_success <- c()     # create a vector to store the number of successes for each sample drawn\n",
    "num_samps = 1000       # set the number of samples to be drawn\n",
    "\n",
    "for (i in 1:num_samps){\n",
    "    temp <- rflip(50, prob = 1/4, summarize = TRUE)[1,2]     # draw 50 candies, count numer of red\n",
    "    num_success[i] <- temp     # count and store the number of red candies from this trial\n",
    "}\n",
    "\n",
    "lower <- quantile(num_success, prob = 0.05)     # Calcuate the 5th percentile.\n",
    "upper <- quantile(num_success, prob = 0.95)     # Calcuate the 95th percentile.\n",
    "cat('The mean of the simulated distribution is\\n   ',mean(num_success) )\n",
    "hist(num_success, breaks = 8, main = 'Histogram of Binomial: n = 50, p =0.25')\n",
    "abline( v = lower, col=\"blue\")     # Add vertical line at 5th percentile\n",
    "abline(v = upper, col=\"blue\")      # Add vertical line at 95th percentile           "
   ]
  },
  {
   "cell_type": "markdown",
   "id": "f40b6591-3637-49e5-92b1-617431785010",
   "metadata": {},
   "source": [
    "### Expected Value\n",
    "\n",
    "The expected value for the binomial distribution is given by:\n",
    "$$E(X) = np$$\n",
    "where $n$ is the number of trials conducted and $p$ is the probability of success. This table summarizes the investigation to include the example above along with the three below:\n",
    "\n",
    "<table class=\"center\" style=\"width:65%; text-align:center;\">\n",
    "  <tr>\n",
    "    <th>n</th>\n",
    "    <th>p</th> \n",
    "    <th>np</th>\n",
    "    <th>Simulation Average</th>\n",
    "    <th>Middle 90% Interval</th>\n",
    "  </tr>\n",
    "  <tr>\n",
    "    <td>50</td>\n",
    "    <td>0.25</td>\n",
    "    <td>12.5</td>\n",
    "    <td>12.403</td>\n",
    "    <td>(7,18)</td>\n",
    "  </tr>\n",
    "  <tr>\n",
    "    <td>100</td>\n",
    "    <td>0.25</td>\n",
    "    <td>25</td>\n",
    "    <td>25.087</td>\n",
    "    <td>(17,32)</td>\n",
    "  </tr>\n",
    "  <tr>\n",
    "    <td>200</td>\n",
    "    <td>0.25</td>\n",
    "    <td>50</td>\n",
    "    <td>49.962</td>\n",
    "    <td>(40,60)</td>\n",
    "  </tr>\n",
    "  <tr>\n",
    "    <td>500</td>\n",
    "    <td>0.25</td>\n",
    "    <td>125</td>\n",
    "    <td>124.731</td>\n",
    "    <td>(109,140)</td>\n",
    "  </tr>\n",
    "</table>"
   ]
  },
  {
   "cell_type": "markdown",
   "id": "1ae7afa4-64d3-477e-9982-e4ee0b096050",
   "metadata": {},
   "source": [
    "Note how the estimated average from the simulation becomes more accurate as sample size $n$ increases. Also, the width of the interval as a percentage of the sample size grows smaller and more accurate as $n$ increase.\n",
    "\n",
    "<span style='color:blue;font-weight:bold'>These increases in accuracy as $n$ increases shows the Central Limit Theorem at work.</span>"
   ]
  },
  {
   "cell_type": "code",
   "execution_count": 6,
   "id": "db3726f3-3e0a-4497-957e-f218d4a222ec",
   "metadata": {},
   "outputs": [
    {
     "name": "stdout",
     "output_type": "stream",
     "text": [
      "The mean of the simulated distribution is\n",
      "    25.087"
     ]
    },
    {
     "data": {
      "image/png": "[encoded data removed]",
      "text/plain": [
       "Plot with title \"Histogram of Binomial: n = 100, p =0.25\""
      ]
     },
     "metadata": {},
     "output_type": "display_data"
    }
   ],
   "source": [
    "num_success <- c()     # create a vector to store the number of successes for each sample drawn\n",
    "num_samps = 1000       # set the number of samples to be drawn\n",
    "\n",
    "for (i in 1:num_samps){\n",
    "    temp <- rflip(100, prob = 1/4, summarize = TRUE)[1,2]     # draw 100 candies, count numer of red\n",
    "    num_success[i] <- temp     # count and store the number of red candies from this trial\n",
    "}\n",
    "\n",
    "lower <- quantile(num_success, prob = 0.05)     # Calcuate the 5th percentile.\n",
    "upper <- quantile(num_success, prob = 0.95)     # Calcuate the 95th percentile.\n",
    "cat('The mean of the simulated distribution is\\n   ',mean(num_success) )\n",
    "hist(num_success, breaks = 15, main = 'Histogram of Binomial: n = 100, p =0.25')\n",
    "abline( v = lower, col=\"blue\")     # Add vertical line at 5th percentile\n",
    "abline(v = upper, col=\"blue\")      # Add vertical line at 95th percentile   "
   ]
  },
  {
   "cell_type": "code",
   "execution_count": 9,
   "id": "962a5e49-7d88-4781-ba5b-010a779dffed",
   "metadata": {},
   "outputs": [
    {
     "name": "stdout",
     "output_type": "stream",
     "text": [
      "The mean of the simulated distribution is\n",
      "    49.962"
     ]
    },
    {
     "data": {
      "image/png": "[encoded data removed]",
      "text/plain": [
       "Plot with title \"Histogram of Binomial: n = 200, p =0.25\""
      ]
     },
     "metadata": {},
     "output_type": "display_data"
    }
   ],
   "source": [
    "num_success <- c()     # create a vector to store the number of successes for each sample drawn\n",
    "num_samps = 1000       # set the number of samples to be drawn\n",
    "\n",
    "for (i in 1:num_samps){\n",
    "    temp <- rflip(200, prob = 1/4, summarize = TRUE)[1,2]     # draw 200 candies, count numer of red\n",
    "    num_success[i] <- temp     # count and store the number of red candies from this trial\n",
    "}\n",
    "\n",
    "lower <- quantile(num_success, prob = 0.05)     # Calcuate the 5th percentile.\n",
    "upper <- quantile(num_success, prob = 0.95)     # Calcuate the 95th percentile.\n",
    "cat('The mean of the simulated distribution is\\n   ',mean(num_success) )\n",
    "hist(num_success, breaks = 15, main = 'Histogram of Binomial: n = 200, p =0.25')\n",
    "abline( v = lower, col=\"blue\")     # Add vertical line at 5th percentile\n",
    "abline(v = upper, col=\"blue\")      # Add vertical line at 95th percentile "
   ]
  },
  {
   "cell_type": "code",
   "execution_count": 10,
   "id": "fa894964-caf2-4505-ad3d-a4010b909fc5",
   "metadata": {},
   "outputs": [
    {
     "name": "stdout",
     "output_type": "stream",
     "text": [
      "The mean of the simulated distribution is\n",
      "    124.731"
     ]
    },
    {
     "data": {
      "image/png": "[encoded data removed]",
      "text/plain": [
       "Plot with title \"Histogram of Binomial: n = 500, p =0.25\""
      ]
     },
     "metadata": {},
     "output_type": "display_data"
    }
   ],
   "source": [
    "num_success <- c()     # create a vector to store the number of successes for each sample drawn\n",
    "num_samps = 1000       # set the number of samples to be drawn\n",
    "\n",
    "for (i in 1:num_samps){\n",
    "    temp <- rflip(500, prob = 1/4, summarize = TRUE)[1,2]     # draw 500 candies, count numer of red\n",
    "    num_success[i] <- temp     # count and store the number of red candies from this trial\n",
    "}\n",
    "\n",
    "lower <- quantile(num_success, prob = 0.05)     # Calcuate the 5th percentile.\n",
    "upper <- quantile(num_success, prob = 0.95)     # Calcuate the 95th percentile.\n",
    "cat('The mean of the simulated distribution is\\n   ',mean(num_success) )\n",
    "hist(num_success, breaks = 20, main = 'Histogram of Binomial: n = 500, p =0.25')\n",
    "abline( v = lower, col=\"blue\")     # Add vertical line at 5th percentile\n",
    "abline(v = upper, col=\"blue\")      # Add vertical line at 95th percentile "
   ]
  },
  {
   "cell_type": "markdown",
   "id": "241a7903-bbc8-48d6-bebf-149311d92643",
   "metadata": {},
   "source": [
    "## Example: Estimating Narcissism\n",
    "\n",
    "Let's work with an example from the **personality** data set: narcissism. Let's generate many, many samples of the same size. We'll find the averages from each sample and use them to estimate the average level of narcissism for students at UNG."
   ]
  },
  {
   "cell_type": "markdown",
   "id": "21e6c321-7c2e-4ce1-ba36-3ed4b5607ce8",
   "metadata": {},
   "source": [
    "### First Step: Generating Samples of Size $n=10$\n",
    "\n",
    "Let's begin with the R commands necessary to sample the **Narc** column in the *personality* data frame. We will use the\n",
    "\n",
    "<center><font color=\"red\"><b>sample.data.frame()</b></font></center>\n",
    "\n",
    "function to draw a sample. We first need to load the function."
   ]
  },
  {
   "cell_type": "code",
   "execution_count": 14,
   "id": "c5162710-43c5-46c0-9969-f2954f87f280",
   "metadata": {
    "editable": true,
    "slideshow": {
     "slide_type": ""
    },
    "tags": [
     "hide-input"
    ]
   },
   "outputs": [],
   "source": [
    "sample.data.frame <- function(x, size, replace = FALSE, prob = NULL, groups=NULL, \n",
    "                              orig.ids = TRUE, fixed = names(x), shuffled = c(),\n",
    "                              invisibly.return = NULL, ...) {\n",
    "  if( missing(size) ) size = nrow(x)\n",
    "  if( is.null(invisibly.return) ) invisibly.return = size>50 \n",
    "  shuffled <- intersect(shuffled, names(x))\n",
    "  fixed <- setdiff(intersect(fixed, names(x)), shuffled)\n",
    "  n <- nrow(x)\n",
    "  ids <- 1:n\n",
    "  groups <- eval( substitute(groups), x )\n",
    "  newids <- sample(n, size, replace=replace, prob=prob, ...)\n",
    "  origids <- ids[newids]\n",
    "  result <- x[newids, , drop=FALSE]\n",
    "  \n",
    "  idsString <- as.character(origids)\n",
    "  \n",
    "  for (column in shuffled) {\n",
    "    cids <- sample(newids, groups=groups[newids])\n",
    "    result[,column] <- x[cids,column]\n",
    "    idsString <- paste(idsString, \".\", cids, sep=\"\")\n",
    "  }\n",
    "  \n",
    "  result <-  result[ , union(fixed,shuffled), drop=FALSE]\n",
    "  if (orig.ids) result$orig.id <- idsString\n",
    "    \n",
    "  if (invisibly.return) { return(invisible(result)) } else {return(result)}\n",
    "}"
   ]
  },
  {
   "cell_type": "markdown",
   "id": "2c7e25f3-094e-408d-9a7d-dfdc9a2e7a00",
   "metadata": {
    "editable": true,
    "slideshow": {
     "slide_type": ""
    },
    "tags": []
   },
   "source": [
    "<span style = 'color:blue;font-weight:bold'>Run the cell below to see how this works, and notice:</span>\n",
    "\n",
    "- The function inputs:\n",
    "1. Name of the data frame to sample from.\n",
    "2. Sample size to be drawn.\n",
    "- The output: 10 rows from the data frame with all columns present."
   ]
  },
  {
   "cell_type": "code",
   "execution_count": 17,
   "id": "f6ea5475-c7f1-492d-ab7b-3341c1563a96",
   "metadata": {
    "editable": true,
    "slideshow": {
     "slide_type": ""
    },
    "tags": []
   },
   "outputs": [
    {
     "data": {
      "text/html": [
       "<table>\n",
       "<thead><tr><th></th><th scope=col>Age</th><th scope=col>Yr</th><th scope=col>Sex</th><th scope=col>G21</th><th scope=col>Corps</th><th scope=col>Res</th><th scope=col>Greek</th><th scope=col>VarsAth</th><th scope=col>Honor</th><th scope=col>GPA</th><th scope=col>...</th><th scope=col>Perf</th><th scope=col>OCD</th><th scope=col>Play</th><th scope=col>Extro</th><th scope=col>Narc</th><th scope=col>HSAF</th><th scope=col>HSSE</th><th scope=col>HSAG</th><th scope=col>HSSD</th><th scope=col>PHS</th></tr></thead>\n",
       "<tbody>\n",
       "\t<tr><th scope=row>58</th><td>20  </td><td>3   </td><td>M   </td><td>N   </td><td>Y   </td><td>1   </td><td>N   </td><td>N   </td><td>N   </td><td>2.62</td><td>... </td><td>122 </td><td> 9  </td><td>150 </td><td>15  </td><td>5   </td><td>51  </td><td>55  </td><td>37  </td><td>31  </td><td>SE  </td></tr>\n",
       "\t<tr><th scope=row>118</th><td>20  </td><td>2   </td><td>F   </td><td>N   </td><td>N   </td><td>2   </td><td>Y   </td><td>N   </td><td>N   </td><td>3.50</td><td>... </td><td>111 </td><td> 8  </td><td>146 </td><td> 4  </td><td>1   </td><td>38  </td><td>37  </td><td>25  </td><td>30  </td><td>SD  </td></tr>\n",
       "\t<tr><th scope=row>36</th><td>20  </td><td>2   </td><td>M   </td><td>N   </td><td>N   </td><td>2   </td><td>Y   </td><td>N   </td><td>Y   </td><td>3.70</td><td>... </td><td>121 </td><td>15  </td><td>133 </td><td> 9  </td><td>6   </td><td>28  </td><td>38  </td><td>32  </td><td>37  </td><td>SD  </td></tr>\n",
       "\t<tr><th scope=row>78</th><td>21  </td><td>4   </td><td>M   </td><td>Y   </td><td>Y   </td><td>1   </td><td>Y   </td><td>N   </td><td>Y   </td><td>3.18</td><td>... </td><td>110 </td><td> 7  </td><td>120 </td><td> 5  </td><td>4   </td><td>28  </td><td>36  </td><td>27  </td><td>34  </td><td>SD  </td></tr>\n",
       "\t<tr><th scope=row>80</th><td>19  </td><td>3   </td><td>F   </td><td>N   </td><td>N   </td><td>2   </td><td>Y   </td><td>N   </td><td>N   </td><td>4.00</td><td>... </td><td>118 </td><td> 3  </td><td>121 </td><td> 8  </td><td>4   </td><td>34  </td><td>36  </td><td>30  </td><td>33  </td><td>SD  </td></tr>\n",
       "\t<tr><th scope=row>60</th><td>21  </td><td>3   </td><td>F   </td><td>Y   </td><td>N   </td><td>2   </td><td>Y   </td><td>N   </td><td>N   </td><td>4.00</td><td>... </td><td>100 </td><td> 5  </td><td>143 </td><td>10  </td><td>5   </td><td>49  </td><td>50  </td><td>25  </td><td>25  </td><td>SE  </td></tr>\n",
       "\t<tr><th scope=row>90</th><td>19  </td><td>1   </td><td>M   </td><td>N   </td><td>N   </td><td>1   </td><td>N   </td><td>N   </td><td>N   </td><td>2.80</td><td>... </td><td>123 </td><td> 9  </td><td>125 </td><td> 2  </td><td>3   </td><td>37  </td><td>34  </td><td>29  </td><td>39  </td><td>SD  </td></tr>\n",
       "\t<tr><th scope=row>33</th><td>19  </td><td>2   </td><td>M   </td><td>N   </td><td>Y   </td><td>1   </td><td>Y   </td><td>N   </td><td>N   </td><td>3.08</td><td>... </td><td> 92 </td><td> 3  </td><td>147 </td><td>11  </td><td>7   </td><td>44  </td><td>50  </td><td>40  </td><td>30  </td><td>AG  </td></tr>\n",
       "\t<tr><th scope=row>9</th><td>22  </td><td>2   </td><td>F   </td><td>Y   </td><td>N   </td><td>1   </td><td>N   </td><td>N   </td><td>N   </td><td>3.02</td><td>... </td><td>119 </td><td>16  </td><td>141 </td><td>10  </td><td>9   </td><td>52  </td><td>47  </td><td>32  </td><td>26  </td><td>SE  </td></tr>\n",
       "\t<tr><th scope=row>40</th><td>20  </td><td>2   </td><td>F   </td><td>N   </td><td>N   </td><td>1   </td><td>Y   </td><td>N   </td><td>N   </td><td>3.14</td><td>... </td><td>133 </td><td>10  </td><td>146 </td><td>16  </td><td>6   </td><td>47  </td><td>44  </td><td>35  </td><td>46  </td><td>SD  </td></tr>\n",
       "</tbody>\n",
       "</table>\n"
      ],
      "text/latex": [
       "\\begin{tabular}{r|llllllllllllllllllllllllllllllllllll}\n",
       "  & Age & Yr & Sex & G21 & Corps & Res & Greek & VarsAth & Honor & GPA & ... & Perf & OCD & Play & Extro & Narc & HSAF & HSSE & HSAG & HSSD & PHS\\\\\n",
       "\\hline\n",
       "\t58 & 20   & 3    & M    & N    & Y    & 1    & N    & N    & N    & 2.62 & ...  & 122  &  9   & 150  & 15   & 5    & 51   & 55   & 37   & 31   & SE  \\\\\n",
       "\t118 & 20   & 2    & F    & N    & N    & 2    & Y    & N    & N    & 3.50 & ...  & 111  &  8   & 146  &  4   & 1    & 38   & 37   & 25   & 30   & SD  \\\\\n",
       "\t36 & 20   & 2    & M    & N    & N    & 2    & Y    & N    & Y    & 3.70 & ...  & 121  & 15   & 133  &  9   & 6    & 28   & 38   & 32   & 37   & SD  \\\\\n",
       "\t78 & 21   & 4    & M    & Y    & Y    & 1    & Y    & N    & Y    & 3.18 & ...  & 110  &  7   & 120  &  5   & 4    & 28   & 36   & 27   & 34   & SD  \\\\\n",
       "\t80 & 19   & 3    & F    & N    & N    & 2    & Y    & N    & N    & 4.00 & ...  & 118  &  3   & 121  &  8   & 4    & 34   & 36   & 30   & 33   & SD  \\\\\n",
       "\t60 & 21   & 3    & F    & Y    & N    & 2    & Y    & N    & N    & 4.00 & ...  & 100  &  5   & 143  & 10   & 5    & 49   & 50   & 25   & 25   & SE  \\\\\n",
       "\t90 & 19   & 1    & M    & N    & N    & 1    & N    & N    & N    & 2.80 & ...  & 123  &  9   & 125  &  2   & 3    & 37   & 34   & 29   & 39   & SD  \\\\\n",
       "\t33 & 19   & 2    & M    & N    & Y    & 1    & Y    & N    & N    & 3.08 & ...  &  92  &  3   & 147  & 11   & 7    & 44   & 50   & 40   & 30   & AG  \\\\\n",
       "\t9 & 22   & 2    & F    & Y    & N    & 1    & N    & N    & N    & 3.02 & ...  & 119  & 16   & 141  & 10   & 9    & 52   & 47   & 32   & 26   & SE  \\\\\n",
       "\t40 & 20   & 2    & F    & N    & N    & 1    & Y    & N    & N    & 3.14 & ...  & 133  & 10   & 146  & 16   & 6    & 47   & 44   & 35   & 46   & SD  \\\\\n",
       "\\end{tabular}\n"
      ],
      "text/markdown": [
       "\n",
       "| <!--/--> | Age | Yr | Sex | G21 | Corps | Res | Greek | VarsAth | Honor | GPA | ... | Perf | OCD | Play | Extro | Narc | HSAF | HSSE | HSAG | HSSD | PHS |\n",
       "|---|---|---|---|---|---|---|---|---|---|---|---|---|---|---|---|---|---|---|---|---|---|\n",
       "| 58 | 20   | 3    | M    | N    | Y    | 1    | N    | N    | N    | 2.62 | ...  | 122  |  9   | 150  | 15   | 5    | 51   | 55   | 37   | 31   | SE   |\n",
       "| 118 | 20   | 2    | F    | N    | N    | 2    | Y    | N    | N    | 3.50 | ...  | 111  |  8   | 146  |  4   | 1    | 38   | 37   | 25   | 30   | SD   |\n",
       "| 36 | 20   | 2    | M    | N    | N    | 2    | Y    | N    | Y    | 3.70 | ...  | 121  | 15   | 133  |  9   | 6    | 28   | 38   | 32   | 37   | SD   |\n",
       "| 78 | 21   | 4    | M    | Y    | Y    | 1    | Y    | N    | Y    | 3.18 | ...  | 110  |  7   | 120  |  5   | 4    | 28   | 36   | 27   | 34   | SD   |\n",
       "| 80 | 19   | 3    | F    | N    | N    | 2    | Y    | N    | N    | 4.00 | ...  | 118  |  3   | 121  |  8   | 4    | 34   | 36   | 30   | 33   | SD   |\n",
       "| 60 | 21   | 3    | F    | Y    | N    | 2    | Y    | N    | N    | 4.00 | ...  | 100  |  5   | 143  | 10   | 5    | 49   | 50   | 25   | 25   | SE   |\n",
       "| 90 | 19   | 1    | M    | N    | N    | 1    | N    | N    | N    | 2.80 | ...  | 123  |  9   | 125  |  2   | 3    | 37   | 34   | 29   | 39   | SD   |\n",
       "| 33 | 19   | 2    | M    | N    | Y    | 1    | Y    | N    | N    | 3.08 | ...  |  92  |  3   | 147  | 11   | 7    | 44   | 50   | 40   | 30   | AG   |\n",
       "| 9 | 22   | 2    | F    | Y    | N    | 1    | N    | N    | N    | 3.02 | ...  | 119  | 16   | 141  | 10   | 9    | 52   | 47   | 32   | 26   | SE   |\n",
       "| 40 | 20   | 2    | F    | N    | N    | 1    | Y    | N    | N    | 3.14 | ...  | 133  | 10   | 146  | 16   | 6    | 47   | 44   | 35   | 46   | SD   |\n",
       "\n"
      ],
      "text/plain": [
       "    Age Yr Sex G21 Corps Res Greek VarsAth Honor GPA  ... Perf OCD Play Extro\n",
       "58  20  3  M   N   Y     1   N     N       N     2.62 ... 122   9  150  15   \n",
       "118 20  2  F   N   N     2   Y     N       N     3.50 ... 111   8  146   4   \n",
       "36  20  2  M   N   N     2   Y     N       Y     3.70 ... 121  15  133   9   \n",
       "78  21  4  M   Y   Y     1   Y     N       Y     3.18 ... 110   7  120   5   \n",
       "80  19  3  F   N   N     2   Y     N       N     4.00 ... 118   3  121   8   \n",
       "60  21  3  F   Y   N     2   Y     N       N     4.00 ... 100   5  143  10   \n",
       "90  19  1  M   N   N     1   N     N       N     2.80 ... 123   9  125   2   \n",
       "33  19  2  M   N   Y     1   Y     N       N     3.08 ...  92   3  147  11   \n",
       "9   22  2  F   Y   N     1   N     N       N     3.02 ... 119  16  141  10   \n",
       "40  20  2  F   N   N     1   Y     N       N     3.14 ... 133  10  146  16   \n",
       "    Narc HSAF HSSE HSAG HSSD PHS\n",
       "58  5    51   55   37   31   SE \n",
       "118 1    38   37   25   30   SD \n",
       "36  6    28   38   32   37   SD \n",
       "78  4    28   36   27   34   SD \n",
       "80  4    34   36   30   33   SD \n",
       "60  5    49   50   25   25   SE \n",
       "90  3    37   34   29   39   SD \n",
       "33  7    44   50   40   30   AG \n",
       "9   9    52   47   32   26   SE \n",
       "40  6    47   44   35   46   SD "
      ]
     },
     "metadata": {},
     "output_type": "display_data"
    }
   ],
   "source": [
    "s <- sample.data.frame(p, 10, orig.ids = FALSE)\n",
    "head(s,15)"
   ]
  },
  {
   "cell_type": "markdown",
   "id": "418f1a42-7b5a-40a8-b278-0263d2e91b85",
   "metadata": {},
   "source": [
    "We can find the average narcissism for these 10 persons by subsetting our sample data frame **s**."
   ]
  },
  {
   "cell_type": "code",
   "execution_count": 18,
   "id": "62276d46-9625-4a70-9ef4-3a3a3b1f3551",
   "metadata": {},
   "outputs": [
    {
     "data": {
      "text/html": [
       "5"
      ],
      "text/latex": [
       "5"
      ],
      "text/markdown": [
       "5"
      ],
      "text/plain": [
       "[1] 5"
      ]
     },
     "metadata": {},
     "output_type": "display_data"
    }
   ],
   "source": [
    "mean(s[ , 'Narc'])"
   ]
  },
  {
   "cell_type": "markdown",
   "id": "d3bb2fd7-fcad-48f5-bf19-d68aed0f0c30",
   "metadata": {},
   "source": [
    "**Putting it Together.** Eventually, we want to run a loop that does this a thousand or more times. Thus, we prefer a single line of code that will do it for us all at once. We wrap the *sample.data.frame()* function inside the *mean* function as shown below.\n",
    "\n",
    "**Run the code below multiple times to see how we're sampling plus finding the average Narcissism level for each.**"
   ]
  },
  {
   "cell_type": "code",
   "execution_count": 19,
   "id": "06f44b14-66e8-43f4-a52b-dceaa47c758c",
   "metadata": {},
   "outputs": [
    {
     "data": {
      "text/html": [
       "5.5"
      ],
      "text/latex": [
       "5.5"
      ],
      "text/markdown": [
       "5.5"
      ],
      "text/plain": [
       "[1] 5.5"
      ]
     },
     "metadata": {},
     "output_type": "display_data"
    }
   ],
   "source": [
    "mean(sample.data.frame(p, 10, orig.ids = F)[ , 'Narc'])"
   ]
  },
  {
   "cell_type": "markdown",
   "id": "c7c5fbf7-cc9c-4b05-b8b9-48cf242ff374",
   "metadata": {},
   "source": [
    "### Step 2: Creating a for Loop\n",
    "\n",
    "The steps make sense if we consider them separately:\n",
    "\n",
    "1. Create **all_means**, an initially empty vector where we plan to store our sample means.\n",
    "2. Create a for loop that will a thousand times.\n",
    "3. Inside the loop, we will:\n",
    "  - Gather a sample of size $n=10$.\n",
    "  - Calcuate the mean.\n",
    "  - Add this value to the **all_means** vector."
   ]
  },
  {
   "cell_type": "code",
   "execution_count": 20,
   "id": "ca630e08-a7b3-4182-a2dc-8720a2b830b0",
   "metadata": {},
   "outputs": [],
   "source": [
    "all_means <- c()                                         #Empty vector to store all the sample means\n",
    "for (count in 1:1000){\n",
    "    sample <- sample.data.frame(p, 10, orig.ids = F)     #Generate a sample (size n=10)\n",
    "    all_means[count] <- mean(sample[ , 'Narc'])          #Save the mean of this sample in my list\n",
    "}"
   ]
  },
  {
   "cell_type": "markdown",
   "id": "3582f976-8792-4560-9ce0-8e14412bddf8",
   "metadata": {},
   "source": [
    "Notice that we now have a vector **all_means**, so we display the distribution in a histogram and caculate various statistics."
   ]
  },
  {
   "cell_type": "code",
   "execution_count": 21,
   "id": "e837c8f4-2309-486e-8eac-19d4af325e7d",
   "metadata": {},
   "outputs": [
    {
     "data": {
      "text/plain": [
       "   Min. 1st Qu.  Median    Mean 3rd Qu.    Max. \n",
       "   2.30    4.10    4.70    4.71    5.30    7.20 "
      ]
     },
     "metadata": {},
     "output_type": "display_data"
    },
    {
     "data": {
      "image/png": "[encoded data removed]",
      "text/plain": [
       "Plot with title \"Histogram of all_means\""
      ]
     },
     "metadata": {},
     "output_type": "display_data"
    }
   ],
   "source": [
    "summary(all_means)\n",
    "hist(all_means)"
   ]
  },
  {
   "cell_type": "markdown",
   "id": "d2d182a7-f5e8-4837-ac63-4ee6ce4e5ced",
   "metadata": {},
   "source": [
    "### Step 3: The Middle 90% of the Distribution\n",
    "\n",
    "Because we intend to use the sampling distributions to estimate the population average, we need a way to gather an interval. This interval will be our estimated range of values. For the moment, let's use the **middle 90%** of the **all_means** vector. We will need the endpoints, e.g. the 5th and 95th percentiles from the vector."
   ]
  },
  {
   "cell_type": "code",
   "execution_count": 22,
   "id": "ff466cd7-7334-435f-a0ff-1d7fef3bd8a4",
   "metadata": {},
   "outputs": [
    {
     "name": "stdout",
     "output_type": "stream",
     "text": [
      "The middle 90% of the all_means vector is ( 3.3 , 6 )."
     ]
    }
   ],
   "source": [
    "lower <- quantile(all_means, prob = 0.05)     # Calcuate the 5th percentile.\n",
    "upper <- quantile(all_means, prob = 0.95)     # Calcuate the 95th percentile.\n",
    "cat('The middle 90% of the all_means vector is (',lower,',',upper,').')"
   ]
  },
  {
   "cell_type": "markdown",
   "id": "570ab20e-5b55-4390-a6df-6dccf3b91ffc",
   "metadata": {},
   "source": [
    "### Step 4: The Histogram with Vertical Lines Showing the 5th and 95th Percentiles\n",
    "\n",
    "We use the function **abline()** to superimpose vertical lines onto our histogram. We've already calculated the values for the 5th and 95th percentiles. We need only to use the option **v** which draws a *vertical line* at the value indicated. The color option is not vital for our purposes, but a splash of color is visually appealing.\n",
    "\n",
    "As we go forward, we will see that increased sample size will lead to a narrower bell-shape. In other words, the size of the standard deviation will become important, so let's include that in the text we print out using the **cat()** function."
   ]
  },
  {
   "cell_type": "code",
   "execution_count": 23,
   "id": "83255cd8-249a-415a-b2c3-598566cfe75f",
   "metadata": {},
   "outputs": [
    {
     "name": "stdout",
     "output_type": "stream",
     "text": [
      "Standard deviation of sampling distribution: 0.8335193 \n",
      "The middle 90% of the sampling distribution: is ( 3.3 , 6 )."
     ]
    },
    {
     "data": {
      "image/png": "[encoded data removed]",
      "text/plain": [
       "Plot with title \"Histogram of all_means\""
      ]
     },
     "metadata": {},
     "output_type": "display_data"
    }
   ],
   "source": [
    "cat(\"Standard deviation of sampling distribution:\", sd(all_means), '\\nThe middle 90% of the sampling distribution: is (',lower,',',upper,').')\n",
    "hist(all_means)\n",
    "abline( v = lower, col=\"blue\")\n",
    "abline(v = upper, col=\"blue\")"
   ]
  },
  {
   "cell_type": "markdown",
   "id": "a771faf3-c496-4d19-9807-73baee3e9016",
   "metadata": {},
   "source": [
    "### Step 5: Performing all Tasks in 1 Code Block\n",
    "\n",
    "Now that we have unpacked each command line needed, we can put it all together into one code block. We have also added the parameters **reps** and **samp_size** as the top 2 lines to make it easy to set them to a single value. Doing these tasks will help to quickly generate different sampling distributions for different sample sizes **n**."
   ]
  },
  {
   "cell_type": "code",
   "execution_count": 24,
   "id": "255652dd-808e-403d-ac3c-ba2e508fc87e",
   "metadata": {},
   "outputs": [
    {
     "name": "stdout",
     "output_type": "stream",
     "text": [
      "Standard deviation of sampling distribution: 0.8406459 \n",
      "The middle 90% of sampling distribution: ( 3.3 , 6.1 )."
     ]
    },
    {
     "data": {
      "image/png": "[encoded data removed]",
      "text/plain": [
       "Plot with title \"Histogram of all_means\""
      ]
     },
     "metadata": {},
     "output_type": "display_data"
    }
   ],
   "source": [
    "reps = 1000          # Number of repetitions of FOR loop\n",
    "samp_size = 10       # Sample size to be drawn\n",
    "all_means <- c()     # Empty vector to store all the sample means\n",
    "\n",
    "for (count in 1:reps){\n",
    "    sample <- sample.data.frame(p, 10, orig.ids = F)\n",
    "    all_means[count] <- mean(sample[ , 'Narc'])\n",
    "}\n",
    "\n",
    "upper <- quantile(all_means, prob = 0.95)\n",
    "lower <- quantile(all_means, prob = 0.05)\n",
    "cat(\"Standard deviation of sampling distribution:\", sd(all_means), '\\nThe middle 90% of sampling distribution: (',lower,',',upper,').')\n",
    "hist(all_means)\n",
    "abline( v = lower, col=\"blue\")\n",
    "abline(v = upper, col=\"blue\")"
   ]
  },
  {
   "cell_type": "code",
   "execution_count": null,
   "id": "c0811021-26d9-42a6-82ff-3a2b4e841b0d",
   "metadata": {},
   "outputs": [],
   "source": []
  }
 ],
 "metadata": {
  "kernelspec": {
   "display_name": "R",
   "language": "R",
   "name": "ir"
  },
  "language_info": {
   "codemirror_mode": "r",
   "file_extension": ".r",
   "mimetype": "text/x-r-source",
   "name": "R",
   "pygments_lexer": "r",
   "version": "3.6.1"
  }
 },
 "nbformat": 4,
 "nbformat_minor": 5
}
