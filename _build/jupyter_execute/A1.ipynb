{
 "cells": [
  {
   "cell_type": "markdown",
   "id": "0f6c3349-b431-46fd-8e58-93fd85f934df",
   "metadata": {},
   "source": [
    "# Statistical Formulas\n",
    "\n",
    "In 9th grade algebra, we learn about equations such as\n",
    "\n",
    "$$y = x$$\n",
    "\n",
    "We find that:\n",
    "1. $x$ is the **independent variable**, and\n",
    "2. $y$ is the **dependent variable**.\n",
    "\n",
    "In statistics, we have similar equations that we use to indicate what operations are being done, such as:\n",
    "\n",
    "$$y \\sim x$$\n",
    "\n",
    "where $y$ is the dependent variable. The meanings are quite similar. However, the operators we use for statistics forumalae are important and somewhat different than algebra."
   ]
  },
  {
   "cell_type": "markdown",
   "id": "9aaf79ad-8534-467f-8900-1745ae9145e6",
   "metadata": {},
   "source": [
    "## ANOVA and $t$-Tests\n",
    "\n",
    "Suppose that we have a **numeric variable** $\\textbf{y}$ and a **grouping variable** $\\textbf{A}$. The statistical formula indicating that we should create an ANOVA or a $\\textbf{t}$-test as appropriate is the following:\n",
    "\n",
    "$$y \\sim A$$"
   ]
  },
  {
   "cell_type": "markdown",
   "id": "5bbeac95-37c7-4085-85fa-b6636443e9bb",
   "metadata": {},
   "source": [
    "If the category variable $A$ has 2 or fewer groups, R will conduct the $t$-test. If $A$ has 3 or more groups, an ANOVA is launched which, admittedly, takes a couple more steps to complete."
   ]
  },
  {
   "cell_type": "markdown",
   "id": "b3ff6cb4-55aa-49b4-9459-5459db84a15f",
   "metadata": {},
   "source": [
    "## Linear Regression\n",
    "\n",
    "If we have two **numeric** variables $x$ and $y$, the formula\n",
    "\n",
    "$$y \\sim x$$\n",
    "\n",
    "indicates simple linear bivariate regression.\n",
    "\n",
    "### Forcing an Intercept\n",
    "\n",
    "We can specify the $y$-intercept of 2 in a linear model as follows:\n",
    "\n",
    "$$ y \\sim 2 + x$$\n",
    "\n",
    "### Polynomial Regression\n",
    "\n",
    "The following code will produce quadractic regression:\n",
    "\n",
    "$$ y \\sim \\text{poly}(x,2)$$\n",
    "\n",
    "or cubic regression:\n",
    "\n",
    "$$ y \\sim \\text{poly}(x,3)$$\n",
    "\n",
    "Note that these formulas will be intrepretted by R as a request for a model using **orthogonal polynomials**. We can specify a model that using the specific (and traditional) powers as follows:\n",
    "\n",
    "$$ y \\sim 1 + x + I(x^2)$$"
   ]
  },
  {
   "cell_type": "code",
   "execution_count": null,
   "id": "83d18ee1-1d17-488b-a73a-0e23ae4e4583",
   "metadata": {},
   "outputs": [],
   "source": []
  }
 ],
 "metadata": {
  "kernelspec": {
   "display_name": "R",
   "language": "R",
   "name": "ir"
  },
  "language_info": {
   "codemirror_mode": "r",
   "file_extension": ".r",
   "mimetype": "text/x-r-source",
   "name": "R",
   "pygments_lexer": "r",
   "version": "3.6.1"
  }
 },
 "nbformat": 4,
 "nbformat_minor": 5
}