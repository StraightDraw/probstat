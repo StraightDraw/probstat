{
 "cells": [
  {
   "cell_type": "markdown",
   "id": "d47baf89-10f0-4583-bf1b-d90fdaf22122",
   "metadata": {},
   "source": [
    "# Excercises"
   ]
  },
  {
   "cell_type": "markdown",
   "id": "43b9c25e-c020-43a2-9ce1-1ebda05377fe",
   "metadata": {},
   "source": [
    "1. What is the probability that Shero flops exactly 2 pair given that she holds AJ?\n",
    "\n",
    "3. An urn contains 7 red and 3 green marbles. The contents are thoroughly mixed, and two marbles are drawn (w/o replacement) one after the other. Find the probability that (a) red is drawn 2nd given that red was drawn first, (b) red is drawn 2nd given that green was drawn first, and (c) green is drawn 2nd given that green was drawn first.\n",
    "\n",
    "3. You roll the dice in Monopoly on a turn where landing on Park Place or Boardwalk will bust you. You are 5 spaces from Park Place (7 from Boardwalk). You roll the dice, and one falls off the table and must be re-rolled. The other is 3. What is the probability you'll go bust?\n",
    "\n",
    "4. Urn 1 has 3 red marbles and 2 blue. Urn 2 has 2 red marbles and 1 green. A marble is drawn at random from one of the urns. It is red. What is the probability it was drawn from Urn 2 if every marble, regardless of which urn it's in, has an equal chance of being drawn?\n",
    "\n",
    "5. A math teacher gave her class two tests. If 25\\% of the class made A's on both tests and 42\\% of the class made A's on the first test, find the probability that someone who earned an A on Test 1 also earned an Aon Test 2.\n",
    "\n",
    "6. A jar contains black and white marbles. Two marbles are chosen without replacement. The probability of selecting a white marble second given that a black marble was drawn first is  $\\frac{4}{5}$, and the probability of selecting a black marble on the first draw is $\\frac{1}{3}$. How many of each color marble is in the jar? \n",
    "\n",
    "7. In the United States, 56\\% of all children get an allowance and 41\\% of all children get an allowance and do household chores. What is the probability that a child does household chores given that the child gets an allowance?\n",
    "\n",
    "8. **The Monte Hall problem:** Suppose you're on a game show, and you're given the choice of three doors: Behind one door is a car; behind the others, goats. You pick a door, and the host opens another door which has a goat. He then says to you, \"Do you want to stay with your pick?\" Is it to your advantage to switch or stay?"
   ]
  },
  {
   "cell_type": "markdown",
   "id": "9d8a5be0-4c1b-447e-86b7-d6bf1a409028",
   "metadata": {},
   "source": [
    "## Additional Exercises\n",
    "\n",
    "9. Suppose that in Lincoln county, 54\\% of households have a dog while 27\\% of households have a dog and a cat. If you randomly select a household that has a dog, what is the probability that it also has a cat?\n",
    "\n",
    "10. Suppose that in Washington county, 51\\% of households have central air conditioning while 27\\% of households have central air conditioning and a furnace. If you randomly select a household that has central air conditioning, what is the probability that it also has a furnace?\n",
    "\n",
    "11.  Andrea is a very good student. The probability that she studies and  passes her mathematics test is $\\frac{17}{20}$. If the probability that Andrea studies is $\\frac{15}{16}$, find the probability that Andrea passes her mathematics test, given that she has studied. "
   ]
  },
  {
   "cell_type": "code",
   "execution_count": null,
   "id": "8f86e16c-90cb-481e-b0d7-a823ea6c2b0a",
   "metadata": {},
   "outputs": [],
   "source": []
  }
 ],
 "metadata": {
  "kernelspec": {
   "display_name": "Python 3 (ipykernel)",
   "language": "python",
   "name": "python3"
  },
  "language_info": {
   "codemirror_mode": {
    "name": "ipython",
    "version": 3
   },
   "file_extension": ".py",
   "mimetype": "text/x-python",
   "name": "python",
   "nbconvert_exporter": "python",
   "pygments_lexer": "ipython3",
   "version": "3.8.20"
  }
 },
 "nbformat": 4,
 "nbformat_minor": 5
}