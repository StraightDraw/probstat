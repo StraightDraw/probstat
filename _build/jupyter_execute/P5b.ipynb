{
 "cells": [
  {
   "cell_type": "markdown",
   "id": "d9aa63e1-4b83-4d72-9837-7a5684b800c3",
   "metadata": {},
   "source": [
    "# Solutions to Exercises"
   ]
  },
  {
   "cell_type": "markdown",
   "id": "5bbb62d2-f71d-42a1-876a-584b09bb0769",
   "metadata": {},
   "source": [
    "1. What is the probability that Shero flops exactly 2 pair given that she holds AJ?\n",
    "\n",
    "   **Solution.** Hint: restrict the probability space by removing an A and J from the deck. Instead of using the conditional probability formula, sometimes it is easier to simply work a standard probability question with a different probability space. We have 50 cards remaining in the deck, and two of the subsets in our value partition have only three cards, not four, since one Ace and one Jack are no longer in the deck. Let $T$ be the event set of having exactly two pair after the flop."
   ]
  },
  {
   "cell_type": "markdown",
   "id": "ff5bd97c-a500-4c80-a065-0dc7962cc2be",
   "metadata": {},
   "source": [
    "$$P(T)=\\frac{\\binom{3}{1}\\binom{3}{1}\\binom{12}{1}\\binom{4}{1}}{\\binom{50}{3}}=\\frac{432}{19600}=\\frac{27}{1225}\\approx 0.022041$$"
   ]
  },
  {
   "cell_type": "markdown",
   "id": "2d0c7c61-46ea-4a63-933b-aefe5de1d6f6",
   "metadata": {},
   "source": [
    "2. An urn contains 7 red and 3 green marbles. The contents are thoroughly mixed, and two marbles are drawn (w/o replacement) one after the other. Find the probability that (a) red is drawn 2nd given that red was drawn first, (b) red is drawn 2nd given that green was drawn first, and (c) green is drawn 2nd given that green was drawn first.\n",
    "\n",
    "   **Solution.** The second draw occurs with one less marble, so we can update the probability space.\n",
    "\n",
    "   - (a) With a red already drawn, the 2nd draw occurs with 6 red and 3 green: $P(R|R) = \\frac{6}{9} = \\frac{2}{3}$.\n",
    "   - (b) With a green already drawn, the 2nd draw occurs with 7 red and 2 green: $P(R|G) = \\frac{7}{9}$\n",
    "   - (c) With a green already drawn, the 2nd draw occurs with 7 red and 2 green: $ P(G|G) = \\frac{2}{9}$"
   ]
  },
  {
   "cell_type": "markdown",
   "id": "b432e0b7-9d22-486b-b35d-a4605612a432",
   "metadata": {},
   "source": [
    "3. You roll the dice in Monopoly on a turn where landing on Park Place or Boardwalk will bust you. You are 5 spaces from Park Place (7 from Boardwalk). You roll the dice, and one falls off the table and must be re-rolled. The other is 3. What is the probability you'll go bust?\n",
    "\n",
    "   **Solution.** Before using our conditional probability formula, lets use our Monopoly Dice Roll chart:\n",
    "   $$P(\\text{Busto} | 3) = \\frac{P(\\text{Busto} \\cap 3)}{P(3)}=\\frac{\\frac{1}{3}}{\\frac{1}{6}}$$\n",
    "   $$P(\\text{Busto} | 3) = \\frac{2}{6}=\\frac{1}{3}$$"
   ]
  },
  {
   "cell_type": "markdown",
   "id": "e0fefc9e-810f-43c0-9f4d-1c42c7398e4f",
   "metadata": {},
   "source": [
    "$$\\begin{array}{c|ccccccc}&1&2&3&4&5&6\\\\\n",
    "\\hline\n",
    "1&2&3&4&5&6&7\\\\\n",
    "2&3&4&5&6&7&8\\\\\n",
    "3&4&5&6&7&8&9\\\\\n",
    "4&5&6&7&8&9&10\\\\\n",
    "5&6&7&8&9&10&11\\\\\n",
    "6&7&8&9&10&11&12\\\\\\end{array}$$"
   ]
  },
  {
   "cell_type": "markdown",
   "id": "f563661d-5bd9-4553-b78f-60cd249d81a1",
   "metadata": {},
   "source": [
    "Then we see that:\n",
    "\n",
    "$$\\begin{align}P(\\text{Busto} | 3) &= \\frac{P(\\text{Busto} \\cap 3)}{P(3)}\\\\&= \\frac{\\frac{2}{36}}{\\frac{1}{6}}\\\\&= \\frac{2}{36}\\cdot\\frac{6}{1}\\\\&= \\frac{1}{3}\\end{align}$$"
   ]
  },
  {
   "cell_type": "markdown",
   "id": "c2e2aecb-0296-4d1b-80c2-056cee77cd7d",
   "metadata": {},
   "source": [
    "4. Urn 1 has 3 red marbles and 2 blue. Urn 2 has 2 red marbles and 1 green. A marble is drawn at random from one of the urns. It is red. What is the probability it was drawn from Urn 2 if every marble, regardless of which urn it's in, has an equal chance of being drawn?\n",
    "\n",
    "   **Solution.** The formula for conditional probability will be useful, so let's identify some events. We'll specify which urn the marble came from using $U1$ and $U2$, and then $R$ for the event that a red marble was drawn."
   ]
  },
  {
   "cell_type": "markdown",
   "id": "6770faca-8459-46ca-b715-b042f362a3d9",
   "metadata": {},
   "source": [
    "```{figure} /images/ProbFig10.png\n",
    "width: 3cm\n",
    "```"
   ]
  },
  {
   "cell_type": "markdown",
   "id": "9c89fe45-d83f-42eb-8f81-7fd801240e80",
   "metadata": {},
   "source": [
    "We are asked about $P(U2 | R)$, so we need to calculate $P(U2 \\cap R)$ and $P(R)$. Noting that all marbles are equally likely to be chosen and glancing at the figure, we see that $P(R)=\\frac{5}{8}$ and $P(R\\cap U2)=\\frac{2}{8}=\\frac{1}{4}$. Then "
   ]
  },
  {
   "cell_type": "markdown",
   "id": "1a804d5e-9a06-4f16-b351-1f3035c898af",
   "metadata": {},
   "source": [
    "$$P(U2 \\cap R)=\\frac{P(U2 \\cap R)}{P(R)}=\\frac{\\frac{1}{4}}{\\frac{5}{8}}=\\frac{1}{4}\\cdot\\frac{8}{5}=\\frac{2}{5}$$"
   ]
  },
  {
   "cell_type": "markdown",
   "id": "4098d760-d049-49cf-8dcc-fbeed3cce587",
   "metadata": {},
   "source": [
    "Alternatively, we can consider the red marbles by themselves (restrict the probability space). If we draw one red marble from the five, what is the probability it's in Urn 2? Well, 2 of the 5 are in Urn 2."
   ]
  },
  {
   "cell_type": "markdown",
   "id": "f26c3a8c-fcab-4447-a104-aba3642be62e",
   "metadata": {},
   "source": [
    "5. A math teacher gave her class two tests. If 25\\% of the class made A's on both tests and 42\\% of the class made A's on the first test, find the probability that someone who earned an A on Test 1 also earned an Aon Test 2.\n",
    "   **Soltuion.** A quick Venn diagram is probably the best way to proceed, but the formula works, too."
   ]
  },
  {
   "cell_type": "markdown",
   "id": "9cb70269-701d-4560-aa8e-e6b332c0ffb3",
   "metadata": {},
   "source": [
    "```{figure} /images/ProbFig11.png\n",
    "width: 3cm\n",
    "```"
   ]
  },
  {
   "cell_type": "markdown",
   "id": "71928957-0bce-48ba-8550-2215a6b28b7f",
   "metadata": {},
   "source": [
    "Let events $T1$ and $T2$ indicate the A's on Tests 1 and 2 respectively."
   ]
  },
  {
   "cell_type": "markdown",
   "id": "ef9e43aa-2bfd-4df5-b1ba-93186cd9ee27",
   "metadata": {},
   "source": [
    "$$P(T2|T1)=\\frac{P(T1\\cap T2)}{P(T2)}=\\frac{0.25}{0.42}\\approx 0.59523$$"
   ]
  },
  {
   "cell_type": "markdown",
   "id": "3d07b8b5-4fe0-4d76-8a42-6bb5e1e6f853",
   "metadata": {},
   "source": [
    "6. A jar contains black and white marbles. Two marbles are chosen without replacement. The probability of selecting a white marble second given that a black marble was drawn first is  $\\frac{4}{5}$, and the probability of selecting a black marble on the first draw is $\\frac{1}{3}$. How many of each color marble is in the jar?\n",
    "\n",
    "   **Solution.** The probability of drawing a white marble changes.\n",
    "   - On the first draw: $P(W)= 1-P(B)=\\frac{2}{3}$\n",
    "\n",
    "   - On the second draw, when a black marble has been removed on the first draw: $P(W|B)=\\frac{4}{5}$\n",
    "\n",
    "   Because the probability has increased from\n",
    "\n",
    "   $$\\frac{4}{6}\\rightarrow\\frac{4}{5},$$\n",
    "\n",
    "   we deduce that there were six marbles originally, two black and four white."
   ]
  },
  {
   "cell_type": "markdown",
   "id": "9711b436-a9f6-410d-b0cc-d1c3ce62838d",
   "metadata": {},
   "source": [
    "7. In the United States, 56\\% of all children get an allowance and 41\\% of all children get an allowance and do household chores. What is the probability that a child does household chores given that the child gets an allowance?\n",
    "\n",
    "   **Solution.** Restricted probability space:\n",
    "\n",
    "   $$P=\\frac{0.41}{0.56}\\approx 0.73214$$"
   ]
  },
  {
   "cell_type": "markdown",
   "id": "ed75ee89-e0ab-48d3-aef0-0882046b61a5",
   "metadata": {},
   "source": [
    "8. The Monte Hall problem is a classic conditional probability question that every math major should know about. An excellent discussion is posted at [Brilliant.org](https://brilliant.org/wiki/monty-hall-problem/).\n",
    "\n",
    "**The correct answer to the Monte Hall problem is to always switch doors,** though this may trouble some very fine analytical minds. You should take the time to understand this problem and its solution."
   ]
  },
  {
   "cell_type": "markdown",
   "id": "c824ffef-3e75-458c-b967-cfbc92df33c9",
   "metadata": {},
   "source": [
    "   **Solution.** We are calculating the following conditional probabilities given that we use the strategy of always switch:\n",
    "- The probability of winning given a **car** is picked first (and we thus switch to a goat):\n",
    "$$P(W | \\text{Car}) = 0$$\n",
    "\n",
    "- The probability of winning given a **goat** is picked first (and we thus switch to a car):\n",
    "    $$P(W | \\text{Goat}) = 1$$\n",
    "\n",
    "Since we have a $\\frac{1}{3}$ chance of picking a *car* first and a $\\frac{2}{3}$ chance of picking a *goat* first, we have the following probability:\n",
    "\n",
    "$$P(\\text{Win}) = \\frac{1}{3}(0) + \\frac{2}{3}(1) = \\frac{2}{3}$$\n",
    "\n",
    "This value is clearly higher than chance of a picking a car first and not switching, as you can verify."
   ]
  },
  {
   "cell_type": "code",
   "execution_count": null,
   "id": "64f3303f-6e9d-4ebb-b779-bbb57de115e6",
   "metadata": {},
   "outputs": [],
   "source": []
  }
 ],
 "metadata": {
  "kernelspec": {
   "display_name": "Python 3 (ipykernel)",
   "language": "python",
   "name": "python3"
  },
  "language_info": {
   "codemirror_mode": {
    "name": "ipython",
    "version": 3
   },
   "file_extension": ".py",
   "mimetype": "text/x-python",
   "name": "python",
   "nbconvert_exporter": "python",
   "pygments_lexer": "ipython3",
   "version": "3.8.20"
  }
 },
 "nbformat": 4,
 "nbformat_minor": 5
}