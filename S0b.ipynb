{
 "cells": [
  {
   "cell_type": "markdown",
   "id": "3c59ff7c-fca7-47fc-a014-a4e194fafffd",
   "metadata": {},
   "source": [
    "# Descriptive Statistics\n",
    "\n",
    "The most basic type of statistics are those values that describe the data in a vector, statistics such as:\n",
    "1. The Standard Descriptives.\n",
    "    - Mean\n",
    "    - Standard Deviation\n",
    "    - Sample Size\n",
    "2. The 5-Number Summary.\n",
    "    - Min\n",
    "    - Q1 or 25th percentile\n",
    "    - Median\n",
    "    - Q3 or 75th percentile\n",
    "    - Max\n",
    "3. We will learn about how the **cat()** function can print text along with code.\n",
    "    - Some formatting options exist with cat()\n",
    "  \n",
    "## Standard Descriptives\n",
    "\n",
    "First, let's import the **personality** data frame."
   ]
  },
  {
   "cell_type": "code",
   "execution_count": 3,
   "id": "a48813bc-6142-4ad3-bdeb-a90e1dd365c3",
   "metadata": {},
   "outputs": [],
   "source": [
    "pers <- read.csv('https://faculty.ung.edu/rsinn/personality.csv')"
   ]
  },
  {
   "cell_type": "markdown",
   "id": "c246cbc3-bff6-487e-814b-a49d49ae43df",
   "metadata": {},
   "source": [
    "For the column 'Sleep', let's determine the standard descriptives:"
   ]
  },
  {
   "cell_type": "code",
   "execution_count": 4,
   "id": "621ff0ff-13b8-4978-a558-6227ae0ba3a3",
   "metadata": {},
   "outputs": [
    {
     "data": {
      "text/html": [
       "6.24031007751938"
      ],
      "text/latex": [
       "6.24031007751938"
      ],
      "text/markdown": [
       "6.24031007751938"
      ],
      "text/plain": [
       "[1] 6.24031"
      ]
     },
     "metadata": {},
     "output_type": "display_data"
    },
    {
     "data": {
      "text/html": [
       "2.13151645621158"
      ],
      "text/latex": [
       "2.13151645621158"
      ],
      "text/markdown": [
       "2.13151645621158"
      ],
      "text/plain": [
       "[1] 2.131516"
      ]
     },
     "metadata": {},
     "output_type": "display_data"
    },
    {
     "data": {
      "text/html": [
       "129"
      ],
      "text/latex": [
       "129"
      ],
      "text/markdown": [
       "129"
      ],
      "text/plain": [
       "[1] 129"
      ]
     },
     "metadata": {},
     "output_type": "display_data"
    }
   ],
   "source": [
    "s <- pers$Sleep\n",
    "\n",
    "mean(s)\n",
    "sd(s)\n",
    "length(s)"
   ]
  },
  {
   "cell_type": "markdown",
   "id": "61b214ee-89ea-47fc-839c-18d803b2d68e",
   "metadata": {},
   "source": [
    "## The cat() Function\n",
    "\n",
    "From this unformatted output, we see that these students average about 6.24 hours of sleep per night with a standard deviation of 2.13. With the **cat()** function, we can print some labels along with the calculations."
   ]
  },
  {
   "cell_type": "code",
   "execution_count": 5,
   "id": "b3d4ee4b-42d8-4ed3-a2a8-2491fa00804b",
   "metadata": {},
   "outputs": [
    {
     "name": "stdout",
     "output_type": "stream",
     "text": [
      "Standard Descriptive Statistics for SLEEP:   Mean =  6.24031    Standard Deviation =  2.131516 Sample Size =  129"
     ]
    }
   ],
   "source": [
    "cat('Standard Descriptive Statistics for SLEEP:   Mean = ',mean(s),'   Standard Deviation = ',\n",
    "    sd(s),'Sample Size = ',length(s))"
   ]
  },
  {
   "cell_type": "markdown",
   "id": "ea061578-2ed5-4430-b87c-394c7791bfdb",
   "metadata": {},
   "source": [
    "```{sidebar}\n",
    "We can often add hard returns into our commands so they display better given our screen width, but these hard returns don't appear in the output.\n",
    "```\n",
    "### Hard Returns\n",
    "The **cat()** function takes a real step forward once we learn that\n",
    "\n",
    "<center><span style=\"color: red;font-weight:bold\">\\n</span></center>\n",
    "</br>\n",
    "\n",
    "insets a hard return. This enables actual formatting of output into something readable that looks professional."
   ]
  },
  {
   "cell_type": "code",
   "execution_count": 6,
   "id": "b4857c88-01d3-4109-a00d-48b88d70736f",
   "metadata": {},
   "outputs": [
    {
     "name": "stdout",
     "output_type": "stream",
     "text": [
      "Standard Descriptive Statistics for SLEEP:\n",
      "   Mean =  6.24031 \n",
      "   Standard Deviation =  2.131516 \n",
      "   Sample Size =  129"
     ]
    }
   ],
   "source": [
    "cat('Standard Descriptive Statistics for SLEEP:\\n   Mean = ',mean(s),\n",
    "    '\\n   Standard Deviation = ', sd(s),\n",
    "    '\\n   Sample Size = ',length(s))"
   ]
  },
  {
   "cell_type": "markdown",
   "id": "9bec0851-89a7-4806-a6fd-275598c7a129",
   "metadata": {},
   "source": [
    "### Rounded Values within the cat() Function\n",
    "\n",
    "We can even use the **round()** function inside that **cat()** function:"
   ]
  },
  {
   "cell_type": "code",
   "execution_count": 7,
   "id": "5702d419-687e-4965-ae35-a871431a4ba3",
   "metadata": {},
   "outputs": [
    {
     "name": "stdout",
     "output_type": "stream",
     "text": [
      "Standard Descriptive Statistics for SLEEP:\n",
      "   Mean =  6.24 \n",
      "   Standard Deviation =  2.13 \n",
      "   Sample Size =  129"
     ]
    }
   ],
   "source": [
    "cat('Standard Descriptive Statistics for SLEEP:\\n   Mean = ',round(mean(s),2),\n",
    "    '\\n   Standard Deviation = ', round(sd(s),2),\n",
    "    '\\n   Sample Size = ',length(s))"
   ]
  },
  {
   "cell_type": "markdown",
   "id": "728b2670-f717-4684-bf2e-1db1a2b2cd89",
   "metadata": {},
   "source": [
    "## The 5-Number Summary\n",
    "\n",
    "The 5-Number Summary splits the data set into 4 equally-sized sections or quartiles. The values needed to do so are as follows:\n",
    "- Min\n",
    "- Q1\n",
    "- Median\n",
    "- Q3\n",
    "- Max\n",
    "\n",
    "where Q1 and Q3 represent the 25th and 75th percentiles respectively. The command **summary()** will produce these values as shown below."
   ]
  },
  {
   "cell_type": "code",
   "execution_count": 8,
   "id": "2e169b83-cfcf-475a-8a0e-e7c6c6b38e80",
   "metadata": {},
   "outputs": [
    {
     "data": {
      "text/plain": [
       "   Min. 1st Qu.  Median    Mean 3rd Qu.    Max. \n",
       "   0.50    5.00    6.50    6.24    7.50   11.00 "
      ]
     },
     "metadata": {},
     "output_type": "display_data"
    }
   ],
   "source": [
    "summary(s)"
   ]
  },
  {
   "cell_type": "markdown",
   "id": "725e75be-d77b-4a71-8893-c5c19656949f",
   "metadata": {},
   "source": [
    "## Putting it All Together\n",
    "\n",
    "Let's use all the techniques in this section to, in one command line, display the standard descriptives and the 5-Number Summary."
   ]
  },
  {
   "cell_type": "code",
   "execution_count": 9,
   "id": "8092dfb7-5824-49ba-9b27-2073698d547b",
   "metadata": {},
   "outputs": [
    {
     "name": "stdout",
     "output_type": "stream",
     "text": [
      "The standard descriptives for SLEEP\n",
      "   Mean =  6.24 \n",
      "   Standard Deviation =  2.13 \n",
      "   Sample Size =  129 \n",
      "\n",
      "The 5-number summary for SLEEEP"
     ]
    },
    {
     "data": {
      "text/plain": [
       "   Min. 1st Qu.  Median    Mean 3rd Qu.    Max. \n",
       "   0.50    5.00    6.50    6.24    7.50   11.00 "
      ]
     },
     "metadata": {},
     "output_type": "display_data"
    }
   ],
   "source": [
    "cat('The standard descriptives for SLEEP\\n   Mean = ', round(mean(s),2),\n",
    "    '\\n   Standard Deviation = ', round(sd(s),2),\n",
    "    '\\n   Sample Size = ', length(s),\n",
    "    '\\n\\nThe 5-number summary for SLEEEP')\n",
    "summary(s)"
   ]
  },
  {
   "cell_type": "markdown",
   "id": "749da6bb-02b6-496d-8b21-a8b3338ea575",
   "metadata": {},
   "source": [
    "Notice that the **summary()** function is outside the **cat()** function. We did this because, inside the **cat()** function, the labels for the values get left off. Coding it this way allows a combination of formatting from the **cat()** function together with the nice styling of the **summary()** function."
   ]
  },
  {
   "cell_type": "code",
   "execution_count": null,
   "id": "83da628f-e982-4c87-aa8a-35e80996d62e",
   "metadata": {},
   "outputs": [],
   "source": []
  }
 ],
 "metadata": {
  "kernelspec": {
   "display_name": "R",
   "language": "R",
   "name": "ir"
  },
  "language_info": {
   "codemirror_mode": "r",
   "file_extension": ".r",
   "mimetype": "text/x-r-source",
   "name": "R",
   "pygments_lexer": "r",
   "version": "3.6.1"
  }
 },
 "nbformat": 4,
 "nbformat_minor": 5
}
