{
 "cells": [
  {
   "cell_type": "markdown",
   "id": "dda6d2d3-593f-499b-9a3d-da6a45101032",
   "metadata": {},
   "source": [
    "# Sampling Distributions"
   ]
  },
  {
   "cell_type": "markdown",
   "id": "cfe5d9e4-8cd4-4ad7-b249-ca7f2e302f77",
   "metadata": {},
   "source": [
    "We will need to import some data to work with sampling distributions. Updates pending as of 3/18/2025."
   ]
  },
  {
   "cell_type": "code",
   "execution_count": null,
   "id": "3c76eb4f-8684-433b-bf80-6a636db6a8d9",
   "metadata": {},
   "outputs": [],
   "source": []
  }
 ],
 "metadata": {
  "kernelspec": {
   "display_name": "R",
   "language": "R",
   "name": "ir"
  },
  "language_info": {
   "codemirror_mode": "r",
   "file_extension": ".r",
   "mimetype": "text/x-r-source",
   "name": "R",
   "pygments_lexer": "r",
   "version": "3.6.1"
  }
 },
 "nbformat": 4,
 "nbformat_minor": 5
}
