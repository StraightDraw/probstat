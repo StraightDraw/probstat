{
 "cells": [
  {
   "cell_type": "markdown",
   "id": "5d81c61b-b01f-4574-92f3-46394f68a01d",
   "metadata": {},
   "source": [
    "# Binomial Theorem\n",
    "\n",
    "The study of **Discrete Probability Functions** necessarily starts with a classic. We have four main discrete probability functions we will study:\n",
    "\n",
    "- Binomial\n",
    "- Geometric\n",
    "- Hypergeometric\n",
    "- Negative Binomial\n",
    "\n",
    "The binomial and geometric distributions are used widely in mathematics but apply as well to probability problem solving. However, a simple change in focus allows the Binomial Distribution to be hugely helpful. With help from  the Binomial Theorem we can solve some quite difficult problems will ease.\n",
    "\n",
    "The Binomial Distribution has been studied for centuries, but it's relationship to probability theory is a more recent development. If we learned about Pascal's Triangle in high school, often we were exploring its classic use of expanding a binomial like:\n",
    "\n",
    "$$(x+y)^5$$"
   ]
  },
  {
   "cell_type": "markdown",
   "id": "91993af4-769b-4598-a1fe-c82734a206d3",
   "metadata": {},
   "source": [
    "## Pascal's Triangle and Algebra\n",
    "\n",
    "We were taught to sketch a few rows of Pascal's Triangle using a nifty pattern:\n",
    "$$\\begin{array}{ccccccccccccc}&&&&&&1&&&&&&\\\\&&&&&1&&1&&&&&\\\\&&&&1&&2&&1&&&&\\\\&&&1&&3&&3&&1&&&\\\\&&1&&4&&6&&4&&1&&\\\\&1&&5&&10&&10&&5&&1&\\\\1&&6&&15&&20&&15&&6&&1\n",
    "\\end{array}$$\n",
    "\n",
    "Knowing the pattern of the powers of $x$ and $y$ had to ascend or descend in a standard way, we could write:"
   ]
  },
  {
   "cell_type": "markdown",
   "id": "28c0e33b-1bec-494c-9025-96a68e0bf15e",
   "metadata": {},
   "source": [
    "$$(x+y)^5=x^5+5x^4 y+10x^3y^2+10x^2y^3+5xy^4+6y^5$$\n",
    "\n",
    "Pascal's Triangle gave us the coefficients we needed to know so that we could avoid doing all the multiplications and simplifications required."
   ]
  },
  {
   "cell_type": "markdown",
   "id": "c871e22f-f013-4483-88f9-aea6dbb7b68c",
   "metadata": {},
   "source": [
    "## Pascal's Triangle and Probability\n",
    "\n",
    "How do we handle repeated draws **with replacement**? The answer is connected to Pascal's Triangle and binomial expansions. Consider coin flips.\n",
    "\n",
    "### Example: 3 Coin Flips\n",
    "\n",
    "What is the probability of flipping a coin three times and getting exactly $2$ \"heads\"?\n",
    "\n",
    "For these coin flips, let $H$ be the event of heads with event $T$ being tails. Let's create an ordered list covering all possibilities where we place in **bold** the arrangements that include exactly 2 results of heads."
   ]
  },
  {
   "cell_type": "markdown",
   "id": "2fc7fe28-5ba3-4837-83f9-6a54bdb505eb",
   "metadata": {},
   "source": [
    "$$\\begin{array}{c}\n",
    "\\text{HHH}\\\\\\textbf{HHT}\\\\\\textbf{HTH}\\\\\\text{HTT}\\\\\n",
    "\\textbf{THH}\\\\\\text{THT}\\\\\\text{TTH}\\\\\\text{TTT}\\\\\n",
    "\\end{array}$$"
   ]
  },
  {
   "cell_type": "markdown",
   "id": "8c64faa3-0d50-4e77-a10e-1a0139a59666",
   "metadata": {},
   "source": [
    "We see from our ordered list that the probability of 2 heads in three fair coin flips is given by:\n",
    "$$P(HH)=\\frac{|HH|}{|S|}=\\frac{3}{8}$$\n",
    "\n",
    "Let's compare all the probabilities the third row of Pascal's Triangle: \n",
    "$$\\begin{align*}\n",
    "P(HHH)&=\\frac{1}{8}\\\\\n",
    "P(HH)&=\\frac{3}{8}\\\\\n",
    "P(H)&=\\frac{3}{8}\\\\\n",
    "P(\\text{0 }H)&=\\frac{1}{8}\\\\\n",
    "\\end{align*}$$"
   ]
  },
  {
   "cell_type": "markdown",
   "id": "bd2ac452-f676-4652-8563-028ac4a8ca11",
   "metadata": {},
   "source": [
    "Writing out the first 4 rows lf Pascal's Triangle, we see the following:"
   ]
  },
  {
   "cell_type": "markdown",
   "id": "e9acbb3c-b092-4aad-9ef3-52081202bc8b",
   "metadata": {},
   "source": [
    "$$\\begin{array}{ccccccccc}&&&&1&&&&\\\\&&&1&&1&&&\\\\&&1&&2&&1&&\\\\&1&&3&&3&&1&\\\\1&&4&&6&&4&&1\n",
    "\\end{array}$$"
   ]
  },
  {
   "cell_type": "markdown",
   "id": "29c294ac-8c09-4044-87fb-978008354e34",
   "metadata": {},
   "source": [
    "Comparing the third row of Pascal's Triangle to the probabilities we calculated above, we find the following intriguing patterns:\n",
    "- The third row entires are the numerators for the probabilities shown above.\n",
    "- The sum of the third row entries is 8, the denominator of those fractions.\n",
    "\n",
    "These observations turn out to be true for every row of Pascal's Triangle and for every probability question where Pascal's Triangle applies.\n",
    "\n",
    "### Pascal's Triangle and Binomial Coefficients\n",
    "\n",
    "Let's write out Pascal's Triangle in a way that lends itself to probability problem solving:"
   ]
  },
  {
   "cell_type": "markdown",
   "id": "0f35e4db-d904-4b4b-9c6b-9a486d0f0296",
   "metadata": {},
   "source": [
    "$$\\begin{array}{ccccccccc}&&&&1&&&&\\\\&&&\\binom{1}{0}&&\\binom{1}{1}&&&\\\\&&\\binom{2}{0}&&\\binom{2}{1}&&\\binom{2}{2}&&\\\\&\\binom{3}{0}&&\\binom{3}{1}&&\\binom{3}{2}&&\\binom{3}{3}&\\\\\\binom{4}{0}&&\\binom{4}{1}&&\\binom{4}{2}&&\\binom{4}{3}&&\\binom{4}{4}\n",
    "\\end{array}$$"
   ]
  },
  {
   "cell_type": "markdown",
   "id": "85d2c8e8-dccf-445c-b46c-3a1c797fd212",
   "metadata": {},
   "source": [
    "The rows now relate to Bournouli trials. The 4th rows corresponds to a trial repeated 4 times. The lower portion of the coefficient relates to the number of successes observed during those trials."
   ]
  },
  {
   "cell_type": "markdown",
   "id": "b7b266f0-46bb-4477-bbf9-f78a70c13343",
   "metadata": {},
   "source": [
    "## Bournouli Trials\n",
    "\n",
    "A Bournouli trial is a repeated probability experiment with a fixed chance of success (e.g. coin flips). We can use the **Binomial Theorem** as a problem-solving tool for Bournouli trials. Suppose we conduct $n$ trials with $0\\leq x\\leq 1$ the probability of success and $y=1-x$ the probability of failure:\n",
    "\n",
    "$$\\begin{align*}\n",
    "(x+y)^n&=\\binom{n}{0}x^0y^n+\\binom{n}{1}x^1y^{n-1}+\\cdots+\\binom{n}{n}x^ny^0\\\\&=\\sum_{k=0}^n \\binom{n}{k}x^k y^{n-k}\n",
    "\\end{align*}$$"
   ]
  },
  {
   "cell_type": "markdown",
   "id": "b55e667e-ee01-4a98-b4d7-716a22691866",
   "metadata": {},
   "source": [
    "Note the following:\n",
    "- The sum of the terms from $0$ to $n$ is equal to $1$ since $(x+y)^n=(x+1-x)^n=1^n=1$\n",
    "- We can set the probability of success $x$ as needed provided $0\\leq x\\leq 1$.\n",
    "- Both R and a TI-84 graphing calculator can evaluate and sum the terms."
   ]
  },
  {
   "cell_type": "markdown",
   "id": "8602922e-1d4c-406a-af98-e558ae755e15",
   "metadata": {},
   "source": [
    "### Example: 3 Coin Flips Again\n",
    "\n",
    "This time, let's use the Binomial Theorem to solve the question: Given 3 fair coin flips, what is the probability that 2 of them are heads?\n",
    "\n",
    "We have:\n",
    "\n",
    "$$\\begin{align}n&=3\\\\k&=2\\\\x&=\\frac{1}{2}\\end{align}$$\n",
    "\n",
    "where\n",
    "- $n$ is the number of trials,\n",
    "- $k$ is the number of successes, and\n",
    "- $x$ is the probability of success.\n",
    "\n",
    "Also note that we have $y$, the probability of failure, by $y=1-x$. Thus, we can solve the problem immediately:\n",
    "\n",
    "$$P(k=2)=\\binom{3}{2}\\left(\\frac{1}{2}\\right)^2\\left(\\frac{1}{2}\\right)$$"
   ]
  },
  {
   "cell_type": "markdown",
   "id": "2f5c986a-3e56-4c25-b853-87583eb76ed1",
   "metadata": {},
   "source": [
    "### Example: More Coin Flips\n",
    "\n",
    "What if we change the question as follows:\n",
    "\n",
    "**If a fair coin is flipped 10 times, what is the probability that we see 6 or more heads?**"
   ]
  },
  {
   "cell_type": "markdown",
   "id": "e0921c55-7ede-476a-88e7-8cef6ec4863f",
   "metadata": {},
   "source": [
    "The overall probability is the sum of several terms:\n",
    "- Probability of exactly 6 heads,\n",
    "- Probability of exactly 7 heads,\n",
    "- Probability of exactly 8 heads,\n",
    "- Probability of exactly 9 heads, and\n",
    "- Probability of exactly 10 heads."
   ]
  },
  {
   "cell_type": "markdown",
   "id": "0213b9ba-0889-4c9e-94ff-c0c3b44cfb14",
   "metadata": {},
   "source": [
    "Mathematically, it's quite easy to write down the solution:\n",
    "\n",
    "$$P(k\\geq 6)=\\sum_{k=6}^{10}\\binom{10}{k}\\left(\\frac{1}{2}\\right)^k\\left(\\frac{1}{2}\\right)^{10-k}$$"
   ]
  },
  {
   "cell_type": "markdown",
   "id": "c0845f70-5cbf-4176-9e14-4baf1da6c46a",
   "metadata": {},
   "source": [
    "### Example: Unffair Coin Flips\n",
    "\n",
    "We ask the same question as that directly above, but we assign the probability of success to $\\frac{2}{5}$ to represent an unfair coin. This coin is weighted toward tails outcomes. However, the challenge is negligible mathematically.\n",
    "\n",
    "$$P(k\\geq 6)=\\sum_{k=6}^{10}\\binom{10}{k}\\left(\\frac{2}{5}\\right)^k\\left(\\frac{3}{5}\\right)^{10-k}$$"
   ]
  },
  {
   "cell_type": "markdown",
   "id": "e3530c60-14f1-4b2d-948b-6a3e94f1f7bd",
   "metadata": {},
   "source": [
    "## Calculations with the Biomial Theorem\n",
    "\n",
    "We would like to be to use R to estimate these probabilities. First, let's copy-paste the combinations and permuatations formulae from our [course notes](file:///C:/Users/robbs/Documents/Conda/books/probstat/_build/html/P2a.html#wrapping-up)."
   ]
  },
  {
   "cell_type": "code",
   "execution_count": 1,
   "id": "32e9d490-080c-4b96-b176-dc9c4fa12c43",
   "metadata": {},
   "outputs": [],
   "source": [
    "combin <- function(n, k) {\n",
    "    return(factorial(n) / ( factorial(k)*factorial(n-k) )) }\n",
    "perm <- function(n, k) {\n",
    "    return(combin(n,k) * factorial(k))}"
   ]
  },
  {
   "cell_type": "markdown",
   "id": "6a32975f-9668-46d9-bf66-9133722fa2da",
   "metadata": {},
   "source": [
    "We are now ready to evaluate these probabilities quickly in R."
   ]
  },
  {
   "cell_type": "markdown",
   "id": "f72be516-5d51-44e7-a486-cc0b3a96955e",
   "metadata": {},
   "source": [
    "### Three flips, 2 successes\n",
    "\n",
    "We found that mathematically\n",
    "\n",
    "$$P(k=2)=\\binom{3}{2}\\left(\\frac{1}{2}\\right)^2\\left(\\frac{1}{2}\\right)$$\n",
    "\n",
    "Let's do that in R."
   ]
  },
  {
   "cell_type": "code",
   "execution_count": 2,
   "id": "e8f1c39c-c079-42d9-8f10-0d7f7bc9f62a",
   "metadata": {},
   "outputs": [
    {
     "data": {
      "text/html": [
       "0.375"
      ],
      "text/latex": [
       "0.375"
      ],
      "text/markdown": [
       "0.375"
      ],
      "text/plain": [
       "[1] 0.375"
      ]
     },
     "metadata": {},
     "output_type": "display_data"
    }
   ],
   "source": [
    "combin(3,2) * 0.5^2 * 0.5"
   ]
  },
  {
   "cell_type": "code",
   "execution_count": 3,
   "id": "f0e6ca1f-3938-4e1a-87f9-f4cb2018e40f",
   "metadata": {},
   "outputs": [
    {
     "data": {
      "text/html": [
       "0.375"
      ],
      "text/latex": [
       "0.375"
      ],
      "text/markdown": [
       "0.375"
      ],
      "text/plain": [
       "[1] 0.375"
      ]
     },
     "metadata": {},
     "output_type": "display_data"
    }
   ],
   "source": [
    "# comparing to algebraic answer\n",
    "3/8"
   ]
  },
  {
   "cell_type": "markdown",
   "id": "01bf079e-4872-49ef-919f-bd1f2a2d2c6f",
   "metadata": {},
   "source": [
    "### Ten flips, 6 or more successes"
   ]
  },
  {
   "cell_type": "markdown",
   "id": "1bb60bc7-a9f7-4bee-84c9-7c8dd04b7500",
   "metadata": {},
   "source": [
    "We are evaluating the following:\n",
    "\n",
    "$$P(k\\geq 6)=\\sum_{k=6}^{10}\\binom{10}{k}\\left(\\frac{1}{2}\\right)^k\\left(\\frac{1}{2}\\right)^{10-k}$$"
   ]
  },
  {
   "cell_type": "markdown",
   "id": "1ea527fc-862f-4604-93df-30e83cb406ff",
   "metadata": {},
   "source": [
    "The summation in R will be carried out using a **FOR loop**. We calculate and store each term, and sum after the loop has completed all its work. Note the following:\n",
    "\n",
    "- **tab** is our \"tabulation\" vector, empty to begin with,\n",
    "- **lo** is our lower limit for the summation,\n",
    "- **hi** is our upper limit for the summation,\n",
    "- $x$ is our probability of success, and\n",
    "- $y$ is our probability of failure."
   ]
  },
  {
   "cell_type": "code",
   "execution_count": 4,
   "id": "4e2ea8c4-7aef-4508-bce3-687e38eb77cf",
   "metadata": {},
   "outputs": [
    {
     "data": {
      "text/html": [
       "0.376953125"
      ],
      "text/latex": [
       "0.376953125"
      ],
      "text/markdown": [
       "0.376953125"
      ],
      "text/plain": [
       "[1] 0.3769531"
      ]
     },
     "metadata": {},
     "output_type": "display_data"
    },
    {
     "data": {
      "text/html": [
       "<ol class=list-inline>\n",
       "\t<li>0.205078125</li>\n",
       "\t<li>0.1171875</li>\n",
       "\t<li>0.0439453125</li>\n",
       "\t<li>0.009765625</li>\n",
       "\t<li>0.0009765625</li>\n",
       "</ol>\n"
      ],
      "text/latex": [
       "\\begin{enumerate*}\n",
       "\\item 0.205078125\n",
       "\\item 0.1171875\n",
       "\\item 0.0439453125\n",
       "\\item 0.009765625\n",
       "\\item 0.0009765625\n",
       "\\end{enumerate*}\n"
      ],
      "text/markdown": [
       "1. 0.205078125\n",
       "2. 0.1171875\n",
       "3. 0.0439453125\n",
       "4. 0.009765625\n",
       "5. 0.0009765625\n",
       "\n",
       "\n"
      ],
      "text/plain": [
       "[1] 0.2050781250 0.1171875000 0.0439453125 0.0097656250 0.0009765625"
      ]
     },
     "metadata": {},
     "output_type": "display_data"
    }
   ],
   "source": [
    "tab <- c()            ## Empty vector to store all the terms \n",
    "n = 10                ## Number of trials\n",
    "lo = 6                ## LEAST Number of successes\n",
    "hi = 10                ## MOST Number of successes\n",
    "x = 1/2               ## Probability of success\n",
    "y = 1-x               ## Probability of failure\n",
    "k = 1                 ## Indexing variable for tab vector\n",
    "\n",
    "for (t in lo:hi){\n",
    "    tab[k] <- combin(n,t) * x^t * y^(n-t)         # Calculate the term and save in the vector \"tab\"\n",
    "    k <- k + 1\n",
    "}\n",
    "sum(tab)\n",
    "\n",
    "tab"
   ]
  },
  {
   "cell_type": "markdown",
   "id": "9ed1ec64-ec78-4b5e-bd0a-3da111b019a5",
   "metadata": {},
   "source": [
    "The list of five probabilities appears when we print out the complete **tab** vector. The sum is shown above that output."
   ]
  },
  {
   "cell_type": "markdown",
   "id": "6283d163-2a32-40f0-ba3c-f53d87fa8b4b",
   "metadata": {},
   "source": [
    "### Ten flips, unfair coin\n",
    "\n",
    "This requires little adjustment: we set the probability of success differently. Here, we set\n",
    "\n",
    "$$x=\\frac{2}{5}$$"
   ]
  },
  {
   "cell_type": "code",
   "execution_count": 5,
   "id": "09b4f8f3-96ef-41bc-8653-abe376a62472",
   "metadata": {},
   "outputs": [
    {
     "data": {
      "text/html": [
       "0.1662386176"
      ],
      "text/latex": [
       "0.1662386176"
      ],
      "text/markdown": [
       "0.1662386176"
      ],
      "text/plain": [
       "[1] 0.1662386"
      ]
     },
     "metadata": {},
     "output_type": "display_data"
    },
    {
     "data": {
      "text/html": [
       "<ol class=list-inline>\n",
       "\t<li>0.111476736</li>\n",
       "\t<li>0.042467328</li>\n",
       "\t<li>0.010616832</li>\n",
       "\t<li>0.001572864</li>\n",
       "\t<li>0.0001048576</li>\n",
       "</ol>\n"
      ],
      "text/latex": [
       "\\begin{enumerate*}\n",
       "\\item 0.111476736\n",
       "\\item 0.042467328\n",
       "\\item 0.010616832\n",
       "\\item 0.001572864\n",
       "\\item 0.0001048576\n",
       "\\end{enumerate*}\n"
      ],
      "text/markdown": [
       "1. 0.111476736\n",
       "2. 0.042467328\n",
       "3. 0.010616832\n",
       "4. 0.001572864\n",
       "5. 0.0001048576\n",
       "\n",
       "\n"
      ],
      "text/plain": [
       "[1] 0.1114767360 0.0424673280 0.0106168320 0.0015728640 0.0001048576"
      ]
     },
     "metadata": {},
     "output_type": "display_data"
    }
   ],
   "source": [
    "tab <- c()            ## Empty vector to store all the terms \n",
    "n = 10                ## Number of trials\n",
    "lo = 6                ## LEAST Number of successes\n",
    "hi = 10                ## MOST Number of successes\n",
    "x = 2/5               ## Probability of success\n",
    "y = 1-x               ## Probability of failure\n",
    "k = 1                 ## Indexing variable for tab vector\n",
    "\n",
    "for (t in lo:hi){\n",
    "    tab[k] <- combin(n,t) * x^t * y^(n-t)         # Calculate the term and save in the vector \"tab\"\n",
    "    k <- k + 1\n",
    "}\n",
    "sum(tab)\n",
    "\n",
    "tab"
   ]
  },
  {
   "cell_type": "code",
   "execution_count": null,
   "id": "7d3af5c2-c174-4295-9356-19094f2d3ea4",
   "metadata": {},
   "outputs": [],
   "source": []
  }
 ],
 "metadata": {
  "kernelspec": {
   "display_name": "R",
   "language": "R",
   "name": "ir"
  },
  "language_info": {
   "codemirror_mode": "r",
   "file_extension": ".r",
   "mimetype": "text/x-r-source",
   "name": "R",
   "pygments_lexer": "r",
   "version": "3.6.1"
  }
 },
 "nbformat": 4,
 "nbformat_minor": 5
}