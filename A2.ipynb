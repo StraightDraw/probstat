{
 "cells": [
  {
   "cell_type": "markdown",
   "id": "caae7212-e78f-4564-91d3-8c69c4eba0d7",
   "metadata": {},
   "source": [
    "# Helpful Code\n",
    "\n",
    "The very basics of R code are demonstrated below:\n",
    "\n",
    "1. Importing data from a URL\n",
    "2. Calculating the Standard Descriptives\n",
    "3. Calculating the 5-Number Summary\n",
    "4. Using the **cat()** function to print text and code output together with some formatting options."
   ]
  },
  {
   "cell_type": "markdown",
   "id": "27cd607f-aa84-4c6f-a88a-0dcacbeab75b",
   "metadata": {},
   "source": [
    "## Importing Data from a URL\n",
    "\n",
    "Many data sets are available on the internet in CSV format. The **read.csv()** function is very useful:\n",
    "\n",
    "1. A URL is its input.\n",
    "2. From the URL, R downloads the CSV file.\n",
    "3. From the CSV, R imports the file as a data frame.\n",
    "\n",
    "A typical example is shown below:"
   ]
  },
  {
   "cell_type": "code",
   "execution_count": 18,
   "id": "fe0e53ef-419d-423c-bf2c-1bd1a00df184",
   "metadata": {},
   "outputs": [],
   "source": [
    "pers <- read.csv('https://faculty.ung.edu/rsinn/data/personality.csv')"
   ]
  },
  {
   "cell_type": "code",
   "execution_count": 19,
   "id": "a186dcd6-13ee-4f98-96e3-3a27e975e471",
   "metadata": {},
   "outputs": [
    {
     "data": {
      "text/html": [
       "<table>\n",
       "<thead><tr><th scope=col>Age</th><th scope=col>Yr</th><th scope=col>Sex</th><th scope=col>G21</th><th scope=col>Corps</th><th scope=col>Res</th><th scope=col>Greek</th><th scope=col>VarsAth</th><th scope=col>Honor</th><th scope=col>GPA</th><th scope=col>...</th><th scope=col>Perf</th><th scope=col>OCD</th><th scope=col>Play</th><th scope=col>Extro</th><th scope=col>Narc</th><th scope=col>HSAF</th><th scope=col>HSSE</th><th scope=col>HSAG</th><th scope=col>HSSD</th><th scope=col>PHS</th></tr></thead>\n",
       "<tbody>\n",
       "\t<tr><td>21  </td><td>2   </td><td>M   </td><td>Y   </td><td>Y   </td><td>1   </td><td>N   </td><td>N   </td><td>N   </td><td>3.23</td><td>... </td><td>105 </td><td>10  </td><td>142 </td><td> 8  </td><td>11  </td><td>41  </td><td>40  </td><td>26  </td><td>27  </td><td>SE  </td></tr>\n",
       "\t<tr><td>20  </td><td>3   </td><td>F   </td><td>N   </td><td>N   </td><td>2   </td><td>Y   </td><td>N   </td><td>Y   </td><td>3.95</td><td>... </td><td>105 </td><td> 3  </td><td>172 </td><td>16  </td><td>11  </td><td>46  </td><td>52  </td><td>26  </td><td>33  </td><td>SE  </td></tr>\n",
       "\t<tr><td>22  </td><td>3   </td><td>M   </td><td>Y   </td><td>N   </td><td>2   </td><td>N   </td><td>N   </td><td>N   </td><td>3.06</td><td>... </td><td> 73 </td><td> 1  </td><td>134 </td><td>15  </td><td>11  </td><td>48  </td><td>42  </td><td>44  </td><td>29  </td><td>AG  </td></tr>\n",
       "</tbody>\n",
       "</table>\n"
      ],
      "text/latex": [
       "\\begin{tabular}{r|llllllllllllllllllllllllllllllllllll}\n",
       " Age & Yr & Sex & G21 & Corps & Res & Greek & VarsAth & Honor & GPA & ... & Perf & OCD & Play & Extro & Narc & HSAF & HSSE & HSAG & HSSD & PHS\\\\\n",
       "\\hline\n",
       "\t 21   & 2    & M    & Y    & Y    & 1    & N    & N    & N    & 3.23 & ...  & 105  & 10   & 142  &  8   & 11   & 41   & 40   & 26   & 27   & SE  \\\\\n",
       "\t 20   & 3    & F    & N    & N    & 2    & Y    & N    & Y    & 3.95 & ...  & 105  &  3   & 172  & 16   & 11   & 46   & 52   & 26   & 33   & SE  \\\\\n",
       "\t 22   & 3    & M    & Y    & N    & 2    & N    & N    & N    & 3.06 & ...  &  73  &  1   & 134  & 15   & 11   & 48   & 42   & 44   & 29   & AG  \\\\\n",
       "\\end{tabular}\n"
      ],
      "text/markdown": [
       "\n",
       "| Age | Yr | Sex | G21 | Corps | Res | Greek | VarsAth | Honor | GPA | ... | Perf | OCD | Play | Extro | Narc | HSAF | HSSE | HSAG | HSSD | PHS |\n",
       "|---|---|---|---|---|---|---|---|---|---|---|---|---|---|---|---|---|---|---|---|---|\n",
       "| 21   | 2    | M    | Y    | Y    | 1    | N    | N    | N    | 3.23 | ...  | 105  | 10   | 142  |  8   | 11   | 41   | 40   | 26   | 27   | SE   |\n",
       "| 20   | 3    | F    | N    | N    | 2    | Y    | N    | Y    | 3.95 | ...  | 105  |  3   | 172  | 16   | 11   | 46   | 52   | 26   | 33   | SE   |\n",
       "| 22   | 3    | M    | Y    | N    | 2    | N    | N    | N    | 3.06 | ...  |  73  |  1   | 134  | 15   | 11   | 48   | 42   | 44   | 29   | AG   |\n",
       "\n"
      ],
      "text/plain": [
       "  Age Yr Sex G21 Corps Res Greek VarsAth Honor GPA  ... Perf OCD Play Extro\n",
       "1 21  2  M   Y   Y     1   N     N       N     3.23 ... 105  10  142   8   \n",
       "2 20  3  F   N   N     2   Y     N       Y     3.95 ... 105   3  172  16   \n",
       "3 22  3  M   Y   N     2   N     N       N     3.06 ...  73   1  134  15   \n",
       "  Narc HSAF HSSE HSAG HSSD PHS\n",
       "1 11   41   40   26   27   SE \n",
       "2 11   46   52   26   33   SE \n",
       "3 11   48   42   44   29   AG "
      ]
     },
     "metadata": {},
     "output_type": "display_data"
    }
   ],
   "source": [
    "head(pers,3)"
   ]
  },
  {
   "cell_type": "markdown",
   "id": "06b6ecfa-1c0d-46d9-aedc-454cd820d5cf",
   "metadata": {},
   "source": [
    "To work with examples below, let's grab the age column as a single vector of numeric data."
   ]
  },
  {
   "cell_type": "code",
   "execution_count": 20,
   "id": "56890011-5374-45c8-8c61-e6009ef76a48",
   "metadata": {},
   "outputs": [],
   "source": [
    "age <- pers$Age"
   ]
  },
  {
   "cell_type": "markdown",
   "id": "5624230c-2dd3-474e-b9ad-d4e5ab1b3de4",
   "metadata": {},
   "source": [
    "## Standard Descriptives\n",
    "\n",
    "The three most valuable statistics for nearly any data set are the mean, standard deviation and sample size. The functions we need are intuitively named:\n",
    "1. mean()\n",
    "2. sd()\n",
    "3. length()"
   ]
  },
  {
   "cell_type": "code",
   "execution_count": 21,
   "id": "79c377cc-7af2-455c-a5c3-37a4c6c13bb7",
   "metadata": {},
   "outputs": [],
   "source": [
    "m <- mean(age) ; s <- sd(age) ; n <- length(age)"
   ]
  },
  {
   "cell_type": "markdown",
   "id": "94750b51-47fc-4ea7-9c93-2c9249848ee6",
   "metadata": {},
   "source": [
    "## 5-Number Summary\n",
    "\n",
    "The 5-Number Summary of a numeric vector includes the **min**, **Q1**, **med**, **Q3**, and **max** values where Q1 and Q3 are the 25th percentile and 75th percentile respectively."
   ]
  },
  {
   "cell_type": "code",
   "execution_count": 22,
   "id": "07d80777-fbde-43ea-84df-c1c1afec39ef",
   "metadata": {},
   "outputs": [
    {
     "data": {
      "text/plain": [
       "   Min. 1st Qu.  Median    Mean 3rd Qu.    Max. \n",
       "  17.00   19.00   20.00   20.81   21.00   50.00 "
      ]
     },
     "metadata": {},
     "output_type": "display_data"
    }
   ],
   "source": [
    "summary(age)"
   ]
  },
  {
   "cell_type": "markdown",
   "id": "94da7bf8-68c7-46c8-be70-3751fd5e322e",
   "metadata": {},
   "source": [
    "```{sidebar} Hard Return\n",
    "In R, the hard return symbol is \\n\n",
    "```\n",
    "### Cat() Function\n",
    "\n",
    "We use the **cat()** function to combine printed output with code output. We can format some text and the values found above:"
   ]
  },
  {
   "cell_type": "code",
   "execution_count": 23,
   "id": "0c57e8c2-4529-467a-b09a-c53c4d356869",
   "metadata": {},
   "outputs": [
    {
     "name": "stdout",
     "output_type": "stream",
     "text": [
      "Standard descriptives for Age variable \n",
      "Mean =  20.81395 \n",
      "Std Dev =  3.639556 \n",
      "Sample Size =  129"
     ]
    }
   ],
   "source": [
    "cat('Standard descriptives for Age variable \\nMean = ', m, '\\nStd Dev = ', s, '\\nSample Size = ',n)"
   ]
  },
  {
   "cell_type": "markdown",
   "id": "2a54eff6-5814-4298-8c49-49af863a6959",
   "metadata": {},
   "source": [
    "### Formatting with the Cat() Function\n",
    "\n",
    "We can round the mean and standard deviation for readability, and we can include all the necessary code with the **cat()** function itself.\n",
    "\n",
    "```{tip} Long Coding Lines\n",
    "Long lines of code can be seperated by hard returns. R ignores most returns and spaces. Be sure to indent the same amount of spaces for each continuation line.\n",
    "```"
   ]
  },
  {
   "cell_type": "code",
   "execution_count": 24,
   "id": "67fdbbea-818e-4346-87be-e3b71451c0df",
   "metadata": {},
   "outputs": [
    {
     "name": "stdout",
     "output_type": "stream",
     "text": [
      "Standard descriptives for Age variable \n",
      "          \n",
      "Mean =  20.81 \n",
      "Std Dev =  3.64 \n",
      "Sample Size =  129"
     ]
    }
   ],
   "source": [
    "cat('Standard descriptives for Age variable \n",
    "          \\nMean = ', round(mean(age),2), \n",
    "         '\\nStd Dev = ', round(sd(age),3), \n",
    "         '\\nSample Size = ',n)"
   ]
  },
  {
   "cell_type": "markdown",
   "id": "4d8f9770-87b3-472e-82fa-7034452678b6",
   "metadata": {},
   "source": [
    "Finally, let's also print out the 5-Number Summary below the standard descriptives. Please notice that the summary performs awkwardly inside the **cat()** function. Still, we can format our output nicely in spite of this. The code is shown below:"
   ]
  },
  {
   "cell_type": "code",
   "execution_count": 25,
   "id": "c4e8b00e-9aba-40a3-915c-80bde442c873",
   "metadata": {},
   "outputs": [
    {
     "name": "stdout",
     "output_type": "stream",
     "text": [
      "Standard descriptives for Age variable \n",
      "         \n",
      "Mean =  20.81 \n",
      "Std Dev =  3.64 \n",
      "Sample Size =  129 \n",
      "\n",
      "The 5-Number Summary for Age variable\n",
      "\n"
     ]
    },
    {
     "data": {
      "text/plain": [
       "   Min. 1st Qu.  Median    Mean 3rd Qu.    Max. \n",
       "  17.00   19.00   20.00   20.81   21.00   50.00 "
      ]
     },
     "metadata": {},
     "output_type": "display_data"
    }
   ],
   "source": [
    "cat('Standard descriptives for Age variable \n",
    "         \\nMean = ', round(mean(age),2), \n",
    "         '\\nStd Dev = ', round(sd(age),3), \n",
    "         '\\nSample Size = ',n,\n",
    "         '\\n\\nThe 5-Number Summary for Age variable\\n\\n')\n",
    "summary(age)"
   ]
  }
 ],
 "metadata": {
  "kernelspec": {
   "display_name": "R",
   "language": "R",
   "name": "ir"
  },
  "language_info": {
   "codemirror_mode": "r",
   "file_extension": ".r",
   "mimetype": "text/x-r-source",
   "name": "R",
   "pygments_lexer": "r",
   "version": "3.6.1"
  }
 },
 "nbformat": 4,
 "nbformat_minor": 5
}
