{
 "cells": [
  {
   "cell_type": "markdown",
   "id": "195f03b8-302a-4034-8734-e99e3730cc88",
   "metadata": {},
   "source": [
    "# Sampling Functions\n",
    "\n",
    "The package **mosaic** features classic sampling functions for R. However, in this environment we use for class, mosaic is difficult to load. Still, we can import the code for useful functions directly and run them in R. This page provides the code to copy into an R notebook along with examples to guide usage.\n",
    "\n",
    "Three mosaic functions that will be useful for us include:\n",
    "\n",
    "1. rflip()\n",
    "2. rspin()\n",
    "3. sample.data.frame()"
   ]
  },
  {
   "cell_type": "markdown",
   "id": "0d81abe5-6f6f-4a5b-b517-dd9b2c5fcb90",
   "metadata": {},
   "source": [
    "## The **rflip()** Function\n",
    "\n",
    "When we want to simulate coin flips, the **rflip** function generates and organizes the output. The function parameters are as follows:\n",
    "\n",
    "- **n** -- the number of coins to toss\n",
    "- **prob** -- probability of heads on each toss\n",
    "- **quiet** -- a logical.  If `TRUE`, less verbose output is used.\n",
    "- **verbose** -- a logical.  If `TRUE`, more verbose output is used.\n",
    "- **summarize** -- if `TRUE`, return a summary (as a data frame).\n",
    "\n",
    "Some examples:\n",
    "- rflip(10)\n",
    "- rflip(10, prob = 1/6, quiet = TRUE)\n",
    "- rflip(10, prob = 1/6, summarize = TRUE)"
   ]
  },
  {
   "cell_type": "markdown",
   "id": "00a81d75-d0d1-4756-996a-752db122e86d",
   "metadata": {},
   "source": [
    "The code to create the function **rflip()** is below."
   ]
  },
  {
   "cell_type": "code",
   "execution_count": 1,
   "id": "00aea4f3-2caf-4620-a931-e90be4ca0fc0",
   "metadata": {},
   "outputs": [],
   "source": [
    "rflip <- function(n=1, prob=.5, quiet=FALSE, verbose = !quiet, summarize = FALSE, \n",
    "                  summarise = summarize) {\n",
    "\tif ( ( prob > 1 && is.integer(prob) ) ) {  \n",
    "\t\t# swap n and prob\n",
    "\t\ttemp <- prob\n",
    "\t\tprob <- n\n",
    "\t\tn <- temp\n",
    "\t}\n",
    "\tif (summarise) {\n",
    "\t  heads <- rbinom(1, n, prob)\n",
    "\t  return(data.frame(n = n, heads = heads, tails = n - heads, prob = prob))\n",
    "\t} else {\n",
    "\t  r <- rbinom(n,1,prob)\n",
    "\t  result <- c('T','H')[ 1 + r ]\n",
    "\t  heads <- sum(r)\n",
    "\t  attr(heads,\"n\") <- n\n",
    "\t  attr(heads,\"prob\") <- prob \n",
    "\t  attr(heads,\"sequence\") <- result\n",
    "\t  attr(heads,\"verbose\") <- verbose\n",
    "\t  class(heads) <- 'cointoss'\n",
    "\t  return(heads)\n",
    "\t}\n",
    "}"
   ]
  },
  {
   "cell_type": "markdown",
   "id": "29c86f05-53ea-4867-87a9-dacd3d4730df",
   "metadata": {},
   "source": [
    "Let's flip $20$ coins and observe the different output configurations we can access."
   ]
  },
  {
   "cell_type": "code",
   "execution_count": 2,
   "id": "04311ac4-a1e9-4f03-accd-770da6008d9e",
   "metadata": {},
   "outputs": [
    {
     "data": {
      "text/plain": [
       "[1] 11\n",
       "attr(,\"n\")\n",
       "[1] 20\n",
       "attr(,\"prob\")\n",
       "[1] 0.5\n",
       "attr(,\"sequence\")\n",
       " [1] \"H\" \"T\" \"H\" \"H\" \"H\" \"T\" \"H\" \"T\" \"H\" \"T\" \"H\" \"H\" \"H\" \"T\" \"T\" \"T\" \"H\" \"H\" \"T\"\n",
       "[20] \"T\"\n",
       "attr(,\"verbose\")\n",
       "[1] TRUE\n",
       "attr(,\"class\")\n",
       "[1] \"cointoss\""
      ]
     },
     "metadata": {},
     "output_type": "display_data"
    }
   ],
   "source": [
    "rflip(20)"
   ]
  },
  {
   "cell_type": "markdown",
   "id": "d87812ae-604a-4a71-b9f0-eeef053e18ca",
   "metadata": {},
   "source": [
    "Notice that the \"number of successes\" is the first output and that the outputs are in a dataframe that we can subset normally. Thus, we can use square brackets [] to access that value:"
   ]
  },
  {
   "cell_type": "code",
   "execution_count": 3,
   "id": "ba253eb7-c87a-4447-8a9c-9e0d3ccb2f14",
   "metadata": {},
   "outputs": [
    {
     "data": {
      "text/html": [
       "14"
      ],
      "text/latex": [
       "14"
      ],
      "text/markdown": [
       "14"
      ],
      "text/plain": [
       "[1] 14"
      ]
     },
     "metadata": {},
     "output_type": "display_data"
    }
   ],
   "source": [
    "rflip(20)[1]"
   ]
  },
  {
   "cell_type": "markdown",
   "id": "bfdcb3b2-32e3-4ad6-a53c-d984da64835c",
   "metadata": {},
   "source": [
    "What if the probability of success is different than 50\\%? We can use the *prob =* option to set the correct value."
   ]
  },
  {
   "cell_type": "code",
   "execution_count": 4,
   "id": "268952dd-592c-495c-9e34-9d846cc6e7b2",
   "metadata": {},
   "outputs": [
    {
     "data": {
      "text/plain": [
       "[1] 2\n",
       "attr(,\"n\")\n",
       "[1] 20\n",
       "attr(,\"prob\")\n",
       "[1] 0.1666667\n",
       "attr(,\"sequence\")\n",
       " [1] \"T\" \"T\" \"T\" \"T\" \"T\" \"T\" \"T\" \"T\" \"T\" \"T\" \"H\" \"T\" \"T\" \"T\" \"T\" \"T\" \"T\" \"T\" \"T\"\n",
       "[20] \"H\"\n",
       "attr(,\"verbose\")\n",
       "[1] TRUE\n",
       "attr(,\"class\")\n",
       "[1] \"cointoss\""
      ]
     },
     "metadata": {},
     "output_type": "display_data"
    }
   ],
   "source": [
    "rflip(20, prob = 1/6)"
   ]
  },
  {
   "cell_type": "markdown",
   "id": "47715fc5-8b22-48e1-83d8-902372b01baa",
   "metadata": {},
   "source": [
    "The function **rflip()** will organize the results attractively for us in an dataframe if we set the option *summarize = TRUE*."
   ]
  },
  {
   "cell_type": "code",
   "execution_count": 5,
   "id": "2fc1d760-4b4c-43b9-a244-d8aac86644cc",
   "metadata": {},
   "outputs": [
    {
     "data": {
      "text/html": [
       "<table>\n",
       "<thead><tr><th scope=col>n</th><th scope=col>heads</th><th scope=col>tails</th><th scope=col>prob</th></tr></thead>\n",
       "<tbody>\n",
       "\t<tr><td>20       </td><td>2        </td><td>18       </td><td>0.1666667</td></tr>\n",
       "</tbody>\n",
       "</table>\n"
      ],
      "text/latex": [
       "\\begin{tabular}{r|llll}\n",
       " n & heads & tails & prob\\\\\n",
       "\\hline\n",
       "\t 20        & 2         & 18        & 0.1666667\\\\\n",
       "\\end{tabular}\n"
      ],
      "text/markdown": [
       "\n",
       "| n | heads | tails | prob |\n",
       "|---|---|---|---|\n",
       "| 20        | 2         | 18        | 0.1666667 |\n",
       "\n"
      ],
      "text/plain": [
       "  n  heads tails prob     \n",
       "1 20 2     18    0.1666667"
      ]
     },
     "metadata": {},
     "output_type": "display_data"
    }
   ],
   "source": [
    "rflip(20, prob = 1/6, summarize = TRUE)"
   ]
  },
  {
   "cell_type": "markdown",
   "id": "27423d6e-115d-4c95-91e3-4402fba1b8ba",
   "metadata": {},
   "source": [
    "## The **rspin()** Function"
   ]
  },
  {
   "cell_type": "markdown",
   "id": "c4cf7d15-71fc-428e-ab69-f8942cf94e59",
   "metadata": {},
   "source": [
    "We can simulate spinning a spinner with **rspin()** using the following input parameters.\n",
    "\n",
    "- **n** number of spins of spinner\n",
    "- **probs** -- a vector of probabilities.  If the sum is not 1, the probabilities will be rescaled.\n",
    "- **labels** -- a character vector of labels for the categories\n",
    "\n",
    "Some examples:\n",
    "\n",
    "- rspin(20, prob=c(1,2,3), labels=c(\"Red\", \"Blue\", \"Green\"))\n",
    "- rspin(30, prob=c(1,2,3,4), labels=c(\"Red\", \"Blue\", \"Green\", \"Purple\"))"
   ]
  },
  {
   "cell_type": "code",
   "execution_count": 6,
   "id": "4d471ee8-e54b-4a71-a623-bed19338e768",
   "metadata": {},
   "outputs": [],
   "source": [
    "rspin <- function(n, probs, labels=1:length(probs)) {\n",
    "  if (any(probs < 0))\n",
    "    stop(\"All probs must be non-negative.\")\n",
    "  \n",
    "  probs <- probs/sum(probs)\n",
    "  res <- as.data.frame(t(rmultinom(1, n, probs)))\n",
    "  names(res) <- labels\n",
    "  res\n",
    "}"
   ]
  },
  {
   "cell_type": "markdown",
   "id": "4e56c7d0-69ee-4fec-9f41-665105e1f677",
   "metadata": {},
   "source": [
    "Two straightforward examples should suffice to demonstrate how the function works."
   ]
  },
  {
   "cell_type": "code",
   "execution_count": 7,
   "id": "6a6c52fe-726d-4314-8e9c-a7aede15b735",
   "metadata": {},
   "outputs": [
    {
     "data": {
      "text/html": [
       "<table>\n",
       "<thead><tr><th scope=col>Red</th><th scope=col>Blue</th><th scope=col>Green</th></tr></thead>\n",
       "<tbody>\n",
       "\t<tr><td>4 </td><td>4 </td><td>12</td></tr>\n",
       "</tbody>\n",
       "</table>\n"
      ],
      "text/latex": [
       "\\begin{tabular}{r|lll}\n",
       " Red & Blue & Green\\\\\n",
       "\\hline\n",
       "\t 4  & 4  & 12\\\\\n",
       "\\end{tabular}\n"
      ],
      "text/markdown": [
       "\n",
       "| Red | Blue | Green |\n",
       "|---|---|---|\n",
       "| 4  | 4  | 12 |\n",
       "\n"
      ],
      "text/plain": [
       "  Red Blue Green\n",
       "1 4   4    12   "
      ]
     },
     "metadata": {},
     "output_type": "display_data"
    }
   ],
   "source": [
    "rspin(20, prob=c(1,2,3), labels=c(\"Red\", \"Blue\", \"Green\"))"
   ]
  },
  {
   "cell_type": "code",
   "execution_count": 8,
   "id": "4cfc6309-7064-4940-afc6-9bd03a6db4a2",
   "metadata": {},
   "outputs": [
    {
     "data": {
      "text/html": [
       "<table>\n",
       "<thead><tr><th scope=col>Red</th><th scope=col>Blue</th><th scope=col>Green</th><th scope=col>Purple</th></tr></thead>\n",
       "<tbody>\n",
       "\t<tr><td>3 </td><td>3 </td><td>12</td><td>12</td></tr>\n",
       "</tbody>\n",
       "</table>\n"
      ],
      "text/latex": [
       "\\begin{tabular}{r|llll}\n",
       " Red & Blue & Green & Purple\\\\\n",
       "\\hline\n",
       "\t 3  & 3  & 12 & 12\\\\\n",
       "\\end{tabular}\n"
      ],
      "text/markdown": [
       "\n",
       "| Red | Blue | Green | Purple |\n",
       "|---|---|---|---|\n",
       "| 3  | 3  | 12 | 12 |\n",
       "\n"
      ],
      "text/plain": [
       "  Red Blue Green Purple\n",
       "1 3   3    12    12    "
      ]
     },
     "metadata": {},
     "output_type": "display_data"
    }
   ],
   "source": [
    "rspin(30, prob=c(1,2,3,4), labels=c(\"Red\", \"Blue\", \"Green\", \"Purple\"))"
   ]
  },
  {
   "cell_type": "markdown",
   "id": "6f9fad0f-d11f-4ea6-a2aa-6de0cca7160e",
   "metadata": {},
   "source": [
    "### Genetics Example: Flowers\n",
    "\n",
    "Suppose that, based upon Mendel’s laws as expressed in the Punnett square, we have a hybrid where we expect the **purple** to **white** flower ratio to be $3 : 1$. Let's use **rspin()** to simulate growing 400 of the plants and counting the frequency of purple and white flowers."
   ]
  },
  {
   "cell_type": "code",
   "execution_count": 9,
   "id": "2438f0cb-7d31-4d84-b461-819191bf2205",
   "metadata": {},
   "outputs": [
    {
     "data": {
      "text/html": [
       "<table>\n",
       "<thead><tr><th scope=col>Purple</th><th scope=col>White</th></tr></thead>\n",
       "<tbody>\n",
       "\t<tr><td>311</td><td>89 </td></tr>\n",
       "</tbody>\n",
       "</table>\n"
      ],
      "text/latex": [
       "\\begin{tabular}{r|ll}\n",
       " Purple & White\\\\\n",
       "\\hline\n",
       "\t 311 & 89 \\\\\n",
       "\\end{tabular}\n"
      ],
      "text/markdown": [
       "\n",
       "| Purple | White |\n",
       "|---|---|\n",
       "| 311 | 89  |\n",
       "\n"
      ],
      "text/plain": [
       "  Purple White\n",
       "1 311    89   "
      ]
     },
     "metadata": {},
     "output_type": "display_data"
    }
   ],
   "source": [
    "rspin(400, prob=c(3,1), labels=c(\"Purple\", \"White\"))"
   ]
  },
  {
   "cell_type": "markdown",
   "id": "845fdb53-b650-4373-915c-253e3c735df5",
   "metadata": {},
   "source": [
    "### Genetics Example: Peas"
   ]
  },
  {
   "cell_type": "markdown",
   "id": "9eb3ebc4-6a8b-4db9-b810-51a0468ddfd9",
   "metadata": {},
   "source": [
    "Mendel chose to work with common, garden-variety pea plants for his experiments because they grow quickly and are easily raised. The plants have several visible characteristics that vary by proportions predicted by genetics, and we will focus on two of them:\n",
    "\n",
    "- Seeds can be round or wrinkled\n",
    "- Seeds can have yellow or green cotyledons. Cotyledons refer to the tiny leaves inside the seeds.\n",
    "\n",
    "In Mendel's experiment, he determined that the expected value for proportions were as given in the chart below:\n",
    "\n",
    "<html><table style=\"width:45%\">\n",
    "  <tr>\n",
    "    <th>Phenotype</th>\n",
    "    <th>Expected Proportion</th>\n",
    "  </tr>\n",
    "  <tr>\n",
    "    <td>Round Yellow</td>\n",
    "    <td align=\"center\">9/16</td>\n",
    "  </tr>\n",
    "  <tr>\n",
    "    <td>Round Green</td>\n",
    "    <td align=\"center\">3/16</td>\n",
    "  </tr>\n",
    "  <tr>\n",
    "    <td>Wrinkled Yellow</td>\n",
    "    <td align=\"center\">3/16</td>\n",
    "  </tr>\n",
    "  <tr>\n",
    "    <td>Wrinkled Green</td>\n",
    "    <td align=\"center\">1/16</td>\n",
    "  </tr>\n",
    "</table></html>\n",
    "\n",
    "Let's use **rspin()** to simulate growing 2000 of the plants and determining with what frequencies these attributes occur."
   ]
  },
  {
   "cell_type": "code",
   "execution_count": 10,
   "id": "4490e58d-c5d2-4445-a4f5-691884055cbf",
   "metadata": {},
   "outputs": [
    {
     "data": {
      "text/html": [
       "<table>\n",
       "<thead><tr><th scope=col>Round Yellow</th><th scope=col>Round Green</th><th scope=col>Wrinkled Yellow</th><th scope=col>Wrinkled Green</th></tr></thead>\n",
       "<tbody>\n",
       "\t<tr><td>229</td><td>76 </td><td>67 </td><td>28 </td></tr>\n",
       "</tbody>\n",
       "</table>\n"
      ],
      "text/latex": [
       "\\begin{tabular}{r|llll}\n",
       " Round Yellow & Round Green & Wrinkled Yellow & Wrinkled Green\\\\\n",
       "\\hline\n",
       "\t 229 & 76  & 67  & 28 \\\\\n",
       "\\end{tabular}\n"
      ],
      "text/markdown": [
       "\n",
       "| Round Yellow | Round Green | Wrinkled Yellow | Wrinkled Green |\n",
       "|---|---|---|---|\n",
       "| 229 | 76  | 67  | 28  |\n",
       "\n"
      ],
      "text/plain": [
       "  Round Yellow Round Green Wrinkled Yellow Wrinkled Green\n",
       "1 229          76          67              28            "
      ]
     },
     "metadata": {},
     "output_type": "display_data"
    }
   ],
   "source": [
    "rspin(400, prob=c(9,3,3,1), labels=c(\"Round Yellow\", \"Round Green\", \"Wrinkled Yellow\", \"Wrinkled Green\"))"
   ]
  },
  {
   "cell_type": "markdown",
   "id": "f5677b41-d7d0-4530-8c7a-aedd95a8779b",
   "metadata": {},
   "source": [
    "## The **sample.data.frame()** Function"
   ]
  },
  {
   "cell_type": "markdown",
   "id": "0ced4162-2cde-4141-8dd1-f4b04c9cf655",
   "metadata": {},
   "source": [
    "We often wish to generate a random sample of rows from a dataframe, and **sample.date.frame** helps us to do so quickly.\n",
    "\n",
    "- **x** -- dataframe to sample from\n",
    "- **size** -- sample size to draw\n",
    "- **groups** -- a vector (or variable in a data frame) specifying groups to sample within.\n",
    "- **orig.ids** -- a logical; should original ids be included in returned data frame?\n",
    "- **\\dots** -- additional arguments passed to *base::sample()*.\n",
    "- **shuffled** -- a vector of column names. These variables are reshuffled individually (within groups if `groups` is specified), breaking associations among these columns.\n",
    "\n",
    "Some examples:"
   ]
  },
  {
   "cell_type": "code",
   "execution_count": 11,
   "id": "ce1c23a2-295e-4b0f-94ad-188fe6b2633b",
   "metadata": {},
   "outputs": [],
   "source": [
    "sample.data.frame <- function(x, size, replace = FALSE, prob = NULL, groups=NULL, \n",
    "                              orig.ids = TRUE, fixed = names(x), shuffled = c(),\n",
    "                              invisibly.return = NULL, ...) {\n",
    "  if( missing(size) ) size = nrow(x)\n",
    "  if( is.null(invisibly.return) ) invisibly.return = size>50 \n",
    "  shuffled <- intersect(shuffled, names(x))\n",
    "  fixed <- setdiff(intersect(fixed, names(x)), shuffled)\n",
    "  n <- nrow(x)\n",
    "  ids <- 1:n\n",
    "  groups <- eval( substitute(groups), x )\n",
    "  newids <- sample(n, size, replace=replace, prob=prob, ...)\n",
    "  origids <- ids[newids]\n",
    "  result <- x[newids, , drop=FALSE]\n",
    "  \n",
    "  idsString <- as.character(origids)\n",
    "  \n",
    "  for (column in shuffled) {\n",
    "    cids <- sample(newids, groups=groups[newids])\n",
    "    result[,column] <- x[cids,column]\n",
    "    idsString <- paste(idsString, \".\", cids, sep=\"\")\n",
    "  }\n",
    "  \n",
    "  result <-  result[ , union(fixed,shuffled), drop=FALSE]\n",
    "  if (orig.ids) result$orig.id <- idsString\n",
    "  \n",
    "  \n",
    "  if (invisibly.return) { return(invisible(result)) } else {return(result)}\n",
    "}"
   ]
  },
  {
   "cell_type": "markdown",
   "id": "9a2dd891-0a91-47d1-9779-9ee9d473b0c1",
   "metadata": {},
   "source": [
    "Let's load some data to do some examples."
   ]
  },
  {
   "cell_type": "code",
   "execution_count": 12,
   "id": "3f3bfb4f-b145-4ac1-8d79-63a99fb40fbc",
   "metadata": {},
   "outputs": [
    {
     "data": {
      "text/html": [
       "<table>\n",
       "<thead><tr><th scope=col>Age</th><th scope=col>Yr</th><th scope=col>Sex</th><th scope=col>G21</th><th scope=col>Corps</th><th scope=col>Res</th><th scope=col>Greek</th><th scope=col>VarsAth</th><th scope=col>Honor</th><th scope=col>GPA</th><th scope=col>...</th><th scope=col>Perf</th><th scope=col>OCD</th><th scope=col>Play</th><th scope=col>Extro</th><th scope=col>Narc</th><th scope=col>HSAF</th><th scope=col>HSSE</th><th scope=col>HSAG</th><th scope=col>HSSD</th><th scope=col>PHS</th></tr></thead>\n",
       "<tbody>\n",
       "\t<tr><td>21  </td><td>2   </td><td>M   </td><td>Y   </td><td>Y   </td><td>1   </td><td>N   </td><td>N   </td><td>N   </td><td>3.23</td><td>... </td><td>105 </td><td>10  </td><td>142 </td><td> 8  </td><td>11  </td><td>41  </td><td>40  </td><td>26  </td><td>27  </td><td>SE  </td></tr>\n",
       "\t<tr><td>20  </td><td>3   </td><td>F   </td><td>N   </td><td>N   </td><td>2   </td><td>Y   </td><td>N   </td><td>Y   </td><td>3.95</td><td>... </td><td>105 </td><td> 3  </td><td>172 </td><td>16  </td><td>11  </td><td>46  </td><td>52  </td><td>26  </td><td>33  </td><td>SE  </td></tr>\n",
       "\t<tr><td>22  </td><td>3   </td><td>M   </td><td>Y   </td><td>N   </td><td>2   </td><td>N   </td><td>N   </td><td>N   </td><td>3.06</td><td>... </td><td> 73 </td><td> 1  </td><td>134 </td><td>15  </td><td>11  </td><td>48  </td><td>42  </td><td>44  </td><td>29  </td><td>AG  </td></tr>\n",
       "</tbody>\n",
       "</table>\n"
      ],
      "text/latex": [
       "\\begin{tabular}{r|llllllllllllllllllllllllllllllllllll}\n",
       " Age & Yr & Sex & G21 & Corps & Res & Greek & VarsAth & Honor & GPA & ... & Perf & OCD & Play & Extro & Narc & HSAF & HSSE & HSAG & HSSD & PHS\\\\\n",
       "\\hline\n",
       "\t 21   & 2    & M    & Y    & Y    & 1    & N    & N    & N    & 3.23 & ...  & 105  & 10   & 142  &  8   & 11   & 41   & 40   & 26   & 27   & SE  \\\\\n",
       "\t 20   & 3    & F    & N    & N    & 2    & Y    & N    & Y    & 3.95 & ...  & 105  &  3   & 172  & 16   & 11   & 46   & 52   & 26   & 33   & SE  \\\\\n",
       "\t 22   & 3    & M    & Y    & N    & 2    & N    & N    & N    & 3.06 & ...  &  73  &  1   & 134  & 15   & 11   & 48   & 42   & 44   & 29   & AG  \\\\\n",
       "\\end{tabular}\n"
      ],
      "text/markdown": [
       "\n",
       "| Age | Yr | Sex | G21 | Corps | Res | Greek | VarsAth | Honor | GPA | ... | Perf | OCD | Play | Extro | Narc | HSAF | HSSE | HSAG | HSSD | PHS |\n",
       "|---|---|---|---|---|---|---|---|---|---|---|---|---|---|---|---|---|---|---|---|---|\n",
       "| 21   | 2    | M    | Y    | Y    | 1    | N    | N    | N    | 3.23 | ...  | 105  | 10   | 142  |  8   | 11   | 41   | 40   | 26   | 27   | SE   |\n",
       "| 20   | 3    | F    | N    | N    | 2    | Y    | N    | Y    | 3.95 | ...  | 105  |  3   | 172  | 16   | 11   | 46   | 52   | 26   | 33   | SE   |\n",
       "| 22   | 3    | M    | Y    | N    | 2    | N    | N    | N    | 3.06 | ...  |  73  |  1   | 134  | 15   | 11   | 48   | 42   | 44   | 29   | AG   |\n",
       "\n"
      ],
      "text/plain": [
       "  Age Yr Sex G21 Corps Res Greek VarsAth Honor GPA  ... Perf OCD Play Extro\n",
       "1 21  2  M   Y   Y     1   N     N       N     3.23 ... 105  10  142   8   \n",
       "2 20  3  F   N   N     2   Y     N       Y     3.95 ... 105   3  172  16   \n",
       "3 22  3  M   Y   N     2   N     N       N     3.06 ...  73   1  134  15   \n",
       "  Narc HSAF HSSE HSAG HSSD PHS\n",
       "1 11   41   40   26   27   SE \n",
       "2 11   46   52   26   33   SE \n",
       "3 11   48   42   44   29   AG "
      ]
     },
     "metadata": {},
     "output_type": "display_data"
    }
   ],
   "source": [
    "p <- read.csv('https://faculty.ung.edu/rsinn/data/personality.csv')\n",
    "head(p,3)"
   ]
  },
  {
   "cell_type": "markdown",
   "id": "559f8e83-11e7-488f-8be9-28aefad96215",
   "metadata": {},
   "source": [
    "**The example below shows how to draw a random sample of size $n = 25$ from the personality data frame.** The row ID numbers have been included so you can see which rows were selected. Rerun the command, and you will see that a new sample with different rows will be drawn."
   ]
  },
  {
   "cell_type": "code",
   "execution_count": 13,
   "id": "f08afceb-6015-4366-b546-3985a0692c8b",
   "metadata": {},
   "outputs": [
    {
     "data": {
      "text/html": [
       "<table>\n",
       "<thead><tr><th></th><th scope=col>Age</th><th scope=col>Yr</th><th scope=col>Sex</th><th scope=col>G21</th><th scope=col>Corps</th><th scope=col>Res</th><th scope=col>Greek</th><th scope=col>VarsAth</th><th scope=col>Honor</th><th scope=col>GPA</th><th scope=col>...</th><th scope=col>OCD</th><th scope=col>Play</th><th scope=col>Extro</th><th scope=col>Narc</th><th scope=col>HSAF</th><th scope=col>HSSE</th><th scope=col>HSAG</th><th scope=col>HSSD</th><th scope=col>PHS</th><th scope=col>orig.id</th></tr></thead>\n",
       "<tbody>\n",
       "\t<tr><th scope=row>68</th><td>19  </td><td>1   </td><td>F   </td><td>N   </td><td>N   </td><td>1   </td><td>N   </td><td>Y   </td><td>Y   </td><td>4.00</td><td>... </td><td>12  </td><td>130 </td><td>11  </td><td>4   </td><td>50  </td><td>46  </td><td>13  </td><td>13  </td><td>SE  </td><td>68  </td></tr>\n",
       "\t<tr><th scope=row>58</th><td>20  </td><td>3   </td><td>M   </td><td>N   </td><td>Y   </td><td>1   </td><td>N   </td><td>N   </td><td>N   </td><td>2.62</td><td>... </td><td> 9  </td><td>150 </td><td>15  </td><td>5   </td><td>51  </td><td>55  </td><td>37  </td><td>31  </td><td>SE  </td><td>58  </td></tr>\n",
       "\t<tr><th scope=row>66</th><td>19  </td><td>2   </td><td>F   </td><td>N   </td><td>N   </td><td>3   </td><td>Y   </td><td>N   </td><td>N   </td><td>3.60</td><td>... </td><td>14  </td><td>122 </td><td>12  </td><td>4   </td><td>38  </td><td>30  </td><td>30  </td><td>29  </td><td>AG  </td><td>66  </td></tr>\n",
       "\t<tr><th scope=row>60</th><td>21  </td><td>3   </td><td>F   </td><td>Y   </td><td>N   </td><td>2   </td><td>Y   </td><td>N   </td><td>N   </td><td>4.00</td><td>... </td><td> 5  </td><td>143 </td><td>10  </td><td>5   </td><td>49  </td><td>50  </td><td>25  </td><td>25  </td><td>SE  </td><td>60  </td></tr>\n",
       "\t<tr><th scope=row>114</th><td>50  </td><td>4   </td><td>F   </td><td>Y   </td><td>N   </td><td>3   </td><td>N   </td><td>N   </td><td>N   </td><td>2.15</td><td>... </td><td>11  </td><td>118 </td><td>13  </td><td>1   </td><td>24  </td><td>34  </td><td>15  </td><td>20  </td><td>SE  </td><td>114 </td></tr>\n",
       "\t<tr><th scope=row>14</th><td>20  </td><td>3   </td><td>M   </td><td>N   </td><td>Y   </td><td>1   </td><td>Y   </td><td>N   </td><td>N   </td><td>3.30</td><td>... </td><td>15  </td><td>118 </td><td> 7  </td><td>8   </td><td>41  </td><td>38  </td><td>32  </td><td>25  </td><td>AG  </td><td>14  </td></tr>\n",
       "\t<tr><th scope=row>107</th><td>19  </td><td>1   </td><td>M   </td><td>N   </td><td>N   </td><td>1   </td><td>N   </td><td>N   </td><td>N   </td><td>4.00</td><td>... </td><td> 5  </td><td>104 </td><td> 3  </td><td>2   </td><td>42  </td><td>27  </td><td>19  </td><td>36  </td><td>SD  </td><td>107 </td></tr>\n",
       "\t<tr><th scope=row>88</th><td>19  </td><td>2   </td><td>F   </td><td>N   </td><td>N   </td><td>1   </td><td>N   </td><td>N   </td><td>N   </td><td>3.75</td><td>... </td><td>11  </td><td>141 </td><td>14  </td><td>3   </td><td>44  </td><td>35  </td><td>19  </td><td>17  </td><td>AF  </td><td>88  </td></tr>\n",
       "\t<tr><th scope=row>80</th><td>19  </td><td>3   </td><td>F   </td><td>N   </td><td>N   </td><td>2   </td><td>Y   </td><td>N   </td><td>N   </td><td>4.00</td><td>... </td><td> 3  </td><td>121 </td><td> 8  </td><td>4   </td><td>34  </td><td>36  </td><td>30  </td><td>33  </td><td>SD  </td><td>80  </td></tr>\n",
       "\t<tr><th scope=row>78</th><td>21  </td><td>4   </td><td>M   </td><td>Y   </td><td>Y   </td><td>1   </td><td>Y   </td><td>N   </td><td>Y   </td><td>3.18</td><td>... </td><td> 7  </td><td>120 </td><td> 5  </td><td>4   </td><td>28  </td><td>36  </td><td>27  </td><td>34  </td><td>SD  </td><td>78  </td></tr>\n",
       "\t<tr><th scope=row>27</th><td>21  </td><td>3   </td><td>M   </td><td>Y   </td><td>N   </td><td>2   </td><td>N   </td><td>Y   </td><td>N   </td><td>2.50</td><td>... </td><td>11  </td><td>136 </td><td>15  </td><td>7   </td><td>47  </td><td>45  </td><td>40  </td><td>47  </td><td>SD  </td><td>27  </td></tr>\n",
       "\t<tr><th scope=row>71</th><td>19  </td><td>3   </td><td>F   </td><td>N   </td><td>N   </td><td>1   </td><td>Y   </td><td>N   </td><td>N   </td><td>3.15</td><td>... </td><td> 9  </td><td>131 </td><td> 9  </td><td>4   </td><td>48  </td><td>42  </td><td>27  </td><td>22  </td><td>AF  </td><td>71  </td></tr>\n",
       "\t<tr><th scope=row>115</th><td>20  </td><td>2   </td><td>F   </td><td>N   </td><td>N   </td><td>1   </td><td>N   </td><td>N   </td><td>Y   </td><td>3.70</td><td>... </td><td>10  </td><td>118 </td><td> 5  </td><td>1   </td><td>43  </td><td>29  </td><td>21  </td><td>14  </td><td>AF  </td><td>115 </td></tr>\n",
       "\t<tr><th scope=row>57</th><td>20  </td><td>2   </td><td>M   </td><td>N   </td><td>Y   </td><td>1   </td><td>N   </td><td>N   </td><td>N   </td><td>1.89</td><td>... </td><td> 9  </td><td>151 </td><td>15  </td><td>5   </td><td>53  </td><td>46  </td><td>36  </td><td>37  </td><td>AF  </td><td>57  </td></tr>\n",
       "\t<tr><th scope=row>69</th><td>20  </td><td>4   </td><td>M   </td><td>N   </td><td>Y   </td><td>1   </td><td>N   </td><td>N   </td><td>N   </td><td>2.95</td><td>... </td><td>12  </td><td>136 </td><td> 3  </td><td>4   </td><td>54  </td><td>41  </td><td>44  </td><td>44  </td><td>AG  </td><td>69  </td></tr>\n",
       "\t<tr><th scope=row>72</th><td>22  </td><td>4   </td><td>M   </td><td>Y   </td><td>Y   </td><td>3   </td><td>Y   </td><td>N   </td><td>Y   </td><td>3.42</td><td>... </td><td> 9  </td><td>124 </td><td> 6  </td><td>4   </td><td>50  </td><td>42  </td><td>37  </td><td>34  </td><td>AG  </td><td>72  </td></tr>\n",
       "\t<tr><th scope=row>101</th><td>19  </td><td>2   </td><td>F   </td><td>N   </td><td>N   </td><td>2   </td><td>Y   </td><td>N   </td><td>N   </td><td>3.34</td><td>... </td><td>12  </td><td>166 </td><td>13  </td><td>2   </td><td>56  </td><td>54  </td><td>26  </td><td>37  </td><td>SE  </td><td>101 </td></tr>\n",
       "\t<tr><th scope=row>37</th><td>22  </td><td>3   </td><td>M   </td><td>Y   </td><td>Y   </td><td>1   </td><td>Y   </td><td>N   </td><td>N   </td><td>2.25</td><td>... </td><td>11  </td><td>119 </td><td> 5  </td><td>6   </td><td>40  </td><td>40  </td><td>29  </td><td>29  </td><td>SE  </td><td>37  </td></tr>\n",
       "\t<tr><th scope=row>91</th><td>21  </td><td>3   </td><td>F   </td><td>Y   </td><td>N   </td><td>2   </td><td>Y   </td><td>N   </td><td>N   </td><td>3.00</td><td>... </td><td> 8  </td><td>142 </td><td> 3  </td><td>3   </td><td>43  </td><td>34  </td><td>40  </td><td>47  </td><td>SD  </td><td>91  </td></tr>\n",
       "\t<tr><th scope=row>13</th><td>20  </td><td>2   </td><td>M   </td><td>N   </td><td>N   </td><td>1   </td><td>N   </td><td>N   </td><td>Y   </td><td>3.86</td><td>... </td><td>15  </td><td>130 </td><td>10  </td><td>8   </td><td>43  </td><td>36  </td><td>36  </td><td>32  </td><td>AG  </td><td>13  </td></tr>\n",
       "\t<tr><th scope=row>18</th><td>20  </td><td>3   </td><td>M   </td><td>N   </td><td>N   </td><td>2   </td><td>Y   </td><td>N   </td><td>N   </td><td>2.66</td><td>... </td><td>12  </td><td>111 </td><td>13  </td><td>8   </td><td>32  </td><td>32  </td><td>32  </td><td>32  </td><td>AG  </td><td>18  </td></tr>\n",
       "\t<tr><th scope=row>26</th><td>20  </td><td>4   </td><td>F   </td><td>N   </td><td>Y   </td><td>2   </td><td>Y   </td><td>N   </td><td>N   </td><td>3.10</td><td>... </td><td>11  </td><td>154 </td><td>18  </td><td>7   </td><td>44  </td><td>36  </td><td>28  </td><td>38  </td><td>SD  </td><td>26  </td></tr>\n",
       "\t<tr><th scope=row>118</th><td>20  </td><td>2   </td><td>F   </td><td>N   </td><td>N   </td><td>2   </td><td>Y   </td><td>N   </td><td>N   </td><td>3.50</td><td>... </td><td> 8  </td><td>146 </td><td> 4  </td><td>1   </td><td>38  </td><td>37  </td><td>25  </td><td>30  </td><td>SD  </td><td>118 </td></tr>\n",
       "\t<tr><th scope=row>117</th><td>20  </td><td>2   </td><td>M   </td><td>N   </td><td>N   </td><td>1   </td><td>N   </td><td>N   </td><td>N   </td><td>4.00</td><td>... </td><td> 9  </td><td>148 </td><td> 8  </td><td>1   </td><td>44  </td><td>32  </td><td>19  </td><td>22  </td><td>AF  </td><td>117 </td></tr>\n",
       "\t<tr><th scope=row>9</th><td>22  </td><td>2   </td><td>F   </td><td>Y   </td><td>N   </td><td>1   </td><td>N   </td><td>N   </td><td>N   </td><td>3.02</td><td>... </td><td>16  </td><td>141 </td><td>10  </td><td>9   </td><td>52  </td><td>47  </td><td>32  </td><td>26  </td><td>SE  </td><td>9   </td></tr>\n",
       "</tbody>\n",
       "</table>\n"
      ],
      "text/latex": [
       "\\begin{tabular}{r|lllllllllllllllllllllllllllllllllllll}\n",
       "  & Age & Yr & Sex & G21 & Corps & Res & Greek & VarsAth & Honor & GPA & ... & OCD & Play & Extro & Narc & HSAF & HSSE & HSAG & HSSD & PHS & orig.id\\\\\n",
       "\\hline\n",
       "\t68 & 19   & 1    & F    & N    & N    & 1    & N    & Y    & Y    & 4.00 & ...  & 12   & 130  & 11   & 4    & 50   & 46   & 13   & 13   & SE   & 68  \\\\\n",
       "\t58 & 20   & 3    & M    & N    & Y    & 1    & N    & N    & N    & 2.62 & ...  &  9   & 150  & 15   & 5    & 51   & 55   & 37   & 31   & SE   & 58  \\\\\n",
       "\t66 & 19   & 2    & F    & N    & N    & 3    & Y    & N    & N    & 3.60 & ...  & 14   & 122  & 12   & 4    & 38   & 30   & 30   & 29   & AG   & 66  \\\\\n",
       "\t60 & 21   & 3    & F    & Y    & N    & 2    & Y    & N    & N    & 4.00 & ...  &  5   & 143  & 10   & 5    & 49   & 50   & 25   & 25   & SE   & 60  \\\\\n",
       "\t114 & 50   & 4    & F    & Y    & N    & 3    & N    & N    & N    & 2.15 & ...  & 11   & 118  & 13   & 1    & 24   & 34   & 15   & 20   & SE   & 114 \\\\\n",
       "\t14 & 20   & 3    & M    & N    & Y    & 1    & Y    & N    & N    & 3.30 & ...  & 15   & 118  &  7   & 8    & 41   & 38   & 32   & 25   & AG   & 14  \\\\\n",
       "\t107 & 19   & 1    & M    & N    & N    & 1    & N    & N    & N    & 4.00 & ...  &  5   & 104  &  3   & 2    & 42   & 27   & 19   & 36   & SD   & 107 \\\\\n",
       "\t88 & 19   & 2    & F    & N    & N    & 1    & N    & N    & N    & 3.75 & ...  & 11   & 141  & 14   & 3    & 44   & 35   & 19   & 17   & AF   & 88  \\\\\n",
       "\t80 & 19   & 3    & F    & N    & N    & 2    & Y    & N    & N    & 4.00 & ...  &  3   & 121  &  8   & 4    & 34   & 36   & 30   & 33   & SD   & 80  \\\\\n",
       "\t78 & 21   & 4    & M    & Y    & Y    & 1    & Y    & N    & Y    & 3.18 & ...  &  7   & 120  &  5   & 4    & 28   & 36   & 27   & 34   & SD   & 78  \\\\\n",
       "\t27 & 21   & 3    & M    & Y    & N    & 2    & N    & Y    & N    & 2.50 & ...  & 11   & 136  & 15   & 7    & 47   & 45   & 40   & 47   & SD   & 27  \\\\\n",
       "\t71 & 19   & 3    & F    & N    & N    & 1    & Y    & N    & N    & 3.15 & ...  &  9   & 131  &  9   & 4    & 48   & 42   & 27   & 22   & AF   & 71  \\\\\n",
       "\t115 & 20   & 2    & F    & N    & N    & 1    & N    & N    & Y    & 3.70 & ...  & 10   & 118  &  5   & 1    & 43   & 29   & 21   & 14   & AF   & 115 \\\\\n",
       "\t57 & 20   & 2    & M    & N    & Y    & 1    & N    & N    & N    & 1.89 & ...  &  9   & 151  & 15   & 5    & 53   & 46   & 36   & 37   & AF   & 57  \\\\\n",
       "\t69 & 20   & 4    & M    & N    & Y    & 1    & N    & N    & N    & 2.95 & ...  & 12   & 136  &  3   & 4    & 54   & 41   & 44   & 44   & AG   & 69  \\\\\n",
       "\t72 & 22   & 4    & M    & Y    & Y    & 3    & Y    & N    & Y    & 3.42 & ...  &  9   & 124  &  6   & 4    & 50   & 42   & 37   & 34   & AG   & 72  \\\\\n",
       "\t101 & 19   & 2    & F    & N    & N    & 2    & Y    & N    & N    & 3.34 & ...  & 12   & 166  & 13   & 2    & 56   & 54   & 26   & 37   & SE   & 101 \\\\\n",
       "\t37 & 22   & 3    & M    & Y    & Y    & 1    & Y    & N    & N    & 2.25 & ...  & 11   & 119  &  5   & 6    & 40   & 40   & 29   & 29   & SE   & 37  \\\\\n",
       "\t91 & 21   & 3    & F    & Y    & N    & 2    & Y    & N    & N    & 3.00 & ...  &  8   & 142  &  3   & 3    & 43   & 34   & 40   & 47   & SD   & 91  \\\\\n",
       "\t13 & 20   & 2    & M    & N    & N    & 1    & N    & N    & Y    & 3.86 & ...  & 15   & 130  & 10   & 8    & 43   & 36   & 36   & 32   & AG   & 13  \\\\\n",
       "\t18 & 20   & 3    & M    & N    & N    & 2    & Y    & N    & N    & 2.66 & ...  & 12   & 111  & 13   & 8    & 32   & 32   & 32   & 32   & AG   & 18  \\\\\n",
       "\t26 & 20   & 4    & F    & N    & Y    & 2    & Y    & N    & N    & 3.10 & ...  & 11   & 154  & 18   & 7    & 44   & 36   & 28   & 38   & SD   & 26  \\\\\n",
       "\t118 & 20   & 2    & F    & N    & N    & 2    & Y    & N    & N    & 3.50 & ...  &  8   & 146  &  4   & 1    & 38   & 37   & 25   & 30   & SD   & 118 \\\\\n",
       "\t117 & 20   & 2    & M    & N    & N    & 1    & N    & N    & N    & 4.00 & ...  &  9   & 148  &  8   & 1    & 44   & 32   & 19   & 22   & AF   & 117 \\\\\n",
       "\t9 & 22   & 2    & F    & Y    & N    & 1    & N    & N    & N    & 3.02 & ...  & 16   & 141  & 10   & 9    & 52   & 47   & 32   & 26   & SE   & 9   \\\\\n",
       "\\end{tabular}\n"
      ],
      "text/markdown": [
       "\n",
       "| <!--/--> | Age | Yr | Sex | G21 | Corps | Res | Greek | VarsAth | Honor | GPA | ... | OCD | Play | Extro | Narc | HSAF | HSSE | HSAG | HSSD | PHS | orig.id |\n",
       "|---|---|---|---|---|---|---|---|---|---|---|---|---|---|---|---|---|---|---|---|---|---|\n",
       "| 68 | 19   | 1    | F    | N    | N    | 1    | N    | Y    | Y    | 4.00 | ...  | 12   | 130  | 11   | 4    | 50   | 46   | 13   | 13   | SE   | 68   |\n",
       "| 58 | 20   | 3    | M    | N    | Y    | 1    | N    | N    | N    | 2.62 | ...  |  9   | 150  | 15   | 5    | 51   | 55   | 37   | 31   | SE   | 58   |\n",
       "| 66 | 19   | 2    | F    | N    | N    | 3    | Y    | N    | N    | 3.60 | ...  | 14   | 122  | 12   | 4    | 38   | 30   | 30   | 29   | AG   | 66   |\n",
       "| 60 | 21   | 3    | F    | Y    | N    | 2    | Y    | N    | N    | 4.00 | ...  |  5   | 143  | 10   | 5    | 49   | 50   | 25   | 25   | SE   | 60   |\n",
       "| 114 | 50   | 4    | F    | Y    | N    | 3    | N    | N    | N    | 2.15 | ...  | 11   | 118  | 13   | 1    | 24   | 34   | 15   | 20   | SE   | 114  |\n",
       "| 14 | 20   | 3    | M    | N    | Y    | 1    | Y    | N    | N    | 3.30 | ...  | 15   | 118  |  7   | 8    | 41   | 38   | 32   | 25   | AG   | 14   |\n",
       "| 107 | 19   | 1    | M    | N    | N    | 1    | N    | N    | N    | 4.00 | ...  |  5   | 104  |  3   | 2    | 42   | 27   | 19   | 36   | SD   | 107  |\n",
       "| 88 | 19   | 2    | F    | N    | N    | 1    | N    | N    | N    | 3.75 | ...  | 11   | 141  | 14   | 3    | 44   | 35   | 19   | 17   | AF   | 88   |\n",
       "| 80 | 19   | 3    | F    | N    | N    | 2    | Y    | N    | N    | 4.00 | ...  |  3   | 121  |  8   | 4    | 34   | 36   | 30   | 33   | SD   | 80   |\n",
       "| 78 | 21   | 4    | M    | Y    | Y    | 1    | Y    | N    | Y    | 3.18 | ...  |  7   | 120  |  5   | 4    | 28   | 36   | 27   | 34   | SD   | 78   |\n",
       "| 27 | 21   | 3    | M    | Y    | N    | 2    | N    | Y    | N    | 2.50 | ...  | 11   | 136  | 15   | 7    | 47   | 45   | 40   | 47   | SD   | 27   |\n",
       "| 71 | 19   | 3    | F    | N    | N    | 1    | Y    | N    | N    | 3.15 | ...  |  9   | 131  |  9   | 4    | 48   | 42   | 27   | 22   | AF   | 71   |\n",
       "| 115 | 20   | 2    | F    | N    | N    | 1    | N    | N    | Y    | 3.70 | ...  | 10   | 118  |  5   | 1    | 43   | 29   | 21   | 14   | AF   | 115  |\n",
       "| 57 | 20   | 2    | M    | N    | Y    | 1    | N    | N    | N    | 1.89 | ...  |  9   | 151  | 15   | 5    | 53   | 46   | 36   | 37   | AF   | 57   |\n",
       "| 69 | 20   | 4    | M    | N    | Y    | 1    | N    | N    | N    | 2.95 | ...  | 12   | 136  |  3   | 4    | 54   | 41   | 44   | 44   | AG   | 69   |\n",
       "| 72 | 22   | 4    | M    | Y    | Y    | 3    | Y    | N    | Y    | 3.42 | ...  |  9   | 124  |  6   | 4    | 50   | 42   | 37   | 34   | AG   | 72   |\n",
       "| 101 | 19   | 2    | F    | N    | N    | 2    | Y    | N    | N    | 3.34 | ...  | 12   | 166  | 13   | 2    | 56   | 54   | 26   | 37   | SE   | 101  |\n",
       "| 37 | 22   | 3    | M    | Y    | Y    | 1    | Y    | N    | N    | 2.25 | ...  | 11   | 119  |  5   | 6    | 40   | 40   | 29   | 29   | SE   | 37   |\n",
       "| 91 | 21   | 3    | F    | Y    | N    | 2    | Y    | N    | N    | 3.00 | ...  |  8   | 142  |  3   | 3    | 43   | 34   | 40   | 47   | SD   | 91   |\n",
       "| 13 | 20   | 2    | M    | N    | N    | 1    | N    | N    | Y    | 3.86 | ...  | 15   | 130  | 10   | 8    | 43   | 36   | 36   | 32   | AG   | 13   |\n",
       "| 18 | 20   | 3    | M    | N    | N    | 2    | Y    | N    | N    | 2.66 | ...  | 12   | 111  | 13   | 8    | 32   | 32   | 32   | 32   | AG   | 18   |\n",
       "| 26 | 20   | 4    | F    | N    | Y    | 2    | Y    | N    | N    | 3.10 | ...  | 11   | 154  | 18   | 7    | 44   | 36   | 28   | 38   | SD   | 26   |\n",
       "| 118 | 20   | 2    | F    | N    | N    | 2    | Y    | N    | N    | 3.50 | ...  |  8   | 146  |  4   | 1    | 38   | 37   | 25   | 30   | SD   | 118  |\n",
       "| 117 | 20   | 2    | M    | N    | N    | 1    | N    | N    | N    | 4.00 | ...  |  9   | 148  |  8   | 1    | 44   | 32   | 19   | 22   | AF   | 117  |\n",
       "| 9 | 22   | 2    | F    | Y    | N    | 1    | N    | N    | N    | 3.02 | ...  | 16   | 141  | 10   | 9    | 52   | 47   | 32   | 26   | SE   | 9    |\n",
       "\n"
      ],
      "text/plain": [
       "    Age Yr Sex G21 Corps Res Greek VarsAth Honor GPA  ... OCD Play Extro Narc\n",
       "68  19  1  F   N   N     1   N     Y       Y     4.00 ... 12  130  11    4   \n",
       "58  20  3  M   N   Y     1   N     N       N     2.62 ...  9  150  15    5   \n",
       "66  19  2  F   N   N     3   Y     N       N     3.60 ... 14  122  12    4   \n",
       "60  21  3  F   Y   N     2   Y     N       N     4.00 ...  5  143  10    5   \n",
       "114 50  4  F   Y   N     3   N     N       N     2.15 ... 11  118  13    1   \n",
       "14  20  3  M   N   Y     1   Y     N       N     3.30 ... 15  118   7    8   \n",
       "107 19  1  M   N   N     1   N     N       N     4.00 ...  5  104   3    2   \n",
       "88  19  2  F   N   N     1   N     N       N     3.75 ... 11  141  14    3   \n",
       "80  19  3  F   N   N     2   Y     N       N     4.00 ...  3  121   8    4   \n",
       "78  21  4  M   Y   Y     1   Y     N       Y     3.18 ...  7  120   5    4   \n",
       "27  21  3  M   Y   N     2   N     Y       N     2.50 ... 11  136  15    7   \n",
       "71  19  3  F   N   N     1   Y     N       N     3.15 ...  9  131   9    4   \n",
       "115 20  2  F   N   N     1   N     N       Y     3.70 ... 10  118   5    1   \n",
       "57  20  2  M   N   Y     1   N     N       N     1.89 ...  9  151  15    5   \n",
       "69  20  4  M   N   Y     1   N     N       N     2.95 ... 12  136   3    4   \n",
       "72  22  4  M   Y   Y     3   Y     N       Y     3.42 ...  9  124   6    4   \n",
       "101 19  2  F   N   N     2   Y     N       N     3.34 ... 12  166  13    2   \n",
       "37  22  3  M   Y   Y     1   Y     N       N     2.25 ... 11  119   5    6   \n",
       "91  21  3  F   Y   N     2   Y     N       N     3.00 ...  8  142   3    3   \n",
       "13  20  2  M   N   N     1   N     N       Y     3.86 ... 15  130  10    8   \n",
       "18  20  3  M   N   N     2   Y     N       N     2.66 ... 12  111  13    8   \n",
       "26  20  4  F   N   Y     2   Y     N       N     3.10 ... 11  154  18    7   \n",
       "118 20  2  F   N   N     2   Y     N       N     3.50 ...  8  146   4    1   \n",
       "117 20  2  M   N   N     1   N     N       N     4.00 ...  9  148   8    1   \n",
       "9   22  2  F   Y   N     1   N     N       N     3.02 ... 16  141  10    9   \n",
       "    HSAF HSSE HSAG HSSD PHS orig.id\n",
       "68  50   46   13   13   SE  68     \n",
       "58  51   55   37   31   SE  58     \n",
       "66  38   30   30   29   AG  66     \n",
       "60  49   50   25   25   SE  60     \n",
       "114 24   34   15   20   SE  114    \n",
       "14  41   38   32   25   AG  14     \n",
       "107 42   27   19   36   SD  107    \n",
       "88  44   35   19   17   AF  88     \n",
       "80  34   36   30   33   SD  80     \n",
       "78  28   36   27   34   SD  78     \n",
       "27  47   45   40   47   SD  27     \n",
       "71  48   42   27   22   AF  71     \n",
       "115 43   29   21   14   AF  115    \n",
       "57  53   46   36   37   AF  57     \n",
       "69  54   41   44   44   AG  69     \n",
       "72  50   42   37   34   AG  72     \n",
       "101 56   54   26   37   SE  101    \n",
       "37  40   40   29   29   SE  37     \n",
       "91  43   34   40   47   SD  91     \n",
       "13  43   36   36   32   AG  13     \n",
       "18  32   32   32   32   AG  18     \n",
       "26  44   36   28   38   SD  26     \n",
       "118 38   37   25   30   SD  118    \n",
       "117 44   32   19   22   AF  117    \n",
       "9   52   47   32   26   SE  9      "
      ]
     },
     "metadata": {},
     "output_type": "display_data"
    }
   ],
   "source": [
    "sample.data.frame(p, 25)"
   ]
  },
  {
   "cell_type": "markdown",
   "id": "7bdf1922-6871-46e6-afe8-835f987cab79",
   "metadata": {},
   "source": [
    "**The example below shows how to draw a random sample of size $n = 25$ from the narcissism column of the personality data frame.** "
   ]
  },
  {
   "cell_type": "code",
   "execution_count": 14,
   "id": "4e18a17f-a464-42d0-8f7d-57fbecce2784",
   "metadata": {},
   "outputs": [
    {
     "data": {
      "text/html": [
       "<table>\n",
       "<thead><tr><th></th><th scope=col>Narc</th></tr></thead>\n",
       "<tbody>\n",
       "\t<tr><th scope=row>13</th><td>8</td></tr>\n",
       "\t<tr><th scope=row>125</th><td>0</td></tr>\n",
       "\t<tr><th scope=row>52</th><td>6</td></tr>\n",
       "\t<tr><th scope=row>69</th><td>4</td></tr>\n",
       "\t<tr><th scope=row>19</th><td>8</td></tr>\n",
       "\t<tr><th scope=row>114</th><td>1</td></tr>\n",
       "\t<tr><th scope=row>124</th><td>1</td></tr>\n",
       "\t<tr><th scope=row>41</th><td>6</td></tr>\n",
       "\t<tr><th scope=row>58</th><td>5</td></tr>\n",
       "\t<tr><th scope=row>80</th><td>4</td></tr>\n",
       "\t<tr><th scope=row>122</th><td>1</td></tr>\n",
       "\t<tr><th scope=row>49</th><td>6</td></tr>\n",
       "\t<tr><th scope=row>53</th><td>6</td></tr>\n",
       "\t<tr><th scope=row>110</th><td>1</td></tr>\n",
       "\t<tr><th scope=row>91</th><td>3</td></tr>\n",
       "\t<tr><th scope=row>67</th><td>4</td></tr>\n",
       "\t<tr><th scope=row>108</th><td>2</td></tr>\n",
       "\t<tr><th scope=row>35</th><td>6</td></tr>\n",
       "\t<tr><th scope=row>106</th><td>2</td></tr>\n",
       "\t<tr><th scope=row>18</th><td>8</td></tr>\n",
       "\t<tr><th scope=row>32</th><td>7</td></tr>\n",
       "\t<tr><th scope=row>15</th><td>8</td></tr>\n",
       "\t<tr><th scope=row>23</th><td>8</td></tr>\n",
       "\t<tr><th scope=row>112</th><td>1</td></tr>\n",
       "\t<tr><th scope=row>64</th><td>5</td></tr>\n",
       "</tbody>\n",
       "</table>\n"
      ],
      "text/latex": [
       "\\begin{tabular}{r|l}\n",
       "  & Narc\\\\\n",
       "\\hline\n",
       "\t13 & 8\\\\\n",
       "\t125 & 0\\\\\n",
       "\t52 & 6\\\\\n",
       "\t69 & 4\\\\\n",
       "\t19 & 8\\\\\n",
       "\t114 & 1\\\\\n",
       "\t124 & 1\\\\\n",
       "\t41 & 6\\\\\n",
       "\t58 & 5\\\\\n",
       "\t80 & 4\\\\\n",
       "\t122 & 1\\\\\n",
       "\t49 & 6\\\\\n",
       "\t53 & 6\\\\\n",
       "\t110 & 1\\\\\n",
       "\t91 & 3\\\\\n",
       "\t67 & 4\\\\\n",
       "\t108 & 2\\\\\n",
       "\t35 & 6\\\\\n",
       "\t106 & 2\\\\\n",
       "\t18 & 8\\\\\n",
       "\t32 & 7\\\\\n",
       "\t15 & 8\\\\\n",
       "\t23 & 8\\\\\n",
       "\t112 & 1\\\\\n",
       "\t64 & 5\\\\\n",
       "\\end{tabular}\n"
      ],
      "text/markdown": [
       "\n",
       "| <!--/--> | Narc |\n",
       "|---|---|\n",
       "| 13 | 8 |\n",
       "| 125 | 0 |\n",
       "| 52 | 6 |\n",
       "| 69 | 4 |\n",
       "| 19 | 8 |\n",
       "| 114 | 1 |\n",
       "| 124 | 1 |\n",
       "| 41 | 6 |\n",
       "| 58 | 5 |\n",
       "| 80 | 4 |\n",
       "| 122 | 1 |\n",
       "| 49 | 6 |\n",
       "| 53 | 6 |\n",
       "| 110 | 1 |\n",
       "| 91 | 3 |\n",
       "| 67 | 4 |\n",
       "| 108 | 2 |\n",
       "| 35 | 6 |\n",
       "| 106 | 2 |\n",
       "| 18 | 8 |\n",
       "| 32 | 7 |\n",
       "| 15 | 8 |\n",
       "| 23 | 8 |\n",
       "| 112 | 1 |\n",
       "| 64 | 5 |\n",
       "\n"
      ],
      "text/plain": [
       "    Narc\n",
       "13  8   \n",
       "125 0   \n",
       "52  6   \n",
       "69  4   \n",
       "19  8   \n",
       "114 1   \n",
       "124 1   \n",
       "41  6   \n",
       "58  5   \n",
       "80  4   \n",
       "122 1   \n",
       "49  6   \n",
       "53  6   \n",
       "110 1   \n",
       "91  3   \n",
       "67  4   \n",
       "108 2   \n",
       "35  6   \n",
       "106 2   \n",
       "18  8   \n",
       "32  7   \n",
       "15  8   \n",
       "23  8   \n",
       "112 1   \n",
       "64  5   "
      ]
     },
     "metadata": {},
     "output_type": "display_data"
    }
   ],
   "source": [
    "sample.data.frame(p['Narc'], 25, orig.ids = F)"
   ]
  }
 ],
 "metadata": {
  "kernelspec": {
   "display_name": "R",
   "language": "R",
   "name": "ir"
  },
  "language_info": {
   "codemirror_mode": "r",
   "file_extension": ".r",
   "mimetype": "text/x-r-source",
   "name": "R",
   "pygments_lexer": "r",
   "version": "3.6.1"
  }
 },
 "nbformat": 4,
 "nbformat_minor": 5
}
