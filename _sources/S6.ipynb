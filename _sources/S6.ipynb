{
 "cells": [
  {
   "cell_type": "markdown",
   "id": "d83256ca-2a1e-4ed0-9199-97697020bd02",
   "metadata": {},
   "source": [
    "# ANOVA\n",
    "\n",
    "Ron Fisher recognized the value of the $t$-test as created by William Sealy Gossett and developed the mathematical extension needed to use the same ideas with more than 2 samples."
   ]
  },
  {
   "cell_type": "markdown",
   "id": "45515245-ba2c-4832-89d1-fc3cca65d71e",
   "metadata": {},
   "source": [
    "## Example: Coping Humor\n",
    "\n",
    "Let's question whether, in the personality data set, the average coping humor (CHS) varies based upon Primary Humor Style (PHS). We will first load and then subset the data properly:"
   ]
  },
  {
   "cell_type": "code",
   "execution_count": 1,
   "id": "4a834966-01d3-423f-b08c-8c4bcb24a4db",
   "metadata": {},
   "outputs": [
    {
     "data": {
      "text/html": [
       "<table>\n",
       "<thead><tr><th scope=col>CHS</th><th scope=col>PHS</th></tr></thead>\n",
       "<tbody>\n",
       "\t<tr><td>28</td><td>SE</td></tr>\n",
       "\t<tr><td>29</td><td>SE</td></tr>\n",
       "\t<tr><td>30</td><td>AG</td></tr>\n",
       "\t<tr><td>27</td><td>SE</td></tr>\n",
       "\t<tr><td>24</td><td>AF</td></tr>\n",
       "</tbody>\n",
       "</table>\n"
      ],
      "text/latex": [
       "\\begin{tabular}{r|ll}\n",
       " CHS & PHS\\\\\n",
       "\\hline\n",
       "\t 28 & SE\\\\\n",
       "\t 29 & SE\\\\\n",
       "\t 30 & AG\\\\\n",
       "\t 27 & SE\\\\\n",
       "\t 24 & AF\\\\\n",
       "\\end{tabular}\n"
      ],
      "text/markdown": [
       "\n",
       "| CHS | PHS |\n",
       "|---|---|\n",
       "| 28 | SE |\n",
       "| 29 | SE |\n",
       "| 30 | AG |\n",
       "| 27 | SE |\n",
       "| 24 | AF |\n",
       "\n"
      ],
      "text/plain": [
       "  CHS PHS\n",
       "1 28  SE \n",
       "2 29  SE \n",
       "3 30  AG \n",
       "4 27  SE \n",
       "5 24  AF "
      ]
     },
     "metadata": {},
     "output_type": "display_data"
    }
   ],
   "source": [
    "pers <- read.csv('https://faculty.ung.edu/rsinn/data/personality.csv')\n",
    "humor <- pers[ , c('CHS','PHS')]\n",
    "head(humor,5)"
   ]
  },
  {
   "cell_type": "markdown",
   "id": "5e5f7e51-6d69-4211-ada9-201338192d81",
   "metadata": {},
   "source": [
    "### Hypotheses\n",
    "\n",
    "The null hypothesis states that the four group means will all be approximately equal. The four primary humor styles are *Affiliative*, *Aggressive*, *Self-Defeating* and *Self-Enhancing* and will be abbreviate as **af**, **ag**, **sd** and **se** respectively. The alternative is usually included in words as shown:\n",
    "\n",
    "$$\\begin{align} H_0 &: \\mu_{af} = \\mu_{ag} = \\mu_{sd} = \\mu_{se}\\\\H_a &: \\text{At least 1 group mean differs from the others}\\end{align}$$"
   ]
  },
  {
   "cell_type": "markdown",
   "id": "ed0ba52c-d1e9-4b54-8475-5a664d45b9df",
   "metadata": {},
   "source": [
    "### Verifying the Assumptions\n",
    "\n",
    "We need to perform the following steps:\n",
    "1. Create the linear model usinig the function **lm()**.\n",
    "2. Create a vector of residuals based upon the model.\n",
    "3. Display a density plot of the residuals (checking for evidence of normality).\n",
    "4. Display a QQ plot for the residuals (checking that all dots are reasonably close to the QQ line).\n",
    "\n",
    "These steps are all performed in the single code below directly below."
   ]
  },
  {
   "cell_type": "code",
   "execution_count": 12,
   "id": "ad63713b-4624-4fd2-a32b-297c3301dc25",
   "metadata": {},
   "outputs": [
    {
     "data": {
      "image/png": "[encoded data removed]",
      "text/plain": [
       "Plot with title \"QQ Plot: Humor\""
      ]
     },
     "metadata": {},
     "output_type": "display_data"
    }
   ],
   "source": [
    "mod = lm(CHS ~ PHS, data = humor)\n",
    "res = residuals(mod)\n",
    "layout(matrix(c(1,2), ncol = 2), lcm(8))\n",
    "plot(density(res), main = 'Density Plot: Humor')\n",
    "plot2 <- { qqnorm(mod$residual, main = 'QQ Plot: Humor')\n",
    "qqline(mod$residual, col = 'red') }"
   ]
  },
  {
   "cell_type": "markdown",
   "id": "e06580d6-8d15-4df2-a95a-125bdf4da966",
   "metadata": {},
   "source": [
    "**Analysis**\n",
    "\n",
    "The QQ plot is slightly concerning as the lower tail seems quite heavy, yet the density plot shows evidence these data were drawn from a normally distributed population. These data are appropriate for ANOVA methods though the heavy tail does indicate a small degree of concern about accuracy of $p$-values."
   ]
  },
  {
   "cell_type": "markdown",
   "id": "981013f7-77a0-43ce-b68e-8eb473229304",
   "metadata": {},
   "source": [
    "### Conducting the ANOVA"
   ]
  },
  {
   "cell_type": "code",
   "execution_count": 15,
   "id": "336036b7-5845-400d-982b-f313f62905ae",
   "metadata": {},
   "outputs": [
    {
     "data": {
      "text/plain": [
       "             Df Sum Sq Mean Sq F value   Pr(>F)    \n",
       "PHS           3  418.7  139.55   7.743 8.74e-05 ***\n",
       "Residuals   125 2252.8   18.02                     \n",
       "---\n",
       "Signif. codes:  0 '***' 0.001 '**' 0.01 '*' 0.05 '.' 0.1 ' ' 1"
      ]
     },
     "metadata": {},
     "output_type": "display_data"
    }
   ],
   "source": [
    "anova <- aov(mod)\n",
    "summary(anova)"
   ]
  },
  {
   "cell_type": "markdown",
   "id": "c7ba8180-345f-4459-b8bf-865f39cb9daa",
   "metadata": {},
   "source": [
    "### Reporting Out\n",
    "\n",
    "With $p = 8.74\\times 10^{-5} < 0.05 = \\alpha$, we reject the null. We have evidence, therefore, that at least one of the group means is significantly different than the others."
   ]
  },
  {
   "cell_type": "markdown",
   "id": "b8714d17-e9c0-4313-867c-ef6428a037ae",
   "metadata": {},
   "source": [
    "## Tukey HSD *Post Hoc* Testing\n",
    "\n",
    "Whenever we reject the null in an ANOVA, we must conduct a *post hoc* test to ferret out all the significant differences between group means."
   ]
  },
  {
   "cell_type": "code",
   "execution_count": 16,
   "id": "886735dc-0875-4acc-8fb8-39449cb19533",
   "metadata": {},
   "outputs": [
    {
     "data": {
      "text/plain": [
       "  Tukey multiple comparisons of means\n",
       "    95% family-wise confidence level\n",
       "\n",
       "Fit: aov(formula = mod)\n",
       "\n",
       "$PHS\n",
       "           diff        lwr       upr     p adj\n",
       "AG-AF -1.385338 -4.1385491 1.3678724 0.5581859\n",
       "SD-AF -2.100649 -4.9409691 0.7396704 0.2225615\n",
       "SE-AF  2.669048 -0.2357284 5.5738237 0.0837472\n",
       "SD-AG -0.715311 -3.3456923 1.9150703 0.8937175\n",
       "SE-AG  4.054386  1.3545316 6.7542403 0.0008566\n",
       "SE-SD  4.769697  1.9810664 7.5583275 0.0001080\n"
      ]
     },
     "metadata": {},
     "output_type": "display_data"
    }
   ],
   "source": [
    "TukeyHSD(anova)"
   ]
  },
  {
   "cell_type": "markdown",
   "id": "3713018f-8ee1-4af4-88cf-98b24e9e1f88",
   "metadata": {},
   "source": [
    "The significant differences are indicated in rows 3, 5 and 6 where:\n",
    "1. The upper and lower bounds of the confidence interval estimates both have the same sign, or\n",
    "2. The indicated $p$-value is less than $\\alpha = 0.05$."
   ]
  },
  {
   "cell_type": "markdown",
   "id": "a9ad4671-54e4-4e94-a7c4-518f09c44230",
   "metadata": {},
   "source": [
    "Thus, we have evidence for a difference between the means of the following pairs of groups:\n",
    "- Self-enhancing vs. Affiliative\n",
    "- Self-enhancing vs. Aggressive\n",
    "- Self-enhancing vs. Self-defeating"
   ]
  },
  {
   "cell_type": "code",
   "execution_count": null,
   "id": "9562628c-bfe7-484f-b6e0-4f37dae9faab",
   "metadata": {},
   "outputs": [],
   "source": []
  }
 ],
 "metadata": {
  "kernelspec": {
   "display_name": "R",
   "language": "R",
   "name": "ir"
  },
  "language_info": {
   "codemirror_mode": "r",
   "file_extension": ".r",
   "mimetype": "text/x-r-source",
   "name": "R",
   "pygments_lexer": "r",
   "version": "3.6.1"
  }
 },
 "nbformat": 4,
 "nbformat_minor": 5
}
