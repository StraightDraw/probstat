{
 "cells": [
  {
   "cell_type": "markdown",
   "id": "1eb172b4-288c-4511-970a-4ea26c6b31dc",
   "metadata": {},
   "source": [
    "# The $t$-Test\n",
    "\n",
    "The 1 sample $t$-test compares a sample mean to the population mean."
   ]
  },
  {
   "cell_type": "markdown",
   "id": "597ca9bc-2b43-4370-95ab-0bbd3b72158b",
   "metadata": {},
   "source": [
    "## Example: Sleep\n",
    "\n",
    "A simple random sample of 35 University of North Georgia students were asked the total sleep they had received in the last 48 hours including naps. The answers they gave were then divided by 2 to estimate how much sleep per night that they receive on average. Test at the $\\alpha = 0.05$ level wether these students receive, on average, less than 7 hours of sleep each night. The data are given below."
   ]
  },
  {
   "cell_type": "markdown",
   "id": "72ae7fb7-541e-4aba-950b-ff3c47d12c8e",
   "metadata": {},
   "source": [
    "<table style=\"width:75%\">\n",
    "<tr>\n",
    "  <td>7.5</td><td>3</td><td>3</td><td>6</td><td>7.5</td><td>8</td><td>6</td>\n",
    "</tr><tr>\n",
    "  <td>8.5</td><td>6</td><td>8</td><td>8.5</td><td>10</td><td>7</td><td>7</td>\n",
    "</tr><tr>\n",
    "  <td>6.5</td><td>7.5</td><td>5</td><td>4</td><td>5</td><td>8.5</td><td>5</td>\n",
    "</tr><tr>\n",
    "    <td>6</td><td>7</td><td>5.5</td><td>4</td><td>8.5</td><td>6</td><td>11</td>\n",
    "</tr><tr>\n",
    "    <td>8.5</td><td>5</td><td>7</td><td>10</td><td>7.5</td><td>3.5</td><td>7</td>\n",
    "</tr>\n",
    "</table>"
   ]
  },
  {
   "cell_type": "markdown",
   "id": "8013b156-7ab8-4738-8b72-e48ee1e59a8f",
   "metadata": {},
   "source": [
    "We first need to create a vector in R for these data which is shown below. The vector is given the name **sleep**."
   ]
  },
  {
   "cell_type": "code",
   "execution_count": 1,
   "id": "de54c31f-dc84-434f-96a9-a858d1419f72",
   "metadata": {},
   "outputs": [],
   "source": [
    "sleep <- c(7.5, 3, 3, 6, 7.5, 8, 6, 8.5, 6, 8, 8.5, 10, 7, 7, 6.5, 7.5, 5, 4, 5, 8.5, 5, 6, 7, 5.5, 4, 8.5, 6, 11, 8.5, 5, 7, 10, 7.5, 3.5, 7)"
   ]
  },
  {
   "cell_type": "markdown",
   "id": "1c71b5c7-cc48-48eb-8e0c-48759f881b61",
   "metadata": {},
   "source": [
    "```{dropdown} Tip for Calculating Statistics \"By-Hand\"\n",
    "We are allowed, when using a $t$ table and formulas to conduct the test \"by hand,\" to still use machine-produced descriptive statistics.\n",
    "```\n",
    "\n",
    "Let's first quickly grab the standard descriptive statistics for the *sleep* vector. This will help later when we conduct the by-hand calculations."
   ]
  },
  {
   "cell_type": "code",
   "execution_count": 2,
   "id": "6133ca69-52d7-4cb1-b99f-df3993b2bdc2",
   "metadata": {},
   "outputs": [
    {
     "name": "stdout",
     "output_type": "stream",
     "text": [
      "The summary statistics are as follows: \n",
      "mean =  6.685714 \n",
      "standard deviation =  1.959463 \n",
      "with sample size =  35"
     ]
    }
   ],
   "source": [
    "m = mean(sleep)   # Average\n",
    "s = sd(sleep)     # Standard Deviation\n",
    "n = length(sleep) # Sample Size\n",
    "cat('The summary statistics are as follows: \\nmean = ',m,'\\nstandard deviation = ',s,'\\nwith sample size = ',n)"
   ]
  },
  {
   "cell_type": "markdown",
   "id": "265cb03e-29ff-4816-b489-c34a6836f3fa",
   "metadata": {},
   "source": [
    "## Hypotheses\n",
    "\n",
    "The null hypothesis states that the overall mean for UNG students is 7 hours of sleep. The researchers believe the mean is lower than that. Thus, in mathematical symbols, we have the following:\n",
    "\n",
    "$$\\begin{align}H_0 &: \\mu = 7 \\\\ H_a &: \\mu < 7\\end{align}$$"
   ]
  },
  {
   "cell_type": "markdown",
   "id": "c46d5ab9-0359-4de5-8db3-99af4ef7d45e",
   "metadata": {},
   "source": [
    "## Verification\n",
    "\n",
    "```{sidebar} **Warning**\n",
    "Verification of the $t$-test assumptions is difficult to accomplish without technology.\n",
    "```\n",
    "\n",
    "Recalling that the assumptions for a $t$-test are *normality*, *independence*, and *homogeneity of the variances*, we will check **normality** first using a density plot and a QQ plot.\n",
    "\n",
    "### Normality and the QQ Plot"
   ]
  },
  {
   "cell_type": "code",
   "execution_count": 3,
   "id": "dd328e2c-1683-416e-bfcd-abcb94b6e97e",
   "metadata": {},
   "outputs": [
    {
     "data": {
      "image/png": "[encoded data removed]",
      "text/plain": [
       "Plot with title \"Normal QQ Plot for Sleep\""
      ]
     },
     "metadata": {},
     "output_type": "display_data"
    }
   ],
   "source": [
    "qqnorm(sleep, \n",
    "       xlab = 'Normal Distribution Quantiles' , \n",
    "       ylab = 'Sample Quantiles' ,\n",
    "       main = 'Normal QQ Plot for Sleep')\n",
    "qqline(sleep, col = 'red')"
   ]
  },
  {
   "cell_type": "markdown",
   "id": "7760b910-649f-4977-8328-1c94ebc91aac",
   "metadata": {},
   "source": [
    "**Analysis.** The discrete nature of the responses leaves a stair step pattern to the quantiles. However, despite this awkwared look, the red line is a very good fit for the data. Hence, we have solid evidence the data are normally distributed.\n",
    "\n",
    "### Normality and the Density Plot"
   ]
  },
  {
   "cell_type": "code",
   "execution_count": 4,
   "id": "ef1bca7c-bf03-40a9-83f3-a9ea75abcb30",
   "metadata": {},
   "outputs": [
    {
     "data": {
      "image/png": "[encoded data removed]",
      "text/plain": [
       "Plot with title \"Density Plot for Sleep\""
      ]
     },
     "metadata": {},
     "output_type": "display_data"
    }
   ],
   "source": [
    "plot(density(sleep), main = 'Density Plot for Sleep', xlab = 'Sleep Hours')"
   ]
  },
  {
   "cell_type": "markdown",
   "id": "d4dc3211-05a3-4420-833b-b7a6fda39484",
   "metadata": {},
   "source": [
    "**Analysis.** The density plot is not perfectly normal, but the bell-shape is easy enough to confirm that these data are quite likely to be drawn from a normal distribution."
   ]
  },
  {
   "cell_type": "markdown",
   "id": "7e1721e0-3080-4d58-9e73-d5557cc07f19",
   "metadata": {},
   "source": [
    "### Homogeneity of the Variances\n",
    "\n",
    "We've checked the *normality* assumption and cannot check statistically for *independence*. We must verify the homogeneity of the variances assumption is satisfied. \n",
    "```{warning}\n",
    "Be careful. With small sample sizes of $n\\leq 40$, outliers can have a severe impact on accuracy.\n",
    "```\n",
    "The sample size is reasonable with $n=35$, and no outliers exist in the sample data:"
   ]
  },
  {
   "cell_type": "code",
   "execution_count": 5,
   "id": "8f05877a-816b-4fa7-bbd3-e54d7a11a092",
   "metadata": {},
   "outputs": [
    {
     "data": {
      "image/png": "[encoded data removed]",
      "text/plain": [
       "plot without title"
      ]
     },
     "metadata": {},
     "output_type": "display_data"
    }
   ],
   "source": [
    "boxplot(sleep)"
   ]
  },
  {
   "cell_type": "markdown",
   "id": "75801548-f5c7-4ada-ac4f-5f3a1dfde1c1",
   "metadata": {},
   "source": [
    "Thus, our verification is complete. These data are appropriate for $t$ procedures.\n",
    "\n",
    "## Conducting the $t$-Test in R\n",
    "\n",
    "R needs to know how to determine the null and alternative hypotheses. Hence, we indicate that the null hypothesis includes the overal population mean of $m_0 = 7$. We also indicate the alternative is $\\mu<7$ by specifying the 'less than' inequality."
   ]
  },
  {
   "cell_type": "code",
   "execution_count": 6,
   "id": "4c54ed8f-1cb9-4a2e-bd45-780d2978e462",
   "metadata": {},
   "outputs": [
    {
     "data": {
      "text/plain": [
       "\n",
       "\tOne Sample t-test\n",
       "\n",
       "data:  sleep\n",
       "t = -0.9489, df = 34, p-value = 0.1747\n",
       "alternative hypothesis: true mean is less than 7\n",
       "95 percent confidence interval:\n",
       "     -Inf 7.245765\n",
       "sample estimates:\n",
       "mean of x \n",
       " 6.685714 \n"
      ]
     },
     "metadata": {},
     "output_type": "display_data"
    }
   ],
   "source": [
    "t.test(sleep, alternative = 'less', mu = 7)"
   ]
  },
  {
   "cell_type": "markdown",
   "id": "f42c4796-8090-427c-bd28-4e5e170e3ed8",
   "metadata": {},
   "source": [
    "## Reporting Out\n",
    "\n",
    "Because $p = 0.1747 < 0.05 = \\alpha$, we fail to reject the null hypothesis. Thus, we find no evidence indicating that the average sleep for these students is less than 7 hours.\n",
    "\n",
    "Admittedly, we calculated the average sleep to be 6.7 hours which shows that the average is slightly less than 7 hours. However, the difference is **not statistically significant**. For scientific research purposes, we have no evidence the average sleep hours is less than 7."
   ]
  },
  {
   "cell_type": "markdown",
   "id": "4606abe3-455b-405e-8256-469dba35f1d6",
   "metadata": {},
   "source": [
    "## By Hand Calculations\n",
    "\n",
    "Let's link to the\n",
    "\n",
    "  - [formula sheet for the class](https://faculty.ung.edu/rsinn/3350/StatsFormulas.pdf) and to\n",
    "  - [the $t$-table](https://faculty.ung.edu/rsinn/3350/Table_T.pdf)\n",
    "\n",
    "Reminding ourselves of the standard descriptives (copied from above):"
   ]
  },
  {
   "cell_type": "code",
   "execution_count": 7,
   "id": "8129ba25-1703-40b3-9abb-bc51c86af742",
   "metadata": {},
   "outputs": [
    {
     "name": "stdout",
     "output_type": "stream",
     "text": [
      "The summary statistics are as follows: \n",
      "mean =  6.685714 \n",
      "standard deviation =  1.959463 \n",
      "with sample size =  35"
     ]
    }
   ],
   "source": [
    "cat('The summary statistics are as follows: \\nmean = ',m,'\\nstandard deviation = ',s,'\\nwith sample size = ',n)"
   ]
  },
  {
   "cell_type": "markdown",
   "id": "e04027c2-9e60-4b00-a898-4c5788e956e2",
   "metadata": {},
   "source": [
    "```{sidebar} Degrees of Freedom\n",
    "The degrees of freedom for the 1 sample $t$-test are one less than the sample size, or $df=n-1$.\n",
    "```\n",
    "We calculate the test statistic given that:\n",
    "\n",
    "$$\\begin{align}t &= \\frac{\\bar x - \\mu_0}{\\frac{s}{\\sqrt{n}}}\\\\\n",
    "&= \\frac{6.686 - 7}{\\frac{1.959}{\\sqrt{35}}}\\\\\n",
    "&= \\frac{-0.314}{\\frac{1.959}{5.916}}\\\\\n",
    "&\\approx -0.9483\n",
    "\\end{align}$$"
   ]
  },
  {
   "cell_type": "markdown",
   "id": "eb33ac87-3d00-4cd6-961b-d758eac39636",
   "metadata": {},
   "source": [
    "We look up the correct value for $t^*$ in the $t$-table given that we have a 1-tailed hypothesis and $df = 34$. We find that the correct value is as follows:\n",
    "\n",
    "$$t^* = 1.697$$\n",
    "\n",
    "with 34 degrees of freedom (or $df=30$ in the table) and $\\alpha = 0.05$."
   ]
  },
  {
   "cell_type": "markdown",
   "id": "d0d8aedb-ad46-4d27-8ecc-d5ecc5cffb7c",
   "metadata": {},
   "source": [
    "### Reporting Out\n",
    "\n",
    "The graphic below shows the relationship between the test statistic $|t|$ and the cutoff value from table $t^*$. We draw a vertical line at $t^*$ and shade beyond it. Thus, if the absolute value of the calculated test statistic is greater than the cutoff value $t^*$, we **reject the null**."
   ]
  },
  {
   "cell_type": "code",
   "execution_count": 8,
   "id": "048e095a-272d-402d-abf3-22b284026262",
   "metadata": {},
   "outputs": [
    {
     "data": {
      "image/png": "[encoded data removed]",
      "text/plain": [
       "Plot with title \"t-Distribution with SD = 1\""
      ]
     },
     "metadata": {},
     "output_type": "display_data"
    }
   ],
   "source": [
    "x <- seq(-4, 4, by = 0.1)\n",
    "y <- dt(x, df = 34)\n",
    "plot(x, y, type = \"l\", lwd = 3, main = \"t-Distribution with SD = 1\", xlab = \"x\", ylab = \"Density\")\n",
    "\n",
    "x_r <- seq(1.96, 4, length.out = 75)\n",
    "y_r <- dt(x_r, df = 34)\n",
    "polygon(c(x_r, 1.697, 1.697), c(y_r, 0, dt(1.697, df = 34)), col = \"blue\", border = NA)\n",
    "\n",
    "abline(v=1.697, col = 'red')# untf = FALSE,)\n",
    "text(2.44, 0.15, 'Red line at\\nt* of 1.697')\n",
    "text(2.85, 0.07, 'Rejection Region\\nshaded in blue')"
   ]
  },
  {
   "cell_type": "markdown",
   "id": "e4624825-bb56-44ed-b471-2b0faa29a763",
   "metadata": {},
   "source": [
    "Since $|t| = 0.9483 < 1.697 = t^*$, we fail to reject the null hypothesis. As above, we find no evidence that the sleep hours for UNG students is less than 7 hours."
   ]
  },
  {
   "cell_type": "code",
   "execution_count": null,
   "id": "07215db9-c461-4c2c-96c7-067d8c199052",
   "metadata": {},
   "outputs": [],
   "source": []
  }
 ],
 "metadata": {
  "kernelspec": {
   "display_name": "R",
   "language": "R",
   "name": "ir"
  },
  "language_info": {
   "codemirror_mode": "r",
   "file_extension": ".r",
   "mimetype": "text/x-r-source",
   "name": "R",
   "pygments_lexer": "r",
   "version": "3.6.1"
  }
 },
 "nbformat": 4,
 "nbformat_minor": 5
}