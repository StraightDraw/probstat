{
 "cells": [
  {
   "cell_type": "markdown",
   "metadata": {},
   "source": [
    "# Probability and Statistics"
   ]
  },
  {
   "cell_type": "markdown",
   "metadata": {},
   "source": [
    "Course Notes for Prob-Stat (UNG MATH 3350) by Robb Sinn"
   ]
  },
  {
   "cell_type": "markdown",
   "metadata": {},
   "source": [
    "The details for how to load and use Rstudio are in chapter 0. These notes are standardized on R using the package Mosaic. Chapter 0 explains how to install and setup R on your laptop or home machine.\n",
    "\n",
    "Professional gamblers and poker players rely upon mathematics to earn their living. Career paths for professional gamblers include running casinos, betting parlors, and lotteries in places where such things are legal. They offer odds for betting on athletic events and horse races. They design and perfect games of chance for casinos, and they verify that those games are fair. Professional poker players are the most high profile example of professional gamblers. Twenty years ago, few people outside Vegas knew of the legendary Doyle \"Texas Dolly\" Brunson. Today, many learn about poker celebrities like Phil \"The Phenom\" Ivey, Vanessa \"The Lady Maverick\" Rousso, Daniel \"Kid Poker\" Negraneu or the \"Duchess of Poker\" Annie Duke by watching high stakes poker on TV.\n",
    "\n",
    "What mathematics do they use? They use *probability* to predict the future. They use *statistics* to analyze the past. With an understanding of both, they manufacture hundreds of small edges over their competition to earn money.\n",
    "\n"
   ]
  },
  {
   "cell_type": "markdown",
   "id": "stuck-philip",
   "metadata": {},
   "source": [
    "\n",
    "```{toctree}\n",
    ":hidden:\n",
    ":titlesonly:\n",
    "\n",
    "\n",
    "S1\n",
    "```\n"
   ]
  }
 ],
 "metadata": {
  "kernelspec": {
   "display_name": "Python 3",
   "language": "python",
   "name": "python3"
  },
  "language_info": {
   "codemirror_mode": {
    "name": "ipython",
    "version": 3
   },
   "file_extension": ".py",
   "mimetype": "text/x-python",
   "name": "python",
   "nbconvert_exporter": "python",
   "pygments_lexer": "ipython3",
   "version": "3.7.6"
  }
 },
 "nbformat": 4,
 "nbformat_minor": 4
}