{
 "cells": [
  {
   "cell_type": "markdown",
   "id": "92d281da-73b5-4f6e-bca6-eb1bd715c428",
   "metadata": {},
   "source": [
    "# Excercises"
   ]
  },
  {
   "cell_type": "markdown",
   "id": "3e467616-d47c-407e-9962-5360946a0420",
   "metadata": {},
   "source": [
    "This section offers up more than a hundred homework problems. The problems are not offered in order from easiest to hardest. This lack of ordering is intentional.\n",
    "\n",
    "The problems on tests and quizzes are not normally ordered in this way, and the lack of ordering helps us learn the fundamentals of probability problem-solving. We must always be asking:\n",
    "- What type of counting methods are used?\n",
    "- Do natural partitions exist (as in a deck of cards: suits, values, etc.) that could help?\n",
    "- Is this similar to another problem I've solved recently?\n",
    "- Can I solve a simpler, related problem?\n",
    "- If multiple events are utilized, are they independent events? If not, how are they related?\n",
    "\n",
    "As we solved the unordered problems, we become adept at quickly analyzing the mathematical features of the problem. This helps us quickly and accurately proceed down a correct solution pathway."
   ]
  }
 ],
 "metadata": {
  "kernelspec": {
   "display_name": "Python 3 (ipykernel)",
   "language": "python",
   "name": "python3"
  },
  "language_info": {
   "codemirror_mode": {
    "name": "ipython",
    "version": 3
   },
   "file_extension": ".py",
   "mimetype": "text/x-python",
   "name": "python",
   "nbconvert_exporter": "python",
   "pygments_lexer": "ipython3",
   "version": "3.8.20"
  }
 },
 "nbformat": 4,
 "nbformat_minor": 5
}