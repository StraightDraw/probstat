{
 "cells": [
  {
   "cell_type": "markdown",
   "id": "195f03b8-302a-4034-8734-e99e3730cc88",
   "metadata": {},
   "source": [
    "# Sampling Functions\n",
    "\n",
    "The package **mosaic** features classic sampling functions for R. However, in this environment we use for class, mosaic is difficult to load. Still, we can import the code for useful functions directly and run them in R. This page provides the code to copy into an R notebook along with examples to guide usage.\n",
    "\n",
    "Three mosaic functions that will be useful for us include:\n",
    "\n",
    "1. rflip()\n",
    "2. rspin()\n",
    "3. sample.data.frame()"
   ]
  },
  {
   "cell_type": "markdown",
   "id": "0d81abe5-6f6f-4a5b-b517-dd9b2c5fcb90",
   "metadata": {},
   "source": [
    "## The **rflip()** Function\n",
    "\n",
    "When we want to simulate coin flips, the **rflip** function generates and organizes the output. The function parameters are as follows:\n",
    "\n",
    "- **n** -- the number of coins to toss\n",
    "- **prob** -- probability of heads on each toss\n",
    "- **quiet** -- a logical.  If `TRUE`, less verbose output is used.\n",
    "- **verbose** -- a logical.  If `TRUE`, more verbose output is used.\n",
    "- **summarize** -- if `TRUE`, return a summary (as a data frame).\n",
    "\n",
    "Some examples:\n",
    "- rflip(10)\n",
    "- rflip(10, prob = 1/6, quiet = TRUE)\n",
    "- rflip(10, prob = 1/6, summarize = TRUE)"
   ]
  },
  {
   "cell_type": "markdown",
   "id": "00a81d75-d0d1-4756-996a-752db122e86d",
   "metadata": {},
   "source": [
    "The code to create the function **rflip()** is below."
   ]
  },
  {
   "cell_type": "code",
   "execution_count": 1,
   "id": "00aea4f3-2caf-4620-a931-e90be4ca0fc0",
   "metadata": {},
   "outputs": [],
   "source": [
    "rflip <- function(n=1, prob=.5, quiet=FALSE, verbose = !quiet, summarize = FALSE, \n",
    "                  summarise = summarize) {\n",
    "\tif ( ( prob > 1 && is.integer(prob) ) ) {  \n",
    "\t\t# swap n and prob\n",
    "\t\ttemp <- prob\n",
    "\t\tprob <- n\n",
    "\t\tn <- temp\n",
    "\t}\n",
    "\tif (summarise) {\n",
    "\t  heads <- rbinom(1, n, prob)\n",
    "\t  return(data.frame(n = n, heads = heads, tails = n - heads, prob = prob))\n",
    "\t} else {\n",
    "\t  r <- rbinom(n,1,prob)\n",
    "\t  result <- c('T','H')[ 1 + r ]\n",
    "\t  heads <- sum(r)\n",
    "\t  attr(heads,\"n\") <- n\n",
    "\t  attr(heads,\"prob\") <- prob \n",
    "\t  attr(heads,\"sequence\") <- result\n",
    "\t  attr(heads,\"verbose\") <- verbose\n",
    "\t  class(heads) <- 'cointoss'\n",
    "\t  return(heads)\n",
    "\t}\n",
    "}"
   ]
  },
  {
   "cell_type": "markdown",
   "id": "29c86f05-53ea-4867-87a9-dacd3d4730df",
   "metadata": {},
   "source": [
    "Let's flip $20$ coins and observe the different output configurations we can access."
   ]
  },
  {
   "cell_type": "code",
   "execution_count": 2,
   "id": "04311ac4-a1e9-4f03-accd-770da6008d9e",
   "metadata": {},
   "outputs": [
    {
     "data": {
      "text/plain": [
       "[1] 10\n",
       "attr(,\"n\")\n",
       "[1] 20\n",
       "attr(,\"prob\")\n",
       "[1] 0.5\n",
       "attr(,\"sequence\")\n",
       " [1] \"T\" \"T\" \"H\" \"H\" \"H\" \"H\" \"H\" \"T\" \"T\" \"T\" \"H\" \"T\" \"H\" \"T\" \"H\" \"T\" \"H\" \"T\" \"T\"\n",
       "[20] \"H\"\n",
       "attr(,\"verbose\")\n",
       "[1] TRUE\n",
       "attr(,\"class\")\n",
       "[1] \"cointoss\""
      ]
     },
     "metadata": {},
     "output_type": "display_data"
    }
   ],
   "source": [
    "rflip(20)"
   ]
  },
  {
   "cell_type": "markdown",
   "id": "d87812ae-604a-4a71-b9f0-eeef053e18ca",
   "metadata": {},
   "source": [
    "Notice that the \"number of successes\" is the first output and that the outputs are in a dataframe that we can subset normally. Thus, we can use square brackets [] to access that value:"
   ]
  },
  {
   "cell_type": "code",
   "execution_count": 3,
   "id": "ba253eb7-c87a-4447-8a9c-9e0d3ccb2f14",
   "metadata": {},
   "outputs": [
    {
     "data": {
      "text/html": [
       "11"
      ],
      "text/latex": [
       "11"
      ],
      "text/markdown": [
       "11"
      ],
      "text/plain": [
       "[1] 11"
      ]
     },
     "metadata": {},
     "output_type": "display_data"
    }
   ],
   "source": [
    "rflip(20)[1]"
   ]
  },
  {
   "cell_type": "markdown",
   "id": "bfdcb3b2-32e3-4ad6-a53c-d984da64835c",
   "metadata": {},
   "source": [
    "What if the probability of success is different than 50\\%? We can use the *prob =* option to set the correct value."
   ]
  },
  {
   "cell_type": "code",
   "execution_count": 4,
   "id": "268952dd-592c-495c-9e34-9d846cc6e7b2",
   "metadata": {},
   "outputs": [
    {
     "data": {
      "text/plain": [
       "[1] 6\n",
       "attr(,\"n\")\n",
       "[1] 20\n",
       "attr(,\"prob\")\n",
       "[1] 0.1666667\n",
       "attr(,\"sequence\")\n",
       " [1] \"T\" \"H\" \"H\" \"H\" \"H\" \"T\" \"H\" \"T\" \"T\" \"T\" \"T\" \"T\" \"T\" \"T\" \"T\" \"T\" \"T\" \"T\" \"T\"\n",
       "[20] \"H\"\n",
       "attr(,\"verbose\")\n",
       "[1] TRUE\n",
       "attr(,\"class\")\n",
       "[1] \"cointoss\""
      ]
     },
     "metadata": {},
     "output_type": "display_data"
    }
   ],
   "source": [
    "rflip(20, prob = 1/6)"
   ]
  },
  {
   "cell_type": "markdown",
   "id": "47715fc5-8b22-48e1-83d8-902372b01baa",
   "metadata": {},
   "source": [
    "The function **rflip()** will organize the results attractively for us in an dataframe if we set the option *summarize = TRUE*."
   ]
  },
  {
   "cell_type": "code",
   "execution_count": 5,
   "id": "2fc1d760-4b4c-43b9-a244-d8aac86644cc",
   "metadata": {},
   "outputs": [
    {
     "data": {
      "text/html": [
       "<table>\n",
       "<thead><tr><th scope=col>n</th><th scope=col>heads</th><th scope=col>tails</th><th scope=col>prob</th></tr></thead>\n",
       "<tbody>\n",
       "\t<tr><td>20       </td><td>1        </td><td>19       </td><td>0.1666667</td></tr>\n",
       "</tbody>\n",
       "</table>\n"
      ],
      "text/latex": [
       "\\begin{tabular}{r|llll}\n",
       " n & heads & tails & prob\\\\\n",
       "\\hline\n",
       "\t 20        & 1         & 19        & 0.1666667\\\\\n",
       "\\end{tabular}\n"
      ],
      "text/markdown": [
       "\n",
       "| n | heads | tails | prob |\n",
       "|---|---|---|---|\n",
       "| 20        | 1         | 19        | 0.1666667 |\n",
       "\n"
      ],
      "text/plain": [
       "  n  heads tails prob     \n",
       "1 20 1     19    0.1666667"
      ]
     },
     "metadata": {},
     "output_type": "display_data"
    }
   ],
   "source": [
    "rflip(20, prob = 1/6, summarize = TRUE)"
   ]
  },
  {
   "cell_type": "markdown",
   "id": "27423d6e-115d-4c95-91e3-4402fba1b8ba",
   "metadata": {},
   "source": [
    "## The **rspin()** Function"
   ]
  },
  {
   "cell_type": "markdown",
   "id": "c4cf7d15-71fc-428e-ab69-f8942cf94e59",
   "metadata": {},
   "source": [
    "We can simulate spinning a spinner with **rspin()** using the following input parameters.\n",
    "\n",
    "- **n** number of spins of spinner\n",
    "- **probs** -- a vector of probabilities.  If the sum is not 1, the probabilities will be rescaled.\n",
    "- **labels** -- a character vector of labels for the categories\n",
    "\n",
    "Some examples:\n",
    "\n",
    "- rspin(20, prob=c(1,2,3), labels=c(\"Red\", \"Blue\", \"Green\"))\n",
    "- rspin(30, prob=c(1,2,3,4), labels=c(\"Red\", \"Blue\", \"Green\", \"Purple\"))"
   ]
  },
  {
   "cell_type": "code",
   "execution_count": 6,
   "id": "4d471ee8-e54b-4a71-a623-bed19338e768",
   "metadata": {},
   "outputs": [],
   "source": [
    "rspin <- function(n, probs, labels=1:length(probs)) {\n",
    "  if (any(probs < 0))\n",
    "    stop(\"All probs must be non-negative.\")\n",
    "  \n",
    "  probs <- probs/sum(probs)\n",
    "  res <- as.data.frame(t(rmultinom(1, n, probs)))\n",
    "  names(res) <- labels\n",
    "  res\n",
    "}"
   ]
  },
  {
   "cell_type": "markdown",
   "id": "4e56c7d0-69ee-4fec-9f41-665105e1f677",
   "metadata": {},
   "source": [
    "Two straightforward examples should suffice to demonstrate how the function works."
   ]
  },
  {
   "cell_type": "code",
   "execution_count": 7,
   "id": "6a6c52fe-726d-4314-8e9c-a7aede15b735",
   "metadata": {},
   "outputs": [
    {
     "data": {
      "text/html": [
       "<table>\n",
       "<thead><tr><th scope=col>Red</th><th scope=col>Blue</th><th scope=col>Green</th></tr></thead>\n",
       "<tbody>\n",
       "\t<tr><td>6 </td><td>4 </td><td>10</td></tr>\n",
       "</tbody>\n",
       "</table>\n"
      ],
      "text/latex": [
       "\\begin{tabular}{r|lll}\n",
       " Red & Blue & Green\\\\\n",
       "\\hline\n",
       "\t 6  & 4  & 10\\\\\n",
       "\\end{tabular}\n"
      ],
      "text/markdown": [
       "\n",
       "| Red | Blue | Green |\n",
       "|---|---|---|\n",
       "| 6  | 4  | 10 |\n",
       "\n"
      ],
      "text/plain": [
       "  Red Blue Green\n",
       "1 6   4    10   "
      ]
     },
     "metadata": {},
     "output_type": "display_data"
    }
   ],
   "source": [
    "rspin(20, prob=c(1,2,3), labels=c(\"Red\", \"Blue\", \"Green\"))"
   ]
  },
  {
   "cell_type": "code",
   "execution_count": 8,
   "id": "4cfc6309-7064-4940-afc6-9bd03a6db4a2",
   "metadata": {},
   "outputs": [
    {
     "data": {
      "text/html": [
       "<table>\n",
       "<thead><tr><th scope=col>Red</th><th scope=col>Blue</th><th scope=col>Green</th><th scope=col>Purple</th></tr></thead>\n",
       "<tbody>\n",
       "\t<tr><td>3 </td><td>4 </td><td>10</td><td>13</td></tr>\n",
       "</tbody>\n",
       "</table>\n"
      ],
      "text/latex": [
       "\\begin{tabular}{r|llll}\n",
       " Red & Blue & Green & Purple\\\\\n",
       "\\hline\n",
       "\t 3  & 4  & 10 & 13\\\\\n",
       "\\end{tabular}\n"
      ],
      "text/markdown": [
       "\n",
       "| Red | Blue | Green | Purple |\n",
       "|---|---|---|---|\n",
       "| 3  | 4  | 10 | 13 |\n",
       "\n"
      ],
      "text/plain": [
       "  Red Blue Green Purple\n",
       "1 3   4    10    13    "
      ]
     },
     "metadata": {},
     "output_type": "display_data"
    }
   ],
   "source": [
    "rspin(30, prob=c(1,2,3,4), labels=c(\"Red\", \"Blue\", \"Green\", \"Purple\"))"
   ]
  },
  {
   "cell_type": "markdown",
   "id": "6f9fad0f-d11f-4ea6-a2aa-6de0cca7160e",
   "metadata": {},
   "source": [
    "### Genetics Example: Flowers\n",
    "\n",
    "Suppose that, based upon Mendel’s laws as expressed in the Punnett square, we have a hybrid where we expect the **purple** to **white** flower ratio to be $3 : 1$. Let's use **rspin()** to simulate growing 400 of the plants and counting the frequency of purple and white flowers."
   ]
  },
  {
   "cell_type": "code",
   "execution_count": 9,
   "id": "2438f0cb-7d31-4d84-b461-819191bf2205",
   "metadata": {},
   "outputs": [
    {
     "data": {
      "text/html": [
       "<table>\n",
       "<thead><tr><th scope=col>Purple</th><th scope=col>White</th></tr></thead>\n",
       "<tbody>\n",
       "\t<tr><td>290</td><td>110</td></tr>\n",
       "</tbody>\n",
       "</table>\n"
      ],
      "text/latex": [
       "\\begin{tabular}{r|ll}\n",
       " Purple & White\\\\\n",
       "\\hline\n",
       "\t 290 & 110\\\\\n",
       "\\end{tabular}\n"
      ],
      "text/markdown": [
       "\n",
       "| Purple | White |\n",
       "|---|---|\n",
       "| 290 | 110 |\n",
       "\n"
      ],
      "text/plain": [
       "  Purple White\n",
       "1 290    110  "
      ]
     },
     "metadata": {},
     "output_type": "display_data"
    }
   ],
   "source": [
    "rspin(400, prob=c(3,1), labels=c(\"Purple\", \"White\"))"
   ]
  },
  {
   "cell_type": "markdown",
   "id": "845fdb53-b650-4373-915c-253e3c735df5",
   "metadata": {},
   "source": [
    "### Genetics Example: Peas"
   ]
  },
  {
   "cell_type": "markdown",
   "id": "9eb3ebc4-6a8b-4db9-b810-51a0468ddfd9",
   "metadata": {},
   "source": [
    "Mendel chose to work with common, garden-variety pea plants for his experiments because they grow quickly and are easily raised. The plants have several visible characteristics that vary by proportions predicted by genetics, and we will focus on two of them:\n",
    "\n",
    "- Seeds can be round or wrinkled\n",
    "- Seeds can have yellow or green cotyledons. Cotyledons refer to the tiny leaves inside the seeds.\n",
    "\n",
    "In Mendel's experiment, he determined that the expected value for proportions were as given in the chart below:\n",
    "\n",
    "<html><table style=\"width:45%\">\n",
    "  <tr>\n",
    "    <th>Phenotype</th>\n",
    "    <th>Expected Proportion</th>\n",
    "  </tr>\n",
    "  <tr>\n",
    "    <td>Round Yellow</td>\n",
    "    <td align=\"center\">9/16</td>\n",
    "  </tr>\n",
    "  <tr>\n",
    "    <td>Round Green</td>\n",
    "    <td align=\"center\">3/16</td>\n",
    "  </tr>\n",
    "  <tr>\n",
    "    <td>Wrinkled Yellow</td>\n",
    "    <td align=\"center\">3/16</td>\n",
    "  </tr>\n",
    "  <tr>\n",
    "    <td>Wrinkled Green</td>\n",
    "    <td align=\"center\">1/16</td>\n",
    "  </tr>\n",
    "</table></html>\n",
    "\n",
    "Let's use **rspin()** to simulate growing 2000 of the plants and determining with what frequencies these attributes occur."
   ]
  },
  {
   "cell_type": "code",
   "execution_count": 10,
   "id": "4490e58d-c5d2-4445-a4f5-691884055cbf",
   "metadata": {},
   "outputs": [
    {
     "data": {
      "text/html": [
       "<table>\n",
       "<thead><tr><th scope=col>Round Yellow</th><th scope=col>Round Green</th><th scope=col>Wrinkled Yellow</th><th scope=col>Wrinkled Green</th></tr></thead>\n",
       "<tbody>\n",
       "\t<tr><td>223</td><td>81 </td><td>73 </td><td>23 </td></tr>\n",
       "</tbody>\n",
       "</table>\n"
      ],
      "text/latex": [
       "\\begin{tabular}{r|llll}\n",
       " Round Yellow & Round Green & Wrinkled Yellow & Wrinkled Green\\\\\n",
       "\\hline\n",
       "\t 223 & 81  & 73  & 23 \\\\\n",
       "\\end{tabular}\n"
      ],
      "text/markdown": [
       "\n",
       "| Round Yellow | Round Green | Wrinkled Yellow | Wrinkled Green |\n",
       "|---|---|---|---|\n",
       "| 223 | 81  | 73  | 23  |\n",
       "\n"
      ],
      "text/plain": [
       "  Round Yellow Round Green Wrinkled Yellow Wrinkled Green\n",
       "1 223          81          73              23            "
      ]
     },
     "metadata": {},
     "output_type": "display_data"
    }
   ],
   "source": [
    "rspin(400, prob=c(9,3,3,1), labels=c(\"Round Yellow\", \"Round Green\", \"Wrinkled Yellow\", \"Wrinkled Green\"))"
   ]
  },
  {
   "cell_type": "markdown",
   "id": "f5677b41-d7d0-4530-8c7a-aedd95a8779b",
   "metadata": {},
   "source": [
    "## The **sample.data.frame()** Function"
   ]
  },
  {
   "cell_type": "markdown",
   "id": "0ced4162-2cde-4141-8dd1-f4b04c9cf655",
   "metadata": {},
   "source": [
    "We often wish to generate a random sample of rows from a dataframe, and **sample.date.frame** helps us to do so quickly.\n",
    "\n",
    "- **x** -- dataframe to sample from\n",
    "- **size** -- sample size to draw\n",
    "- **groups** -- a vector (or variable in a data frame) specifying groups to sample within.\n",
    "- **orig.ids** -- a logical; should original ids be included in returned data frame?\n",
    "- **\\dots** -- additional arguments passed to *base::sample()*.\n",
    "- **shuffled** -- a vector of column names. These variables are reshuffled individually (within groups if `groups` is specified), breaking associations among these columns.\n",
    "\n",
    "Some examples:"
   ]
  },
  {
   "cell_type": "code",
   "execution_count": 11,
   "id": "ce1c23a2-295e-4b0f-94ad-188fe6b2633b",
   "metadata": {},
   "outputs": [],
   "source": [
    "sample.data.frame <- function(x, size, replace = FALSE, prob = NULL, groups=NULL, \n",
    "                              orig.ids = TRUE, fixed = names(x), shuffled = c(),\n",
    "                              invisibly.return = NULL, ...) {\n",
    "  if( missing(size) ) size = nrow(x)\n",
    "  if( is.null(invisibly.return) ) invisibly.return = size>50 \n",
    "  shuffled <- intersect(shuffled, names(x))\n",
    "  fixed <- setdiff(intersect(fixed, names(x)), shuffled)\n",
    "  n <- nrow(x)\n",
    "  ids <- 1:n\n",
    "  groups <- eval( substitute(groups), x )\n",
    "  newids <- sample(n, size, replace=replace, prob=prob, ...)\n",
    "  origids <- ids[newids]\n",
    "  result <- x[newids, , drop=FALSE]\n",
    "  \n",
    "  idsString <- as.character(origids)\n",
    "  \n",
    "  for (column in shuffled) {\n",
    "    cids <- sample(newids, groups=groups[newids])\n",
    "    result[,column] <- x[cids,column]\n",
    "    idsString <- paste(idsString, \".\", cids, sep=\"\")\n",
    "  }\n",
    "  \n",
    "  result <-  result[ , union(fixed,shuffled), drop=FALSE]\n",
    "  if (orig.ids) result$orig.id <- idsString\n",
    "  \n",
    "  \n",
    "  if (invisibly.return) { return(invisible(result)) } else {return(result)}\n",
    "}"
   ]
  },
  {
   "cell_type": "markdown",
   "id": "9a2dd891-0a91-47d1-9779-9ee9d473b0c1",
   "metadata": {},
   "source": [
    "Let's load some data to do some examples."
   ]
  },
  {
   "cell_type": "code",
   "execution_count": 12,
   "id": "3f3bfb4f-b145-4ac1-8d79-63a99fb40fbc",
   "metadata": {},
   "outputs": [
    {
     "data": {
      "text/html": [
       "<table>\n",
       "<thead><tr><th scope=col>Age</th><th scope=col>Yr</th><th scope=col>Sex</th><th scope=col>G21</th><th scope=col>Corps</th><th scope=col>Res</th><th scope=col>Greek</th><th scope=col>VarsAth</th><th scope=col>Honor</th><th scope=col>GPA</th><th scope=col>...</th><th scope=col>Perf</th><th scope=col>OCD</th><th scope=col>Play</th><th scope=col>Extro</th><th scope=col>Narc</th><th scope=col>HSAF</th><th scope=col>HSSE</th><th scope=col>HSAG</th><th scope=col>HSSD</th><th scope=col>PHS</th></tr></thead>\n",
       "<tbody>\n",
       "\t<tr><td>21  </td><td>2   </td><td>M   </td><td>Y   </td><td>Y   </td><td>1   </td><td>N   </td><td>N   </td><td>N   </td><td>3.23</td><td>... </td><td>105 </td><td>10  </td><td>142 </td><td> 8  </td><td>11  </td><td>41  </td><td>40  </td><td>26  </td><td>27  </td><td>SE  </td></tr>\n",
       "\t<tr><td>20  </td><td>3   </td><td>F   </td><td>N   </td><td>N   </td><td>2   </td><td>Y   </td><td>N   </td><td>Y   </td><td>3.95</td><td>... </td><td>105 </td><td> 3  </td><td>172 </td><td>16  </td><td>11  </td><td>46  </td><td>52  </td><td>26  </td><td>33  </td><td>SE  </td></tr>\n",
       "\t<tr><td>22  </td><td>3   </td><td>M   </td><td>Y   </td><td>N   </td><td>2   </td><td>N   </td><td>N   </td><td>N   </td><td>3.06</td><td>... </td><td> 73 </td><td> 1  </td><td>134 </td><td>15  </td><td>11  </td><td>48  </td><td>42  </td><td>44  </td><td>29  </td><td>AG  </td></tr>\n",
       "</tbody>\n",
       "</table>\n"
      ],
      "text/latex": [
       "\\begin{tabular}{r|llllllllllllllllllllllllllllllllllll}\n",
       " Age & Yr & Sex & G21 & Corps & Res & Greek & VarsAth & Honor & GPA & ... & Perf & OCD & Play & Extro & Narc & HSAF & HSSE & HSAG & HSSD & PHS\\\\\n",
       "\\hline\n",
       "\t 21   & 2    & M    & Y    & Y    & 1    & N    & N    & N    & 3.23 & ...  & 105  & 10   & 142  &  8   & 11   & 41   & 40   & 26   & 27   & SE  \\\\\n",
       "\t 20   & 3    & F    & N    & N    & 2    & Y    & N    & Y    & 3.95 & ...  & 105  &  3   & 172  & 16   & 11   & 46   & 52   & 26   & 33   & SE  \\\\\n",
       "\t 22   & 3    & M    & Y    & N    & 2    & N    & N    & N    & 3.06 & ...  &  73  &  1   & 134  & 15   & 11   & 48   & 42   & 44   & 29   & AG  \\\\\n",
       "\\end{tabular}\n"
      ],
      "text/markdown": [
       "\n",
       "| Age | Yr | Sex | G21 | Corps | Res | Greek | VarsAth | Honor | GPA | ... | Perf | OCD | Play | Extro | Narc | HSAF | HSSE | HSAG | HSSD | PHS |\n",
       "|---|---|---|---|---|---|---|---|---|---|---|---|---|---|---|---|---|---|---|---|---|\n",
       "| 21   | 2    | M    | Y    | Y    | 1    | N    | N    | N    | 3.23 | ...  | 105  | 10   | 142  |  8   | 11   | 41   | 40   | 26   | 27   | SE   |\n",
       "| 20   | 3    | F    | N    | N    | 2    | Y    | N    | Y    | 3.95 | ...  | 105  |  3   | 172  | 16   | 11   | 46   | 52   | 26   | 33   | SE   |\n",
       "| 22   | 3    | M    | Y    | N    | 2    | N    | N    | N    | 3.06 | ...  |  73  |  1   | 134  | 15   | 11   | 48   | 42   | 44   | 29   | AG   |\n",
       "\n"
      ],
      "text/plain": [
       "  Age Yr Sex G21 Corps Res Greek VarsAth Honor GPA  ... Perf OCD Play Extro\n",
       "1 21  2  M   Y   Y     1   N     N       N     3.23 ... 105  10  142   8   \n",
       "2 20  3  F   N   N     2   Y     N       Y     3.95 ... 105   3  172  16   \n",
       "3 22  3  M   Y   N     2   N     N       N     3.06 ...  73   1  134  15   \n",
       "  Narc HSAF HSSE HSAG HSSD PHS\n",
       "1 11   41   40   26   27   SE \n",
       "2 11   46   52   26   33   SE \n",
       "3 11   48   42   44   29   AG "
      ]
     },
     "metadata": {},
     "output_type": "display_data"
    }
   ],
   "source": [
    "p <- read.csv('https://faculty.ung.edu/rsinn/data/personality.csv')\n",
    "head(p,3)"
   ]
  },
  {
   "cell_type": "markdown",
   "id": "559f8e83-11e7-488f-8be9-28aefad96215",
   "metadata": {},
   "source": [
    "**The example below shows how to draw a random sample of size $n = 25$ from the personality data frame.** The row ID numbers have been included so you can see which rows were selected. Rerun the command, and you will see that a new sample with different rows will be drawn."
   ]
  },
  {
   "cell_type": "code",
   "execution_count": 13,
   "id": "f08afceb-6015-4366-b546-3985a0692c8b",
   "metadata": {},
   "outputs": [
    {
     "data": {
      "text/html": [
       "<table>\n",
       "<thead><tr><th></th><th scope=col>Age</th><th scope=col>Yr</th><th scope=col>Sex</th><th scope=col>G21</th><th scope=col>Corps</th><th scope=col>Res</th><th scope=col>Greek</th><th scope=col>VarsAth</th><th scope=col>Honor</th><th scope=col>GPA</th><th scope=col>...</th><th scope=col>OCD</th><th scope=col>Play</th><th scope=col>Extro</th><th scope=col>Narc</th><th scope=col>HSAF</th><th scope=col>HSSE</th><th scope=col>HSAG</th><th scope=col>HSSD</th><th scope=col>PHS</th><th scope=col>orig.id</th></tr></thead>\n",
       "<tbody>\n",
       "\t<tr><th scope=row>76</th><td>21  </td><td>4   </td><td>F   </td><td>Y   </td><td>N   </td><td>2   </td><td>Y   </td><td>N   </td><td>N   </td><td>3.40</td><td>... </td><td> 7  </td><td>159 </td><td> 9  </td><td> 4  </td><td>54  </td><td>46  </td><td>25  </td><td>48  </td><td>SD  </td><td>76  </td></tr>\n",
       "\t<tr><th scope=row>112</th><td>20  </td><td>3   </td><td>F   </td><td>N   </td><td>N   </td><td>3   </td><td>N   </td><td>N   </td><td>N   </td><td>2.50</td><td>... </td><td>13  </td><td>140 </td><td> 3  </td><td> 1  </td><td>38  </td><td>28  </td><td>25  </td><td>24  </td><td>AG  </td><td>112 </td></tr>\n",
       "\t<tr><th scope=row>78</th><td>21  </td><td>4   </td><td>M   </td><td>Y   </td><td>Y   </td><td>1   </td><td>Y   </td><td>N   </td><td>Y   </td><td>3.18</td><td>... </td><td> 7  </td><td>120 </td><td> 5  </td><td> 4  </td><td>28  </td><td>36  </td><td>27  </td><td>34  </td><td>SD  </td><td>78  </td></tr>\n",
       "\t<tr><th scope=row>1</th><td>21  </td><td>2   </td><td>M   </td><td>Y   </td><td>Y   </td><td>1   </td><td>N   </td><td>N   </td><td>N   </td><td>3.23</td><td>... </td><td>10  </td><td>142 </td><td> 8  </td><td>11  </td><td>41  </td><td>40  </td><td>26  </td><td>27  </td><td>SE  </td><td>1   </td></tr>\n",
       "\t<tr><th scope=row>52</th><td>20  </td><td>3   </td><td>M   </td><td>N   </td><td>Y   </td><td>1   </td><td>Y   </td><td>N   </td><td>N   </td><td>3.34</td><td>... </td><td> 4  </td><td>104 </td><td>11  </td><td> 6  </td><td>35  </td><td>32  </td><td>30  </td><td>32  </td><td>SD  </td><td>52  </td></tr>\n",
       "\t<tr><th scope=row>82</th><td>20  </td><td>2   </td><td>M   </td><td>N   </td><td>N   </td><td>1   </td><td>N   </td><td>Y   </td><td>N   </td><td>3.40</td><td>... </td><td> 0  </td><td>146 </td><td>15  </td><td> 4  </td><td>46  </td><td>44  </td><td>40  </td><td>36  </td><td>AG  </td><td>82  </td></tr>\n",
       "\t<tr><th scope=row>106</th><td>18  </td><td>2   </td><td>F   </td><td>N   </td><td>N   </td><td>3   </td><td>N   </td><td>N   </td><td>N   </td><td>3.67</td><td>... </td><td> 6  </td><td>122 </td><td>10  </td><td> 2  </td><td>43  </td><td>36  </td><td>28  </td><td>22  </td><td>AF  </td><td>106 </td></tr>\n",
       "\t<tr><th scope=row>13</th><td>20  </td><td>2   </td><td>M   </td><td>N   </td><td>N   </td><td>1   </td><td>N   </td><td>N   </td><td>Y   </td><td>3.86</td><td>... </td><td>15  </td><td>130 </td><td>10  </td><td> 8  </td><td>43  </td><td>36  </td><td>36  </td><td>32  </td><td>AG  </td><td>13  </td></tr>\n",
       "\t<tr><th scope=row>124</th><td>30  </td><td>3   </td><td>F   </td><td>Y   </td><td>N   </td><td>3   </td><td>N   </td><td>N   </td><td>N   </td><td>2.79</td><td>... </td><td> 4  </td><td>143 </td><td>11  </td><td> 1  </td><td>44  </td><td>40  </td><td>25  </td><td>41  </td><td>SD  </td><td>124 </td></tr>\n",
       "\t<tr><th scope=row>54</th><td>22  </td><td>3   </td><td>M   </td><td>Y   </td><td>N   </td><td>1   </td><td>N   </td><td>N   </td><td>N   </td><td>3.26</td><td>... </td><td>13  </td><td>125 </td><td> 3  </td><td> 5  </td><td>44  </td><td>55  </td><td>22  </td><td>20  </td><td>SE  </td><td>54  </td></tr>\n",
       "\t<tr><th scope=row>46</th><td>22  </td><td>3   </td><td>F   </td><td>Y   </td><td>N   </td><td>2   </td><td>N   </td><td>N   </td><td>N   </td><td>3.02</td><td>... </td><td> 7  </td><td>174 </td><td>13  </td><td> 6  </td><td>51  </td><td>39  </td><td>25  </td><td>18  </td><td>AF  </td><td>46  </td></tr>\n",
       "\t<tr><th scope=row>47</th><td>20  </td><td>2   </td><td>F   </td><td>N   </td><td>N   </td><td>1   </td><td>N   </td><td>N   </td><td>N   </td><td>2.90</td><td>... </td><td> 7  </td><td>170 </td><td>12  </td><td> 6  </td><td>53  </td><td>42  </td><td>37  </td><td>26  </td><td>AF  </td><td>47  </td></tr>\n",
       "\t<tr><th scope=row>95</th><td>20  </td><td>2   </td><td>F   </td><td>N   </td><td>N   </td><td>1   </td><td>N   </td><td>N   </td><td>N   </td><td>2.51</td><td>... </td><td> 5  </td><td>147 </td><td> 6  </td><td> 3  </td><td>47  </td><td>19  </td><td>19  </td><td>21  </td><td>AF  </td><td>95  </td></tr>\n",
       "\t<tr><th scope=row>110</th><td>22  </td><td>4   </td><td>F   </td><td>Y   </td><td>N   </td><td>2   </td><td>N   </td><td>N   </td><td>N   </td><td>3.87</td><td>... </td><td>17  </td><td>129 </td><td> 6  </td><td> 1  </td><td>44  </td><td>45  </td><td>22  </td><td>30  </td><td>SE  </td><td>110 </td></tr>\n",
       "\t<tr><th scope=row>53</th><td>20  </td><td>3   </td><td>F   </td><td>N   </td><td>N   </td><td>1   </td><td>Y   </td><td>N   </td><td>N   </td><td>2.92</td><td>... </td><td> 2  </td><td>120 </td><td> 9  </td><td> 6  </td><td>50  </td><td>37  </td><td>28  </td><td>23  </td><td>AF  </td><td>53  </td></tr>\n",
       "\t<tr><th scope=row>39</th><td>20  </td><td>2   </td><td>F   </td><td>N   </td><td>Y   </td><td>1   </td><td>Y   </td><td>N   </td><td>Y   </td><td>3.16</td><td>... </td><td>11  </td><td>166 </td><td> 7  </td><td> 6  </td><td>56  </td><td>55  </td><td>24  </td><td>17  </td><td>SE  </td><td>39  </td></tr>\n",
       "\t<tr><th scope=row>114</th><td>50  </td><td>4   </td><td>F   </td><td>Y   </td><td>N   </td><td>3   </td><td>N   </td><td>N   </td><td>N   </td><td>2.15</td><td>... </td><td>11  </td><td>118 </td><td>13  </td><td> 1  </td><td>24  </td><td>34  </td><td>15  </td><td>20  </td><td>SE  </td><td>114 </td></tr>\n",
       "\t<tr><th scope=row>34</th><td>18  </td><td>1   </td><td>F   </td><td>N   </td><td>N   </td><td>3   </td><td>N   </td><td>N   </td><td>N   </td><td>3.92</td><td>... </td><td>19  </td><td>132 </td><td>17  </td><td> 6  </td><td>42  </td><td>40  </td><td>18  </td><td>26  </td><td>SE  </td><td>34  </td></tr>\n",
       "\t<tr><th scope=row>18</th><td>20  </td><td>3   </td><td>M   </td><td>N   </td><td>N   </td><td>2   </td><td>Y   </td><td>N   </td><td>N   </td><td>2.66</td><td>... </td><td>12  </td><td>111 </td><td>13  </td><td> 8  </td><td>32  </td><td>32  </td><td>32  </td><td>32  </td><td>AG  </td><td>18  </td></tr>\n",
       "\t<tr><th scope=row>80</th><td>19  </td><td>3   </td><td>F   </td><td>N   </td><td>N   </td><td>2   </td><td>Y   </td><td>N   </td><td>N   </td><td>4.00</td><td>... </td><td> 3  </td><td>121 </td><td> 8  </td><td> 4  </td><td>34  </td><td>36  </td><td>30  </td><td>33  </td><td>SD  </td><td>80  </td></tr>\n",
       "\t<tr><th scope=row>99</th><td>18  </td><td>1   </td><td>F   </td><td>N   </td><td>N   </td><td>1   </td><td>N   </td><td>N   </td><td>N   </td><td>3.84</td><td>... </td><td>13  </td><td>158 </td><td>13  </td><td> 2  </td><td>49  </td><td>46  </td><td>34  </td><td>23  </td><td>SE  </td><td>99  </td></tr>\n",
       "\t<tr><th scope=row>98</th><td>18  </td><td>1   </td><td>F   </td><td>N   </td><td>N   </td><td>3   </td><td>N   </td><td>N   </td><td>N   </td><td>3.70</td><td>... </td><td>16  </td><td>131 </td><td> 6  </td><td> 2  </td><td>33  </td><td>32  </td><td>29  </td><td>33  </td><td>SD  </td><td>98  </td></tr>\n",
       "\t<tr><th scope=row>42</th><td>20  </td><td>2   </td><td>F   </td><td>N   </td><td>Y   </td><td>1   </td><td>Y   </td><td>N   </td><td>N   </td><td>3.02</td><td>... </td><td>10  </td><td>147 </td><td>10  </td><td> 6  </td><td>33  </td><td>21  </td><td>31  </td><td>33  </td><td>SD  </td><td>42  </td></tr>\n",
       "\t<tr><th scope=row>16</th><td>23  </td><td>4   </td><td>M   </td><td>Y   </td><td>Y   </td><td>1   </td><td>N   </td><td>N   </td><td>N   </td><td>2.49</td><td>... </td><td>13  </td><td>123 </td><td> 7  </td><td> 8  </td><td>50  </td><td>44  </td><td>39  </td><td>25  </td><td>AG  </td><td>16  </td></tr>\n",
       "\t<tr><th scope=row>61</th><td>17  </td><td>1   </td><td>M   </td><td>N   </td><td>N   </td><td>3   </td><td>N   </td><td>N   </td><td>N   </td><td>3.72</td><td>... </td><td> 5  </td><td>130 </td><td>14  </td><td> 5  </td><td>48  </td><td>47  </td><td>32  </td><td>24  </td><td>SE  </td><td>61  </td></tr>\n",
       "</tbody>\n",
       "</table>\n"
      ],
      "text/latex": [
       "\\begin{tabular}{r|lllllllllllllllllllllllllllllllllllll}\n",
       "  & Age & Yr & Sex & G21 & Corps & Res & Greek & VarsAth & Honor & GPA & ... & OCD & Play & Extro & Narc & HSAF & HSSE & HSAG & HSSD & PHS & orig.id\\\\\n",
       "\\hline\n",
       "\t76 & 21   & 4    & F    & Y    & N    & 2    & Y    & N    & N    & 3.40 & ...  &  7   & 159  &  9   &  4   & 54   & 46   & 25   & 48   & SD   & 76  \\\\\n",
       "\t112 & 20   & 3    & F    & N    & N    & 3    & N    & N    & N    & 2.50 & ...  & 13   & 140  &  3   &  1   & 38   & 28   & 25   & 24   & AG   & 112 \\\\\n",
       "\t78 & 21   & 4    & M    & Y    & Y    & 1    & Y    & N    & Y    & 3.18 & ...  &  7   & 120  &  5   &  4   & 28   & 36   & 27   & 34   & SD   & 78  \\\\\n",
       "\t1 & 21   & 2    & M    & Y    & Y    & 1    & N    & N    & N    & 3.23 & ...  & 10   & 142  &  8   & 11   & 41   & 40   & 26   & 27   & SE   & 1   \\\\\n",
       "\t52 & 20   & 3    & M    & N    & Y    & 1    & Y    & N    & N    & 3.34 & ...  &  4   & 104  & 11   &  6   & 35   & 32   & 30   & 32   & SD   & 52  \\\\\n",
       "\t82 & 20   & 2    & M    & N    & N    & 1    & N    & Y    & N    & 3.40 & ...  &  0   & 146  & 15   &  4   & 46   & 44   & 40   & 36   & AG   & 82  \\\\\n",
       "\t106 & 18   & 2    & F    & N    & N    & 3    & N    & N    & N    & 3.67 & ...  &  6   & 122  & 10   &  2   & 43   & 36   & 28   & 22   & AF   & 106 \\\\\n",
       "\t13 & 20   & 2    & M    & N    & N    & 1    & N    & N    & Y    & 3.86 & ...  & 15   & 130  & 10   &  8   & 43   & 36   & 36   & 32   & AG   & 13  \\\\\n",
       "\t124 & 30   & 3    & F    & Y    & N    & 3    & N    & N    & N    & 2.79 & ...  &  4   & 143  & 11   &  1   & 44   & 40   & 25   & 41   & SD   & 124 \\\\\n",
       "\t54 & 22   & 3    & M    & Y    & N    & 1    & N    & N    & N    & 3.26 & ...  & 13   & 125  &  3   &  5   & 44   & 55   & 22   & 20   & SE   & 54  \\\\\n",
       "\t46 & 22   & 3    & F    & Y    & N    & 2    & N    & N    & N    & 3.02 & ...  &  7   & 174  & 13   &  6   & 51   & 39   & 25   & 18   & AF   & 46  \\\\\n",
       "\t47 & 20   & 2    & F    & N    & N    & 1    & N    & N    & N    & 2.90 & ...  &  7   & 170  & 12   &  6   & 53   & 42   & 37   & 26   & AF   & 47  \\\\\n",
       "\t95 & 20   & 2    & F    & N    & N    & 1    & N    & N    & N    & 2.51 & ...  &  5   & 147  &  6   &  3   & 47   & 19   & 19   & 21   & AF   & 95  \\\\\n",
       "\t110 & 22   & 4    & F    & Y    & N    & 2    & N    & N    & N    & 3.87 & ...  & 17   & 129  &  6   &  1   & 44   & 45   & 22   & 30   & SE   & 110 \\\\\n",
       "\t53 & 20   & 3    & F    & N    & N    & 1    & Y    & N    & N    & 2.92 & ...  &  2   & 120  &  9   &  6   & 50   & 37   & 28   & 23   & AF   & 53  \\\\\n",
       "\t39 & 20   & 2    & F    & N    & Y    & 1    & Y    & N    & Y    & 3.16 & ...  & 11   & 166  &  7   &  6   & 56   & 55   & 24   & 17   & SE   & 39  \\\\\n",
       "\t114 & 50   & 4    & F    & Y    & N    & 3    & N    & N    & N    & 2.15 & ...  & 11   & 118  & 13   &  1   & 24   & 34   & 15   & 20   & SE   & 114 \\\\\n",
       "\t34 & 18   & 1    & F    & N    & N    & 3    & N    & N    & N    & 3.92 & ...  & 19   & 132  & 17   &  6   & 42   & 40   & 18   & 26   & SE   & 34  \\\\\n",
       "\t18 & 20   & 3    & M    & N    & N    & 2    & Y    & N    & N    & 2.66 & ...  & 12   & 111  & 13   &  8   & 32   & 32   & 32   & 32   & AG   & 18  \\\\\n",
       "\t80 & 19   & 3    & F    & N    & N    & 2    & Y    & N    & N    & 4.00 & ...  &  3   & 121  &  8   &  4   & 34   & 36   & 30   & 33   & SD   & 80  \\\\\n",
       "\t99 & 18   & 1    & F    & N    & N    & 1    & N    & N    & N    & 3.84 & ...  & 13   & 158  & 13   &  2   & 49   & 46   & 34   & 23   & SE   & 99  \\\\\n",
       "\t98 & 18   & 1    & F    & N    & N    & 3    & N    & N    & N    & 3.70 & ...  & 16   & 131  &  6   &  2   & 33   & 32   & 29   & 33   & SD   & 98  \\\\\n",
       "\t42 & 20   & 2    & F    & N    & Y    & 1    & Y    & N    & N    & 3.02 & ...  & 10   & 147  & 10   &  6   & 33   & 21   & 31   & 33   & SD   & 42  \\\\\n",
       "\t16 & 23   & 4    & M    & Y    & Y    & 1    & N    & N    & N    & 2.49 & ...  & 13   & 123  &  7   &  8   & 50   & 44   & 39   & 25   & AG   & 16  \\\\\n",
       "\t61 & 17   & 1    & M    & N    & N    & 3    & N    & N    & N    & 3.72 & ...  &  5   & 130  & 14   &  5   & 48   & 47   & 32   & 24   & SE   & 61  \\\\\n",
       "\\end{tabular}\n"
      ],
      "text/markdown": [
       "\n",
       "| <!--/--> | Age | Yr | Sex | G21 | Corps | Res | Greek | VarsAth | Honor | GPA | ... | OCD | Play | Extro | Narc | HSAF | HSSE | HSAG | HSSD | PHS | orig.id |\n",
       "|---|---|---|---|---|---|---|---|---|---|---|---|---|---|---|---|---|---|---|---|---|---|\n",
       "| 76 | 21   | 4    | F    | Y    | N    | 2    | Y    | N    | N    | 3.40 | ...  |  7   | 159  |  9   |  4   | 54   | 46   | 25   | 48   | SD   | 76   |\n",
       "| 112 | 20   | 3    | F    | N    | N    | 3    | N    | N    | N    | 2.50 | ...  | 13   | 140  |  3   |  1   | 38   | 28   | 25   | 24   | AG   | 112  |\n",
       "| 78 | 21   | 4    | M    | Y    | Y    | 1    | Y    | N    | Y    | 3.18 | ...  |  7   | 120  |  5   |  4   | 28   | 36   | 27   | 34   | SD   | 78   |\n",
       "| 1 | 21   | 2    | M    | Y    | Y    | 1    | N    | N    | N    | 3.23 | ...  | 10   | 142  |  8   | 11   | 41   | 40   | 26   | 27   | SE   | 1    |\n",
       "| 52 | 20   | 3    | M    | N    | Y    | 1    | Y    | N    | N    | 3.34 | ...  |  4   | 104  | 11   |  6   | 35   | 32   | 30   | 32   | SD   | 52   |\n",
       "| 82 | 20   | 2    | M    | N    | N    | 1    | N    | Y    | N    | 3.40 | ...  |  0   | 146  | 15   |  4   | 46   | 44   | 40   | 36   | AG   | 82   |\n",
       "| 106 | 18   | 2    | F    | N    | N    | 3    | N    | N    | N    | 3.67 | ...  |  6   | 122  | 10   |  2   | 43   | 36   | 28   | 22   | AF   | 106  |\n",
       "| 13 | 20   | 2    | M    | N    | N    | 1    | N    | N    | Y    | 3.86 | ...  | 15   | 130  | 10   |  8   | 43   | 36   | 36   | 32   | AG   | 13   |\n",
       "| 124 | 30   | 3    | F    | Y    | N    | 3    | N    | N    | N    | 2.79 | ...  |  4   | 143  | 11   |  1   | 44   | 40   | 25   | 41   | SD   | 124  |\n",
       "| 54 | 22   | 3    | M    | Y    | N    | 1    | N    | N    | N    | 3.26 | ...  | 13   | 125  |  3   |  5   | 44   | 55   | 22   | 20   | SE   | 54   |\n",
       "| 46 | 22   | 3    | F    | Y    | N    | 2    | N    | N    | N    | 3.02 | ...  |  7   | 174  | 13   |  6   | 51   | 39   | 25   | 18   | AF   | 46   |\n",
       "| 47 | 20   | 2    | F    | N    | N    | 1    | N    | N    | N    | 2.90 | ...  |  7   | 170  | 12   |  6   | 53   | 42   | 37   | 26   | AF   | 47   |\n",
       "| 95 | 20   | 2    | F    | N    | N    | 1    | N    | N    | N    | 2.51 | ...  |  5   | 147  |  6   |  3   | 47   | 19   | 19   | 21   | AF   | 95   |\n",
       "| 110 | 22   | 4    | F    | Y    | N    | 2    | N    | N    | N    | 3.87 | ...  | 17   | 129  |  6   |  1   | 44   | 45   | 22   | 30   | SE   | 110  |\n",
       "| 53 | 20   | 3    | F    | N    | N    | 1    | Y    | N    | N    | 2.92 | ...  |  2   | 120  |  9   |  6   | 50   | 37   | 28   | 23   | AF   | 53   |\n",
       "| 39 | 20   | 2    | F    | N    | Y    | 1    | Y    | N    | Y    | 3.16 | ...  | 11   | 166  |  7   |  6   | 56   | 55   | 24   | 17   | SE   | 39   |\n",
       "| 114 | 50   | 4    | F    | Y    | N    | 3    | N    | N    | N    | 2.15 | ...  | 11   | 118  | 13   |  1   | 24   | 34   | 15   | 20   | SE   | 114  |\n",
       "| 34 | 18   | 1    | F    | N    | N    | 3    | N    | N    | N    | 3.92 | ...  | 19   | 132  | 17   |  6   | 42   | 40   | 18   | 26   | SE   | 34   |\n",
       "| 18 | 20   | 3    | M    | N    | N    | 2    | Y    | N    | N    | 2.66 | ...  | 12   | 111  | 13   |  8   | 32   | 32   | 32   | 32   | AG   | 18   |\n",
       "| 80 | 19   | 3    | F    | N    | N    | 2    | Y    | N    | N    | 4.00 | ...  |  3   | 121  |  8   |  4   | 34   | 36   | 30   | 33   | SD   | 80   |\n",
       "| 99 | 18   | 1    | F    | N    | N    | 1    | N    | N    | N    | 3.84 | ...  | 13   | 158  | 13   |  2   | 49   | 46   | 34   | 23   | SE   | 99   |\n",
       "| 98 | 18   | 1    | F    | N    | N    | 3    | N    | N    | N    | 3.70 | ...  | 16   | 131  |  6   |  2   | 33   | 32   | 29   | 33   | SD   | 98   |\n",
       "| 42 | 20   | 2    | F    | N    | Y    | 1    | Y    | N    | N    | 3.02 | ...  | 10   | 147  | 10   |  6   | 33   | 21   | 31   | 33   | SD   | 42   |\n",
       "| 16 | 23   | 4    | M    | Y    | Y    | 1    | N    | N    | N    | 2.49 | ...  | 13   | 123  |  7   |  8   | 50   | 44   | 39   | 25   | AG   | 16   |\n",
       "| 61 | 17   | 1    | M    | N    | N    | 3    | N    | N    | N    | 3.72 | ...  |  5   | 130  | 14   |  5   | 48   | 47   | 32   | 24   | SE   | 61   |\n",
       "\n"
      ],
      "text/plain": [
       "    Age Yr Sex G21 Corps Res Greek VarsAth Honor GPA  ... OCD Play Extro Narc\n",
       "76  21  4  F   Y   N     2   Y     N       N     3.40 ...  7  159   9     4  \n",
       "112 20  3  F   N   N     3   N     N       N     2.50 ... 13  140   3     1  \n",
       "78  21  4  M   Y   Y     1   Y     N       Y     3.18 ...  7  120   5     4  \n",
       "1   21  2  M   Y   Y     1   N     N       N     3.23 ... 10  142   8    11  \n",
       "52  20  3  M   N   Y     1   Y     N       N     3.34 ...  4  104  11     6  \n",
       "82  20  2  M   N   N     1   N     Y       N     3.40 ...  0  146  15     4  \n",
       "106 18  2  F   N   N     3   N     N       N     3.67 ...  6  122  10     2  \n",
       "13  20  2  M   N   N     1   N     N       Y     3.86 ... 15  130  10     8  \n",
       "124 30  3  F   Y   N     3   N     N       N     2.79 ...  4  143  11     1  \n",
       "54  22  3  M   Y   N     1   N     N       N     3.26 ... 13  125   3     5  \n",
       "46  22  3  F   Y   N     2   N     N       N     3.02 ...  7  174  13     6  \n",
       "47  20  2  F   N   N     1   N     N       N     2.90 ...  7  170  12     6  \n",
       "95  20  2  F   N   N     1   N     N       N     2.51 ...  5  147   6     3  \n",
       "110 22  4  F   Y   N     2   N     N       N     3.87 ... 17  129   6     1  \n",
       "53  20  3  F   N   N     1   Y     N       N     2.92 ...  2  120   9     6  \n",
       "39  20  2  F   N   Y     1   Y     N       Y     3.16 ... 11  166   7     6  \n",
       "114 50  4  F   Y   N     3   N     N       N     2.15 ... 11  118  13     1  \n",
       "34  18  1  F   N   N     3   N     N       N     3.92 ... 19  132  17     6  \n",
       "18  20  3  M   N   N     2   Y     N       N     2.66 ... 12  111  13     8  \n",
       "80  19  3  F   N   N     2   Y     N       N     4.00 ...  3  121   8     4  \n",
       "99  18  1  F   N   N     1   N     N       N     3.84 ... 13  158  13     2  \n",
       "98  18  1  F   N   N     3   N     N       N     3.70 ... 16  131   6     2  \n",
       "42  20  2  F   N   Y     1   Y     N       N     3.02 ... 10  147  10     6  \n",
       "16  23  4  M   Y   Y     1   N     N       N     2.49 ... 13  123   7     8  \n",
       "61  17  1  M   N   N     3   N     N       N     3.72 ...  5  130  14     5  \n",
       "    HSAF HSSE HSAG HSSD PHS orig.id\n",
       "76  54   46   25   48   SD  76     \n",
       "112 38   28   25   24   AG  112    \n",
       "78  28   36   27   34   SD  78     \n",
       "1   41   40   26   27   SE  1      \n",
       "52  35   32   30   32   SD  52     \n",
       "82  46   44   40   36   AG  82     \n",
       "106 43   36   28   22   AF  106    \n",
       "13  43   36   36   32   AG  13     \n",
       "124 44   40   25   41   SD  124    \n",
       "54  44   55   22   20   SE  54     \n",
       "46  51   39   25   18   AF  46     \n",
       "47  53   42   37   26   AF  47     \n",
       "95  47   19   19   21   AF  95     \n",
       "110 44   45   22   30   SE  110    \n",
       "53  50   37   28   23   AF  53     \n",
       "39  56   55   24   17   SE  39     \n",
       "114 24   34   15   20   SE  114    \n",
       "34  42   40   18   26   SE  34     \n",
       "18  32   32   32   32   AG  18     \n",
       "80  34   36   30   33   SD  80     \n",
       "99  49   46   34   23   SE  99     \n",
       "98  33   32   29   33   SD  98     \n",
       "42  33   21   31   33   SD  42     \n",
       "16  50   44   39   25   AG  16     \n",
       "61  48   47   32   24   SE  61     "
      ]
     },
     "metadata": {},
     "output_type": "display_data"
    }
   ],
   "source": [
    "sample.data.frame(p, 25)"
   ]
  },
  {
   "cell_type": "markdown",
   "id": "7bdf1922-6871-46e6-afe8-835f987cab79",
   "metadata": {},
   "source": [
    "**The example below shows how to draw a random sample of size $n = 25$ from the narcissism column of the personality data frame.** "
   ]
  },
  {
   "cell_type": "code",
   "execution_count": 14,
   "id": "4e18a17f-a464-42d0-8f7d-57fbecce2784",
   "metadata": {},
   "outputs": [
    {
     "data": {
      "text/html": [
       "<table>\n",
       "<thead><tr><th></th><th scope=col>Narc</th></tr></thead>\n",
       "<tbody>\n",
       "\t<tr><th scope=row>124</th><td> 1</td></tr>\n",
       "\t<tr><th scope=row>13</th><td> 8</td></tr>\n",
       "\t<tr><th scope=row>117</th><td> 1</td></tr>\n",
       "\t<tr><th scope=row>129</th><td> 0</td></tr>\n",
       "\t<tr><th scope=row>34</th><td> 6</td></tr>\n",
       "\t<tr><th scope=row>70</th><td> 4</td></tr>\n",
       "\t<tr><th scope=row>8</th><td> 9</td></tr>\n",
       "\t<tr><th scope=row>109</th><td> 2</td></tr>\n",
       "\t<tr><th scope=row>9</th><td> 9</td></tr>\n",
       "\t<tr><th scope=row>92</th><td> 3</td></tr>\n",
       "\t<tr><th scope=row>69</th><td> 4</td></tr>\n",
       "\t<tr><th scope=row>21</th><td> 8</td></tr>\n",
       "\t<tr><th scope=row>22</th><td> 8</td></tr>\n",
       "\t<tr><th scope=row>122</th><td> 1</td></tr>\n",
       "\t<tr><th scope=row>65</th><td> 4</td></tr>\n",
       "\t<tr><th scope=row>123</th><td> 1</td></tr>\n",
       "\t<tr><th scope=row>76</th><td> 4</td></tr>\n",
       "\t<tr><th scope=row>80</th><td> 4</td></tr>\n",
       "\t<tr><th scope=row>94</th><td> 3</td></tr>\n",
       "\t<tr><th scope=row>116</th><td> 1</td></tr>\n",
       "\t<tr><th scope=row>60</th><td> 5</td></tr>\n",
       "\t<tr><th scope=row>88</th><td> 3</td></tr>\n",
       "\t<tr><th scope=row>5</th><td>10</td></tr>\n",
       "\t<tr><th scope=row>3</th><td>11</td></tr>\n",
       "\t<tr><th scope=row>50</th><td> 6</td></tr>\n",
       "</tbody>\n",
       "</table>\n"
      ],
      "text/latex": [
       "\\begin{tabular}{r|l}\n",
       "  & Narc\\\\\n",
       "\\hline\n",
       "\t124 &  1\\\\\n",
       "\t13 &  8\\\\\n",
       "\t117 &  1\\\\\n",
       "\t129 &  0\\\\\n",
       "\t34 &  6\\\\\n",
       "\t70 &  4\\\\\n",
       "\t8 &  9\\\\\n",
       "\t109 &  2\\\\\n",
       "\t9 &  9\\\\\n",
       "\t92 &  3\\\\\n",
       "\t69 &  4\\\\\n",
       "\t21 &  8\\\\\n",
       "\t22 &  8\\\\\n",
       "\t122 &  1\\\\\n",
       "\t65 &  4\\\\\n",
       "\t123 &  1\\\\\n",
       "\t76 &  4\\\\\n",
       "\t80 &  4\\\\\n",
       "\t94 &  3\\\\\n",
       "\t116 &  1\\\\\n",
       "\t60 &  5\\\\\n",
       "\t88 &  3\\\\\n",
       "\t5 & 10\\\\\n",
       "\t3 & 11\\\\\n",
       "\t50 &  6\\\\\n",
       "\\end{tabular}\n"
      ],
      "text/markdown": [
       "\n",
       "| <!--/--> | Narc |\n",
       "|---|---|\n",
       "| 124 |  1 |\n",
       "| 13 |  8 |\n",
       "| 117 |  1 |\n",
       "| 129 |  0 |\n",
       "| 34 |  6 |\n",
       "| 70 |  4 |\n",
       "| 8 |  9 |\n",
       "| 109 |  2 |\n",
       "| 9 |  9 |\n",
       "| 92 |  3 |\n",
       "| 69 |  4 |\n",
       "| 21 |  8 |\n",
       "| 22 |  8 |\n",
       "| 122 |  1 |\n",
       "| 65 |  4 |\n",
       "| 123 |  1 |\n",
       "| 76 |  4 |\n",
       "| 80 |  4 |\n",
       "| 94 |  3 |\n",
       "| 116 |  1 |\n",
       "| 60 |  5 |\n",
       "| 88 |  3 |\n",
       "| 5 | 10 |\n",
       "| 3 | 11 |\n",
       "| 50 |  6 |\n",
       "\n"
      ],
      "text/plain": [
       "    Narc\n",
       "124  1  \n",
       "13   8  \n",
       "117  1  \n",
       "129  0  \n",
       "34   6  \n",
       "70   4  \n",
       "8    9  \n",
       "109  2  \n",
       "9    9  \n",
       "92   3  \n",
       "69   4  \n",
       "21   8  \n",
       "22   8  \n",
       "122  1  \n",
       "65   4  \n",
       "123  1  \n",
       "76   4  \n",
       "80   4  \n",
       "94   3  \n",
       "116  1  \n",
       "60   5  \n",
       "88   3  \n",
       "5   10  \n",
       "3   11  \n",
       "50   6  "
      ]
     },
     "metadata": {},
     "output_type": "display_data"
    }
   ],
   "source": [
    "sample.data.frame(p['Narc'], 25, orig.ids = F)"
   ]
  }
 ],
 "metadata": {
  "kernelspec": {
   "display_name": "R",
   "language": "R",
   "name": "ir"
  },
  "language_info": {
   "codemirror_mode": "r",
   "file_extension": ".r",
   "mimetype": "text/x-r-source",
   "name": "R",
   "pygments_lexer": "r",
   "version": "3.6.1"
  }
 },
 "nbformat": 4,
 "nbformat_minor": 5
}