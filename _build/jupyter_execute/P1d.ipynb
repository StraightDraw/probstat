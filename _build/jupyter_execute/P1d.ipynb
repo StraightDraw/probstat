{
 "cells": [
  {
   "cell_type": "markdown",
   "id": "a7a29c39-2f38-4623-95bd-9842eb727540",
   "metadata": {},
   "source": [
    "# Solutions to Exercises"
   ]
  },
  {
   "cell_type": "markdown",
   "id": "d8ff8877-08a1-40e6-b51f-a41f0cfc3d7d",
   "metadata": {},
   "source": [
    "1. Half the numbers in the event set $\\{1,2,3,4,5,6\\}$ are even.\n",
    "\n",
    "2. Let event set $G$ represent drawing a green marble, and use set complements.\n",
    "\n",
    "$$P(\\bar G)=1-P(G)=1-\\frac{4}{17}=\\frac{13}{17}$$\n",
    "    \n",
    "3. Using events sets $F$ and $B$ for face cards and black respectively, we use intersections and set complements. In every suit, there are 3 face cards and 10 non-face cards.\n",
    "\n",
    "$$P(\\bar F \\cap B)=\\frac{20}{52}$$\n",
    "\n",
    "4. Using event sets $H$, $E$ and $A$, note that $E\\cap A=\\emptyset$, so that $E\\cap \\bar A=E$.\n",
    "    \n",
    "$$P(H\\cap E \\cap \\bar A)=\\frac{6}{52}=\\frac{3}{26}$$"
   ]
  }
 ],
 "metadata": {
  "kernelspec": {
   "display_name": "Python 3 (ipykernel)",
   "language": "python",
   "name": "python3"
  },
  "language_info": {
   "codemirror_mode": {
    "name": "ipython",
    "version": 3
   },
   "file_extension": ".py",
   "mimetype": "text/x-python",
   "name": "python",
   "nbconvert_exporter": "python",
   "pygments_lexer": "ipython3",
   "version": "3.8.20"
  }
 },
 "nbformat": 4,
 "nbformat_minor": 5
}