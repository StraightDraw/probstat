{
 "cells": [
  {
   "cell_type": "markdown",
   "id": "a7a29c39-2f38-4623-95bd-9842eb727540",
   "metadata": {},
   "source": [
    "# Exercises"
   ]
  },
  {
   "cell_type": "markdown",
   "id": "d8ff8877-08a1-40e6-b51f-a41f0cfc3d7d",
   "metadata": {},
   "source": [
    "1. Find the probability of rolling a fair 6-sided die and getting an even number.\n",
    "\n",
    "2. Seventeen marbles are in a jar. Seven are purple, four are green and the rest orange. What is the probability of picking one at random and not getting a green marble?\n",
    "\n",
    "3. Picking one card at random from a standard deck of playing cards, what is the probability the card is not a face card but is black?\n",
    "\n",
    "4. Picking one card at random from a standard deck of playing cards, what is the probability the card is a heart and is even but is not an Ace?"
   ]
  }
 ],
 "metadata": {
  "kernelspec": {
   "display_name": "Python 3 (ipykernel)",
   "language": "python",
   "name": "python3"
  },
  "language_info": {
   "codemirror_mode": {
    "name": "ipython",
    "version": 3
   },
   "file_extension": ".py",
   "mimetype": "text/x-python",
   "name": "python",
   "nbconvert_exporter": "python",
   "pygments_lexer": "ipython3",
   "version": "3.13.1"
  }
 },
 "nbformat": 4,
 "nbformat_minor": 5
}
