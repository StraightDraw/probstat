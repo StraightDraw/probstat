{
 "cells": [
  {
   "cell_type": "markdown",
   "id": "2e9daec9-f117-482a-bf9c-cbffea414a01",
   "metadata": {},
   "source": [
    "# Data Frames\n",
    "\n",
    "```{sidebar} Key Points of Learning\n",
    "What is a data frame? How do load a data frame into R so that we can work with it?\n",
    "```"
   ]
  },
  {
   "cell_type": "markdown",
   "id": "66ef33fa-c5ef-40d3-b706-fb22d9bed95c",
   "metadata": {},
   "source": [
    "R stores data in specialized tables called <span style='font-weight:bold; color:blue;'>Data Frames</span>. Many R commands are tailored to this particular format for our data. The key points of learning are as follows:\n",
    "\n",
    "1. What is a <span style='font-weight:bold; color:blue;'>Data Frame</span>?\n",
    "    - Columns are variables.\n",
    "    - Rows are individual research subjects.\n",
    "    - Each column of a data frame is vector of data.\n",
    "2. Loading a <span style='font-weight:bold; color:blue;'>Data Frame</span>.\n",
    "    - From the internet via URL\n",
    "3. Creating data vectors, often by typing in the contents thereof.\n",
    "\n",
    "We will need to learn to import CSV files as data frames and to manipulate them in various ways."
   ]
  },
  {
   "cell_type": "markdown",
   "id": "e46a3585-52f3-46ed-880d-cf9e23fc0744",
   "metadata": {},
   "source": [
    "```{sidebar}\n",
    "The **head()** function displays a summary of the first rows of a data frame or the first few entries of a vector as shown in the examples.\n",
    "```"
   ]
  },
  {
   "cell_type": "markdown",
   "id": "b58cf147-4487-45d3-b6d2-a81629ed7b24",
   "metadata": {},
   "source": [
    "## Loading a Data Frame\n",
    "\n",
    "Data often get stored in CSV files on the internet. We use the\n",
    "\n",
    "<center><span style='font-weight:bold; color:red;'>read.csv()</span></center>\n",
    "</br>\n",
    "\n",
    "to read the data into R as shown below."
   ]
  },
  {
   "cell_type": "code",
   "execution_count": 1,
   "id": "90ca769e-fb49-437e-b71b-dce403032084",
   "metadata": {},
   "outputs": [
    {
     "data": {
      "text/html": [
       "<table>\n",
       "<thead><tr><th scope=col>Age</th><th scope=col>Yr</th><th scope=col>Sex</th><th scope=col>G21</th><th scope=col>Corps</th><th scope=col>Res</th><th scope=col>Greek</th><th scope=col>VarsAth</th><th scope=col>Honor</th><th scope=col>GPA</th><th scope=col>...</th><th scope=col>Perf</th><th scope=col>OCD</th><th scope=col>Play</th><th scope=col>Extro</th><th scope=col>Narc</th><th scope=col>HSAF</th><th scope=col>HSSE</th><th scope=col>HSAG</th><th scope=col>HSSD</th><th scope=col>PHS</th></tr></thead>\n",
       "<tbody>\n",
       "\t<tr><td>21  </td><td>2   </td><td>M   </td><td>Y   </td><td>Y   </td><td>1   </td><td>N   </td><td>N   </td><td>N   </td><td>3.23</td><td>... </td><td>105 </td><td>10  </td><td>142 </td><td> 8  </td><td>11  </td><td>41  </td><td>40  </td><td>26  </td><td>27  </td><td>SE  </td></tr>\n",
       "\t<tr><td>20  </td><td>3   </td><td>F   </td><td>N   </td><td>N   </td><td>2   </td><td>Y   </td><td>N   </td><td>Y   </td><td>3.95</td><td>... </td><td>105 </td><td> 3  </td><td>172 </td><td>16  </td><td>11  </td><td>46  </td><td>52  </td><td>26  </td><td>33  </td><td>SE  </td></tr>\n",
       "\t<tr><td>22  </td><td>3   </td><td>M   </td><td>Y   </td><td>N   </td><td>2   </td><td>N   </td><td>N   </td><td>N   </td><td>3.06</td><td>... </td><td> 73 </td><td> 1  </td><td>134 </td><td>15  </td><td>11  </td><td>48  </td><td>42  </td><td>44  </td><td>29  </td><td>AG  </td></tr>\n",
       "\t<tr><td>27  </td><td>3   </td><td>F   </td><td>Y   </td><td>N   </td><td>3   </td><td>N   </td><td>N   </td><td>N   </td><td>2.84</td><td>... </td><td> 90 </td><td> 9  </td><td>160 </td><td>16  </td><td>10  </td><td>51  </td><td>51  </td><td>23  </td><td>19  </td><td>SE  </td></tr>\n",
       "\t<tr><td>24  </td><td>3   </td><td>M   </td><td>Y   </td><td>N   </td><td>2   </td><td>N   </td><td>N   </td><td>N   </td><td>2.39</td><td>... </td><td> 95 </td><td> 5  </td><td>166 </td><td>14  </td><td>10  </td><td>56  </td><td>46  </td><td>27  </td><td>20  </td><td>AF  </td></tr>\n",
       "</tbody>\n",
       "</table>\n"
      ],
      "text/latex": [
       "\\begin{tabular}{r|llllllllllllllllllllllllllllllllllll}\n",
       " Age & Yr & Sex & G21 & Corps & Res & Greek & VarsAth & Honor & GPA & ... & Perf & OCD & Play & Extro & Narc & HSAF & HSSE & HSAG & HSSD & PHS\\\\\n",
       "\\hline\n",
       "\t 21   & 2    & M    & Y    & Y    & 1    & N    & N    & N    & 3.23 & ...  & 105  & 10   & 142  &  8   & 11   & 41   & 40   & 26   & 27   & SE  \\\\\n",
       "\t 20   & 3    & F    & N    & N    & 2    & Y    & N    & Y    & 3.95 & ...  & 105  &  3   & 172  & 16   & 11   & 46   & 52   & 26   & 33   & SE  \\\\\n",
       "\t 22   & 3    & M    & Y    & N    & 2    & N    & N    & N    & 3.06 & ...  &  73  &  1   & 134  & 15   & 11   & 48   & 42   & 44   & 29   & AG  \\\\\n",
       "\t 27   & 3    & F    & Y    & N    & 3    & N    & N    & N    & 2.84 & ...  &  90  &  9   & 160  & 16   & 10   & 51   & 51   & 23   & 19   & SE  \\\\\n",
       "\t 24   & 3    & M    & Y    & N    & 2    & N    & N    & N    & 2.39 & ...  &  95  &  5   & 166  & 14   & 10   & 56   & 46   & 27   & 20   & AF  \\\\\n",
       "\\end{tabular}\n"
      ],
      "text/markdown": [
       "\n",
       "| Age | Yr | Sex | G21 | Corps | Res | Greek | VarsAth | Honor | GPA | ... | Perf | OCD | Play | Extro | Narc | HSAF | HSSE | HSAG | HSSD | PHS |\n",
       "|---|---|---|---|---|---|---|---|---|---|---|---|---|---|---|---|---|---|---|---|---|\n",
       "| 21   | 2    | M    | Y    | Y    | 1    | N    | N    | N    | 3.23 | ...  | 105  | 10   | 142  |  8   | 11   | 41   | 40   | 26   | 27   | SE   |\n",
       "| 20   | 3    | F    | N    | N    | 2    | Y    | N    | Y    | 3.95 | ...  | 105  |  3   | 172  | 16   | 11   | 46   | 52   | 26   | 33   | SE   |\n",
       "| 22   | 3    | M    | Y    | N    | 2    | N    | N    | N    | 3.06 | ...  |  73  |  1   | 134  | 15   | 11   | 48   | 42   | 44   | 29   | AG   |\n",
       "| 27   | 3    | F    | Y    | N    | 3    | N    | N    | N    | 2.84 | ...  |  90  |  9   | 160  | 16   | 10   | 51   | 51   | 23   | 19   | SE   |\n",
       "| 24   | 3    | M    | Y    | N    | 2    | N    | N    | N    | 2.39 | ...  |  95  |  5   | 166  | 14   | 10   | 56   | 46   | 27   | 20   | AF   |\n",
       "\n"
      ],
      "text/plain": [
       "  Age Yr Sex G21 Corps Res Greek VarsAth Honor GPA  ... Perf OCD Play Extro\n",
       "1 21  2  M   Y   Y     1   N     N       N     3.23 ... 105  10  142   8   \n",
       "2 20  3  F   N   N     2   Y     N       Y     3.95 ... 105   3  172  16   \n",
       "3 22  3  M   Y   N     2   N     N       N     3.06 ...  73   1  134  15   \n",
       "4 27  3  F   Y   N     3   N     N       N     2.84 ...  90   9  160  16   \n",
       "5 24  3  M   Y   N     2   N     N       N     2.39 ...  95   5  166  14   \n",
       "  Narc HSAF HSSE HSAG HSSD PHS\n",
       "1 11   41   40   26   27   SE \n",
       "2 11   46   52   26   33   SE \n",
       "3 11   48   42   44   29   AG \n",
       "4 10   51   51   23   19   SE \n",
       "5 10   56   46   27   20   AF "
      ]
     },
     "metadata": {},
     "output_type": "display_data"
    }
   ],
   "source": [
    "pers <- read.csv('https://faculty.ung.edu/rsinn/personality.csv')\n",
    "head(pers, 5)"
   ]
  },
  {
   "cell_type": "markdown",
   "id": "8370cbd9-154c-4460-b106-ff87161309a2",
   "metadata": {},
   "source": [
    "To use the function <span style='font-weight:bold; color:teal;'>read.csv()</span> properly, please note the following:\n",
    "- We must use **quotation marks** as well as parentheses to enclose the URL where the CSV file lives.\n",
    "- Either single 'quotes' or double \"quotes\" will work provided the open quote and close quote symbols **match** one another.\n",
    "\n",
    "Please notice the following attributes of this data frame:\n",
    "\n",
    "1. This data frame has many **personality variables** collected from UNG students circa 2012.\n",
    "2. Those variables are columns in the data frame such as **Extroversion** (Extro), **Narcissism** (Narc) and **Perfectionism** (Perf).\n",
    "3. Rows represent individuals. In this example, each row is for a unique student.\n",
    "   - Individuals in a research setting may be mice, houses, cities, mosquitos, trees, plants or rocks.\n",
    "   - Often, human subjects are needed in research settings."
   ]
  },
  {
   "cell_type": "markdown",
   "id": "3637be8d-2afd-47f7-a8f5-62191a9269bc",
   "metadata": {},
   "source": [
    "## Extracting Columns from a Data Frame\n",
    "\n",
    "Because the columns of a data frame are so vital, we often wish to extract a single column from a data frame. We can do so in at least 2 different ways, and these ways will both be used often in this course.\n",
    "1. The dollar sign method.\n",
    "2. The row-column method."
   ]
  },
  {
   "cell_type": "markdown",
   "id": "04654c23-cca5-4802-8686-02202524e0cb",
   "metadata": {},
   "source": [
    "### The Dollar Sign Method\n",
    "\n",
    "Above, we have named our data frame **pers**. Suppose we wish to extract the column with the Naricissism values from the data frame (column 'Narc'). The format is\n",
    "\n",
    "<center><span style='font-weight:bold'>pers$Narc</span></center>\n",
    "</br>\n",
    "\n",
    "where the **dollar sign seperates** the *data frame name* and the *column title*. The first seven entries of the Narcissism column are displayed by the code below."
   ]
  },
  {
   "cell_type": "code",
   "execution_count": 2,
   "id": "91db9825-c2bc-4be2-b0bc-7c728366268c",
   "metadata": {},
   "outputs": [
    {
     "data": {
      "text/html": [
       "<ol class=list-inline>\n",
       "\t<li>11</li>\n",
       "\t<li>11</li>\n",
       "\t<li>11</li>\n",
       "\t<li>10</li>\n",
       "\t<li>10</li>\n",
       "\t<li>9</li>\n",
       "\t<li>9</li>\n",
       "</ol>\n"
      ],
      "text/latex": [
       "\\begin{enumerate*}\n",
       "\\item 11\n",
       "\\item 11\n",
       "\\item 11\n",
       "\\item 10\n",
       "\\item 10\n",
       "\\item 9\n",
       "\\item 9\n",
       "\\end{enumerate*}\n"
      ],
      "text/markdown": [
       "1. 11\n",
       "2. 11\n",
       "3. 11\n",
       "4. 10\n",
       "5. 10\n",
       "6. 9\n",
       "7. 9\n",
       "\n",
       "\n"
      ],
      "text/plain": [
       "[1] 11 11 11 10 10  9  9"
      ]
     },
     "metadata": {},
     "output_type": "display_data"
    }
   ],
   "source": [
    "narc = pers$Narc\n",
    "head(narc,7)"
   ]
  },
  {
   "cell_type": "markdown",
   "id": "7a4c8677-bedf-4df2-b2db-59db2316176c",
   "metadata": {},
   "source": [
    "### The Row-Column Method\n",
    "\n",
    "```{tip}\n",
    "The row-column method is quite flexible and can be used in a quite a few different commands and calculations. We will only describe its basic features here.\n",
    "```\n",
    "We use square brackets after the data frame name to indicate which rows or columns we are interested in. Below, to displays all rows but only column, we leave the **entry before the comma** blank."
   ]
  },
  {
   "cell_type": "code",
   "execution_count": 3,
   "id": "58fff93b-8908-4c35-8068-80744849a703",
   "metadata": {},
   "outputs": [
    {
     "data": {
      "text/html": [
       "<ol class=list-inline>\n",
       "\t<li>11</li>\n",
       "\t<li>11</li>\n",
       "\t<li>11</li>\n",
       "\t<li>10</li>\n",
       "\t<li>10</li>\n",
       "\t<li>9</li>\n",
       "\t<li>9</li>\n",
       "</ol>\n"
      ],
      "text/latex": [
       "\\begin{enumerate*}\n",
       "\\item 11\n",
       "\\item 11\n",
       "\\item 11\n",
       "\\item 10\n",
       "\\item 10\n",
       "\\item 9\n",
       "\\item 9\n",
       "\\end{enumerate*}\n"
      ],
      "text/markdown": [
       "1. 11\n",
       "2. 11\n",
       "3. 11\n",
       "4. 10\n",
       "5. 10\n",
       "6. 9\n",
       "7. 9\n",
       "\n",
       "\n"
      ],
      "text/plain": [
       "[1] 11 11 11 10 10  9  9"
      ]
     },
     "metadata": {},
     "output_type": "display_data"
    }
   ],
   "source": [
    "narc2 <- pers[ , 'Narc']\n",
    "head(narc2,7)"
   ]
  },
  {
   "cell_type": "markdown",
   "id": "3332d620-936e-4952-8a5c-00cc477dfeeb",
   "metadata": {},
   "source": [
    "We can identify the column by title or by its index number. The index number version is shown below."
   ]
  },
  {
   "cell_type": "code",
   "execution_count": 4,
   "id": "570731c7-82ec-498c-a666-cd74091d20f1",
   "metadata": {},
   "outputs": [
    {
     "data": {
      "text/html": [
       "<ol class=list-inline>\n",
       "\t<li>11</li>\n",
       "\t<li>11</li>\n",
       "\t<li>11</li>\n",
       "\t<li>10</li>\n",
       "\t<li>10</li>\n",
       "\t<li>9</li>\n",
       "\t<li>9</li>\n",
       "</ol>\n"
      ],
      "text/latex": [
       "\\begin{enumerate*}\n",
       "\\item 11\n",
       "\\item 11\n",
       "\\item 11\n",
       "\\item 10\n",
       "\\item 10\n",
       "\\item 9\n",
       "\\item 9\n",
       "\\end{enumerate*}\n"
      ],
      "text/markdown": [
       "1. 11\n",
       "2. 11\n",
       "3. 11\n",
       "4. 10\n",
       "5. 10\n",
       "6. 9\n",
       "7. 9\n",
       "\n",
       "\n"
      ],
      "text/plain": [
       "[1] 11 11 11 10 10  9  9"
      ]
     },
     "metadata": {},
     "output_type": "display_data"
    }
   ],
   "source": [
    "narc3 <- pers[ , 31]\n",
    "head(narc3,7)"
   ]
  },
  {
   "cell_type": "markdown",
   "id": "d98678b2-e0a0-4834-8e9a-b8ba26b5c661",
   "metadata": {},
   "source": [
    "We can also extract multiple columns at once using the concatentate function **c()** as shown below."
   ]
  },
  {
   "cell_type": "code",
   "execution_count": 5,
   "id": "ddebfe8b-7003-44e8-a618-b23545a52c70",
   "metadata": {},
   "outputs": [
    {
     "data": {
      "text/html": [
       "<table>\n",
       "<thead><tr><th scope=col>Narc</th><th scope=col>Sex</th></tr></thead>\n",
       "<tbody>\n",
       "\t<tr><td>11</td><td>M </td></tr>\n",
       "\t<tr><td>11</td><td>F </td></tr>\n",
       "\t<tr><td>11</td><td>M </td></tr>\n",
       "\t<tr><td>10</td><td>F </td></tr>\n",
       "\t<tr><td>10</td><td>M </td></tr>\n",
       "\t<tr><td> 9</td><td>F </td></tr>\n",
       "\t<tr><td> 9</td><td>M </td></tr>\n",
       "</tbody>\n",
       "</table>\n"
      ],
      "text/latex": [
       "\\begin{tabular}{r|ll}\n",
       " Narc & Sex\\\\\n",
       "\\hline\n",
       "\t 11 & M \\\\\n",
       "\t 11 & F \\\\\n",
       "\t 11 & M \\\\\n",
       "\t 10 & F \\\\\n",
       "\t 10 & M \\\\\n",
       "\t  9 & F \\\\\n",
       "\t  9 & M \\\\\n",
       "\\end{tabular}\n"
      ],
      "text/markdown": [
       "\n",
       "| Narc | Sex |\n",
       "|---|---|\n",
       "| 11 | M  |\n",
       "| 11 | F  |\n",
       "| 11 | M  |\n",
       "| 10 | F  |\n",
       "| 10 | M  |\n",
       "|  9 | F  |\n",
       "|  9 | M  |\n",
       "\n"
      ],
      "text/plain": [
       "  Narc Sex\n",
       "1 11   M  \n",
       "2 11   F  \n",
       "3 11   M  \n",
       "4 10   F  \n",
       "5 10   M  \n",
       "6  9   F  \n",
       "7  9   M  "
      ]
     },
     "metadata": {},
     "output_type": "display_data"
    }
   ],
   "source": [
    "narc4 <- pers[ , c('Narc','Sex')]\n",
    "head(narc4,7)"
   ]
  },
  {
   "cell_type": "code",
   "execution_count": null,
   "id": "ce853f9b-7558-4866-a125-3d11457a63f9",
   "metadata": {},
   "outputs": [],
   "source": []
  }
 ],
 "metadata": {
  "kernelspec": {
   "display_name": "R",
   "language": "R",
   "name": "ir"
  },
  "language_info": {
   "codemirror_mode": "r",
   "file_extension": ".r",
   "mimetype": "text/x-r-source",
   "name": "R",
   "pygments_lexer": "r",
   "version": "3.6.1"
  }
 },
 "nbformat": 4,
 "nbformat_minor": 5
}