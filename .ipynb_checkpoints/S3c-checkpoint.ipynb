{
 "cells": [
  {
   "cell_type": "markdown",
   "id": "8290d04d-fb31-4224-b584-0b305767e5f7",
   "metadata": {},
   "source": [
    "# $\\chi^2$ Test of Independence\n",
    "\n",
    "Just as ANOVA is the straightforward extension of $t$ procedures into the cases where we have more than 2 samples of numeric data, $\\chi^2$ methods are the mathematical extension of $z$-proportion procedures for categorical data."
   ]
  },
  {
   "cell_type": "markdown",
   "id": "2b51c8cb-9cbd-4f89-878d-82b40c9ffa76",
   "metadata": {},
   "source": [
    "## Example\n",
    "\n",
    "The table below shows a breakdown at a certain university of the number of students still undecided about their majors compared to the number who chosen a major already."
   ]
  },
  {
   "cell_type": "markdown",
   "id": "07afd179-ed7f-4996-b411-149c9e3d920c",
   "metadata": {},
   "source": [
    "<table style=\"width:60%\">\n",
    "<tr>\n",
    "  <th></th>\n",
    "  <th>Freshman</th>\n",
    "  <th>Sophomore</th>\n",
    "  <th>Junior</th>\n",
    "</tr>\n",
    "<tr>\n",
    "  <th>Have Chosen a Major</th>\n",
    "  <td style=\"text-align: center;\">114</td>\n",
    "  <td style=\"text-align: center;\">168</td>\n",
    "  <td style=\"text-align: center;\">198</td>\n",
    "</tr>\n",
    "<tr>\n",
    "    <th>Have <b>not</b> Chosen a Major</th> \n",
    "  <td style=\"text-align: center;\">212</td>\n",
    "  <td style=\"text-align: center;\">171</td>\n",
    "  <td style=\"text-align: center;\">92</td>\n",
    "  </tr>\n",
    "</table>"
   ]
  },
  {
   "cell_type": "markdown",
   "id": "9e092df2-0718-4799-9d9b-5c220937f8b9",
   "metadata": {},
   "source": [
    "We create the observed data below:"
   ]
  },
  {
   "cell_type": "code",
   "execution_count": 16,
   "id": "c4007310-3e00-4e01-9b3c-0136932ad6da",
   "metadata": {},
   "outputs": [
    {
     "data": {
      "text/html": [
       "<table>\n",
       "<tbody>\n",
       "\t<tr><td>114</td><td>168</td><td>198</td></tr>\n",
       "\t<tr><td>212</td><td>171</td><td> 92</td></tr>\n",
       "</tbody>\n",
       "</table>\n"
      ],
      "text/latex": [
       "\\begin{tabular}{lll}\n",
       "\t 114 & 168 & 198\\\\\n",
       "\t 212 & 171 &  92\\\\\n",
       "\\end{tabular}\n"
      ],
      "text/markdown": [
       "\n",
       "| 114 | 168 | 198 |\n",
       "| 212 | 171 |  92 |\n",
       "\n"
      ],
      "text/plain": [
       "     [,1] [,2] [,3]\n",
       "[1,] 114  168  198 \n",
       "[2,] 212  171   92 "
      ]
     },
     "metadata": {},
     "output_type": "display_data"
    }
   ],
   "source": [
    "obs <- matrix(c(114,212,168,171,198,92),ncol=3)\n",
    "obs"
   ]
  },
  {
   "cell_type": "markdown",
   "id": "2fe4b6d1-4f70-4fd8-8e85-c8060af69745",
   "metadata": {},
   "source": [
    "We add column titles and row titles as follows:"
   ]
  },
  {
   "cell_type": "code",
   "execution_count": 17,
   "id": "fed6f4de-2943-4fc0-9fc3-69cd6514a2bd",
   "metadata": {},
   "outputs": [
    {
     "data": {
      "text/html": [
       "<table>\n",
       "<thead><tr><th></th><th scope=col>Freshmen</th><th scope=col>Sophomore</th><th scope=col>Junior</th></tr></thead>\n",
       "<tbody>\n",
       "\t<tr><th scope=row>Have Chosen</th><td>114</td><td>168</td><td>198</td></tr>\n",
       "\t<tr><th scope=row>Have NOT Chosen</th><td>212</td><td>171</td><td> 92</td></tr>\n",
       "</tbody>\n",
       "</table>\n"
      ],
      "text/latex": [
       "\\begin{tabular}{r|lll}\n",
       "  & Freshmen & Sophomore & Junior\\\\\n",
       "\\hline\n",
       "\tHave Chosen & 114 & 168 & 198\\\\\n",
       "\tHave NOT Chosen & 212 & 171 &  92\\\\\n",
       "\\end{tabular}\n"
      ],
      "text/markdown": [
       "\n",
       "| <!--/--> | Freshmen | Sophomore | Junior |\n",
       "|---|---|---|---|\n",
       "| Have Chosen | 114 | 168 | 198 |\n",
       "| Have NOT Chosen | 212 | 171 |  92 |\n",
       "\n"
      ],
      "text/plain": [
       "                Freshmen Sophomore Junior\n",
       "Have Chosen     114      168       198   \n",
       "Have NOT Chosen 212      171        92   "
      ]
     },
     "metadata": {},
     "output_type": "display_data"
    }
   ],
   "source": [
    "colnames(obs) <- c('Freshmen', 'Sophomore', 'Junior')\n",
    "rownames(obs) <- c('Have Chosen', 'Have NOT Chosen')\n",
    "obs"
   ]
  },
  {
   "cell_type": "markdown",
   "id": "3323d371-1c2f-41f0-8d83-3fcdebab3e52",
   "metadata": {},
   "source": [
    "### Conduct the Test"
   ]
  },
  {
   "cell_type": "code",
   "execution_count": 18,
   "id": "6a6d89a9-2dd8-4004-8eff-cb1d75b5846b",
   "metadata": {},
   "outputs": [
    {
     "data": {
      "text/plain": [
       "\n",
       "\tPearson's Chi-squared test\n",
       "\n",
       "data:  obs\n",
       "X-squared = 68.207, df = 2, p-value = 1.545e-15\n"
      ]
     },
     "metadata": {},
     "output_type": "display_data"
    }
   ],
   "source": [
    "chisq.test(obs)"
   ]
  },
  {
   "cell_type": "markdown",
   "id": "2e2d110c-48ff-415f-a51e-07d049b2520c",
   "metadata": {},
   "source": [
    "### Reporting Out\n",
    "\n",
    "Because $p = 1.545\\times 10^{-15} < 0.05 \\alpha$, we reject the null. We thus have evidence that the percentage of students who have chosen their majors already depends upon which year in school they are."
   ]
  },
  {
   "cell_type": "code",
   "execution_count": null,
   "id": "242d32db-6897-4400-b14b-d64bf05172a2",
   "metadata": {},
   "outputs": [],
   "source": []
  }
 ],
 "metadata": {
  "kernelspec": {
   "display_name": "R",
   "language": "R",
   "name": "ir"
  },
  "language_info": {
   "codemirror_mode": "r",
   "file_extension": ".r",
   "mimetype": "text/x-r-source",
   "name": "R",
   "pygments_lexer": "r",
   "version": "3.6.1"
  }
 },
 "nbformat": 4,
 "nbformat_minor": 5
}
