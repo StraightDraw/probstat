{
 "cells": [
  {
   "cell_type": "markdown",
   "id": "a3428d5d-44f2-4a52-8ed5-041ac9c2fad6",
   "metadata": {},
   "source": [
    "# $t$-Tests\n",
    "\n",
    "We begin our investigation of **statistical hypothesis testing** by looking at the $t$-tests. Though mathematicians had long understood many of the properties of the *normal distribution* and how it might be used for data analysis, the $z$-test based upon it generated a brittle statistic that required large sample sizes."
   ]
  },
  {
   "cell_type": "markdown",
   "id": "cbbed018-621b-472d-9b08-211624979218",
   "metadata": {},
   "source": [
    "```{sidebar}\n",
    "Statistics are graded on a scale from **brittle** (easily broken) to **robust**. The $p$-values based upon a brittle statistic have less accuracy when the assumptions of the test are violated. A robust statistic retains its accuracy even when facing some violations of the assumpitons.\n",
    "```"
   ]
  },
  {
   "cell_type": "markdown",
   "id": "ec840896-e2b3-4247-8fd9-9d84c7d72d6b",
   "metadata": {},
   "source": [
    "The $t$-tests generate a robust statistics appropriate for use with much smaller sample sizes than the original $z$-tests based upon the normal distribution."
   ]
  },
  {
   "cell_type": "markdown",
   "id": "b1c84829-7fc6-4505-8ee3-41b18717e3d9",
   "metadata": {},
   "source": [
    "## Assumptions\n",
    "\n",
    "The assumptions of the $t$-test and similar procedures are:\n",
    "\n",
    "- Normality\n",
    "- Independence\n",
    "- Homogeneity of the Variances\n",
    "\n",
    "The **normality** assumption requires that the sample data were drawn from a normal (bell-shaped) distribution. The **independence** assumption asserts that each data point collected was independent of all other data. In other words, if the participants were human beings, they were not allowed to colloborate with, speak to or copy from another research participant. **Homogeneity of the variances** asserts that the standard deviations of all research samples are equal.\n",
    "\n",
    "Checking the assumptions can only be accomplished in the cases of *normality* and *homogeneity of the variances*. Independence is a research condition requiring exacting data collection standards."
   ]
  },
  {
   "cell_type": "markdown",
   "id": "c4996400-a6d7-4b0c-8157-5066c0172f3b",
   "metadata": {},
   "source": [
    "### Normality\n",
    "\n",
    "We can check the normality assumption by assessing a QQ plot and a density plot. The QQ plot should be roughly linear if the sample data are approximately normally distributed. The density plot will show a bell-shaped distribution if the sample data are approximately normally distributed. The density plot doesn't have to be perfectly bell-shaped nor perfectly symmetric. Some minor anomalies can exist in the density plot as long as an overall shape is approximately bell-shaped."
   ]
  },
  {
   "cell_type": "markdown",
   "id": "7e6dd588-58b7-4d4f-8668-a9baf9714896",
   "metadata": {},
   "source": [
    "### Homogeneity of the Variances\n",
    "\n",
    "The vital modernaization that the $t$-tests have brought to statistics is that the homogeneity of the variances assumption can be violated, at least to some degree, yet the test still retains its accuracy. We will conduct Welch's $t$-test which is the modern variant that focuses upon unequal standard deviations. Still, we need to avoid **sharply unequal** sample sizes which accentuate the impact of unequal standard deviations. Hence, in this course, we require the ratio of the sample sizes to be no more unequal than $2:1$."
   ]
  },
  {
   "cell_type": "markdown",
   "id": "62fd6c95-0fe5-4a63-a842-b54b9c2cc90e",
   "metadata": {},
   "source": [
    "## Hypothesis Testing\n",
    "\n",
    "In statistics, hypothesis testing is an umbrella terms covering more than a dozen different statistical tests and procedures. The steps to conducting a hypothesis test are, generally speaking, as follows:\n",
    "\n",
    "1. Identify a population parameter and state null and alternative hypotheses about that parameter.\n",
    "2. Create a model consistent with the **null hypothesis**.\n",
    "3. Use the model to determine a **$p$-value** (the probability that results as extreme as those we observed would occur by random chance IF the null hypothesis were true).\n",
    "4. Based on the p-value, decide whether to **reject the null hypothesis** in favor of the alternative.\n",
    "5. Draw a conclusion in the context of the scenario given."
   ]
  },
  {
   "cell_type": "markdown",
   "id": "8626a790-948c-4899-8435-7f00cc40b695",
   "metadata": {},
   "source": [
    "## Types of $t$-Tests\n",
    "\n",
    "There are three different types of $t$-tests:\n",
    "\n",
    "1. 1-Sample $t$-Test\n",
    "2. Independent Samples $t$-Test\n",
    "3. Matched Pairs $t$-Test"
   ]
  },
  {
   "cell_type": "markdown",
   "id": "ffc1f32b-fd16-4788-b47a-3cb8f708b98e",
   "metadata": {},
   "source": [
    "The **independent samples** test compares and constrasts the means between two research samples as in a *treament vs. control* design. The test also can be used for 2-way demographic comparisons such as, for example, comparing young adults (age 25 - 40) to seniors (age 55 - 75) on a measure of high blood pressure.\n",
    "\n",
    "The **matched pairs** test compares and constrasts the means between two matched research samples as in a *pretest vs posttest* design. The matching can occur in studies of twins to determine whether or not genetics factor into a certain ailment. The matching can occur in reaction-time studies where dominant hand reactions are compared to non-dominant hand reactions.\n",
    "\n",
    "The **1-sample** test compares the research sample mean to a population mean. For example, a soft drink bottling company has a machine that can fill thousands of 12 oz. cans of soda each hour. To test it, the company could collect 25 different cans from different batches and find the average number of ounces in the cans. The population mean is clearly 12 oz. The compnay is hoping not to reject the null which would indicate the cans are being filled to some different value, not the 12 oz."
   ]
  },
  {
   "cell_type": "code",
   "execution_count": null,
   "id": "9837d77c-04f2-42e6-9293-78f4371938a6",
   "metadata": {},
   "outputs": [],
   "source": []
  }
 ],
 "metadata": {
  "kernelspec": {
   "display_name": "R",
   "language": "R",
   "name": "ir"
  },
  "language_info": {
   "codemirror_mode": "r",
   "file_extension": ".r",
   "mimetype": "text/x-r-source",
   "name": "R",
   "pygments_lexer": "r",
   "version": "3.6.1"
  }
 },
 "nbformat": 4,
 "nbformat_minor": 5
}
