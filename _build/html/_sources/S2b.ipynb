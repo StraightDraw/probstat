{
 "cells": [
  {
   "cell_type": "markdown",
   "id": "dda6d2d3-593f-499b-9a3d-da6a45101032",
   "metadata": {},
   "source": [
    "# Sampling the Hypergeometric Distribution"
   ]
  },
  {
   "cell_type": "markdown",
   "id": "cfe5d9e4-8cd4-4ad7-b249-ca7f2e302f77",
   "metadata": {},
   "source": [
    "We will use the deck of cards data frame that was [shown in the appendix](https://straightdraw.github.io/probstat/A2c.html)."
   ]
  },
  {
   "cell_type": "code",
   "execution_count": 2,
   "id": "3c76eb4f-8684-433b-bf80-6a636db6a8d9",
   "metadata": {
    "editable": true,
    "slideshow": {
     "slide_type": ""
    },
    "tags": [
     "hide-input"
    ]
   },
   "outputs": [
    {
     "data": {
      "text/html": [
       "<table>\n",
       "<thead><tr><th scope=col>v</th><th scope=col>suits</th></tr></thead>\n",
       "<tbody>\n",
       "\t<tr><td>2</td><td>S</td></tr>\n",
       "\t<tr><td>3</td><td>S</td></tr>\n",
       "\t<tr><td>4</td><td>S</td></tr>\n",
       "\t<tr><td>5</td><td>S</td></tr>\n",
       "\t<tr><td>6</td><td>S</td></tr>\n",
       "</tbody>\n",
       "</table>\n"
      ],
      "text/latex": [
       "\\begin{tabular}{r|ll}\n",
       " v & suits\\\\\n",
       "\\hline\n",
       "\t 2 & S\\\\\n",
       "\t 3 & S\\\\\n",
       "\t 4 & S\\\\\n",
       "\t 5 & S\\\\\n",
       "\t 6 & S\\\\\n",
       "\\end{tabular}\n"
      ],
      "text/markdown": [
       "\n",
       "| v | suits |\n",
       "|---|---|\n",
       "| 2 | S |\n",
       "| 3 | S |\n",
       "| 4 | S |\n",
       "| 5 | S |\n",
       "| 6 | S |\n",
       "\n"
      ],
      "text/plain": [
       "  v suits\n",
       "1 2 S    \n",
       "2 3 S    \n",
       "3 4 S    \n",
       "4 5 S    \n",
       "5 6 S    "
      ]
     },
     "metadata": {},
     "output_type": "display_data"
    }
   ],
   "source": [
    "values <- rep(2:14,4)\n",
    "suits <- c(rep('S',13), rep('H',13), rep('D',13), rep('C',13))\n",
    "deck_df <- data.frame(v = values, suits = factor(suits))\n",
    "head(deck_df,5)"
   ]
  },
  {
   "cell_type": "markdown",
   "id": "18c2a72f-f438-4959-9b5f-8efdcafd2588",
   "metadata": {
    "editable": true,
    "slideshow": {
     "slide_type": ""
    },
    "tags": []
   },
   "source": [
    "As was shown at the link above, we can draw a hand and account only for the suits of the cards drawn using the function **sample()**. To illustrate below, we will draw five cards at random from a standard deck of playing cards and store them in the variable *hand*. We will also show how to count the number of spades that are in the hand."
   ]
  },
  {
   "cell_type": "code",
   "execution_count": 3,
   "id": "95c59a1e-5819-4b2c-917e-4455d176fb20",
   "metadata": {
    "editable": true,
    "slideshow": {
     "slide_type": ""
    },
    "tags": []
   },
   "outputs": [
    {
     "name": "stdout",
     "output_type": "stream",
     "text": [
      "In this hand, the number of\n",
      "   spades =  1"
     ]
    },
    {
     "data": {
      "text/html": [
       "<ol class=list-inline>\n",
       "\t<li>S</li>\n",
       "\t<li>C</li>\n",
       "\t<li>H</li>\n",
       "\t<li>H</li>\n",
       "\t<li>H</li>\n",
       "</ol>\n",
       "\n",
       "<details>\n",
       "\t<summary style=display:list-item;cursor:pointer>\n",
       "\t\t<strong>Levels</strong>:\n",
       "\t</summary>\n",
       "\t<ol class=list-inline>\n",
       "\t\t<li>'C'</li>\n",
       "\t\t<li>'D'</li>\n",
       "\t\t<li>'H'</li>\n",
       "\t\t<li>'S'</li>\n",
       "\t</ol>\n",
       "</details>"
      ],
      "text/latex": [
       "\\begin{enumerate*}\n",
       "\\item S\n",
       "\\item C\n",
       "\\item H\n",
       "\\item H\n",
       "\\item H\n",
       "\\end{enumerate*}\n",
       "\n",
       "\\emph{Levels}: \\begin{enumerate*}\n",
       "\\item 'C'\n",
       "\\item 'D'\n",
       "\\item 'H'\n",
       "\\item 'S'\n",
       "\\end{enumerate*}\n"
      ],
      "text/markdown": [
       "1. S\n",
       "2. C\n",
       "3. H\n",
       "4. H\n",
       "5. H\n",
       "\n",
       "\n",
       "\n",
       "**Levels**: 1. 'C'\n",
       "2. 'D'\n",
       "3. 'H'\n",
       "4. 'S'\n",
       "\n",
       "\n"
      ],
      "text/plain": [
       "[1] S C H H H\n",
       "Levels: C D H S"
      ]
     },
     "metadata": {},
     "output_type": "display_data"
    }
   ],
   "source": [
    "hand <- sample(deck_df$suits, 5)\n",
    "cat('In this hand, the number of\\n   spades = ', sum( hand  == 'S' ))\n",
    "hand"
   ]
  },
  {
   "cell_type": "markdown",
   "id": "38fb526b-d55a-41ad-ba1f-af02948678c6",
   "metadata": {
    "editable": true,
    "slideshow": {
     "slide_type": ""
    },
    "tags": []
   },
   "source": [
    "## Example: Number of Spades Drawn into a Spades Hand\n",
    "\n",
    "Spades are the permanent trump suit in the game of Spades. In a game of Spades with four players, each player is dealt a 13-card hand. Let's deal a hand and count the number of spades in it."
   ]
  },
  {
   "cell_type": "code",
   "execution_count": 5,
   "id": "871db9f1-3510-4baa-8bf5-33ef505ebb63",
   "metadata": {
    "editable": true,
    "slideshow": {
     "slide_type": ""
    },
    "tags": []
   },
   "outputs": [
    {
     "name": "stdout",
     "output_type": "stream",
     "text": [
      "In this hand, the number of\n",
      "   spades =  4"
     ]
    }
   ],
   "source": [
    "hand <- sample(deck_df$suits, 13)\n",
    "cat('In this hand, the number of\\n   spades = ', sum( hand  == 'S' ))"
   ]
  },
  {
   "cell_type": "markdown",
   "id": "64c9c38c-de73-4bac-957e-001172b45431",
   "metadata": {
    "editable": true,
    "slideshow": {
     "slide_type": ""
    },
    "tags": []
   },
   "source": [
    "### The CLT and Law of Large Numbers\n",
    "\n",
    "Our sample size is fixed at $k=13$ for drawing a spades hand. Thus, the CLT will have no room to improve the estimate. However, using the Law of Large numbers, we can draw thousands (or millions) of hands.\n",
    "\n",
    "#### Expected Value of the Hypergeometric Distribution\n",
    "\n",
    "In a collection of $N$ objects $K$ of which are considered successes, the probability of $k$ successful draws out of $n$ total draws is given by hypergeometric distribution, we have the following pdf:\n",
    "\n",
    "$$P(k) = \\frac{\\binom{K}{k}\\binom{N-K}{n-k}}{\\binom{N}{n}}$$\n",
    "\n",
    "The expected value of this distribution is given by:\n",
    "\n",
    "$$E(X) = n\\frac{K}{N}$$\n",
    "\n",
    "#### Theoretical Expected Value for our Example\n",
    "\n",
    "For the card game Spades, $N=52, K=13, n = 13$ and $k$ varies between 0 and 13 inclusive. Thus, for Spades:\n",
    "\n",
    "$$E(X) = 13\\left(\\frac{13}{52}\\right) = \\frac{13}{4} = 3.25$$"
   ]
  },
  {
   "cell_type": "markdown",
   "id": "288eed6a-79f7-4f9c-a6cb-ee115535d8b0",
   "metadata": {
    "editable": true,
    "slideshow": {
     "slide_type": ""
    },
    "tags": []
   },
   "source": [
    "### Distribution for Number of Spades in a Hand\n",
    "\n",
    "Using the **for loop** created the previous section of these notes, we can copy-paste and tweak as needed."
   ]
  },
  {
   "cell_type": "code",
   "execution_count": 6,
   "id": "e8e2dab5-8940-40e9-b713-bfd1ec32f3f0",
   "metadata": {
    "editable": true,
    "slideshow": {
     "slide_type": ""
    },
    "tags": []
   },
   "outputs": [
    {
     "name": "stdout",
     "output_type": "stream",
     "text": [
      "The grand mean of the simulated distribution is equal to\n",
      "    3.252"
     ]
    },
    {
     "data": {
      "image/png": "[encoded data removed]",
      "text/plain": [
       "Plot with title \"Histogram of Spades: Hands Drawn = 1,000\""
      ]
     },
     "metadata": {},
     "output_type": "display_data"
    }
   ],
   "source": [
    "num_success <- c()     # create a vector to store the number of successes for each sample drawn\n",
    "num_samps = 1000       # set the number of samples to be drawn\n",
    "\n",
    "for (i in 1:num_samps){\n",
    "    hand <- sample(deck_df$suits, 13)     # draw 13 cards, count number of Spades\n",
    "    num_success[i] <- sum( hand  == 'S' )     # count and store the number of Spades from this trial\n",
    "}\n",
    "\n",
    "lower <- quantile(num_success, prob = 0.05)     # Calcuate the 5th percentile.\n",
    "upper <- quantile(num_success, prob = 0.95)     # Calcuate the 95th percentile.\n",
    "cat('The grand mean of the simulated distribution is equal to\\n   ',mean(num_success) )\n",
    "hist(num_success, breaks = 8, main = 'Histogram of Spades: Hands Drawn = 1,000', xlab = 'Number of Spades')\n",
    "abline( v = lower, col=\"blue\")     # Add vertical line at 5th percentile\n",
    "abline(v = upper, col=\"blue\")      # Add vertical line at 95th percentile "
   ]
  },
  {
   "cell_type": "markdown",
   "id": "bc493ead-976f-4b40-ac56-1576164f109b",
   "metadata": {
    "editable": true,
    "slideshow": {
     "slide_type": ""
    },
    "tags": []
   },
   "source": [
    "### Collecting the Results\n",
    "\n",
    "I will create a table here that gathers the results from sampling distribution with sample size 13 (fixed by problem scenario) and with increasing number of samples drawn.\n",
    "\n",
    "<table class=\"center\" style=\"width:65%; text-align:center;\">\n",
    "  <tr>\n",
    "    <th>Hands Drawn</th>\n",
    "    <th>E(X)</th>\n",
    "    <th>Simulation Grand Mean</th>\n",
    "  </tr>\n",
    "  <tr>\n",
    "    <td>1,000</td>\n",
    "    <td>3.25</td>\n",
    "    <td>3.252</td>\n",
    "  </tr>\n",
    "  <tr>\n",
    "    <td>2,000</td>\n",
    "    <td>3.25</td>\n",
    "    <td>3.2325</td>\n",
    "  </tr>\n",
    "  <tr>\n",
    "    <td>5,000</td>\n",
    "    <td>3.25</td>\n",
    "    <td>3.2394</td>\n",
    "  </tr>\n",
    "  <tr>\n",
    "    <td>10,000</td>\n",
    "    <td>3.25</td>\n",
    "    <td>3.2527</td>\n",
    "  </tr>\n",
    "  <tr>\n",
    "    <td>50,000</td>\n",
    "    <td>3.25</td>\n",
    "    <td>3.24732</td>\n",
    "  </tr>\n",
    "    <td>100,000</td>\n",
    "    <td>3.25</td>\n",
    "    <td>3.23414</td>\n",
    "</table>"
   ]
  },
  {
   "cell_type": "code",
   "execution_count": 7,
   "id": "0872617a-60e9-4df6-8a07-134e56384c35",
   "metadata": {
    "editable": true,
    "slideshow": {
     "slide_type": ""
    },
    "tags": []
   },
   "outputs": [
    {
     "name": "stdout",
     "output_type": "stream",
     "text": [
      "The grand mean of the simulated distribution is equal to\n",
      "    3.2325"
     ]
    },
    {
     "data": {
      "image/png": "[encoded data removed]",
      "text/plain": [
       "Plot with title \"Histogram of Spades: Hands Drawn = 2,000\""
      ]
     },
     "metadata": {},
     "output_type": "display_data"
    }
   ],
   "source": [
    "num_success <- c()     # create a vector to store the number of successes for each sample drawn\n",
    "num_samps = 2000       # set the number of samples to be drawn\n",
    "\n",
    "for (i in 1:num_samps){\n",
    "    hand <- sample(deck_df$suits, 13)     # draw 13 cards, count number of Spades\n",
    "    num_success[i] <- sum( hand  == 'S' )     # count and store the number of Spades from this trial\n",
    "}\n",
    "\n",
    "lower <- quantile(num_success, prob = 0.05)     # Calcuate the 5th percentile.\n",
    "upper <- quantile(num_success, prob = 0.95)     # Calcuate the 95th percentile.\n",
    "cat('The grand mean of the simulated distribution is equal to\\n   ',mean(num_success) )\n",
    "hist(num_success, breaks = 8, main = 'Histogram of Spades: Hands Drawn = 2,000', xlab = 'Number of Spades')\n",
    "abline( v = lower, col=\"blue\")     # Add vertical line at 5th percentile\n",
    "abline(v = upper, col=\"blue\")      # Add vertical line at 95th percentile "
   ]
  },
  {
   "cell_type": "code",
   "execution_count": 8,
   "id": "c8736a7e-366c-4e6c-b4f0-78fc15c3ec93",
   "metadata": {
    "editable": true,
    "slideshow": {
     "slide_type": ""
    },
    "tags": []
   },
   "outputs": [
    {
     "name": "stdout",
     "output_type": "stream",
     "text": [
      "The grand mean of the simulated distribution is equal to\n",
      "    3.2394"
     ]
    },
    {
     "data": {
      "image/png": "[encoded data removed]",
      "text/plain": [
       "Plot with title \"Histogram of Spades: Hands Drawn = 5,000\""
      ]
     },
     "metadata": {},
     "output_type": "display_data"
    }
   ],
   "source": [
    "num_success <- c()     # create a vector to store the number of successes for each sample drawn\n",
    "num_samps = 5000       # set the number of samples to be drawn\n",
    "\n",
    "for (i in 1:num_samps){\n",
    "    hand <- sample(deck_df$suits, 13)     # draw 13 cards, count number of Spades\n",
    "    num_success[i] <- sum( hand  == 'S' )     # count and store the number of Spades from this trial\n",
    "}\n",
    "\n",
    "lower <- quantile(num_success, prob = 0.05)     # Calcuate the 5th percentile.\n",
    "upper <- quantile(num_success, prob = 0.95)     # Calcuate the 95th percentile.\n",
    "cat('The grand mean of the simulated distribution is equal to\\n   ',mean(num_success) )\n",
    "hist(num_success, breaks = 8, main = 'Histogram of Spades: Hands Drawn = 5,000', xlab = 'Number of Spades')\n",
    "abline( v = lower, col=\"blue\")     # Add vertical line at 5th percentile\n",
    "abline(v = upper, col=\"blue\")      # Add vertical line at 95th percentile "
   ]
  },
  {
   "cell_type": "code",
   "execution_count": 11,
   "id": "d15b71af-3829-44d0-8344-3e10ee4e56cd",
   "metadata": {
    "editable": true,
    "slideshow": {
     "slide_type": ""
    },
    "tags": []
   },
   "outputs": [
    {
     "name": "stdout",
     "output_type": "stream",
     "text": [
      "The grand mean of the simulated distribution is equal to\n",
      "    3.2527"
     ]
    },
    {
     "data": {
      "image/png": "[encoded data removed]",
      "text/plain": [
       "Plot with title \"Histogram of Spades: Hands Drawn = 10,000\""
      ]
     },
     "metadata": {},
     "output_type": "display_data"
    }
   ],
   "source": [
    "num_success <- c()     # create a vector to store the number of successes for each sample drawn\n",
    "num_samps = 10000       # set the number of samples to be drawn\n",
    "\n",
    "for (i in 1:num_samps){\n",
    "    hand <- sample(deck_df$suits, 13)     # draw 13 cards, count number of Spades\n",
    "    num_success[i] <- sum( hand  == 'S' )     # count and store the number of Spades from this trial\n",
    "}\n",
    "\n",
    "lower <- quantile(num_success, prob = 0.05)     # Calcuate the 5th percentile.\n",
    "upper <- quantile(num_success, prob = 0.95)     # Calcuate the 95th percentile.\n",
    "cat('The grand mean of the simulated distribution is equal to\\n   ',mean(num_success) )\n",
    "hist(num_success, breaks = 8, main = 'Histogram of Spades: Hands Drawn = 10,000', xlab = 'Number of Spades')\n",
    "abline( v = lower, col=\"blue\")     # Add vertical line at 5th percentile\n",
    "abline(v = upper, col=\"blue\")      # Add vertical line at 95th percentile "
   ]
  },
  {
   "cell_type": "code",
   "execution_count": 12,
   "id": "0ad3acc6-68b2-43fc-8789-5facaa4b65c7",
   "metadata": {
    "editable": true,
    "slideshow": {
     "slide_type": ""
    },
    "tags": []
   },
   "outputs": [
    {
     "name": "stdout",
     "output_type": "stream",
     "text": [
      "The grand mean of the simulated distribution is equal to\n",
      "    3.24732"
     ]
    },
    {
     "data": {
      "image/png": "[encoded data removed]",
      "text/plain": [
       "Plot with title \"Histogram of Spades: Hands Drawn = 50,000\""
      ]
     },
     "metadata": {},
     "output_type": "display_data"
    }
   ],
   "source": [
    "num_success <- c()     # create a vector to store the number of successes for each sample drawn\n",
    "num_samps = 50000       # set the number of samples to be drawn\n",
    "\n",
    "for (i in 1:num_samps){\n",
    "    hand <- sample(deck_df$suits, 13)     # draw 13 cards, count number of Spades\n",
    "    num_success[i] <- sum( hand  == 'S' )     # count and store the number of Spades from this trial\n",
    "}\n",
    "\n",
    "lower <- quantile(num_success, prob = 0.05)     # Calcuate the 5th percentile.\n",
    "upper <- quantile(num_success, prob = 0.95)     # Calcuate the 95th percentile.\n",
    "cat('The grand mean of the simulated distribution is equal to\\n   ',mean(num_success) )\n",
    "hist(num_success, breaks = 12, main = 'Histogram of Spades: Hands Drawn = 50,000', xlab = 'Number of Spades')\n",
    "abline( v = lower, col=\"blue\")     # Add vertical line at 5th percentile\n",
    "abline(v = upper, col=\"blue\")      # Add vertical line at 95th percentile "
   ]
  },
  {
   "cell_type": "code",
   "execution_count": 15,
   "id": "a1c549c8-9bf9-46d9-a3cd-cdaed11819a8",
   "metadata": {
    "editable": true,
    "slideshow": {
     "slide_type": ""
    },
    "tags": []
   },
   "outputs": [
    {
     "name": "stdout",
     "output_type": "stream",
     "text": [
      "The grand mean of the simulated distribution is equal to\n",
      "    3.23414"
     ]
    },
    {
     "data": {
      "image/png": "[encoded data removed]",
      "text/plain": [
       "Plot with title \"Histogram of Spades: Hands Drawn = 100,000\""
      ]
     },
     "metadata": {},
     "output_type": "display_data"
    }
   ],
   "source": [
    "num_success <- c()     # create a vector to store the number of successes for each sample drawn\n",
    "num_samps = 100000     # set the number of samples to be drawn\n",
    "\n",
    "for (i in 1:num_samps){\n",
    "    hand <- sample(deck_df$suits, 13)     # draw 13 cards, count number of Spades\n",
    "    num_success[i] <- sum( hand  == 'S' )     # count and store the number of Spades from this trial\n",
    "}\n",
    "\n",
    "lower <- quantile(num_success, prob = 0.05)     # Calcuate the 5th percentile.\n",
    "upper <- quantile(num_success, prob = 0.95)     # Calcuate the 95th percentile.\n",
    "cat('The grand mean of the simulated distribution is equal to\\n   ',mean(num_success) )\n",
    "hist(num_success, breaks = 12, main = 'Histogram of Spades: Hands Drawn = 100,000', xlab = 'Number of Spades')\n",
    "abline( v = lower, col=\"blue\")     # Add vertical line at 5th percentile\n",
    "abline(v = upper, col=\"blue\")      # Add vertical line at 95th percentile "
   ]
  },
  {
   "cell_type": "code",
   "execution_count": null,
   "id": "21887ac5-90b4-4a9d-9128-08029474839e",
   "metadata": {},
   "outputs": [],
   "source": []
  }
 ],
 "metadata": {
  "kernelspec": {
   "display_name": "R",
   "language": "R",
   "name": "ir"
  },
  "language_info": {
   "codemirror_mode": "r",
   "file_extension": ".r",
   "mimetype": "text/x-r-source",
   "name": "R",
   "pygments_lexer": "r",
   "version": "3.6.1"
  }
 },
 "nbformat": 4,
 "nbformat_minor": 5
}
