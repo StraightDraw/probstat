{
 "cells": [
  {
   "cell_type": "markdown",
   "id": "195f03b8-302a-4034-8734-e99e3730cc88",
   "metadata": {},
   "source": [
    "# Sampling Functions\n",
    "\n",
    "The package **mosaic** features classic sampling functions for R. However, in this environment we use for class, mosaic is difficult to load. Still, we can import the code for useful functions directly and run them in R. This page provides the code to copy into an R notebook along with examples to guide usage.\n",
    "\n",
    "Three mosaic functions that will be useful for us include:\n",
    "\n",
    "1. rflip()\n",
    "2. rspin()\n",
    "3. sample.data.frame()"
   ]
  },
  {
   "cell_type": "markdown",
   "id": "0d81abe5-6f6f-4a5b-b517-dd9b2c5fcb90",
   "metadata": {},
   "source": [
    "## The **rflip()** Function\n",
    "\n",
    "When we want to simulate coin flips, the **rflip** function generates and organizes the output. The function parameters are as follows:\n",
    "\n",
    "- **n** -- the number of coins to toss\n",
    "- **prob** -- probability of heads on each toss\n",
    "- **quiet** -- a logical.  If `TRUE`, less verbose output is used.\n",
    "- **verbose** -- a logical.  If `TRUE`, more verbose output is used.\n",
    "- **summarize** -- if `TRUE`, return a summary (as a data frame).\n",
    "\n",
    "Some examples:\n",
    "- rflip(10)\n",
    "- rflip(10, prob = 1/6, quiet = TRUE)\n",
    "- rflip(10, prob = 1/6, summarize = TRUE)"
   ]
  },
  {
   "cell_type": "markdown",
   "id": "00a81d75-d0d1-4756-996a-752db122e86d",
   "metadata": {},
   "source": [
    "The code to create the function **rflip()** is below."
   ]
  },
  {
   "cell_type": "code",
   "execution_count": 5,
   "id": "00aea4f3-2caf-4620-a931-e90be4ca0fc0",
   "metadata": {},
   "outputs": [],
   "source": [
    "rflip <- function(n=1, prob=.5, quiet=FALSE, verbose = !quiet, summarize = FALSE, \n",
    "                  summarise = summarize) {\n",
    "\tif ( ( prob > 1 && is.integer(prob) ) ) {  \n",
    "\t\t# swap n and prob\n",
    "\t\ttemp <- prob\n",
    "\t\tprob <- n\n",
    "\t\tn <- temp\n",
    "\t}\n",
    "\tif (summarise) {\n",
    "\t  heads <- rbinom(1, n, prob)\n",
    "\t  return(data.frame(n = n, heads = heads, tails = n - heads, prob = prob))\n",
    "\t} else {\n",
    "\t  r <- rbinom(n,1,prob)\n",
    "\t  result <- c('T','H')[ 1 + r ]\n",
    "\t  heads <- sum(r)\n",
    "\t  attr(heads,\"n\") <- n\n",
    "\t  attr(heads,\"prob\") <- prob \n",
    "\t  attr(heads,\"sequence\") <- result\n",
    "\t  attr(heads,\"verbose\") <- verbose\n",
    "\t  class(heads) <- 'cointoss'\n",
    "\t  return(heads)\n",
    "\t}\n",
    "}"
   ]
  },
  {
   "cell_type": "markdown",
   "id": "29c86f05-53ea-4867-87a9-dacd3d4730df",
   "metadata": {},
   "source": [
    "Let's flip $20$ coins and observe the different output configurations we can access."
   ]
  },
  {
   "cell_type": "code",
   "execution_count": 6,
   "id": "04311ac4-a1e9-4f03-accd-770da6008d9e",
   "metadata": {},
   "outputs": [
    {
     "data": {
      "text/plain": [
       "[1] 13\n",
       "attr(,\"n\")\n",
       "[1] 20\n",
       "attr(,\"prob\")\n",
       "[1] 0.5\n",
       "attr(,\"sequence\")\n",
       " [1] \"H\" \"H\" \"H\" \"T\" \"H\" \"T\" \"H\" \"H\" \"T\" \"T\" \"T\" \"H\" \"H\" \"T\" \"H\" \"H\" \"H\" \"T\" \"H\"\n",
       "[20] \"H\"\n",
       "attr(,\"verbose\")\n",
       "[1] TRUE\n",
       "attr(,\"class\")\n",
       "[1] \"cointoss\""
      ]
     },
     "metadata": {},
     "output_type": "display_data"
    }
   ],
   "source": [
    "rflip(20)"
   ]
  },
  {
   "cell_type": "markdown",
   "id": "d87812ae-604a-4a71-b9f0-eeef053e18ca",
   "metadata": {},
   "source": [
    "Notice that the \"number of successes\" is the first output and that the outputs are in a dataframe that we can subset normally. Thus, we can use square brackets [] to access that value:"
   ]
  },
  {
   "cell_type": "code",
   "execution_count": 7,
   "id": "ba253eb7-c87a-4447-8a9c-9e0d3ccb2f14",
   "metadata": {},
   "outputs": [
    {
     "data": {
      "text/html": [
       "12"
      ],
      "text/latex": [
       "12"
      ],
      "text/markdown": [
       "12"
      ],
      "text/plain": [
       "[1] 12"
      ]
     },
     "metadata": {},
     "output_type": "display_data"
    }
   ],
   "source": [
    "rflip(20)[1]"
   ]
  },
  {
   "cell_type": "markdown",
   "id": "bfdcb3b2-32e3-4ad6-a53c-d984da64835c",
   "metadata": {},
   "source": [
    "What if the probability of success is different than 50\\%? We can use the *prob =* option to set the correct value."
   ]
  },
  {
   "cell_type": "code",
   "execution_count": 8,
   "id": "268952dd-592c-495c-9e34-9d846cc6e7b2",
   "metadata": {},
   "outputs": [
    {
     "data": {
      "text/plain": [
       "[1] 2\n",
       "attr(,\"n\")\n",
       "[1] 20\n",
       "attr(,\"prob\")\n",
       "[1] 0.1666667\n",
       "attr(,\"sequence\")\n",
       " [1] \"T\" \"T\" \"H\" \"T\" \"T\" \"T\" \"T\" \"T\" \"T\" \"H\" \"T\" \"T\" \"T\" \"T\" \"T\" \"T\" \"T\" \"T\" \"T\"\n",
       "[20] \"T\"\n",
       "attr(,\"verbose\")\n",
       "[1] FALSE\n",
       "attr(,\"class\")\n",
       "[1] \"cointoss\""
      ]
     },
     "metadata": {},
     "output_type": "display_data"
    }
   ],
   "source": [
    "rflip(20, prob = 1/6, quiet = TRUE)"
   ]
  },
  {
   "cell_type": "markdown",
   "id": "47715fc5-8b22-48e1-83d8-902372b01baa",
   "metadata": {},
   "source": [
    "The function **rflip()** will organize the results for us in a dataframe if we set the option *summarize = TRUE*."
   ]
  },
  {
   "cell_type": "code",
   "execution_count": 9,
   "id": "2fc1d760-4b4c-43b9-a244-d8aac86644cc",
   "metadata": {},
   "outputs": [
    {
     "data": {
      "text/html": [
       "<table>\n",
       "<thead><tr><th scope=col>n</th><th scope=col>heads</th><th scope=col>tails</th><th scope=col>prob</th></tr></thead>\n",
       "<tbody>\n",
       "\t<tr><td>20       </td><td>4        </td><td>16       </td><td>0.1666667</td></tr>\n",
       "</tbody>\n",
       "</table>\n"
      ],
      "text/latex": [
       "\\begin{tabular}{r|llll}\n",
       " n & heads & tails & prob\\\\\n",
       "\\hline\n",
       "\t 20        & 4         & 16        & 0.1666667\\\\\n",
       "\\end{tabular}\n"
      ],
      "text/markdown": [
       "\n",
       "| n | heads | tails | prob |\n",
       "|---|---|---|---|\n",
       "| 20        | 4         | 16        | 0.1666667 |\n",
       "\n"
      ],
      "text/plain": [
       "  n  heads tails prob     \n",
       "1 20 4     16    0.1666667"
      ]
     },
     "metadata": {},
     "output_type": "display_data"
    }
   ],
   "source": [
    "rflip(20, prob = 1/6, summarize = TRUE)"
   ]
  },
  {
   "cell_type": "markdown",
   "id": "27423d6e-115d-4c95-91e3-4402fba1b8ba",
   "metadata": {},
   "source": [
    "## The **rspin()** Function"
   ]
  },
  {
   "cell_type": "markdown",
   "id": "c4cf7d15-71fc-428e-ab69-f8942cf94e59",
   "metadata": {},
   "source": [
    "We can simulate spinning a spinner with **rspin()** using the following input parameters.\n",
    "\n",
    "- **n** number of spins of spinner\n",
    "- **probs** -- a vector of probabilities.  If the sum is not 1, the probabilities will be rescaled.\n",
    "- **labels** -- a character vector of labels for the categories\n",
    "\n",
    "Some examples:\n",
    "\n",
    "- rspin(20, prob=c(1,2,3), labels=c(\"Red\", \"Blue\", \"Green\"))\n",
    "- rspin(30, prob=c(1,2,3,4), labels=c(\"Red\", \"Blue\", \"Green\", \"Purple\"))"
   ]
  },
  {
   "cell_type": "code",
   "execution_count": 10,
   "id": "4d471ee8-e54b-4a71-a623-bed19338e768",
   "metadata": {},
   "outputs": [],
   "source": [
    "rspin <- function(n, probs, labels=1:length(probs)) {\n",
    "  if (any(probs < 0))\n",
    "    stop(\"All probs must be non-negative.\")\n",
    "  \n",
    "  probs <- probs/sum(probs)\n",
    "  res <- as.data.frame(t(rmultinom(1, n, probs)))\n",
    "  names(res) <- labels\n",
    "  res\n",
    "}"
   ]
  },
  {
   "cell_type": "markdown",
   "id": "4e56c7d0-69ee-4fec-9f41-665105e1f677",
   "metadata": {},
   "source": [
    "Two straightforward examples should suffice to demonstrate how the function works."
   ]
  },
  {
   "cell_type": "code",
   "execution_count": 11,
   "id": "6a6c52fe-726d-4314-8e9c-a7aede15b735",
   "metadata": {},
   "outputs": [
    {
     "data": {
      "text/html": [
       "<table>\n",
       "<thead><tr><th scope=col>Red</th><th scope=col>Blue</th><th scope=col>Green</th></tr></thead>\n",
       "<tbody>\n",
       "\t<tr><td>4 </td><td>5 </td><td>11</td></tr>\n",
       "</tbody>\n",
       "</table>\n"
      ],
      "text/latex": [
       "\\begin{tabular}{r|lll}\n",
       " Red & Blue & Green\\\\\n",
       "\\hline\n",
       "\t 4  & 5  & 11\\\\\n",
       "\\end{tabular}\n"
      ],
      "text/markdown": [
       "\n",
       "| Red | Blue | Green |\n",
       "|---|---|---|\n",
       "| 4  | 5  | 11 |\n",
       "\n"
      ],
      "text/plain": [
       "  Red Blue Green\n",
       "1 4   5    11   "
      ]
     },
     "metadata": {},
     "output_type": "display_data"
    }
   ],
   "source": [
    "rspin(20, prob=c(1,2,3), labels=c(\"Red\", \"Blue\", \"Green\"))"
   ]
  },
  {
   "cell_type": "code",
   "execution_count": 12,
   "id": "4cfc6309-7064-4940-afc6-9bd03a6db4a2",
   "metadata": {},
   "outputs": [
    {
     "data": {
      "text/html": [
       "<table>\n",
       "<thead><tr><th scope=col>Red</th><th scope=col>Blue</th><th scope=col>Green</th><th scope=col>Purple</th></tr></thead>\n",
       "<tbody>\n",
       "\t<tr><td>3 </td><td>2 </td><td>9 </td><td>16</td></tr>\n",
       "</tbody>\n",
       "</table>\n"
      ],
      "text/latex": [
       "\\begin{tabular}{r|llll}\n",
       " Red & Blue & Green & Purple\\\\\n",
       "\\hline\n",
       "\t 3  & 2  & 9  & 16\\\\\n",
       "\\end{tabular}\n"
      ],
      "text/markdown": [
       "\n",
       "| Red | Blue | Green | Purple |\n",
       "|---|---|---|---|\n",
       "| 3  | 2  | 9  | 16 |\n",
       "\n"
      ],
      "text/plain": [
       "  Red Blue Green Purple\n",
       "1 3   2    9     16    "
      ]
     },
     "metadata": {},
     "output_type": "display_data"
    }
   ],
   "source": [
    "rspin(30, prob=c(1,2,3,4), labels=c(\"Red\", \"Blue\", \"Green\", \"Purple\"))"
   ]
  },
  {
   "cell_type": "markdown",
   "id": "6f9fad0f-d11f-4ea6-a2aa-6de0cca7160e",
   "metadata": {},
   "source": [
    "### Genetics Example: Flowers\n",
    "\n",
    "Suppose that, based upon Mendel’s laws as expressed in the Punnett square, we have a hybrid where we expect the **purple** to **white** flower ratio to be $3 : 1$. Let's use **rspin()** to simulate growing 400 of the plants and counting the frequency of purple and white flowers."
   ]
  },
  {
   "cell_type": "code",
   "execution_count": 13,
   "id": "2438f0cb-7d31-4d84-b461-819191bf2205",
   "metadata": {},
   "outputs": [
    {
     "data": {
      "text/html": [
       "<table>\n",
       "<thead><tr><th scope=col>Purple</th><th scope=col>White</th></tr></thead>\n",
       "<tbody>\n",
       "\t<tr><td>317</td><td>83 </td></tr>\n",
       "</tbody>\n",
       "</table>\n"
      ],
      "text/latex": [
       "\\begin{tabular}{r|ll}\n",
       " Purple & White\\\\\n",
       "\\hline\n",
       "\t 317 & 83 \\\\\n",
       "\\end{tabular}\n"
      ],
      "text/markdown": [
       "\n",
       "| Purple | White |\n",
       "|---|---|\n",
       "| 317 | 83  |\n",
       "\n"
      ],
      "text/plain": [
       "  Purple White\n",
       "1 317    83   "
      ]
     },
     "metadata": {},
     "output_type": "display_data"
    }
   ],
   "source": [
    "rspin(400, prob=c(3,1), labels=c(\"Purple\", \"White\"))"
   ]
  },
  {
   "cell_type": "markdown",
   "id": "845fdb53-b650-4373-915c-253e3c735df5",
   "metadata": {},
   "source": [
    "### Genetics Example: Peas"
   ]
  },
  {
   "cell_type": "markdown",
   "id": "9eb3ebc4-6a8b-4db9-b810-51a0468ddfd9",
   "metadata": {},
   "source": [
    "Mendel chose to work with common, garden-variety pea plants for his experiments because they grow quickly and are easily raised. The plants have several visible characteristics that vary by proportions predicted by genetics, and we will focus on two of them:\n",
    "\n",
    "- Seeds can be round or wrinkled\n",
    "- Seeds can have yellow or green cotyledons. Cotyledons refer to the tiny leaves inside the seeds.\n",
    "\n",
    "In Mendel's experiment, he determined that the expected value for proportions were as given in the chart below:\n",
    "\n",
    "<html><table style=\"width:45%\">\n",
    "  <tr>\n",
    "    <th>Phenotype</th>\n",
    "    <th>Expected Proportion</th>\n",
    "  </tr>\n",
    "  <tr>\n",
    "    <td>Round Yellow</td>\n",
    "    <td align=\"center\">9/16</td>\n",
    "  </tr>\n",
    "  <tr>\n",
    "    <td>Round Green</td>\n",
    "    <td align=\"center\">3/16</td>\n",
    "  </tr>\n",
    "  <tr>\n",
    "    <td>Wrinkled Yellow</td>\n",
    "    <td align=\"center\">3/16</td>\n",
    "  </tr>\n",
    "  <tr>\n",
    "    <td>Wrinkled Green</td>\n",
    "    <td align=\"center\">1/16</td>\n",
    "  </tr>\n",
    "</table></html>\n",
    "\n",
    "Let's use **rspin()** to simulate growing 2000 of the plants and determining with what frequencies these attributes occur."
   ]
  },
  {
   "cell_type": "code",
   "execution_count": 86,
   "id": "4490e58d-c5d2-4445-a4f5-691884055cbf",
   "metadata": {},
   "outputs": [
    {
     "data": {
      "text/html": [
       "<table>\n",
       "<thead><tr><th scope=col>Round Yellow</th><th scope=col>Round Green</th><th scope=col>Wrinkled Yellow</th><th scope=col>Wrinkled Green</th></tr></thead>\n",
       "<tbody>\n",
       "\t<tr><td>224</td><td>77 </td><td>80 </td><td>19 </td></tr>\n",
       "</tbody>\n",
       "</table>\n"
      ],
      "text/latex": [
       "\\begin{tabular}{r|llll}\n",
       " Round Yellow & Round Green & Wrinkled Yellow & Wrinkled Green\\\\\n",
       "\\hline\n",
       "\t 224 & 77  & 80  & 19 \\\\\n",
       "\\end{tabular}\n"
      ],
      "text/markdown": [
       "\n",
       "| Round Yellow | Round Green | Wrinkled Yellow | Wrinkled Green |\n",
       "|---|---|---|---|\n",
       "| 224 | 77  | 80  | 19  |\n",
       "\n"
      ],
      "text/plain": [
       "  Round Yellow Round Green Wrinkled Yellow Wrinkled Green\n",
       "1 224          77          80              19            "
      ]
     },
     "metadata": {},
     "output_type": "display_data"
    }
   ],
   "source": [
    "rspin(400, prob=c(9,3,3,1), labels=c(\"Round Yellow\", \"Round Green\", \"Wrinkled Yellow\", \"Wrinkled Green\"))"
   ]
  },
  {
   "cell_type": "markdown",
   "id": "f5677b41-d7d0-4530-8c7a-aedd95a8779b",
   "metadata": {},
   "source": [
    "## The **sample.data.frame()** Function"
   ]
  },
  {
   "cell_type": "markdown",
   "id": "0ced4162-2cde-4141-8dd1-f4b04c9cf655",
   "metadata": {},
   "source": [
    "We often wish to generate a random sample of rows from a dataframe, and **sample.date.frame** helps us to do so quickly.\n",
    "\n",
    "- **groups** -- a vector (or variable in a data frame) specifying groups to sample within.\n",
    "- **orig.ids** -- a logical; should original ids be included in returned data frame?\n",
    "- **\\dots** -- additional arguments passed to *base::sample()*.\n",
    "- **shuffled** -- a vector of column names. These variables are reshuffled individually (within groups if `groups` is specified), breaking associations among these columns.\n",
    "\n",
    "Some examples:"
   ]
  },
  {
   "cell_type": "code",
   "execution_count": 14,
   "id": "ce1c23a2-295e-4b0f-94ad-188fe6b2633b",
   "metadata": {},
   "outputs": [],
   "source": [
    "sample.data.frame <- function(x, size, replace = FALSE, prob = NULL, groups=NULL, \n",
    "                              orig.ids = TRUE, fixed = names(x), shuffled = c(),\n",
    "                              invisibly.return = NULL, ...) {\n",
    "  if( missing(size) ) size = nrow(x)\n",
    "  if( is.null(invisibly.return) ) invisibly.return = size>50 \n",
    "  shuffled <- intersect(shuffled, names(x))\n",
    "  fixed <- setdiff(intersect(fixed, names(x)), shuffled)\n",
    "  n <- nrow(x)\n",
    "  ids <- 1:n\n",
    "  groups <- eval( substitute(groups), x )\n",
    "  newids <- sample(n, size, replace=replace, prob=prob, groups=groups, ...)\n",
    "  origids <- ids[newids]\n",
    "  result <- x[newids, , drop=FALSE]\n",
    "  \n",
    "  idsString <- as.character(origids)\n",
    "  \n",
    "  for (column in shuffled) {\n",
    "    cids <- sample(newids, groups=groups[newids])\n",
    "    result[,column] <- x[cids,column]\n",
    "    idsString <- paste(idsString, \".\", cids, sep=\"\")\n",
    "  }\n",
    "  \n",
    "  result <-  result[ , union(fixed,shuffled), drop=FALSE]\n",
    "  if (orig.ids) result$orig.id <- idsString\n",
    "  \n",
    "  \n",
    "  if (invisibly.return) { return(invisible(result)) } else {return(result)}\n",
    "}"
   ]
  },
  {
   "cell_type": "markdown",
   "id": "a9bee851-e95e-41bb-89cd-ffb45f2d04c9",
   "metadata": {},
   "source": []
  },
  {
   "cell_type": "markdown",
   "id": "c3987d9b-4a86-4205-8282-1d9cdd77c412",
   "metadata": {},
   "source": []
  }
 ],
 "metadata": {
  "kernelspec": {
   "display_name": "R",
   "language": "R",
   "name": "ir"
  },
  "language_info": {
   "codemirror_mode": "r",
   "file_extension": ".r",
   "mimetype": "text/x-r-source",
   "name": "R",
   "pygments_lexer": "r",
   "version": "3.6.1"
  }
 },
 "nbformat": 4,
 "nbformat_minor": 5
}
