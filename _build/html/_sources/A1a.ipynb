{
 "cells": [
  {
   "cell_type": "markdown",
   "id": "452cba55-9dc9-4813-9c64-0dec71766a97",
   "metadata": {},
   "source": [
    "# Extracting Columns from Data Frames as Vectors\n",
    "\n",
    "Generally, a column in a data frame contains the values for a specific variable. Thus, we often wish to extract a column from a data frame as a vector of values so that we can work with it."
   ]
  },
  {
   "cell_type": "code",
   "execution_count": 12,
   "id": "9433e1c3-4597-4761-8ac0-2fa5627adeb8",
   "metadata": {},
   "outputs": [],
   "source": [
    "pers <- read.csv('https://faculty.ung.edu/rsinn/data/personality.csv')"
   ]
  },
  {
   "cell_type": "markdown",
   "id": "7ed0a8ee-ac29-4ae2-ba8d-c7bc88f382b7",
   "metadata": {},
   "source": [
    "## Option 1: Dollar Sign Notation \\$\n",
    "\n",
    "```{sidebar} head\n",
    "The R function **head()** displays the column titles and first few rows of a data frame. We often find it useful to inspect a compact version of a data frame instead of producing hundreds of rows in the display.\n",
    "```\n",
    "\n",
    "To extract the *perfectionism* scores column of data using the dollar sign method, we proceed as follows:"
   ]
  },
  {
   "cell_type": "code",
   "execution_count": 13,
   "id": "905d7d8e-a07c-4bf9-a450-cfa7512774bd",
   "metadata": {},
   "outputs": [
    {
     "data": {
      "text/html": [
       "<ol class=list-inline>\n",
       "\t<li>105</li>\n",
       "\t<li>105</li>\n",
       "\t<li>73</li>\n",
       "\t<li>90</li>\n",
       "\t<li>95</li>\n",
       "</ol>\n"
      ],
      "text/latex": [
       "\\begin{enumerate*}\n",
       "\\item 105\n",
       "\\item 105\n",
       "\\item 73\n",
       "\\item 90\n",
       "\\item 95\n",
       "\\end{enumerate*}\n"
      ],
      "text/markdown": [
       "1. 105\n",
       "2. 105\n",
       "3. 73\n",
       "4. 90\n",
       "5. 95\n",
       "\n",
       "\n"
      ],
      "text/plain": [
       "[1] 105 105  73  90  95"
      ]
     },
     "metadata": {},
     "output_type": "display_data"
    }
   ],
   "source": [
    "perfect <- pers$Perf\n",
    "head(perfect, 5)"
   ]
  },
  {
   "cell_type": "markdown",
   "id": "633e029b-a1cc-4293-b86b-237444d5794d",
   "metadata": {},
   "source": [
    "## Option 2: [Row, Column] Format\n",
    "\n",
    "To extract the *perfectionism* scores column of data using the Rows and columns of the data frame, we leave the row indicator empty and specify a column as shown:"
   ]
  },
  {
   "cell_type": "code",
   "execution_count": 14,
   "id": "b2a0e2e8-1d74-4d0d-adb6-07a975ae2c87",
   "metadata": {},
   "outputs": [
    {
     "data": {
      "text/html": [
       "<ol class=list-inline>\n",
       "\t<li>105</li>\n",
       "\t<li>105</li>\n",
       "\t<li>73</li>\n",
       "\t<li>90</li>\n",
       "\t<li>95</li>\n",
       "</ol>\n"
      ],
      "text/latex": [
       "\\begin{enumerate*}\n",
       "\\item 105\n",
       "\\item 105\n",
       "\\item 73\n",
       "\\item 90\n",
       "\\item 95\n",
       "\\end{enumerate*}\n"
      ],
      "text/markdown": [
       "1. 105\n",
       "2. 105\n",
       "3. 73\n",
       "4. 90\n",
       "5. 95\n",
       "\n",
       "\n"
      ],
      "text/plain": [
       "[1] 105 105  73  90  95"
      ]
     },
     "metadata": {},
     "output_type": "display_data"
    }
   ],
   "source": [
    "perfect2 <- pers[ , 'Perf']\n",
    "head(perfect2, 5)"
   ]
  },
  {
   "cell_type": "markdown",
   "id": "db6956d8-0a5b-4711-9429-880a612446d0",
   "metadata": {},
   "source": [
    "The column may described either by number (shown below) or by name (as shown above). The perfectionism scores are stored in column \\#27."
   ]
  },
  {
   "cell_type": "code",
   "execution_count": 15,
   "id": "e74c2625-c333-4302-9d22-ac8665658f32",
   "metadata": {},
   "outputs": [
    {
     "data": {
      "text/html": [
       "<ol class=list-inline>\n",
       "\t<li>105</li>\n",
       "\t<li>105</li>\n",
       "\t<li>73</li>\n",
       "\t<li>90</li>\n",
       "\t<li>95</li>\n",
       "</ol>\n"
      ],
      "text/latex": [
       "\\begin{enumerate*}\n",
       "\\item 105\n",
       "\\item 105\n",
       "\\item 73\n",
       "\\item 90\n",
       "\\item 95\n",
       "\\end{enumerate*}\n"
      ],
      "text/markdown": [
       "1. 105\n",
       "2. 105\n",
       "3. 73\n",
       "4. 90\n",
       "5. 95\n",
       "\n",
       "\n"
      ],
      "text/plain": [
       "[1] 105 105  73  90  95"
      ]
     },
     "metadata": {},
     "output_type": "display_data"
    }
   ],
   "source": [
    "perfect3 <- pers[ , 27]\n",
    "head(perfect3, 5)"
   ]
  },
  {
   "cell_type": "markdown",
   "id": "8adda0ec-60ae-46ab-bee0-8f89bfd94add",
   "metadata": {},
   "source": [
    "All methods shown work properly and, as one can see, display identical results."
   ]
  },
  {
   "cell_type": "markdown",
   "id": "24ed1fd4-d283-4512-b96a-2583cd045433",
   "metadata": {},
   "source": [
    "## Subsetting a Data Frame\n",
    "\n",
    "What if we wish to compare the biological sexes on the **narcissism** variable? Then, we need to create a subset of narcissism for both sexes, male and female. Working with the females first, we see the following:"
   ]
  },
  {
   "cell_type": "code",
   "execution_count": 10,
   "id": "f1702296-9892-45a7-9cc7-cfa9b2663582",
   "metadata": {},
   "outputs": [
    {
     "data": {
      "text/html": [
       "<table>\n",
       "<thead><tr><th></th><th scope=col>Age</th><th scope=col>Yr</th><th scope=col>Sex</th><th scope=col>G21</th><th scope=col>Corps</th><th scope=col>Res</th><th scope=col>Greek</th><th scope=col>VarsAth</th><th scope=col>Honor</th><th scope=col>GPA</th><th scope=col>...</th><th scope=col>Perf</th><th scope=col>OCD</th><th scope=col>Play</th><th scope=col>Extro</th><th scope=col>Narc</th><th scope=col>HSAF</th><th scope=col>HSSE</th><th scope=col>HSAG</th><th scope=col>HSSD</th><th scope=col>PHS</th></tr></thead>\n",
       "<tbody>\n",
       "\t<tr><th scope=row>2</th><td>20  </td><td>3   </td><td>F   </td><td>N   </td><td>N   </td><td>2   </td><td>Y   </td><td>N   </td><td>Y   </td><td>3.95</td><td>... </td><td>105 </td><td> 3  </td><td>172 </td><td>16  </td><td>11  </td><td>46  </td><td>52  </td><td>26  </td><td>33  </td><td>SE  </td></tr>\n",
       "\t<tr><th scope=row>4</th><td>27  </td><td>3   </td><td>F   </td><td>Y   </td><td>N   </td><td>3   </td><td>N   </td><td>N   </td><td>N   </td><td>2.84</td><td>... </td><td> 90 </td><td> 9  </td><td>160 </td><td>16  </td><td>10  </td><td>51  </td><td>51  </td><td>23  </td><td>19  </td><td>SE  </td></tr>\n",
       "\t<tr><th scope=row>6</th><td>22  </td><td>3   </td><td>F   </td><td>Y   </td><td>N   </td><td>2   </td><td>Y   </td><td>N   </td><td>N   </td><td>2.63</td><td>... </td><td>114 </td><td>20  </td><td>133 </td><td>10  </td><td> 9  </td><td>40  </td><td>27  </td><td>31  </td><td>28  </td><td>AG  </td></tr>\n",
       "\t<tr><th scope=row>8</th><td>20  </td><td>3   </td><td>F   </td><td>N   </td><td>N   </td><td>1   </td><td>Y   </td><td>N   </td><td>N   </td><td>3.30</td><td>... </td><td>142 </td><td>17  </td><td>168 </td><td>16  </td><td> 9  </td><td>55  </td><td>45  </td><td>24  </td><td>29  </td><td>AF  </td></tr>\n",
       "\t<tr><th scope=row>9</th><td>22  </td><td>2   </td><td>F   </td><td>Y   </td><td>N   </td><td>1   </td><td>N   </td><td>N   </td><td>N   </td><td>3.02</td><td>... </td><td>119 </td><td>16  </td><td>141 </td><td>10  </td><td> 9  </td><td>52  </td><td>47  </td><td>32  </td><td>26  </td><td>SE  </td></tr>\n",
       "</tbody>\n",
       "</table>\n"
      ],
      "text/latex": [
       "\\begin{tabular}{r|llllllllllllllllllllllllllllllllllll}\n",
       "  & Age & Yr & Sex & G21 & Corps & Res & Greek & VarsAth & Honor & GPA & ... & Perf & OCD & Play & Extro & Narc & HSAF & HSSE & HSAG & HSSD & PHS\\\\\n",
       "\\hline\n",
       "\t2 & 20   & 3    & F    & N    & N    & 2    & Y    & N    & Y    & 3.95 & ...  & 105  &  3   & 172  & 16   & 11   & 46   & 52   & 26   & 33   & SE  \\\\\n",
       "\t4 & 27   & 3    & F    & Y    & N    & 3    & N    & N    & N    & 2.84 & ...  &  90  &  9   & 160  & 16   & 10   & 51   & 51   & 23   & 19   & SE  \\\\\n",
       "\t6 & 22   & 3    & F    & Y    & N    & 2    & Y    & N    & N    & 2.63 & ...  & 114  & 20   & 133  & 10   &  9   & 40   & 27   & 31   & 28   & AG  \\\\\n",
       "\t8 & 20   & 3    & F    & N    & N    & 1    & Y    & N    & N    & 3.30 & ...  & 142  & 17   & 168  & 16   &  9   & 55   & 45   & 24   & 29   & AF  \\\\\n",
       "\t9 & 22   & 2    & F    & Y    & N    & 1    & N    & N    & N    & 3.02 & ...  & 119  & 16   & 141  & 10   &  9   & 52   & 47   & 32   & 26   & SE  \\\\\n",
       "\\end{tabular}\n"
      ],
      "text/markdown": [
       "\n",
       "| <!--/--> | Age | Yr | Sex | G21 | Corps | Res | Greek | VarsAth | Honor | GPA | ... | Perf | OCD | Play | Extro | Narc | HSAF | HSSE | HSAG | HSSD | PHS |\n",
       "|---|---|---|---|---|---|---|---|---|---|---|---|---|---|---|---|---|---|---|---|---|---|\n",
       "| 2 | 20   | 3    | F    | N    | N    | 2    | Y    | N    | Y    | 3.95 | ...  | 105  |  3   | 172  | 16   | 11   | 46   | 52   | 26   | 33   | SE   |\n",
       "| 4 | 27   | 3    | F    | Y    | N    | 3    | N    | N    | N    | 2.84 | ...  |  90  |  9   | 160  | 16   | 10   | 51   | 51   | 23   | 19   | SE   |\n",
       "| 6 | 22   | 3    | F    | Y    | N    | 2    | Y    | N    | N    | 2.63 | ...  | 114  | 20   | 133  | 10   |  9   | 40   | 27   | 31   | 28   | AG   |\n",
       "| 8 | 20   | 3    | F    | N    | N    | 1    | Y    | N    | N    | 3.30 | ...  | 142  | 17   | 168  | 16   |  9   | 55   | 45   | 24   | 29   | AF   |\n",
       "| 9 | 22   | 2    | F    | Y    | N    | 1    | N    | N    | N    | 3.02 | ...  | 119  | 16   | 141  | 10   |  9   | 52   | 47   | 32   | 26   | SE   |\n",
       "\n"
      ],
      "text/plain": [
       "  Age Yr Sex G21 Corps Res Greek VarsAth Honor GPA  ... Perf OCD Play Extro\n",
       "2 20  3  F   N   N     2   Y     N       Y     3.95 ... 105   3  172  16   \n",
       "4 27  3  F   Y   N     3   N     N       N     2.84 ...  90   9  160  16   \n",
       "6 22  3  F   Y   N     2   Y     N       N     2.63 ... 114  20  133  10   \n",
       "8 20  3  F   N   N     1   Y     N       N     3.30 ... 142  17  168  16   \n",
       "9 22  2  F   Y   N     1   N     N       N     3.02 ... 119  16  141  10   \n",
       "  Narc HSAF HSSE HSAG HSSD PHS\n",
       "2 11   46   52   26   33   SE \n",
       "4 10   51   51   23   19   SE \n",
       "6  9   40   27   31   28   AG \n",
       "8  9   55   45   24   29   AF \n",
       "9  9   52   47   32   26   SE "
      ]
     },
     "metadata": {},
     "output_type": "display_data"
    }
   ],
   "source": [
    "females <- subset(pers, Sex == 'F')\n",
    "head(females, 5)"
   ]
  },
  {
   "cell_type": "code",
   "execution_count": 11,
   "id": "eae2c0a0-f754-4324-ad5b-07708d4b8c63",
   "metadata": {},
   "outputs": [
    {
     "data": {
      "image/png": "[encoded data removed]",
      "text/plain": [
       "Plot with title \"QQ Plot: Narcissism\""
      ]
     },
     "metadata": {},
     "output_type": "display_data"
    }
   ],
   "source": [
    "data <- pers[ , 'Narc']\n",
    "\n",
    "layout(matrix(c(1,2), ncol = 2), lcm(8))\n",
    "hist(data)\n",
    "plt <- { qqnorm(data, main = 'QQ Plot: Narcissism') ; qqline(data) }"
   ]
  },
  {
   "cell_type": "code",
   "execution_count": null,
   "id": "dda7ece1-986f-4dbb-bd2f-fb524047582b",
   "metadata": {},
   "outputs": [],
   "source": []
  },
  {
   "cell_type": "code",
   "execution_count": null,
   "id": "19199223-7cf7-4eef-9390-38522d63468d",
   "metadata": {},
   "outputs": [],
   "source": []
  }
 ],
 "metadata": {
  "kernelspec": {
   "display_name": "R",
   "language": "R",
   "name": "ir"
  },
  "language_info": {
   "codemirror_mode": "r",
   "file_extension": ".r",
   "mimetype": "text/x-r-source",
   "name": "R",
   "pygments_lexer": "r",
   "version": "3.6.1"
  }
 },
 "nbformat": 4,
 "nbformat_minor": 5
}
