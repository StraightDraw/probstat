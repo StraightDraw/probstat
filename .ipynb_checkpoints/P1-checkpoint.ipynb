{
 "cells": [
  {
   "cell_type": "markdown",
   "id": "720b3781-b086-4089-941a-c525781631d5",
   "metadata": {},
   "source": [
    "# Basic Probability"
   ]
  },
  {
   "cell_type": "markdown",
   "id": "e4dd83cd-1659-4c7c-8eef-610b6d85bcfd",
   "metadata": {},
   "source": [
    "These course notes provide and introduction to probability and statistics at the introductory level for a mathematics major. Many of the examples in these notes are real poker problems from No Limit Texas Holdem (NLHE).\n",
    "\n",
    "With probability theory mathematicians predict the future. Statistics help mathematicians analyze the past. With an understanding of both areas of mathematics, successful professional poker players manufacture dozens of small edges over their competition to earn money.\n",
    "\n",
    "A roulette ball falling into its slot and a card drawn from a well-shuffled deck are two additional examples of probability experiments."
   ]
  },
  {
   "cell_type": "markdown",
   "id": "f3445610-f9f8-4bc0-b562-8e1d8f41f006",
   "metadata": {},
   "source": [
    "##  Probability Experiments\n",
    "\n",
    "A *probability experiment* is any event whose outcomes are perfectly \\textbf{random} and exactly predicted by probabilities. The probability space (or sample space) is the collection of all possible outcomes of the experiment. A simple random sample (SRS) is a collection of outcomes drawn at random from the probability space $S$.\n",
    "\n",
    "An *event* is a set of *outcomes*. We use set notation: an event $A$ is a subset of $S$. Determining probabilities is all about counting the number of outcomes in event $A$ and in $S$. To simplify our work, we will use the \\textbf{cardinality} operator $n(A)$ to indicate \"the number of elements (outcomes) in set (event) $A$.\" This leads us to the main formula in discrete probability theory:"
   ]
  },
  {
   "cell_type": "markdown",
   "id": "e0ba719a-c61d-4237-a6f1-1d9e86b26b14",
   "metadata": {},
   "source": [
    "```{sidebar} Cardinality\n",
    "When we wish to know the number of items in the set $X$, we use the cardinality operator $n(X)$. We can also use the absolute value to indicate the same calculation: $|X|$.\n",
    "```"
   ]
  },
  {
   "cell_type": "markdown",
   "id": "5fceb46a-1d88-415f-88c7-7833551ddc48",
   "metadata": {},
   "source": [
    "$$\n",
    "P(A)=\\frac{n(A)}{n(S)}\n",
    "$$"
   ]
  },
  {
   "cell_type": "markdown",
   "id": "9e93499b-c6b1-43b1-a1ee-c95ff3bf9525",
   "metadata": {},
   "source": [
    "These ideas will be helpful in reformulating basic probability questions into a set theoretic framework."
   ]
  },
  {
   "cell_type": "markdown",
   "id": "28e3dc98-5b54-4049-b124-3d718daaf3fd",
   "metadata": {},
   "source": [
    "```{admonition} Example 1\n",
    "Suppose we draw a single card at random from a well-shuffled standard deck of 52 cards. What is the probability of drawing a $\\heartsuit$?\n",
    "```"
   ]
  },
  {
   "cell_type": "markdown",
   "id": "51b7e572-1752-4de5-ab64-a0c0d58c50c5",
   "metadata": {},
   "source": [
    "**Solution.**\n",
    "Let's define $H$ to be the event set described by \"drawing a heart.\" We count the hearts in a standard deck and find the cardinality of the event set to $|H|=13$. The sample space $S$ is the set of all possible cards that could be drawn, so"
   ]
  },
  {
   "cell_type": "markdown",
   "id": "4abcb30d-ec26-482c-a83a-2d0cba5f024c",
   "metadata": {},
   "source": [
    "$$\n",
    "|S|=52\n",
    "$$"
   ]
  },
  {
   "cell_type": "markdown",
   "id": "3f962fe3-26ea-4944-af1e-d8c24d69d44a",
   "metadata": {},
   "source": [
    "Thus, we have the following probability calculation:"
   ]
  },
  {
   "cell_type": "markdown",
   "id": "2e5025b6-f110-4e70-a513-d4bbe9bddae8",
   "metadata": {},
   "source": [
    "$$\n",
    "P(H)=\\frac{|H|}{|S|}=\\frac{13}{52}=\\frac{1}{4}\n",
    "$$"
   ]
  },
  {
   "cell_type": "markdown",
   "id": "e8524f76-2053-4387-94bf-1873eff8db85",
   "metadata": {},
   "source": [
    "```{tip}\n",
    "The solution path demonstrated in Example 1 will be of use to us quite often in this course. **Count the outcomes in the event set, and divide by the total number of outcomes possible.**\n",
    "```"
   ]
  },
  {
   "cell_type": "markdown",
   "id": "6e8a998d-fcdc-4ae2-bc72-7ffa0e30f74b",
   "metadata": {},
   "source": [
    "## Set Complements"
   ]
  },
  {
   "cell_type": "markdown",
   "id": "a5ab7c13-3243-4965-9a78-51e517a8af85",
   "metadata": {},
   "source": [
    "It is often far easier to count the outcomes in the complement of event $A$, e.g. the probability that event A **does not occur**. This requires an understanding of the **set complement** which we denote as $\\overline A$. The formula is:"
   ]
  },
  {
   "cell_type": "markdown",
   "id": "25606d93-ff16-4062-bcd6-84d3b731aa82",
   "metadata": {},
   "source": [
    "```{sidebar} Set Complements\n",
    "The \"overline\" notation $\\overline{x}$ is used frequently in statistics. We can use exponential notation for **set complements** to avoid confusion:\n",
    "\n",
    "$$A^c =\\overline{A}$$\n",
    "```"
   ]
  },
  {
   "cell_type": "markdown",
   "id": "80e08784-58cc-41da-9983-a8812d5f8e7f",
   "metadata": {},
   "source": [
    "$$P(\\overline A)=\\frac{|\\overline A|}{|S|}=\\frac{|S|-|A|}{|S|}=1-\\frac{|A|}{|S|}=1-P(A)$$"
   ]
  },
  {
   "cell_type": "markdown",
   "id": "2b944224-ef67-4ba7-b545-d4939f357507",
   "metadata": {},
   "source": [
    "In probability calculations, \"throwing away\" the overlap between two sets can be useful because it creates disjoint sets. Given two events $A$ and $B$ such that $A\\cap B\\neq \\emptyset$, we need notation for the event \"$A$ but not $B$.\" The idea of a \"$A$ but not $B$\" is denoted as $A\\cap \\overline B$, and more formally we have:"
   ]
  },
  {
   "cell_type": "markdown",
   "id": "261bf517-1ff8-4901-955d-469f05a61bc0",
   "metadata": {},
   "source": [
    "$$A\\setminus B = A\\cap \\overline B$$"
   ]
  },
  {
   "cell_type": "markdown",
   "id": "06f4cffd-4f34-43ea-bc86-91e7be493338",
   "metadata": {},
   "source": [
    "We will sometimes use the quite popular subtraction notation to indicate the same idea: "
   ]
  },
  {
   "cell_type": "markdown",
   "id": "03ea02b0-9fb1-478a-9c01-8d35137b1a83",
   "metadata": {},
   "source": [
    "$$A - B = A\\cap \\overline B$$"
   ]
  },
  {
   "cell_type": "markdown",
   "id": "478a1cfb-77c3-400d-9d7d-4c8a64ffe5f8",
   "metadata": {},
   "source": [
    "Let's craft a poker example that will extend our understanding of how set complements are used in probability theory along with increasing our understanding of why probability calculations are of interest to poker players."
   ]
  },
  {
   "cell_type": "markdown",
   "id": "1df15e3d-a3ad-4e22-b3ef-37c31f5f9f18",
   "metadata": {},
   "source": [
    "```{admonition} Example 2\n",
    ":class: tip\n",
    "\n",
    "Hero holds a pocket pair:\n",
    "\n",
    "$$7\\textcolor{red}{\\heartsuit} \\hspace{3mm} 7\\textcolor{red}{\\diamondsuit}$$\n",
    "\n",
    "Villain open-raises from early position (EP) where players tend to have a very narrow range of hands that they play, typically pretty strong. For this example, assume Villain holds a hand like\n",
    "\n",
    "$$A\\spadesuit \\hspace{3mm} Q\\textcolor{red}{\\diamondsuit}$$\n",
    "\n",
    "Hero calls on the button. Hero feels he can usually win by bluffing whenever Villain misses the flop, especially on flops like\n",
    "\n",
    "$$K\\heartsuit \\hspace{3mm} 8\\clubsuit \\hspace{3mm} 3\\clubsuit$$\n",
    "\n",
    "with only one big card in them. If Villain has two unpaired cards both of which are $8$ or better, what is the probability flop with only one big card misses Villain's hand?\n",
    "```"
   ]
  },
  {
   "cell_type": "markdown",
   "id": "672296aa-b824-40dc-9834-620fc88291f2",
   "metadata": {},
   "source": [
    "**Solution.** Poker players say they \"hit the flop\" when the flop -- the first three board cards in Texas Holdem -- match one or more of Hero's hold cards. For Villain's $AQ$ hand above, hitting the flop would mean the flop contains an Ace or a Queen to make a pair or both which would make two pair. If the flop contained both a $K$ and a $J$, Villain would have a **straight draw** which indicates that Villain has 4 cards of the 5-card sequence needed for a straight. Draws are incomplete hands which need the \"luck of the draw\" to be valuable. Thus, we will not consider straight draws or flush draws in this example, only\n",
    "\n",
    "- 1 Pair\n",
    "- 2 Pair\n",
    "- Full House (e.g. A A Q Q Q)\n",
    "\n",
    "Let the set $X=\\{0,1,2,3\\}$ represent the number of cards that Villain hits on the flop. How often does he hit or miss the flop? Assuming Hero doesn't hold any of the cards Villain wants, then there are six cards in the deck (Aces and Queens) that improve Villain's hand to a pair that beats Hero's hand. The probability of Villain getting exactly one of those cards on the flop is:"
   ]
  },
  {
   "cell_type": "markdown",
   "id": "5a3b3210-e2a8-4acd-86eb-2f1c1d7a447c",
   "metadata": {},
   "source": [
    "$$P(X=1)=\\frac{\\binom{6}{1}\\binom{42}{2}}{\\binom{48}{3}}\\approx.29868$$"
   ]
  },
  {
   "cell_type": "markdown",
   "id": "c16e5b46-4c49-49ac-9142-6f88c7fca929",
   "metadata": {},
   "source": [
    "```{sidebar} Choose Notation\n",
    "In how many ways can $k$ items be selected from $n$ items if the order in which they are drawn does not matter?\n",
    "\n",
    "$$\\binom{n}{k} = \\frac{n!}{k!(n-k)!}$$\n",
    "```"
   ]
  },
  {
   "cell_type": "markdown",
   "id": "c78e2f64-e8ce-4b9c-abdf-411d51bfbd2e",
   "metadata": {},
   "source": [
    "We just used some counting techniques we haven't discussed, yet (shown at right). But don't worry. You'll know how to do these soon enough. Binomial coefficients like $\\binom{42}{2}$ are read as \"forty-two choose two\" and count all possible ways we can choose two cards from forty-two cards if order doesn't matter. \n",
    "\n",
    "Note that Villain could also have two or three of the flop cards hit his hand, and have a 2-pair hand or a straight. These hands are much less likely, but they change the probability somewhat if we include the probability of more than one flop card hitting Villain's hand. We must add the probabilities of hitting 2 and 3 cards on the flop, which gives:"
   ]
  },
  {
   "cell_type": "markdown",
   "id": "906e4407-ebc3-48c5-baf3-4c135e886936",
   "metadata": {},
   "source": [
    "$$P(X\\geq1)=\\frac{\\binom{6}{1}\\binom{42}{2}+\\binom{6}{2}\\binom{42}{1}+\\binom{6}{3}\\binom{42}{0}}{\\binom{48}{3}}\\approx.33597$$"
   ]
  },
  {
   "cell_type": "markdown",
   "id": "aa660ae5-5295-42c5-ba3f-b2ee21c71817",
   "metadata": {},
   "source": [
    "The upshot is that any poker player hits the flop about $1/3$ of the time. Of course, hands like $AA$, $KK$ and $QQ$ don't need to hit the flop, so we expect a fit-or-fold player to continue on with the hand about 40\\% of the time. Since Villain will miss the flop for more often than he hits it, our aggressive Hero can use the high likelihood of \"unimproved\" cards in villain's hand to bluff on the flop. This happens so often in poker that it has a name: a continuation bet, or **cbet**."
   ]
  }
 ],
 "metadata": {
  "kernelspec": {
   "display_name": "Python 3 (ipykernel)",
   "language": "python",
   "name": "python3"
  },
  "language_info": {
   "codemirror_mode": {
    "name": "ipython",
    "version": 3
   },
   "file_extension": ".py",
   "mimetype": "text/x-python",
   "name": "python",
   "nbconvert_exporter": "python",
   "pygments_lexer": "ipython3",
   "version": "3.8.20"
  }
 },
 "nbformat": 4,
 "nbformat_minor": 5
}
