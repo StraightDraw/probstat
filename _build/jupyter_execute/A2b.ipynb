{
 "cells": [
  {
   "cell_type": "markdown",
   "id": "5655c099-17a7-4a29-8f9e-7e53094bd7df",
   "metadata": {},
   "source": [
    "# Creating a Data Frame"
   ]
  },
  {
   "cell_type": "markdown",
   "id": "945f87ba-1b89-4575-8081-6b00a21611b2",
   "metadata": {},
   "source": [
    "When we receive the data as a table, we have to create our own vectors and data frame. The example below shows an example where soda is tested.\n",
    "\n",
    "## Example: Soda\n",
    "\n",
    "A beverage manufacturer is testing 3 sweeteners for its zero-carbs soda. Thirty taste-testers were given a 5-question survey about bevverage quality after tasting the soda. Ten of the thirty tested each version of the new soda. The results are shown below where higher scores indicate a more pleasant overall taste."
   ]
  },
  {
   "cell_type": "markdown",
   "id": "6136f22a-90f3-44e9-81f9-983fac62d20b",
   "metadata": {},
   "source": [
    "<table style=\"width:35%\">\n",
    "  <tr><th style=\"text-align: center;\">A</th><th style=\"text-align: center;\">B</th><th style=\"text-align: center;\">C</th></tr>\n",
    "  <tr><td style=\"text-align: center;\">13</td><td style=\"text-align: center;\">12</td><td style=\"text-align: center;\">7</td></tr>\n",
    "  <tr><td style=\"text-align: center;\">17</td><td style=\"text-align: center;\">8</td><td style=\"text-align: center;\">19</td></tr>\n",
    "  <tr><td style=\"text-align: center;\">19</td><td style=\"text-align: center;\">6</td><td style=\"text-align: center;\">15</td></tr>\n",
    "  <tr><td style=\"text-align: center;\">11</td><td style=\"text-align: center;\">16</td><td style=\"text-align: center;\">14</td></tr>\n",
    "  <tr><td style=\"text-align: center;\">20</td><td style=\"text-align: center;\">12</td><td style=\"text-align: center;\">10</td></tr>\n",
    "  <tr><td style=\"text-align: center;\">15</td><td style=\"text-align: center;\">14</td><td style=\"text-align: center;\">16</td></tr>\n",
    "  <tr><td style=\"text-align: center;\">18</td><td style=\"text-align: center;\">10</td><td style=\"text-align: center;\">18</td></tr>\n",
    "  <tr><td style=\"text-align: center;\">9</td><td style=\"text-align: center;\">18</td><td style=\"text-align: center;\">11</td></tr>\n",
    "  <tr><td style=\"text-align: center;\">12</td><td style=\"text-align: center;\">4</td><td style=\"text-align: center;\">14</td></tr>\n",
    "  <tr><td style=\"text-align: center;\">16</td><td style=\"text-align: center;\">11</td><td style=\"text-align: center;\">11</td></tr>\n",
    "</table>"
   ]
  },
  {
   "cell_type": "markdown",
   "id": "244c3285-a9c4-4ba9-bb2f-c9f863037ca4",
   "metadata": {},
   "source": [
    "## Creating 3 Vectors\n",
    "\n",
    "First, let's enter each column in the table above as a vector."
   ]
  },
  {
   "cell_type": "code",
   "execution_count": 1,
   "id": "3a5eb741-82bb-47ac-837f-3ae9b8f2ebfd",
   "metadata": {},
   "outputs": [],
   "source": [
    "a <- c(13, 17, 19, 11, 20, 15, 18, 9, 12, 16)\n",
    "b <- c(12, 8, 6, 16, 12, 14, 10, 18, 4, 11)\n",
    "c <- c(7, 19, 15, 14, 10, 16, 18, 11, 14, 11)\n",
    "data <- c(a,b,c)"
   ]
  },
  {
   "cell_type": "markdown",
   "id": "4b26f71b-51ed-4bef-9928-6237e6f433b8",
   "metadata": {},
   "source": [
    "The last line above combines the 3 vectors into a single numeric vector that will become the first column of our data frame.\n",
    "\n",
    "## Creating a Grouping Variable\n",
    "\n",
    "The next job is to create a single text vector that assigns each rating value to a sweetener group. We thus need 10 A's, 10 B's and 10 C's in that order, and we must use quotation marks so R will understand they are group ID's."
   ]
  },
  {
   "cell_type": "code",
   "execution_count": 2,
   "id": "4ae1a3df-a31f-434a-8214-1a2dffeb014a",
   "metadata": {},
   "outputs": [],
   "source": [
    "grp <- c('A','A','A','A','A','A','A','A','A','A','B','B','B','B','B','B','B','B','B','B','C','C','C','C','C','C','C','C','C','C')"
   ]
  },
  {
   "cell_type": "markdown",
   "id": "00e0eab6-785a-42f4-b8e8-e94f89540009",
   "metadata": {},
   "source": [
    "## Creating the Data Frame\n",
    "\n",
    "The **data.frame()** function is straightforward to use.\n",
    "\n",
    "The **factor()** allows us to specify a vector should be treated as a category variable and used (in this case) as a group ID. We can even use numbers to specify the group assignments as the function *factor()* will read the values in this vector as group ID's. "
   ]
  },
  {
   "cell_type": "code",
   "execution_count": 3,
   "id": "27261be8-ce72-45a5-aef7-5a1c9334dc96",
   "metadata": {},
   "outputs": [
    {
     "data": {
      "text/html": [
       "<table>\n",
       "<thead><tr><th scope=col>y</th><th scope=col>group</th></tr></thead>\n",
       "<tbody>\n",
       "\t<tr><td>13</td><td>A </td></tr>\n",
       "\t<tr><td>17</td><td>A </td></tr>\n",
       "\t<tr><td>19</td><td>A </td></tr>\n",
       "\t<tr><td>11</td><td>A </td></tr>\n",
       "\t<tr><td>20</td><td>A </td></tr>\n",
       "\t<tr><td>15</td><td>A </td></tr>\n",
       "\t<tr><td>18</td><td>A </td></tr>\n",
       "\t<tr><td> 9</td><td>A </td></tr>\n",
       "\t<tr><td>12</td><td>A </td></tr>\n",
       "\t<tr><td>16</td><td>A </td></tr>\n",
       "\t<tr><td>12</td><td>B </td></tr>\n",
       "</tbody>\n",
       "</table>\n"
      ],
      "text/latex": [
       "\\begin{tabular}{r|ll}\n",
       " y & group\\\\\n",
       "\\hline\n",
       "\t 13 & A \\\\\n",
       "\t 17 & A \\\\\n",
       "\t 19 & A \\\\\n",
       "\t 11 & A \\\\\n",
       "\t 20 & A \\\\\n",
       "\t 15 & A \\\\\n",
       "\t 18 & A \\\\\n",
       "\t  9 & A \\\\\n",
       "\t 12 & A \\\\\n",
       "\t 16 & A \\\\\n",
       "\t 12 & B \\\\\n",
       "\\end{tabular}\n"
      ],
      "text/markdown": [
       "\n",
       "| y | group |\n",
       "|---|---|\n",
       "| 13 | A  |\n",
       "| 17 | A  |\n",
       "| 19 | A  |\n",
       "| 11 | A  |\n",
       "| 20 | A  |\n",
       "| 15 | A  |\n",
       "| 18 | A  |\n",
       "|  9 | A  |\n",
       "| 12 | A  |\n",
       "| 16 | A  |\n",
       "| 12 | B  |\n",
       "\n"
      ],
      "text/plain": [
       "   y  group\n",
       "1  13 A    \n",
       "2  17 A    \n",
       "3  19 A    \n",
       "4  11 A    \n",
       "5  20 A    \n",
       "6  15 A    \n",
       "7  18 A    \n",
       "8   9 A    \n",
       "9  12 A    \n",
       "10 16 A    \n",
       "11 12 B    "
      ]
     },
     "metadata": {},
     "output_type": "display_data"
    }
   ],
   "source": [
    "df = data.frame(y = data, group = factor(grp))\n",
    "head(df, 11)"
   ]
  },
  {
   "cell_type": "markdown",
   "id": "e55f8041-55d4-4df4-8991-4aa13d30ed49",
   "metadata": {},
   "source": [
    "## Completing the Example\n",
    "\n",
    "As can be seen above, the data frame we created called **df** does have the proper values identified with the proper groups. Below, we run the ANOVA on these data to verify the data frame has been loaded properly."
   ]
  },
  {
   "cell_type": "code",
   "execution_count": 4,
   "id": "e2584ea2-0a90-4247-ad59-e8a4870b3028",
   "metadata": {},
   "outputs": [
    {
     "data": {
      "text/plain": [
       "            Df Sum Sq Mean Sq F value Pr(>F)  \n",
       "grp          2   77.4   38.70   2.515 0.0996 .\n",
       "Residuals   27  415.4   15.39                 \n",
       "---\n",
       "Signif. codes:  0 '***' 0.001 '**' 0.01 '*' 0.05 '.' 0.1 ' ' 1"
      ]
     },
     "metadata": {},
     "output_type": "display_data"
    }
   ],
   "source": [
    "anova <- aov(y ~ grp, data = df)\n",
    "summary(anova)"
   ]
  }
 ],
 "metadata": {
  "kernelspec": {
   "display_name": "R",
   "language": "R",
   "name": "ir"
  },
  "language_info": {
   "codemirror_mode": "r",
   "file_extension": ".r",
   "mimetype": "text/x-r-source",
   "name": "R",
   "pygments_lexer": "r",
   "version": "3.6.1"
  }
 },
 "nbformat": 4,
 "nbformat_minor": 5
}