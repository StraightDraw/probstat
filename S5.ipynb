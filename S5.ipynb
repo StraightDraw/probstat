{
 "cells": [
  {
   "cell_type": "markdown",
   "id": "275147f1-30f4-4e3a-a0a1-eae2b6bdbb21",
   "metadata": {},
   "source": [
    "# Statistical Estimation\n",
    "\n",
    "When scientists wish to estimate a value, they avoid a \"point estimate\" and prefer instead a **confidence interval** estimate. We are in search of an interval which, under repeated sampling, will capture the mean inside that interval a specified percentage of the time.\n",
    "\n",
    "## Summary of the Sleep Variable\n",
    "Let's consider a brief example where researchers wish to esimate the average number of hours of sleep students on the UNG Dahlonega campus get per night. Let's load, subset and summarize the correct vector of values:"
   ]
  },
  {
   "cell_type": "code",
   "execution_count": 67,
   "id": "65ee74a1-9853-4eb7-b53d-52129fc95874",
   "metadata": {},
   "outputs": [
    {
     "name": "stdout",
     "output_type": "stream",
     "text": [
      "Descriptive Statistics: \n",
      "  Mean = 6.24 \n",
      "  Standard Deviation = 2.13 \n",
      "  Sample Size = 129 \n",
      "\n",
      "The 5-number summary is shown below."
     ]
    },
    {
     "data": {
      "text/plain": [
       "   Min. 1st Qu.  Median    Mean 3rd Qu.    Max. \n",
       "   0.50    5.00    6.50    6.24    7.50   11.00 "
      ]
     },
     "metadata": {},
     "output_type": "display_data"
    }
   ],
   "source": [
    "pers <- read.csv('https://faculty.ung.edu/rsinn/data/personality.csv')\n",
    "sleep <-pers[,'Sleep']\n",
    "cat (\"Descriptive Statistics: \\n  Mean =\", round(mean(sleep),2), \"\\n  Standard Deviation =\", round(sd(sleep),2), \"\\n  Sample Size =\", length(sleep),\"\\n\\nThe 5-number summary is shown below.\")\n",
    "summary(sleep)"
   ]
  },
  {
   "cell_type": "markdown",
   "id": "5349af21-9aca-45d1-b577-4790f11bf916",
   "metadata": {},
   "source": [
    "## Shape\n",
    "\n",
    "To better understand the shape of population from which the data were drawn, let's plot a histogram and density plot."
   ]
  },
  {
   "cell_type": "code",
   "execution_count": 68,
   "id": "ee0246b5-3882-4f86-957b-40127ece7f73",
   "metadata": {},
   "outputs": [
    {
     "data": {
      "image/png": "[encoded data removed]",
      "text/plain": [
       "Plot with title \"density.default(x = sleep)\""
      ]
     },
     "metadata": {},
     "output_type": "display_data"
    }
   ],
   "source": [
    "layout(matrix(c(1,2), ncol = 2), height = lcm(12))\n",
    "hist(sleep)\n",
    "plot(density(sleep))"
   ]
  },
  {
   "cell_type": "markdown",
   "id": "eea24526-c3f9-4c61-99ab-9fefc1adf922",
   "metadata": {},
   "source": [
    "We find the distribution approximately normal and skewed left with possible (mild) evidence of bimodality. The data are appropriate for $t$-procedures, yet a pronounced and obvious bimodality might force us to reject the data as inappropriate.\n",
    "\n",
    "## Estimate\n",
    "\n",
    "**Question:** Find a 95% confidence interval estimate for the mean hours of sleep per night for UNG Dahlonega students using the *personality.csv* data set.\n",
    "\n",
    "To answer, we can use the **t.test** function which returns the confidence interval for any test we run. Here, we choose $\\mu = 7$ so that the function will run, not for any statistical reason."
   ]
  },
  {
   "cell_type": "code",
   "execution_count": 69,
   "id": "bc8c70d3-a482-46d4-9810-08ea37291b6c",
   "metadata": {},
   "outputs": [
    {
     "data": {
      "text/plain": [
       "\n",
       "\tOne Sample t-test\n",
       "\n",
       "data:  sleep\n",
       "t = -4.048, df = 128, p-value = 8.886e-05\n",
       "alternative hypothesis: true mean is not equal to 7\n",
       "95 percent confidence interval:\n",
       " 5.868974 6.611646\n",
       "sample estimates:\n",
       "mean of x \n",
       "  6.24031 \n"
      ]
     },
     "metadata": {},
     "output_type": "display_data"
    }
   ],
   "source": [
    "t.test(sleep, mu = 7)"
   ]
  },
  {
   "cell_type": "markdown",
   "id": "797e22c8-e6ed-4743-84a5-1888d5470d12",
   "metadata": {},
   "source": [
    "**Answer:** The 95% confidence interval for the mean of the Sleep variable is between $5.87$ and $6.61$. In interval notation, we have the following:\n",
    "\n",
    "$$\\mu \\in (5.87, 6.61)$$"
   ]
  },
  {
   "cell_type": "markdown",
   "id": "0efa1489-5f3b-4cf2-9a4b-0f776c15a1d8",
   "metadata": {},
   "source": [
    "Notice that the 95\\% level of confidence is the default. We can change it when needed as follows:"
   ]
  },
  {
   "cell_type": "code",
   "execution_count": 70,
   "id": "f677f60d-c903-4322-be31-484b4e768e9a",
   "metadata": {},
   "outputs": [
    {
     "data": {
      "text/plain": [
       "\n",
       "\tOne Sample t-test\n",
       "\n",
       "data:  sleep\n",
       "t = -4.048, df = 128, p-value = 8.886e-05\n",
       "alternative hypothesis: true mean is not equal to 7\n",
       "90 percent confidence interval:\n",
       " 5.929371 6.551249\n",
       "sample estimates:\n",
       "mean of x \n",
       "  6.24031 \n"
      ]
     },
     "metadata": {},
     "output_type": "display_data"
    }
   ],
   "source": [
    "t.test(sleep, mu = 7, conf.level = 0.90)"
   ]
  },
  {
   "cell_type": "markdown",
   "id": "5c5c5647-988c-44cc-b83f-36a714a75dc9",
   "metadata": {},
   "source": [
    "## $z$-Proportion Confidence Intervals\n",
    "\n",
    "If we are estimating the support for our condidate in an upcoming election and have polling data show that, in the Atlanta metro area, 512 likely voters will vote for her while 487 will vote against.\n",
    "\n",
    "### Data\n",
    "\n",
    "We must first create an observed matrix for the data collected which proceeds as follows:"
   ]
  },
  {
   "cell_type": "code",
   "execution_count": 71,
   "id": "40d6e856-3bd2-4497-a12e-14179b4d1caa",
   "metadata": {},
   "outputs": [
    {
     "data": {
      "text/html": [
       "<table>\n",
       "<tbody>\n",
       "\t<tr><td>512</td><td>486</td></tr>\n",
       "</tbody>\n",
       "</table>\n"
      ],
      "text/latex": [
       "\\begin{tabular}{ll}\n",
       "\t 512 & 486\\\\\n",
       "\\end{tabular}\n"
      ],
      "text/markdown": [
       "\n",
       "| 512 | 486 |\n",
       "\n"
      ],
      "text/plain": [
       "     [,1] [,2]\n",
       "[1,] 512  486 "
      ]
     },
     "metadata": {},
     "output_type": "display_data"
    }
   ],
   "source": [
    "obs <- matrix(c(512,486),ncol=2)\n",
    "obs"
   ]
  },
  {
   "cell_type": "markdown",
   "id": "9cbec8f9-1abb-48fc-ae0b-ee772d15fb69",
   "metadata": {},
   "source": [
    "### Assumptions\n",
    "\n",
    "The assumptions for confidence intervals are the same as the statistical tests using that variable. In this case, we need a reasonably large sample and proportion data which, by inspection, we clearly have."
   ]
  },
  {
   "cell_type": "markdown",
   "id": "6e9c3941-22a3-4ebe-972a-b94ed87d868e",
   "metadata": {},
   "source": [
    "### Estimate\n",
    "\n",
    "We will be using the **prop.test** function because it performs $z$-proportion testing, and we wish to produce a $z$-proportion confidence interval."
   ]
  },
  {
   "cell_type": "code",
   "execution_count": 72,
   "id": "ff99ff35-f5d2-4687-96bd-c9d2882f41e2",
   "metadata": {},
   "outputs": [
    {
     "data": {
      "text/plain": [
       "\n",
       "\t1-sample proportions test with continuity correction\n",
       "\n",
       "data:  obs, null probability 0.5\n",
       "X-squared = 0.62625, df = 1, p-value = 0.4287\n",
       "alternative hypothesis: true p is not equal to 0.5\n",
       "95 percent confidence interval:\n",
       " 0.4815254 0.5444252\n",
       "sample estimates:\n",
       "        p \n",
       "0.5130261 \n"
      ]
     },
     "metadata": {},
     "output_type": "display_data"
    }
   ],
   "source": [
    "prop.test(obs)"
   ]
  },
  {
   "cell_type": "markdown",
   "id": "3b2204ef-3642-4d6c-925f-70702de32e35",
   "metadata": {},
   "source": [
    "**Estimate:** The 95% confidence interval for the percentage of voters likely to vote for our candidate is between $48.2\\%$ and $54.4\\%$."
   ]
  },
  {
   "cell_type": "markdown",
   "id": "8c11e35b-c18c-460d-a6ac-a35bb2923ea4",
   "metadata": {},
   "source": [
    "As before, we can change the **conf.level** to $99\\%$ as follows:"
   ]
  },
  {
   "cell_type": "code",
   "execution_count": 73,
   "id": "2257baec-16b9-4a31-82cc-865c32bbced6",
   "metadata": {},
   "outputs": [
    {
     "data": {
      "text/plain": [
       "\n",
       "\t1-sample proportions test with continuity correction\n",
       "\n",
       "data:  obs, null probability 0.5\n",
       "X-squared = 0.62625, df = 1, p-value = 0.4287\n",
       "alternative hypothesis: true p is not equal to 0.5\n",
       "99 percent confidence interval:\n",
       " 0.4718216 0.5540563\n",
       "sample estimates:\n",
       "        p \n",
       "0.5130261 \n"
      ]
     },
     "metadata": {},
     "output_type": "display_data"
    }
   ],
   "source": [
    "prop.test(obs, conf.level = 0.99)"
   ]
  }
 ],
 "metadata": {
  "kernelspec": {
   "display_name": "R",
   "language": "R",
   "name": "ir"
  },
  "language_info": {
   "codemirror_mode": "r",
   "file_extension": ".r",
   "mimetype": "text/x-r-source",
   "name": "R",
   "pygments_lexer": "r",
   "version": "3.6.1"
  }
 },
 "nbformat": 4,
 "nbformat_minor": 5
}
