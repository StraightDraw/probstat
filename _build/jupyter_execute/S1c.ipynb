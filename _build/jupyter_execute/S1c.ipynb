{
 "cells": [
  {
   "cell_type": "markdown",
   "id": "614ef0d5-9cd9-40a2-af4e-071d1b6c99cb",
   "metadata": {
    "editable": true,
    "slideshow": {
     "slide_type": ""
    },
    "tags": []
   },
   "source": [
    "# EDA with 2 Variables\n",
    "\n",
    "Not all data sets have a single numeric variable. We have threee possible configurations of the 2-variable setting:\n",
    "- 2 category variables\n",
    "- 2 numeric variables\n",
    "- 1 numeric variable with 1 category variable"
   ]
  },
  {
   "cell_type": "markdown",
   "id": "240abe5b-84e3-457c-adb5-198476c3767f",
   "metadata": {},
   "source": [
    "## Category Variables\n",
    "\n",
    "With 2 category variables we wish to perform a cross-tabulation with **xtabs**, and we can visualize the scenario with a **mosaic plot**.\n",
    "\n",
    "### Example 1: Narcissism vs. Accept Date\n",
    "\n",
    "The AccDate question is as follows: \"At a time in your life when you are not romantically involved with anyone, a person asks you out. You believe this person has a wonderful personality, but you do not find this person physically attractive. Do you accept the date?\" The responses are Yes/No. \n",
    "\n",
    "**Research Question:** Do Y/N responses to AccDate question vary based upon biological sex?"
   ]
  },
  {
   "cell_type": "code",
   "execution_count": 1,
   "id": "696ab4a7-ad82-4d30-b52f-3cf58b97e652",
   "metadata": {},
   "outputs": [],
   "source": [
    "pers <- read.csv('https://faculty.ung.edu/rsinn/data/personality.csv')\n",
    "narc <- pers[ , c('AccDate','Sex')]"
   ]
  },
  {
   "cell_type": "markdown",
   "id": "9e074ff8-4607-43cc-8060-ded867834298",
   "metadata": {},
   "source": [
    "```{sidebar}\n",
    "We have a statistical formula of $\\sim A + B$ where the addition symbol indicates to R that a category variable follows.\n",
    "```\n",
    "\n",
    "Let's conduct a cross-tabulation of these two categorical variables."
   ]
  },
  {
   "cell_type": "code",
   "execution_count": 2,
   "id": "54ddc053-e8d0-4e24-845c-d3fd44c1af05",
   "metadata": {},
   "outputs": [
    {
     "data": {
      "text/plain": [
       "       Sex\n",
       "AccDate  F  M\n",
       "      N 28 28\n",
       "      Y 46 27"
      ]
     },
     "metadata": {},
     "output_type": "display_data"
    }
   ],
   "source": [
    "xtabs(~AccDate+Sex, data = narc)"
   ]
  },
  {
   "cell_type": "markdown",
   "id": "cce5b754-bed0-4890-a632-9b59d8ab6b96",
   "metadata": {},
   "source": [
    "**Analysis.** We see that the proportion of Yes/No responses is roughly equal for biological males (28/27), yet for biological females the responses favor \"yes\" (46/27). Hence, we have evidence for a difference in response to the question based upon biological sex of the respondant.\n",
    "\n",
    "Let's construct a **mosaicplot()** next to visualize the situation.\n",
    "\n",
    "```{tip}\n",
    "Note that we employ the same statistical formula in the mosaicplot() function as we did with xtabs().\n",
    "```"
   ]
  },
  {
   "cell_type": "code",
   "execution_count": 3,
   "id": "94dcb13b-09c3-4548-9308-c031feb33251",
   "metadata": {},
   "outputs": [
    {
     "data": {
      "image/png": "[encoded data removed]",
      "text/plain": [
       "Plot with title \"narc\""
      ]
     },
     "metadata": {},
     "output_type": "display_data"
    }
   ],
   "source": [
    "mosaicplot(~AccDate+Sex, data = narc)"
   ]
  },
  {
   "cell_type": "markdown",
   "id": "8c55319d-f079-4bec-bb9c-06eb5134361b",
   "metadata": {},
   "source": [
    "The analysis does not change. The visualization confirms a higher percentage of \"yes\" responses from biological females. This signals that the variable\n",
    "\n",
    "<center><span style=\"color:blue;font-weight:bold\">AccDate may be dependent upon Sex</span>.</center>"
   ]
  },
  {
   "cell_type": "markdown",
   "id": "c0043f6f-8c8b-4db0-967a-38243644dc25",
   "metadata": {},
   "source": [
    "## Example 2: Adult Playfulness vs. Optimism\n",
    "\n",
    "The variable **adult playfulness** indicates adults who have child-like qualities and who often excel at relating to children. These individuals may enjoy splashing through puddles, whistling, dancing or dressing up (or dressing down) just for fun. You can read more about adult playfulness in [Psychology Today](https://www.psychologytoday.com/us/blog/having-fun/201507/the-playful-adult).\n",
    "\n",
    "Does the playfulness quality correspond to Optimism?\n",
    "\n",
    "Let gather a subset from our **personality** data frame and construct a linear model to find out."
   ]
  },
  {
   "cell_type": "code",
   "execution_count": 4,
   "id": "df75a4d8-5750-4f28-8413-721622650f7a",
   "metadata": {},
   "outputs": [],
   "source": [
    "opt <- pers[ , c('Play', 'Opt')]"
   ]
  },
  {
   "cell_type": "markdown",
   "id": "3760d437-ab10-4744-8dad-508bd04d4929",
   "metadata": {},
   "source": [
    "```{tip}\n",
    "To add the **line of best fit** to the scatter plot, we must use the linear models function **lm()**. We create the linear model for **Play vs. Opt**, and we extract the line of best fit from the model using **abline()**.\n",
    "```"
   ]
  },
  {
   "cell_type": "code",
   "execution_count": 5,
   "id": "fa4888f1-9148-4511-b920-ef5e484e14f4",
   "metadata": {},
   "outputs": [
    {
     "data": {
      "image/png": "[encoded data removed]",
      "text/plain": [
       "plot without title"
      ]
     },
     "metadata": {},
     "output_type": "display_data"
    }
   ],
   "source": [
    "mod <- lm(Play ~ Opt, data = opt)  ## Creating linear model\n",
    "plot(Play ~ Opt, data = opt)       ## Producing scatter plot\n",
    "abline(mod, lwd = 3, col = 'blue') ## Adding line of best fit from model"
   ]
  },
  {
   "cell_type": "markdown",
   "id": "f75541f6-3c59-4d3f-9f21-33467097db96",
   "metadata": {},
   "source": [
    "**Analysis.** For scatter plots, the line of best fit will be perfectly horizontal or flat if **no correlation at all** exists. If some linear relationship is present, the slope of the line of best fit will be significantly different from zero. Here, we see a significant positive slope and thus expect to find a positive linear correlation between **playfulness** and **optimism**.\n",
    "\n",
    "## Example #: Perfectionism vs. Preferred Seat in Class\n",
    "\n",
    "The **SitClass** variable provides a response the question: \"You arrive in your classroom when almost no one is present, so almost every seat in the class is open. Do you prefer to sit in front, middle or back?\n",
    "\n",
    "**Research Question.** Does class seating preference vary based upon a student's level of **perfectionism**?"
   ]
  },
  {
   "cell_type": "code",
   "execution_count": 6,
   "id": "05dc6fb5-a3d3-4982-a489-cfdc45ca217c",
   "metadata": {},
   "outputs": [
    {
     "data": {
      "image/png": "[encoded data removed]",
      "text/plain": [
       "plot without title"
      ]
     },
     "metadata": {},
     "output_type": "display_data"
    }
   ],
   "source": [
    "perf <- pers[ , c('Perf','SitClass')]\n",
    "boxplot(Perf ~ SitClass, data = perf)"
   ]
  },
  {
   "cell_type": "markdown",
   "id": "f17c44ad-9b36-457d-8a14-057d8051a1ef",
   "metadata": {},
   "source": [
    "**Analysis.** Some variation due to **Perfectionism** appears to exist due to seating preferences.\n",
    "- Those preferring the front have the highest perfectionism scores.\n",
    "- Those preferring the back have the lowest perfectionishm scores.\n",
    "\n",
    "Those who prefer seats in the middle of the classroom are in between, but outliers are present. A statistical test (ANOVA) would be quite useful and helpful, here, as it would help us parse the differences in perfectionism based upon seating preference."
   ]
  },
  {
   "cell_type": "code",
   "execution_count": null,
   "id": "f1f869c0-fd44-4a77-8681-ec24103d2803",
   "metadata": {},
   "outputs": [],
   "source": []
  }
 ],
 "metadata": {
  "kernelspec": {
   "display_name": "R",
   "language": "R",
   "name": "ir"
  },
  "language_info": {
   "codemirror_mode": "r",
   "file_extension": ".r",
   "mimetype": "text/x-r-source",
   "name": "R",
   "pygments_lexer": "r",
   "version": "3.6.1"
  }
 },
 "nbformat": 4,
 "nbformat_minor": 5
}