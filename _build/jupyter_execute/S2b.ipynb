{
 "cells": [
  {
   "cell_type": "markdown",
   "id": "dda6d2d3-593f-499b-9a3d-da6a45101032",
   "metadata": {},
   "source": [
    "# Sampling Distributions Examples"
   ]
  },
  {
   "cell_type": "markdown",
   "id": "cfe5d9e4-8cd4-4ad7-b249-ca7f2e302f77",
   "metadata": {},
   "source": [
    "We will need to import some data to work with sampling distributions."
   ]
  },
  {
   "cell_type": "code",
   "execution_count": 1,
   "id": "3c76eb4f-8684-433b-bf80-6a636db6a8d9",
   "metadata": {},
   "outputs": [],
   "source": [
    "united <- read.csv('http://faculty.ung.edu/rsinn/data/united.csv')\n",
    "p <- read.csv('http://faculty.ung.edu/rsinn/data/personality.csv')\n",
    "airports <- read.csv('http://faculty.ung.edu/rsinn/data/airports.csv')\n",
    "births <-  read.csv('http://faculty.ung.edu/rsinn/data/baby.csv')"
   ]
  },
  {
   "cell_type": "markdown",
   "id": "18c2a72f-f438-4959-9b5f-8efdcafd2588",
   "metadata": {},
   "source": [
    "We also need our **sample.data.frame()** function."
   ]
  },
  {
   "cell_type": "code",
   "execution_count": 2,
   "id": "95c59a1e-5819-4b2c-917e-4455d176fb20",
   "metadata": {},
   "outputs": [],
   "source": [
    "sample.data.frame <- function(x, size, replace = FALSE, prob = NULL, groups=NULL, \n",
    "                              orig.ids = TRUE, fixed = names(x), shuffled = c(),\n",
    "                              invisibly.return = NULL, ...) {\n",
    "  if( missing(size) ) size = nrow(x)\n",
    "  if( is.null(invisibly.return) ) invisibly.return = size>50 \n",
    "  shuffled <- intersect(shuffled, names(x))\n",
    "  fixed <- setdiff(intersect(fixed, names(x)), shuffled)\n",
    "  n <- nrow(x)\n",
    "  ids <- 1:n\n",
    "  groups <- eval( substitute(groups), x )\n",
    "  newids <- sample(n, size, replace=replace, prob=prob, ...)\n",
    "  origids <- ids[newids]\n",
    "  result <- x[newids, , drop=FALSE]\n",
    "  \n",
    "  idsString <- as.character(origids)\n",
    "  \n",
    "  for (column in shuffled) {\n",
    "    cids <- sample(newids, groups=groups[newids])\n",
    "    result[,column] <- x[cids,column]\n",
    "    idsString <- paste(idsString, \".\", cids, sep=\"\")\n",
    "  }\n",
    "  \n",
    "  result <-  result[ , union(fixed,shuffled), drop=FALSE]\n",
    "  if (orig.ids) result$orig.id <- idsString\n",
    "  \n",
    "  \n",
    "  if (invisibly.return) { return(invisible(result)) } else {return(result)}\n",
    "}"
   ]
  },
  {
   "cell_type": "markdown",
   "id": "38fb526b-d55a-41ad-ba1f-af02948678c6",
   "metadata": {},
   "source": [
    "## Example 1: United Airlines and Flight Delays\n",
    "\n",
    "We have a list of nearly 14,000 flights from United airlines together with the flight numbers, destinations, and delays for each flight. Let's inspect a few rows of the data frame below."
   ]
  },
  {
   "cell_type": "code",
   "execution_count": 3,
   "id": "0b07beb1-36b1-4c0f-b4db-3c1fcc2f74fe",
   "metadata": {},
   "outputs": [
    {
     "data": {
      "text/html": [
       "<table>\n",
       "<thead><tr><th scope=col>Date</th><th scope=col>Flight.Number</th><th scope=col>Destination</th><th scope=col>Delay</th></tr></thead>\n",
       "<tbody>\n",
       "\t<tr><td>6/1/15</td><td> 73   </td><td>HNL   </td><td>257   </td></tr>\n",
       "\t<tr><td>6/1/15</td><td>217   </td><td>EWR   </td><td> 28   </td></tr>\n",
       "\t<tr><td>6/1/15</td><td>237   </td><td>STL   </td><td> -3   </td></tr>\n",
       "\t<tr><td>6/1/15</td><td>250   </td><td>SAN   </td><td>  0   </td></tr>\n",
       "\t<tr><td>6/1/15</td><td>267   </td><td>PHL   </td><td> 64   </td></tr>\n",
       "</tbody>\n",
       "</table>\n"
      ],
      "text/latex": [
       "\\begin{tabular}{r|llll}\n",
       " Date & Flight.Number & Destination & Delay\\\\\n",
       "\\hline\n",
       "\t 6/1/15 &  73    & HNL    & 257   \\\\\n",
       "\t 6/1/15 & 217    & EWR    &  28   \\\\\n",
       "\t 6/1/15 & 237    & STL    &  -3   \\\\\n",
       "\t 6/1/15 & 250    & SAN    &   0   \\\\\n",
       "\t 6/1/15 & 267    & PHL    &  64   \\\\\n",
       "\\end{tabular}\n"
      ],
      "text/markdown": [
       "\n",
       "| Date | Flight.Number | Destination | Delay |\n",
       "|---|---|---|---|\n",
       "| 6/1/15 |  73    | HNL    | 257    |\n",
       "| 6/1/15 | 217    | EWR    |  28    |\n",
       "| 6/1/15 | 237    | STL    |  -3    |\n",
       "| 6/1/15 | 250    | SAN    |   0    |\n",
       "| 6/1/15 | 267    | PHL    |  64    |\n",
       "\n"
      ],
      "text/plain": [
       "  Date   Flight.Number Destination Delay\n",
       "1 6/1/15  73           HNL         257  \n",
       "2 6/1/15 217           EWR          28  \n",
       "3 6/1/15 237           STL          -3  \n",
       "4 6/1/15 250           SAN           0  \n",
       "5 6/1/15 267           PHL          64  "
      ]
     },
     "metadata": {},
     "output_type": "display_data"
    }
   ],
   "source": [
    "head(united, 5)"
   ]
  },
  {
   "cell_type": "markdown",
   "id": "288eed6a-79f7-4f9c-a6cb-ee115535d8b0",
   "metadata": {},
   "source": [
    "### Distribution\n",
    "\n",
    "Before we use the CLT and Law of Large Numbers to estimate the average delay for a United flight, let's inspect the distribution of delays in the original data frame. We will calculate the mean along with displaying the distribution using a histogram."
   ]
  },
  {
   "cell_type": "code",
   "execution_count": 4,
   "id": "e8e2dab5-8940-40e9-b713-bfd1ec32f3f0",
   "metadata": {},
   "outputs": [
    {
     "name": "stdout",
     "output_type": "stream",
     "text": [
      "The mean of the United delays distribution: 16.65816"
     ]
    },
    {
     "data": {
      "image/png": "[encoded data removed]",
      "text/plain": [
       "Plot with title \"Histogram: United Delays\""
      ]
     },
     "metadata": {},
     "output_type": "display_data"
    }
   ],
   "source": [
    "cat('The mean of the United delays distribution:', mean(united[ , 'Delay'])) \n",
    "hist(united[ , 'Delay'], main = 'Histogram: United Delays')"
   ]
  },
  {
   "cell_type": "markdown",
   "id": "10ecb88a-b06c-4f1a-be81-91ef2e0d204f",
   "metadata": {},
   "source": [
    "**Histograms and Bin Widths**\n",
    "\n",
    "We have too few bars in our histogram. We can control how many bars are produced (and the bin width or interval width along the $x$-axis) with the **breaks** option. Try seveal values between 50 and 150 to see which shows the best picture of this distribution."
   ]
  },
  {
   "cell_type": "code",
   "execution_count": 5,
   "id": "c370e857-ca2d-4bdf-96fc-e29e68b46209",
   "metadata": {},
   "outputs": [
    {
     "name": "stdout",
     "output_type": "stream",
     "text": [
      "The mean of the United delays distribution: 16.65816"
     ]
    },
    {
     "data": {
      "image/png": "[encoded data removed]",
      "text/plain": [
       "Plot with title \"Histogram: United Delays\""
      ]
     },
     "metadata": {},
     "output_type": "display_data"
    }
   ],
   "source": [
    "cat('The mean of the United delays distribution:', mean(united[ , 'Delay'])) \n",
    "hist(united[ , 'Delay'], breaks = 75, main = 'Histogram: United Delays')"
   ]
  },
  {
   "cell_type": "markdown",
   "id": "8616921f-e2e1-4690-b5ab-8d9ce37c8807",
   "metadata": {},
   "source": [
    "### Your Task\n",
    "\n",
    "Use sampling distributions to estimate the average delay in the United data set. Use the following sample sizes:\n",
    "\n",
    "1. 10\n",
    "2. 25\n",
    "3. 50\n",
    "4. 100\n",
    "5. 250"
   ]
  },
  {
   "cell_type": "code",
   "execution_count": 6,
   "id": "c97e20ba-7da3-4706-a4e9-106a69da878c",
   "metadata": {},
   "outputs": [
    {
     "name": "stdout",
     "output_type": "stream",
     "text": [
      "Standard deviation of sampling distribution: 12.61294 \n",
      "The middle 90% of sampling distribution: ( 2.4 , 40.61 )."
     ]
    },
    {
     "data": {
      "image/png": "[encoded data removed]",
      "text/plain": [
       "Plot with title \"Histogram: Delay Distribution (n=10)\""
      ]
     },
     "metadata": {},
     "output_type": "display_data"
    }
   ],
   "source": [
    "u_means <- c()\n",
    "\n",
    "for (count in 1:1000){\n",
    "    sample <- sample.data.frame(united, 10, orig.ids = F)        #Controls sample size\n",
    "    u_means[count] <- mean(sample[ , 'Delay'])\n",
    "}\n",
    "\n",
    "hi <- quantile(u_means, prob = 0.95)\n",
    "lo <- quantile(u_means, prob = 0.05)\n",
    "cat(\"Standard deviation of sampling distribution:\", sd(u_means), '\\nThe middle 90% of sampling distribution: (',lo,',',hi,').')\n",
    "hist(u_means, breaks = 20, main = 'Histogram: Delay Distribution (n=10)')\n",
    "abline( v = lo, col=\"blue\")\n",
    "abline(v = hi, col=\"blue\")"
   ]
  },
  {
   "cell_type": "code",
   "execution_count": 7,
   "id": "fab65627-5783-47b6-867b-4331157792ca",
   "metadata": {},
   "outputs": [
    {
     "name": "stdout",
     "output_type": "stream",
     "text": [
      "Standard deviation of sampling distribution: 12.61294 \n",
      "The middle 90% of sampling distribution: ( 5.998 , 29.966 )."
     ]
    },
    {
     "data": {
      "image/png": "[encoded data removed]",
      "text/plain": [
       "Plot with title \"Histogram: Delay Distribution (n=25)\""
      ]
     },
     "metadata": {},
     "output_type": "display_data"
    }
   ],
   "source": [
    "u_means1 <- c()\n",
    "\n",
    "for (count in 1:1000){\n",
    "    sample <- sample.data.frame(united, 25, orig.ids = F)        #Controls sample size\n",
    "    u_means1[count] <- mean(sample[ , 'Delay'])\n",
    "}\n",
    "\n",
    "hi1 <- quantile(u_means1, prob = 0.95)\n",
    "lo1 <- quantile(u_means1, prob = 0.05)\n",
    "cat(\"Standard deviation of sampling distribution:\", sd(u_means), '\\nThe middle 90% of sampling distribution: (',lo1,',',hi1,').')\n",
    "hist(u_means1, breaks = 20, main = 'Histogram: Delay Distribution (n=25)')\n",
    "abline( v = lo1, col=\"blue\")\n",
    "abline(v = hi1, col=\"blue\")"
   ]
  },
  {
   "cell_type": "code",
   "execution_count": 8,
   "id": "731f613f-ac0e-4512-b1be-ef6179aab5cf",
   "metadata": {},
   "outputs": [
    {
     "name": "stdout",
     "output_type": "stream",
     "text": [
      "Standard deviation of sampling distribution: 12.61294 \n",
      "The middle 90% of sampling distribution: ( 8.276 , 25.961 )."
     ]
    },
    {
     "data": {
      "image/png": "[encoded data removed]",
      "text/plain": [
       "Plot with title \"Histogram: Delay Distribution (n=50)\""
      ]
     },
     "metadata": {},
     "output_type": "display_data"
    }
   ],
   "source": [
    "u_means2 <- c()\n",
    "\n",
    "for (count in 1:1000){\n",
    "    sample <- sample.data.frame(united, 50, orig.ids = F)        #Controls sample size\n",
    "    u_means2[count] <- mean(sample[ , 'Delay'])\n",
    "}\n",
    "\n",
    "hi2 <- quantile(u_means2, prob = 0.95)\n",
    "lo2 <- quantile(u_means2, prob = 0.05)\n",
    "cat(\"Standard deviation of sampling distribution:\", sd(u_means), '\\nThe middle 90% of sampling distribution: (',lo2,',',hi2,').')\n",
    "hist(u_means1, breaks = 20, main = 'Histogram: Delay Distribution (n=50)')\n",
    "abline( v = lo2, col=\"blue\")\n",
    "abline(v = hi2, col=\"blue\")"
   ]
  },
  {
   "cell_type": "code",
   "execution_count": 9,
   "id": "d23857b6-aefe-4a58-97a8-b554d884f21b",
   "metadata": {},
   "outputs": [
    {
     "name": "stdout",
     "output_type": "stream",
     "text": [
      "Standard deviation of sampling distribution: 12.61294 \n",
      "The middle 90% of sampling distribution: ( 10.2995 , 23.7015 )."
     ]
    },
    {
     "data": {
      "image/png": "[encoded data removed]",
      "text/plain": [
       "Plot with title \"Histogram: Delay Distribution (n=100)\""
      ]
     },
     "metadata": {},
     "output_type": "display_data"
    }
   ],
   "source": [
    "u_means3 <- c()\n",
    "\n",
    "for (count in 1:1000){\n",
    "    sample <- sample.data.frame(united, 100, orig.ids = F)        #Controls sample size\n",
    "    u_means3[count] <- mean(sample[ , 'Delay'])\n",
    "}\n",
    "\n",
    "hi3 <- quantile(u_means3, prob = 0.95)\n",
    "lo3 <- quantile(u_means3, prob = 0.05)\n",
    "cat(\"Standard deviation of sampling distribution:\", sd(u_means), '\\nThe middle 90% of sampling distribution: (',lo3,',',hi3,').')\n",
    "hist(u_means3, breaks = 20, main = 'Histogram: Delay Distribution (n=100)')\n",
    "abline( v = lo3, col=\"blue\")\n",
    "abline(v = hi3, col=\"blue\")"
   ]
  },
  {
   "cell_type": "code",
   "execution_count": 10,
   "id": "6684d6db-262a-42e3-b09e-904007369455",
   "metadata": {},
   "outputs": [
    {
     "name": "stdout",
     "output_type": "stream",
     "text": [
      "Standard deviation of sampling distribution: 12.61294 \n",
      "The middle 90% of sampling distribution: ( 12.9196 , 20.9628 )."
     ]
    },
    {
     "data": {
      "image/png": "[encoded data removed]",
      "text/plain": [
       "Plot with title \"Histogram: Delay Distribution (n=250)\""
      ]
     },
     "metadata": {},
     "output_type": "display_data"
    }
   ],
   "source": [
    "u_means4 <- c()\n",
    "\n",
    "for (count in 1:1000){\n",
    "    sample <- sample.data.frame(united, 250, orig.ids = F)        #Controls sample size\n",
    "    u_means4[count] <- mean(sample[ , 'Delay'])\n",
    "}\n",
    "\n",
    "hi4 <- quantile(u_means4, prob = 0.95)\n",
    "lo4 <- quantile(u_means4, prob = 0.05)\n",
    "cat(\"Standard deviation of sampling distribution:\", sd(u_means), '\\nThe middle 90% of sampling distribution: (',lo4,',',hi4,').')\n",
    "hist(u_means4, breaks = 20, main = 'Histogram: Delay Distribution (n=250)')\n",
    "abline( v = lo4, col=\"blue\")\n",
    "abline(v = hi4, col=\"blue\")"
   ]
  },
  {
   "cell_type": "code",
   "execution_count": 11,
   "id": "6561eae3-de7d-468a-89ec-314eb445103f",
   "metadata": {},
   "outputs": [
    {
     "name": "stdout",
     "output_type": "stream",
     "text": [
      "For n = 10, the standard deviation was  12.61294  and the middle 90% was between  2.4  and  40.61 \n"
     ]
    },
    {
     "name": "stdout",
     "output_type": "stream",
     "text": [
      "For n = 25, the standard deviation was  7.522321  and the middle 90% was between  5.998  and  29.966 \n"
     ]
    },
    {
     "name": "stdout",
     "output_type": "stream",
     "text": [
      "For n = 50, the standard deviation was  5.449524  and the middle 90% was between  8.276  and  25.961 \n"
     ]
    },
    {
     "name": "stdout",
     "output_type": "stream",
     "text": [
      "For n = 100, the standard deviation was  3.989302  and the middle 90% was between  10.2995  and  23.7015 \n"
     ]
    },
    {
     "name": "stdout",
     "output_type": "stream",
     "text": [
      "For n = 250, the standard deviation was  2.463624  and the middle 90% was between  12.9196  and  20.9628 \n"
     ]
    }
   ],
   "source": [
    "cat('For n = 10, the standard deviation was ',sd(u_means),' and the middle 90% was between ',lo,' and ',hi,'\\n')\n",
    "cat('For n = 25, the standard deviation was ',sd(u_means1),' and the middle 90% was between ',lo1,' and ',hi1,'\\n')\n",
    "cat('For n = 50, the standard deviation was ',sd(u_means2),' and the middle 90% was between ',lo2,' and ',hi2,'\\n')\n",
    "cat('For n = 100, the standard deviation was ',sd(u_means3),' and the middle 90% was between ',lo3,' and ',hi3,'\\n')\n",
    "cat('For n = 250, the standard deviation was ',sd(u_means4),' and the middle 90% was between ',lo4,' and ',hi4,'\\n')"
   ]
  },
  {
   "cell_type": "code",
   "execution_count": null,
   "id": "0872617a-60e9-4df6-8a07-134e56384c35",
   "metadata": {},
   "outputs": [],
   "source": []
  },
  {
   "cell_type": "code",
   "execution_count": null,
   "id": "c8736a7e-366c-4e6c-b4f0-78fc15c3ec93",
   "metadata": {},
   "outputs": [],
   "source": []
  }
 ],
 "metadata": {
  "kernelspec": {
   "display_name": "R",
   "language": "R",
   "name": "ir"
  },
  "language_info": {
   "codemirror_mode": "r",
   "file_extension": ".r",
   "mimetype": "text/x-r-source",
   "name": "R",
   "pygments_lexer": "r",
   "version": "3.6.1"
  }
 },
 "nbformat": 4,
 "nbformat_minor": 5
}