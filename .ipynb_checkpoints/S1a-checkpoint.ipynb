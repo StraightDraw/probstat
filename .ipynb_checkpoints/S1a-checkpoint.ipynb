{
 "cells": [
  {
   "cell_type": "markdown",
   "id": "48abcacf-7e11-4b34-8a77-8a87c5a58da3",
   "metadata": {},
   "source": [
    "# Exploratory Data Analysis"
   ]
  },
  {
   "cell_type": "markdown",
   "id": "803fcb6a-fdfb-4a67-9daa-05f96eb1962e",
   "metadata": {},
   "source": [
    "The 2 key questions as we conduct an <span style=\"color: purple\"><b>exploratory data analysis</b></span> are as follows:\n",
    "\n",
    "- What is the **shape of the distribution**?\n",
    "- Do **outliers** or **skew** exist?\n",
    "\n",
    "The most significant shape of distributions for introductory statistics is the *normal distribution* since parametric statistical tests like the\n",
    "\n",
    "- $z$-test,\n",
    "- $t$-test, and\n",
    "- ANOVA\n",
    "\n",
    "are built on assumptions of **normality**. We also need to know whether or not skew and outliers exist because we often must treat skewed data and outliers with care and possibly different tools."
   ]
  },
  {
   "cell_type": "markdown",
   "id": "43205314-e8ec-4c12-96d8-fa09d20a0c60",
   "metadata": {},
   "source": [
    "## Types of Data\n",
    "Data come in two varieties: **quantitative** (numeric) or **qualitative** (categorical) data. Poker player Pete plays Heads Up tournaments with a 20 dollar buy-in (HU20). These two-player tournaments take less than half an hour where he either loses 21, or wins 19. (The online casino takes a cut of each tournament buy-in, called the *rake*.) Pete's HU20 win-loss record is *category data*, a series of W's and L's.\n",
    "\n",
    "Pete's friend Mandy, a math major with a data science minor at North Georgia, enjoys 6-max NL10, an action-intensive version of No Limit Texas Holdem with a maximum of 6 players at the table rather than the standard 9 or 10 players per table. Mandy's list of winnings from her past twenty cash game sessions is *numeric data*.\n",
    "\n",
    "For numeric data sets, we have a **sample** of $n$ data points: \n",
    "\n",
    "$$\\{x_1,x_2,…,x_n\\}∈X$$"
   ]
  },
  {
   "cell_type": "markdown",
   "id": "16a05bf3-670d-47e7-9365-ed9678096d16",
   "metadata": {},
   "source": [
    "## Parameters and Statistics\n",
    "\n",
    "We will continue to emphasize the difference between **parameters** and **statistics**:\n",
    "\n",
    "$$\n",
    "\\begin{array}{c|cc}\n",
    "&\\text{Population}&\\text{Sample}\\\\ \\hline\n",
    "\\text{AVG}&\\mu&\\bar{x}\\\\\n",
    "\\text{SD}&\\sigma& s\\\\\n",
    "\\end{array}\n",
    "$$"
   ]
  },
  {
   "cell_type": "markdown",
   "id": "f43cf68a-f3bc-4287-924c-71449b5eeee2",
   "metadata": {},
   "source": [
    "### Parameters\n",
    "\n",
    "The population parameters of mean $\\mu$ and standard deviation $\\sigma$ are typically the values of greatest interest. Also typically, they are rarely known. Consider a study at UNG Dahlonega where we wish to know the *Perfectionism* levels for undergraduate students. We know little about the overall population parameters but can collect sample data from, say, 200 students to launch our investigation."
   ]
  },
  {
   "cell_type": "markdown",
   "id": "f69f8523-de04-446e-91f2-52f4dd4f63c6",
   "metadata": {},
   "source": [
    "```{sidebar} **Law of Large Numbers**\n",
    "Larger sample sizes lead to increased accuracy of our estimates. We are typically estimating the mean, but the law applies to all parameters we estimate with statistical methods.\n",
    "```"
   ]
  },
  {
   "cell_type": "markdown",
   "id": "732b2b12-d9fc-4721-8b5e-ff70b11ed183",
   "metadata": {},
   "source": [
    "### Statistics\n",
    "\n",
    "The sample statistics of mean $\\bar x$ and standard deviation $s$ are known and thus can be used to estimate the population parameters. The accuracy of the estimates will depend upon two things, among others:\n",
    "\n",
    "1. Shape of the data\n",
    "2. Sample size\n",
    "\n",
    "The shape of the distribution the data are drawn from matters due to the fact that we handle different distributions in different ways. Larger samples lead to improved accuracy."
   ]
  },
  {
   "cell_type": "markdown",
   "id": "0f8d3049-034f-47ad-a382-0b7c2fea0051",
   "metadata": {},
   "source": [
    "```{admonition} Example 1\n",
    "Recall our data from Example 1 which were winnings and losses from Mandy's 20 most recent poker sessions.\n",
    "```\n",
    "\n",
    "<table style=\"width:60%\">\n",
    "  <tr>\n",
    "    <td style='text-align:center; vertical-align:middle'>28</td>\n",
    "    <td style='text-align:center; vertical-align:middle'>11</td>\n",
    "    <td style='text-align:center; vertical-align:middle'>18</td>\n",
    "    <td style='text-align:center; vertical-align:middle'>35</td>\n",
    "    <td style='text-align:center; vertical-align:middle'>36</td>\n",
    "    <td style='text-align:center; vertical-align:middle'>6</td>\n",
    "    <td style='text-align:center; vertical-align:middle'>-38</td>\n",
    "    <td style='text-align:center; vertical-align:middle'>14</td>\n",
    "    <td style='text-align:center; vertical-align:middle'>-19</td>\n",
    "    <td style='text-align:center; vertical-align:middle'>43</td>\n",
    "  </tr>\n",
    "  <tr>\n",
    "    <td style='text-align:center; vertical-align:middle'>-14</td>\n",
    "    <td style='text-align:center; vertical-align:middle'>-30</td>\n",
    "    <td style='text-align:center; vertical-align:middle'>-16</td>\n",
    "    <td style='text-align:center; vertical-align:middle'>-25</td>\n",
    "    <td style='text-align:center; vertical-align:middle'>0</td>\n",
    "    <td style='text-align:center; vertical-align:middle'>40</td>\n",
    "    <td style='text-align:center; vertical-align:middle'>16</td>\n",
    "    <td style='text-align:center; vertical-align:middle'>-79</td>\n",
    "    <td style='text-align:center; vertical-align:middle'>3</td>\n",
    "    <td style='text-align:center; vertical-align:middle'>1</td>\n",
    "  </tr>\n",
    "</table>"
   ]
  },
  {
   "cell_type": "markdown",
   "id": "14f86fc7-05b2-4e42-8d19-4d4699fbc270",
   "metadata": {},
   "source": [
    "### Concatenation\n",
    "\n",
    "We use the concatenate function **c** to gather this list of integers into an vector of values as shown below."
   ]
  },
  {
   "cell_type": "code",
   "execution_count": 1,
   "id": "4109536a-5d55-4268-8295-00a680549a46",
   "metadata": {},
   "outputs": [],
   "source": [
    "W <- c( 28, 11, 18, 35, 36, 6, -38, 14, -19, 43, -14, -30, -16, -25, 0, 40, 16, -79, 3, 11)"
   ]
  },
  {
   "cell_type": "markdown",
   "id": "16cded67-fe4b-457d-a0ce-459cce42dbd8",
   "metadata": {},
   "source": [
    "The **head** function allows us to preview only a few rows or items in the object $W$."
   ]
  },
  {
   "cell_type": "code",
   "execution_count": 2,
   "id": "d51c67d6-13d2-4ec9-9953-01512e8d4e95",
   "metadata": {},
   "outputs": [
    {
     "data": {
      "text/html": [
       "<ol class=list-inline>\n",
       "\t<li>28</li>\n",
       "\t<li>11</li>\n",
       "\t<li>18</li>\n",
       "\t<li>35</li>\n",
       "</ol>\n"
      ],
      "text/latex": [
       "\\begin{enumerate*}\n",
       "\\item 28\n",
       "\\item 11\n",
       "\\item 18\n",
       "\\item 35\n",
       "\\end{enumerate*}\n"
      ],
      "text/markdown": [
       "1. 28\n",
       "2. 11\n",
       "3. 18\n",
       "4. 35\n",
       "\n",
       "\n"
      ],
      "text/plain": [
       "[1] 28 11 18 35"
      ]
     },
     "metadata": {},
     "output_type": "display_data"
    }
   ],
   "source": [
    "head(W, 4)"
   ]
  },
  {
   "cell_type": "markdown",
   "id": "65b59818-ab65-4177-96e8-4ccd87a599f8",
   "metadata": {},
   "source": [
    "We can calculate and store the mean, standard deviation, and sample size as $m$, $s$, $n$, We use the **length()** function to determine sample size, and we illustrate the **rounding** function along the way:"
   ]
  },
  {
   "cell_type": "code",
   "execution_count": 3,
   "id": "5838b494-9c7a-419d-9026-28c5be0989cb",
   "metadata": {},
   "outputs": [],
   "source": [
    "m <- mean(W)\n",
    "s <- round(sd(W),2)\n",
    "n <- length(W)"
   ]
  },
  {
   "cell_type": "markdown",
   "id": "46bb8fb7-1e25-4092-9df9-84272dc05863",
   "metadata": {},
   "source": [
    "The **cat** function provides a hybrid of the *concatenation* and *print* functions. We can edit text and include the outputs of variables. Below, the *cat* function organizes our descriptive statistics."
   ]
  },
  {
   "cell_type": "code",
   "execution_count": 4,
   "id": "c5f87df3-4cfc-4422-ae46-c5f65a73b82f",
   "metadata": {},
   "outputs": [
    {
     "name": "stdout",
     "output_type": "stream",
     "text": [
      "Descriptive Statistics: \n",
      "  mean = 2 \n",
      "  standard deviation = 30.57 \n",
      "  sample size = 20 \n",
      "\n",
      "The 5-number summary is shown below."
     ]
    },
    {
     "data": {
      "text/plain": [
       "   Min. 1st Qu.  Median    Mean 3rd Qu.    Max. \n",
       " -79.00  -16.75    8.50    2.00   20.50   43.00 "
      ]
     },
     "metadata": {},
     "output_type": "display_data"
    }
   ],
   "source": [
    "cat (\"Descriptive Statistics: \\n  mean =\", m, \"\\n  standard deviation =\", s, \"\\n  sample size =\", n,\"\\n\\nThe 5-number summary is shown below.\")\n",
    "summary(W)"
   ]
  },
  {
   "cell_type": "markdown",
   "id": "41409c9f-7089-4e86-bbcc-38d8b7194d9b",
   "metadata": {},
   "source": [
    "## Analysis of Descriptives\n",
    "\n",
    "The most interesting feature of the descriptive statistics is that the mean and median are quite different. Since the median is $8.5$ and the mean is $2$, their difference is $6.5$ which is about $\\frac{1}{4}$ of standard deviation.\n",
    "\n",
    "In this example, because the mean is significantly less than the median, we anticipate skew to the left and outliers, if present, to be on the left, which brings up the second detail one should notice. There is a much longer tail to the left shown the Five Number Summary. The Lower Quartile spans the interval $(−79,−17.5)$ or more than $60$ units. The upper Quartile spans only $(23,43)$ or $20$ units. This indicates likely skew to left since the lower Quartile range is much larger and hence has more room for outliers."
   ]
  },
  {
   "cell_type": "markdown",
   "id": "39269418-349d-49c3-8350-a0b7400b8fe2",
   "metadata": {},
   "source": [
    "### Standard Deviation and Outliers\n",
    "\n",
    "The standard deviation can be thought of as a distance metric specific to the data set. Let’s take a moment to discover why. Given the data set $X=\\{1,2,3,6\\}$, we have $n=4$ and $\\bar x=3$. For any data point, say, $x_1=1$, we can compute the directional distance or **deviation** from the mean:\n",
    "\n",
    "$$d_i = x_i - \\bar x$$"
   ]
  },
  {
   "cell_type": "markdown",
   "id": "0de58fee-6491-4d8e-9ec9-69a8221975bf",
   "metadata": {},
   "source": [
    "For this example, we have\n",
    "\n",
    "$$d_1 = 1 -3 = -2$$"
   ]
  },
  {
   "cell_type": "markdown",
   "id": "1034d46e-4984-4c94-ad3b-81d74403cd68",
   "metadata": {},
   "source": [
    "For deviations where $x_i<x$ (below average), then $d_i<0$, e.g. a negative deviation. Positive deviations indicate data points that are above average. If we treat the data set $X$ as a column vector $\\vec x$ and calculate the deviation for each component, we have the deviation vector:"
   ]
  },
  {
   "cell_type": "markdown",
   "id": "c0f14bbd-5d02-45a1-9cf3-0deacf1f6e1c",
   "metadata": {},
   "source": [
    "$$\\vec{d_x} = \\left(\\begin{array}{c}x_1 - \\bar x \\\\x_2 - \\bar x \\\\ \\vdots \\\\ x_n - \\bar x \\\\ \\end{array}\\right)$$"
   ]
  },
  {
   "cell_type": "markdown",
   "id": "d6cfa3a2-e867-4497-af9f-131b8e449861",
   "metadata": {},
   "source": [
    "### Standard Deviation\n",
    "\n",
    "The idea for the calculation of a **standard distance (or deviation)** beings with an application of the Euclidean distance metric to $\\vec{d_x}$ . The magnitude of the deviation vector is given by:"
   ]
  },
  {
   "cell_type": "markdown",
   "id": "b84175dc-3325-498e-a5c1-6cb864dcb376",
   "metadata": {},
   "source": [
    "$$\\begin{align*}\n",
    "\\left\\|\\vec{d_x}\\right\\| &= \\sqrt{(-2)^2+(-1)^2+(0)^2+(3)^2} \\\\\n",
    "&=\\sqrt{14}\\\\\n",
    "&\\approx 3.742\n",
    "\\end{align*}$$"
   ]
  },
  {
   "cell_type": "markdown",
   "id": "49b23877-19e6-4fed-af27-07a8a1085035",
   "metadata": {},
   "source": [
    "### Outliers\n",
    "\n",
    "We have two different ways of checking for outliers:\n",
    "\n",
    "1. Based upon **mean** and **standard deviation**.\n",
    "2. Based upon the 5-Number Summary: **Q1**, **Q3**, and **IQR**.\n",
    "\n",
    "#### Outliers Based upon Meand and Standard Deviation\n",
    "\n",
    "The basic rule is that any data point more than **2 standard deviations** from the mean will count as an outlier in a small data set where small indicates a sample of $n\\leq 200$. For larger sample sizes, a **3 standard deviations** from the mean may be more appropriate. We will create cutoff points above and below mean as follows:\n",
    "\n",
    "- **Upper Cutoff:** $\\bar x + 2s$\n",
    "- **Lower Cutoff:** $\\bar x - 2s$\n",
    "\n",
    "Any data point above the Upper Cutoff will be counted as an outlier. Any data point below the Lower Cutoff will be counted as an outlier.\n",
    "\n",
    "#### Outliers Based upon 5-Number Summary\n",
    "\n",
    "The box plot checks for outliers using fences which are calculated as follows:\n",
    "\n",
    "- **Upper Fence:** Q3 + 1.5 * IQR\n",
    "- **Lower Fence:** Q1 - 1.5 * IQR\n",
    "\n",
    "where the inner quartile range (IQR) is given by:\n",
    "\n",
    "<center><b>IQR = Q3 - Q1</b></center>\n",
    "\n",
    "Again, any data points that lie outside or beyond the fences are designated as outliers. The only difference between the two methods is the formula used to calculate the cutoff points."
   ]
  },
  {
   "cell_type": "markdown",
   "id": "ee1b0a96-6edd-47e8-b6b8-458e828f5f53",
   "metadata": {},
   "source": [
    "## Analysis of Shape"
   ]
  },
  {
   "cell_type": "markdown",
   "id": "5e052c53-6be9-4bb6-ac10-cd1aaf5f4bc5",
   "metadata": {},
   "source": [
    "### Describing the Distribution of a Quantitative Variable\n",
    "* Shape: Symmetry or Skew\n",
    "* Shape: Uniform, Peaks - unimodal, bimodal, others\n",
    "* Center: Mean and Median\n",
    "* Spread: Range, IQR, standard deviation\n",
    "* Outliers\n",
    "\n",
    "**Run the cell below to see examples of different shape characteristics.**"
   ]
  },
  {
   "cell_type": "code",
   "execution_count": 7,
   "id": "1f7cf376-d9b8-43c3-ab9b-64946f7cd38c",
   "metadata": {},
   "outputs": [
    {
     "data": {
      "image/png": "[encoded data removed]",
      "text/plain": [
       "Plot with title \"Bimodal\""
      ]
     },
     "metadata": {},
     "output_type": "display_data"
    }
   ],
   "source": [
    "set.seed(844)\n",
    "setA <- rnorm(500,21,2)\n",
    "setB <- rchisq(500,df=800)\n",
    "setC <- rchisq(500,df=6)\n",
    "setD <- -1*setC+30\n",
    "setE <- runif(5000,min=1,max=6)\n",
    "setF <- c(rnorm(500,21,2),rnorm(500,32,2))\n",
    "\n",
    "par(mfrow=c(3,2))\n",
    "hist(setA,main=\"Approximately Normal\", xlab=\"Data Set A\")\n",
    "hist(setB,main=\"Unimodal and Roughly Symmetric\", xlab=\"Data Set B\")\n",
    "hist(setC,main=\"Unimodal and Skewed RIGHT\", xlab=\"Data Set C\")\n",
    "hist(setD,main=\"Unimodal and Skewed LEFT\", xlab=\"Data Set D\")\n",
    "hist(setE,main=\"Approximately Uniform\", xlab=\"Data Set E\")\n",
    "hist(setF,main=\"Bimodal\", xlab=\"Data Set F\")"
   ]
  },
  {
   "cell_type": "markdown",
   "id": "174847c7-c747-43e8-aa68-83b33a19021b",
   "metadata": {},
   "source": [
    "## Skew and Outliers\n",
    "\n",
    "If a distribution has skew, then the majority of outliers in that data set are likely to lie in the same direction. Why do we care?\n",
    "\n",
    "1. Outliers are called *influential data points* because they affect the **mean**.\n",
    "2. The **median** is not affected much by outliers.\n",
    "\n",
    "Thus, in the presence of skew, we can see where the majority of these influential data points are likely to live.\n",
    "\n",
    "**Example**\n",
    "\n",
    "Due to the influential data points, e.g. outliers, the following are true:\n",
    "\n",
    "- If the distribution is skewed left, the **mean** is likely to be **less than the median**.\n",
    "- If the distribution is skewed right, the **mean** is likely to be **greater than the median**."
   ]
  }
 ],
 "metadata": {
  "kernelspec": {
   "display_name": "R",
   "language": "R",
   "name": "ir"
  },
  "language_info": {
   "codemirror_mode": "r",
   "file_extension": ".r",
   "mimetype": "text/x-r-source",
   "name": "R",
   "pygments_lexer": "r",
   "version": "3.6.1"
  }
 },
 "nbformat": 4,
 "nbformat_minor": 5
}
