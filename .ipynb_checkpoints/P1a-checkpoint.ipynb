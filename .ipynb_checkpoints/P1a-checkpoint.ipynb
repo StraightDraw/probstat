{
 "cells": [
  {
   "cell_type": "markdown",
   "id": "bb977ae7-733d-44cd-a210-f8e0a219d53d",
   "metadata": {},
   "source": [
    "# Two Simple Tools\n",
    "\n",
    "Two scenarios often arise in probability problem-solving. These two tools will make solving problems in those situations quite straightforward.\n",
    "\n",
    "## Monopoly Dice Rolls\n",
    "\n",
    "We are often asked to roll 2 dice and sum the values showing on them, the prototypical Monopoly dice roll used in many classic board games with stanard 6-sided dice. A grid of sums in quite useful here:"
   ]
  },
  {
   "cell_type": "markdown",
   "id": "3d4d5564-a774-41ec-80f9-9320c8097629",
   "metadata": {},
   "source": [
    "$$\\begin{array}{c|ccccccc}&1&2&3&4&5&6\\\\\n",
    "\\hline\n",
    "1&2&3&4&5&6&7\\\\\n",
    "2&3&4&5&6&7&8\\\\\n",
    "3&4&5&6&7&8&9\\\\\n",
    "4&5&6&7&8&9&10\\\\\n",
    "5&6&7&8&9&10&11\\\\\n",
    "6&7&8&9&10&11&12\\\\\\end{array}$$"
   ]
  },
  {
   "cell_type": "markdown",
   "id": "6215f2e2-c468-406f-8471-5df70a58da8e",
   "metadata": {},
   "source": [
    "Above the line we have the value shown on one die, and to the left of the line we have the values shown on the other. The value inside the grid represent the sums of the two rolls.\n",
    "\n",
    "### Example 1\n",
    "\n",
    "What is the probability on a standard Monopoly Dice Roll that the players gets a 4 or less?\n",
    "\n",
    "### Solution\n",
    "\n",
    "$$\\begin{array}{c|ccccccc}&1&2&3&4&5&6\\\\\n",
    "\\hline\n",
    "1&2&3&\\textcolor{red}{4}&5&6&7\\\\\n",
    "2&3&\\textcolor{red}{4}&5&6&7&8\\\\\n",
    "3&\\textcolor{red}{4}&5&6&7&8&9\\\\\n",
    "4&5&6&7&8&9&10\\\\\n",
    "5&6&7&8&9&10&11\\\\\n",
    "6&7&8&9&10&11&12\\\\\\end{array}$$"
   ]
  },
  {
   "cell_type": "markdown",
   "id": "9ea74aa7-cdc2-45c4-b7c2-124b6044c9b8",
   "metadata": {},
   "source": [
    "Notice:\n",
    "1. The diagonal pattern of all identical sums.\n",
    "2. Less than probabilities include everything above the value diagonal.\n",
    "3. Greater than probabilities include everything below the value diagonal.\n",
    "\n",
    "Here, we have 3 values equal to 4 and 3 that are less than 4. Thus, we have 6 total outcomes that represent success. Let $x$ represent the random variable indicating the sum of the dice roll, and we have the following:\n",
    "$$P(x\\leq 4) = \\frac{6}{36}=\\frac{1}{6}$$"
   ]
  },
  {
   "cell_type": "markdown",
   "id": "0e061d08-7d75-48c4-8dc3-9a4317634f54",
   "metadata": {},
   "source": [
    "### Example 2\n",
    "\n",
    "What is the probability on a standard Monopoly Dice Roll that the players gets **8 or more**?\n",
    "\n",
    "### Solution\n",
    "\n",
    "$$\\begin{array}{c|ccccccc}&1&2&3&4&5&6\\\\\n",
    "\\hline\n",
    "1&2&3&4&5&6&7\\\\\n",
    "2&3&4&5&6&7&\\textcolor{blue}{8}\\\\\n",
    "3&4&5&6&7&\\textcolor{blue}{8}&9\\\\\n",
    "4&5&6&7&\\textcolor{blue}{8}&9&10\\\\\n",
    "5&6&7&\\textcolor{blue}{8}&9&10&11\\\\\n",
    "6&7&\\textcolor{blue}{8}&9&10&11&12\\\\\\end{array}$$"
   ]
  },
  {
   "cell_type": "markdown",
   "id": "05947ba2-078c-40f2-a795-e7fe2118f445",
   "metadata": {},
   "source": [
    "As can be seen above, we have 5 values of 8 and $4+3+2+1 = 10$ values greater than 8. Given $x$ is the simple random variable representing the sum of the dice roll, we have:$$P(x\\geq 8) = \\frac{15}{36}=\n",
    "\\frac{5}{12}$$"
   ]
  },
  {
   "cell_type": "markdown",
   "id": "38efde1a-6dda-4467-bc36-6cec0cb3ddca",
   "metadata": {},
   "source": [
    "## Probability Trees"
   ]
  },
  {
   "cell_type": "markdown",
   "id": "2df1bf91-2a0e-42b6-92cd-80a967ea55eb",
   "metadata": {},
   "source": [
    "A **probability tree** is a quite useful graph theory tool that we can use to determine probabilities from a sequence of probability experiements. Let's look at an example and describe the necessary properties of a probability tree.\n",
    "\n",
    "Urn 1 has the following marbles in it from which draws are made without replacement:\n",
    "- 2 Red Marbles\n",
    "- 3 Blue Marbles"
   ]
  },
  {
   "cell_type": "markdown",
   "id": "8e5a136c-1b85-43dd-869c-1f255265467f",
   "metadata": {},
   "source": [
    "```{image} /images/ProbTreeUrn.png\n",
    ":alt: Probability Tree for Urn Problem\n",
    ":width: 500px\n",
    ":align: center\n",
    "```"
   ]
  },
  {
   "cell_type": "markdown",
   "id": "396d8ef2-ea51-477f-aa9f-9e57a7a00052",
   "metadata": {},
   "source": [
    "### Properties of Probability Trees:\n",
    "1. A probability tree is a **directed graph**, meaning we travel from a starting point in only one direction. Once we have traveled an edge, we cannot reverse the journey.\n",
    "2. The set of edges extending from each node include all possible outcomes from that point.\n",
    "3. If the edges are weighted with the probabilities of the respective outcomes occuring, the sum of all probabilities of all outcomes from each node must equal 1.\n",
    "4. If all 3 above properties are true, then the product of the probabilities (or edge weightings) along any path determine the probability of the event described by that path occurring."
   ]
  },
  {
   "cell_type": "markdown",
   "id": "fb6fc7fc-38e7-4326-bd6b-33fd58137243",
   "metadata": {},
   "source": [
    "From the top node (starting point), we have two outcomes. Either a Red or Blue is drawn. Note that following either edge leads to different probabilities for the second draw. Since we draw without replacement, a marble has been removed prior to the second draw leaving 4 marables, not 5, for the second draw. The second level nodes have update probabilities indicated by the edge weightings of the edge that emanate from them.\n",
    "\n",
    "#### Probability of 2 Reds Drawn:\n",
    "To calculate the probability of 2 Reds being drawn, we multiply the probabilities along the left-most path of the tree:\n",
    "\n",
    "$$\\begin{align}P(\\text{RR}) &= \\frac{2}{5}\\cdot\\frac{1}{4}\\\\ &= \\frac{2}{20}\\\\ &= \\frac{1}{10}\\end{align}$$"
   ]
  },
  {
   "cell_type": "markdown",
   "id": "3e9f776c-587b-42c8-8588-be06f9ccd1d8",
   "metadata": {},
   "source": [
    "```{tip}\n",
    "Notice that, in a probability tree, **unreduced fractions** can be quite helpful. This is atypical for mathematics problem-solving where we almost always benefit from reducing fractions. We use unreduced fractions so that the properties of the probability tree can be quickly verified. The unreduced fractions show the actual counts used to create the probabilities so we can easily see the actual number of items from which draws are made.\n",
    "```"
   ]
  },
  {
   "cell_type": "markdown",
   "id": "936839f6-f377-485f-9e0d-888ca8c78059",
   "metadata": {},
   "source": [
    "#### Probability of 1 Red and 1 Blue Drawn:\n",
    "Notice that we can draw 1 Red and 1 Blue in two different ways represented by the two interior paths of the probability tree. Thus:\n",
    "\n",
    "$$\\begin{align}P(\\text{1R1B}) &= P(\\text{RB}) + P(\\text{BR}) \\\\\n",
    "        &= \\frac{2}{5}\\cdot\\frac{3}{4} + \\frac{3}{5}\\cdot\\frac{2}{4}\\\\ \n",
    "        &= \\frac{6}{20} + \\frac{6}{20}\\\\ &= \\frac{12}{20}\\\\ &= \\frac{3}{5}\\end{align}$$"
   ]
  },
  {
   "cell_type": "markdown",
   "id": "e24532d9-a6f2-4181-8912-e18ede7f4e73",
   "metadata": {},
   "source": [
    "### 2 x 2 Matrices and Probability Trees\n",
    "\n",
    "The question in the **50 Counting Questions** asks about a $2\\times 2$ matrix where all entries are chosen at random from the set $\\{0,1\\}$. What is the probability of having a row or column of all zeros?\n",
    "\n",
    "First, let's create a $2\\times 2$ matrix with entries $a,b,c,d$ as follows:\n",
    "\n",
    "$$\\left[\\begin{array}{cc}a&b\\\\c&d\\end{array}\\right]$$"
   ]
  },
  {
   "cell_type": "markdown",
   "id": "37f5610c-f13b-41f4-bb41-f881575c88ae",
   "metadata": {},
   "source": [
    "First, notice that we can only have a row of zeros provided:\n",
    "- $a=0$\n",
    "- $d=0$\n",
    "- or both\n",
    "\n",
    "The same is true for a column of zeros.\n",
    "\n",
    "Second, notice that once either $a=0$ or $d=0$ (or both), we have a row of zeros provided:\n",
    "- $b=0$\n",
    "- $c=0$\n",
    "- or both\n",
    "\n",
    "Similary for a column of zeros. Thus, the probability tree below describes the situation. Given time and space constraints, only one second-level set of branches is drawn. Note the other 3 would be identical to the one shown."
   ]
  },
  {
   "cell_type": "markdown",
   "id": "035dff37-09b9-46b4-8801-901cefb54149",
   "metadata": {},
   "source": [
    "```{image} /images/ProbTreeMatrix.png\n",
    ":alt: Probability Tree for Matrix Problem\n",
    ":width: 600px\n",
    ":align: center\n",
    "```"
   ]
  },
  {
   "cell_type": "markdown",
   "id": "e8068f57-f2a2-484f-bfd1-8f6f14ad4b98",
   "metadata": {},
   "source": [
    "To solve the problem, notice that a row or column of all zeros is only possible down one of the first three edges from the starting node. At the second level, notice all 3 of the first three edges have either a row or column of zeros. Thus, the probability of **not** having a row or column of zeros is as follows:\n",
    "\n",
    "$$P(\\text{Row or Column of Zeros}) = 1 - P(\\text{No Row or Column of Zeros})$$"
   ]
  },
  {
   "cell_type": "markdown",
   "id": "b9a322be-8133-42da-9a34-699e25f42806",
   "metadata": {},
   "source": [
    "where\n",
    "$$\\begin{align}P(\\text{No Row or Column of Zeros}) &= 3\\left(\\frac{1}{4}\\cdot\\frac{1}{4}\\right) + \\frac{1}{4}\\\\&= 3\\left(\\frac{1}{16}\\right) + \\frac{1}{4}\\\\&= \\frac{3}{16} + \\frac{4}{16}\\\\&= \\frac{7}{16}\\end{align}$$"
   ]
  },
  {
   "cell_type": "markdown",
   "id": "fd6e13d7-510d-4774-b611-64218583e9b0",
   "metadata": {},
   "source": [
    "Hence, we have the following:\n",
    "\n",
    "$$P(\\text{Row or Column of Zeros}) = 1 - \\frac{7}{16}= \\frac{9}{16}$$"
   ]
  },
  {
   "cell_type": "code",
   "execution_count": null,
   "id": "267fa787-d504-4687-b5ab-b9191e4cf6da",
   "metadata": {},
   "outputs": [],
   "source": []
  }
 ],
 "metadata": {
  "kernelspec": {
   "display_name": "R",
   "language": "R",
   "name": "ir"
  },
  "language_info": {
   "codemirror_mode": "r",
   "file_extension": ".r",
   "mimetype": "text/x-r-source",
   "name": "R",
   "pygments_lexer": "r",
   "version": "3.6.1"
  }
 },
 "nbformat": 4,
 "nbformat_minor": 5
}
