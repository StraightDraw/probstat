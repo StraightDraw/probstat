{
 "cells": [
  {
   "cell_type": "markdown",
   "id": "48ed3992-e9ff-45c7-bbbf-9ab00ceeca3d",
   "metadata": {},
   "source": [
    "# Worked Examples for EDA\n",
    "\n",
    "This page contains a few worked examples for exploratory data analysis of a single numeric variable."
   ]
  },
  {
   "cell_type": "markdown",
   "id": "b7d174dd-cf1f-4c2c-bbc9-06855f9cac86",
   "metadata": {},
   "source": [
    "## 1. EDA for MPG Column in mtcars Data Frame\n",
    "\n",
    "Let's gather than standard descriptives, 5-number summary and information about outliers as we begin.\n",
    "- The [descriptive statstics code](https://straightdraw.github.io/probstat/S0b.html) can be found at this link.\n",
    "- The [outliers code](https://straightdraw.github.io/probstat/A2e.html) can be found at this link.\n",
    "\n",
    "The **mtcars** data frame is found in native R, so we can load it. Then we will begin."
   ]
  },
  {
   "cell_type": "code",
   "execution_count": 1,
   "id": "ac62d582-9b7f-499c-89d7-14d52c1eb651",
   "metadata": {},
   "outputs": [],
   "source": [
    "miles <- mtcars$mpg"
   ]
  },
  {
   "cell_type": "markdown",
   "id": "e0c573b2-6c20-4e49-9593-85495abfe5a8",
   "metadata": {},
   "source": [
    "### Descriptive Statistics for MPG"
   ]
  },
  {
   "cell_type": "code",
   "execution_count": 2,
   "id": "16bd56fd-081e-409b-9b2a-07f58f40767f",
   "metadata": {},
   "outputs": [
    {
     "name": "stdout",
     "output_type": "stream",
     "text": [
      "The standard descriptives for the mtcars MPG data:\n",
      "   Mean =  20.09 \n",
      "   Standard Deviation =  6.03 \n",
      "   Sample Size =  32 \n",
      "\n",
      "The 5-number summary for SLEEEP"
     ]
    },
    {
     "data": {
      "text/plain": [
       "   Min. 1st Qu.  Median    Mean 3rd Qu.    Max. \n",
       "  10.40   15.43   19.20   20.09   22.80   33.90 "
      ]
     },
     "metadata": {},
     "output_type": "display_data"
    }
   ],
   "source": [
    "cat('The standard descriptives for the mtcars MPG data:\\n   Mean = ', round(mean(miles),2),\n",
    "    '\\n   Standard Deviation = ', round(sd(miles),2),\n",
    "    '\\n   Sample Size = ', length(miles),\n",
    "    '\\n\\nThe 5-number summary for SLEEEP')\n",
    "summary(miles)"
   ]
  },
  {
   "cell_type": "markdown",
   "id": "acfcff74-db92-4069-9516-b018c9bc90fe",
   "metadata": {},
   "source": [
    "**Anlaysis.** We notice that $|\\text{mean}-\\text{median}|=0.89>0.603$. Since the difference between the mean and the median is greater than a tenth of a standard deviation, we expect skew and outliers to right.\n",
    "\n",
    "### Outliers for MPG"
   ]
  },
  {
   "cell_type": "code",
   "execution_count": 3,
   "id": "d5610238-aace-4469-8a2a-2ddbdfedd5cc",
   "metadata": {},
   "outputs": [
    {
     "name": "stdout",
     "output_type": "stream",
     "text": [
      "Outliers for the MPG data using the 2 standard deviation rule:\n",
      "    2  to the right, and \n",
      "    0  to the left.\n",
      "\n"
     ]
    },
    {
     "name": "stdout",
     "output_type": "stream",
     "text": [
      "Outliers for the MPG data using the Box Plot method:\n",
      "    1  to the right, and \n",
      "    0  to the left."
     ]
    }
   ],
   "source": [
    "cat('Outliers for the MPG data using the 2 standard deviation rule:\\n   ',sum(miles > mean(miles) + 2 * sd(miles)), \n",
    "    ' to the right, and','\\n   ', sum(miles < mean(miles) - 2 * sd(miles)) , ' to the left.\\n\\n')\n",
    "\n",
    "Q1 <- quantile(miles)[[\"25%\"]] ; Q3 <- quantile(miles)[[\"75%\"]] ; IQR <- Q3 - Q1\n",
    "\n",
    "cat('Outliers for the MPG data using the Box Plot method:\\n   ',sum(miles > Q3 + 1.5 * IQR), \n",
    "    ' to the right, and','\\n   ', sum(miles < Q1 - 1.5 * IQR) , ' to the left.')"
   ]
  },
  {
   "cell_type": "markdown",
   "id": "32f31c1b-3b5b-496b-89a1-0a42a8956fea",
   "metadata": {},
   "source": [
    "**Analysis.** Our suspicions of outliers to the right was confirmed with our calculations showing either one or two outliers to the right and none to the left."
   ]
  },
  {
   "cell_type": "markdown",
   "id": "08f61ab7-0954-45a8-968b-1bd73f7cb83e",
   "metadata": {},
   "source": [
    "### Shape of MGP Data\n",
    "\n",
    "Let's look at both a histogram and density plot. We can combine the 2 visualizations into a single plot, and the [information about how to do so is linked here](https://straightdraw.github.io/probstat/A2d.html)."
   ]
  },
  {
   "cell_type": "code",
   "execution_count": 4,
   "id": "d1e48e7a-dd9f-4eaa-ac49-692b7c72e1c3",
   "metadata": {},
   "outputs": [
    {
     "data": {
      "image/png": "[encoded data removed]",
      "text/plain": [
       "Plot with title \"density.default(x = miles)\""
      ]
     },
     "metadata": {},
     "output_type": "display_data"
    }
   ],
   "source": [
    "layout(matrix(c(1,2), ncol = 2), lcm(8))\n",
    "    hist(miles, breaks = 15)\n",
    "plt <- {\n",
    "    plot(density(miles))\n",
    " }"
   ]
  },
  {
   "cell_type": "markdown",
   "id": "ed52d18c-5589-4da2-8180-2dc46dbd9cc4",
   "metadata": {},
   "source": [
    "**Analysis.** While the histogram shows somme evidence of the data being drawing from a bell-shaped distribution, the density plot shows more clearly an approximately normal distribution with a slight skew to the right.\n",
    "\n",
    "### Box Plot\n",
    "\n",
    "Finally, let's construct a box plot to confirm all the work above."
   ]
  },
  {
   "cell_type": "code",
   "execution_count": 5,
   "id": "8ad247d9-69a8-43de-9c2f-1360c2d388fd",
   "metadata": {},
   "outputs": [
    {
     "data": {
      "image/png": "[encoded data removed]",
      "text/plain": [
       "plot without title"
      ]
     },
     "metadata": {},
     "output_type": "display_data"
    }
   ],
   "source": [
    "boxplot(miles)"
   ]
  },
  {
   "cell_type": "markdown",
   "id": "bbc7062b-8c3e-46bf-b426-037c20c718c8",
   "metadata": {},
   "source": [
    "### Overall Analsyis\n",
    "\n",
    "First, note that the boxplot and quantile function differ on whether an outlier exists to the right in the box plot. This is not problematic.\n",
    "\n",
    "We can see overall that **the distribution is approximately normal with some skew to the right**. Numerically, we identified 1-2 outliers to the right, yet the box plot shows no outliers as explained above."
   ]
  },
  {
   "cell_type": "markdown",
   "id": "12f750bf-a6a4-4aec-a4c4-d2cbe31b37b1",
   "metadata": {},
   "source": [
    "## 2. EDA for Births Data\n",
    "\n",
    "Let's investigate a bit first as this data set was intended to track health outcomes when comparing moms who smoked during pregnancy with those who did not. We can generate side-by-side boxplots using a statistical formula of the form $y \\sim A$ where $y$ is a numeric variable and $A$ is a grouping variable. R understands this formula, so we have the following code:"
   ]
  },
  {
   "cell_type": "code",
   "execution_count": 6,
   "id": "eafd8f56-7cc3-48fc-9721-78c0c19eccd1",
   "metadata": {},
   "outputs": [
    {
     "data": {
      "image/png": "[encoded data removed]",
      "text/plain": [
       "plot without title"
      ]
     },
     "metadata": {},
     "output_type": "display_data"
    }
   ],
   "source": [
    "births <- read.csv('https://faculty.ung.edu/rsinn/data/baby.csv')\n",
    "boxplot(Birth.Weight ~ Maternal.Smoker, data = births)"
   ]
  },
  {
   "cell_type": "markdown",
   "id": "f5a2024d-e3c2-478d-892f-67f6e999966a",
   "metadata": {},
   "source": [
    "## 2a. EDA for Babies Born to Non-smoking Moms\n",
    "\n",
    "While birth weight may be an imperfect proxy for the health of the baby, it tracks most closely with the outcomes we wish to analyze. The subsetting is provided below so that we have the data needed stored in the variable **nosmoke**. The units are ounces."
   ]
  },
  {
   "cell_type": "code",
   "execution_count": 7,
   "id": "71ef47df-a001-44c1-8365-b26e8cd7bd2f",
   "metadata": {},
   "outputs": [
    {
     "data": {
      "text/html": [
       "<ol class=list-inline>\n",
       "\t<li>120</li>\n",
       "\t<li>113</li>\n",
       "\t<li>136</li>\n",
       "\t<li>138</li>\n",
       "\t<li>132</li>\n",
       "</ol>\n"
      ],
      "text/latex": [
       "\\begin{enumerate*}\n",
       "\\item 120\n",
       "\\item 113\n",
       "\\item 136\n",
       "\\item 138\n",
       "\\item 132\n",
       "\\end{enumerate*}\n"
      ],
      "text/markdown": [
       "1. 120\n",
       "2. 113\n",
       "3. 136\n",
       "4. 138\n",
       "5. 132\n",
       "\n",
       "\n"
      ],
      "text/plain": [
       "[1] 120 113 136 138 132"
      ]
     },
     "metadata": {},
     "output_type": "display_data"
    }
   ],
   "source": [
    "nosmoke_temp <- subset(births, Maternal.Smoker == 'False')\n",
    "nosmoke <- nosmoke_temp$Birth.Weight\n",
    "head(nosmoke,5)"
   ]
  },
  {
   "cell_type": "code",
   "execution_count": 8,
   "id": "533c398a-ee6b-41f5-a21e-e42cd084ae60",
   "metadata": {},
   "outputs": [
    {
     "name": "stdout",
     "output_type": "stream",
     "text": [
      "The standard descriptives for the Birth Weight data for Non-smoking Moms:\n",
      "   Mean =  123.09 \n",
      "   Standard Deviation =  17.42 \n",
      "   Sample Size =  715 \n",
      "\n",
      "The 5-number summary for Birth Weight:"
     ]
    },
    {
     "data": {
      "text/plain": [
       "   Min. 1st Qu.  Median    Mean 3rd Qu.    Max. \n",
       "   55.0   113.0   123.0   123.1   134.0   176.0 "
      ]
     },
     "metadata": {},
     "output_type": "display_data"
    }
   ],
   "source": [
    "cat('The standard descriptives for the Birth Weight data for Non-smoking Moms:\\n   Mean = ', round(mean(nosmoke),2),\n",
    "    '\\n   Standard Deviation = ', round(sd(nosmoke),2),\n",
    "    '\\n   Sample Size = ', length(nosmoke),\n",
    "    '\\n\\nThe 5-number summary for Birth Weight:')\n",
    "summary(nosmoke)"
   ]
  },
  {
   "cell_type": "markdown",
   "id": "ac4674be-0677-4a08-9ab9-0d2ac9c34349",
   "metadata": {},
   "source": [
    "**Analysis.** The mean and median are nearly identical, so we expect either (a) no outliers or (b) a balancing of outliers. Balanced outliers occur when roughly the same number of outliers appear above and below the mean. The distance from Q1 to the minimum is longer than the distance from Q3 to the max, so a bit of left skew may be present."
   ]
  },
  {
   "cell_type": "code",
   "execution_count": 9,
   "id": "5fbf948d-4e9f-475b-b5c7-740afb2443b8",
   "metadata": {},
   "outputs": [
    {
     "name": "stdout",
     "output_type": "stream",
     "text": [
      "Outliers for the Birth Weight for Non-smoking Moms data using the 2 standard deviation rule:\n",
      "    22  to the right, and \n",
      "    22  to the left.\n",
      "\n"
     ]
    },
    {
     "name": "stdout",
     "output_type": "stream",
     "text": [
      "Outliers for the Birth Weight for Non-smoking Moms using the Box Plot method:\n",
      "    9  to the right, and \n",
      "    13  to the left."
     ]
    }
   ],
   "source": [
    "cat('Outliers for the Birth Weight for Non-smoking Moms data using the 2 standard deviation rule:\\n   ',sum(nosmoke > mean(nosmoke) + 2 * sd(nosmoke)), \n",
    "    ' to the right, and','\\n   ', sum(nosmoke < mean(nosmoke) - 2 * sd(nosmoke)) , ' to the left.\\n\\n')\n",
    "\n",
    "Q1 <- quantile(nosmoke)[[\"25%\"]] ; Q3 <- quantile(nosmoke)[[\"75%\"]] ; IQR <- Q3 - Q1\n",
    "\n",
    "cat('Outliers for the Birth Weight for Non-smoking Moms using the Box Plot method:\\n   ',sum(nosmoke > Q3 + 1.5 * IQR), \n",
    "    ' to the right, and','\\n   ', sum(nosmoke < Q1 - 1.5 * IQR) , ' to the left.')"
   ]
  },
  {
   "cell_type": "markdown",
   "id": "7f0912f7-7802-4585-a723-826084d1637b",
   "metadata": {},
   "source": [
    "**Analysis.** The outliers appear to be roughly balanced though the Blox Plot method shoes a few more outliers to the left than to the right.\n",
    "\n",
    "### Shape of **nosmoke** Data\n",
    "\n",
    "Again, we will plot both the histogram and density plot."
   ]
  },
  {
   "cell_type": "code",
   "execution_count": 10,
   "id": "fde1dc95-66c4-444c-891f-b1eca1ad8cda",
   "metadata": {},
   "outputs": [
    {
     "data": {
      "image/png": "[encoded data removed]",
      "text/plain": [
       "Plot with title \"Density Plot: nosmoke data\""
      ]
     },
     "metadata": {},
     "output_type": "display_data"
    }
   ],
   "source": [
    "layout(matrix(c(1,2), ncol = 2), lcm(8))\n",
    "    hist(nosmoke, main = 'Histogram: nosmoke data', xlab = 'Birth Weight')\n",
    "plt <- {\n",
    "    plot(density(nosmoke), main = 'Density Plot: nosmoke data', xlab = 'Birth Weight')\n",
    " }"
   ]
  },
  {
   "cell_type": "markdown",
   "id": "194c4c18-645e-45a6-b3e0-d15bac2716e1",
   "metadata": {},
   "source": [
    "**Analisys.** Both the histogram and the density plot show an approximately normal (bell-shaped) distribution. Both also show some skew to the left. The skew to the left is not massive, yet it is noticeable. The slight skew to the left aligns with the outliers we found which, while mostly balanced, did tilt a bit to the left."
   ]
  },
  {
   "cell_type": "code",
   "execution_count": 11,
   "id": "c07c6a42-2152-4688-b30a-27e75ec191fb",
   "metadata": {},
   "outputs": [
    {
     "data": {
      "image/png": "[encoded data removed]",
      "text/plain": [
       "plot without title"
      ]
     },
     "metadata": {},
     "output_type": "display_data"
    }
   ],
   "source": [
    "boxplot(nosmoke)"
   ]
  },
  {
   "cell_type": "markdown",
   "id": "56315e4c-ef69-4bcc-bad2-fe73880c6973",
   "metadata": {},
   "source": [
    "### Overall Analysis of Birth Weight Data for Babies of Non-smoking Moms\n",
    "\n",
    "The approximately normal distribution is clear from both the histogram and density plot. There is a slight skew to the left confirmed in the box plot. While outliers exist both above and below the mean, there a few more outliers to the left. Also, several of the outliers to left are more extreme (further away from the median) than on the right.\n",
    "\n",
    "**These data are approximately normal and skewed a bit to the left.**\n",
    "\n",
    "## 2a. EDA for Babies Born to Non-smoking Moms"
   ]
  },
  {
   "cell_type": "code",
   "execution_count": 12,
   "id": "b052c689-8be2-496d-86e1-01176d5591e7",
   "metadata": {},
   "outputs": [
    {
     "data": {
      "text/html": [
       "<ol class=list-inline>\n",
       "\t<li>128</li>\n",
       "\t<li>108</li>\n",
       "\t<li>143</li>\n",
       "\t<li>144</li>\n",
       "\t<li>141</li>\n",
       "</ol>\n"
      ],
      "text/latex": [
       "\\begin{enumerate*}\n",
       "\\item 128\n",
       "\\item 108\n",
       "\\item 143\n",
       "\\item 144\n",
       "\\item 141\n",
       "\\end{enumerate*}\n"
      ],
      "text/markdown": [
       "1. 128\n",
       "2. 108\n",
       "3. 143\n",
       "4. 144\n",
       "5. 141\n",
       "\n",
       "\n"
      ],
      "text/plain": [
       "[1] 128 108 143 144 141"
      ]
     },
     "metadata": {},
     "output_type": "display_data"
    }
   ],
   "source": [
    "smoke_temp <- subset(births, Maternal.Smoker == 'True')\n",
    "smoke <- smoke_temp$Birth.Weight\n",
    "head(smoke,5)"
   ]
  },
  {
   "cell_type": "markdown",
   "id": "d84b4e42-b387-4cd0-8aa2-62258b47bd3d",
   "metadata": {},
   "source": [
    "## Descriptive Statistics for Bith Weight of Babies Born to Smoking Moms"
   ]
  },
  {
   "cell_type": "code",
   "execution_count": 13,
   "id": "7bbb313c-1e92-4a1b-8fda-6508d6124149",
   "metadata": {},
   "outputs": [
    {
     "name": "stdout",
     "output_type": "stream",
     "text": [
      "The standard descriptives for the Birth Weight data for Smoking Moms:\n",
      "   Mean =  113.82 \n",
      "   Standard Deviation =  18.3 \n",
      "   Sample Size =  459 \n",
      "\n",
      "The 5-number summary for Birth Weight:"
     ]
    },
    {
     "data": {
      "text/plain": [
       "   Min. 1st Qu.  Median    Mean 3rd Qu.    Max. \n",
       "   58.0   101.0   115.0   113.8   126.0   163.0 "
      ]
     },
     "metadata": {},
     "output_type": "display_data"
    }
   ],
   "source": [
    "cat('The standard descriptives for the Birth Weight data for Smoking Moms:\\n   Mean = ', round(mean(smoke),2),\n",
    "    '\\n   Standard Deviation = ', round(sd(smoke),2),\n",
    "    '\\n   Sample Size = ', length(smoke),\n",
    "    '\\n\\nThe 5-number summary for Birth Weight:')\n",
    "summary(smoke)"
   ]
  },
  {
   "cell_type": "markdown",
   "id": "d9f19fc8-2f16-4444-8308-e9c76523230c",
   "metadata": {},
   "source": [
    "**Analysis.** The mean and median are not more than a tenth of a standard deviation apart, so we do not expect skew or outliers. We have may balanced outliers."
   ]
  },
  {
   "cell_type": "code",
   "execution_count": 14,
   "id": "2ed978ba-e3f2-40a2-bf26-bbcd9d193ac3",
   "metadata": {},
   "outputs": [
    {
     "name": "stdout",
     "output_type": "stream",
     "text": [
      "Outliers for the Birth Weight for Smoking Moms data using the 2 standard deviation rule:\n",
      "    11  to the right, and \n",
      "    14  to the left.\n",
      "\n"
     ]
    },
    {
     "name": "stdout",
     "output_type": "stream",
     "text": [
      "Outliers for the Birth Weight for Smoking Moms using the Box Plot method:\n",
      "    0  to the right, and \n",
      "    1  to the left."
     ]
    }
   ],
   "source": [
    "cat('Outliers for the Birth Weight for Smoking Moms data using the 2 standard deviation rule:\\n   ',sum(smoke > mean(smoke) + 2 * sd(smoke)), \n",
    "    ' to the right, and','\\n   ', sum(smoke < mean(smoke) - 2 * sd(smoke)) , ' to the left.\\n\\n')\n",
    "\n",
    "Q1 <- quantile(smoke)[[\"25%\"]] ; Q3 <- quantile(smoke)[[\"75%\"]] ; IQR <- Q3 - Q1\n",
    "\n",
    "cat('Outliers for the Birth Weight for Smoking Moms using the Box Plot method:\\n   ',sum(smoke > Q3 + 1.5 * IQR), \n",
    "    ' to the right, and','\\n   ', sum(smoke < Q1 - 1.5 * IQR) , ' to the left.')"
   ]
  },
  {
   "cell_type": "markdown",
   "id": "21e88df8-9e32-46ba-8109-e81896dacf46",
   "metadata": {},
   "source": [
    "**Analysis.** Again, we see mostly balanced outliers with a slight tilt to the left. We have some minor skew to the left.\n",
    "\n",
    "### Shape: Smoking Moms Birthweight Data"
   ]
  },
  {
   "cell_type": "code",
   "execution_count": 15,
   "id": "b54ef554-d5ab-4a55-b924-8dad951f8b04",
   "metadata": {},
   "outputs": [
    {
     "data": {
      "image/png": "[encoded data removed]",
      "text/plain": [
       "Plot with title \"Density Plot: smoke data\""
      ]
     },
     "metadata": {},
     "output_type": "display_data"
    }
   ],
   "source": [
    "layout(matrix(c(1,2), ncol = 2), lcm(8))\n",
    "    hist(smoke, main = 'Histogram: smoke data', xlab = 'Birth Weight')\n",
    "plt <- {\n",
    "    plot(density(smoke), main = 'Density Plot: smoke data', xlab = 'Birth Weight')\n",
    " }"
   ]
  },
  {
   "cell_type": "markdown",
   "id": "11dee6af-4ea2-429c-857c-eaa97084d70f",
   "metadata": {},
   "source": [
    "**Analysis.** Again, we see clear evidence of an approximately normal distribution in both graphs along with the presence of a very slight skew to the left.\n",
    "\n",
    "### Overall Analysis of Birth Weight Data for Smoking Moms"
   ]
  },
  {
   "cell_type": "code",
   "execution_count": 16,
   "id": "a1ee84a9-9c2d-45ef-a6e0-babbedf80e2c",
   "metadata": {},
   "outputs": [
    {
     "data": {
      "image/png": "[encoded data removed]",
      "text/plain": [
       "plot without title"
      ]
     },
     "metadata": {},
     "output_type": "display_data"
    }
   ],
   "source": [
    "boxplot(smoke)"
   ]
  },
  {
   "cell_type": "markdown",
   "id": "43f60c5c-6d98-4f46-8823-b11311f71e4e",
   "metadata": {},
   "source": [
    "**Overall Analysis.** We have an approximately normal distribution which is approximately symmetric. We also observe a tiny bit of skew to the left."
   ]
  },
  {
   "cell_type": "code",
   "execution_count": null,
   "id": "55282aeb-602d-4132-b797-88e965591e6f",
   "metadata": {},
   "outputs": [],
   "source": []
  }
 ],
 "metadata": {
  "kernelspec": {
   "display_name": "R",
   "language": "R",
   "name": "ir"
  },
  "language_info": {
   "codemirror_mode": "r",
   "file_extension": ".r",
   "mimetype": "text/x-r-source",
   "name": "R",
   "pygments_lexer": "r",
   "version": "3.6.1"
  }
 },
 "nbformat": 4,
 "nbformat_minor": 5
}