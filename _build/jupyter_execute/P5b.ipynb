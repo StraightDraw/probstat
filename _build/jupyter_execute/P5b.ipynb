{
 "cells": [
  {
   "cell_type": "markdown",
   "id": "d9aa63e1-4b83-4d72-9837-7a5684b800c3",
   "metadata": {},
   "source": [
    "# Solutions to Exercises"
   ]
  },
  {
   "cell_type": "markdown",
   "id": "5bbb62d2-f71d-42a1-876a-584b09bb0769",
   "metadata": {},
   "source": [
    "1. The Monte Hall problem is a classic conditional probability question that every math major should know about. An excellent discussion is posted at [Brilliant.org](https://brilliant.org/wiki/monty-hall-problem/).\n",
    "\n",
    "**The correct answer to the Monte Hall problem is to always switch doors,** though this may trouble some very fine analytical minds. You should take the time to understand this problem and its solution."
   ]
  },
  {
   "cell_type": "markdown",
   "id": "2d0c7c61-46ea-4a63-933b-aefe5de1d6f6",
   "metadata": {},
   "source": [
    "2. Hint: restrict the probability space by removing an A and J from the deck. Instead of using the conditional probability formula, often it is easier to simply work a standard probability question with a different probability space. We have 50 cards remaining in the deck, and two of the subsets in our value partition have only three cards, not four, since one Ace and one Jack are no longer in the deck. Let $T$ be the event set of having exactly two pair after the flop."
   ]
  },
  {
   "cell_type": "markdown",
   "id": "b432e0b7-9d22-486b-b35d-a4605612a432",
   "metadata": {},
   "source": [
    "$$P(T)=\\frac{\\binom{3}{1}\\binom{3}{1}\\binom{12}{1}\\binom{4}{1}}{\\binom{50}{3}}=\\frac{432}{19600}=\\frac{27}{1225}\\approx 0.022041$$"
   ]
  },
  {
   "cell_type": "markdown",
   "id": "e0fefc9e-810f-43c0-9f4d-1c42c7398e4f",
   "metadata": {},
   "source": [
    "3. The second draw occurs with one less marble, so we can update the probability space.\n",
    "   1. With a red already drawn, the 2nd draw occurs with 6 red and 3 green.\n",
    "$$ P(R|R) = \\frac{6}{9} = \\frac{2}{3}$$\n",
    "   2. With a green already drawn, the 2nd draw occurs with 7 red and 2 green.\n",
    "$$ P(R|G) = \\frac{7}{9}$$\n",
    "   3. With a green already drawn, the 2nd draw occurs with 7 red and 2 green.\n",
    "$$ P(G|G) = \\frac{2}{9}$$"
   ]
  },
  {
   "cell_type": "markdown",
   "id": "f563661d-5bd9-4553-b78f-60cd249d81a1",
   "metadata": {},
   "source": [
    "We often use probability trees for these types of problems."
   ]
  },
  {
   "cell_type": "markdown",
   "id": "c2e2aecb-0296-4d1b-80c2-056cee77cd7d",
   "metadata": {},
   "source": [
    "4. The question asks about problem dice rolls where both a 5 and a 7 will be bad. In terms of conditional probability, we have two different (mutually exclusive) events: $P(7|3)$ and $P(5|3)$. This means that a 4 on the second roll gives us 7 and 2 gives us five. There are six total outcomes on the second roll, so the probability is $\\frac{1}{3}$."
   ]
  },
  {
   "cell_type": "markdown",
   "id": "5c0f3a1c-6b0f-4b25-9a51-c9f5d92e8673",
   "metadata": {},
   "source": [
    "5. The formula for conditional probability will be useful, so let's identify some events. We'll specify which urn the marble came from using $U1$ and $U2$, and then $R$ for the event that a red marble was drawn."
   ]
  },
  {
   "cell_type": "markdown",
   "id": "6770faca-8459-46ca-b715-b042f362a3d9",
   "metadata": {},
   "source": [
    "```{figure} /images/ProbFig10.png\n",
    "width: 3cm\n",
    "```"
   ]
  },
  {
   "cell_type": "markdown",
   "id": "9c89fe45-d83f-42eb-8f81-7fd801240e80",
   "metadata": {},
   "source": [
    "We are asked about $P(U2 | R)$, so we need to calculate $P(U2 \\cap R)$ and $P(R)$. Noting that all marbles are equally likely to be chosen and glancing at the figure, we see that $P(R)=\\frac{5}{8}$ and $P(R\\cap U2)=\\frac{2}{8}=\\frac{1}{4}$. Then "
   ]
  },
  {
   "cell_type": "markdown",
   "id": "1a804d5e-9a06-4f16-b351-1f3035c898af",
   "metadata": {},
   "source": [
    "$$P(U2 \\cap R)=\\frac{P(U2 \\cap R)}{P(R)}=\\frac{\\frac{1}{4}}{\\frac{5}{8}}=\\frac{1}{4}\\cdot\\frac{8}{5}=\\frac{2}{5}$$"
   ]
  },
  {
   "cell_type": "markdown",
   "id": "4098d760-d049-49cf-8dcc-fbeed3cce587",
   "metadata": {},
   "source": [
    "Alternatively, we can consider the red marbles by themselves (restrict the probability space). If we draw one red marble from the five, what is the probability it's in Urn 2? Well, 2 of the 5 are in Urn 2."
   ]
  },
  {
   "cell_type": "markdown",
   "id": "f26c3a8c-fcab-4447-a104-aba3642be62e",
   "metadata": {},
   "source": [
    "6. A quick Venn diagram is probably the best way to proceed, but the formula works, too."
   ]
  },
  {
   "cell_type": "markdown",
   "id": "9cb70269-701d-4560-aa8e-e6b332c0ffb3",
   "metadata": {},
   "source": [
    "```{figure} /images/ProbFig11.png\n",
    "width: 3cm\n",
    "```"
   ]
  },
  {
   "cell_type": "markdown",
   "id": "71928957-0bce-48ba-8550-2215a6b28b7f",
   "metadata": {},
   "source": [
    "Let events $T1$ and $T2$ indicate the A's on Tests 1 and 2 respectively."
   ]
  },
  {
   "cell_type": "markdown",
   "id": "ef9e43aa-2bfd-4df5-b1ba-93186cd9ee27",
   "metadata": {},
   "source": [
    "$$P(T2|T1)=\\frac{P(T1\\cap T2)}{P(T2)}=\\frac{0.25}{0.42}\\approx 0.59523$$"
   ]
  },
  {
   "cell_type": "markdown",
   "id": "3d07b8b5-4fe0-4d76-8a42-6bb5e1e6f853",
   "metadata": {},
   "source": [
    "7. The probability of drawing a white marble changes. On the first draw,"
   ]
  },
  {
   "cell_type": "markdown",
   "id": "9711b436-a9f6-410d-b0cc-d1c3ce62838d",
   "metadata": {},
   "source": [
    "$$P(W)= 1-P(B)=\\frac{2}{3}$$"
   ]
  },
  {
   "cell_type": "markdown",
   "id": "0a751ed5-236a-468c-af63-f2a76b35050a",
   "metadata": {},
   "source": [
    "On the second draw, when a black marble has been removed on the first draw,"
   ]
  },
  {
   "cell_type": "markdown",
   "id": "9e610c17-efb0-44aa-9248-e4d95ce5b15f",
   "metadata": {},
   "source": [
    "$$P(W|B)=\\frac{4}{5}$$"
   ]
  },
  {
   "cell_type": "markdown",
   "id": "278b1a59-a7f1-46fc-9f33-e5bfd09f89a3",
   "metadata": {},
   "source": [
    "Because the probability has increased from "
   ]
  },
  {
   "cell_type": "markdown",
   "id": "194d2d59-9051-433e-828b-61d13114a114",
   "metadata": {},
   "source": [
    "$$\\frac{4}{6}\\rightarrow\\frac{4}{5}$$"
   ]
  },
  {
   "cell_type": "markdown",
   "id": "9bc99a3d-755e-4db3-9a67-07213e1eb9a7",
   "metadata": {},
   "source": [
    "we deduce that there were six marbles originally, two black and four white."
   ]
  },
  {
   "cell_type": "markdown",
   "id": "c54d72e9-4d6e-4db6-b03c-6544ecfa534c",
   "metadata": {},
   "source": [
    "8. Restricted probability space: "
   ]
  },
  {
   "cell_type": "markdown",
   "id": "a17cfca7-10ec-4a6f-a3e1-7eadef6f264f",
   "metadata": {},
   "source": [
    "$$P=\\frac{0.41}{0.56}\\approx 0.73214$$"
   ]
  }
 ],
 "metadata": {
  "kernelspec": {
   "display_name": "Python 3 (ipykernel)",
   "language": "python",
   "name": "python3"
  },
  "language_info": {
   "codemirror_mode": {
    "name": "ipython",
    "version": 3
   },
   "file_extension": ".py",
   "mimetype": "text/x-python",
   "name": "python",
   "nbconvert_exporter": "python",
   "pygments_lexer": "ipython3",
   "version": "3.13.1"
  }
 },
 "nbformat": 4,
 "nbformat_minor": 5
}