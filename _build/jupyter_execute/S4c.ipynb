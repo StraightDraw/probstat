{
 "cells": [
  {
   "cell_type": "markdown",
   "id": "c03efe7e-6b59-4640-aae4-b1e369d0f0d4",
   "metadata": {},
   "source": [
    "# Matched Pairs $t$-Test\n",
    "\n",
    "The levels of stress were measured in the 2nd week of classes and at midterms to determine if stress levels were higher at midterm. We will test using matched pairs the variables **Stress1** and **Stress2** from the *personality* data set. The research question a data here are very similar to a\n",
    "\n",
    "<center><b><span style=\"color: purple\" >pretest vs. posttest</span></b></center>\n",
    "\n",
    "design, the quintessential matched pairs setup."
   ]
  },
  {
   "cell_type": "markdown",
   "id": "2974e831-8be7-47fd-bb35-cd9370f9b304",
   "metadata": {},
   "source": [
    "## Setup\n",
    "\n",
    "As it happens, we will end up using a 1 sample $t$-test. Why? We create a **gain score** from the pretest and posttest data as follows:\n",
    "\n",
    "$$\\text{gain} = \\text{post} - \\text{pre}$$\n",
    "\n",
    "Then, we use single sample methods on the gains. The hypotheses will be similar to the following:\n",
    "\n",
    "$$\\begin{align}H_0 &: \\mu_g = 0 \\\\H_a &: \\mu_g > 0 \\end{align}$$\n",
    "\n",
    "where $\\mu_g$ indicates the average **gain score** for the sample. In the example above, we are expecting positive gains where the posttest scores, on average, are higher than the pretest scores. In some experiments, we plan for the opposite, as when a pharmaceutical drug for high cholesterol is being tested. In that case, we would expect the alternative hypothesis to be more like\n",
    "\n",
    "$$H_a : \\mu_g < 0$$\n",
    "\n",
    "where the scores on the posttest are lower than the pretest scores."
   ]
  },
  {
   "cell_type": "markdown",
   "id": "694400e1-248c-49c4-a81c-6da17aa2abe7",
   "metadata": {},
   "source": [
    "## Example: Stress\n",
    "\n",
    "Let's load the 2 vectors we will need. Due to the similiarity to a pre vs. post setup, we will call the 2 vectors **pre** and **post**."
   ]
  },
  {
   "cell_type": "code",
   "execution_count": 1,
   "id": "379a56ae-006d-4e89-9a20-7a738b62e750",
   "metadata": {},
   "outputs": [
    {
     "data": {
      "text/html": [
       "<table>\n",
       "<thead><tr><th scope=col>Age</th><th scope=col>Yr</th><th scope=col>Sex</th><th scope=col>G21</th><th scope=col>Corps</th><th scope=col>Res</th><th scope=col>Greek</th><th scope=col>VarsAth</th><th scope=col>Honor</th><th scope=col>GPA</th><th scope=col>...</th><th scope=col>Perf</th><th scope=col>OCD</th><th scope=col>Play</th><th scope=col>Extro</th><th scope=col>Narc</th><th scope=col>HSAF</th><th scope=col>HSSE</th><th scope=col>HSAG</th><th scope=col>HSSD</th><th scope=col>PHS</th></tr></thead>\n",
       "<tbody>\n",
       "\t<tr><td>21  </td><td>2   </td><td>M   </td><td>Y   </td><td>Y   </td><td>1   </td><td>N   </td><td>N   </td><td>N   </td><td>3.23</td><td>... </td><td>105 </td><td>10  </td><td>142 </td><td> 8  </td><td>11  </td><td>41  </td><td>40  </td><td>26  </td><td>27  </td><td>SE  </td></tr>\n",
       "\t<tr><td>20  </td><td>3   </td><td>F   </td><td>N   </td><td>N   </td><td>2   </td><td>Y   </td><td>N   </td><td>Y   </td><td>3.95</td><td>... </td><td>105 </td><td> 3  </td><td>172 </td><td>16  </td><td>11  </td><td>46  </td><td>52  </td><td>26  </td><td>33  </td><td>SE  </td></tr>\n",
       "\t<tr><td>22  </td><td>3   </td><td>M   </td><td>Y   </td><td>N   </td><td>2   </td><td>N   </td><td>N   </td><td>N   </td><td>3.06</td><td>... </td><td> 73 </td><td> 1  </td><td>134 </td><td>15  </td><td>11  </td><td>48  </td><td>42  </td><td>44  </td><td>29  </td><td>AG  </td></tr>\n",
       "</tbody>\n",
       "</table>\n"
      ],
      "text/latex": [
       "\\begin{tabular}{r|llllllllllllllllllllllllllllllllllll}\n",
       " Age & Yr & Sex & G21 & Corps & Res & Greek & VarsAth & Honor & GPA & ... & Perf & OCD & Play & Extro & Narc & HSAF & HSSE & HSAG & HSSD & PHS\\\\\n",
       "\\hline\n",
       "\t 21   & 2    & M    & Y    & Y    & 1    & N    & N    & N    & 3.23 & ...  & 105  & 10   & 142  &  8   & 11   & 41   & 40   & 26   & 27   & SE  \\\\\n",
       "\t 20   & 3    & F    & N    & N    & 2    & Y    & N    & Y    & 3.95 & ...  & 105  &  3   & 172  & 16   & 11   & 46   & 52   & 26   & 33   & SE  \\\\\n",
       "\t 22   & 3    & M    & Y    & N    & 2    & N    & N    & N    & 3.06 & ...  &  73  &  1   & 134  & 15   & 11   & 48   & 42   & 44   & 29   & AG  \\\\\n",
       "\\end{tabular}\n"
      ],
      "text/markdown": [
       "\n",
       "| Age | Yr | Sex | G21 | Corps | Res | Greek | VarsAth | Honor | GPA | ... | Perf | OCD | Play | Extro | Narc | HSAF | HSSE | HSAG | HSSD | PHS |\n",
       "|---|---|---|---|---|---|---|---|---|---|---|---|---|---|---|---|---|---|---|---|---|\n",
       "| 21   | 2    | M    | Y    | Y    | 1    | N    | N    | N    | 3.23 | ...  | 105  | 10   | 142  |  8   | 11   | 41   | 40   | 26   | 27   | SE   |\n",
       "| 20   | 3    | F    | N    | N    | 2    | Y    | N    | Y    | 3.95 | ...  | 105  |  3   | 172  | 16   | 11   | 46   | 52   | 26   | 33   | SE   |\n",
       "| 22   | 3    | M    | Y    | N    | 2    | N    | N    | N    | 3.06 | ...  |  73  |  1   | 134  | 15   | 11   | 48   | 42   | 44   | 29   | AG   |\n",
       "\n"
      ],
      "text/plain": [
       "  Age Yr Sex G21 Corps Res Greek VarsAth Honor GPA  ... Perf OCD Play Extro\n",
       "1 21  2  M   Y   Y     1   N     N       N     3.23 ... 105  10  142   8   \n",
       "2 20  3  F   N   N     2   Y     N       Y     3.95 ... 105   3  172  16   \n",
       "3 22  3  M   Y   N     2   N     N       N     3.06 ...  73   1  134  15   \n",
       "  Narc HSAF HSSE HSAG HSSD PHS\n",
       "1 11   41   40   26   27   SE \n",
       "2 11   46   52   26   33   SE \n",
       "3 11   48   42   44   29   AG "
      ]
     },
     "metadata": {},
     "output_type": "display_data"
    }
   ],
   "source": [
    "pers <- read.csv('http://faculty.ung.edu/rsinn/data/personality.csv')\n",
    "head(pers, 3)"
   ]
  },
  {
   "cell_type": "code",
   "execution_count": 2,
   "id": "c1718106-53d8-42c7-bc12-6f49ec29f717",
   "metadata": {},
   "outputs": [],
   "source": [
    "pre <- pers[ , 'Stress1']\n",
    "post <- pers[ , 'Stress2']"
   ]
  },
  {
   "cell_type": "markdown",
   "id": "32bea6a1-57d9-4434-9606-99d76cbfae54",
   "metadata": {},
   "source": [
    "We now need to create the gain score vector which will be used as our 1 sample for this test."
   ]
  },
  {
   "cell_type": "code",
   "execution_count": 3,
   "id": "b4b8fc61-4a29-4fa3-82dd-074d82591223",
   "metadata": {},
   "outputs": [
    {
     "data": {
      "text/html": [
       "<ol class=list-inline>\n",
       "\t<li>-5</li>\n",
       "\t<li>-2</li>\n",
       "\t<li>7</li>\n",
       "\t<li>7</li>\n",
       "\t<li>12</li>\n",
       "</ol>\n"
      ],
      "text/latex": [
       "\\begin{enumerate*}\n",
       "\\item -5\n",
       "\\item -2\n",
       "\\item 7\n",
       "\\item 7\n",
       "\\item 12\n",
       "\\end{enumerate*}\n"
      ],
      "text/markdown": [
       "1. -5\n",
       "2. -2\n",
       "3. 7\n",
       "4. 7\n",
       "5. 12\n",
       "\n",
       "\n"
      ],
      "text/plain": [
       "[1] -5 -2  7  7 12"
      ]
     },
     "metadata": {},
     "output_type": "display_data"
    }
   ],
   "source": [
    "gain <- post - pre\n",
    "head(gain,5)"
   ]
  },
  {
   "cell_type": "markdown",
   "id": "1c7f7ef3-b1f1-4623-9f50-a3e8ab3b8ec1",
   "metadata": {},
   "source": [
    "Notice that the first two values are negative indicating that these two participants scored lower on the posttest than they did on the pretest. The positive scores displayed in items 3 - 5 in this vector represent participants who appear to have benefitted from new labs."
   ]
  },
  {
   "cell_type": "markdown",
   "id": "91250195-ff99-4dbc-a3fb-a0854100ec93",
   "metadata": {},
   "source": [
    "### The Normality Assumption\n",
    "\n",
    "```{sidebar} Height of Plots\n",
    "Allowing R to use its default settings for the **layout()** function results in the aspect ratio of the plots to become distorted. In this case, the plots are too narrow to analyze properly. Instead, we set \"height = lcm(12)\" to produce plots with better aspect ratios. This value often works, but a trial and error process leads us to graphics that are appropriate.\n",
    "```\n",
    "\n",
    "As with Independent Samples, we will construct a stem plot and box plot hoping to see evdience of the data being drawn from an approximately normal distribution but with no outliers present. The data are all integers which explains why, in the stem plot, every value to right of the bar is a zero. Note that the overall shape provides reasonably good evidence that the data were in fact sampled from a normal distribution."
   ]
  },
  {
   "cell_type": "code",
   "execution_count": 4,
   "id": "6c7b9cb4-f150-403a-b0d3-99478e3d8d9a",
   "metadata": {},
   "outputs": [
    {
     "data": {
      "image/png": "[encoded data removed]",
      "text/plain": [
       "Plot with title \"Normal Q-Q Plot\""
      ]
     },
     "metadata": {},
     "output_type": "display_data"
    }
   ],
   "source": [
    "layout(matrix(c(1,2), ncol = 2), height = lcm(12))\n",
    "plot(density(gain))\n",
    "plot2 <- { qqnorm(gain)\n",
    "qqline(gain, col = 'red') }"
   ]
  },
  {
   "cell_type": "markdown",
   "id": "e54b607d-db72-4981-a6d0-2b50cb61fd10",
   "metadata": {},
   "source": [
    "### Analysis of the Assumptions\n",
    "\n",
    "The **normality** assumption is easily verified by inspecting the QQ plot which is very good and by inspecting the density plot which provides solid evidence the data were drawn from a normal distribution. These data are appropriate for $t$ procedures."
   ]
  },
  {
   "cell_type": "markdown",
   "id": "74a72c35-43a9-4c9d-8563-ce4fac4abaf0",
   "metadata": {},
   "source": [
    "### Hypotheses\n",
    "\n",
    "The research question asks if students experience heightened stress levels at midterms which leads to the following setup:\n",
    "\n",
    "$$\\begin{align}H_0 &: \\mu_g = 0\\\\H_a &: \\mu_g > 0 \\end{align}$$"
   ]
  },
  {
   "cell_type": "markdown",
   "id": "3c93b29e-55fa-4383-af93-b53cef574554",
   "metadata": {},
   "source": [
    "### Conducting the Test\n",
    "\n",
    "Notice that this is a straightforward 1 sample $t$-test"
   ]
  },
  {
   "cell_type": "code",
   "execution_count": 5,
   "id": "3188d033-ed86-437a-b233-daf58fe7e683",
   "metadata": {},
   "outputs": [
    {
     "data": {
      "text/plain": [
       "\n",
       "\tOne Sample t-test\n",
       "\n",
       "data:  gain\n",
       "t = 2.4481, df = 128, p-value = 0.01572\n",
       "alternative hypothesis: true mean is not equal to 0\n",
       "95 percent confidence interval:\n",
       " 0.1382394 1.3036210\n",
       "sample estimates:\n",
       "mean of x \n",
       "0.7209302 \n"
      ]
     },
     "metadata": {},
     "output_type": "display_data"
    }
   ],
   "source": [
    "t.test(gain)"
   ]
  },
  {
   "cell_type": "markdown",
   "id": "5dfb57cc-59c9-421c-a1fc-aacc647fcd9a",
   "metadata": {},
   "source": [
    "### Reporting Out\n",
    "\n",
    "Since $p = 0.01572 < 0.05 = \\alpha$, we reject the null. We thus have evidence that the gain scores were indeed positive and that the new labs, on average, produced students who better understood the material in the chemistry course."
   ]
  },
  {
   "cell_type": "markdown",
   "id": "585d6e15-f689-46e7-974d-db27b6a0de08",
   "metadata": {},
   "source": [
    "### **Not** an Independent Samples $t$-Test\n",
    "\n",
    "While we could, in fact, conduct a standard independent samples $t$-test on the pretest and posttest data, this approach is **not correct**. Let's perform the 2 sample test."
   ]
  },
  {
   "cell_type": "code",
   "execution_count": 6,
   "id": "1688b183-3b5f-4fca-98dc-6a59afe6d5c7",
   "metadata": {},
   "outputs": [
    {
     "data": {
      "text/plain": [
       "\n",
       "\tWelch Two Sample t-test\n",
       "\n",
       "data:  post and pre\n",
       "t = 1.7118, df = 255.52, p-value = 0.08814\n",
       "alternative hypothesis: true difference in means is not equal to 0\n",
       "95 percent confidence interval:\n",
       " -0.1084227  1.5502831\n",
       "sample estimates:\n",
       "mean of x mean of y \n",
       " 13.82171  13.10078 \n"
      ]
     },
     "metadata": {},
     "output_type": "display_data"
    }
   ],
   "source": [
    "t.test(post, pre, matched = TRUE)"
   ]
  },
  {
   "cell_type": "markdown",
   "id": "c24cac9d-3337-40c9-aacf-f4df607d0d30",
   "metadata": {},
   "source": [
    "Notice that the $p$-value is not only different but more than 5 times larger than the $p$-value from the correct matched pairs test.\n",
    "\n",
    "```{warning}\n",
    "The matched pairs $t$-test is a more powerful statistical test than the independent samples $t$-test. Thus, matched pairs should be used in every case for which it is appropriate.\n",
    "```\n",
    "\n",
    "If we always use matched pairs when appropriate, our results and $p$-values will be have a higher degree of correctness."
   ]
  },
  {
   "cell_type": "markdown",
   "id": "4da16f0d-6ccc-479a-a961-114c4577eb52",
   "metadata": {},
   "source": [
    "## Example 2\n",
    "\n",
    "Does yoga help patients struggling with back pain? Patients registered their ability to perform common household tasks like laundry, cooking and clearning on a 5 point scale. A 10-week yoga program was then launched geared toward helping these adults heal. Test the efficacy of the yoga intervention at the $\\alpha = 0.05$ level."
   ]
  },
  {
   "cell_type": "markdown",
   "id": "1f8d1641-ff7e-4353-94e4-5d3631f66b4a",
   "metadata": {},
   "source": [
    "<table style=\"width:100%\">\n",
    "  <tr>\n",
    "    <th>Before</th><td>1.7</td><td>3.1</td><td>3.0</td><td>3.0</td><td>1.3</td><td>2.7</td><td>1.7</td><td>1.2</td><td>2.9</td><td>3.4</td><td>1.6</td><td>2.8</td>\n",
    "  </tr>\n",
    "  <tr><th>After</th><td>1.4</td><td>2.6</td><td>2.0</td><td>2.4</td><td>1.5</td><td>0.9</td><td>3.0</td><td>3.2</td><td>3.4</td><td>3.5</td><td>4.0</td><td>4.9</td>\n",
    "  </tr>\n",
    "</table>"
   ]
  },
  {
   "cell_type": "markdown",
   "id": "57157243-4be7-4c21-9b41-8b730c5aa506",
   "metadata": {},
   "source": [
    "### Normality and Homogeneity Assumptions\n",
    "\n",
    "Let's load the data from the table into vectors in R so we can create a vector of gain scores for analysis."
   ]
  },
  {
   "cell_type": "code",
   "execution_count": 7,
   "id": "da7e7be7-74c4-4210-b261-e1a3b1e317a6",
   "metadata": {},
   "outputs": [],
   "source": [
    "before = c(1.7, 3.1, 3.0, 3.0, 1.3, 2.7, 1.9, 1.2, 2.9, 3.4, 2.3, 3.5)\n",
    "after = c(1.4, 2.6, 2.0, 2.4, 1.5, 1.1, 3.0, 3.2, 2.8, 3.5, 3.1, 4.9)\n",
    "gain = after - before"
   ]
  },
  {
   "cell_type": "code",
   "execution_count": 8,
   "id": "ee6ca71d-f58c-4d84-86d6-c9f8a266bd9c",
   "metadata": {},
   "outputs": [
    {
     "name": "stdout",
     "output_type": "stream",
     "text": [
      "\n",
      "  The decimal point is at the |\n",
      "\n",
      "  -1 | 60\n",
      "  -0 | 6531\n",
      "   0 | 128\n",
      "   1 | 14\n",
      "   2 | 0\n",
      "\n"
     ]
    }
   ],
   "source": [
    "stem(gain)"
   ]
  },
  {
   "cell_type": "code",
   "execution_count": 9,
   "id": "b46d8481-cd12-4097-a792-efbce0694da9",
   "metadata": {},
   "outputs": [
    {
     "data": {
      "image/png": "[encoded data removed]",
      "text/plain": [
       "plot without title"
      ]
     },
     "metadata": {},
     "output_type": "display_data"
    }
   ],
   "source": [
    "boxplot(gain, horizontal = T, height = lcm(5))"
   ]
  },
  {
   "cell_type": "markdown",
   "id": "4737b067-6ff3-483f-820b-d86f707b6454",
   "metadata": {},
   "source": [
    "#### Analysis\n",
    "\n",
    "With no outliers present and reasonable evidence the gain scores were drawn from a bell-shaped distribution, the normality assumption is verified. There is no way to assess the homogeneity assumption given that we have only one small sample. The data will work well for $t$ procedures."
   ]
  },
  {
   "cell_type": "markdown",
   "id": "48204531-7d7d-4b8f-a016-6d759e60d2a9",
   "metadata": {},
   "source": [
    "### Hypotheses\n",
    "\n",
    "$$\\begin{align}H_0 &: \\mu_g =  0\\\\H_a &: \\mu_g >  0\\end{align}$$\n",
    "\n",
    "### Conducting the Test"
   ]
  },
  {
   "cell_type": "code",
   "execution_count": 10,
   "id": "e7439acd-797e-410a-8c9b-e63d24207752",
   "metadata": {},
   "outputs": [
    {
     "data": {
      "text/plain": [
       "\n",
       "\tOne Sample t-test\n",
       "\n",
       "data:  gain\n",
       "t = 0.41557, df = 11, p-value = 0.3429\n",
       "alternative hypothesis: true mean is greater than 0\n",
       "95 percent confidence interval:\n",
       " -0.4151808        Inf\n",
       "sample estimates:\n",
       "mean of x \n",
       "    0.125 \n"
      ]
     },
     "metadata": {},
     "output_type": "display_data"
    }
   ],
   "source": [
    "t.test(gain, alternative = 'greater')"
   ]
  },
  {
   "cell_type": "markdown",
   "id": "d480fce9-1c36-430c-baa5-a2c3a4b021d2",
   "metadata": {},
   "source": [
    "### Reporting Out\n",
    "\n",
    "Since $p = 0.343 > 0.05 = \\alpha$, we fail to reject the null hypothesis. We have no evidence the yoga helped improve these patient's ability to perform household chores."
   ]
  },
  {
   "cell_type": "code",
   "execution_count": null,
   "id": "702c01ae-87b3-4ef6-885e-e392d60b19a5",
   "metadata": {},
   "outputs": [],
   "source": []
  }
 ],
 "metadata": {
  "kernelspec": {
   "display_name": "R",
   "language": "R",
   "name": "ir"
  },
  "language_info": {
   "codemirror_mode": "r",
   "file_extension": ".r",
   "mimetype": "text/x-r-source",
   "name": "R",
   "pygments_lexer": "r",
   "version": "3.6.1"
  }
 },
 "nbformat": 4,
 "nbformat_minor": 5
}