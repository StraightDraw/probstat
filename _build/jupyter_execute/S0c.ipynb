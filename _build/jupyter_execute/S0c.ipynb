{
 "cells": [
  {
   "cell_type": "markdown",
   "id": "51e3012c-b144-44cc-9cec-7e780ad16597",
   "metadata": {},
   "source": [
    "# Visualizing Data in R"
   ]
  },
  {
   "cell_type": "code",
   "execution_count": null,
   "id": "15c2cdda-4f03-4327-b679-a3f55ed666de",
   "metadata": {},
   "outputs": [],
   "source": []
  }
 ],
 "metadata": {
  "kernelspec": {
   "display_name": "R",
   "language": "R",
   "name": "ir"
  },
  "language_info": {
   "codemirror_mode": "r",
   "file_extension": ".r",
   "mimetype": "text/x-r-source",
   "name": "R",
   "pygments_lexer": "r",
   "version": "3.6.1"
  }
 },
 "nbformat": 4,
 "nbformat_minor": 5
}