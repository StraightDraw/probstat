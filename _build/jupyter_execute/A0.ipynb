{
 "cells": [
  {
   "cell_type": "markdown",
   "id": "9e8b7063-c34f-429a-a3ff-107eeae42380",
   "metadata": {},
   "source": [
    "# Overview, Index, Links\n",
    "\n",
    "We utilize the **open source freeware R** in this course. \n",
    "\n",
    "When using R, several tasks are used quite often without a detailed explanation given for each use. We therefore have created a reference page for the most common uses. We have several pages in this section that deal with typical issues and the code in R that gets around them."
   ]
  },
  {
   "cell_type": "markdown",
   "id": "b18aa469-05d4-4c34-b8bb-fa7648ac0312",
   "metadata": {},
   "source": [
    "## Index of Appendix Pages\n",
    "\n",
    "The following list describes the contents of each page:\n",
    "\n",
    "1. [Statistical Formulas](../A1.ipynb): Key notation for understanding R commands and statistical models.\n",
    "2. [Helpful Code](../A2.ipynb): Basic tasks in R like calculating standard descriptives and the 5-Number Summary along with using the **cat()** function to display text and code output together.\n",
    "5. [Subsetting a Data Frame](../A2a.ipynb): Using the subset() function to extract specific types of data points from a data frame.\n",
    "6. [Creating a Data Frame](../A2b.ipynb): Entering data into R by creatinng vectors using the concatenate function **c()** and then joining them into a dataframe.\n",
    "7. [Creating a Grid of Graphics](../A2c.ipynb): When displaying multiple graphical objects at once, we can use the **layout()** and **matrix()** functions to create a grid. The graphical objects will be reduced in size and laid out as we specify. The result saves space and helps to organize content in a more meaningful way."
   ]
  },
  {
   "cell_type": "code",
   "execution_count": null,
   "id": "2ffe452e-9011-4605-876a-93f285afd129",
   "metadata": {},
   "outputs": [],
   "source": []
  }
 ],
 "metadata": {
  "kernelspec": {
   "display_name": "R",
   "language": "R",
   "name": "ir"
  },
  "language_info": {
   "codemirror_mode": "r",
   "file_extension": ".r",
   "mimetype": "text/x-r-source",
   "name": "R",
   "pygments_lexer": "r",
   "version": "3.6.1"
  }
 },
 "nbformat": 4,
 "nbformat_minor": 5
}