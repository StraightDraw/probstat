{
 "cells": [
  {
   "cell_type": "markdown",
   "id": "5655c099-17a7-4a29-8f9e-7e53094bd7df",
   "metadata": {},
   "source": [
    "# Creating a Data Frame"
   ]
  },
  {
   "cell_type": "markdown",
   "id": "945f87ba-1b89-4575-8081-6b00a21611b2",
   "metadata": {},
   "source": [
    "When we receive the data as a table, we have to create our own vectors and data frame. The example below shows an example where soda is tested.\n",
    "\n",
    "## Example: Soda\n",
    "\n",
    "A beverage manufacturer is testing 3 sweeteners for its zero-carbs soda. Thirty taste-testers were given a 5-question survey about bevverage quality after tasting the soda. Ten of the thirty tested each version of the new soda. The results are shown below where higher scores indicate a more pleasant overall taste."
   ]
  },
  {
   "cell_type": "markdown",
   "id": "6136f22a-90f3-44e9-81f9-983fac62d20b",
   "metadata": {},
   "source": [
    "<table style=\"width:35%\">\n",
    "  <tr><th style=\"text-align: center;\">A</th><th style=\"text-align: center;\">B</th><th style=\"text-align: center;\">C</th></tr>\n",
    "  <tr><td style=\"text-align: center;\">13</td><td style=\"text-align: center;\">12</td><td style=\"text-align: center;\">7</td></tr>\n",
    "  <tr><td style=\"text-align: center;\">17</td><td style=\"text-align: center;\">8</td><td style=\"text-align: center;\">19</td></tr>\n",
    "  <tr><td style=\"text-align: center;\">19</td><td style=\"text-align: center;\">6</td><td style=\"text-align: center;\">15</td></tr>\n",
    "  <tr><td style=\"text-align: center;\">11</td><td style=\"text-align: center;\">16</td><td style=\"text-align: center;\">14</td></tr>\n",
    "  <tr><td style=\"text-align: center;\">20</td><td style=\"text-align: center;\">12</td><td style=\"text-align: center;\">10</td></tr>\n",
    "  <tr><td style=\"text-align: center;\">15</td><td style=\"text-align: center;\">14</td><td style=\"text-align: center;\">16</td></tr>\n",
    "  <tr><td style=\"text-align: center;\">18</td><td style=\"text-align: center;\">10</td><td style=\"text-align: center;\">18</td></tr>\n",
    "  <tr><td style=\"text-align: center;\">9</td><td style=\"text-align: center;\">18</td><td style=\"text-align: center;\">11</td></tr>\n",
    "  <tr><td style=\"text-align: center;\">12</td><td style=\"text-align: center;\">4</td><td style=\"text-align: center;\">14</td></tr>\n",
    "  <tr><td style=\"text-align: center;\">16</td><td style=\"text-align: center;\">11</td><td style=\"text-align: center;\">11</td></tr>\n",
    "</table>"
   ]
  },
  {
   "cell_type": "markdown",
   "id": "244c3285-a9c4-4ba9-bb2f-c9f863037ca4",
   "metadata": {},
   "source": [
    "### Creating 3 Vectors\n",
    "\n",
    "First, let's enter each column in the table above as a vector."
   ]
  },
  {
   "cell_type": "code",
   "execution_count": 1,
   "id": "3a5eb741-82bb-47ac-837f-3ae9b8f2ebfd",
   "metadata": {},
   "outputs": [],
   "source": [
    "a <- c(13, 17, 19, 11, 20, 15, 18, 9, 12, 16)\n",
    "b <- c(12, 8, 6, 16, 12, 14, 10, 18, 4, 11)\n",
    "c <- c(7, 19, 15, 14, 10, 16, 18, 11, 14, 11)\n",
    "data <- c(a,b,c)"
   ]
  },
  {
   "cell_type": "markdown",
   "id": "4b26f71b-51ed-4bef-9928-6237e6f433b8",
   "metadata": {},
   "source": [
    "The last line above combines the 3 vectors into a single numeric vector that will become the first column of our data frame.\n",
    "\n",
    "### Creating a Grouping Variable\n",
    "\n",
    "The next job is to create a single text vector that assigns each rating value to a sweetener group. We thus need 10 A's, 10 B's and 10 C's in that order, and we must use quotation marks so R will understand they are group ID's."
   ]
  },
  {
   "cell_type": "code",
   "execution_count": 2,
   "id": "4ae1a3df-a31f-434a-8214-1a2dffeb014a",
   "metadata": {},
   "outputs": [],
   "source": [
    "grp <- c('A','A','A','A','A','A','A','A','A','A','B','B','B','B','B','B','B','B','B','B','C','C','C','C','C','C','C','C','C','C')"
   ]
  },
  {
   "cell_type": "markdown",
   "id": "00e0eab6-785a-42f4-b8e8-e94f89540009",
   "metadata": {},
   "source": [
    "### Creating the Data Frame\n",
    "\n",
    "The **data.frame()** function is straightforward to use.\n",
    "\n",
    "The **factor()** allows us to specify a vector should be treated as a category variable and used (in this case) as a group ID. We can even use numbers to specify the group assignments as the function *factor()* will read the values in this vector as group ID's. "
   ]
  },
  {
   "cell_type": "code",
   "execution_count": 3,
   "id": "27261be8-ce72-45a5-aef7-5a1c9334dc96",
   "metadata": {},
   "outputs": [
    {
     "data": {
      "text/html": [
       "<table>\n",
       "<thead><tr><th scope=col>y</th><th scope=col>group</th></tr></thead>\n",
       "<tbody>\n",
       "\t<tr><td>13</td><td>A </td></tr>\n",
       "\t<tr><td>17</td><td>A </td></tr>\n",
       "\t<tr><td>19</td><td>A </td></tr>\n",
       "\t<tr><td>11</td><td>A </td></tr>\n",
       "\t<tr><td>20</td><td>A </td></tr>\n",
       "\t<tr><td>15</td><td>A </td></tr>\n",
       "\t<tr><td>18</td><td>A </td></tr>\n",
       "\t<tr><td> 9</td><td>A </td></tr>\n",
       "\t<tr><td>12</td><td>A </td></tr>\n",
       "\t<tr><td>16</td><td>A </td></tr>\n",
       "\t<tr><td>12</td><td>B </td></tr>\n",
       "</tbody>\n",
       "</table>\n"
      ],
      "text/latex": [
       "\\begin{tabular}{r|ll}\n",
       " y & group\\\\\n",
       "\\hline\n",
       "\t 13 & A \\\\\n",
       "\t 17 & A \\\\\n",
       "\t 19 & A \\\\\n",
       "\t 11 & A \\\\\n",
       "\t 20 & A \\\\\n",
       "\t 15 & A \\\\\n",
       "\t 18 & A \\\\\n",
       "\t  9 & A \\\\\n",
       "\t 12 & A \\\\\n",
       "\t 16 & A \\\\\n",
       "\t 12 & B \\\\\n",
       "\\end{tabular}\n"
      ],
      "text/markdown": [
       "\n",
       "| y | group |\n",
       "|---|---|\n",
       "| 13 | A  |\n",
       "| 17 | A  |\n",
       "| 19 | A  |\n",
       "| 11 | A  |\n",
       "| 20 | A  |\n",
       "| 15 | A  |\n",
       "| 18 | A  |\n",
       "|  9 | A  |\n",
       "| 12 | A  |\n",
       "| 16 | A  |\n",
       "| 12 | B  |\n",
       "\n"
      ],
      "text/plain": [
       "   y  group\n",
       "1  13 A    \n",
       "2  17 A    \n",
       "3  19 A    \n",
       "4  11 A    \n",
       "5  20 A    \n",
       "6  15 A    \n",
       "7  18 A    \n",
       "8   9 A    \n",
       "9  12 A    \n",
       "10 16 A    \n",
       "11 12 B    "
      ]
     },
     "metadata": {},
     "output_type": "display_data"
    }
   ],
   "source": [
    "df = data.frame(y = data, group = factor(grp))\n",
    "head(df, 11)"
   ]
  },
  {
   "cell_type": "markdown",
   "id": "e55f8041-55d4-4df4-8991-4aa13d30ed49",
   "metadata": {},
   "source": [
    "### Completing the Example\n",
    "\n",
    "As can be seen above, the data frame we created called **df** does have the proper values identified with the proper groups. Below, we run the ANOVA on these data to verify the data frame has been loaded properly."
   ]
  },
  {
   "cell_type": "code",
   "execution_count": 4,
   "id": "e2584ea2-0a90-4247-ad59-e8a4870b3028",
   "metadata": {},
   "outputs": [
    {
     "data": {
      "text/plain": [
       "            Df Sum Sq Mean Sq F value Pr(>F)  \n",
       "grp          2   77.4   38.70   2.515 0.0996 .\n",
       "Residuals   27  415.4   15.39                 \n",
       "---\n",
       "Signif. codes:  0 '***' 0.001 '**' 0.01 '*' 0.05 '.' 0.1 ' ' 1"
      ]
     },
     "metadata": {},
     "output_type": "display_data"
    }
   ],
   "source": [
    "anova <- aov(y ~ grp, data = df)\n",
    "summary(anova)"
   ]
  },
  {
   "cell_type": "markdown",
   "id": "a7427da5-7fe3-4d0b-8e1f-364d1abb84be",
   "metadata": {},
   "source": [
    "## Example 2: Deck of Cards Data Frame\n",
    "\n",
    "Let's create a deck of cards with values $2,3,\\cdots,14$ in four suits: S, H, D, C. Using the function **rep()**, we can create two columns for the eventual data frame:\n",
    "\n",
    "1. **values** 2:14 repeated 4 times.\n",
    "2. **suits** with each letter repeated 13 times."
   ]
  },
  {
   "cell_type": "code",
   "execution_count": 5,
   "id": "a0725b9c-b94a-4a7e-a541-6a1573f34427",
   "metadata": {},
   "outputs": [],
   "source": [
    "values <- rep(2:14,4)\n",
    "suits <- c(rep('S',13), rep('H',13), rep('D',13), rep('C',13))"
   ]
  },
  {
   "cell_type": "markdown",
   "id": "81a58c2b-3876-48bd-ba30-c2aa5a66a3d4",
   "metadata": {},
   "source": [
    "We join the two columns created above into a data frame with a numeric variable (values) and a grouping variable (suits)."
   ]
  },
  {
   "cell_type": "code",
   "execution_count": 6,
   "id": "1094a31d-01e6-4742-93f2-4269e2561826",
   "metadata": {},
   "outputs": [
    {
     "data": {
      "text/html": [
       "<table>\n",
       "<thead><tr><th scope=col>v</th><th scope=col>suits</th></tr></thead>\n",
       "<tbody>\n",
       "\t<tr><td> 2</td><td>S </td></tr>\n",
       "\t<tr><td> 3</td><td>S </td></tr>\n",
       "\t<tr><td> 4</td><td>S </td></tr>\n",
       "\t<tr><td> 5</td><td>S </td></tr>\n",
       "\t<tr><td> 6</td><td>S </td></tr>\n",
       "\t<tr><td> 7</td><td>S </td></tr>\n",
       "\t<tr><td> 8</td><td>S </td></tr>\n",
       "\t<tr><td> 9</td><td>S </td></tr>\n",
       "\t<tr><td>10</td><td>S </td></tr>\n",
       "\t<tr><td>11</td><td>S </td></tr>\n",
       "\t<tr><td>12</td><td>S </td></tr>\n",
       "\t<tr><td>13</td><td>S </td></tr>\n",
       "\t<tr><td>14</td><td>S </td></tr>\n",
       "\t<tr><td> 2</td><td>H </td></tr>\n",
       "\t<tr><td> 3</td><td>H </td></tr>\n",
       "</tbody>\n",
       "</table>\n"
      ],
      "text/latex": [
       "\\begin{tabular}{r|ll}\n",
       " v & suits\\\\\n",
       "\\hline\n",
       "\t  2 & S \\\\\n",
       "\t  3 & S \\\\\n",
       "\t  4 & S \\\\\n",
       "\t  5 & S \\\\\n",
       "\t  6 & S \\\\\n",
       "\t  7 & S \\\\\n",
       "\t  8 & S \\\\\n",
       "\t  9 & S \\\\\n",
       "\t 10 & S \\\\\n",
       "\t 11 & S \\\\\n",
       "\t 12 & S \\\\\n",
       "\t 13 & S \\\\\n",
       "\t 14 & S \\\\\n",
       "\t  2 & H \\\\\n",
       "\t  3 & H \\\\\n",
       "\\end{tabular}\n"
      ],
      "text/markdown": [
       "\n",
       "| v | suits |\n",
       "|---|---|\n",
       "|  2 | S  |\n",
       "|  3 | S  |\n",
       "|  4 | S  |\n",
       "|  5 | S  |\n",
       "|  6 | S  |\n",
       "|  7 | S  |\n",
       "|  8 | S  |\n",
       "|  9 | S  |\n",
       "| 10 | S  |\n",
       "| 11 | S  |\n",
       "| 12 | S  |\n",
       "| 13 | S  |\n",
       "| 14 | S  |\n",
       "|  2 | H  |\n",
       "|  3 | H  |\n",
       "\n"
      ],
      "text/plain": [
       "   v  suits\n",
       "1   2 S    \n",
       "2   3 S    \n",
       "3   4 S    \n",
       "4   5 S    \n",
       "5   6 S    \n",
       "6   7 S    \n",
       "7   8 S    \n",
       "8   9 S    \n",
       "9  10 S    \n",
       "10 11 S    \n",
       "11 12 S    \n",
       "12 13 S    \n",
       "13 14 S    \n",
       "14  2 H    \n",
       "15  3 H    "
      ]
     },
     "metadata": {},
     "output_type": "display_data"
    }
   ],
   "source": [
    "deck_df <- data.frame(v = values, suits = factor(suits))\n",
    "head(deck_df,15)"
   ]
  },
  {
   "cell_type": "markdown",
   "id": "82072534-f30d-4a1c-ac53-6447259fbc17",
   "metadata": {},
   "source": [
    "We have a deck of cards as a data frame, and we can draw cards with the **sample()** function or the **sample.data.frame()** function.\n",
    "\n",
    "### Draw from Deck using sample()\n",
    "\n",
    "Notice that we are accounting for which suit is drawn, not the values drawn."
   ]
  },
  {
   "cell_type": "code",
   "execution_count": 7,
   "id": "6a24e4f0-0fcf-42dc-8c93-44b0fdce22cc",
   "metadata": {
    "editable": true,
    "scrolled": true,
    "slideshow": {
     "slide_type": ""
    },
    "tags": []
   },
   "outputs": [
    {
     "data": {
      "text/html": [
       "2"
      ],
      "text/latex": [
       "2"
      ],
      "text/markdown": [
       "2"
      ],
      "text/plain": [
       "[1] 2"
      ]
     },
     "metadata": {},
     "output_type": "display_data"
    },
    {
     "data": {
      "text/html": [
       "<ol class=list-inline>\n",
       "\t<li>C</li>\n",
       "\t<li>H</li>\n",
       "\t<li>S</li>\n",
       "\t<li>C</li>\n",
       "\t<li>D</li>\n",
       "\t<li>H</li>\n",
       "\t<li>S</li>\n",
       "\t<li>C</li>\n",
       "\t<li>S</li>\n",
       "\t<li>C</li>\n",
       "\t<li>S</li>\n",
       "\t<li>S</li>\n",
       "\t<li>S</li>\n",
       "</ol>\n",
       "\n",
       "<details>\n",
       "\t<summary style=display:list-item;cursor:pointer>\n",
       "\t\t<strong>Levels</strong>:\n",
       "\t</summary>\n",
       "\t<ol class=list-inline>\n",
       "\t\t<li>'C'</li>\n",
       "\t\t<li>'D'</li>\n",
       "\t\t<li>'H'</li>\n",
       "\t\t<li>'S'</li>\n",
       "\t</ol>\n",
       "</details>"
      ],
      "text/latex": [
       "\\begin{enumerate*}\n",
       "\\item C\n",
       "\\item H\n",
       "\\item S\n",
       "\\item C\n",
       "\\item D\n",
       "\\item H\n",
       "\\item S\n",
       "\\item C\n",
       "\\item S\n",
       "\\item C\n",
       "\\item S\n",
       "\\item S\n",
       "\\item S\n",
       "\\end{enumerate*}\n",
       "\n",
       "\\emph{Levels}: \\begin{enumerate*}\n",
       "\\item 'C'\n",
       "\\item 'D'\n",
       "\\item 'H'\n",
       "\\item 'S'\n",
       "\\end{enumerate*}\n"
      ],
      "text/markdown": [
       "1. C\n",
       "2. H\n",
       "3. S\n",
       "4. C\n",
       "5. D\n",
       "6. H\n",
       "7. S\n",
       "8. C\n",
       "9. S\n",
       "10. C\n",
       "11. S\n",
       "12. S\n",
       "13. S\n",
       "\n",
       "\n",
       "\n",
       "**Levels**: 1. 'C'\n",
       "2. 'D'\n",
       "3. 'H'\n",
       "4. 'S'\n",
       "\n",
       "\n"
      ],
      "text/plain": [
       " [1] C H S C D H S C S C S S S\n",
       "Levels: C D H S"
      ]
     },
     "metadata": {},
     "output_type": "display_data"
    }
   ],
   "source": [
    "x <- sample(deck_df$suits, 13)\n",
    "sum( x  == 'H' )\n",
    "x"
   ]
  },
  {
   "cell_type": "markdown",
   "id": "cc811a0f-a81e-4500-910b-441ccc882fb6",
   "metadata": {},
   "source": [
    "### Draw from Deck using sample.data.frame()"
   ]
  },
  {
   "cell_type": "code",
   "execution_count": 8,
   "id": "bfe8d722-435b-4628-8a94-ae1e4f9a6f4b",
   "metadata": {
    "editable": true,
    "slideshow": {
     "slide_type": ""
    },
    "tags": [
     "hide-input"
    ]
   },
   "outputs": [],
   "source": [
    "sample.data.frame <- function(x, size, replace = FALSE, prob = NULL, groups=NULL, \n",
    "                              orig.ids = TRUE, fixed = names(x), shuffled = c(),\n",
    "                              invisibly.return = NULL, ...) {\n",
    "  if( missing(size) ) size = nrow(x)\n",
    "  if( is.null(invisibly.return) ) invisibly.return = size>50 \n",
    "  shuffled <- intersect(shuffled, names(x))\n",
    "  fixed <- setdiff(intersect(fixed, names(x)), shuffled)\n",
    "  n <- nrow(x)\n",
    "  ids <- 1:n\n",
    "  groups <- eval( substitute(groups), x )\n",
    "  newids <- sample(n, size, replace=replace, prob=prob, ...)\n",
    "  origids <- ids[newids]\n",
    "  result <- x[newids, , drop=FALSE]\n",
    "  \n",
    "  idsString <- as.character(origids)\n",
    "  \n",
    "  for (column in shuffled) {\n",
    "    cids <- sample(newids, groups=groups[newids])\n",
    "    result[,column] <- x[cids,column]\n",
    "    idsString <- paste(idsString, \".\", cids, sep=\"\")\n",
    "  }\n",
    "  \n",
    "  result <-  result[ , union(fixed,shuffled), drop=FALSE]\n",
    "  if (orig.ids) result$orig.id <- idsString\n",
    "  \n",
    "  \n",
    "  if (invisibly.return) { return(invisible(result)) } else {return(result)}\n",
    "}"
   ]
  },
  {
   "cell_type": "markdown",
   "id": "612ddb90-4181-44b5-90ca-bf2be5213bec",
   "metadata": {},
   "source": [
    "### Draw a 5-Card Poker Hand"
   ]
  },
  {
   "cell_type": "code",
   "execution_count": 9,
   "id": "8644df9a-969a-4c2d-8b47-81d579d012dd",
   "metadata": {},
   "outputs": [
    {
     "data": {
      "text/html": [
       "<table>\n",
       "<thead><tr><th></th><th scope=col>v</th><th scope=col>suits</th></tr></thead>\n",
       "<tbody>\n",
       "\t<tr><th scope=row>29</th><td> 4</td><td>D </td></tr>\n",
       "\t<tr><th scope=row>23</th><td>11</td><td>H </td></tr>\n",
       "\t<tr><th scope=row>13</th><td>14</td><td>S </td></tr>\n",
       "\t<tr><th scope=row>10</th><td>11</td><td>S </td></tr>\n",
       "\t<tr><th scope=row>25</th><td>13</td><td>H </td></tr>\n",
       "</tbody>\n",
       "</table>\n"
      ],
      "text/latex": [
       "\\begin{tabular}{r|ll}\n",
       "  & v & suits\\\\\n",
       "\\hline\n",
       "\t29 &  4 & D \\\\\n",
       "\t23 & 11 & H \\\\\n",
       "\t13 & 14 & S \\\\\n",
       "\t10 & 11 & S \\\\\n",
       "\t25 & 13 & H \\\\\n",
       "\\end{tabular}\n"
      ],
      "text/markdown": [
       "\n",
       "| <!--/--> | v | suits |\n",
       "|---|---|---|\n",
       "| 29 |  4 | D  |\n",
       "| 23 | 11 | H  |\n",
       "| 13 | 14 | S  |\n",
       "| 10 | 11 | S  |\n",
       "| 25 | 13 | H  |\n",
       "\n"
      ],
      "text/plain": [
       "   v  suits\n",
       "29  4 D    \n",
       "23 11 H    \n",
       "13 14 S    \n",
       "10 11 S    \n",
       "25 13 H    "
      ]
     },
     "metadata": {},
     "output_type": "display_data"
    }
   ],
   "source": [
    "x <- sample.data.frame(deck_df, 5, orig.id = FALSE)\n",
    "head(x,5)"
   ]
  },
  {
   "cell_type": "markdown",
   "id": "812b36d0-539b-4c29-8661-be8ce8d1ad3d",
   "metadata": {},
   "source": [
    "Let's count the number of Hearts in the hand."
   ]
  },
  {
   "cell_type": "code",
   "execution_count": 10,
   "id": "74034195-bcb1-415b-80f6-e27ebfc3abdc",
   "metadata": {},
   "outputs": [
    {
     "data": {
      "text/html": [
       "2"
      ],
      "text/latex": [
       "2"
      ],
      "text/markdown": [
       "2"
      ],
      "text/plain": [
       "[1] 2"
      ]
     },
     "metadata": {},
     "output_type": "display_data"
    }
   ],
   "source": [
    "sum( x == 'H')"
   ]
  },
  {
   "cell_type": "markdown",
   "id": "4b390ffb-4ee8-4446-bd3f-4d78dcea9cec",
   "metadata": {},
   "source": [
    "### Draw 13-Card Hand, Count Number of Hearts"
   ]
  },
  {
   "cell_type": "code",
   "execution_count": 11,
   "id": "fabe0bfa-909c-4b9a-bd8e-3b189c365f45",
   "metadata": {},
   "outputs": [
    {
     "data": {
      "text/html": [
       "2"
      ],
      "text/latex": [
       "2"
      ],
      "text/markdown": [
       "2"
      ],
      "text/plain": [
       "[1] 2"
      ]
     },
     "metadata": {},
     "output_type": "display_data"
    },
    {
     "data": {
      "text/html": [
       "<ol class=list-inline>\n",
       "\t<li>S</li>\n",
       "\t<li>D</li>\n",
       "\t<li>D</li>\n",
       "\t<li>S</li>\n",
       "\t<li>D</li>\n",
       "\t<li>C</li>\n",
       "\t<li>C</li>\n",
       "\t<li>C</li>\n",
       "\t<li>H</li>\n",
       "\t<li>C</li>\n",
       "\t<li>H</li>\n",
       "\t<li>C</li>\n",
       "\t<li>C</li>\n",
       "</ol>\n",
       "\n",
       "<details>\n",
       "\t<summary style=display:list-item;cursor:pointer>\n",
       "\t\t<strong>Levels</strong>:\n",
       "\t</summary>\n",
       "\t<ol class=list-inline>\n",
       "\t\t<li>'C'</li>\n",
       "\t\t<li>'D'</li>\n",
       "\t\t<li>'H'</li>\n",
       "\t\t<li>'S'</li>\n",
       "\t</ol>\n",
       "</details>"
      ],
      "text/latex": [
       "\\begin{enumerate*}\n",
       "\\item S\n",
       "\\item D\n",
       "\\item D\n",
       "\\item S\n",
       "\\item D\n",
       "\\item C\n",
       "\\item C\n",
       "\\item C\n",
       "\\item H\n",
       "\\item C\n",
       "\\item H\n",
       "\\item C\n",
       "\\item C\n",
       "\\end{enumerate*}\n",
       "\n",
       "\\emph{Levels}: \\begin{enumerate*}\n",
       "\\item 'C'\n",
       "\\item 'D'\n",
       "\\item 'H'\n",
       "\\item 'S'\n",
       "\\end{enumerate*}\n"
      ],
      "text/markdown": [
       "1. S\n",
       "2. D\n",
       "3. D\n",
       "4. S\n",
       "5. D\n",
       "6. C\n",
       "7. C\n",
       "8. C\n",
       "9. H\n",
       "10. C\n",
       "11. H\n",
       "12. C\n",
       "13. C\n",
       "\n",
       "\n",
       "\n",
       "**Levels**: 1. 'C'\n",
       "2. 'D'\n",
       "3. 'H'\n",
       "4. 'S'\n",
       "\n",
       "\n"
      ],
      "text/plain": [
       " [1] S D D S D C C C H C H C C\n",
       "Levels: C D H S"
      ]
     },
     "metadata": {},
     "output_type": "display_data"
    }
   ],
   "source": [
    "x <- sample.data.frame(deck_df, 13, orig.id = FALSE)\n",
    "sum(x[,2] == 'H')\n",
    "x[,2]"
   ]
  },
  {
   "cell_type": "code",
   "execution_count": null,
   "id": "23efb1c0-2bee-4302-9821-1a05fa95577d",
   "metadata": {},
   "outputs": [],
   "source": []
  }
 ],
 "metadata": {
  "kernelspec": {
   "display_name": "R",
   "language": "R",
   "name": "ir"
  },
  "language_info": {
   "codemirror_mode": "r",
   "file_extension": ".r",
   "mimetype": "text/x-r-source",
   "name": "R",
   "pygments_lexer": "r",
   "version": "3.6.1"
  }
 },
 "nbformat": 4,
 "nbformat_minor": 5
}