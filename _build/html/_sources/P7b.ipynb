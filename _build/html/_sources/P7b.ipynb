{
 "cells": [
  {
   "cell_type": "markdown",
   "id": "f4f846d5-fb98-416e-89b4-6e857db18b7b",
   "metadata": {},
   "source": [
    "# Solutions\n",
    "\n",
    "Let's get our combinations formula:"
   ]
  },
  {
   "cell_type": "code",
   "execution_count": 7,
   "id": "b100fd09-43f1-4610-aa30-965a19a528f8",
   "metadata": {},
   "outputs": [],
   "source": [
    "combin <- function(n, k) {\n",
    "    return(factorial(n) / ( factorial(k)*factorial(n-k) )) }"
   ]
  },
  {
   "cell_type": "markdown",
   "id": "e6643c30-5aef-4618-86c1-4122d960d473",
   "metadata": {},
   "source": [
    "1. A raffle is held by the UNG student government association to draw for a horseback riding trip in the mountains worth a 1,000 dollars. Two thousand tickets are sold at 1 dollar each. Find the expected value and standard deviation of purchasing one ticket.\n",
    "\n",
    "**Solution.** If 2,000 tickets are sold and one winner is drawn, the probability of winning is given by:\n",
    "\n",
    "$$P(\\text{win})=\\frac{1}{2000}$$\n",
    "\n",
    "We must pay a dollar whether we lose or win, so the expected value calculation is as follows:\n",
    "\n",
    "$$\\begin{align}E(X) &= (-1)\\left(\\frac{1999}{2000}\\right) + (1000)\\left(\\frac{1}{2000}\\right)\\\\\\\\&=\\frac{-1999+1000}{2000}\\\\\\\\&=-\\frac{999}{2000}\\end{align}$$\n",
    "\n",
    "For the standard deviation, note that:\n",
    "\n",
    "$$\\begin{align}V(X) = E(X^2) - E(X)^2 &= \\left[(-1)^2\\left(\\frac{1999}{2000}\\right) + (1000)^2\\left(\\frac{1}{2000}\\right)\\right] - \\left(\\frac{99801}{4000000}\\right)\\\\\\\\&=\\frac{1999+1000000-99801}{4000000}\\\\\\\\&=\\frac{902198}{4000000} \\approx 0.22555\\end{align}$$"
   ]
  },
  {
   "cell_type": "markdown",
   "id": "bf137017-96f9-4319-8c0d-03ecdb72d723",
   "metadata": {},
   "source": [
    "Then, we have:\n",
    "\n",
    "$$\\sigma_X = \\sqrt{\\frac{902198}{4000000}}\\approx 0.47492$$"
   ]
  },
  {
   "cell_type": "markdown",
   "id": "3ff1b06e-7829-4a9d-b64c-33d5d1921eba",
   "metadata": {},
   "source": [
    "2. You draw 1 card from a standard, well-shuffled deck of playing cards. If you pick a heart, you win 10 dollars. If you pick a face card which is not a heart, you win 8 dollars. If you pick any other cards, you lose 6 dollars. Do you want to play this game?\n",
    "\n",
    "3. A game consists of flipping two coins. If both coins turn up heads, you win $1.00. What is a \"fair\" price to pay to play?\n",
    "\n",
    "4. A game consists of rolling a colored die with three green sides, two red sides, and one  blue side. A roll of a red loses. A roll of blue pays 6 dollars. A roll of green pays 2 dollars.  What is a fair price to pay to play?\n",
    "\n",
    "5. At the racetrack, Daryl to enter his horse in a stakes race. He believes that the horse has a 1/20 chance of winning, a 1/10 chance of finishing second, and a 1/4 chance of finishing third. If first pays 5 thousand dollars, second pays 3,500 dollars and third pays 2,500 dollars, should Daryl enter his horse in the race?\n",
    "\n",
    "6. A raffle sells 847 tickets at five dollars per ticket for five prizes of 50 dollars, 1oo dollars, 150 dollars, 200 dollars and 500 dollars. What is the expected value of buying tickets, in dollars?\n",
    "\n",
    "7. A game consists of rolling a colored die with two red sides, one blue side, and three  green sides. A roll of red loses, a roll of blue wins 6 dollars, and a roll of green allows  another roll. A player is allowed no more than three rolls. What is a fair price to pay  to play?\n",
    "\n",
    "8. Assume a person pays 1 dollar to play the following game. Four coins are tossed. If all  coins show the same (e.g. all 4 heads or all 4 tails), the player wins 6 dollars. Otherwise, the player  loses. Find the expected value for this game."
   ]
  },
  {
   "cell_type": "code",
   "execution_count": null,
   "id": "90bb8611-bc7d-42c5-a618-1efef8410719",
   "metadata": {},
   "outputs": [],
   "source": []
  },
  {
   "cell_type": "code",
   "execution_count": null,
   "id": "9b424430-f898-48df-93c7-b2ef64f75a60",
   "metadata": {},
   "outputs": [],
   "source": []
  },
  {
   "cell_type": "code",
   "execution_count": null,
   "id": "05c41095-63f2-44f0-88ab-0965bce88123",
   "metadata": {},
   "outputs": [],
   "source": []
  }
 ],
 "metadata": {
  "kernelspec": {
   "display_name": "R",
   "language": "R",
   "name": "ir"
  },
  "language_info": {
   "codemirror_mode": "r",
   "file_extension": ".r",
   "mimetype": "text/x-r-source",
   "name": "R",
   "pygments_lexer": "r",
   "version": "3.6.1"
  }
 },
 "nbformat": 4,
 "nbformat_minor": 5
}
