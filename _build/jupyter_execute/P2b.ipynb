{
 "cells": [
  {
   "cell_type": "markdown",
   "id": "041842d1-2e8b-492a-95a3-1f8ef2f187e6",
   "metadata": {},
   "source": [
    "# Exercises\n",
    "\n",
    "Solve the following counting problems."
   ]
  },
  {
   "cell_type": "markdown",
   "id": "216f83c3-d9ba-4300-b194-7fd98d152682",
   "metadata": {},
   "source": [
    "1. Professor Daniels has 7 books to place on a single shelf. How many different arrangements are possible?\n",
    "2. We do not know precisely how many seats there were at the Round Table as traditions differ. Supposing there were 24 seats at the table and that King Authur always sat in a special seat, in how many ways could the 23 Knights of the Round Table be arranged?\n",
    "3. Poker Pro Daniel Negreanu is one of nine players being seated at random at the final table of a poker tournament. Another pro we will call Betty is often a problem for Negreanu, and two amateurs have had the amazing luck to battle their way through. Poker players do not like having a troublesome player to their left but prefer less experienced (and less aggressive players) to sit there.\n",
    "    - What is the probability Betty is seated to Negreanu's left?\n",
    "    - What the probability that one of the amateurs is seated to Negreanu's left?"
   ]
  },
  {
   "cell_type": "markdown",
   "id": "f559dd33-d2fd-44dc-9915-e004eaf7afc6",
   "metadata": {},
   "source": [
    "4. Given that Georgia license plates are 3 letters followed 4 numbers, how many distinct GA license plates are possible?\n",
    "5. For a new lottery, the players picks 3 numbers between 11 and 55 and 3 numbers between 55 and 99. If no number can repeat, how many different picks are possible?\n",
    "6. Among the seven nominees for two vacancies on the city council are three men and four women. In how many ways may these vacancies be filled:\n",
    "    - with any two of the nominees?\n",
    "    - with any two of the women?\n",
    "    - with one of the men and one of the women?\n",
    "7. Mr. Jones owns 4 pairs of pants, 7 shirts, and 3 sweaters. In how many ways may he choose 2 of the pairs of pants, 3 of the shirts, and 1 of the sweaters to pack for a trip?\n",
    "8. Suppose a True-False test has 20 questions.\n",
    "    - In how many ways may a student mark the test, if each question is answered?\n",
    "    - In how many ways may a student mark the test, if 10 questions are marked correctly and 10 incorrectly?\n",
    "9. In how many ways may can five persons line up to get on a bus?\n",
    "10. In how many ways may these same five people line up if two of the people refuse to stand next to each other?\n",
    "11. In how many ways may 8 people form a circle for a folk dance?\n",
    "12. How many unique arrangments are there of the letters **G R E A T** ?\n",
    "13. How many unique arrangments are there of the letters **G R E E T** ?\n",
    "14. How many unique arrangments are there of the letters **S T A T I S T I C S** ?\n",
    "15. How many unique arrangments of the the letters **S T A T I S T I C S** begin and end with the letter “s”?\n",
    "16. In a primary election, there are four candidates for mayor, five candidates for city treasurer, and two candidates for county attorney. In how many ways may voters mark their ballots:\n",
    "    - if they vote in all three of the races?\n",
    "    - if they exercise their right not to vote in any or all of the races?\n",
    "17. A multiple-choice test consists of 15 questions, each permitting a choice of 5 alternatives. In how many ways may a student fill in the answers if they answer each question?\n",
    "18. A team of 13 field hockey players needs to choose a captain and co-captain. How many different leadership pairs exist?\n",
    "19.  You are setting the combination on a five-digit lock. You want to use the numbers 38175 but don't care what order they are in. How many unique combinations are possible?\n",
    "20. The student body of 50 students wants to elect four representatives. How many unique elections are possible?\n",
    "21. A group of 17 horses start the race. How many unique finishing orders are possible if we only concern ourselves with the Top 3 Finishers (Win, Place, Show)?\n",
    "22. Twenty-three athletes at a meeting each shake hands with everyone else. How many handshakes occur?\n",
    "23. The game of euchre uses only 24 cards from a standard deck. How many unique 5-card euchre hands are possible?\n",
    "24. For a segment of a radio show, a disc jockey (Dr. Jams) can play 4 songs. If there are 8 to select from, in how many ways can the program for this segment be arranged?"
   ]
  },
  {
   "cell_type": "code",
   "execution_count": null,
   "id": "9acc9c73-6999-4431-9b21-64acec10191c",
   "metadata": {},
   "outputs": [],
   "source": []
  }
 ],
 "metadata": {
  "kernelspec": {
   "display_name": "R",
   "language": "R",
   "name": "ir"
  },
  "language_info": {
   "codemirror_mode": "r",
   "file_extension": ".r",
   "mimetype": "text/x-r-source",
   "name": "R",
   "pygments_lexer": "r",
   "version": "3.6.1"
  }
 },
 "nbformat": 4,
 "nbformat_minor": 5
}