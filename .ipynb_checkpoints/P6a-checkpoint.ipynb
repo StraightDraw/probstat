{
 "cells": [
  {
   "cell_type": "markdown",
   "id": "e60e6948-bb8d-4dad-9f56-e5ee22d6f3e5",
   "metadata": {},
   "source": [
    "# Discrete Probability Functions"
   ]
  },
  {
   "cell_type": "markdown",
   "id": "ac2701d4-0786-4bb6-8434-7cb25e51e434",
   "metadata": {},
   "source": [
    "Certain probability scenarios arise so often that we create and utilize functions for them. These functions are called **probability density functions** and are often abbreviated as **pdf** (or *pmf* for *probability mass fucntions*). We will learn to create the **pdf** for four specific distributions:\n",
    "1. Binomial\n",
    "2. Geometric\n",
    "3. Hypergeometric\n",
    "4. Negative Binomial"
   ]
  },
  {
   "cell_type": "markdown",
   "id": "292f7727-527b-4ac9-b522-b1d89c509985",
   "metadata": {},
   "source": [
    "## Binomial Distributions"
   ]
  },
  {
   "cell_type": "markdown",
   "id": "d7fe3d84-e341-4d51-8a3c-008dd25a4a70",
   "metadata": {},
   "source": [
    "Binomial, in a probability sense, indicates situations were **only two possiblities exist**. In probability problem-solving, we often refer to the outcomes as **successes** or **failures**. "
   ]
  },
  {
   "cell_type": "markdown",
   "id": "1e40f801-897a-4e4f-b169-bfa32f120d5d",
   "metadata": {},
   "source": [
    "```{sidebar} House Money\n",
    "The **green squares** in roulette give the casinos their edge. They affect the probabilities of success but are ignored when wins are paid out.\n",
    "```"
   ]
  },
  {
   "cell_type": "markdown",
   "id": "2644b73d-e166-46ea-9cc3-c0be1b6e30a8",
   "metadata": {},
   "source": [
    "The idea of \"success\" has nothing to do with whether the outcome is preferable, only that it is the outcome whose probability we are asked to calculate. For example, when calculating the probability of rain on a proposed date for an outdoor wedding, we might term the outcome RAIN as a success while solving the problem. The bride would likely disaggree with this characterization."
   ]
  },
  {
   "cell_type": "markdown",
   "id": "cae98178-8ab2-4fa2-93f8-33a25eeaa6c7",
   "metadata": {},
   "source": [
    "```{admonition} Example 10\n",
    ":class: tip\n",
    "Betting on Red or Black in roulette means that you either you win, or you lose all the money you bet. Winning means that your bet is doubled (nearly) and the amount is returned to you.\n",
    "\n",
    "**Chelsea** plays 5 rounds of roulette. Find the probability that she wins 3 or more of her 5 roulette plays given that she plays either Red or Black every time. \n",
    "```"
   ]
  },
  {
   "cell_type": "markdown",
   "id": "e21935ef-4f51-4af9-ace6-07a138120731",
   "metadata": {},
   "source": [
    "**Solution.** Assume the outcomes of the spins are perfectly random amongst the landing slots labeled 0, 00, 1, 2, ... ,35, 36. Thus, every bet on Red or Black has the same probability of success. For 18 of the 38 total slots, Chelsea wins. Thus:"
   ]
  },
  {
   "cell_type": "markdown",
   "id": "04229eda-1703-40ee-b9fb-47a8beffcb60",
   "metadata": {},
   "source": [
    "$$P = \\frac{18}{38} = \\frac{9}{19} \\approx 0.474$$"
   ]
  },
  {
   "cell_type": "markdown",
   "id": "2d3a6681-a785-41ac-8be8-b37b25e61590",
   "metadata": {},
   "source": [
    "The payout for a win is $2:1$ which would be *fair odds* if the probability of success were exactly $\\frac{1}{2}$. First, let's consider the probability of Chelsea playing 5 spins of the wheel and winning exactly 3 times. Suppose the pattern of outcomes was 3 wins first followed by 2 losses:"
   ]
  },
  {
   "cell_type": "markdown",
   "id": "0f917308-8c3f-4539-a29a-f88ff791de72",
   "metadata": {},
   "source": [
    "```{figure} /images/roulette.png\n",
    "---\n",
    "width: 5cm\n",
    "```"
   ]
  },
  {
   "cell_type": "markdown",
   "id": "774f4d7c-4759-48bb-be71-03b52db65bfc",
   "metadata": {},
   "source": [
    "We need to calculate the probability of win then win then win and then a loss and a loss. All are independent trials:"
   ]
  },
  {
   "cell_type": "markdown",
   "id": "1046e9c8-7887-4d73-84db-ed5c382fe9ab",
   "metadata": {},
   "source": [
    "$$P(WWWLL) = \\left(\\frac{9}{19}\\right)\\left(\\frac{9}{19}\\right)\\left(\\frac{9}{19}\\right)\\left(\\frac{10}{19}\\right)\\left(\\frac{10}{19}\\right)\\hspace{3mm}\\implies$$"
   ]
  },
  {
   "cell_type": "markdown",
   "id": "18e91d0b-7488-447a-ab55-a0c1e6d4a9eb",
   "metadata": {},
   "source": [
    "$$P=\\left(\\frac{9}{19}\\right)^3\\left(\\frac{10}{19}\\right)^2$$"
   ]
  },
  {
   "cell_type": "markdown",
   "id": "97612bac-72cb-4338-8507-d4f89c5db88d",
   "metadata": {},
   "source": [
    "Notice that the probability would be identical if the order of the wins and losses were changed. In fact, there are $\\binom{5}{3}=10$ total patterns:\n",
    "- W W L W L\n",
    "- W L W W L\n",
    "- W L W L W\n",
    "- L W W W L\n",
    "\n",
    " $\\vdots$\n",
    "\n",
    "Let the simple random variable (SRV) $n$ denote the number of wins out five attempts, and we have:"
   ]
  },
  {
   "cell_type": "markdown",
   "id": "88c873bc-3f3c-46cd-afb5-e48d773931b7",
   "metadata": {},
   "source": [
    "$$P(n=3) = \\binom{5}{3}\\left(\\frac{9}{19} \\right)^3\\left(\\frac{10}{19} \\right)^2$$"
   ]
  },
  {
   "cell_type": "markdown",
   "id": "406bc93e-807f-42bd-8c79-b7f5272b99ff",
   "metadata": {},
   "source": [
    "### Binomial Distribution Formula\n",
    "\n",
    "For a **binomial** probability experiment with $n$ trials, let $p$ be the probability of success. The probability of exactly $k$ successes in $n$ trials:"
   ]
  },
  {
   "cell_type": "markdown",
   "id": "029566c2-2f49-4cef-9414-37c0b1ac681f",
   "metadata": {},
   "source": [
    "$$P(k) = \\binom{n}{k}p^k(1-p)^{(n-k)}$$"
   ]
  },
  {
   "cell_type": "markdown",
   "id": "51f7871d-8927-4b7e-a9f4-1d7bf7905aed",
   "metadata": {},
   "source": [
    "In the binomial distribution, we might asked the probability of **at least** $t$ successes in $n$ trials where $1\\leq t <n$. Then we must sum the exact probabilities up as follows:"
   ]
  },
  {
   "cell_type": "markdown",
   "id": "edda9f5a-a9bf-480c-bc78-4c72dcbdb8b8",
   "metadata": {},
   "source": [
    "$$P(k\\geq t) = \\sum_{k=t}^n\\binom{n}{k}p^k(1-p)^{(n-k)}$$"
   ]
  },
  {
   "cell_type": "markdown",
   "id": "6c6875a6-2b9b-4261-b16f-b038a8cbf649",
   "metadata": {},
   "source": [
    "## Geometric Distribution\n",
    "\n",
    "A fair, 6-sided die is rolled repeatedly until a \"3\" appears. If $n$ is the SRV indicating the number of trials required to see a 3:\n",
    "- $P(n=1) = \\frac{1}{6}$\n",
    "- $P(n=2) =\\left(\\frac{5}{6}\\right)\\left(\\frac{1}{6}\\right)$\n",
    "- $P(n=3)=\\left(\\frac{5}{6}\\right)^2\\left(\\frac{1}{6}\\right)$\n",
    "\n",
    "How does the pattern continue?"
   ]
  },
  {
   "cell_type": "markdown",
   "id": "cf6d0e88-0e51-4fb1-a75e-514c842cc8f2",
   "metadata": {},
   "source": [
    "### Geometric Distribution Formula\n",
    "\n",
    "In a geometric probability experiment, let the probability of success on an individual trial be denoted by $p$. The probability of the first success occuring on the $n^{th}$ trial is given by:"
   ]
  },
  {
   "cell_type": "markdown",
   "id": "cbc6e121-bf26-47d3-a353-8c4b2b9663c9",
   "metadata": {},
   "source": [
    "$$P(n) = (1-p)^{n-1}p$$"
   ]
  },
  {
   "cell_type": "markdown",
   "id": "d4ec6421-a8f7-4b0c-9209-940dca792c70",
   "metadata": {},
   "source": []
  },
  {
   "cell_type": "markdown",
   "id": "cf988246-ebfc-4d93-899f-dfb6ace7b44c",
   "metadata": {},
   "source": []
  },
  {
   "cell_type": "markdown",
   "id": "ee1bd368-5d3c-4403-826f-a69a4789d2d7",
   "metadata": {},
   "source": [
    "## Hypergeometric Distribution\n",
    "\n",
    "A deck of cards contains 20 cards: 6 red cards and 14 black cards. 5 cards are drawn randomly without replacement. What is the probability that exactly 4 red cards are drawn?  "
   ]
  },
  {
   "cell_type": "markdown",
   "id": "0b5f8e91-1c84-48b7-b5dc-ecab9ce3b770",
   "metadata": {},
   "source": [
    "$$P=\\frac{\\binom{6}{4}\\binom{14}{1}}{\\binom{20}{5}}$$"
   ]
  },
  {
   "cell_type": "markdown",
   "id": "3fb1b496-f6c8-4227-bead-5a8785f3ff2e",
   "metadata": {},
   "source": [
    "**The PMF:** The probability that $k$ successful draws out of $n$ total draws are made from a collection of $N$ objects $K$ of which are successes is given by:"
   ]
  },
  {
   "cell_type": "markdown",
   "id": "6ccbc3a6-f086-4b11-af30-2a3bd01d188e",
   "metadata": {},
   "source": [
    "$$P(k) = \\frac{\\binom{K}{k}\\binom{N-K}{n-k}}{\\binom{N}{n}}$$"
   ]
  },
  {
   "cell_type": "markdown",
   "id": "45ac3a8f-df44-4c95-8a64-a9cc3d976723",
   "metadata": {},
   "source": [
    "## Negative Binomial"
   ]
  },
  {
   "cell_type": "markdown",
   "id": "75f8d208-a687-4472-8b31-128c2b637661",
   "metadata": {},
   "source": [
    "```{admonition} Example 11\n",
    ":class: tip\n",
    "An oil company conducts a geological study that indicates that exploratory oil wells in a certain basin should have a 20\\% chance of striking oil. What is the probability that the fourth successful strike occurs on the $10^{th}$ well drilled? \n",
    "```"
   ]
  },
  {
   "cell_type": "markdown",
   "id": "260599f8-b0e2-42bd-9293-2f591e9182d5",
   "metadata": {},
   "source": [
    "Notice the pattern requires the $10^{th}$ well to be a success:\n",
    "<center>* * * * * * * * * S</center>\n",
    "Thus, we have 9 wells amongst which we distribute 3 successes and 6 failures. The probability is therefore:"
   ]
  },
  {
   "cell_type": "markdown",
   "id": "f03852e3-6c64-47b0-b1c3-4c4bfbbea76f",
   "metadata": {},
   "source": [
    "$$P = \\binom{9}{3}\\left(\\frac{1}{5}\\right)^4\\left(\\frac{4}{5}\\right)^6$$"
   ]
  }
 ],
 "metadata": {
  "kernelspec": {
   "display_name": "Python 3 (ipykernel)",
   "language": "python",
   "name": "python3"
  },
  "language_info": {
   "codemirror_mode": {
    "name": "ipython",
    "version": 3
   },
   "file_extension": ".py",
   "mimetype": "text/x-python",
   "name": "python",
   "nbconvert_exporter": "python",
   "pygments_lexer": "ipython3",
   "version": "3.8.20"
  }
 },
 "nbformat": 4,
 "nbformat_minor": 5
}
