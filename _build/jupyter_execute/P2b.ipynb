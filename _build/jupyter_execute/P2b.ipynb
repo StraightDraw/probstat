{
 "cells": [
  {
   "cell_type": "markdown",
   "id": "041842d1-2e8b-492a-95a3-1f8ef2f187e6",
   "metadata": {},
   "source": [
    "# Exercises\n",
    "\n",
    "Solve the following counting problems."
   ]
  },
  {
   "cell_type": "markdown",
   "id": "216f83c3-d9ba-4300-b194-7fd98d152682",
   "metadata": {},
   "source": [
    "1. Professor Daniels has 7 books to place on a single shelf. How many different arrangements are possible?\n",
    "2. We do not know precisely how many seats there were at the Round Table as traditions differ. Supposing there were 24 seats at the table and that King Authur always sat in a special seat, in how many ways could the 23 Knights of the Round Table be arranged?\n",
    "3. Poker Pro Daniel Negreanu is one of nine players being seated at random at the final table of a poker tournament. Another pro we will call Betty is often a problem for Negreanu, and two amateurs have had the amazing luck to battle their way through. Poker players do not like having a troublesome player to their left.\n",
    "  - What is the probability Betty is seated to Negreanu's left?\n",
    "  - What the probability that one of the amateurs is seated to Negreanu's left?"
   ]
  },
  {
   "cell_type": "markdown",
   "id": "f559dd33-d2fd-44dc-9915-e004eaf7afc6",
   "metadata": {},
   "source": [
    "4. Given that Georgia license plates are 3 letters followed 4 numbers, how many distinct GA license plates are possible?\n",
    "5. "
   ]
  },
  {
   "cell_type": "code",
   "execution_count": null,
   "id": "661df942-8f0c-404b-a869-107daa5c4180",
   "metadata": {},
   "outputs": [],
   "source": []
  }
 ],
 "metadata": {
  "kernelspec": {
   "display_name": "R",
   "language": "R",
   "name": "ir"
  },
  "language_info": {
   "codemirror_mode": "r",
   "file_extension": ".r",
   "mimetype": "text/x-r-source",
   "name": "R",
   "pygments_lexer": "r",
   "version": "3.6.1"
  }
 },
 "nbformat": 4,
 "nbformat_minor": 5
}