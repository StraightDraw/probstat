{
 "cells": [
  {
   "cell_type": "markdown",
   "id": "407fc574-7488-401a-94a7-58ed2b7ce5c3",
   "metadata": {},
   "source": [
    "# Goodness of Fit (GOF)\n",
    "\n",
    "The $\\chi^2$ test can be used in a rather novel way:\n",
    "\n",
    "<center><b><span style='color: purple;'>We can test a probability model.</span></b></center></br>\n",
    "\n",
    "The $\\chi^2$ GOF allows us to compare observed data to a given probability model. Perhaps the best example is that of eye color."
   ]
  },
  {
   "cell_type": "markdown",
   "id": "d9fb84ff-0aff-4905-b178-aa7026664f65",
   "metadata": {},
   "source": [
    "## Example: Eye Color\n",
    "\n",
    "A recent release from the American Academy of Opthamology gives the proportion of various eye colors in the population of the United States.\n",
    "\n",
    "<table style=\"width:55%\">\n",
    "  <tr><th></th><th>Blue</th><th>Green</th><th>Hazel</th> <th>Light Brown</th><th>Dark Brown</th> \n",
    "  </tr>\n",
    "  <tr><th>Proportion</th><td style=\"text-align: center;\">32%</td><td style=\"text-align: center;\">15%</td><td style=\"text-align: center;\">12%</td><td style=\"text-align: center;\">16%</td><td style=\"text-align: center;\">25%</td>\n",
    "  </tr>\n",
    "</table>"
   ]
  },
  {
   "cell_type": "markdown",
   "id": "bf2ab01a-638a-4ee9-90af-c8b655287ad5",
   "metadata": {},
   "source": [
    "At UNG, recent class surveys resulted in the following sample eye color distribution from students at the university:"
   ]
  },
  {
   "cell_type": "code",
   "execution_count": 13,
   "id": "a3c5cdf3-16fb-451d-b276-19d1d1f2e684",
   "metadata": {},
   "outputs": [
    {
     "data": {
      "text/html": [
       "<ol class=list-inline>\n",
       "\t<li>0.32</li>\n",
       "\t<li>0.15</li>\n",
       "\t<li>0.12</li>\n",
       "\t<li>0.16</li>\n",
       "\t<li>0.25</li>\n",
       "</ol>\n"
      ],
      "text/latex": [
       "\\begin{enumerate*}\n",
       "\\item 0.32\n",
       "\\item 0.15\n",
       "\\item 0.12\n",
       "\\item 0.16\n",
       "\\item 0.25\n",
       "\\end{enumerate*}\n"
      ],
      "text/markdown": [
       "1. 0.32\n",
       "2. 0.15\n",
       "3. 0.12\n",
       "4. 0.16\n",
       "5. 0.25\n",
       "\n",
       "\n"
      ],
      "text/plain": [
       "[1] 0.32 0.15 0.12 0.16 0.25"
      ]
     },
     "metadata": {},
     "output_type": "display_data"
    }
   ],
   "source": [
    "obs <- c(68,41,30,51,60)\n",
    "#colnames(obs) <- c('Blue', 'Green', 'Hazel', 'Light Brown', 'Dark Brown')\n",
    "#obs\n",
    "prob <- c(0.32, 0.15, 0.12, 0.16, 0.25)\n",
    "prob"
   ]
  },
  {
   "cell_type": "code",
   "execution_count": 14,
   "id": "187909a6-a26e-4c7d-bd52-ac80bd499a08",
   "metadata": {},
   "outputs": [
    {
     "data": {
      "text/plain": [
       "\n",
       "\tChi-squared test for given probabilities\n",
       "\n",
       "data:  obs\n",
       "X-squared = 5.2517, df = 4, p-value = 0.2624\n"
      ]
     },
     "metadata": {},
     "output_type": "display_data"
    }
   ],
   "source": [
    "chisq.test(obs, p = prob)"
   ]
  },
  {
   "cell_type": "markdown",
   "id": "30f09bb9-ef2a-4544-ad51-5dc8ce1f6947",
   "metadata": {},
   "source": [
    "### Reporting Out\n",
    "\n",
    "Given that $p = 0.2624 > 0.05 = \\alpha$, we fail to reject the null. We have no evidence that the observed data on eye color from UNG students departs from the nationwide probability."
   ]
  },
  {
   "cell_type": "code",
   "execution_count": null,
   "id": "7ccaa588-9ccc-4488-abcb-b32974048736",
   "metadata": {},
   "outputs": [],
   "source": []
  },
  {
   "cell_type": "code",
   "execution_count": null,
   "id": "e413a4e7-1129-48c8-ac71-4a8a636c07cf",
   "metadata": {},
   "outputs": [],
   "source": []
  },
  {
   "cell_type": "code",
   "execution_count": null,
   "id": "0f815819-0124-4231-8d01-6a659b187ecc",
   "metadata": {},
   "outputs": [],
   "source": []
  }
 ],
 "metadata": {
  "kernelspec": {
   "display_name": "R",
   "language": "R",
   "name": "ir"
  },
  "language_info": {
   "codemirror_mode": "r",
   "file_extension": ".r",
   "mimetype": "text/x-r-source",
   "name": "R",
   "pygments_lexer": "r",
   "version": "3.6.1"
  }
 },
 "nbformat": 4,
 "nbformat_minor": 5
}
