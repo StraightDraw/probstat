{
 "cells": [
  {
   "cell_type": "markdown",
   "id": "e5f01b35-f2c6-4754-a7e5-a3faf712fcfa",
   "metadata": {},
   "source": [
    "# R and Basic Statistical Functions\n",
    "\n",
    "The software **R** will be the statistical calculator we use for this course. Thus, we must begin by learning to work with data in R and to use a few basic R formulas and commands."
   ]
  },
  {
   "cell_type": "markdown",
   "id": "d4de1f79-956d-4f37-93a4-01f0ba15a7ef",
   "metadata": {},
   "source": [
    "```{warning}\n",
    "We have three pages that introduce the basic functions we need to use **fluently** to complete this course. Please do not disrespect these sections as the content will be used throughout the rest of the course and on quizzes and tests.\n",
    "```"
   ]
  },
  {
   "cell_type": "markdown",
   "id": "997f9d28-49a8-4c69-8cb9-1c4374c50172",
   "metadata": {},
   "source": [
    "## Data Frames\n",
    "\n",
    "Our first help page is [Data Frames](https://straightdraw.github.io/probstat/S0a.html).\n",
    "\n",
    "R stores data in a data frame, so we must learn to load data sets into R as data frames and manipulate the data frame once we have it."
   ]
  },
  {
   "cell_type": "markdown",
   "id": "43dec13d-ac1f-4bbb-944c-7b17f113e46d",
   "metadata": {},
   "source": [
    "## Descriptive Statistics\n",
    "\n",
    "Our second help intro pages is [Descriptives](https://straightdraw.github.io/probstat/S0b.html).\n",
    "\n",
    "We must learn the basic commands for things like mean, median and standard deviation along with a few other basic commands like **cat()**."
   ]
  },
  {
   "cell_type": "markdown",
   "id": "61512ea7-f98b-439a-8e97-e2134f98362e",
   "metadata": {},
   "source": [
    "## Visualizations\n",
    "\n",
    "The final intro page is about [Statistical Graphics](https://straightdraw.github.io/probstat/S0c.html).\n",
    "\n",
    "We need to analyze histograms, box plots, scatter plots, density plots and normal QQ plots. This section will briefly describe the commands we need to produce these visualizations."
   ]
  },
  {
   "cell_type": "code",
   "execution_count": null,
   "id": "1adeffb4-9d53-47f7-93e8-a26d5985d63a",
   "metadata": {},
   "outputs": [],
   "source": []
  }
 ],
 "metadata": {
  "kernelspec": {
   "display_name": "R",
   "language": "R",
   "name": "ir"
  },
  "language_info": {
   "codemirror_mode": "r",
   "file_extension": ".r",
   "mimetype": "text/x-r-source",
   "name": "R",
   "pygments_lexer": "r",
   "version": "3.6.1"
  }
 },
 "nbformat": 4,
 "nbformat_minor": 5
}