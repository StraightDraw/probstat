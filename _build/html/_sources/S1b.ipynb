{
 "cells": [
  {
   "cell_type": "markdown",
   "id": "48ed3992-e9ff-45c7-bbbf-9ab00ceeca3d",
   "metadata": {},
   "source": [
    "# Worked Examples for EDA\n",
    "\n",
    "This page contains a few worked examples for exploratory data analysis of a single numeric variable."
   ]
  },
  {
   "cell_type": "code",
   "execution_count": null,
   "id": "157fd949-b2c2-4cc1-9b89-e0967223853d",
   "metadata": {},
   "outputs": [],
   "source": []
  }
 ],
 "metadata": {
  "kernelspec": {
   "display_name": "R",
   "language": "R",
   "name": "ir"
  },
  "language_info": {
   "codemirror_mode": "r",
   "file_extension": ".r",
   "mimetype": "text/x-r-source",
   "name": "R",
   "pygments_lexer": "r",
   "version": "3.6.1"
  }
 },
 "nbformat": 4,
 "nbformat_minor": 5
}
