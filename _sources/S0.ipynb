{
 "cells": [
  {
   "cell_type": "markdown",
   "id": "e5f01b35-f2c6-4754-a7e5-a3faf712fcfa",
   "metadata": {},
   "source": [
    "# R and Basic Statistical Functions\n",
    "\n",
    "The software **R** will be the statistical calculator we use for this course. Thus, we must begin by learning to work with data in R and to use a few basic R formulas and commands."
   ]
  },
  {
   "cell_type": "markdown",
   "id": "d4de1f79-956d-4f37-93a4-01f0ba15a7ef",
   "metadata": {},
   "source": [
    "We have three pages that describes the basic functions we need to use fluently to complete this course. Please do not disrespect these sections as the content herein will be used throughout the rest of the course and on quizzes and tests."
   ]
  },
  {
   "cell_type": "markdown",
   "id": "997f9d28-49a8-4c69-8cb9-1c4374c50172",
   "metadata": {},
   "source": [
    "## Data Frames\n",
    "\n",
    "Our first help page is Data Frames\n",
    "\n",
    "R stores data in a data frame, so we must learn to load data sets into R as data frames and manipulate the data frame once we have it."
   ]
  },
  {
   "cell_type": "code",
   "execution_count": null,
   "id": "6ac62e87-426f-40d3-89d2-f9f5697eba2e",
   "metadata": {},
   "outputs": [],
   "source": []
  }
 ],
 "metadata": {
  "kernelspec": {
   "display_name": "R",
   "language": "R",
   "name": "ir"
  },
  "language_info": {
   "codemirror_mode": "r",
   "file_extension": ".r",
   "mimetype": "text/x-r-source",
   "name": "R",
   "pygments_lexer": "r",
   "version": "3.6.1"
  }
 },
 "nbformat": 4,
 "nbformat_minor": 5
}
