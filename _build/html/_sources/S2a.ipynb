{
 "cells": [
  {
   "cell_type": "markdown",
   "id": "f1eab0e5-9c10-4db8-8c41-de72f44cd103",
   "metadata": {
    "editable": true,
    "slideshow": {
     "slide_type": ""
    },
    "tags": []
   },
   "source": [
    "# The Central Limit Theorem and Estimation of the Mean"
   ]
  },
  {
   "cell_type": "markdown",
   "id": "71c3c9d4-ec8b-43f6-a6a9-7d575d2e147c",
   "metadata": {},
   "source": [
    "**Definition.** For a fixed population and fixed sample size, the collection of all possible values of the mean over all possible samples of that size, forms what we call the **sampling distribution**.\n",
    "\n",
    "Two vital theorems govern how these sampling distributions work:\n",
    "\n",
    "1. **Central Limit Theorem.** The means of a sampling distribution are approximately normal (bell-shaped) and centered upon $\\mu_0$, the population average.\n",
    "2. **Law of Large Numbers.** As n increases, our estimates based upon the sample means increase in accuracy.\n",
    "\n",
    "Thus, the CLT guarantees a bell-shaped distribution centered upon the population average, and the Law of Large Numbers works like a lever that allows us to control the accuracy. Increased sample sizes lead to increased accuracy."
   ]
  },
  {
   "cell_type": "markdown",
   "id": "c34996fb-5802-483e-8a5e-07854e12f879",
   "metadata": {},
   "source": [
    "## Data Sets\n",
    "\n",
    "We will need some data to work with:"
   ]
  },
  {
   "cell_type": "code",
   "execution_count": 9,
   "id": "640d8bd6-b915-4e92-b148-ed5ce5abfe20",
   "metadata": {},
   "outputs": [],
   "source": [
    "united <- read.csv('http://faculty.ung.edu/rsinn/data/united.csv')\n",
    "p <- read.csv('http://faculty.ung.edu/rsinn/data/personality.csv')\n",
    "airports <- read.csv('http://faculty.ung.edu/rsinn/data/airports.csv')\n",
    "births <-  read.csv('http://faculty.ung.edu/rsinn/data/baby.csv')"
   ]
  },
  {
   "cell_type": "markdown",
   "id": "908e1341-0217-4a65-8401-50f81b9e74ba",
   "metadata": {},
   "source": [
    "We also need for the function **sample.data.frame()** to be active in this notebook, so we copy-paste it from our [online course notes](https://straightdraw.github.io/probstat/S1c.html)."
   ]
  },
  {
   "cell_type": "code",
   "execution_count": 2,
   "id": "f60f2be8-b724-4b02-93d8-f148493f8d1a",
   "metadata": {},
   "outputs": [],
   "source": [
    "sample.data.frame <- function(x, size, replace = FALSE, prob = NULL, groups=NULL, \n",
    "                              orig.ids = TRUE, fixed = names(x), shuffled = c(),\n",
    "                              invisibly.return = NULL, ...) {\n",
    "  if( missing(size) ) size = nrow(x)\n",
    "  if( is.null(invisibly.return) ) invisibly.return = size>50 \n",
    "  shuffled <- intersect(shuffled, names(x))\n",
    "  fixed <- setdiff(intersect(fixed, names(x)), shuffled)\n",
    "  n <- nrow(x)\n",
    "  ids <- 1:n\n",
    "  groups <- eval( substitute(groups), x )\n",
    "  newids <- sample(n, size, replace=replace, prob=prob, ...)\n",
    "  origids <- ids[newids]\n",
    "  result <- x[newids, , drop=FALSE]\n",
    "  \n",
    "  idsString <- as.character(origids)\n",
    "  \n",
    "  for (column in shuffled) {\n",
    "    cids <- sample(newids, groups=groups[newids])\n",
    "    result[,column] <- x[cids,column]\n",
    "    idsString <- paste(idsString, \".\", cids, sep=\"\")\n",
    "  }\n",
    "  \n",
    "  result <-  result[ , union(fixed,shuffled), drop=FALSE]\n",
    "  if (orig.ids) result$orig.id <- idsString\n",
    "  \n",
    "  \n",
    "  if (invisibly.return) { return(invisible(result)) } else {return(result)}\n",
    "}\n"
   ]
  },
  {
   "cell_type": "markdown",
   "id": "da5fc0d3-7c99-42af-92b1-263a8b9599a0",
   "metadata": {},
   "source": [
    "## Example: Estimating Narcissism\n",
    "\n",
    "Let's work with an example from the **personality** data set: narcissism. Let's generate many, many samples of the same size. We'll find the averages from each sample and use them to estimate the average level of narcissism for students at UNG."
   ]
  },
  {
   "cell_type": "markdown",
   "id": "7aa0ed0f-7484-4165-b638-772905aa43ba",
   "metadata": {},
   "source": [
    "### First Step: Generating Samples of Size $n=10$\n",
    "\n",
    "Let's beging with the R commands necessary to sample the **Narc** column in the *personality* data frame. We will use the\n",
    "\n",
    "<p style=\"color:red;\">sample.data.frame()</p>\n",
    "\n",
    "function to draw a sample.\n",
    "\n",
    "**Run the cell below to see how this works, and notice:**\n",
    "\n",
    "- The function inputs:\n",
    "1. Name of the data frame to sample from.\n",
    "2. Sample size to be drawn.\n",
    "- The output: 10 rows from the data frame with all columns present."
   ]
  },
  {
   "cell_type": "code",
   "execution_count": 3,
   "id": "f453dc76-fe20-4936-ab46-6f9e8d9a6bad",
   "metadata": {},
   "outputs": [
    {
     "data": {
      "text/html": [
       "<table>\n",
       "<thead><tr><th></th><th scope=col>Age</th><th scope=col>Yr</th><th scope=col>Sex</th><th scope=col>G21</th><th scope=col>Corps</th><th scope=col>Res</th><th scope=col>Greek</th><th scope=col>VarsAth</th><th scope=col>Honor</th><th scope=col>GPA</th><th scope=col>...</th><th scope=col>Perf</th><th scope=col>OCD</th><th scope=col>Play</th><th scope=col>Extro</th><th scope=col>Narc</th><th scope=col>HSAF</th><th scope=col>HSSE</th><th scope=col>HSAG</th><th scope=col>HSSD</th><th scope=col>PHS</th></tr></thead>\n",
       "<tbody>\n",
       "\t<tr><th scope=row>104</th><td>20  </td><td>2   </td><td>F   </td><td>N   </td><td>N   </td><td>1   </td><td>N   </td><td>N   </td><td>N   </td><td>3.80</td><td>... </td><td>154 </td><td> 7  </td><td>122 </td><td> 2  </td><td>2   </td><td>51  </td><td>28  </td><td>13  </td><td>33  </td><td>AF  </td></tr>\n",
       "\t<tr><th scope=row>125</th><td>20  </td><td>2   </td><td>F   </td><td>N   </td><td>N   </td><td>3   </td><td>N   </td><td>N   </td><td>N   </td><td>3.50</td><td>... </td><td>125 </td><td>15  </td><td> 98 </td><td> 2  </td><td>0   </td><td>39  </td><td>21  </td><td>23  </td><td>32  </td><td>SD  </td></tr>\n",
       "\t<tr><th scope=row>57</th><td>20  </td><td>2   </td><td>M   </td><td>N   </td><td>Y   </td><td>1   </td><td>N   </td><td>N   </td><td>N   </td><td>1.89</td><td>... </td><td>100 </td><td> 9  </td><td>151 </td><td>15  </td><td>5   </td><td>53  </td><td>46  </td><td>36  </td><td>37  </td><td>AF  </td></tr>\n",
       "\t<tr><th scope=row>62</th><td>19  </td><td>1   </td><td>F   </td><td>N   </td><td>N   </td><td>1   </td><td>N   </td><td>Y   </td><td>N   </td><td>3.40</td><td>... </td><td> 91 </td><td> 5  </td><td>130 </td><td>13  </td><td>5   </td><td>44  </td><td>33  </td><td>31  </td><td>27  </td><td>AG  </td></tr>\n",
       "\t<tr><th scope=row>42</th><td>20  </td><td>2   </td><td>F   </td><td>N   </td><td>Y   </td><td>1   </td><td>Y   </td><td>N   </td><td>N   </td><td>3.02</td><td>... </td><td>112 </td><td>10  </td><td>147 </td><td>10  </td><td>6   </td><td>33  </td><td>21  </td><td>31  </td><td>33  </td><td>SD  </td></tr>\n",
       "\t<tr><th scope=row>107</th><td>19  </td><td>1   </td><td>M   </td><td>N   </td><td>N   </td><td>1   </td><td>N   </td><td>N   </td><td>N   </td><td>4.00</td><td>... </td><td>128 </td><td> 5  </td><td>104 </td><td> 3  </td><td>2   </td><td>42  </td><td>27  </td><td>19  </td><td>36  </td><td>SD  </td></tr>\n",
       "\t<tr><th scope=row>103</th><td>23  </td><td>3   </td><td>M   </td><td>Y   </td><td>N   </td><td>3   </td><td>N   </td><td>N   </td><td>N   </td><td>2.45</td><td>... </td><td>117 </td><td> 9  </td><td>137 </td><td> 8  </td><td>2   </td><td>42  </td><td>40  </td><td>35  </td><td>17  </td><td>AG  </td></tr>\n",
       "\t<tr><th scope=row>98</th><td>18  </td><td>1   </td><td>F   </td><td>N   </td><td>N   </td><td>3   </td><td>N   </td><td>N   </td><td>N   </td><td>3.70</td><td>... </td><td>113 </td><td>16  </td><td>131 </td><td> 6  </td><td>2   </td><td>33  </td><td>32  </td><td>29  </td><td>33  </td><td>SD  </td></tr>\n",
       "\t<tr><th scope=row>108</th><td>19  </td><td>1   </td><td>F   </td><td>N   </td><td>N   </td><td>1   </td><td>N   </td><td>Y   </td><td>N   </td><td>3.35</td><td>... </td><td> 95 </td><td> 4  </td><td>136 </td><td>10  </td><td>2   </td><td>49  </td><td>40  </td><td>14  </td><td>10  </td><td>AF  </td></tr>\n",
       "\t<tr><th scope=row>83</th><td>21  </td><td>3   </td><td>M   </td><td>Y   </td><td>N   </td><td>3   </td><td>Y   </td><td>N   </td><td>N   </td><td>2.95</td><td>... </td><td>146 </td><td>20  </td><td>164 </td><td> 8  </td><td>3   </td><td>32  </td><td>32  </td><td>32  </td><td>32  </td><td>AG  </td></tr>\n",
       "</tbody>\n",
       "</table>\n"
      ],
      "text/latex": [
       "\\begin{tabular}{r|llllllllllllllllllllllllllllllllllll}\n",
       "  & Age & Yr & Sex & G21 & Corps & Res & Greek & VarsAth & Honor & GPA & ... & Perf & OCD & Play & Extro & Narc & HSAF & HSSE & HSAG & HSSD & PHS\\\\\n",
       "\\hline\n",
       "\t104 & 20   & 2    & F    & N    & N    & 1    & N    & N    & N    & 3.80 & ...  & 154  &  7   & 122  &  2   & 2    & 51   & 28   & 13   & 33   & AF  \\\\\n",
       "\t125 & 20   & 2    & F    & N    & N    & 3    & N    & N    & N    & 3.50 & ...  & 125  & 15   &  98  &  2   & 0    & 39   & 21   & 23   & 32   & SD  \\\\\n",
       "\t57 & 20   & 2    & M    & N    & Y    & 1    & N    & N    & N    & 1.89 & ...  & 100  &  9   & 151  & 15   & 5    & 53   & 46   & 36   & 37   & AF  \\\\\n",
       "\t62 & 19   & 1    & F    & N    & N    & 1    & N    & Y    & N    & 3.40 & ...  &  91  &  5   & 130  & 13   & 5    & 44   & 33   & 31   & 27   & AG  \\\\\n",
       "\t42 & 20   & 2    & F    & N    & Y    & 1    & Y    & N    & N    & 3.02 & ...  & 112  & 10   & 147  & 10   & 6    & 33   & 21   & 31   & 33   & SD  \\\\\n",
       "\t107 & 19   & 1    & M    & N    & N    & 1    & N    & N    & N    & 4.00 & ...  & 128  &  5   & 104  &  3   & 2    & 42   & 27   & 19   & 36   & SD  \\\\\n",
       "\t103 & 23   & 3    & M    & Y    & N    & 3    & N    & N    & N    & 2.45 & ...  & 117  &  9   & 137  &  8   & 2    & 42   & 40   & 35   & 17   & AG  \\\\\n",
       "\t98 & 18   & 1    & F    & N    & N    & 3    & N    & N    & N    & 3.70 & ...  & 113  & 16   & 131  &  6   & 2    & 33   & 32   & 29   & 33   & SD  \\\\\n",
       "\t108 & 19   & 1    & F    & N    & N    & 1    & N    & Y    & N    & 3.35 & ...  &  95  &  4   & 136  & 10   & 2    & 49   & 40   & 14   & 10   & AF  \\\\\n",
       "\t83 & 21   & 3    & M    & Y    & N    & 3    & Y    & N    & N    & 2.95 & ...  & 146  & 20   & 164  &  8   & 3    & 32   & 32   & 32   & 32   & AG  \\\\\n",
       "\\end{tabular}\n"
      ],
      "text/markdown": [
       "\n",
       "| <!--/--> | Age | Yr | Sex | G21 | Corps | Res | Greek | VarsAth | Honor | GPA | ... | Perf | OCD | Play | Extro | Narc | HSAF | HSSE | HSAG | HSSD | PHS |\n",
       "|---|---|---|---|---|---|---|---|---|---|---|---|---|---|---|---|---|---|---|---|---|---|\n",
       "| 104 | 20   | 2    | F    | N    | N    | 1    | N    | N    | N    | 3.80 | ...  | 154  |  7   | 122  |  2   | 2    | 51   | 28   | 13   | 33   | AF   |\n",
       "| 125 | 20   | 2    | F    | N    | N    | 3    | N    | N    | N    | 3.50 | ...  | 125  | 15   |  98  |  2   | 0    | 39   | 21   | 23   | 32   | SD   |\n",
       "| 57 | 20   | 2    | M    | N    | Y    | 1    | N    | N    | N    | 1.89 | ...  | 100  |  9   | 151  | 15   | 5    | 53   | 46   | 36   | 37   | AF   |\n",
       "| 62 | 19   | 1    | F    | N    | N    | 1    | N    | Y    | N    | 3.40 | ...  |  91  |  5   | 130  | 13   | 5    | 44   | 33   | 31   | 27   | AG   |\n",
       "| 42 | 20   | 2    | F    | N    | Y    | 1    | Y    | N    | N    | 3.02 | ...  | 112  | 10   | 147  | 10   | 6    | 33   | 21   | 31   | 33   | SD   |\n",
       "| 107 | 19   | 1    | M    | N    | N    | 1    | N    | N    | N    | 4.00 | ...  | 128  |  5   | 104  |  3   | 2    | 42   | 27   | 19   | 36   | SD   |\n",
       "| 103 | 23   | 3    | M    | Y    | N    | 3    | N    | N    | N    | 2.45 | ...  | 117  |  9   | 137  |  8   | 2    | 42   | 40   | 35   | 17   | AG   |\n",
       "| 98 | 18   | 1    | F    | N    | N    | 3    | N    | N    | N    | 3.70 | ...  | 113  | 16   | 131  |  6   | 2    | 33   | 32   | 29   | 33   | SD   |\n",
       "| 108 | 19   | 1    | F    | N    | N    | 1    | N    | Y    | N    | 3.35 | ...  |  95  |  4   | 136  | 10   | 2    | 49   | 40   | 14   | 10   | AF   |\n",
       "| 83 | 21   | 3    | M    | Y    | N    | 3    | Y    | N    | N    | 2.95 | ...  | 146  | 20   | 164  |  8   | 3    | 32   | 32   | 32   | 32   | AG   |\n",
       "\n"
      ],
      "text/plain": [
       "    Age Yr Sex G21 Corps Res Greek VarsAth Honor GPA  ... Perf OCD Play Extro\n",
       "104 20  2  F   N   N     1   N     N       N     3.80 ... 154   7  122   2   \n",
       "125 20  2  F   N   N     3   N     N       N     3.50 ... 125  15   98   2   \n",
       "57  20  2  M   N   Y     1   N     N       N     1.89 ... 100   9  151  15   \n",
       "62  19  1  F   N   N     1   N     Y       N     3.40 ...  91   5  130  13   \n",
       "42  20  2  F   N   Y     1   Y     N       N     3.02 ... 112  10  147  10   \n",
       "107 19  1  M   N   N     1   N     N       N     4.00 ... 128   5  104   3   \n",
       "103 23  3  M   Y   N     3   N     N       N     2.45 ... 117   9  137   8   \n",
       "98  18  1  F   N   N     3   N     N       N     3.70 ... 113  16  131   6   \n",
       "108 19  1  F   N   N     1   N     Y       N     3.35 ...  95   4  136  10   \n",
       "83  21  3  M   Y   N     3   Y     N       N     2.95 ... 146  20  164   8   \n",
       "    Narc HSAF HSSE HSAG HSSD PHS\n",
       "104 2    51   28   13   33   AF \n",
       "125 0    39   21   23   32   SD \n",
       "57  5    53   46   36   37   AF \n",
       "62  5    44   33   31   27   AG \n",
       "42  6    33   21   31   33   SD \n",
       "107 2    42   27   19   36   SD \n",
       "103 2    42   40   35   17   AG \n",
       "98  2    33   32   29   33   SD \n",
       "108 2    49   40   14   10   AF \n",
       "83  3    32   32   32   32   AG "
      ]
     },
     "metadata": {},
     "output_type": "display_data"
    }
   ],
   "source": [
    "s <- sample.data.frame(p, 10, orig.ids = FALSE)\n",
    "head(s,15)"
   ]
  },
  {
   "cell_type": "markdown",
   "id": "23f7490c-3226-461b-b19d-840923ab12aa",
   "metadata": {},
   "source": [
    "We can find the average narcissism for these 10 persons by subsetting our sample data frame **s**."
   ]
  },
  {
   "cell_type": "code",
   "execution_count": 4,
   "id": "9d9ad161-c3d2-4619-9b72-bcedef2fcda8",
   "metadata": {},
   "outputs": [
    {
     "data": {
      "text/html": [
       "2.9"
      ],
      "text/latex": [
       "2.9"
      ],
      "text/markdown": [
       "2.9"
      ],
      "text/plain": [
       "[1] 2.9"
      ]
     },
     "metadata": {},
     "output_type": "display_data"
    }
   ],
   "source": [
    "mean(s[ , 'Narc'])"
   ]
  },
  {
   "cell_type": "markdown",
   "id": "389dbef7-4c73-4ce3-a982-eb02595b06ae",
   "metadata": {},
   "source": [
    "**Putting it Together.** Eventually, we want to run a loop that does this a thousand or more times. Thus, we prefer a single line of code that will do it for us all at once. We wrap the *sample.data.frame()* function inside the *mean* function as shown below.\n",
    "\n",
    "**Run the code below multiple times to see how we're sampling plus finding the average Narcissism level for each.**"
   ]
  },
  {
   "cell_type": "code",
   "execution_count": 5,
   "id": "e9d93693-f34a-4b7a-a3a6-b2f8ef97ceaf",
   "metadata": {},
   "outputs": [
    {
     "data": {
      "text/html": [
       "4.4"
      ],
      "text/latex": [
       "4.4"
      ],
      "text/markdown": [
       "4.4"
      ],
      "text/plain": [
       "[1] 4.4"
      ]
     },
     "metadata": {},
     "output_type": "display_data"
    }
   ],
   "source": [
    "mean(sample.data.frame(p, 10, orig.ids = F)[ , 'Narc'])"
   ]
  },
  {
   "cell_type": "markdown",
   "id": "8c55b804-3620-4316-81ae-cbcbf25b7304",
   "metadata": {},
   "source": [
    "### Step 2: Creating a for Loop\n",
    "\n",
    "The steps make sense if we consider them separately:\n",
    "\n",
    "1. Create **all_means**, an initially empty vector where we plan to store our sample means.\n",
    "2. Create a for loop that will a thousand times.\n",
    "3. Inside the loop, we will:\n",
    "  - Gather a sample of size $n=10$.\n",
    "  - Calcuate the mean.\n",
    "  - Add this value to the **all_means** vector."
   ]
  },
  {
   "cell_type": "code",
   "execution_count": 6,
   "id": "b87ef71f-bd5d-4504-90f8-a763288c3a80",
   "metadata": {},
   "outputs": [],
   "source": [
    "all_means <- c()                                         #Empty vector to store all the sample means\n",
    "for (count in 1:1000){\n",
    "    sample <- sample.data.frame(p, 10, orig.ids = F)     #Generate a sample (size n=10)\n",
    "    all_means[count] <- mean(sample[ , 'Narc'])          #Save the mean of this sample in my list\n",
    "}"
   ]
  },
  {
   "cell_type": "markdown",
   "id": "58455a0b-7da6-407f-a610-04498d78c4a0",
   "metadata": {},
   "source": [
    "Notice that we now have a vector **all_means**, so we display the distribution in a histogram and caculate various statistics."
   ]
  },
  {
   "cell_type": "code",
   "execution_count": 7,
   "id": "5b3f7438-0804-4abe-a458-be09848c4c26",
   "metadata": {},
   "outputs": [
    {
     "data": {
      "text/plain": [
       "   Min. 1st Qu.  Median    Mean 3rd Qu.    Max. \n",
       "  2.400   4.200   4.800   4.748   5.300   7.800 "
      ]
     },
     "metadata": {},
     "output_type": "display_data"
    },
    {
     "data": {
      "image/png": "[encoded data removed]",
      "text/plain": [
       "Plot with title \"Histogram of all_means\""
      ]
     },
     "metadata": {},
     "output_type": "display_data"
    }
   ],
   "source": [
    "summary(all_means)\n",
    "hist(all_means)"
   ]
  },
  {
   "cell_type": "markdown",
   "id": "0b4933a3-1ea9-4e01-a496-d072cf49acc2",
   "metadata": {},
   "source": [
    "### Step 3: The Middle 90% of the Distribution\n",
    "\n",
    "Because we intend to use the sampling distributions to estimate the population average, we need a way to gather an interval. This interval will be our estimated range of values. For the moment, let's use the **middle 90%** of the **all_means** vector. We will need the endpoints, e.g. the 5th and 95th percentiles from the vector."
   ]
  },
  {
   "cell_type": "code",
   "execution_count": 8,
   "id": "3734dd20-44a1-484c-ba94-54b95f4995c3",
   "metadata": {},
   "outputs": [
    {
     "name": "stdout",
     "output_type": "stream",
     "text": [
      "The middle 90% of the all_means vector is ( 3.4 , 6.2 )."
     ]
    }
   ],
   "source": [
    "lower <- quantile(all_means, prob = 0.05)     # Calcuate the 5th percentile.\n",
    "upper <- quantile(all_means, prob = 0.95)     # Calcuate the 95th percentile.\n",
    "cat('The middle 90% of the all_means vector is (',lower,',',upper,').')"
   ]
  },
  {
   "cell_type": "markdown",
   "id": "22c5a1b6-b597-45de-9846-2a233d3fe4c9",
   "metadata": {},
   "source": [
    "### Step 4: The Histogram with Vertical Lines Showing the 5th and 95th Percentiles\n",
    "\n",
    "We use the function **abline()** to superimpose vertical lines onto our histogram. We've already calculated the values for the 5th and 95th percentiles. We need only to use the option **v** which draws a *vertical line* at the value indicated. The color option is not vital for our purposes, but a splash of color is visually appealing.\n",
    "\n",
    "As we go forward, we will see that increased sample size will lead to a narrower bell-shape. In other words, the size of the standard deviation will become important, so let's include that in the text we print out using the **cat()** function."
   ]
  },
  {
   "cell_type": "code",
   "execution_count": 28,
   "id": "546d6789-4604-463e-b24d-47111e6fdffc",
   "metadata": {},
   "outputs": [
    {
     "name": "stdout",
     "output_type": "stream",
     "text": [
      "Standard deviation of sampling distribution: 0.8481451 \n",
      "The middle 90% of the sampling distribution: is ( 3.4 , 6.2 )."
     ]
    },
    {
     "data": {
      "image/png": "[encoded data removed]",
      "text/plain": [
       "Plot with title \"Histogram of all_means\""
      ]
     },
     "metadata": {},
     "output_type": "display_data"
    }
   ],
   "source": [
    "cat(\"Standard deviation of sampling distribution:\", sd(all_means), '\\nThe middle 90% of the sampling distribution: is (',lower,',',upper,').')\n",
    "hist(all_means)\n",
    "abline( v = lower, col=\"blue\")\n",
    "abline(v = upper, col=\"blue\")"
   ]
  },
  {
   "cell_type": "markdown",
   "id": "696ca98e-62d2-4151-bbd7-34c5de98863f",
   "metadata": {},
   "source": [
    "### Step 5: Performing all Tasks in 1 Code Block\n",
    "\n",
    "Now that we have unpacked each command line needed, we can put it all together into one code block. Doing so will help to quickly generate different sampling distributions for different sample sizes **n**."
   ]
  },
  {
   "cell_type": "code",
   "execution_count": 29,
   "id": "4561f6be-13ab-4110-b0ae-f6872d57583c",
   "metadata": {},
   "outputs": [
    {
     "name": "stdout",
     "output_type": "stream",
     "text": [
      "Standard deviation of sampling distribution: 0.8249123 \n",
      "The middle 90% of sampling distribution: ( 3.3 , 6.1 )."
     ]
    },
    {
     "data": {
      "image/png": "[encoded data removed]",
      "text/plain": [
       "Plot with title \"Histogram of all_means\""
      ]
     },
     "metadata": {},
     "output_type": "display_data"
    }
   ],
   "source": [
    "all_means <- c()                                           #Empty vector to store all the sample means\n",
    "\n",
    "for (count in 1:1000){\n",
    "    sample <- sample.data.frame(p, 10, orig.ids = F)       #Controls sample size\n",
    "    all_means[count] <- mean(sample[ , 'Narc'])\n",
    "}\n",
    "\n",
    "upper <- quantile(all_means, prob = 0.95)\n",
    "lower <- quantile(all_means, prob = 0.05)\n",
    "cat(\"Standard deviation of sampling distribution:\", sd(all_means), '\\nThe middle 90% of sampling distribution: (',lower,',',upper,').')\n",
    "hist(all_means)\n",
    "abline( v = lower, col=\"blue\")\n",
    "abline(v = upper, col=\"blue\")"
   ]
  }
 ],
 "metadata": {
  "kernelspec": {
   "display_name": "R",
   "language": "R",
   "name": "ir"
  },
  "language_info": {
   "codemirror_mode": "r",
   "file_extension": ".r",
   "mimetype": "text/x-r-source",
   "name": "R",
   "pygments_lexer": "r",
   "version": "3.6.1"
  }
 },
 "nbformat": 4,
 "nbformat_minor": 5
}
