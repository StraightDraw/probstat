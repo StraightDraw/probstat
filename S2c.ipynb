{
 "cells": [
  {
   "cell_type": "markdown",
   "id": "7f12b289-dc96-4892-a6e8-99a74cadeffd",
   "metadata": {},
   "source": [
    "# Sampling with Negative Binomial Distribution"
   ]
  },
  {
   "cell_type": "markdown",
   "id": "abd72f86-c03a-48bb-bace-52a680bdf4e6",
   "metadata": {
    "editable": true,
    "slideshow": {
     "slide_type": ""
    },
    "tags": []
   },
   "source": [
    "Recall the following details of the Negative Binomial Distribution pdf:\n",
    "\n",
    "Given the following values:\n",
    "- $n$ indicates the number of trials.\n",
    "- $k$ indicates the number of successes needed for overall success.\n",
    "- $p$ indicates the probability of success.\n",
    "- $q=1-p$ indicates the probability of failure.\n",
    "- $X$ represents the number of the last well drilled to achieve overall success.\n",
    "\n",
    "The <span style = 'color: blue; font-weight:bold'>closed form pdf for a negative binomial distribution</span> is as follows:\n",
    "\n",
    "$$P(X=x) = \\binom{n-1}{k-1}p^kq^{n-k}$$\n",
    "\n",
    "## The rflip() Function\n",
    "\n",
    "We need to be able to use **rflip()** inside our **while loop.**"
   ]
  },
  {
   "cell_type": "code",
   "execution_count": 2,
   "id": "7b701704-108d-401e-9bd1-a3c0efa7e73c",
   "metadata": {
    "editable": true,
    "slideshow": {
     "slide_type": ""
    },
    "tags": [
     "hide-input"
    ]
   },
   "outputs": [],
   "source": [
    "rflip <- function(n=1, prob=.5, quiet=FALSE, verbose = !quiet, summarize = FALSE, \n",
    "                  summarise = summarize) {\n",
    "\tif ( ( prob > 1 && is.integer(prob) ) ) {  \n",
    "\t\t# swap n and prob\n",
    "\t\ttemp <- prob\n",
    "\t\tprob <- n\n",
    "\t\tn <- temp\n",
    "\t}\n",
    "\tif (summarise) {\n",
    "\t  heads <- rbinom(1, n, prob)\n",
    "\t  return(data.frame(n = n, heads = heads, tails = n - heads, prob = prob))\n",
    "\t} else {\n",
    "\t  r <- rbinom(n,1,prob)\n",
    "\t  result <- c('T','H')[ 1 + r ]\n",
    "\t  heads <- sum(r)\n",
    "\t  attr(heads,\"n\") <- n\n",
    "\t  attr(heads,\"prob\") <- prob \n",
    "\t  attr(heads,\"sequence\") <- result\n",
    "\t  attr(heads,\"verbose\") <- verbose\n",
    "\t  class(heads) <- 'cointoss'\n",
    "\t  return(heads)\n",
    "\t}\n",
    "}"
   ]
  },
  {
   "cell_type": "markdown",
   "id": "12cd4d0a-3133-41b3-973e-b4727035d4de",
   "metadata": {
    "editable": true,
    "slideshow": {
     "slide_type": ""
    },
    "tags": []
   },
   "source": [
    "The expected value is given below:\n",
    "\n",
    "$$E(X) = \\frac{k}{p}$$"
   ]
  },
  {
   "cell_type": "markdown",
   "id": "bb4c90db-6066-4a74-94da-416c1b7b36bc",
   "metadata": {},
   "source": [
    "Oil fields: 25\\% chance of successes\n",
    "\n",
    "$$E(X) = \\frac{3}{\\frac{1}{4}} = 12$$"
   ]
  },
  {
   "cell_type": "code",
   "execution_count": 60,
   "id": "c7c1b9af-15f0-4193-8714-32a6043e1a73",
   "metadata": {
    "editable": true,
    "slideshow": {
     "slide_type": ""
    },
    "tags": []
   },
   "outputs": [
    {
     "data": {
      "text/html": [
       "10"
      ],
      "text/latex": [
       "10"
      ],
      "text/markdown": [
       "10"
      ],
      "text/plain": [
       "[1] 10"
      ]
     },
     "metadata": {},
     "output_type": "display_data"
    }
   ],
   "source": [
    "k <- 0     # Initialize number of successes index\n",
    "n <- 0     # Initialize number of total trials needed for success to occur\n",
    "while (k < 3 && n < 20) {\n",
    "   k <- k + rflip(1, prob = 1/4, summarize = TRUE)[1,2]\n",
    "   n <- n + 1\n",
    "}\n",
    "n"
   ]
  },
  {
   "cell_type": "code",
   "execution_count": null,
   "id": "5df05731-c089-4a4a-8880-45776090881e",
   "metadata": {
    "editable": true,
    "slideshow": {
     "slide_type": ""
    },
    "tags": []
   },
   "outputs": [],
   "source": []
  },
  {
   "cell_type": "code",
   "execution_count": 61,
   "id": "bccf8d7d-cc31-4213-a0d0-ad273c82ff5e",
   "metadata": {},
   "outputs": [
    {
     "name": "stdout",
     "output_type": "stream",
     "text": [
      "The grand mean of the number of trials needed to achieve success is equal to\n",
      "    12.32"
     ]
    },
    {
     "data": {
      "image/png": "[encoded data removed]",
      "text/plain": [
       "Plot with title \"Histogram of Oil Wells Drilled: Repetitions = 100\""
      ]
     },
     "metadata": {},
     "output_type": "display_data"
    }
   ],
   "source": [
    "num_trials_needed <- c()     # create a vector to store the number of trials needed in while loop\n",
    "num_samps = 100              # set the number of times to run the simulation\n",
    "\n",
    "for (i in 1:num_samps){\n",
    "    k <- 0     # Initialize number of successes index\n",
    "    n <- 0     # Initialize number of total trials needed for success to occur\n",
    "    while (k < 3 && n < 20) {\n",
    "        k <- k + rflip(1, prob = 1/4, summarize = TRUE)[1,2]\n",
    "        n <- n + 1\n",
    "    }\n",
    "    num_trials_needed[i] <- n     # store the number of trials need in this simulation\n",
    "}\n",
    "\n",
    "lower <- quantile(num_trials_needed, prob = 0.05)     # Calcuate the 5th percentile.\n",
    "upper <- quantile(num_trials_needed, prob = 0.95)     # Calcuate the 95th percentile.\n",
    "cat('The grand mean of the number of trials needed to achieve success is equal to\\n   ',mean(num_trials_needed) )\n",
    "hist(num_trials_needed, breaks = 8, main = 'Histogram of Oil Wells Drilled: Repetitions = 100', xlab = 'Number of Wells Drilled')\n",
    "abline( v = lower, col=\"blue\")     # Add vertical line at 5th percentile\n",
    "abline(v = upper, col=\"blue\")      # Add vertical line at 95th percentile "
   ]
  },
  {
   "cell_type": "code",
   "execution_count": null,
   "id": "39d12779-e7e0-4304-ab87-bd6bcac93184",
   "metadata": {},
   "outputs": [],
   "source": []
  },
  {
   "cell_type": "code",
   "execution_count": null,
   "id": "d3b7ffc3-0b8b-43d7-b2f0-5f6a7929b1a9",
   "metadata": {},
   "outputs": [],
   "source": []
  },
  {
   "cell_type": "code",
   "execution_count": 63,
   "id": "7822958f-98f0-4f0f-9ae1-9a84f6876217",
   "metadata": {},
   "outputs": [
    {
     "name": "stdout",
     "output_type": "stream",
     "text": [
      "The grand mean of the number of trials needed to achieve success is equal to\n",
      "    11.865"
     ]
    },
    {
     "data": {
      "image/png": "[encoded data removed]",
      "text/plain": [
       "Plot with title \"Histogram of Oil Wells Drilled: Repetitions = 200\""
      ]
     },
     "metadata": {},
     "output_type": "display_data"
    }
   ],
   "source": [
    "num_trials_needed <- c()     # create a vector to store the number of trials needed in while loop\n",
    "num_samps = 200              # set the number of times to run the simulation\n",
    "\n",
    "for (i in 1:num_samps){\n",
    "    k <- 0     # Initialize number of successes index\n",
    "    n <- 0     # Initialize number of total trials needed for success to occur\n",
    "    while (k < 3 && n < 20) {\n",
    "        k <- k + rflip(1, prob = 1/4, summarize = TRUE)[1,2]\n",
    "        n <- n + 1\n",
    "    }\n",
    "    num_trials_needed[i] <- n     # store the number of trials need in this simulation\n",
    "}\n",
    "\n",
    "lower <- quantile(num_trials_needed, prob = 0.05)     # Calcuate the 5th percentile.\n",
    "upper <- quantile(num_trials_needed, prob = 0.95)     # Calcuate the 95th percentile.\n",
    "cat('The grand mean of the number of trials needed to achieve success is equal to\\n   ',mean(num_trials_needed) )\n",
    "hist(num_trials_needed, breaks = 8, main = 'Histogram of Oil Wells Drilled: Repetitions = 200', xlab = 'Number of Wells Drilled')\n",
    "abline( v = lower, col=\"blue\")     # Add vertical line at 5th percentile\n",
    "abline(v = upper, col=\"blue\")      # Add vertical line at 95th percentile "
   ]
  },
  {
   "cell_type": "code",
   "execution_count": null,
   "id": "c513bf72-a4a2-467e-be3e-65a06389f91a",
   "metadata": {},
   "outputs": [],
   "source": []
  },
  {
   "cell_type": "code",
   "execution_count": null,
   "id": "b5d41ed9-8e2c-4766-94a9-2d6f0bf20271",
   "metadata": {},
   "outputs": [],
   "source": []
  },
  {
   "cell_type": "code",
   "execution_count": 64,
   "id": "b96f4f1d-4d00-4475-a448-4ce534026766",
   "metadata": {},
   "outputs": [
    {
     "name": "stdout",
     "output_type": "stream",
     "text": [
      "The grand mean of the number of trials needed to achieve success is equal to\n",
      "    11.68"
     ]
    },
    {
     "data": {
      "image/png": "[encoded data removed]",
      "text/plain": [
       "Plot with title \"Histogram of Oil Wells Drilled: Repetitions = 500\""
      ]
     },
     "metadata": {},
     "output_type": "display_data"
    }
   ],
   "source": [
    "num_trials_needed <- c()     # create a vector to store the number of trials needed in while loop\n",
    "num_samps = 500              # set the number of times to run the simulation\n",
    "\n",
    "for (i in 1:num_samps){\n",
    "    k <- 0     # Initialize number of successes index\n",
    "    n <- 0     # Initialize number of total trials needed for success to occur\n",
    "    while (k < 3 && n < 20) {\n",
    "        k <- k + rflip(1, prob = 1/4, summarize = TRUE)[1,2]\n",
    "        n <- n + 1\n",
    "    }\n",
    "    num_trials_needed[i] <- n     # store the number of trials need in this simulation\n",
    "}\n",
    "\n",
    "lower <- quantile(num_trials_needed, prob = 0.05)     # Calcuate the 5th percentile.\n",
    "upper <- quantile(num_trials_needed, prob = 0.95)     # Calcuate the 95th percentile.\n",
    "cat('The grand mean of the number of trials needed to achieve success is equal to\\n   ',mean(num_trials_needed) )\n",
    "hist(num_trials_needed, breaks = 8, main = 'Histogram of Oil Wells Drilled: Repetitions = 500', xlab = 'Number of Wells Drilled')\n",
    "abline( v = lower, col=\"blue\")     # Add vertical line at 5th percentile\n",
    "abline(v = upper, col=\"blue\")      # Add vertical line at 95th percentile "
   ]
  },
  {
   "cell_type": "code",
   "execution_count": null,
   "id": "103b8a55-9e7d-44d6-8787-11018a1e4043",
   "metadata": {},
   "outputs": [],
   "source": []
  },
  {
   "cell_type": "code",
   "execution_count": null,
   "id": "bd982879-1ffc-4e32-b83f-98a947cb509e",
   "metadata": {},
   "outputs": [],
   "source": []
  },
  {
   "cell_type": "code",
   "execution_count": 67,
   "id": "ba2a9e89-3d8c-4583-9c45-9ce5a97b4a2d",
   "metadata": {},
   "outputs": [
    {
     "name": "stdout",
     "output_type": "stream",
     "text": [
      "The grand mean of the number of trials needed to achieve success is equal to\n",
      "    11.569"
     ]
    },
    {
     "data": {
      "image/png": "[encoded data removed]",
      "text/plain": [
       "Plot with title \"Histogram of Oil Wells Drilled: Repetitions = 1,000\""
      ]
     },
     "metadata": {},
     "output_type": "display_data"
    }
   ],
   "source": [
    "num_trials_needed <- c()     # create a vector to store the number of trials needed in while loop\n",
    "num_samps = 1000              # set the number of times to run the simulation\n",
    "\n",
    "for (i in 1:num_samps){\n",
    "    k <- 0     # Initialize number of successes index\n",
    "    n <- 0     # Initialize number of total trials needed for success to occur\n",
    "    while (k < 3 && n < 20) {\n",
    "        k <- k + rflip(1, prob = 1/4, summarize = TRUE)[1,2]\n",
    "        n <- n + 1\n",
    "    }\n",
    "    num_trials_needed[i] <- n     # store the number of trials need in this simulation\n",
    "}\n",
    "\n",
    "lower <- quantile(num_trials_needed, prob = 0.05)     # Calcuate the 5th percentile.\n",
    "upper <- quantile(num_trials_needed, prob = 0.95)     # Calcuate the 95th percentile.\n",
    "cat('The grand mean of the number of trials needed to achieve success is equal to\\n   ',mean(num_trials_needed) )\n",
    "hist(num_trials_needed, breaks = 8, main = 'Histogram of Oil Wells Drilled: Repetitions = 1,000', xlab = 'Number of Wells Drilled')\n",
    "abline( v = lower, col=\"blue\")     # Add vertical line at 5th percentile\n",
    "abline(v = upper, col=\"blue\")      # Add vertical line at 95th percentile "
   ]
  },
  {
   "cell_type": "markdown",
   "id": "c76c0ab9-7989-4146-a8b5-5df20dcc7d80",
   "metadata": {},
   "source": [
    "The simulated distribution is not quite accurate because, in a good programming move, we have dissallowed a possible infinite loop. We have coded in both the \"number of successes\" stopping criteria along with a \"max oil wells drilled equals 20\" stopping criteria. This second stoppinng criteria creates a second mode at n = 20 which skews the results slightly.\n",
    "\n",
    "However, we have little choice. Programming a possible infinite loop invites much frustration when, as often happens, something goes wrong inside the infinite loop. The code is likely to hang up, throw an error or spin forever trying to execute the loop. Our fail-safe stopping criteria of \"max 20 oil wells\" does skew things slightly, but the alternatives are worse."
   ]
  },
  {
   "cell_type": "code",
   "execution_count": null,
   "id": "d5b7e479-9b3d-4e95-ba60-884328d6ce53",
   "metadata": {},
   "outputs": [],
   "source": []
  }
 ],
 "metadata": {
  "kernelspec": {
   "display_name": "R",
   "language": "R",
   "name": "ir"
  },
  "language_info": {
   "codemirror_mode": "r",
   "file_extension": ".r",
   "mimetype": "text/x-r-source",
   "name": "R",
   "pygments_lexer": "r",
   "version": "3.6.1"
  }
 },
 "nbformat": 4,
 "nbformat_minor": 5
}
