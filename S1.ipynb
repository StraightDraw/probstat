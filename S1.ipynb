{
 "cells": [
  {
   "cell_type": "markdown",
   "id": "inner-charge",
   "metadata": {},
   "source": [
    "# Exploratory Data Analysis: Tools and Ideas"
   ]
  },
  {
   "cell_type": "markdown",
   "id": "arabic-pathology",
   "metadata": {},
   "source": [
    "Two key questions for <span style=\"color: purple\"><b>exploratory data analysis</b></span> in statistics are:\n",
    "\n",
    "1. Shape?\n",
    "2. Outliers/skew?\n",
    "\n",
    "For shape, we would like to know if the distribution appears to be uniform, exponential, binomial, bell-shaped or a fit with another common pattern. The key distribution in statistics is the **normal** (or bell-shaped) distribution. A *uniform* distribution is where all outcomes are equally likely? We have looked at distributions like the binomial, hypergeometric, geometric and negative binomial distributions. The most significant shape for introductory statistics is the<span style=\"color: purple\"><b> normal distribution </b></span>since parametric statistical tests like the $z$-test, the $t$-test, ANOVA, and regression are built on assumptions of normality.\n",
    "\n",
    "The second question we need to ask:<span style=\"color: purple\"><b> do skew and outliers exist? </b></span>We need to know because we often must treat skewed data and data with outliers with great care and possibly different tools. The first steps of data analysis are to generate numeric descriptions of the data (descriptive statistics) and typical graphical displays of data like histograms, stem plots.\n",
    "\n",
    "We will develop essential skills below including detecting outliers and creating the graphics needed to assess shape and skew."
   ]
  },
  {
   "cell_type": "markdown",
   "id": "3ad653ab-30fe-44d7-8f65-6237b86fdce8",
   "metadata": {},
   "source": [
    "```{sidebar} Data Visualization \n",
    "Data scientists use more robust analytic tools and have entire courses on data visualization which is the art of creating visual displays that tell a story about the data. To understand more about the groundbreaking work in data science, check out several data visualizations at the Pew Research Center regarding [political beliefs in the US](https://www.pewresearch.org/fact-tank/2014/12/29/our-favorite-pew-research-center-data-visualizations-from-2014). Also check out this [blog post](https://visme.co/blog/best-data-visualizations) where data science and artwork intersect</a> or this marketing blog with [16 great examples](https://blog.hubspot.com/marketing/great-data-visualization-examples) of data visualizations. As data science progresses, more and more exciting avenues exist for displaying and visualizing data. In this course, we will provide the basic numeric and graphic approaches to summarizing data. You're learning some R coding along the way. By the end of this course, if you're interested, a few hours will be all you will need to teach yourself to produce some pretty powerful visualizations of your own with RStudio.\n",
    "```"
   ]
  },
  {
   "cell_type": "markdown",
   "id": "formed-council",
   "metadata": {},
   "source": [
    "## Data\n",
    "\n",
    "Most often, we investigate single varible numeric data. In R, that data is typically stored as vector. Mathematically, we have the outcomes $x_i$ in the set $X$:\n",
    "\n",
    "$$X \\in \\{x_1,x_2, \\cdots, x_n\\}$$\n",
    "\n",
    "This data is stored in R as a column in a data frame or as a data vector. The vector is preferred when graphics or descriptives are generated."
   ]
  },
  {
   "cell_type": "markdown",
   "id": "44d4adcd-8eee-49b4-bbac-34a1c49b3587",
   "metadata": {
    "tags": []
   },
   "source": [
    "## Parameters and Statistics\n",
    "\n",
    "In statistics, we use two different sets of symbols to refer to the mean and standard deviation:"
   ]
  },
  {
   "cell_type": "markdown",
   "id": "3a2bcc86-c3cd-463c-982e-64a019610450",
   "metadata": {},
   "source": [
    "$$\n",
    "\\begin{array}{c|cc}\n",
    "&\\text{Population}&\\text{Sample}\\\\ \\hline\n",
    "\\text{AVG}&\\mu&\\bar{x}\\\\\n",
    "\\text{SD}&\\sigma& s\\\\\n",
    "\\end{array}\n",
    "$$"
   ]
  },
  {
   "cell_type": "markdown",
   "id": "016b0a88-71a8-4755-9569-a52e1ace8dc4",
   "metadata": {},
   "source": [
    "The population parameters $\\mu$ and $\\sigma$ are rarely known. Much of statistics is about estimating these parameters using the sample statistics $\\bar{x}$ and $s$ respectively. For example, a poker player's distribution of winnings (per 100 hands) is a normal distribution. True win rates are not known. Winning poker players often suffer long colds streaks. Over time, things average out. We don't know Mandy's average win rate, $\\mu$, but we can take sample of recent sessions and estimate it with $\\bar{x}$."
   ]
  },
  {
   "cell_type": "markdown",
   "id": "dd5689b6-f5a6-43fd-ad34-f7118eadf9c2",
   "metadata": {},
   "source": [
    "```{admonition} Example 1\n",
    "Suppose that Mandy's winnings from her most recent 20 cash poker sessions is given in the table below. Let's find the descriptive statistics and plot some standard statistical graphics using this data.\n",
    "```\n",
    "\n",
    "<table style=\"width:60%\">\n",
    "  <tr>\n",
    "    <td style='text-align:center; vertical-align:middle'>28</td>\n",
    "    <td style='text-align:center; vertical-align:middle'>11</td>\n",
    "    <td style='text-align:center; vertical-align:middle'>18</td>\n",
    "    <td style='text-align:center; vertical-align:middle'>35</td>\n",
    "    <td style='text-align:center; vertical-align:middle'>36</td>\n",
    "    <td style='text-align:center; vertical-align:middle'>6</td>\n",
    "    <td style='text-align:center; vertical-align:middle'>-38</td>\n",
    "    <td style='text-align:center; vertical-align:middle'>14</td>\n",
    "    <td style='text-align:center; vertical-align:middle'>-19</td>\n",
    "    <td style='text-align:center; vertical-align:middle'>43</td>\n",
    "  </tr>\n",
    "  <tr>\n",
    "    <td style='text-align:center; vertical-align:middle'>-14</td>\n",
    "    <td style='text-align:center; vertical-align:middle'>-30</td>\n",
    "    <td style='text-align:center; vertical-align:middle'>-16</td>\n",
    "    <td style='text-align:center; vertical-align:middle'>-25</td>\n",
    "    <td style='text-align:center; vertical-align:middle'>0</td>\n",
    "    <td style='text-align:center; vertical-align:middle'>40</td>\n",
    "    <td style='text-align:center; vertical-align:middle'>16</td>\n",
    "    <td style='text-align:center; vertical-align:middle'>-79</td>\n",
    "    <td style='text-align:center; vertical-align:middle'>3</td>\n",
    "    <td style='text-align:center; vertical-align:middle'>1</td>\n",
    "  </tr>\n",
    "</table>\n",
    "\n",
    "The command is shown below using the concatenate function **c()**."
   ]
  },
  {
   "cell_type": "code",
   "execution_count": 1,
   "id": "a167a180-a00b-4891-aea6-9f6c8c698dbc",
   "metadata": {},
   "outputs": [],
   "source": [
    "W <- c( 28, 11, 18, 35, 36, 6, -38, 14, -19, 43, -14, -30, -16, -25, 0, 40, 16, -79, 3, 11)"
   ]
  },
  {
   "cell_type": "markdown",
   "id": "92eba833-5c77-4a72-ac65-4a8c8b36c549",
   "metadata": {},
   "source": [
    "### Descriptive Statistics\n",
    "\n",
    "We will use the code block we developed in the Descriptives Statistics section. We have changed the vector to $W$ and the title to *WINNINGS*."
   ]
  },
  {
   "cell_type": "code",
   "execution_count": 2,
   "id": "97400ca6-252c-45e0-981b-9757be77bca5",
   "metadata": {},
   "outputs": [
    {
     "name": "stdout",
     "output_type": "stream",
     "text": [
      "The standard descriptives for WINNINGS\n",
      "   Mean =  2 \n",
      "   Standard Deviation =  30.57 \n",
      "   Sample Size =  20 \n",
      "\n",
      "The 5-number summary for WINNINGS"
     ]
    },
    {
     "data": {
      "text/plain": [
       "   Min. 1st Qu.  Median    Mean 3rd Qu.    Max. \n",
       " -79.00  -16.75    8.50    2.00   20.50   43.00 "
      ]
     },
     "metadata": {},
     "output_type": "display_data"
    }
   ],
   "source": [
    "cat('The standard descriptives for WINNINGS\\n   Mean = ', round(mean(W),1),\n",
    "    '\\n   Standard Deviation = ', round(sd(W),2),\n",
    "    '\\n   Sample Size = ', length(W),\n",
    "    '\\n\\nThe 5-number summary for WINNINGS')\n",
    "summary(W)"
   ]
  },
  {
   "cell_type": "markdown",
   "id": "755ad598-00df-4fed-ba7e-955e18b81663",
   "metadata": {},
   "source": [
    "The most interesting point of analysis we can see already is that the mean is a good bit lower than the median. This can and often does indicate skew and a potential for outliers.\n",
    "\n",
    "```{sidebar}\n",
    "Check out the [Graphics Options](../A2a.ipynb) help section in the appendix where the graphical options are demonstrated.\n",
    "```"
   ]
  },
  {
   "cell_type": "markdown",
   "id": "0dbe10ce-f825-431e-a1e2-8abf4d9b6418",
   "metadata": {},
   "source": [
    "## Shape: Histograms and Density Plots\n",
    "\n",
    "The classical way of inspecting shape is the grand old histogram.\n",
    "\n",
    "```{tip}\n",
    "Recall that the **breaks =** option allows us to increase or decrease the number of bars by controlling the *bin width*, e.g. the length of the equally-spaced intervals along the $x$-axis.\n",
    "```"
   ]
  },
  {
   "cell_type": "code",
   "execution_count": 3,
   "id": "0a5f5929-f2cd-4d2e-b950-1af8fc4bf06d",
   "metadata": {},
   "outputs": [
    {
     "data": {
      "image/png": "[encoded data removed]",
      "text/plain": [
       "Plot with title \"Histogram: Mandy's Winnings\""
      ]
     },
     "metadata": {},
     "output_type": "display_data"
    }
   ],
   "source": [
    "hist(W,\n",
    "     main = \"Histogram: Mandy's Winnings\",\n",
    "     xlab = 'Winnings in BB/100')"
   ]
  },
  {
   "cell_type": "markdown",
   "id": "dcc0de0d-8c1b-4abf-b27a-368255a88da2",
   "metadata": {},
   "source": [
    "```{tip}\n",
    "The $x$-axis is labeled in units of **Big Blinds per 100 Hands** which, in poker parlance, describes the winnings in terms of the expense of the game. \n",
    "```"
   ]
  },
  {
   "cell_type": "code",
   "execution_count": 4,
   "id": "91133caa-6abb-4da1-b693-6fbcd3cd55cd",
   "metadata": {},
   "outputs": [
    {
     "data": {
      "image/png": "[encoded data removed]",
      "text/plain": [
       "Plot with title \"Density Plot: Mandy's Winnings\""
      ]
     },
     "metadata": {},
     "output_type": "display_data"
    }
   ],
   "source": [
    "plot(density(W), main = \"Density Plot: Mandy's Winnings\",\n",
    "     xlab = 'Winnings in BB/100')"
   ]
  },
  {
   "cell_type": "markdown",
   "id": "83f0d946-1b4c-4fd7-a9b6-d81ec9f0f6af",
   "metadata": {},
   "source": [
    "### Analysis\n",
    "\n",
    "The histogram and density plot confirm the skew to the left which confirms our alert. The mean was strikingly different from the median which made us suspicious of skew and outliers. The distribution appears to be **approximately normal** (or bell-shaped) and **skewed left**. The tail to the left comprises 4 bars of the histogram while the tail to the right comprises only 2. The direction of skew, if any, is in the same direction as the longest tail in the histogram or desnity plot."
   ]
  },
  {
   "cell_type": "markdown",
   "id": "cf2f5fdd-7678-4f87-a093-140771332db3",
   "metadata": {},
   "source": [
    "## Standardized Scores\n",
    "\n",
    "Standardized scores or $z$-scores are calculated from a data point $x$ as follows:\n",
    "\n",
    "$$z = \\frac{x-\\mu}{\\sigma}$$\n",
    "\n",
    "where $\\mu$ is the population mean and $\\sigma$ is the popolutaion standard deviation. A $z$-score indicates both distance and direction from the mean, and its units are standard deviations. Note that, when we don't know $\\mu$ or $\\sigma$, or both, we substitute the sample statistics:\n",
    "\n",
    "$$z = \\frac{x-\\bar{x}}{s}$$"
   ]
  },
  {
   "cell_type": "markdown",
   "id": "81fa5bed-dc57-4578-89d5-46f6d1f4f525",
   "metadata": {},
   "source": [
    "## Standard Deviation and Outliers\n",
    "\n",
    "The standard deviation can be thought of as a distance metric specific to the data set. Let’s take a moment to discover why. Given the data set $X=\\{1,2,3,6\\}$, we have $n=4$ and $\\bar x=3$. For any data point, say, $x_1=1$, we can compute the directional distance or **deviation** from the mean:\n",
    "\n",
    "$$d_i = x_i - \\bar x$$"
   ]
  },
  {
   "cell_type": "markdown",
   "id": "13effc06-6925-4ad5-9c8d-fba33b2f985a",
   "metadata": {},
   "source": [
    "For this example, we have\n",
    "\n",
    "$$d_1 = 1 -3 = -2$$\n",
    "\n",
    "For deviations where $x_i<x$ (below average), then $d_i<0$, e.g. a negative deviation. Positive deviations indicate data points that are above average. If we treat the data set $X$ as a column vector $\\vec x$ and calculate the deviation for each component, we have the deviation vector:\n",
    "\n",
    "$$\\vec{d_x} = \\left(\\begin{array}{c}x_1 - \\bar x \\\\x_2 - \\bar x \\\\ \\vdots \\\\ x_n - \\bar x \\\\ \\end{array}\\right)$$"
   ]
  },
  {
   "cell_type": "markdown",
   "id": "f5bf3ab6-8452-4365-b1f6-383a47dd2579",
   "metadata": {},
   "source": [
    "The idea for the calculation of a **standard distance (or deviation)** beings with an application of the Euclidean distance metric to $\\vec{d_x}$ . The magnitude of the deviation vector is given by:\n",
    "\n",
    "$$\\begin{align*}\n",
    "\\left\\|\\vec{d_x}\\right\\| &= \\sqrt{(-2)^2+(-1)^2+(0)^2+(3)^2} \\\\\n",
    "&=\\sqrt{14}\\\\\n",
    "&\\approx 3.742\n",
    "\\end{align*}$$"
   ]
  },
  {
   "cell_type": "markdown",
   "id": "e65695f8-21e8-4f6d-afbb-9ab21495ba5f",
   "metadata": {},
   "source": [
    "## Outliers and Skew\n",
    "\n",
    "We have two ways that we check for outliers in basic stastiscs:\n",
    "1. **Numerically** using *mean* and *standard deviation*.\n",
    "2. **Graphically** using the *box plot* and *5-number summary*.\n",
    "\n",
    "### Checking for Outliers Numerically\n",
    "\n",
    "Any data point more than 2 standard deviations away from the mean may be considered an outlier in a small data set where $n \\leq 200$. \n",
    "\n",
    "We can use the $<$ and $>$ operators along with the **sum()** function to determine whether these conditions exist for data points in a vector. The value\n",
    "\n",
    "$$\\bar x - 2s$$\n",
    "\n",
    "is the lower bound for outliers. Any data point eqaul to or below this value will be considered an outlier.\n",
    "\n",
    "**Notice how the operator $<$ functions when applied to the data vector**."
   ]
  },
  {
   "cell_type": "code",
   "execution_count": 7,
   "id": "867c4e62-a562-499a-bb29-db77ac1577f4",
   "metadata": {},
   "outputs": [
    {
     "data": {
      "text/html": [
       "<ol class=list-inline>\n",
       "\t<li>FALSE</li>\n",
       "\t<li>FALSE</li>\n",
       "\t<li>FALSE</li>\n",
       "\t<li>FALSE</li>\n",
       "\t<li>FALSE</li>\n",
       "\t<li>FALSE</li>\n",
       "\t<li>FALSE</li>\n",
       "\t<li>FALSE</li>\n",
       "\t<li>FALSE</li>\n",
       "\t<li>FALSE</li>\n",
       "\t<li>FALSE</li>\n",
       "\t<li>FALSE</li>\n",
       "\t<li>FALSE</li>\n",
       "\t<li>FALSE</li>\n",
       "\t<li>FALSE</li>\n",
       "\t<li>FALSE</li>\n",
       "\t<li>FALSE</li>\n",
       "\t<li>TRUE</li>\n",
       "\t<li>FALSE</li>\n",
       "\t<li>FALSE</li>\n",
       "</ol>\n"
      ],
      "text/latex": [
       "\\begin{enumerate*}\n",
       "\\item FALSE\n",
       "\\item FALSE\n",
       "\\item FALSE\n",
       "\\item FALSE\n",
       "\\item FALSE\n",
       "\\item FALSE\n",
       "\\item FALSE\n",
       "\\item FALSE\n",
       "\\item FALSE\n",
       "\\item FALSE\n",
       "\\item FALSE\n",
       "\\item FALSE\n",
       "\\item FALSE\n",
       "\\item FALSE\n",
       "\\item FALSE\n",
       "\\item FALSE\n",
       "\\item FALSE\n",
       "\\item TRUE\n",
       "\\item FALSE\n",
       "\\item FALSE\n",
       "\\end{enumerate*}\n"
      ],
      "text/markdown": [
       "1. FALSE\n",
       "2. FALSE\n",
       "3. FALSE\n",
       "4. FALSE\n",
       "5. FALSE\n",
       "6. FALSE\n",
       "7. FALSE\n",
       "8. FALSE\n",
       "9. FALSE\n",
       "10. FALSE\n",
       "11. FALSE\n",
       "12. FALSE\n",
       "13. FALSE\n",
       "14. FALSE\n",
       "15. FALSE\n",
       "16. FALSE\n",
       "17. FALSE\n",
       "18. TRUE\n",
       "19. FALSE\n",
       "20. FALSE\n",
       "\n",
       "\n"
      ],
      "text/plain": [
       " [1] FALSE FALSE FALSE FALSE FALSE FALSE FALSE FALSE FALSE FALSE FALSE FALSE\n",
       "[13] FALSE FALSE FALSE FALSE FALSE  TRUE FALSE FALSE"
      ]
     },
     "metadata": {},
     "output_type": "display_data"
    }
   ],
   "source": [
    "W <= mean(W) - 2 * sd(W)"
   ]
  },
  {
   "cell_type": "markdown",
   "id": "26441dd1-3740-49cc-bb87-1411f5d6d483",
   "metadata": {},
   "source": [
    "The TRUE and FALSE values are 1's and 0's in R, so we can sum up the TRUE/FALSE vector to find the number of TRUE values in it."
   ]
  },
  {
   "cell_type": "code",
   "execution_count": 8,
   "id": "90b3cc44-1b72-40e5-acb6-1206a151d8b7",
   "metadata": {},
   "outputs": [
    {
     "data": {
      "text/html": [
       "1"
      ],
      "text/latex": [
       "1"
      ],
      "text/markdown": [
       "1"
      ],
      "text/plain": [
       "[1] 1"
      ]
     },
     "metadata": {},
     "output_type": "display_data"
    }
   ],
   "source": [
    "sum(W <= mean(W) - 2 * sd(W))"
   ]
  },
  {
   "cell_type": "markdown",
   "id": "4ca6acd0-7452-4b64-88a3-f3b6c84af0a7",
   "metadata": {},
   "source": [
    "Thus, we have one outlier to left or one data point that is more than 2 standard deviations below average. For outliers to right, we check the following:"
   ]
  },
  {
   "cell_type": "code",
   "execution_count": 9,
   "id": "ecfd1ed7-798c-40e4-88fc-489ad35c759b",
   "metadata": {},
   "outputs": [
    {
     "data": {
      "text/html": [
       "0"
      ],
      "text/latex": [
       "0"
      ],
      "text/markdown": [
       "0"
      ],
      "text/plain": [
       "[1] 0"
      ]
     },
     "metadata": {},
     "output_type": "display_data"
    }
   ],
   "source": [
    "sum(W >= mean(W) + 2 * sd(W))"
   ]
  },
  {
   "cell_type": "markdown",
   "id": "cf83c361-5fab-49df-b806-31daf9937fd5",
   "metadata": {},
   "source": [
    "We therefore find no outliers to right. We do not have any data points 2 standard deviations or more above the average."
   ]
  },
  {
   "cell_type": "markdown",
   "id": "4b59f02b-6422-435e-9fea-bd60ec79dc05",
   "metadata": {},
   "source": [
    "### Checking for Outliers Graphically\n",
    "\n",
    "The easiest way to check for outliers is to create box plot. While the box plot is a picture of the 5-number summary, most statistical software and graphing calculators also identify outliers while doing so."
   ]
  },
  {
   "cell_type": "code",
   "execution_count": 10,
   "id": "bdd94eff-224c-4861-8dfc-82d414ff27c9",
   "metadata": {},
   "outputs": [
    {
     "data": {
      "image/png": "[encoded data removed]",
      "text/plain": [
       "plot without title"
      ]
     },
     "metadata": {},
     "output_type": "display_data"
    }
   ],
   "source": [
    "boxplot(W)"
   ]
  },
  {
   "cell_type": "markdown",
   "id": "ae31e6c8-9941-4baa-8986-b4458d1cfc0b",
   "metadata": {},
   "source": [
    "The box plot has identified a single outlier to the left and none to the right. The formula that is used to determine the cutoff values (called **fences**) is based on the values in the 5-number summary.\n",
    "\n",
    "- Lower Fence = Q1 - 1.5 * IQR\n",
    "- Upper Fence = Q3 + 1.5 * IQR\n",
    "\n",
    "where IQR = Q3 - Q1 and indicates the \"inner quartile range.\"\n",
    "\n",
    "We can check for outliers using these fences just as we did above by using the **sum()** function and a $>$ or $<$ inequality."
   ]
  },
  {
   "cell_type": "markdown",
   "id": "9e00e367-1541-45ed-8b42-e9bd994ae2c9",
   "metadata": {},
   "source": [
    "### Skew\n",
    "\n",
    "Outliers tend to cause skew. If we have several outliers to the left and none to the right, we generally can see skew to the left in the histogram or density plot. If we have outliers to the right but none to the left, we generally have skew to the right.\n",
    "\n",
    "- Skewed **right** usually means the **mean is greater than the median**.\n",
    "- Skewed **left** usually means the **mean is less than the median**.\n",
    "\n",
    "This is how we guessed above that outliers and skew might be present. The above two statements can be reversed:\n",
    "\n",
    "- If the **mean is significantly greater than the median**, we expect skew to the **right** and the majority of outliers to the right.\n",
    "- If the **mean is significantly less than the median**, we expect skew to the **left** and the majority of outliers to the left.\n",
    "\n",
    "When is the mean **significantly** greater or less than the median?\n",
    "\n",
    "**Robb' Rule of Thumb** states that when the mean and median differ by a tenth of a standard deviation or more, we should expect skew and outliers. "
   ]
  },
  {
   "cell_type": "markdown",
   "id": "a2bf96a1-1eb1-48cf-9826-2cf9a7c6b84c",
   "metadata": {},
   "source": [
    "### Pivot Tables"
   ]
  },
  {
   "cell_type": "markdown",
   "id": "01091207-ff28-461b-8c57-a0a0d01196c7",
   "metadata": {},
   "source": [
    "We also have a quick ways to summarize 2 category variables in a 2-way table or pivot table:"
   ]
  },
  {
   "cell_type": "code",
   "execution_count": 11,
   "id": "07dffda6-6c5b-406e-b942-86bff6e6b67e",
   "metadata": {},
   "outputs": [
    {
     "data": {
      "text/plain": [
       "   AccDate\n",
       "Sex  N  Y\n",
       "  F 28 46\n",
       "  M 28 27"
      ]
     },
     "metadata": {},
     "output_type": "display_data"
    }
   ],
   "source": [
    "pers <- read.csv('https://faculty.ung.edu/rsinn/data/personality.csv')\n",
    "xtabs(~Sex + AccDate, data = pers)"
   ]
  },
  {
   "cell_type": "markdown",
   "id": "891192f3-b50c-4207-936a-6ff47f3ffbe9",
   "metadata": {},
   "source": [
    "```{tip}\n",
    "Note the statistical formula that is used above:\n",
    "\n",
    "$$\\text{~ Sex + AccDate}$$\n",
    "\n",
    "The $+$ operator indicates a categorical variable to follow instead of a numeric one. R understands the leading ~ indicates that both of the variables are catogorical or qualitative, not numerc.\n",
    "```\n",
    "\n",
    "We use the same statistical formula in the call to the function **mosaicplot** which provides an intriguing visualization for analyzing 2 category variables."
   ]
  },
  {
   "cell_type": "code",
   "execution_count": 12,
   "id": "dcaf6877-386d-4088-a1a0-5851a81c8897",
   "metadata": {},
   "outputs": [
    {
     "data": {
      "image/png": "[encoded data removed]",
      "text/plain": [
       "Plot with title \"Accept Date vs. Biological Sex\""
      ]
     },
     "metadata": {},
     "output_type": "display_data"
    }
   ],
   "source": [
    "mosaicplot(~Sex + AccDate, data =pers, main = \"Accept Date vs. Biological Sex\")"
   ]
  },
  {
   "cell_type": "code",
   "execution_count": null,
   "id": "dcb277df-798b-4f1b-8d9a-1508c7fd9cff",
   "metadata": {},
   "outputs": [],
   "source": []
  }
 ],
 "metadata": {
  "kernelspec": {
   "display_name": "R",
   "language": "R",
   "name": "ir"
  },
  "language_info": {
   "codemirror_mode": "r",
   "file_extension": ".r",
   "mimetype": "text/x-r-source",
   "name": "R",
   "pygments_lexer": "r",
   "version": "3.6.1"
  }
 },
 "nbformat": 4,
 "nbformat_minor": 5
}
