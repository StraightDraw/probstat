{
 "cells": [
  {
   "cell_type": "markdown",
   "id": "c2171a63-87e3-4daf-b179-6974981d7c41",
   "metadata": {},
   "source": [
    "# 85 More Probability Questions"
   ]
  },
  {
   "cell_type": "markdown",
   "id": "a41a7cae-32e6-4be9-a92b-512956801069",
   "metadata": {},
   "source": [
    "## Formulas and Notation\n",
    "\n",
    "* **Cardinality Operator:** $n(S)$ , counts the (possibly infinite) number elements in set $S$.\n",
    "* **Probability:** $P(A)=\\frac{n(A)}{n(S)}$ , the probability of event $A$ is the cardinality of event set $A$ divided by the cardinality of the sample space $S$.\n",
    "* **Permutations:** $P(n,k)=\\frac{n!}{(n-k)!}$ , the number of ordered ways to permute $n$ objects into $k$ bins.\n",
    "* **Combinations:** $\\binom{n}{k}=\\frac{n!}{k!(n-k)!}$ , the number of unordered ways to arrange $n$ objects into $k$ bins. This notation also refers to the binomial coefficients and is read \"$n$ choose $k$.\"\n",
    "* **Word:** We will use \"word\" to refer to all possible distinct orderings of a group of letters without concern for whether or not these orderings would show up in a dictionary."
   ]
  },
  {
   "cell_type": "markdown",
   "id": "64488948-2377-4090-b4ce-16419035d8f2",
   "metadata": {},
   "source": [
    "## Exercises\n",
    "\n",
    "1. A standard dice is rolled. What is the probability that a 2, 4, OR 6 will be rolled?\n",
    " \n",
    "2. Rosa will toss a fair coin twice. If you know that the first coin toss resulted in heads, what would the probability be that both coins would land on heads?\n",
    " \n",
    "3. A spinner is divided into 3 equal sections, with sections labeled 1, 2, and 3. What is the probability of spinning a 3 on the spinner if you know the arrow landed on an odd number?\n",
    "\n",
    "4. A party host gives a door prize to one guest chosen at random. There are 48 men and 42 women at the party. What is the probability that the prize goes to a woman?"
   ]
  },
  {
   "cell_type": "markdown",
   "id": "dccfcb80-8269-4698-a8bb-440ce77c1a22",
   "metadata": {},
   "source": [
    "5. A spinner is divided into five equal sections numbered 1 through 5. The arrow is equally likely to land on any section.\n",
    "    1. Find the probability table, which is also called the discrete ``probability density function'' (or pdf).\n",
    "    2. Calculate the expected value $E(X)$ (or mean $\\mu_x$) of the probability experiment.\n",
    "    3. Calculate the variance $V(X)$ of the probability experiment.\n",
    "    4. Calculate the standard deviation."
   ]
  },
  {
   "cell_type": "markdown",
   "id": "895d6942-bb18-4607-9312-a9fca0187d09",
   "metadata": {},
   "source": [
    "6. Alaska license plates have two letters followed by three numbers. What is the probability that a randomly chosen license plate will have an NC with the number ending in a 3?\n",
    "\n",
    "7. A 20-sided is rolled. If the result is 10 or less, the 20-sided die is rolled again.  If the result is 11 or more, a 4-sided die is rolled.  In either case, the results are summed after the second die roll.  What is the probability that the sum will be 14?"
   ]
  },
  {
   "cell_type": "markdown",
   "id": "3bcc03b3-d387-49e9-a203-2767dd4c30a1",
   "metadata": {},
   "source": [
    "8. Police plan to enforce speed limits during the morning rush hour on four different routes into the city. The traps on routes A, B, C, and D are operated 40\\% , 30\\%, 20\\%, and 30\\% of the time, respectively. Biff always speeds to work, and he has probability 0.2, 0.1, 0.5, and 0.2 of using those routes.\n",
    "    1. What is the probability that he'll get a ticket on any one morning?\n",
    "    2. What is the probability he'll go five mornings without a ticket? "
   ]
  },
  {
   "cell_type": "markdown",
   "id": "df8fcb0e-6519-4e40-b60d-77a2df3e23af",
   "metadata": {},
   "source": [
    "9. In an urn are 5 blue, 3 red, and 2 yellow marbles. If you draw 3 marbles, what is the probability that 2 or fewer will be red if:\n",
    "    1. You draw with replacement?\n",
    "    2. You draw without replacement?"
   ]
  },
  {
   "cell_type": "markdown",
   "id": "d241d8ad-ba02-4834-876a-63ce29556f22",
   "metadata": {},
   "source": [
    "10. Butch will miss an important TV program while taking his statistics exam, so he sets both his VCRs to record it. The first one records 70\\% of the time, and the second one records 60\\% of the time. What is the probability that he gets home after the exam and finds?\n",
    "    1. No copies of his program?\n",
    "    2. One copy of his program?\n",
    "    3. Two copies of his program?\n",
    "    4. Good grief, a VCR? What's that?"
   ]
  },
  {
   "cell_type": "markdown",
   "id": "bad93623-1091-44ff-bcd8-63ad1dc5725e",
   "metadata": {},
   "source": [
    "11. Two squares are chosen at random on a chessboard.  What is the probability that they have a side in common?"
   ]
  },
  {
   "cell_type": "markdown",
   "id": "a343d807-24d0-4cb8-b2db-2e583ee8b163",
   "metadata": {},
   "source": [
    "12. At a baby shower, we started discussing baby statistics. One of the women told us she had heard a report that for every 100 babies born, there were 6 more boys than girls. \n",
    "    1. If we were to randomly pick a child from a representative group, what is the probability of picking a girl?\n",
    "    2. If we were to pick 10 babies at random, what is the probability that at least half of them would be girls?\n",
    "    3. If we were to pick 10 babies at random, what is the probability that exactly 8 of them would be girls?\n",
    "    4. If we were to pick 10 babies at random, what is the probability that no more than 8 of them would be boys?"
   ]
  },
  {
   "cell_type": "markdown",
   "id": "5d1539b2-0d1a-499e-851f-c9bea5947ab6",
   "metadata": {},
   "source": [
    "13. There are an equal number of pennies, nickels, dimes, and quarters in a bag. What is the probability that the combined value of the four coins randomly selected with replacement will be \\$0.41? \n",
    "\n",
    "14. A quarter, two dimes, a nickel and four pennies are placed in a bag and mixed thoroughly. Two coins are drawn at random without replacement, and their total monetary value is recorded. Create a probability table (pdf) for this probability experiment, and then calculate the expected value, variance and standard deviation.\n",
    "\n",
    "15. From past experience it is known that 3\\% of accounts in a large accounting population are in error. Joe is given a randomized list of accounts to audit. What is the probability that he audits 5 accurate accounts before he finds the 6th account in error?\n",
    "\n",
    "16. An oil company conducts a geological study that indicates that an exploratory oil well in a certain region should have a 20\\% chance of striking oil. What is the probability that the first strike comes on the third well drilled? The company wants three working rigs in the region. What is the probability that they can have to drill 8 times or fewer to get the three they need?\n",
    "\n",
    "18. What is the probability of getting a license plate that has a repeated letter or digit if you live in a state where the license plate scheme is four letters followed by two numerals? \n",
    "\n",
    "19. On a multiple-choice test of 10 questions, each question has 5 possible answers. A student is certain of the answers to 4 questions but is totally baffled by 6 questions. If the student randomly guesses the answers to those 6 questions, what is the probability that the student will get a score of 5 or more on the test? Express your answer correct to two decimal places. \n",
    "\n",
    "20. On a multiple-choice test of 10 questions, each question has 5 possible answers. A student is certain of the answers to 4 questions but is totally baffled by 6 questions. If the student randomly guesses the answers to those 6 questions, find a probability density function (pdf) for the number of correct responses earned. Calculate the mean and standard deviation for the pdf."
   ]
  },
  {
   "cell_type": "markdown",
   "id": "03e44342-d759-4b54-96ef-59fc46cb91f8",
   "metadata": {},
   "source": [
    "20. There are 3 urns each containing red and black marbles (see table below). You draw one marble from Urn 1. If you draw a red marble from Urn 1, you make your second draw from Urn 2. If you draw a black marble from Urn 1, you make your second draw from Urn 3. What is the probability of drawing two marbles of the same color?"
   ]
  },
  {
   "cell_type": "markdown",
   "id": "151cc830-d446-45c3-b227-c7873a1f4673",
   "metadata": {},
   "source": [
    "```{list-table}\n",
    ":header-rows: 1\n",
    "\n",
    "* - Urn\n",
    "  - Red Marbles\n",
    "  - Black Marbles\n",
    "* - 1\n",
    "  - 1\n",
    "  - 9\n",
    "* - 2\n",
    "  - 7\n",
    "  - 3\n",
    "* - 3\n",
    "  - 5\n",
    "  - 5\n",
    "```"
   ]
  },
  {
   "cell_type": "markdown",
   "id": "ebed1c36-281e-49d2-9387-1e46533eb448",
   "metadata": {},
   "source": [
    "21. Five number digits are generated in five rounds. In the first round, a digit from 0, ... , 9 could be selected, with equal probability. In each further round, if a1...an has already been selected, then the next number selected could only be $n+1, ... , 9$ with all these choices having equal probability. In other words, the digits of the number generated will always increase, like in 35689 or 24789. Find the probability that a sequence: \n",
    "    1. Terminates after 1, 2, 3 or 4 rounds (e.g. a 9 is selected and, therefore, the process ends).\n",
    "    2. Given a 5-digit is generated, that it consists of all even integers.\n",
    "    3. Consists of all odd integers."
   ]
  },
  {
   "cell_type": "markdown",
   "id": "6bc35045-cb9d-4aa9-b36e-85087c2b9b1f",
   "metadata": {},
   "source": [
    "22. In Franklin College, 40\\% of the freshmen are enrolled in a mathematics course, and 75\\% are enrolled in an English course, and 20\\% are taking both.\n",
    "    1. What is the probability that a randomly selected freshman is taking an English course if it is known that he or she is enrolled in a mathematics course? \n",
    "    2. If a randomly selected freshman is taking an English course, what is the probability that he or she is also enrolled in a mathematics course?"
   ]
  },
  {
   "cell_type": "markdown",
   "id": "359214ca-ff39-4caa-b267-e93e7e2f00be",
   "metadata": {},
   "source": [
    "23. Eight tennis players (call them A,B,C,D,E,G,F,H) are randomly assigned to start positions in a ladder tournament. Initially, position 1 plays position 2, position 3 plays 4,  5 plays 6 and 7 plays 8.  Second round has 2 matches: winner of (1,2) match plays winner of (3,4), and winner (5,6) plays winner(7,8). The winners of the two 2nd round matches play each other in the final match. Player A wins against any of the others. Player B always beats any opponent except player A. What is the probability that player B wins the 2nd place trophy in the final match? \n",
    "\n",
    "24. In a roomful of 30 people, what is the probability that at least two people have the same birthday?  Assume birthdays are uniformly distributed and there is no leap year complication.\n",
    "\n",
    "25. A coach is training 15 girls. He wants to form 5 lines of 3 forwards each (left-wing, center, and right-wing). Assume that the order of assigning these positions matters. What is the probability that both Ann and May are in the same line?\n",
    "\n",
    "26. What is the probability of receiving a 7 (3 letters, then 4 numbers) digit license plate with a repeated letter/number?\n",
    "\n",
    "27. What is the probability of having a license plate (3 letters, then 4 numbers) with either all vowels OR consonants?\n",
    "\n",
    "28. What is the probability of randomly selecting a bill from a wallet and getting a \\$20 bill out of a wallet with 2 tens, 3 fives, 4 twenties, and 7 ones?\n",
    "\n",
    "29. What is the probability of getting a 75\\% or better on a 8 question multiple choice test with 4 choices each, randomly guessing?\n",
    "\n",
    "30. A certain school has three exam slots per day and 4 days for finals. Assuming exams are scheduled at random, what is the probability of a student with 5 classes having 3 finals scheduled on a single day?\n",
    "\n",
    "31. What is the probability of drawing a red or blue marble out of a bowl with 10 red, 6 blue, 9 green?\n",
    "\n",
    "32. What is the probability of rolling snake eyes?\n",
    "\n",
    "33. What is the probability that a five-card poker hand will contain at least one of each suit?\n",
    "\n",
    "34. When selecting three cards in an ordered sequence, what is the probability that the rank of the first card is strictly smaller than the rank of the second card which, in turn, is strictly smaller than the rank of the third card?\n",
    "\n",
    "35. What is the probability of drawing an Ace then a $\\heartsuit$ and then the $3\\clubsuit$?\n",
    "\n",
    "36. A die is rolled, find the probability that an even number is obtained."
   ]
  },
  {
   "cell_type": "markdown",
   "id": "acd6ac31-8d2a-4059-a7ae-4e9ee1691f52",
   "metadata": {},
   "source": [
    "37. Two dice are rolled, find the probability that the sum is: \n",
    "    1. Equal to 1 \n",
    "    2. Equal to 4 \n",
    "    3. Less than 13"
   ]
  },
  {
   "cell_type": "markdown",
   "id": "44961a22-35ba-46f3-87b9-083e5a4ec76b",
   "metadata": {},
   "source": [
    "38. A card is drawn at random from a deck of cards. Find the probability of getting the $3\\diamondsuit$.\n",
    "\n",
    "39. A die is rolled and a coin is tossed, find the probability that the die shows an odd number and the coin shows a head.\n",
    "\n",
    "40. A jar contains 3 red marbles, 7 green marbles and 10 white marbles. If two marbles are drawn from the jar at random, what is the probability that one marble is white and one is red?\n",
    "\n",
    "41. A die is rolled.  What is the probability that the number is even or less than 4?\n",
    "\n",
    "42. You roll two 6-sided dice. What is the probability that the sum of the two dice is 10? \n",
    "\n",
    "43. Thee eleven tile letters PENULTIMATE are in a bag. Find the probability that, if 8 letters are drawn at random and laid down in order, the word ``ultimate'' is spelled?\n",
    "\n",
    "44. A fair spinner has four equally divided color sections (blue, red, green, and yellow). What is the probability that the spinner will land on green?\n",
    "\n",
    "45. An urn contains 5 red, 3 green, and 4 yellow marbles. A marble is randomly chosen from the urn. The marble is replaced in the urn, and a second marble is chosen. What is the probability of choosing a red and then a purple marble?\n",
    "\n",
    "46. A class has 4 boys and 12 girls. They are randomly divided into 4 groups of 4. What is the probability that each group has 1 boy?\n"
   ]
  },
  {
   "cell_type": "markdown",
   "id": "f5ec6690-bf18-4d5f-abda-dcc9b9b927b6",
   "metadata": {},
   "source": [
    "47. In Franklin College, 40\\% of the freshmen are enrolled in a mathematics course, and 75\\% are enrolled in an English course, and 20\\% are taking both.\n",
    "    1. What is the probability that a randomly selected freshman is taking an English course if it is known that he or she is enrolled in a mathematics course?\n",
    "    2. If a randomly selected freshman is taking an English course, what is the probability that he or she is also enrolled in a mathematics course?\n",
    "    3. Are the two events to be enrolled in an English course, and to be enrolled in a mathematics course independent events for freshman?"
   ]
  },
  {
   "cell_type": "markdown",
   "id": "7bbba2d9-74c9-489d-8ac2-72b203b1563e",
   "metadata": {},
   "source": [
    "48. You roll a standard 6-sided die and draw a letter from a bag containing the 26 tiles, each with a different letter of our standard English alphabet on it. What are your chances of picking:\n",
    "    1. a $2$ and an $M$? \n",
    "    2. an even number and a consonant (not counting ``Y'')?"
   ]
  },
  {
   "cell_type": "markdown",
   "id": "7c097fae-6789-4b7e-bbd2-e715b614a48e",
   "metadata": {},
   "source": [
    "49. A new health restaurant is being opened that randomly chooses 9 healthy items of food from 10 different vegetables and 15 different fruits to make a smoothie out of. What is the probability that at least 6 of the healthy food items are vegetables?\n",
    "\n",
    "50. What is the probability of rolling 2 dice and drawing a card from a deck without aces or face cards and getting the same number?\n",
    "\n",
    "51. A class of 20 boys and 10 girls has 15 Math majors and 15 Physics students. What is the probability of picking a student who is both a boy and a physics major? A physics major and a girl? A girl and a physics major?\n",
    "\n",
    "52. Two students from Class A transferred into Class B. Before the transfer, Class A had 15 Math Students, 4 Physics Students and 1 Chemistry major  Class B had 20 Physics students, and 5 Math students. What is the probability of finding a math major in class B after the transfer? Chemistry? Physics?\n",
    "\n",
    "53. A teacher keeps a jar full of different flavored jelly beans on her desk and hands them out randomly to her class. But one particularly picky student likes only the licorice-flavored ones. If the jar has 50 beans in all 15 licorice, 10 cherry, 20 watermelon, and 5 blueberry. What is the probability that the first three jelly beans picked out are licorice flavored?\n",
    "\n",
    "54. If a five-letter word is formed at random (meaning that all sequences of five letters are equally likely), what is the probability that no letter occurs more than once?\n",
    "\n",
    "55. In a game of poker, what is the probability that a 5-card hand will contain a 4-of-a-kind?\n",
    "\n",
    "56. Suppose a pair of dice are thrown, and then thrown again. What is the probability that the sum appearing on the second throw is the same as the first?\n",
    "\n",
    "57. The letters of the word ABACUS are to be rearranged at random. What is the probability that that the vowels all appear together?\n",
    "\n",
    "58. Suppose we know there are three tails and two heads, what is the probability that the order was exactly HTHTT?\n",
    "\n",
    "59. The letters of the word MEDITERRANEAN are to be rearranged at random. Find the probability that first letter is E and the last letter is R."
   ]
  },
  {
   "cell_type": "markdown",
   "id": "d92f8d46-de6c-4ab3-86df-d0081a1ce87f",
   "metadata": {},
   "source": [
    "60. There are three urns with marbles in them. In the first urn there are 4 red marbles, 3 green marbles, and one pink ball. In the second urn there are 7 orange marbles, 3 blue marbles and 2 pink marbles. In the third urn there are 4 green marbles, 4 red marbles, 3 brown marbles, and 2 pink marbles. What is the probability of getting exactly two pink marbles if you pick two marbles out of each urn?"
   ]
  },
  {
   "cell_type": "markdown",
   "id": "2cc5ca19-248d-4390-bd8a-5b1bfd257a1f",
   "metadata": {},
   "source": [
    "```{list-table}\n",
    ":header-rows: 1\n",
    "\n",
    "* - Urn\n",
    "  - Red\n",
    "  - Green\n",
    "  - Brown\n",
    "  - Pink\n",
    "* - 1\n",
    "  - 4\n",
    "  - 3\n",
    "  - 0\n",
    "  - 1\n",
    "* - 2\n",
    "  - 7\n",
    "  - 3\n",
    "  - 0\n",
    "  - 2\n",
    "* - 3\n",
    "  - 4\n",
    "  - 3\n",
    "  - 3\n",
    "  - 2\n",
    "```"
   ]
  },
  {
   "cell_type": "markdown",
   "id": "b4d9e7e3-6041-4ba0-9574-a16dc59ad617",
   "metadata": {},
   "source": [
    "61. In a bag there is a tile with every letter of the alphabet in it, with two of each vowel (including Y), and 5 B tiles and 4 S tiles. If picking 11 tiles at random what is the probability of pulling out the tiles in the order to spell PROBABILITY?\n",
    "\n",
    "62. You're playing five card stud poker. You're starting hand is 2$\\heartsuit$, 4$\\spadesuit$, 6$\\diamondsuit$, J$\\heartsuit$, and K$\\heartsuit$. When it is time to discard, you are in a dilemma. Either discard the 4S and the 6$\\diamondsuit$ and try for a flush in $\\heartsuit$'s, or discard the J$\\heartsuit$ and the K$\\heartsuit$ in hopes of getting a 6-high straight. Which has the higher probability?\n",
    "\n",
    "63. In a game of Yahtzee you are allowed to role 5 dice the first role, and however many you want for the second and third roles. You need a yahtzee (all 5 die read the same number). If you role every dice for all three roles what are the chances of getting yahtzee? \n",
    "\n",
    "64. Two couples and one single person are seated at random in a row of five chairs. What is the probability that neither of the couples sits together in adjacent chairs?\n",
    "\n",
    "65. What is the probability a license plate with 3 letters and 4 digits has the word dog in it?\n",
    "\n",
    "66. What is the probability that a license plate 3 letters and 4 digits has an L as the last letter and a 5 as the first number?"
   ]
  },
  {
   "cell_type": "markdown",
   "id": "0e9b9f80-f2cc-4b98-9eb4-ac24e55b74f2",
   "metadata": {},
   "source": [
    "67. Ishmael writes a computer program that produces at random one of these digits: ${0,1,2,3,4,5,6,7,8,9}$. What is the probability that the program produces:\n",
    "    1. an even number\n",
    "    2. a multiple of 4\n",
    "    3. a number less than 7\n",
    "    4. a multiple of 5"
   ]
  },
  {
   "cell_type": "markdown",
   "id": "99783ce9-cbbe-4525-a96f-dc8d0260f3ed",
   "metadata": {},
   "source": [
    "68. In Hannah's purse there are three 1p coins, five 10p coins and eight 2p coins. She takes a coin at random from her purse.  What is the probability of:\n",
    "    1. a 1p coin\n",
    "    2. a 2p coin\n",
    "    3. not a 1p coin\n",
    "    4. a 1p coin or 10p coin"
   ]
  },
  {
   "cell_type": "markdown",
   "id": "84fc02a9-fa46-44c5-8196-a500374a5fb9",
   "metadata": {},
   "source": [
    "69. Some of the children in a class write down the first letter of their surname on a card. These cards are shown below: One of these cards is taken at random. What is the probability that the letter on it is:\n",
    "    1. W\n",
    "    2. S or T\n",
    "    3. J or M\n",
    "    4. not H\n",
    "    5. a vowel\n",
    "    6. Which letter is the most likely to be chosen?"
   ]
  },
  {
   "cell_type": "markdown",
   "id": "d1fb7f77-6f00-476d-9250-de2b8c56bc20",
   "metadata": {},
   "source": [
    "70. A die is rolled and a coin is tossed, find the probability that the die shows an odd number and the coin shows a head."
   ]
  },
  {
   "cell_type": "markdown",
   "id": "1ee4c218-3fae-40e0-88bf-7b4728281f5f",
   "metadata": {},
   "source": [
    "71. At the Tire Store a problem has occurred unbeknownst to the managers: 10\\% of all the tires currently in stock in their warehouse are defective. Mr. Z purchase 4 tires each for two vehicles and they are randomly selected from the stock. Find the probability that:\n",
    "    1. all 8 tires will be defective?\n",
    "    2. none of the tires will be defective?\n",
    "    3. at least one of the tires will be defective?\n",
    "    4. 3 or more of the tires will be defective?"
   ]
  },
  {
   "cell_type": "markdown",
   "id": "c8d53709-7e4d-451f-90c5-d53378e255c0",
   "metadata": {},
   "source": [
    "72. What is the probability that you will have a license plate with the letters KC and the last number be 4, if there are two letters and four numbers on each license plate?\n"
   ]
  },
  {
   "cell_type": "markdown",
   "id": "9b3be6e6-da90-484a-8836-cde41e30102c",
   "metadata": {},
   "source": [
    "73. A spinner is divided into five equal sections numbered 1 through 5. The arrow is equally likely to land on any section. Find the probability of: \n",
    "    1. an odd number on any one spin.\n",
    "    2. at least three odd numbers on four spins.\n",
    "    3. at least two odd numbers on four spins.\n",
    "    4. at least one odd number on four spins."
   ]
  },
  {
   "cell_type": "markdown",
   "id": "a0e277df-ee49-4ec2-ba1a-09477d2c69d6",
   "metadata": {},
   "source": [
    "75. Sara is rolling a die, what the probability that she rolls a 3 on the 4th roll?\n",
    "\n",
    "76. Steph is a North Georgia basketball player and a 75\\% free throw shooter. During the season, find the probability that:\n",
    "    1. She makes her third shot on her fifth attempt.\n",
    "    2. She makes at least 8 of her first 10 attempts.\n",
    "    3. She makes 7 shots before missing her second.\n",
    "\n",
    "77. A multiple choice test contains 10 questions. Each question has five choices for the correct answer. Only one of the choices is correct. \n",
    "    1. What is the probability of making exactly 80\\% with random guessing?\n",
    "    2. What is the probability of passing, e.g. making at least 60\\% with random guessing?\n",
    "\n",
    "78. Two girls and their dates go to the drive-in, and each wants a different flavored ice cream cone. The drive-in has 24 flavors of ice cream. How many combinations of flavors may be chosen among the four of them if each one selects one flavor?\n",
    "\n",
    "79. We want to paint three rooms in a house, each a different color, and we may choose from seven different colors of paint. How many color combinations are possible for the three rooms?"
   ]
  }
 ],
 "metadata": {
  "kernelspec": {
   "display_name": "Python 3 (ipykernel)",
   "language": "python",
   "name": "python3"
  },
  "language_info": {
   "codemirror_mode": {
    "name": "ipython",
    "version": 3
   },
   "file_extension": ".py",
   "mimetype": "text/x-python",
   "name": "python",
   "nbconvert_exporter": "python",
   "pygments_lexer": "ipython3",
   "version": "3.13.1"
  }
 },
 "nbformat": 4,
 "nbformat_minor": 5
}