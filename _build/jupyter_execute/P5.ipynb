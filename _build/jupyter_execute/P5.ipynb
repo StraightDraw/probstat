{
 "cells": [
  {
   "cell_type": "markdown",
   "id": "9363832b-e106-4aea-8208-f9c55d59ee8e",
   "metadata": {
    "tags": []
   },
   "source": [
    "# Conditional Probability"
   ]
  },
  {
   "cell_type": "markdown",
   "id": "2e1948fe-5045-43ff-8b3f-806ab16c3050",
   "metadata": {},
   "source": [
    "The probability of $A$ occurring given that event $B$ has *already occurred* is the **conditional probability** of $A$ given $B$:"
   ]
  },
  {
   "cell_type": "markdown",
   "id": "2d27db17-ff85-4e57-9d79-8db91e011ca2",
   "metadata": {},
   "source": [
    "$$P(A|B)=\\frac{P(A\\cap B)}{P(B)}$$"
   ]
  },
  {
   "cell_type": "markdown",
   "id": "6d7c1b3a-8016-4fe5-92b3-c7272417f67c",
   "metadata": {},
   "source": [
    "In many conditional probability situations, we can solve for the required probability by restricting the probability space."
   ]
  },
  {
   "cell_type": "markdown",
   "id": "0d283fbb-439b-45df-96bf-f4b3b8799a3f",
   "metadata": {},
   "source": [
    "```{admonition} Example\n",
    ":class: tip\n",
    "A card is drawn at random from a standard deck of playing cards.What is the probability of drawing a heart ($H$) given that a red card ($R$) is drawn?\n",
    "```"
   ]
  },
  {
   "cell_type": "markdown",
   "id": "93069fec-5151-4af1-bf56-307fa991b8f0",
   "metadata": {},
   "source": [
    "**Solution.** Half of the red cards are hearts. "
   ]
  },
  {
   "cell_type": "markdown",
   "id": "80d85df7-3a2c-4d05-b3db-9dc1d878de74",
   "metadata": {},
   "source": [
    "$$P(H|R)=\\frac{1}{2}$$"
   ]
  },
  {
   "cell_type": "markdown",
   "id": "e5c4d0f2-a191-4ec7-9adb-3c7fb7eccccb",
   "metadata": {},
   "source": [
    "We often can simply work with a new probability space - the red cards - rather than employing the formula. Yet, the formula works, too."
   ]
  },
  {
   "cell_type": "markdown",
   "id": "7b6600fe-2019-4bbc-b049-02e8956e5a09",
   "metadata": {},
   "source": [
    "$$P(R) = \\frac{1}{2}$$"
   ]
  },
  {
   "cell_type": "markdown",
   "id": "8741b2b2-57ce-4c65-9f1e-d9a32539ed37",
   "metadata": {},
   "source": [
    "$$\\hspace{1cm}P(H\\cap R) = \\frac{1}{4}\\hspace{5mm}\\implies$$"
   ]
  },
  {
   "cell_type": "markdown",
   "id": "6d6ee4ab-3a20-441a-8cb3-24a1a82d1927",
   "metadata": {},
   "source": [
    "$$P(H | R) =\\frac{P(H\\cap R)}{P(R)}= \\frac{\\frac{1}{4}}{\\frac{1}{2}}=\\frac{1}{4}\\cdot \\frac{2}{1}=\\frac{1}{2}$$"
   ]
  },
  {
   "cell_type": "markdown",
   "id": "e13d2695-6ac8-4275-9004-207d08069093",
   "metadata": {},
   "source": [
    "We use  conditional probability to define independent probability events. The idea? If events $A$ and $B$ are independent, then $B$ happening - or not - should not affect the likelihood of $A$ happening."
   ]
  },
  {
   "cell_type": "markdown",
   "id": "5afbbf0b-441a-4133-abc9-63a5d1fc5661",
   "metadata": {},
   "source": [
    "1. **Defintion.** Let the event sets $A$ and $B$ be subsets of a probability space $S$. Events $A$ and $B$ are said to be **independent** provided:"
   ]
  },
  {
   "cell_type": "markdown",
   "id": "e561e797-43f0-41ae-82d5-17c4aaf02aff",
   "metadata": {},
   "source": [
    "$$P(A)=P(A|B)$$"
   ]
  },
  {
   "cell_type": "markdown",
   "id": "b2b4c2c8-0a47-4220-bb62-70dfc01862fc",
   "metadata": {},
   "source": [
    "This implies that $P(B)=P(B|A)$. To see that $P(A)=P(A|B)\\iff P(B)=P(B|A)$:"
   ]
  },
  {
   "cell_type": "markdown",
   "id": "43ef82b6-8e65-403a-91ad-5d54d6d9a132",
   "metadata": {},
   "source": [
    "$$P(A|B) = P(A)\\hspace{5mm}\\iff$$"
   ]
  },
  {
   "cell_type": "markdown",
   "id": "575a0e1c-8fd8-4df6-b1a7-1d8a5385742d",
   "metadata": {},
   "source": [
    "$$P(A)P(B) = P(A\\cap B)\\hspace{5mm}\\iff$$"
   ]
  },
  {
   "cell_type": "markdown",
   "id": "27f35a77-cef4-4b13-8701-cd3942831f87",
   "metadata": {},
   "source": [
    "$$P(B|A) = P(B)$$"
   ]
  },
  {
   "cell_type": "markdown",
   "id": "65279a67-2a7f-4832-ad52-ca795675eac6",
   "metadata": {},
   "source": [
    "```{admonition} Example\n",
    ":class: tip\n",
    "Is drawing a face card ($F$) is independent of drawing a red card ($R$)?\n",
    "```"
   ]
  },
  {
   "cell_type": "markdown",
   "id": "e371afa9-ff87-4824-ab29-a6c59a01c502",
   "metadata": {},
   "source": [
    "**Solution.** There are 12 face cards. Half the deck and half the face cards are red cards."
   ]
  },
  {
   "cell_type": "markdown",
   "id": "ef4e55bd-f9af-4562-9e4e-0d95c4831aef",
   "metadata": {},
   "source": [
    "$$P(F) = \\frac{12}{52}=\\frac{3}{13}$$"
   ]
  },
  {
   "cell_type": "markdown",
   "id": "036208bf-3986-4c2c-9db3-c3f5562dde8c",
   "metadata": {},
   "source": [
    "$$P(R) = \\frac{1}{2}$$"
   ]
  },
  {
   "cell_type": "markdown",
   "id": "785f6904-59fb-479e-a7b7-27f8650b2bf7",
   "metadata": {},
   "source": [
    "$$P(F\\cap R) = \\frac{6}{52}=\\frac{3}{26}\\hspace{5mm}\\implies$$"
   ]
  },
  {
   "cell_type": "markdown",
   "id": "4f66cd74-da3c-42cf-a9a7-dad7075d2895",
   "metadata": {},
   "source": [
    "$$P(F|R) = \\frac{P(F\\cap R)}{P(R)} = \\frac{\\frac{3}{26}}{\\frac{1}{2}}=\\frac{3}{26}\\cdot\\frac{2}{1}=\\frac{6}{26}=\\frac{3}{13}$$"
   ]
  },
  {
   "cell_type": "markdown",
   "id": "db2ebe66-2cf5-4979-9e50-50b0579162fb",
   "metadata": {},
   "source": [
    "Since $P(F|R)=\\frac{3}{13}=P(F)$, the events are independent."
   ]
  },
  {
   "cell_type": "markdown",
   "id": "3f80a557-a79c-4523-853e-ce8354f17055",
   "metadata": {},
   "source": [
    "```{admonition} Example\n",
    ":class: tip\n",
    "At Riverside High School, the probability that a student takes Computer Programming and Spanish is 0.15. The probability that a student takes Computer Programming is 0.4. What is the probability that a student takes Spanish ($S$) given that the student is taking Computer Programming ($C$)?\n",
    "```"
   ]
  },
  {
   "cell_type": "markdown",
   "id": "1e7671f3-0608-44c1-9662-4e2c791d54ac",
   "metadata": {},
   "source": [
    "**Solution.** Note that $P(S\\cap C)= 0.15$ and $P(C) = 0.4$."
   ]
  },
  {
   "cell_type": "markdown",
   "id": "dc05b688-a314-4200-aa4d-55f320d5d0c1",
   "metadata": {},
   "source": [
    "$$P(S|C)=\\frac{0.15}{0.4} = \\frac{15}{40}=\\frac{3}{10}$$"
   ]
  },
  {
   "cell_type": "markdown",
   "id": "dcdef29c-ccf2-451d-962a-50912d127b4c",
   "metadata": {},
   "source": [
    "The next example focuses on visualizing the relationship of the event sets when probabilities are independent."
   ]
  },
  {
   "cell_type": "markdown",
   "id": "936d8a6e-9865-4c9a-b120-b9a06b8fe689",
   "metadata": {},
   "source": [
    "```{figure} /images/ProbFig8.png\n",
    "---\n",
    "height: 275px\n",
    "name: condprob\n",
    "---\n",
    "Conditional Probability Visualization\n",
    "```"
   ]
  },
  {
   "cell_type": "markdown",
   "id": "5abec97c-4f4e-4859-a75f-f17b500da62c",
   "metadata": {},
   "source": [
    "```{admonition} Example\n",
    ":class: tip\n",
    "The events sets $R,B,G$ are shown above as subsets of a probability space represented by a $10\\times 10$ grid. Determine if any of the event sets are independent given that $P(G)=\\frac{2}{5}$, $P(B)=\\frac{1}{5}$, and $P(R)=\\frac{3}{25}$.\n",
    "```"
   ]
  },
  {
   "cell_type": "markdown",
   "id": "d14f1456-7fe1-4e87-82f6-0ce2a1ef46e4",
   "metadata": {},
   "source": [
    "**Solution.** Visually, notice that $20\\%$ of the green squares are also blue and that $P(B)=20\\%$. It appears that $B$ and $G$ are independent. Checking the other relationship visually, note that 8 of the 20 blue squares are also green ($40\\%$), and that $P(G)=40\\%$."
   ]
  },
  {
   "cell_type": "markdown",
   "id": "02f7dabb-0fd2-490e-8f42-3d2af73132d0",
   "metadata": {},
   "source": [
    "We can also use the formulas."
   ]
  },
  {
   "cell_type": "markdown",
   "id": "ce8dd4ca-e3fc-4af3-b7f6-256385b9335d",
   "metadata": {},
   "source": [
    "$$P(B|G) = \\frac{P(B\\cap G)}{G}$$"
   ]
  },
  {
   "cell_type": "markdown",
   "id": "e0891714-1a06-408f-bee9-f907c7b7ab7a",
   "metadata": {},
   "source": [
    "$$= \\frac{\\frac{8}{100}}{\\frac{40}{100}}$$"
   ]
  },
  {
   "cell_type": "markdown",
   "id": "93ccc51d-360d-4f92-970f-320170ab4fc7",
   "metadata": {},
   "source": [
    "$$=\\frac{8}{40}$$"
   ]
  },
  {
   "cell_type": "markdown",
   "id": "767c7617-fb33-452b-9297-6c4458933064",
   "metadata": {},
   "source": [
    "$$=\\frac{1}{5}=P(B)$$"
   ]
  },
  {
   "cell_type": "markdown",
   "id": "9c998154-12ae-40f9-b5f5-e84006d63a24",
   "metadata": {},
   "source": [
    "The other two pairs of sets are not independent."
   ]
  },
  {
   "cell_type": "markdown",
   "id": "115f06cc-94e0-4e5a-ae5a-a6460efb2d68",
   "metadata": {},
   "source": [
    "$$P(G|R)=\\frac{5}{12}\\neq P(G)\\hspace{5mm}\\text{and}\\hspace{5mm}P(B|R)=\\frac{1}{50}\\neq P(R)$$"
   ]
  }
 ],
 "metadata": {
  "kernelspec": {
   "display_name": "Python 3 (ipykernel)",
   "language": "python",
   "name": "python3"
  },
  "language_info": {
   "codemirror_mode": {
    "name": "ipython",
    "version": 3
   },
   "file_extension": ".py",
   "mimetype": "text/x-python",
   "name": "python",
   "nbconvert_exporter": "python",
   "pygments_lexer": "ipython3",
   "version": "3.8.20"
  }
 },
 "nbformat": 4,
 "nbformat_minor": 5
}