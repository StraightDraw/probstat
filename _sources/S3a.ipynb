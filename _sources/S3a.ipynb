{
 "cells": [
  {
   "cell_type": "markdown",
   "id": "df0b69d4-c451-481a-ba8d-9b9bad09c3e7",
   "metadata": {},
   "source": [
    "# Calculations with the Normal Curve\n",
    "\n",
    "We some normal distributions for our examples. The following are some well-known distributions."
   ]
  },
  {
   "cell_type": "markdown",
   "id": "04196ebc-72cb-4771-ae8e-a958993f52b9",
   "metadata": {},
   "source": [
    "The SAT has the distribution:\n",
    "\n",
    "$$N(1000, 200)$$\n",
    "\n",
    "while the ACT has the distribution:\n",
    "\n",
    "$$N(21,5)$$\n",
    "\n",
    "The classic IQ distribution has the distribution:\n",
    "\n",
    "$$N(100,15)$$"
   ]
  },
  {
   "cell_type": "markdown",
   "id": "adcf4449-3f1d-40eb-98d4-d073cd70c1c5",
   "metadata": {},
   "source": [
    "## Percentiles\n",
    "\n",
    "For every z-score we calculate, we can determine the precise percentile. For example, the percentile corresponding to a $z$-score of $z=2$ is given by:"
   ]
  },
  {
   "cell_type": "code",
   "execution_count": 1,
   "id": "db652f77-b7c3-411f-a595-f0d62e8160e4",
   "metadata": {},
   "outputs": [
    {
     "data": {
      "text/html": [
       "0.977249868051821"
      ],
      "text/latex": [
       "0.977249868051821"
      ],
      "text/markdown": [
       "0.977249868051821"
      ],
      "text/plain": [
       "[1] 0.9772499"
      ]
     },
     "metadata": {},
     "output_type": "display_data"
    }
   ],
   "source": [
    "pnorm(2)"
   ]
  },
  {
   "cell_type": "markdown",
   "id": "3d6aefa6-adf0-4e9f-bb99-841d4536ba50",
   "metadata": {},
   "source": [
    "We can draw the bell curve and resulting standardized score as follows:"
   ]
  },
  {
   "cell_type": "code",
   "execution_count": 2,
   "id": "afdf82ba-cc55-4cbe-9800-0dd36398d270",
   "metadata": {},
   "outputs": [
    {
     "data": {
      "image/png": "[encoded data removed]",
      "text/plain": [
       "Plot with title \"Standard Normal Distribution with z = 2 in Red\""
      ]
     },
     "metadata": {},
     "output_type": "display_data"
    }
   ],
   "source": [
    "x <- seq(-3.2, 3.2, length.out = 100)  # Values along the x-axis.\n",
    "d <- dnorm(x)                          # Default mean is 0; default sd is 1\n",
    "plot(x,d, type = 'l',lwd = 3 , main='Standard Normal Distribution with z = 2 in Red', xlab = \"\",ylab=\"Density\")\n",
    "abline(v=2, lwd = 2, col=\"red\")"
   ]
  },
  {
   "cell_type": "markdown",
   "id": "c3c30d04-c9c6-40fa-8921-3c4c8eb21401",
   "metadata": {},
   "source": [
    "### Example 1\n",
    "\n",
    "Calculate the $z$-score and percentile for someone who scored a 1270 on the SAT. We use the function **pnorm()** on the $z$-score representative of a raw SAT score of 1270:"
   ]
  },
  {
   "cell_type": "code",
   "execution_count": 3,
   "id": "298e40cb-e745-49db-88dc-278cd5dbc30e",
   "metadata": {},
   "outputs": [
    {
     "data": {
      "text/html": [
       "0.911492008562598"
      ],
      "text/latex": [
       "0.911492008562598"
      ],
      "text/markdown": [
       "0.911492008562598"
      ],
      "text/plain": [
       "[1] 0.911492"
      ]
     },
     "metadata": {},
     "output_type": "display_data"
    }
   ],
   "source": [
    "pnorm((1270-1000)/200)"
   ]
  },
  {
   "cell_type": "code",
   "execution_count": 4,
   "id": "d924bd93-b8e0-4f1a-83fb-6b888c8d2d28",
   "metadata": {},
   "outputs": [
    {
     "data": {
      "text/html": [
       "0.088508"
      ],
      "text/latex": [
       "0.088508"
      ],
      "text/markdown": [
       "0.088508"
      ],
      "text/plain": [
       "[1] 0.088508"
      ]
     },
     "metadata": {},
     "output_type": "display_data"
    }
   ],
   "source": [
    "1-0.911492"
   ]
  },
  {
   "cell_type": "markdown",
   "id": "36f6edbd-4476-490c-9e8c-eb96d1814bb5",
   "metadata": {},
   "source": [
    "We can add graphics to display the situation. We draw a vertical line at the $z$-score, and shade in the tail. The percentile value is $0.911492$, so the shading is $1-0.911492 = 0.088508$ or about $8.85\\%$ of the area under the curve."
   ]
  },
  {
   "cell_type": "code",
   "execution_count": 5,
   "id": "cbdfc0b9-d496-46dc-b48b-d28ab3d51130",
   "metadata": {},
   "outputs": [
    {
     "data": {
      "image/png": "[encoded data removed]",
      "text/plain": [
       "Plot with title \"SAT Distribution Density with Upper 8.85% Shaded\""
      ]
     },
     "metadata": {},
     "output_type": "display_data"
    }
   ],
   "source": [
    "m = 1000   # Mean of SAT distribution\n",
    "s = 200    # Standard deviation of SAT distribution\n",
    "z = (1270 - 1000) / 200            # z-score\n",
    "x <- seq(m-4*s, m+4*s, by = 0.1)   # x-values for graphing\n",
    "\n",
    "# Calculate the probability density function\n",
    "y <- dnorm(x, mean = m, sd = s)\n",
    "# Plot the results\n",
    "plot(x, y, type = \"l\", lwd = 4, main = \"SAT Distribution Density with Upper 8.85% Shaded\", xlab = \"x\", ylab = \"Density\")\n",
    "# Shade the tail\n",
    "x2 <- seq(m+1.96*s, m+4*s, length.out = 50)\n",
    "y <- dnorm(x2, mean = m, sd = s)\n",
    "polygon(c(x2, m+1.96*s, m+1.96*s), c(y, 0, dnorm(m+1.96*s)), col = \"green\", border = NA)"
   ]
  },
  {
   "cell_type": "markdown",
   "id": "8df3f764-37bd-41ee-8c52-c8da6b40c55e",
   "metadata": {},
   "source": [
    "## Example 2\n",
    "\n",
    "Find the 95th percentile SAT score."
   ]
  },
  {
   "cell_type": "code",
   "execution_count": 6,
   "id": "c788a58b-3599-4e38-b2ac-e58c6b27ed58",
   "metadata": {},
   "outputs": [
    {
     "data": {
      "text/html": [
       "1.64485362695147"
      ],
      "text/latex": [
       "1.64485362695147"
      ],
      "text/markdown": [
       "1.64485362695147"
      ],
      "text/plain": [
       "[1] 1.644854"
      ]
     },
     "metadata": {},
     "output_type": "display_data"
    }
   ],
   "source": [
    "z = qnorm(0.95)\n",
    "z"
   ]
  },
  {
   "cell_type": "code",
   "execution_count": 7,
   "id": "279d629e-6a26-417a-90d6-10c616dde439",
   "metadata": {},
   "outputs": [
    {
     "data": {
      "text/html": [
       "1.64485362695147"
      ],
      "text/latex": [
       "1.64485362695147"
      ],
      "text/markdown": [
       "1.64485362695147"
      ],
      "text/plain": [
       "[1] 1.644854"
      ]
     },
     "metadata": {},
     "output_type": "display_data"
    }
   ],
   "source": [
    "z = qnorm(0.95)\n",
    "z"
   ]
  },
  {
   "cell_type": "code",
   "execution_count": 8,
   "id": "d5da8305-1d6d-4caf-9816-c26311d76fd0",
   "metadata": {},
   "outputs": [
    {
     "data": {
      "text/html": [
       "1328.97072539029"
      ],
      "text/latex": [
       "1328.97072539029"
      ],
      "text/markdown": [
       "1328.97072539029"
      ],
      "text/plain": [
       "[1] 1328.971"
      ]
     },
     "metadata": {},
     "output_type": "display_data"
    }
   ],
   "source": [
    "SAT = 1000 + 200 * z\n",
    "SAT"
   ]
  },
  {
   "cell_type": "markdown",
   "id": "26b6b3e7-a99d-42d4-a704-d38989c026a2",
   "metadata": {},
   "source": [
    "We can draw the bell curve indicated with the area under the curve highlighted:"
   ]
  },
  {
   "cell_type": "code",
   "execution_count": 15,
   "id": "cb26d9e4-e9fc-4eb7-81a3-79145eae44e6",
   "metadata": {},
   "outputs": [
    {
     "data": {
      "image/png": "[encoded data removed]",
      "text/plain": [
       "Plot with title \"Normal Distribution: SAT Scores\""
      ]
     },
     "metadata": {},
     "output_type": "display_data"
    }
   ],
   "source": [
    "# Generate a sequence of values for the t-distribution\n",
    "m = 1000   # mean\n",
    "s = 200    # standard deviation\n",
    "percent = 0.05\n",
    "z_left = qnorm(percent)\n",
    "z_right = qnorm(1-percent)\n",
    "x <- seq(-4, 4, length = 1000) * s + m\n",
    "\n",
    "# Calculate the probability density function\n",
    "y <- dnorm(x, m, s)\n",
    "\n",
    "# Plot the results\n",
    "plot(x,y, type = \"l\", lwd = 2, main = \"Normal Distribution: SAT Scores\",\n",
    "     xlab = \"Raw Scores\", ylab = \"Density\")\n",
    "# Left Tail\n",
    "# x1 <- seq(z_left, -4, length = 50) * s + m\n",
    "# y1 <- dnorm(x1, m, s)\n",
    "# polygon(c(x1, m+z_left*s, m+z_left*s), c(y1, 0, dnorm(z_left, m, s)), col = \"blue\", border = NA)\n",
    "\n",
    "# Right Tail\n",
    "x2 <- seq(z_right, 4, length = 50) * s + m\n",
    "y2 <- dnorm(x2, m, s)\n",
    "polygon(c(x2, m+z_right*s, m+z_right*s), c(y2, 0, dnorm(z_right, m, s)), col = \"green\", border = NA)"
   ]
  },
  {
   "cell_type": "markdown",
   "id": "83f970ad-567a-4c2a-b6a8-3ba42be074c7",
   "metadata": {},
   "source": [
    "## Example 3\n",
    "\n",
    "Sally earned a 31 on the ACT while Joanna earned a 1380 on the SAT. Who did better relative to the test she took?"
   ]
  },
  {
   "cell_type": "markdown",
   "id": "230f5c26-b83c-43aa-8a91-f8a1fa77e269",
   "metadata": {},
   "source": [
    "Let's calculate the $z$-score for Sally. Based upon that calculation, we will use the function **pnorm()** to determine the percentile."
   ]
  },
  {
   "cell_type": "code",
   "execution_count": 16,
   "id": "b901efcc-989b-4ee6-b5d4-0bac664ac920",
   "metadata": {},
   "outputs": [
    {
     "data": {
      "text/html": [
       "2"
      ],
      "text/latex": [
       "2"
      ],
      "text/markdown": [
       "2"
      ],
      "text/plain": [
       "[1] 2"
      ]
     },
     "metadata": {},
     "output_type": "display_data"
    },
    {
     "data": {
      "text/html": [
       "0.977249868051821"
      ],
      "text/latex": [
       "0.977249868051821"
      ],
      "text/markdown": [
       "0.977249868051821"
      ],
      "text/plain": [
       "[1] 0.9772499"
      ]
     },
     "metadata": {},
     "output_type": "display_data"
    }
   ],
   "source": [
    "zs = (31 - 21) / 5\n",
    "zs\n",
    "pnorm(zs)"
   ]
  },
  {
   "cell_type": "markdown",
   "id": "5445e245-b258-45e6-85e4-9a76ac71ad58",
   "metadata": {},
   "source": [
    "For Joanna, we have a similar calculation:"
   ]
  },
  {
   "cell_type": "code",
   "execution_count": 17,
   "id": "dd92c9a5-1fb2-4dd9-a4d9-d07a4f8d0637",
   "metadata": {},
   "outputs": [
    {
     "data": {
      "text/html": [
       "1.9"
      ],
      "text/latex": [
       "1.9"
      ],
      "text/markdown": [
       "1.9"
      ],
      "text/plain": [
       "[1] 1.9"
      ]
     },
     "metadata": {},
     "output_type": "display_data"
    },
    {
     "data": {
      "text/html": [
       "0.971283440183998"
      ],
      "text/latex": [
       "0.971283440183998"
      ],
      "text/markdown": [
       "0.971283440183998"
      ],
      "text/plain": [
       "[1] 0.9712834"
      ]
     },
     "metadata": {},
     "output_type": "display_data"
    }
   ],
   "source": [
    "zj = (1380 - 1000) / 200\n",
    "zj\n",
    "pnorm(zj)"
   ]
  },
  {
   "cell_type": "markdown",
   "id": "e388cabd-445c-4be7-afa4-cbb800b01fd8",
   "metadata": {},
   "source": [
    "We can see that, based upon $z$-scores, Sally's score is 2 standard deviations above the mean relative to the test she took. Joanna's is only 1.9 standard deviations above the average. However, inspecting the percentiles, we see a very small difference as both were very close to the 97th percentile. Still, Sally's score is a very slight bit better."
   ]
  },
  {
   "cell_type": "markdown",
   "id": "692d5eab-9704-4717-a6f1-0ee296829d9b",
   "metadata": {},
   "source": [
    "## Example 4\n",
    "\n",
    "What is the 80th percentile IQ score?"
   ]
  },
  {
   "cell_type": "markdown",
   "id": "38a0876e-cf53-4ea8-8afc-5cb6a8498943",
   "metadata": {},
   "source": [
    "We first use the **qnorm()** to retreive the $z$-score for this percentile. Following that, we emplement the $z$-score formula to find the actual IQ score correponding to it."
   ]
  },
  {
   "cell_type": "code",
   "execution_count": 18,
   "id": "53b9b59f-045d-4598-a567-742344d8deed",
   "metadata": {},
   "outputs": [
    {
     "data": {
      "text/html": [
       "0.841621233572914"
      ],
      "text/latex": [
       "0.841621233572914"
      ],
      "text/markdown": [
       "0.841621233572914"
      ],
      "text/plain": [
       "[1] 0.8416212"
      ]
     },
     "metadata": {},
     "output_type": "display_data"
    }
   ],
   "source": [
    "z8 = qnorm(0.8)\n",
    "z8"
   ]
  },
  {
   "cell_type": "code",
   "execution_count": 19,
   "id": "6e4164e7-202b-48cb-a71c-c5727dd97427",
   "metadata": {},
   "outputs": [
    {
     "data": {
      "text/html": [
       "112.6"
      ],
      "text/latex": [
       "112.6"
      ],
      "text/markdown": [
       "112.6"
      ],
      "text/plain": [
       "[1] 112.6"
      ]
     },
     "metadata": {},
     "output_type": "display_data"
    }
   ],
   "source": [
    "IQ = 100 + 15 * 0.84\n",
    "IQ"
   ]
  }
 ],
 "metadata": {
  "kernelspec": {
   "display_name": "R",
   "language": "R",
   "name": "ir"
  },
  "language_info": {
   "codemirror_mode": "r",
   "file_extension": ".r",
   "mimetype": "text/x-r-source",
   "name": "R",
   "pygments_lexer": "r",
   "version": "3.6.1"
  }
 },
 "nbformat": 4,
 "nbformat_minor": 5
}
