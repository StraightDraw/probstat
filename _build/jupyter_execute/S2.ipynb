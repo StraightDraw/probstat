{
 "cells": [
  {
   "cell_type": "markdown",
   "id": "50dabac9-2237-4045-9038-b24141d0d25b",
   "metadata": {},
   "source": [
    "# Sampling and Sampling Distributions"
   ]
  },
  {
   "cell_type": "markdown",
   "id": "7f5a1b4a-e7ab-4f99-a8c1-53925392dacf",
   "metadata": {},
   "source": [
    "A key connection between probability and statistics is the concept of **sampling distributions**."
   ]
  },
  {
   "cell_type": "markdown",
   "id": "89fcc0ba-cb34-4776-8ac9-5b942ee678de",
   "metadata": {},
   "source": [
    "## Sampling\n",
    "\n",
    "Before we dig into sampling distributions and statistical theory, we need to understand sampling. We have several pre-packaged commands in R that allow is to quickly generate sample data from a specific distribution. We can also sample rows from a dataframe. The pages in this section will demonstrate how to use these functions together with specific examples."
   ]
  },
  {
   "cell_type": "markdown",
   "id": "40869ae5-fed5-40ee-a2cd-c6f5bd04b29e",
   "metadata": {},
   "source": [
    "## Sampling Distributions\n",
    "\n",
    "**Definition.** For a fixed population and fixed sample size, the collection of all possible values of the mean over all possible samples of that size, forms what we call the **sampling distribution**.\n",
    "\n",
    "The statistical theory involved includes:\n",
    "\n",
    "- Central Limit Theorem (CLT)\n",
    "- Law of Large Numbers"
   ]
  },
  {
   "cell_type": "markdown",
   "id": "9fa6a1d8-56c9-486d-9ada-2024d38f03df",
   "metadata": {},
   "source": [
    "## Law of Large Numbers\n",
    "\n",
    "If $\\overline{X}_n$ is the average of $n$ many $x_i$ all drawn from the same population/distribution with mean $\\mu$ then as $n$ increases, $\\overline{X}_n$ will approach $\\mu$.  \n",
    "\n",
    "when our sample size is very large, you can have some confidence that the sample average is \"pretty close\" to the population average.\n",
    "\n",
    "\n",
    "## Central Limit Theorem\n",
    "\n",
    "Assume $\\overline{X}_n$ is the average of $n$ many $x_i$ all drawn from the same population/distribution with mean $\\mu$ and population standard deviation $\\sigma$.  Then $\\overline{X}_n$ is a member of a sampling distribution. For large values of $n$, this sampling distribution can be assumed approximately normal. Specifically, the sampling distribution can be assumed to be\n",
    "\n",
    "$$N\\left(\\mu, \\frac{\\sigma}{\\sqrt{n}} \\right)$$"
   ]
  },
  {
   "cell_type": "markdown",
   "id": "b042c7eb-6642-4349-8d1d-898a8041d96d",
   "metadata": {},
   "source": [
    "## Getting Started\n",
    "\n",
    "To prepare for the examples and demonstrations, we two things. First, we need data to work with. Second, we need our main sampling function: **sample.data.frame**.\n",
    "\n",
    "**Run the cell below to load 4 data sets.**"
   ]
  },
  {
   "cell_type": "code",
   "execution_count": 1,
   "id": "136b2323-d638-4474-abd2-f0e66293acb4",
   "metadata": {},
   "outputs": [],
   "source": [
    "united <- read.csv('http://faculty.ung.edu/rsinn/data/united.csv')\n",
    "p <- read.csv('http://faculty.ung.edu/rsinn/data/personality.csv')\n",
    "airports <- read.csv('http://faculty.ung.edu/rsinn/data/airports.csv')\n",
    "births <-  read.csv('http://faculty.ung.edu/rsinn/data/baby.csv')"
   ]
  },
  {
   "cell_type": "markdown",
   "id": "9476e8f4-ac83-4198-943e-b77fb894a4e1",
   "metadata": {},
   "source": [
    "Now that we have data sets to sample from, we will need the function that actually performs the sampling. Again, this code is adapted from the documentation of the classic *mosaic* package which is still available in R given that you have the correct versioning for R and all mosaic's required dependencies.\n",
    "\n",
    "**Run the cell below to activate the function:**\n",
    "\n",
    "<font color=\"green\"><center><b>sample.data.frame</b></center></font>"
   ]
  },
  {
   "cell_type": "code",
   "execution_count": 2,
   "id": "9e5ae86e-d4ee-433f-bef3-511284305887",
   "metadata": {},
   "outputs": [],
   "source": [
    "sample.data.frame <- function(x, size, replace = FALSE, prob = NULL, groups=NULL, \n",
    "                              orig.ids = TRUE, fixed = names(x), shuffled = c(),\n",
    "                              invisibly.return = NULL, ...) {\n",
    "  if( missing(size) ) size = nrow(x)\n",
    "  if( is.null(invisibly.return) ) invisibly.return = size>50 \n",
    "  shuffled <- intersect(shuffled, names(x))\n",
    "  fixed <- setdiff(intersect(fixed, names(x)), shuffled)\n",
    "  n <- nrow(x)\n",
    "  ids <- 1:n\n",
    "  groups <- eval( substitute(groups), x )\n",
    "  newids <- sample(n, size, replace=replace, prob=prob, ...)\n",
    "  origids <- ids[newids]\n",
    "  result <- x[newids, , drop=FALSE]\n",
    "  \n",
    "  idsString <- as.character(origids)\n",
    "  \n",
    "  for (column in shuffled) {\n",
    "    cids <- sample(newids, groups=groups[newids])\n",
    "    result[,column] <- x[cids,column]\n",
    "    idsString <- paste(idsString, \".\", cids, sep=\"\")\n",
    "  }\n",
    "  \n",
    "  result <-  result[ , union(fixed,shuffled), drop=FALSE]\n",
    "  if (orig.ids) result$orig.id <- idsString\n",
    "  \n",
    "  \n",
    "  if (invisibly.return) { return(invisible(result)) } else {return(result)}\n",
    "}"
   ]
  },
  {
   "cell_type": "markdown",
   "id": "241a7903-bbc8-48d6-bebf-149311d92643",
   "metadata": {},
   "source": [
    "## Example: Estimating Narcissism\n",
    "\n",
    "Let's work with an example from the **personality** data set: narcissism. Let's generate many, many samples of the same size. We'll find the averages from each sample and use them to estimate the average level of narcissism for students at UNG."
   ]
  },
  {
   "cell_type": "markdown",
   "id": "21e6c321-7c2e-4ce1-ba36-3ed4b5607ce8",
   "metadata": {},
   "source": [
    "### First Step: Generating Samples of Size $n=10$\n",
    "\n",
    "Let's beging with the R commands necessary to sample the **Narc** column in the *personality* data frame. We will use the\n",
    "\n",
    "<center><font color=\"red\"><b>sample.data.frame()</b></font></center>\n",
    "\n",
    "function to draw a sample.\n",
    "\n",
    "**Run the cell below to see how this works, and notice:**\n",
    "\n",
    "- The function inputs:\n",
    "1. Name of the data frame to sample from.\n",
    "2. Sample size to be drawn.\n",
    "- The output: 10 rows from the data frame with all columns present."
   ]
  },
  {
   "cell_type": "code",
   "execution_count": 3,
   "id": "f6ea5475-c7f1-492d-ab7b-3341c1563a96",
   "metadata": {},
   "outputs": [
    {
     "data": {
      "text/html": [
       "<table>\n",
       "<thead><tr><th></th><th scope=col>Age</th><th scope=col>Yr</th><th scope=col>Sex</th><th scope=col>G21</th><th scope=col>Corps</th><th scope=col>Res</th><th scope=col>Greek</th><th scope=col>VarsAth</th><th scope=col>Honor</th><th scope=col>GPA</th><th scope=col>...</th><th scope=col>Perf</th><th scope=col>OCD</th><th scope=col>Play</th><th scope=col>Extro</th><th scope=col>Narc</th><th scope=col>HSAF</th><th scope=col>HSSE</th><th scope=col>HSAG</th><th scope=col>HSSD</th><th scope=col>PHS</th></tr></thead>\n",
       "<tbody>\n",
       "\t<tr><th scope=row>54</th><td>22  </td><td>3   </td><td>M   </td><td>Y   </td><td>N   </td><td>1   </td><td>N   </td><td>N   </td><td>N   </td><td>3.26</td><td>... </td><td> 96 </td><td>13  </td><td>125 </td><td> 3  </td><td> 5  </td><td>44  </td><td>55  </td><td>22  </td><td>20  </td><td>SE  </td></tr>\n",
       "\t<tr><th scope=row>5</th><td>24  </td><td>3   </td><td>M   </td><td>Y   </td><td>N   </td><td>2   </td><td>N   </td><td>N   </td><td>N   </td><td>2.39</td><td>... </td><td> 95 </td><td> 5  </td><td>166 </td><td>14  </td><td>10  </td><td>56  </td><td>46  </td><td>27  </td><td>20  </td><td>AF  </td></tr>\n",
       "\t<tr><th scope=row>124</th><td>30  </td><td>3   </td><td>F   </td><td>Y   </td><td>N   </td><td>3   </td><td>N   </td><td>N   </td><td>N   </td><td>2.79</td><td>... </td><td>109 </td><td> 4  </td><td>143 </td><td>11  </td><td> 1  </td><td>44  </td><td>40  </td><td>25  </td><td>41  </td><td>SD  </td></tr>\n",
       "\t<tr><th scope=row>82</th><td>20  </td><td>2   </td><td>M   </td><td>N   </td><td>N   </td><td>1   </td><td>N   </td><td>Y   </td><td>N   </td><td>3.40</td><td>... </td><td>106 </td><td> 0  </td><td>146 </td><td>15  </td><td> 4  </td><td>46  </td><td>44  </td><td>40  </td><td>36  </td><td>AG  </td></tr>\n",
       "\t<tr><th scope=row>90</th><td>19  </td><td>1   </td><td>M   </td><td>N   </td><td>N   </td><td>1   </td><td>N   </td><td>N   </td><td>N   </td><td>2.80</td><td>... </td><td>123 </td><td> 9  </td><td>125 </td><td> 2  </td><td> 3  </td><td>37  </td><td>34  </td><td>29  </td><td>39  </td><td>SD  </td></tr>\n",
       "\t<tr><th scope=row>59</th><td>23  </td><td>1   </td><td>M   </td><td>Y   </td><td>N   </td><td>1   </td><td>N   </td><td>N   </td><td>N   </td><td>3.75</td><td>... </td><td>116 </td><td> 9  </td><td>166 </td><td> 1  </td><td> 5  </td><td>44  </td><td>24  </td><td>43  </td><td>40  </td><td>AG  </td></tr>\n",
       "\t<tr><th scope=row>97</th><td>20  </td><td>2   </td><td>M   </td><td>N   </td><td>Y   </td><td>1   </td><td>Y   </td><td>N   </td><td>N   </td><td>2.98</td><td>... </td><td>111 </td><td> 3  </td><td>111 </td><td> 4  </td><td> 3  </td><td>38  </td><td>42  </td><td>33  </td><td>37  </td><td>SD  </td></tr>\n",
       "\t<tr><th scope=row>128</th><td>19  </td><td>2   </td><td>F   </td><td>N   </td><td>N   </td><td>1   </td><td>N   </td><td>N   </td><td>Y   </td><td>4.00</td><td>... </td><td>136 </td><td>11  </td><td> 99 </td><td> 1  </td><td> 0  </td><td>37  </td><td>36  </td><td>25  </td><td>44  </td><td>SD  </td></tr>\n",
       "\t<tr><th scope=row>30</th><td>19  </td><td>2   </td><td>F   </td><td>N   </td><td>N   </td><td>3   </td><td>N   </td><td>N   </td><td>Y   </td><td>2.75</td><td>... </td><td>133 </td><td> 7  </td><td>135 </td><td>10  </td><td> 7  </td><td>40  </td><td>29  </td><td>24  </td><td>42  </td><td>SD  </td></tr>\n",
       "\t<tr><th scope=row>114</th><td>50  </td><td>4   </td><td>F   </td><td>Y   </td><td>N   </td><td>3   </td><td>N   </td><td>N   </td><td>N   </td><td>2.15</td><td>... </td><td>114 </td><td>11  </td><td>118 </td><td>13  </td><td> 1  </td><td>24  </td><td>34  </td><td>15  </td><td>20  </td><td>SE  </td></tr>\n",
       "</tbody>\n",
       "</table>\n"
      ],
      "text/latex": [
       "\\begin{tabular}{r|llllllllllllllllllllllllllllllllllll}\n",
       "  & Age & Yr & Sex & G21 & Corps & Res & Greek & VarsAth & Honor & GPA & ... & Perf & OCD & Play & Extro & Narc & HSAF & HSSE & HSAG & HSSD & PHS\\\\\n",
       "\\hline\n",
       "\t54 & 22   & 3    & M    & Y    & N    & 1    & N    & N    & N    & 3.26 & ...  &  96  & 13   & 125  &  3   &  5   & 44   & 55   & 22   & 20   & SE  \\\\\n",
       "\t5 & 24   & 3    & M    & Y    & N    & 2    & N    & N    & N    & 2.39 & ...  &  95  &  5   & 166  & 14   & 10   & 56   & 46   & 27   & 20   & AF  \\\\\n",
       "\t124 & 30   & 3    & F    & Y    & N    & 3    & N    & N    & N    & 2.79 & ...  & 109  &  4   & 143  & 11   &  1   & 44   & 40   & 25   & 41   & SD  \\\\\n",
       "\t82 & 20   & 2    & M    & N    & N    & 1    & N    & Y    & N    & 3.40 & ...  & 106  &  0   & 146  & 15   &  4   & 46   & 44   & 40   & 36   & AG  \\\\\n",
       "\t90 & 19   & 1    & M    & N    & N    & 1    & N    & N    & N    & 2.80 & ...  & 123  &  9   & 125  &  2   &  3   & 37   & 34   & 29   & 39   & SD  \\\\\n",
       "\t59 & 23   & 1    & M    & Y    & N    & 1    & N    & N    & N    & 3.75 & ...  & 116  &  9   & 166  &  1   &  5   & 44   & 24   & 43   & 40   & AG  \\\\\n",
       "\t97 & 20   & 2    & M    & N    & Y    & 1    & Y    & N    & N    & 2.98 & ...  & 111  &  3   & 111  &  4   &  3   & 38   & 42   & 33   & 37   & SD  \\\\\n",
       "\t128 & 19   & 2    & F    & N    & N    & 1    & N    & N    & Y    & 4.00 & ...  & 136  & 11   &  99  &  1   &  0   & 37   & 36   & 25   & 44   & SD  \\\\\n",
       "\t30 & 19   & 2    & F    & N    & N    & 3    & N    & N    & Y    & 2.75 & ...  & 133  &  7   & 135  & 10   &  7   & 40   & 29   & 24   & 42   & SD  \\\\\n",
       "\t114 & 50   & 4    & F    & Y    & N    & 3    & N    & N    & N    & 2.15 & ...  & 114  & 11   & 118  & 13   &  1   & 24   & 34   & 15   & 20   & SE  \\\\\n",
       "\\end{tabular}\n"
      ],
      "text/markdown": [
       "\n",
       "| <!--/--> | Age | Yr | Sex | G21 | Corps | Res | Greek | VarsAth | Honor | GPA | ... | Perf | OCD | Play | Extro | Narc | HSAF | HSSE | HSAG | HSSD | PHS |\n",
       "|---|---|---|---|---|---|---|---|---|---|---|---|---|---|---|---|---|---|---|---|---|---|\n",
       "| 54 | 22   | 3    | M    | Y    | N    | 1    | N    | N    | N    | 3.26 | ...  |  96  | 13   | 125  |  3   |  5   | 44   | 55   | 22   | 20   | SE   |\n",
       "| 5 | 24   | 3    | M    | Y    | N    | 2    | N    | N    | N    | 2.39 | ...  |  95  |  5   | 166  | 14   | 10   | 56   | 46   | 27   | 20   | AF   |\n",
       "| 124 | 30   | 3    | F    | Y    | N    | 3    | N    | N    | N    | 2.79 | ...  | 109  |  4   | 143  | 11   |  1   | 44   | 40   | 25   | 41   | SD   |\n",
       "| 82 | 20   | 2    | M    | N    | N    | 1    | N    | Y    | N    | 3.40 | ...  | 106  |  0   | 146  | 15   |  4   | 46   | 44   | 40   | 36   | AG   |\n",
       "| 90 | 19   | 1    | M    | N    | N    | 1    | N    | N    | N    | 2.80 | ...  | 123  |  9   | 125  |  2   |  3   | 37   | 34   | 29   | 39   | SD   |\n",
       "| 59 | 23   | 1    | M    | Y    | N    | 1    | N    | N    | N    | 3.75 | ...  | 116  |  9   | 166  |  1   |  5   | 44   | 24   | 43   | 40   | AG   |\n",
       "| 97 | 20   | 2    | M    | N    | Y    | 1    | Y    | N    | N    | 2.98 | ...  | 111  |  3   | 111  |  4   |  3   | 38   | 42   | 33   | 37   | SD   |\n",
       "| 128 | 19   | 2    | F    | N    | N    | 1    | N    | N    | Y    | 4.00 | ...  | 136  | 11   |  99  |  1   |  0   | 37   | 36   | 25   | 44   | SD   |\n",
       "| 30 | 19   | 2    | F    | N    | N    | 3    | N    | N    | Y    | 2.75 | ...  | 133  |  7   | 135  | 10   |  7   | 40   | 29   | 24   | 42   | SD   |\n",
       "| 114 | 50   | 4    | F    | Y    | N    | 3    | N    | N    | N    | 2.15 | ...  | 114  | 11   | 118  | 13   |  1   | 24   | 34   | 15   | 20   | SE   |\n",
       "\n"
      ],
      "text/plain": [
       "    Age Yr Sex G21 Corps Res Greek VarsAth Honor GPA  ... Perf OCD Play Extro\n",
       "54  22  3  M   Y   N     1   N     N       N     3.26 ...  96  13  125   3   \n",
       "5   24  3  M   Y   N     2   N     N       N     2.39 ...  95   5  166  14   \n",
       "124 30  3  F   Y   N     3   N     N       N     2.79 ... 109   4  143  11   \n",
       "82  20  2  M   N   N     1   N     Y       N     3.40 ... 106   0  146  15   \n",
       "90  19  1  M   N   N     1   N     N       N     2.80 ... 123   9  125   2   \n",
       "59  23  1  M   Y   N     1   N     N       N     3.75 ... 116   9  166   1   \n",
       "97  20  2  M   N   Y     1   Y     N       N     2.98 ... 111   3  111   4   \n",
       "128 19  2  F   N   N     1   N     N       Y     4.00 ... 136  11   99   1   \n",
       "30  19  2  F   N   N     3   N     N       Y     2.75 ... 133   7  135  10   \n",
       "114 50  4  F   Y   N     3   N     N       N     2.15 ... 114  11  118  13   \n",
       "    Narc HSAF HSSE HSAG HSSD PHS\n",
       "54   5   44   55   22   20   SE \n",
       "5   10   56   46   27   20   AF \n",
       "124  1   44   40   25   41   SD \n",
       "82   4   46   44   40   36   AG \n",
       "90   3   37   34   29   39   SD \n",
       "59   5   44   24   43   40   AG \n",
       "97   3   38   42   33   37   SD \n",
       "128  0   37   36   25   44   SD \n",
       "30   7   40   29   24   42   SD \n",
       "114  1   24   34   15   20   SE "
      ]
     },
     "metadata": {},
     "output_type": "display_data"
    }
   ],
   "source": [
    "s <- sample.data.frame(p, 10, orig.ids = FALSE)\n",
    "head(s,15)"
   ]
  },
  {
   "cell_type": "markdown",
   "id": "418f1a42-7b5a-40a8-b278-0263d2e91b85",
   "metadata": {},
   "source": [
    "We can find the average narcissism for these 10 persons by subsetting our sample data frame **s**."
   ]
  },
  {
   "cell_type": "code",
   "execution_count": 4,
   "id": "62276d46-9625-4a70-9ef4-3a3a3b1f3551",
   "metadata": {},
   "outputs": [
    {
     "data": {
      "text/html": [
       "3.9"
      ],
      "text/latex": [
       "3.9"
      ],
      "text/markdown": [
       "3.9"
      ],
      "text/plain": [
       "[1] 3.9"
      ]
     },
     "metadata": {},
     "output_type": "display_data"
    }
   ],
   "source": [
    "mean(s[ , 'Narc'])"
   ]
  },
  {
   "cell_type": "markdown",
   "id": "d3bb2fd7-fcad-48f5-bf19-d68aed0f0c30",
   "metadata": {},
   "source": [
    "**Putting it Together.** Eventually, we want to run a loop that does this a thousand or more times. Thus, we prefer a single line of code that will do it for us all at once. We wrap the *sample.data.frame()* function inside the *mean* function as shown below.\n",
    "\n",
    "**Run the code below multiple times to see how we're sampling plus finding the average Narcissism level for each.**"
   ]
  },
  {
   "cell_type": "code",
   "execution_count": 5,
   "id": "06f44b14-66e8-43f4-a52b-dceaa47c758c",
   "metadata": {},
   "outputs": [
    {
     "data": {
      "text/html": [
       "5.1"
      ],
      "text/latex": [
       "5.1"
      ],
      "text/markdown": [
       "5.1"
      ],
      "text/plain": [
       "[1] 5.1"
      ]
     },
     "metadata": {},
     "output_type": "display_data"
    }
   ],
   "source": [
    "mean(sample.data.frame(p, 10, orig.ids = F)[ , 'Narc'])"
   ]
  },
  {
   "cell_type": "markdown",
   "id": "c7c5fbf7-cc9c-4b05-b8b9-48cf242ff374",
   "metadata": {},
   "source": [
    "### Step 2: Creating a for Loop\n",
    "\n",
    "The steps make sense if we consider them separately:\n",
    "\n",
    "1. Create **all_means**, an initially empty vector where we plan to store our sample means.\n",
    "2. Create a for loop that will a thousand times.\n",
    "3. Inside the loop, we will:\n",
    "  - Gather a sample of size $n=10$.\n",
    "  - Calcuate the mean.\n",
    "  - Add this value to the **all_means** vector."
   ]
  },
  {
   "cell_type": "code",
   "execution_count": 6,
   "id": "ca630e08-a7b3-4182-a2dc-8720a2b830b0",
   "metadata": {},
   "outputs": [],
   "source": [
    "all_means <- c()                                         #Empty vector to store all the sample means\n",
    "for (count in 1:1000){\n",
    "    sample <- sample.data.frame(p, 10, orig.ids = F)     #Generate a sample (size n=10)\n",
    "    all_means[count] <- mean(sample[ , 'Narc'])          #Save the mean of this sample in my list\n",
    "}"
   ]
  },
  {
   "cell_type": "markdown",
   "id": "3582f976-8792-4560-9ce0-8e14412bddf8",
   "metadata": {},
   "source": [
    "Notice that we now have a vector **all_means**, so we display the distribution in a histogram and caculate various statistics."
   ]
  },
  {
   "cell_type": "code",
   "execution_count": 7,
   "id": "e837c8f4-2309-486e-8eac-19d4af325e7d",
   "metadata": {},
   "outputs": [
    {
     "data": {
      "text/plain": [
       "   Min. 1st Qu.  Median    Mean 3rd Qu.    Max. \n",
       "  1.800   4.100   4.600   4.665   5.200   7.300 "
      ]
     },
     "metadata": {},
     "output_type": "display_data"
    },
    {
     "data": {
      "image/png": "[encoded data removed]",
      "text/plain": [
       "Plot with title \"Histogram of all_means\""
      ]
     },
     "metadata": {},
     "output_type": "display_data"
    }
   ],
   "source": [
    "summary(all_means)\n",
    "hist(all_means)"
   ]
  },
  {
   "cell_type": "markdown",
   "id": "d2d182a7-f5e8-4837-ac63-4ee6ce4e5ced",
   "metadata": {},
   "source": [
    "### Step 3: The Middle 90% of the Distribution\n",
    "\n",
    "Because we intend to use the sampling distributions to estimate the population average, we need a way to gather an interval. This interval will be our estimated range of values. For the moment, let's use the **middle 90%** of the **all_means** vector. We will need the endpoints, e.g. the 5th and 95th percentiles from the vector."
   ]
  },
  {
   "cell_type": "code",
   "execution_count": 8,
   "id": "ff466cd7-7334-435f-a0ff-1d7fef3bd8a4",
   "metadata": {},
   "outputs": [
    {
     "name": "stdout",
     "output_type": "stream",
     "text": [
      "The middle 90% of the all_means vector is ( 3.3 , 5.905 )."
     ]
    }
   ],
   "source": [
    "lower <- quantile(all_means, prob = 0.05)     # Calcuate the 5th percentile.\n",
    "upper <- quantile(all_means, prob = 0.95)     # Calcuate the 95th percentile.\n",
    "cat('The middle 90% of the all_means vector is (',lower,',',upper,').')"
   ]
  },
  {
   "cell_type": "markdown",
   "id": "570ab20e-5b55-4390-a6df-6dccf3b91ffc",
   "metadata": {},
   "source": [
    "### Step 4: The Histogram with Vertical Lines Showing the 5th and 95th Percentiles\n",
    "\n",
    "We use the function **abline()** to superimpose vertical lines onto our histogram. We've already calculated the values for the 5th and 95th percentiles. We need only to use the option **v** which draws a *vertical line* at the value indicated. The color option is not vital for our purposes, but a splash of color is visually appealing.\n",
    "\n",
    "As we go forward, we will see that increased sample size will lead to a narrower bell-shape. In other words, the size of the standard deviation will become important, so let's include that in the text we print out using the **cat()** function."
   ]
  },
  {
   "cell_type": "code",
   "execution_count": 9,
   "id": "83255cd8-249a-415a-b2c3-598566cfe75f",
   "metadata": {},
   "outputs": [
    {
     "name": "stdout",
     "output_type": "stream",
     "text": [
      "Standard deviation of sampling distribution: 0.8138563 \n",
      "The middle 90% of the sampling distribution: is ( 3.3 , 5.905 )."
     ]
    },
    {
     "data": {
      "image/png": "[encoded data removed]",
      "text/plain": [
       "Plot with title \"Histogram of all_means\""
      ]
     },
     "metadata": {},
     "output_type": "display_data"
    }
   ],
   "source": [
    "cat(\"Standard deviation of sampling distribution:\", sd(all_means), '\\nThe middle 90% of the sampling distribution: is (',lower,',',upper,').')\n",
    "hist(all_means)\n",
    "abline( v = lower, col=\"blue\")\n",
    "abline(v = upper, col=\"blue\")"
   ]
  },
  {
   "cell_type": "markdown",
   "id": "a771faf3-c496-4d19-9807-73baee3e9016",
   "metadata": {},
   "source": [
    "### Step 5: Performing all Tasks in 1 Code Block\n",
    "\n",
    "Now that we have unpacked each command line needed, we can put it all together into one code block. Doing so will help to quickly generate different sampling distributions for different sample sizes **n**."
   ]
  },
  {
   "cell_type": "code",
   "execution_count": 10,
   "id": "255652dd-808e-403d-ac3c-ba2e508fc87e",
   "metadata": {},
   "outputs": [
    {
     "name": "stdout",
     "output_type": "stream",
     "text": [
      "Standard deviation of sampling distribution: 0.8264799 \n",
      "The middle 90% of sampling distribution: ( 3.4 , 6.1 )."
     ]
    },
    {
     "data": {
      "image/png": "[encoded data removed]",
      "text/plain": [
       "Plot with title \"Histogram of all_means\""
      ]
     },
     "metadata": {},
     "output_type": "display_data"
    }
   ],
   "source": [
    "reps = 1000          # Number of repetitions of FOR loop\n",
    "samp_size = 10       # Sample size to be drawn\n",
    "all_means <- c()     # Empty vector to store all the sample means\n",
    "\n",
    "for (count in 1:reps){\n",
    "    sample <- sample.data.frame(p, 10, orig.ids = F)\n",
    "    all_means[count] <- mean(sample[ , 'Narc'])\n",
    "}\n",
    "\n",
    "upper <- quantile(all_means, prob = 0.95)\n",
    "lower <- quantile(all_means, prob = 0.05)\n",
    "cat(\"Standard deviation of sampling distribution:\", sd(all_means), '\\nThe middle 90% of sampling distribution: (',lower,',',upper,').')\n",
    "hist(all_means)\n",
    "abline( v = lower, col=\"blue\")\n",
    "abline(v = upper, col=\"blue\")"
   ]
  },
  {
   "cell_type": "code",
   "execution_count": null,
   "id": "17183987-a6ee-4a09-9d28-6c7ad5cd0fb7",
   "metadata": {},
   "outputs": [],
   "source": []
  }
 ],
 "metadata": {
  "kernelspec": {
   "display_name": "R",
   "language": "R",
   "name": "ir"
  },
  "language_info": {
   "codemirror_mode": "r",
   "file_extension": ".r",
   "mimetype": "text/x-r-source",
   "name": "R",
   "pygments_lexer": "r",
   "version": "3.6.1"
  }
 },
 "nbformat": 4,
 "nbformat_minor": 5
}