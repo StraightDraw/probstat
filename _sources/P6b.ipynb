{
 "cells": [
  {
   "cell_type": "markdown",
   "id": "8a1a5bc9-6337-48a2-ba67-20458dd0296f",
   "metadata": {},
   "source": [
    "# Worked Examples\n",
    "\n",
    "With discrete probability functions, we have two main tasks:\n",
    "\n",
    "1. Solve for and find a closed form equation for the probability density function (pdf).\n",
    "2. Use pdf in probability problem-solving.\n",
    "\n",
    "We will need our combinations and permutations formulae:"
   ]
  },
  {
   "cell_type": "code",
   "execution_count": 3,
   "id": "e0a7e450-6757-406d-a578-11fa6fc38025",
   "metadata": {},
   "outputs": [],
   "source": [
    "combin <- function(n, k) {\n",
    "    return(factorial(n) / ( factorial(k)*factorial(n-k) )) }\n",
    "perm <- function(n, k) {\n",
    "    return(combin(n,k) * factorial(k))}"
   ]
  },
  {
   "cell_type": "markdown",
   "id": "365c86ee-f752-4bb5-b633-3cee0b3d89c7",
   "metadata": {},
   "source": [
    "Let's do some mixed practice."
   ]
  },
  {
   "cell_type": "markdown",
   "id": "a6834a9a-09e1-4490-a623-be3e38e0183e",
   "metadata": {},
   "source": [
    "## Example 1: Pocket Pairs in Texas Holdem\n",
    "\n",
    "In Texas Holdem, players are dealt 2 cards face down to begin. When those 2 cards have the same value as in JJ, the player is said to have a **pocket pair.** What is the probability that Hero sitting in at a new poker table sees his first pocket pair on the fifth hand dealt to him?"
   ]
  },
  {
   "cell_type": "markdown",
   "id": "96fdf159-1bc7-42b1-8bff-f2106dfea378",
   "metadata": {},
   "source": [
    "### Solution\n",
    "\n",
    "#### Probability of Single Event\n",
    "\n",
    "We first need to determine the probability of success. What is the probability of being dealt a pocket pair on any one hand? Let $\\textbf{pp}$ be the event of drawing a pocket pair, and we have the following:\n",
    "\n",
    "$$P(\\textbf{pp}) = \\frac{\\binom{13}{1}\\binom{4}{2}}{\\binom{52}{2}}=\\frac{1}{17}$$"
   ]
  },
  {
   "cell_type": "code",
   "execution_count": 6,
   "id": "b46ef4df-2556-491f-84e7-5527e25b7a79",
   "metadata": {},
   "outputs": [
    {
     "data": {
      "text/html": [
       "0.0588235294117632"
      ],
      "text/latex": [
       "0.0588235294117632"
      ],
      "text/markdown": [
       "0.0588235294117632"
      ],
      "text/plain": [
       "[1] 0.05882353"
      ]
     },
     "metadata": {},
     "output_type": "display_data"
    }
   ],
   "source": [
    "combin(13,1) * combin(4,2) / combin(52,2)"
   ]
  },
  {
   "cell_type": "markdown",
   "id": "af1f887f-2e12-413f-ab64-e4d669fd5987",
   "metadata": {},
   "source": [
    "We show some simplifications in the screen shot below after noting that:\n",
    "- $\\binom{13}{1}=13$\n",
    "- $\\binom{4}{2}=6$\n",
    "- $\\binom{52}{2}=1326$\n",
    "\n",
    "The screenshot below indicates how, with a standard TI graphing calculator, we can reduce a rather complicated fraction to lowest terms."
   ]
  },
  {
   "cell_type": "markdown",
   "id": "b99c607a-5304-4cbc-badb-5fb7f4b66598",
   "metadata": {},
   "source": [
    "```{figure} /images/Ti7.png\n",
    "---\n",
    "height: 150px\n",
    "name: pp probability\n",
    "---\n",
    "Simplifying the Fraction\n",
    "```"
   ]
  },
  {
   "cell_type": "markdown",
   "id": "6638ac39-890a-4864-a43d-d543b842955c",
   "metadata": {},
   "source": [
    "#### Probability Density Function\n",
    "\n",
    "The probability of drawing a pocket pair on the 1st, 2nd, 3rd, or 4th hand is show below. Since $\\frac{16}{17}$ is probability of **not** succeeding, a string of fractions will describe what's happening:\n",
    "1. Probability of $\\textbf{pp}$ on **1st** hand: $\\frac{1}{17}$\n",
    "2. Probability of $\\textbf{pp}$ on **2nd** hand: $\\left(\\frac{16}{17}\\right)\\left(\\frac{1}{17}\\right)$\n",
    "3. Probability of $\\textbf{pp}$ on **3rd** hand: $\\left(\\frac{16}{17}\\right)\\left(\\frac{16}{17}\\right)\\left(\\frac{1}{17}\\right)$\n",
    "4. Probability of $\\textbf{pp}$ on **4th** hand: $\\left(\\frac{16}{17}\\right)\\left(\\frac{16}{17}\\right)\\left(\\frac{16}{17}\\right)\\left(\\frac{1}{17}\\right)$"
   ]
  },
  {
   "cell_type": "markdown",
   "id": "96330c89-9b93-4e5e-841c-cb0c0d6b076c",
   "metadata": {},
   "source": [
    "Identifying the pattern of $n-1$ failures followed by a success, we see that probability of $\\textbf{pp}$ on **nth** hand is given by:\n",
    "\n",
    "$$P(\\text{nth hand success}) = \\left(\\frac{16}{17}\\right)^{n-1}\\left(\\frac{1}{17}\\right) \\hspace{3mm}\\text{ where }n\\in \\{1,2,3,\\cdots\\}$$\n",
    "\n",
    "This is a **geometric** probability distribution."
   ]
  },
  {
   "cell_type": "markdown",
   "id": "7b0ad1c1-fd03-465d-8aea-3b90c7fd554a",
   "metadata": {},
   "source": [
    "#### Solutions\n",
    "\n",
    "1. What is the probability that Hero sees his first pocket pair on the fifth hand dealt?\n",
    "\n",
    "$$P(\\text{success: }n=5) = \\left(\\frac{16}{17}\\right)^{4}\\left(\\frac{1}{17}\\right)=\\frac{16^4}{17^5}\\approx 0.046157$$"
   ]
  },
  {
   "cell_type": "code",
   "execution_count": 7,
   "id": "a764131c-ca24-466d-a2e6-b45c956f6865",
   "metadata": {},
   "outputs": [
    {
     "data": {
      "text/html": [
       "0.0461567608569032"
      ],
      "text/latex": [
       "0.0461567608569032"
      ],
      "text/markdown": [
       "0.0461567608569032"
      ],
      "text/plain": [
       "[1] 0.04615676"
      ]
     },
     "metadata": {},
     "output_type": "display_data"
    }
   ],
   "source": [
    "16^4 / 17^5"
   ]
  },
  {
   "cell_type": "markdown",
   "id": "f1b162e0-4d17-44f2-9f69-be057492f42c",
   "metadata": {},
   "source": [
    "2. What is the probability that Hero sees his first pocket pair on the tenth hand dealt?\n",
    "\n",
    "$$P(\\text{success: }n=10) = \\left(\\frac{16}{17}\\right)^{9}\\left(\\frac{1}{17}\\right)=\\frac{16^9}{17^{10}}\\approx 0.034087$$"
   ]
  },
  {
   "cell_type": "code",
   "execution_count": 8,
   "id": "cc8e060d-4c70-497e-996b-0828a760b95e",
   "metadata": {},
   "outputs": [
    {
     "data": {
      "text/html": [
       "0.0340871451648216"
      ],
      "text/latex": [
       "0.0340871451648216"
      ],
      "text/markdown": [
       "0.0340871451648216"
      ],
      "text/plain": [
       "[1] 0.03408715"
      ]
     },
     "metadata": {},
     "output_type": "display_data"
    }
   ],
   "source": [
    "16^9 / 17^10"
   ]
  },
  {
   "cell_type": "markdown",
   "id": "d423e994-4eec-4caf-b992-4086dcff79d6",
   "metadata": {},
   "source": [
    "## Example 2: Oil Wells\n",
    "\n",
    "An energy company has leased an undeveloped oil field where they estimate a 35\\% chance of success for drilled wells striking oil. They have enough funds to drill 7 oil wells, but to turn a profit they need at least 3 of those wells to strike oil. What is the probability that their 3rd success occurs on their 7th drilled well?\n",
    "\n",
    "### Patterns\n",
    "\n",
    "Consider if the company had its 3rd success on its 5th drilled well. Note that the **last** well drilled must be success, so some of the possible patterns are as follows:\n",
    "- S S F F S\n",
    "- S F S F S\n",
    "- F S S F S\n",
    "- F S F S S\n",
    "- S F F S S"
   ]
  },
  {
   "cell_type": "markdown",
   "id": "d6ce07f4-e4f8-408a-a78d-03dd8e584eff",
   "metadata": {},
   "source": [
    "So, in the first 4 slots, we must choose 2 slots to be successes while the others are failures. The last slot is fixed as a success. Let $X$ represent the set of numbers for the last wells drilled. So, $X = \\{3,4,5,6,7\\}$ Hence, the probability for the fifth-well success would be:\n",
    "\n",
    "$$P(x=5) = \\binom{4}{2}(0.35)^2(0.65)^2(0.35)$$"
   ]
  },
  {
   "cell_type": "markdown",
   "id": "2eb2ca6e-eb44-4c72-82a1-6ffe630929c3",
   "metadata": {},
   "source": [
    "In the above probability calculation, the last factor of $(0.35)$ is isolated to show that the last well drilled is a succes. We can combine this as follows:\n",
    "$$P(x=5) = \\binom{4}{2}(0.35)^3(0.65)^2\n",
    "$$"
   ]
  },
  {
   "cell_type": "markdown",
   "id": "45505123-9143-4ded-a3c3-2850c323d1d8",
   "metadata": {},
   "source": [
    "Analyzing the succees-fail patterns for $x=6$, we find that:\n",
    "\n",
    "\n",
    "$$P(x=6) = \\binom{5}{2}(0.35)^3(0.65)^3$$"
   ]
  },
  {
   "cell_type": "markdown",
   "id": "f77213f6-9337-4f67-9b3a-6ee975198c70",
   "metadata": {},
   "source": [
    "Thus, the probability that $x\\in X$, the last well drilled, achieves overall success is as follows:\n",
    "\n",
    "$$P(X=x) = \\binom{x-1}{2}(0.35)^3(0.65)^{x-3}$$\n",
    "\n",
    "This is the **negative binomial** distribution. To see that this is the correct expression for the closed form version of the this pdf:"
   ]
  },
  {
   "cell_type": "markdown",
   "id": "1e0b9972-a889-490e-a45e-e8a46b1a5b9c",
   "metadata": {},
   "source": [
    "1. When $x=3$, we have three successess immediately. This means we will have $\\binom{2}{2}=1$ to arrange the first 2 successes into the first 2 slots. There are 3 successes in all cases, so we have $(0.35)^3$. The exponent for the last factor is $0$ because no failures occured.\n",
    "2. When $x=4$, we use the reasoning explained above.\n",
    "3. The pattern holds if we understand what each factor in the probability indicates."
   ]
  },
  {
   "cell_type": "markdown",
   "id": "3ff9384d-dbfc-47ba-8b2a-bcbfca1a2b94",
   "metadata": {},
   "source": [
    "### Solutions\n",
    "\n",
    "1. Find the probability the oil company hits 4 successful wells on the 6th well dug. For $k=4$ successes, we have:\n",
    "\n",
    "$$P(X = 6, k=4) = \\binom{5}{3}(0.35)^4(0.65)^2$$"
   ]
  },
  {
   "cell_type": "code",
   "execution_count": 11,
   "id": "a6a8a816-639b-4bc5-9ce0-487d6ce18adf",
   "metadata": {},
   "outputs": [
    {
     "data": {
      "text/html": [
       "0.06340140625"
      ],
      "text/latex": [
       "0.06340140625"
      ],
      "text/markdown": [
       "0.06340140625"
      ],
      "text/plain": [
       "[1] 0.06340141"
      ]
     },
     "metadata": {},
     "output_type": "display_data"
    }
   ],
   "source": [
    "combin(5,3) * 0.35^4 * 0.65^2"
   ]
  },
  {
   "cell_type": "markdown",
   "id": "5d61b21e-6a3d-4862-9596-f338fb868be1",
   "metadata": {},
   "source": [
    "2. Find the probability the oil company hits 4 successful wells on the 5th well dug.\n",
    "\n",
    "$$P(X = 5, k=4) = \\binom{4}{3}(0.35)^4(0.65)$$"
   ]
  },
  {
   "cell_type": "code",
   "execution_count": 12,
   "id": "aaa1e314-f362-4162-b928-402fe068ce63",
   "metadata": {},
   "outputs": [
    {
     "data": {
      "text/html": [
       "0.03901625"
      ],
      "text/latex": [
       "0.03901625"
      ],
      "text/markdown": [
       "0.03901625"
      ],
      "text/plain": [
       "[1] 0.03901625"
      ]
     },
     "metadata": {},
     "output_type": "display_data"
    }
   ],
   "source": [
    "combin(4,3) * 0.35^4 * 0.65"
   ]
  },
  {
   "cell_type": "markdown",
   "id": "749b147e-f8ee-4185-abc3-3cf2c5e179ef",
   "metadata": {},
   "source": [
    "## Example 3: Card Game Spades\n",
    "\n",
    "Cards from the spade suit are valuable in the card game Spades. When played with 4 players, the entire deck is dealt out so that each player receives 13 cards. What is the probability that a player is dealt 7 or more spades?\n",
    "\n",
    "### The Pattern\n",
    "\n",
    "This is very similar to questions we solved using partitions. Let $X$ be the set outcomes specifying the number of spades in our hand, e.g. $X=\\{1,2,3,\\cdots,13\\}$. The we have the probability of exacctly 4 spades:\n",
    "\n",
    "$$P(X = 4) = \\frac{\\binom{13}{4}\\binom{39}{9}}{\\binom{52}{13}}$$"
   ]
  },
  {
   "cell_type": "markdown",
   "id": "6bf6b264-3d56-4318-9c01-f5e88da9c2ad",
   "metadata": {},
   "source": [
    "We draw 4 cards from within the spades suit partition which has 13 cards, and 9 cards from the remaining 39 cards in the deck."
   ]
  },
  {
   "cell_type": "markdown",
   "id": "f1cb503a-d893-4d31-a9b9-681a5623af08",
   "metadata": {},
   "source": [
    "### The pdf\n",
    "\n",
    "$$P(X = x) = \\frac{\\binom{13}{x}\\binom{39}{13-x}}{\\binom{52}{13}}$$"
   ]
  },
  {
   "cell_type": "markdown",
   "id": "d7e11247-d711-45c3-b60b-e43b0c8b10fd",
   "metadata": {},
   "source": [
    "### Solutions\n",
    "\n",
    "1. Find the probability of being dealt a spades hand with 7 spades.\n",
    "\n",
    "$$P(X = 7) = \\frac{\\binom{13}{7}\\binom{39}{6}}{\\binom{52}{13}}$$"
   ]
  },
  {
   "cell_type": "code",
   "execution_count": 10,
   "id": "206d6b92-19fe-4330-9a22-5b4f49debbf5",
   "metadata": {},
   "outputs": [
    {
     "data": {
      "text/html": [
       "0.00881660081640865"
      ],
      "text/latex": [
       "0.00881660081640865"
      ],
      "text/markdown": [
       "0.00881660081640865"
      ],
      "text/plain": [
       "[1] 0.008816601"
      ]
     },
     "metadata": {},
     "output_type": "display_data"
    }
   ],
   "source": [
    "p = combin(13,7) * combin(39,6) / combin(52,13)\n",
    "p"
   ]
  },
  {
   "cell_type": "markdown",
   "id": "eddb8696-c51c-45c4-926c-8bd9322eea06",
   "metadata": {},
   "source": [
    "2. Find the probability of being dealt a spades hand with **6 or more spades**.\n",
    "\n",
    "$$P(6\\leq x\\leq 13) = \\sum_{k=6}^{13}\\frac{\\binom{13}{k}\\binom{39}{13-k}}{\\binom{52}{13}}$$\n",
    "\n",
    "For this summation, we need a FOR loop like we did in the binomial section:"
   ]
  },
  {
   "cell_type": "code",
   "execution_count": 2,
   "id": "2d313ae7-6c00-4700-b381-a050f00e596e",
   "metadata": {},
   "outputs": [
    {
     "ename": "ERROR",
     "evalue": "Error in combin(13, t): could not find function \"combin\"\n",
     "output_type": "error",
     "traceback": [
      "Error in combin(13, t): could not find function \"combin\"\nTraceback:\n"
     ]
    }
   ],
   "source": [
    "tab <- c()            ## Empty vector to store all the terms \n",
    "lo = 6                ## LEAST Number of successes\n",
    "hi = 13               ## MOST Number of successes\n",
    "k = 1                 ## Indexing variable for tab vector\n",
    "\n",
    "for (t in lo:hi){\n",
    "    tab[k] <- combin(13,t) * combin(39,13-t) / combin(52,13)      # Calculate the term and save in the vector \"tab\"\n",
    "    k <- k + 1\n",
    "}\n",
    "sum(tab)\n",
    "\n",
    "tab"
   ]
  },
  {
   "cell_type": "code",
   "execution_count": null,
   "id": "faa03e7c-ea12-4d42-b544-d3921dd6a383",
   "metadata": {},
   "outputs": [],
   "source": []
  },
  {
   "cell_type": "code",
   "execution_count": null,
   "id": "ad360836-c1d6-4516-b4cf-1c364467d000",
   "metadata": {},
   "outputs": [],
   "source": []
  }
 ],
 "metadata": {
  "kernelspec": {
   "display_name": "R",
   "language": "R",
   "name": "ir"
  },
  "language_info": {
   "codemirror_mode": "r",
   "file_extension": ".r",
   "mimetype": "text/x-r-source",
   "name": "R",
   "pygments_lexer": "r",
   "version": "3.6.1"
  }
 },
 "nbformat": 4,
 "nbformat_minor": 5
}
