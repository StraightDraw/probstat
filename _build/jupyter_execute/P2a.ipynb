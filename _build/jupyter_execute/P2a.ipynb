{
 "cells": [
  {
   "cell_type": "markdown",
   "id": "8ac21962-000e-49a4-9d9d-7a846a3055ee",
   "metadata": {},
   "source": [
    "# R Calculations and Factorials\n",
    "\n",
    "We often use R as a scientific calculator. When working in R, we often use the following functions.\n",
    "\n",
    "## Scientific Computing in R\n",
    "\n",
    "### Basic Arithmetic\n",
    "\n",
    "We add, subtract, multiply, divide and indicate powers in the typical way, exactly as on a TI-84 graphing calculator. Suppose we wish to evaluate:\n",
    "\n",
    "$$\\left( 3 - 2^3 + \\frac{12}{20} \\right) 2$$"
   ]
  },
  {
   "cell_type": "code",
   "execution_count": 1,
   "id": "9336f455-337c-4402-b1e3-18f56c381fce",
   "metadata": {},
   "outputs": [
    {
     "data": {
      "text/html": [
       "-8.8"
      ],
      "text/latex": [
       "-8.8"
      ],
      "text/markdown": [
       "-8.8"
      ],
      "text/plain": [
       "[1] -8.8"
      ]
     },
     "metadata": {},
     "output_type": "display_data"
    }
   ],
   "source": [
    "( 3 - 2^3 + 12 / 20 ) * 2"
   ]
  },
  {
   "cell_type": "markdown",
   "id": "c0d22f41-a051-4538-934e-da5811dc9a26",
   "metadata": {},
   "source": [
    "Note that all multiplications must be indicated by an * . R does not understand that a quantity outside the parenthesis indicates multiplication by the quanity inside."
   ]
  },
  {
   "cell_type": "markdown",
   "id": "37f6feee-ade9-4b33-8395-0cea389b7ee9",
   "metadata": {},
   "source": [
    "## Summations\n",
    "\n",
    "If we have vector $x$, we can sum all of its entries using **sum(x)**. We also have a cool way to sum consecutive integers as in the handshake problem where we needed to evaluate\n",
    "\n",
    "$$\\sum_{k=1}^9k=45$$"
   ]
  },
  {
   "cell_type": "code",
   "execution_count": 2,
   "id": "35f2a995-8d12-4bf7-9efe-618bdaf5f965",
   "metadata": {},
   "outputs": [
    {
     "data": {
      "text/html": [
       "45"
      ],
      "text/latex": [
       "45"
      ],
      "text/markdown": [
       "45"
      ],
      "text/plain": [
       "[1] 45"
      ]
     },
     "metadata": {},
     "output_type": "display_data"
    }
   ],
   "source": [
    "sum(1:9)"
   ]
  },
  {
   "cell_type": "markdown",
   "id": "06ff3260-e0d5-414b-882c-5c3fbac4c825",
   "metadata": {},
   "source": [
    "The colon between two numbers creates a vector of consecutive integers from the first number to the second, and we can quickly confirm the famous Gaussian problem:"
   ]
  },
  {
   "cell_type": "code",
   "execution_count": 3,
   "id": "992829df-e995-40c3-9531-ae74fb2bb8b2",
   "metadata": {},
   "outputs": [
    {
     "data": {
      "text/html": [
       "5050"
      ],
      "text/latex": [
       "5050"
      ],
      "text/markdown": [
       "5050"
      ],
      "text/plain": [
       "[1] 5050"
      ]
     },
     "metadata": {},
     "output_type": "display_data"
    }
   ],
   "source": [
    "sum(1:100)"
   ]
  },
  {
   "cell_type": "markdown",
   "id": "735aaea3-4169-4b80-a2ba-67e2abff5a88",
   "metadata": {},
   "source": [
    "## Trigonometry\n",
    "\n",
    "The evaluations are simple once we understand the following:\n",
    "- R expects the input angles to be measured in radians.\n",
    "- R understands the keyword **pi**.\n",
    "- R does not understand the notation $\\sin^2\\left(\\frac{\\pi}{4}\\right)$."
   ]
  },
  {
   "cell_type": "code",
   "execution_count": 4,
   "id": "00dd6cd2-38eb-4afd-905b-47c406130cbe",
   "metadata": {},
   "outputs": [
    {
     "data": {
      "text/html": [
       "0.707106781186547"
      ],
      "text/latex": [
       "0.707106781186547"
      ],
      "text/markdown": [
       "0.707106781186547"
      ],
      "text/plain": [
       "[1] 0.7071068"
      ]
     },
     "metadata": {},
     "output_type": "display_data"
    }
   ],
   "source": [
    "sin(pi/4)"
   ]
  },
  {
   "cell_type": "code",
   "execution_count": 5,
   "id": "38015880-bae0-4a1b-90d3-2f31a31fe26f",
   "metadata": {},
   "outputs": [
    {
     "data": {
      "text/html": [
       "0.5"
      ],
      "text/latex": [
       "0.5"
      ],
      "text/markdown": [
       "0.5"
      ],
      "text/plain": [
       "[1] 0.5"
      ]
     },
     "metadata": {},
     "output_type": "display_data"
    }
   ],
   "source": [
    "sin(pi/4)^2"
   ]
  },
  {
   "cell_type": "markdown",
   "id": "454ca40a-cb43-4193-8e85-1311c8214db0",
   "metadata": {},
   "source": [
    "We have confirmed that the trig functions work normally in R, and that\n",
    "\n",
    "$$\\begin{align}\\sin\\left(\\frac{\\pi}{4}\\right) =& \\frac{\\sqrt{2}}{2} \\implies \\\\ \\sin^2\\left(\\frac{\\pi}{4}\\right) =& \\left(\\frac{\\sqrt{2}}{2}\\right)^2 = \\frac{1}{2}\\end{align}$$"
   ]
  },
  {
   "cell_type": "markdown",
   "id": "4067530e-eeb1-4a75-82e7-947ef101cebe",
   "metadata": {},
   "source": [
    "## Factorials, Combinations and Permutations\n",
    "\n",
    "Counting problems in probability rely heavily upon combinations and permutations which, in turn, are built upon the factorial.\n",
    "\n",
    "### The Factorial() Function"
   ]
  },
  {
   "cell_type": "code",
   "execution_count": 6,
   "id": "611ddeb6-7bd0-4411-8b52-bdfe3264e667",
   "metadata": {},
   "outputs": [
    {
     "data": {
      "text/html": [
       "120"
      ],
      "text/latex": [
       "120"
      ],
      "text/markdown": [
       "120"
      ],
      "text/plain": [
       "[1] 120"
      ]
     },
     "metadata": {},
     "output_type": "display_data"
    }
   ],
   "source": [
    "factorial(5)"
   ]
  },
  {
   "cell_type": "markdown",
   "id": "58f651b1-97b2-4b43-bd3c-cdc900948b0a",
   "metadata": {},
   "source": [
    "### Permutations and Combinations\n",
    "\n",
    "Native R includes neither a permutations formula nor a formula for combinations. However, we can easily write formulas for both."
   ]
  },
  {
   "cell_type": "markdown",
   "id": "0293ac46-a3da-4e94-868e-9104ddee39a7",
   "metadata": {},
   "source": [
    "#### Combinations Formula\n",
    "\n",
    "Mathematically, when we say \"n choose r,\" we mean:\n",
    "\n",
    "$$\\binom{n}{r} = \\frac{n!}{r!(n-r)!}$$"
   ]
  },
  {
   "cell_type": "markdown",
   "id": "81fc284c-784a-44fc-befc-32e249e44f77",
   "metadata": {},
   "source": [
    "#### Example: $\\binom{7}{5}$\n",
    "\n",
    "We have the following calculation to evaluate:\n",
    "\n",
    "$$\\begin{align}\\binom{7}{5} &= \\frac{7!}{5!2!}\\\\&= \\frac{7*6*5*4*3*2*1}{(5*4*3*2*1)(2*1)}\\\\&=\\frac{7*6}{2}\\\\&= \\frac{42}{2}\\\\&= 21\\end{align}$$"
   ]
  },
  {
   "cell_type": "markdown",
   "id": "fbe72366-a3fa-499d-bd5d-8a977ab683f1",
   "metadata": {},
   "source": [
    "#### Writing a Combinations Function in R\n",
    "\n",
    "We have a **factorial** function in R, so creating a function that evaluates the top line of the equations above is reasonably straightforward:"
   ]
  },
  {
   "cell_type": "code",
   "execution_count": 7,
   "id": "6335fc72-9faa-44e2-9dd3-fc897b3b4613",
   "metadata": {},
   "outputs": [],
   "source": [
    "combin <- function(n, k) {\n",
    "    return(factorial(n) / ( factorial(k)*factorial(n-k) )) }"
   ]
  },
  {
   "cell_type": "markdown",
   "id": "135b5224-95fd-4f78-98c6-666112bca2ab",
   "metadata": {},
   "source": [
    "Testing the function with $\\binom{7}{5}=21$, we see:"
   ]
  },
  {
   "cell_type": "code",
   "execution_count": 8,
   "id": "e4953a25-1a1c-49ad-95d6-c8bf3b4fd67d",
   "metadata": {},
   "outputs": [
    {
     "data": {
      "text/html": [
       "21"
      ],
      "text/latex": [
       "21"
      ],
      "text/markdown": [
       "21"
      ],
      "text/plain": [
       "[1] 21"
      ]
     },
     "metadata": {},
     "output_type": "display_data"
    }
   ],
   "source": [
    "combin(7,5)"
   ]
  },
  {
   "cell_type": "markdown",
   "id": "42dee32f-bb8f-493d-ae00-cfb7f85a2f68",
   "metadata": {},
   "source": [
    "### Permutations\n",
    "\n",
    "Notice the following relationship between the two formulas:\n",
    "\n",
    "$$\\begin{align}\\text{Combinations: }\\binom{n}{r}&=\\frac{n!}{r!(n-r)!}\\\\\\text{Permutations: }P(n,r)&=\\frac{n!}{(n-r)!}\\end{align}$$\n",
    "\n",
    "Hence, we see that\n",
    "\n",
    "$$P(n,4) = \\frac{n!}{(n-r)!} = r!\\binom{n}{r}$$"
   ]
  },
  {
   "cell_type": "markdown",
   "id": "c38b805d-0625-4ead-a902-e7356a16c586",
   "metadata": {},
   "source": [
    "#### Writing a Permutations Function in R\n",
    "\n",
    "Using the function for combinations, the function for permutations is quite easy to write:"
   ]
  },
  {
   "cell_type": "code",
   "execution_count": 9,
   "id": "ec3a5673-c086-4711-970a-952b65aec2dc",
   "metadata": {},
   "outputs": [],
   "source": [
    "perm <- function(n, k) {\n",
    "    return(combin(n,k) * factorial(k))}"
   ]
  },
  {
   "cell_type": "markdown",
   "id": "7a82dfa2-3e04-47e4-a103-e806e916f5b8",
   "metadata": {},
   "source": [
    "#### Example: 7 Permute 5\n",
    "\n",
    "Algebraically, we calculate:\n",
    "\n",
    "$$P(7,5) = \\frac{7!}{(7-5)!} = \\frac{7*6*5*4*3*2*1}{2*1} = 7*6*5*4*3 = 2520$$"
   ]
  },
  {
   "cell_type": "code",
   "execution_count": 10,
   "id": "f4c49f1d-3f11-4628-bc67-1a2efcda4eb7",
   "metadata": {},
   "outputs": [
    {
     "data": {
      "text/html": [
       "2520"
      ],
      "text/latex": [
       "2520"
      ],
      "text/markdown": [
       "2520"
      ],
      "text/plain": [
       "[1] 2520"
      ]
     },
     "metadata": {},
     "output_type": "display_data"
    }
   ],
   "source": [
    "perm(7,5)"
   ]
  },
  {
   "cell_type": "markdown",
   "id": "bfba5d8d-9b0d-4b9b-8c4a-9dd6705cbc87",
   "metadata": {},
   "source": [
    "## Wrapping Up\n",
    "\n",
    "Please note that it will be useful to store these two functions where we can quickly copy-paste them into an R notebook for use doing classwork or homework."
   ]
  },
  {
   "cell_type": "code",
   "execution_count": 11,
   "id": "2e1d8a27-63c6-43d8-9810-9144a8937c5a",
   "metadata": {},
   "outputs": [],
   "source": [
    "combin <- function(n, k) {\n",
    "    return(factorial(n) / ( factorial(k)*factorial(n-k) )) }\n",
    "perm <- function(n, k) {\n",
    "    return(combin(n,k) * factorial(k))}"
   ]
  },
  {
   "cell_type": "code",
   "execution_count": null,
   "id": "151faf62-24d5-45a1-8b6b-744f12e5cd5d",
   "metadata": {},
   "outputs": [],
   "source": []
  }
 ],
 "metadata": {
  "kernelspec": {
   "display_name": "R",
   "language": "R",
   "name": "ir"
  },
  "language_info": {
   "codemirror_mode": "r",
   "file_extension": ".r",
   "mimetype": "text/x-r-source",
   "name": "R",
   "pygments_lexer": "r",
   "version": "3.6.1"
  }
 },
 "nbformat": 4,
 "nbformat_minor": 5
}