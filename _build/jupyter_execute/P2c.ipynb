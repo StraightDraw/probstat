{
 "cells": [
  {
   "cell_type": "markdown",
   "id": "01f459f4-ee20-48f7-956c-31938a0119a7",
   "metadata": {},
   "source": [
    "# Solutions to Exercises\n",
    "As we begin, we copy-paste our **combin()** and **perm** functions so that they will be active for use later."
   ]
  },
  {
   "cell_type": "code",
   "execution_count": 1,
   "id": "f71039ff-0b80-4b91-8dd8-a34db636a832",
   "metadata": {},
   "outputs": [],
   "source": [
    "combin <- function(n, k) {\n",
    "    return(factorial(n) / ( factorial(k)*factorial(n-k) )) }\n",
    "perm <- function(n, k) {\n",
    "    return(combin(n,k) * factorial(k))}"
   ]
  },
  {
   "cell_type": "markdown",
   "id": "d3b91c2f-aed7-473d-9af8-f1399f894960",
   "metadata": {},
   "source": [
    "<span style=\"color: red\">Note that video lesson for unit **P2** has solutions to many of the unsolved items below.</span>\n",
    "\n",
    "1. Professor Daniels has 7 books to place on a single shelf. How many different arrangements are possible?\n",
    "\n",
    "**Solution.** Assuming we are referring to orderings, there are $7! = 5040$ arrangements. We use the scientific computing capabilities of R or a graphing calculator to find:"
   ]
  },
  {
   "cell_type": "code",
   "execution_count": 2,
   "id": "ee1e19a0-f7dd-40be-9fb6-5b34f4f2f147",
   "metadata": {},
   "outputs": [
    {
     "data": {
      "text/html": [
       "5040"
      ],
      "text/latex": [
       "5040"
      ],
      "text/markdown": [
       "5040"
      ],
      "text/plain": [
       "[1] 5040"
      ]
     },
     "metadata": {},
     "output_type": "display_data"
    }
   ],
   "source": [
    "factorial(7)"
   ]
  },
  {
   "cell_type": "markdown",
   "id": "af193d73-7b12-442b-847e-3b298da38439",
   "metadata": {},
   "source": [
    "2. We do not know precisely how many seats there were at the Round Table as traditions differ. Supposing there were 24 seats at the table and that King Authur always sat in his radomnly assigned seat, in how many ways could King Arthur plus the 23 Knights of the Round Table be arranged?\n",
    "\n",
    "**Solution.** This is permutations on a ring with $n = 24$, so the solution is given by: \n",
    "\n",
    "$$\\begin{align}\\frac{24!}{24} &= 23!\\\\ &\\approx 3.58202\\times 10^{22}\\end{align}$$"
   ]
  },
  {
   "cell_type": "code",
   "execution_count": 3,
   "id": "fa537f0e-cab1-48cf-8078-e6d19fdb690d",
   "metadata": {},
   "outputs": [
    {
     "data": {
      "text/html": [
       "2.5852016738885e+22"
      ],
      "text/latex": [
       "2.5852016738885e+22"
      ],
      "text/markdown": [
       "2.5852016738885e+22"
      ],
      "text/plain": [
       "[1] 2.585202e+22"
      ]
     },
     "metadata": {},
     "output_type": "display_data"
    }
   ],
   "source": [
    "factorial(23)"
   ]
  },
  {
   "cell_type": "markdown",
   "id": "587ba762-933d-4d59-ba98-6d85559323c7",
   "metadata": {},
   "source": [
    "3. Poker Pro Daniel Negreanu is one of nine players being seated at random at the final table of a poker tournament. Another pro we will call Betty is often a problem for Negreanu, and two amateurs have had the amazing luck to battle their way through. Poker players do not like having a troublesome player to their left.\n",
    "  - What is the probability Betty is seated to Negreanu's left?\n",
    "  - What the probability that one of the amateurs is seated to Negreanu's left?"
   ]
  },
  {
   "cell_type": "markdown",
   "id": "09f3bbfe-a1bb-4b82-9738-7091282cd12e",
   "metadata": {},
   "source": [
    "4. Given that Georgia license plates are 3 letters followed 4 numbers, how many distinct GA license plates are possible?"
   ]
  },
  {
   "cell_type": "markdown",
   "id": "c8c5c7e2-a787-4792-86c6-41dca46428c3",
   "metadata": {},
   "source": [
    "**Solution.** We have 26 options for each of the first three symbols and 10 options for the last four **provided all digits and letters are allowed to repeat**."
   ]
  },
  {
   "cell_type": "code",
   "execution_count": 4,
   "id": "7d059b72-62a0-40b4-9dc2-12fed09a2b64",
   "metadata": {},
   "outputs": [
    {
     "data": {
      "text/html": [
       "175760000"
      ],
      "text/latex": [
       "175760000"
      ],
      "text/markdown": [
       "175760000"
      ],
      "text/plain": [
       "[1] 175760000"
      ]
     },
     "metadata": {},
     "output_type": "display_data"
    }
   ],
   "source": [
    "26^3*10^4"
   ]
  },
  {
   "cell_type": "markdown",
   "id": "5fe002fe-c1db-4a2f-a93e-f68313beaaa3",
   "metadata": {},
   "source": [
    "5. For a new lottery, the players picks 3 numbers between 11 and 55 and 3 numbers between 55 and 99. If no number can repeat, how many different picks are possible?\n",
    "6. Among the seven nominees for two vacancies on the city council are three men and four women. In how many ways may these vacancies be filled:\n",
    "    - with any two of the nominees? \n",
    "    - with any two of the women? \n",
    "    - with one of the men and one of the women?\n",
    "\n",
    "**Solution.** Since order does not matter, we use combinations."
   ]
  },
  {
   "cell_type": "code",
   "execution_count": 5,
   "id": "08ac29fa-8a04-40b9-b9f0-f67bd344af98",
   "metadata": {},
   "outputs": [
    {
     "data": {
      "text/html": [
       "21"
      ],
      "text/latex": [
       "21"
      ],
      "text/markdown": [
       "21"
      ],
      "text/plain": [
       "[1] 21"
      ]
     },
     "metadata": {},
     "output_type": "display_data"
    },
    {
     "data": {
      "text/html": [
       "6"
      ],
      "text/latex": [
       "6"
      ],
      "text/markdown": [
       "6"
      ],
      "text/plain": [
       "[1] 6"
      ]
     },
     "metadata": {},
     "output_type": "display_data"
    },
    {
     "data": {
      "text/html": [
       "12"
      ],
      "text/latex": [
       "12"
      ],
      "text/markdown": [
       "12"
      ],
      "text/plain": [
       "[1] 12"
      ]
     },
     "metadata": {},
     "output_type": "display_data"
    }
   ],
   "source": [
    "## Any 2\n",
    "combin(7,2)\n",
    "\n",
    "## Any 2 women\n",
    "combin(4,2)\n",
    "\n",
    "## 1 man and 1 woman\n",
    "combin(3,1) * combin(4,1)"
   ]
  },
  {
   "cell_type": "markdown",
   "id": "e5bfe99b-f821-4144-a01c-48864b6bbaee",
   "metadata": {},
   "source": [
    "7. Mr. Jones owns 4 pairs of pants, 7 shirts, and 3 sweaters. In how many ways may he choose 2 of the pairs of pants, 3 of the shirts, and 1 of the sweaters to pack for a trip?\n",
    "8. Suppose a True-False test has 20 questions.\n",
    "    - In how many ways may a student mark the test, if each question is answered?\n",
    "    - In how many ways may a student mark the test, if 10 questions are marked correctly and 10 incorrectly?\n",
    "9. In how many ways may can five persons line up to get on a bus?\n",
    "\n",
    "**Solution.** This is a straightforward permutation: $5! = 120$.\n",
    "\n",
    "10. In how many ways may these same five people line up if two of the people refuse to stand next to each other?\n",
    "11. In how many ways may 8 people form a circle for a folk dance?\n",
    "12. How many unique arrangments are there of the letters **G R E A T** ?\n",
    "13. How many unique arrangments are there of the letters **G R E E T** ?\n",
    "14. How many unique arrangments are there of the letters **S T A T I S T I C S** ?\n",
    "15. How many unique arrangments of the the letters **S T A T I S T I C S** begin and end with the letter “s”?\n",
    "16. In a primary election, there are four candidates for mayor, five candidates for city treasurer, and two candidates for county attorney. In how many ways may voters mark their ballots:\n",
    "    - if they vote in all three of the races?\n",
    "    - if they exercise their right not to vote in any or all of the races?\n",
    "17. A multiple-choice test consists of 15 questions, each permitting a choice of 5 alternatives. In how many ways may a student fill in the answers if they answer each question?\n",
    "\n",
    "**Solution.** We have 5 choices on 15 items, so an exponential will do the heavy lifting here: $5^{15}=30517578125$."
   ]
  },
  {
   "cell_type": "code",
   "execution_count": 6,
   "id": "381fc91f-4af6-49b0-acc3-59744a76649f",
   "metadata": {},
   "outputs": [
    {
     "data": {
      "text/html": [
       "30517578125"
      ],
      "text/latex": [
       "30517578125"
      ],
      "text/markdown": [
       "30517578125"
      ],
      "text/plain": [
       "[1] 30517578125"
      ]
     },
     "metadata": {},
     "output_type": "display_data"
    }
   ],
   "source": [
    "5^15"
   ]
  },
  {
   "cell_type": "markdown",
   "id": "68f01265-53cd-4aac-bf56-e4e57642b3d9",
   "metadata": {},
   "source": [
    "18. A team of 13 field hockey players needs to choose a captain and co-captain. How many different leadership pairs exist?\n",
    "19.  You are setting the combination on a five-digit lock. You want to use the numbers 38175 but don't care what order they are in. How many unique combinations are possible?\n",
    "\n",
    "**Solution.** We are permuting 5 numbers into 5 slots, so $P(5,5) = 120$."
   ]
  },
  {
   "cell_type": "code",
   "execution_count": 7,
   "id": "48a086ae-5e69-4292-b894-8f1356ddabb9",
   "metadata": {},
   "outputs": [
    {
     "data": {
      "text/html": [
       "120"
      ],
      "text/latex": [
       "120"
      ],
      "text/markdown": [
       "120"
      ],
      "text/plain": [
       "[1] 120"
      ]
     },
     "metadata": {},
     "output_type": "display_data"
    }
   ],
   "source": [
    "perm(5,5)"
   ]
  },
  {
   "cell_type": "markdown",
   "id": "7b27e8d2-cb42-4cd5-8665-5850bd0b5725",
   "metadata": {},
   "source": [
    "20. The student body of 50 students wants to elect four representatives. How many unique elections are possible?\n",
    "21. A group of 17 horses start the race. How many unique finishing orders are possible if we only concern ourselves with the Top 3 Finishers (Win, Place, Show)?\n",
    "22. Twenty-three athletes at a meeting each shake hands with everyone else. How many handshakes occur?\n",
    "23. The game of euchre uses only 24 cards from a standard deck. How many unique 5-card euchre hands are possible?\n",
    "24. For a segment of a radio show, disc jockey Doc Jams can play 4 songs. If there are 8 to select from, in how many ways can Jams program the playlist for this segment?"
   ]
  },
  {
   "cell_type": "code",
   "execution_count": null,
   "id": "0e52348c-2d5e-4852-a080-dd0f1ef582a8",
   "metadata": {},
   "outputs": [],
   "source": []
  },
  {
   "cell_type": "code",
   "execution_count": null,
   "id": "5f1cf300-3100-4316-8547-4d0919b26ca8",
   "metadata": {},
   "outputs": [],
   "source": []
  }
 ],
 "metadata": {
  "kernelspec": {
   "display_name": "R",
   "language": "R",
   "name": "ir"
  },
  "language_info": {
   "codemirror_mode": "r",
   "file_extension": ".r",
   "mimetype": "text/x-r-source",
   "name": "R",
   "pygments_lexer": "r",
   "version": "3.6.1"
  }
 },
 "nbformat": 4,
 "nbformat_minor": 5
}