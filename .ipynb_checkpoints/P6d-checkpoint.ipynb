{
 "cells": [
  {
   "cell_type": "markdown",
   "id": "7435d679-dac0-4a0d-8bba-51bace8aed7c",
   "metadata": {},
   "source": [
    "# Solutions to Selected Exercises\n",
    "\n",
    "**Directions:** For each of the probability experiments below:\n",
    "\n",
    "1. Enumerate all the values of the random variable.\n",
    "2. Calculate a few of the individual probabilities involved, and create a table comparing $x$ and $p(x)$.\n",
    "3. Try to find a pattern. If you can't (yet), add a few more entries to your table.\n",
    "4. Write a (closed-form) probability distribution function for the experiment, and verify the distribution function has the required properties.\n",
    "5. Identify the distribution as binomial, geometric, negative binomial, hypergeometric or none of the above."
   ]
  },
  {
   "cell_type": "code",
   "execution_count": 3,
   "id": "0ca29681-734f-467a-8e46-7ab1cfe34d03",
   "metadata": {},
   "outputs": [],
   "source": [
    "combin <- function(n, k) {\n",
    "    return(factorial(n) / ( factorial(k)*factorial(n-k) )) }\n",
    "perm <- function(n, k) {\n",
    "    return(combin(n,k) * factorial(k))}"
   ]
  },
  {
   "cell_type": "markdown",
   "id": "0bd3d83a-1f0b-4478-8a19-91a2be1a2248",
   "metadata": {},
   "source": [
    "```{sidebar} Sexist Math Teacher\n",
    "Teaching high school, a friend of mine had a student who said, \"You're racist.\" Puzzled, my friend asked, \"What do you mean?\" The student said, **\"You're racist against boys. You like girls better.\"** While my friend believed that neither assertion were true, he dutifully explained sexism to the class while trying not to laugh at the incongruity of the accusation.\n",
    "```"
   ]
  },
  {
   "cell_type": "markdown",
   "id": "1092afda-9963-4810-95a1-84842fe695cf",
   "metadata": {},
   "source": [
    "**Homework Problems**\n",
    "\n",
    "1. A math teacher has 15 boys and 15 girls in his class. Because he's sexist, he calls on girls 60\\% of the time. During a class period when he calls on 10 students, let $X$ be the random variable indicating the number of girls called on before the first boy is asked a question.\n",
    "\n",
    "2. Draw 5 cards from a standard deck. Let $X$ be the random variable indicating the number of hearts in the 5-card hand.\n",
    "\n",
    "**Solution.** This is a hypergeometric distribution, where if $h\\in H$ is the number of hearts in our hand, then\n",
    "\n",
    "$$P(h) = \\frac{\\binom{13}{h}\\binom{39}{5-h}}{\\binom{52}{5}}$$\n",
    "\n",
    "which implies that, for $h=4$, we have the following:\n",
    "\n",
    "$$P(h=4) = \\frac{\\binom{13}{4}\\binom{39}{1}}{\\binom{52}{5}}\\approx 0.0107293$$"
   ]
  },
  {
   "cell_type": "markdown",
   "id": "0820375e-f327-4a73-9915-affd9b87b167",
   "metadata": {},
   "source": [
    "combin(13,4) * combin(39,1) / combin(52,5)"
   ]
  },
  {
   "cell_type": "markdown",
   "id": "e5d72d78-ac76-486e-abc4-9737ea110fc3",
   "metadata": {},
   "source": [
    "3. A quality assurance inspector randomly selects and test 5 light bulbs from each lot of 100. Suppose there are 10 defective light bulbs per lot (major assumption, but bear with me), and let $X$ be the random variable indicating the number of defectives per draw.\n",
    "\n",
    "**Solution.** This is a hypergeometric distribution where $x\\in X=\\{1,2,3,4,5\\}$ is the number of defective lightbulbs per draw, we have:\n",
    "$$P(x) = \\frac{\\binom{10}{x}\\binom{90}{5-x}}{\\binom{100}{5}}$$"
   ]
  },
  {
   "cell_type": "markdown",
   "id": "ec3f0b3b-99f3-4ab7-9513-efa0f926c8c2",
   "metadata": {},
   "source": [
    "4. Draw 5 cards from a standard deck. Let $X$ be the random variable indicating the number of Kings in the 5-card hand.\n",
    "\n",
    "5. A gambler playing American Roullette keeps betting on \"Odd\" until it pays off. American Roullette wheels have numbers 1 through 36, 0 and 00. Let $X$ be the random variable denoting the number of spins until the wheel comes up Odd.\n",
    "\n",
    "**Solution.** The chance of \"Odd\" occuring on any given spin is as follows:"
   ]
  },
  {
   "cell_type": "markdown",
   "id": "f4972671-da8a-45de-847c-85aba4dc9c63",
   "metadata": {},
   "source": [
    "$$\\frac{9}{19}$$"
   ]
  },
  {
   "cell_type": "markdown",
   "id": "41c69a85-8d50-4c38-ab42-fb22468aa047",
   "metadata": {},
   "source": [
    "Note that $X=\\{1,2,3,\\cdots\\}$. We can then calculate the following probabilities which are shown in the table below:"
   ]
  },
  {
   "cell_type": "markdown",
   "id": "b653dd33-873e-4568-9a18-45240e99710b",
   "metadata": {},
   "source": [
    "```{list-table}\n",
    ":header-rows: 1\n",
    "\n",
    "* - $x$\n",
    "  - $p(x)$\n",
    "* - 1\n",
    "  - $p(x=1)=\\frac{9}{19}$\n",
    "* - 2\n",
    "  - $p(x=2)=\\left(\\frac{10}{19}\\right)\\left(\\frac{9}{19}\\right)$\n",
    "* - 3\n",
    "  - $p(x=3)=\\left(\\frac{10}{19}\\right)^2\\left(\\frac{9}{19}\\right)$\n",
    "* - 4\n",
    "  - $p(x=4)=\\left(\\frac{10}{19}\\right)^3\\left(\\frac{9}{19}\\right)$\n",
    "* - $\\vdots$\n",
    "  - $\\vdots$\n",
    "* - x\n",
    "  - $p(x)=\\left(\\frac{10}{19}\\right)^{x-1}\\left(\\frac{9}{19}\\right)$\n",
    "```"
   ]
  },
  {
   "cell_type": "markdown",
   "id": "dfcc6d7b-6468-47ae-9000-63599bb174d3",
   "metadata": {},
   "source": [
    "6. The underdog baseball team in the World Series has a 40\\% chance of winning each game. Find a probability distribution function that gives the probability the underdog wins in 4, 5, 6 or 7 games, or not all.\n",
    "\n",
    "**Solution.** The chance of a \"Win\" occuring in any given game of the series is $0.4$. Note that  𝑋={4,5,6,7}. We can then calculate the following probabilities which are shown in the table below:"
   ]
  },
  {
   "cell_type": "markdown",
   "id": "f1843ec2-f9d6-4264-8561-a9b944e0fb8f",
   "metadata": {},
   "source": [
    "```{list-table}\n",
    ":header-rows: 1\n",
    "\n",
    "* - $x$\n",
    "  - $p(x)$\n",
    "* - 4\n",
    "  - $p(x=4)=(0.4)^4$\n",
    "* - 5\n",
    "  - $p(x=5)=\\binom{4}{1}(0.6)(0.4)^4$\n",
    "* - 6\n",
    "  - $p(x=6)=\\binom{5}{2}(0.6)^2(0.4)^4$\n",
    "* - 7\n",
    "  - $p(x=7)=\\binom{6}{3}(0.6)^3(0.4)^4$    \n",
    "* - $\\vdots$\n",
    "  - $\\vdots$\n",
    "* - x\n",
    "  - $p(x)=\\binom{x-1}{x-4}(0.6)^{x-4}(0.4)^4$\n",
    "```"
   ]
  },
  {
   "cell_type": "markdown",
   "id": "48fbaec6-98ba-4186-90da-dde3d568b0a3",
   "metadata": {},
   "source": [
    "7. The favored baseball team in the World Series has a 60\\% chance of winning each game. Find a probability distribution function that gives the probability the favorites win in 4, 5, 6 or 7 games, or not all."
   ]
  },
  {
   "cell_type": "markdown",
   "id": "3e11f854-319e-4ffd-93a5-5061beb740d0",
   "metadata": {},
   "source": [
    "8. Billy Joe Bob Vernon McSweeney plays ball for the Nighthawks and has to sell 10 Cow Patty Bingo raffle tickets. He knows Momma McSweeney, Daddy McSweeney, Granny McSweeney, Aunt Mary Ellen Jane McSweeney and Grandpa McSweeney are guaranteed to buy a ticket. So that leaves 5 more to sell to students in his classes and random folks at Wal-Mart. Suppose Billy Joe Bob Vernon has a 10\\% chance of success each time he approaches someone about buying a ticket. Let $X$ be the random variable indicating the number of trials required:\n",
    "   - Write a function for the number of trials required before one ticket is purchased.\n",
    "    - Write a function for the number of trials required before all five tickets are purchased."
   ]
  },
  {
   "cell_type": "markdown",
   "id": "80711a2d-4003-4480-8089-289a0344a937",
   "metadata": {},
   "source": [
    "9. Suppose the underdog in a 5-game series has a $\\frac{1}{3}$ chance of winning each game. Find a probability distribution function for the underdog winning.\n",
    "\n",
    "10. Shero is playing blackjack and sees her first card is an Ace. Given a standard deck of 52 cards with no other cards showing, let $X$ be the random variable denoting the blackjack \"count\" of Shero's two-card starting hand. Aces can count as either 1 or 11, and all face cards count as 10. All the number cards have their face value."
   ]
  },
  {
   "cell_type": "code",
   "execution_count": null,
   "id": "cd9227a2-5049-435b-8cc7-5ba5e89f03a9",
   "metadata": {},
   "outputs": [],
   "source": []
  }
 ],
 "metadata": {
  "kernelspec": {
   "display_name": "R",
   "language": "R",
   "name": "ir"
  },
  "language_info": {
   "codemirror_mode": "r",
   "file_extension": ".r",
   "mimetype": "text/x-r-source",
   "name": "R",
   "pygments_lexer": "r",
   "version": "3.6.1"
  }
 },
 "nbformat": 4,
 "nbformat_minor": 5
}
