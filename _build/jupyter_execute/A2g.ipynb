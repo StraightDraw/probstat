{
 "cells": [
  {
   "cell_type": "markdown",
   "id": "d5dfa164-82fe-4993-abf8-2d3e1acc8a3f",
   "metadata": {},
   "source": [
    "# For Loops in R\n",
    "\n",
    "We don't need much programming skill to use R effectively for statistics and probability, but a little bit helps. The <span style = 'color:blue;font-weight:bold'> for loop</span> is quite helpful to generate probability distributions and investigate their properties."
   ]
  },
  {
   "cell_type": "markdown",
   "id": "ee49481b-640f-4b1c-8273-a0c910ca06ed",
   "metadata": {},
   "source": [
    "## Simple For Loop\n",
    "\n",
    "To see the basic features and requirements of a for loop, consider the following:"
   ]
  },
  {
   "cell_type": "code",
   "execution_count": 1,
   "id": "98ed1df4-e4af-4503-aa0f-0305523d5abd",
   "metadata": {},
   "outputs": [
    {
     "name": "stdout",
     "output_type": "stream",
     "text": [
      "[1] 1\n",
      "[1] 2\n",
      "[1] 3\n",
      "[1] 4\n",
      "[1] 5\n",
      "[1] 6\n",
      "[1] 7\n"
     ]
    }
   ],
   "source": [
    "for (x in 1:7) {\n",
    "  print(x)\n",
    "}"
   ]
  },
  {
   "cell_type": "markdown",
   "id": "9b1bd208-74fd-413c-a8f9-f03bee3fbc0d",
   "metadata": {},
   "source": [
    "Note that we have the following requirements:\n",
    "\n",
    "1. An indexing variable (in this case $x$) that takes on each value from 1 to 7.\n",
    "2. Brackets {} enclose the loop, e.g. the function(s) that need to be run repeatedly. "
   ]
  },
  {
   "cell_type": "markdown",
   "id": "c94f442a-f097-4f32-9018-cd2ef20bbd01",
   "metadata": {
    "editable": true,
    "slideshow": {
     "slide_type": ""
    },
    "tags": []
   },
   "source": [
    "## Function rflip\n",
    "\n",
    "The function <span style = 'color:blue;font-weight:bold'>rflip()</span> simulates coin flips or, more generally, the binomial distribution. We can use this function to great effect, and the cell below will load it into active memory for this notebook."
   ]
  },
  {
   "cell_type": "code",
   "execution_count": 2,
   "id": "f16795ef-7a5c-4d5b-94f2-2a573a587eb5",
   "metadata": {
    "editable": true,
    "slideshow": {
     "slide_type": ""
    },
    "tags": [
     "hide-input"
    ]
   },
   "outputs": [],
   "source": [
    "rflip <- function(n=1, prob=.5, quiet=FALSE, verbose = !quiet, summarize = FALSE, \n",
    "                  summarise = summarize) {\n",
    "\tif ( ( prob > 1 && is.integer(prob) ) ) {  \n",
    "\t\t# swap n and prob\n",
    "\t\ttemp <- prob\n",
    "\t\tprob <- n\n",
    "\t\tn <- temp\n",
    "\t}\n",
    "\tif (summarise) {\n",
    "\t  heads <- rbinom(1, n, prob)\n",
    "\t  return(data.frame(n = n, heads = heads, tails = n - heads, prob = prob))\n",
    "\t} else {\n",
    "\t  r <- rbinom(n,1,prob)\n",
    "\t  result <- c('T','H')[ 1 + r ]\n",
    "\t  heads <- sum(r)\n",
    "\t  attr(heads,\"n\") <- n\n",
    "\t  attr(heads,\"prob\") <- prob \n",
    "\t  attr(heads,\"sequence\") <- result\n",
    "\t  attr(heads,\"verbose\") <- verbose\n",
    "\t  class(heads) <- 'cointoss'\n",
    "\t  return(heads)\n",
    "\t}\n",
    "}"
   ]
  },
  {
   "cell_type": "markdown",
   "id": "357b52d2-5325-44c8-a874-b873a5add9cd",
   "metadata": {},
   "source": [
    "### Examples with rflip() Function\n",
    "\n",
    "A few examples will help show why we imported the code for this function:\n",
    "\n",
    "#### Basic Function for 20 Flips: Verbose Output"
   ]
  },
  {
   "cell_type": "code",
   "execution_count": 3,
   "id": "e025fba3-314f-4abe-8741-e5c6cedec82c",
   "metadata": {},
   "outputs": [
    {
     "data": {
      "text/plain": [
       "[1] 5\n",
       "attr(,\"n\")\n",
       "[1] 20\n",
       "attr(,\"prob\")\n",
       "[1] 0.25\n",
       "attr(,\"sequence\")\n",
       " [1] \"T\" \"T\" \"T\" \"T\" \"H\" \"H\" \"T\" \"H\" \"T\" \"T\" \"T\" \"T\" \"T\" \"T\" \"T\" \"T\" \"T\" \"H\" \"H\"\n",
       "[20] \"T\"\n",
       "attr(,\"verbose\")\n",
       "[1] TRUE\n",
       "attr(,\"class\")\n",
       "[1] \"cointoss\""
      ]
     },
     "metadata": {},
     "output_type": "display_data"
    }
   ],
   "source": [
    "rflip(20, prob = 1/4)"
   ]
  },
  {
   "cell_type": "markdown",
   "id": "fd830e70-d2bd-4375-b25e-19ca8c8ac0b7",
   "metadata": {},
   "source": [
    "#### Function Call for 20 Flips: Summary Output\n",
    "\n",
    "```{hint}\n",
    "Note that **heads** is synnomous with **successes** in the summary.\n",
    "```"
   ]
  },
  {
   "cell_type": "code",
   "execution_count": 4,
   "id": "cfe2e8aa-be44-4861-b29e-0ed55db79583",
   "metadata": {},
   "outputs": [
    {
     "data": {
      "text/html": [
       "<table>\n",
       "<thead><tr><th scope=col>n</th><th scope=col>heads</th><th scope=col>tails</th><th scope=col>prob</th></tr></thead>\n",
       "<tbody>\n",
       "\t<tr><td>20  </td><td>5   </td><td>15  </td><td>0.25</td></tr>\n",
       "</tbody>\n",
       "</table>\n"
      ],
      "text/latex": [
       "\\begin{tabular}{r|llll}\n",
       " n & heads & tails & prob\\\\\n",
       "\\hline\n",
       "\t 20   & 5    & 15   & 0.25\\\\\n",
       "\\end{tabular}\n"
      ],
      "text/markdown": [
       "\n",
       "| n | heads | tails | prob |\n",
       "|---|---|---|---|\n",
       "| 20   | 5    | 15   | 0.25 |\n",
       "\n"
      ],
      "text/plain": [
       "  n  heads tails prob\n",
       "1 20 5     15    0.25"
      ]
     },
     "metadata": {},
     "output_type": "display_data"
    }
   ],
   "source": [
    "rflip(20, prob = 1/4, summarize = TRUE)"
   ]
  },
  {
   "cell_type": "markdown",
   "id": "3a17ee20-51d5-4362-ac66-38d7e218bb8f",
   "metadata": {},
   "source": [
    "#### Extracting Number of Successes from Summary Output"
   ]
  },
  {
   "cell_type": "code",
   "execution_count": 5,
   "id": "2c654d28-6bb8-4ee3-be9c-f8b1f1ab4ac3",
   "metadata": {},
   "outputs": [
    {
     "data": {
      "text/html": [
       "4"
      ],
      "text/latex": [
       "4"
      ],
      "text/markdown": [
       "4"
      ],
      "text/plain": [
       "[1] 4"
      ]
     },
     "metadata": {},
     "output_type": "display_data"
    }
   ],
   "source": [
    "rflip(20, prob = 1/4, summarize = TRUE)[1,2]"
   ]
  },
  {
   "cell_type": "markdown",
   "id": "389354b6-6471-4833-8ee2-056c4e79d9a4",
   "metadata": {},
   "source": [
    "## Example 2: For Loop with rflip() Function\n",
    "\n",
    "We wish to flip 20 coins each with a 25\\% chance of success. We use the FOR LOOP to repeat this a thousand times."
   ]
  },
  {
   "cell_type": "code",
   "execution_count": 6,
   "id": "d3ef6575-18b5-40a0-97f1-04ae4d33e54c",
   "metadata": {},
   "outputs": [
    {
     "data": {
      "text/html": [
       "<ol class=list-inline>\n",
       "\t<li>6</li>\n",
       "\t<li>4</li>\n",
       "\t<li>6</li>\n",
       "\t<li>6</li>\n",
       "\t<li>8</li>\n",
       "\t<li>3</li>\n",
       "\t<li>7</li>\n",
       "\t<li>4</li>\n",
       "\t<li>2</li>\n",
       "\t<li>3</li>\n",
       "\t<li>3</li>\n",
       "\t<li>5</li>\n",
       "</ol>\n"
      ],
      "text/latex": [
       "\\begin{enumerate*}\n",
       "\\item 6\n",
       "\\item 4\n",
       "\\item 6\n",
       "\\item 6\n",
       "\\item 8\n",
       "\\item 3\n",
       "\\item 7\n",
       "\\item 4\n",
       "\\item 2\n",
       "\\item 3\n",
       "\\item 3\n",
       "\\item 5\n",
       "\\end{enumerate*}\n"
      ],
      "text/markdown": [
       "1. 6\n",
       "2. 4\n",
       "3. 6\n",
       "4. 6\n",
       "5. 8\n",
       "6. 3\n",
       "7. 7\n",
       "8. 4\n",
       "9. 2\n",
       "10. 3\n",
       "11. 3\n",
       "12. 5\n",
       "\n",
       "\n"
      ],
      "text/plain": [
       " [1] 6 4 6 6 8 3 7 4 2 3 3 5"
      ]
     },
     "metadata": {},
     "output_type": "display_data"
    }
   ],
   "source": [
    "num_success <- c()       # create a vector to store the number of successes for each sample drawn\n",
    "num_reps = 1000          # set the number of times to run the FOR LOOP\n",
    "\n",
    "for (i in 1:num_reps){\n",
    "    temp <- rflip(20, prob = 1/4, summarize = TRUE)[1,2]  # flip 20 coins, count numer of successes (heads)\n",
    "    num_success[i] <- temp     # count and store the number of successes from this trial\n",
    "}\n",
    "\n",
    "head(num_success, 12)        # display results of first 20 trials"
   ]
  },
  {
   "cell_type": "markdown",
   "id": "8b293483-ad34-4ead-885c-de7ea9f2bfa0",
   "metadata": {},
   "source": [
    "We can create a histogram of the results to see the shape of the distribution."
   ]
  },
  {
   "cell_type": "code",
   "execution_count": 7,
   "id": "a1176363-2b0f-481e-8faa-5adee08975e1",
   "metadata": {},
   "outputs": [
    {
     "data": {
      "image/png": "[encoded data removed]",
      "text/plain": [
       "Plot with title \"Histogram of num_success\""
      ]
     },
     "metadata": {},
     "output_type": "display_data"
    }
   ],
   "source": [
    "num_success <- c()       # create a vector to store the number of successes for each sample drawn\n",
    "num_reps = 1000          # set the number of times to run the FOR LOOP\n",
    "\n",
    "for (i in 1:num_reps){\n",
    "    temp <- rflip(20, prob = 1/4, summarize = TRUE)[1,2]  # flip 20 coins, count numer of successes (heads)\n",
    "    num_success[i] <- temp     # count and store the number of successes from this trial\n",
    "}\n",
    "\n",
    "hist(num_success, breaks = 8)     # display histogram of results from all trials"
   ]
  },
  {
   "cell_type": "markdown",
   "id": "43c6f287-1f2b-43c0-85ec-6d4f4fb9fd43",
   "metadata": {},
   "source": [
    "## Example 3: Add Lines on Histogram Displaying Middle 90\\%"
   ]
  },
  {
   "cell_type": "code",
   "execution_count": 8,
   "id": "7f4a4722-26f4-4857-bb4d-b299bd7960a6",
   "metadata": {},
   "outputs": [
    {
     "data": {
      "image/png": "[encoded data removed]",
      "text/plain": [
       "Plot with title \"Histogram of num_success\""
      ]
     },
     "metadata": {},
     "output_type": "display_data"
    }
   ],
   "source": [
    "num_success <- c()       # create a vector to store the number of successes for each sample drawn\n",
    "num_reps = 1000          # set the number of times to run the FOR LOOP\n",
    "\n",
    "for (i in 1:num_reps){\n",
    "    temp <- rflip(20, prob = 1/4, summarize = TRUE)[1,2]  # flip 20 coins, count numer of successes (heads)\n",
    "    num_success[i] <- temp     # count and store the number of successes from this trial\n",
    "}\n",
    "\n",
    "lower <- quantile(num_success, prob = 0.05)     # Calcuate the 5th percentile.\n",
    "upper <- quantile(num_success, prob = 0.95)     # Calcuate the 95th percentile.\n",
    "hist(num_success, breaks = 8)\n",
    "abline( v = lower, col=\"blue\")\n",
    "abline(v = upper, col=\"blue\")"
   ]
  },
  {
   "cell_type": "markdown",
   "id": "97af36d1-e2a6-49b7-8061-2673488b3e24",
   "metadata": {},
   "source": [
    "### Results\n",
    "\n",
    "We can see that the middle 90\\% of the data fall roughly between 2 and 9, or in terms of intervals:\n",
    "\n",
    "$$\\text{Number of Successes }\\in [2,9)$$"
   ]
  },
  {
   "cell_type": "markdown",
   "id": "803f774e-a80e-4f5d-acd1-da0834faac06",
   "metadata": {},
   "source": [
    "## Example 4: Increasing Number of Repetitions to 100,000"
   ]
  },
  {
   "cell_type": "code",
   "execution_count": 9,
   "id": "9d5aac40-bf98-438f-a4cb-c06accdc3bde",
   "metadata": {},
   "outputs": [
    {
     "data": {
      "image/png": "[encoded data removed]",
      "text/plain": [
       "Plot with title \"Histogram of num_success\""
      ]
     },
     "metadata": {},
     "output_type": "display_data"
    }
   ],
   "source": [
    "num_success <- c()       # create a vector to store the number of successes for each sample drawn\n",
    "num_reps = 100000          # set the number of times to run the FOR LOOP\n",
    "\n",
    "for (i in 1:num_reps){\n",
    "    temp <- rflip(20, prob = 1/4, summarize = TRUE)[1,2]  # flip 20 coins, count numer of successes (heads)\n",
    "    num_success[i] <- temp     # count and store the number of successes from this trial\n",
    "}\n",
    "\n",
    "lower <- quantile(num_success, prob = 0.05)     # Calcuate the 5th percentile.\n",
    "upper <- quantile(num_success, prob = 0.95)     # Calcuate the 95th percentile.\n",
    "hist(num_success, breaks = 8)\n",
    "abline( v = lower, col=\"blue\")\n",
    "abline(v = upper, col=\"blue\")"
   ]
  },
  {
   "cell_type": "markdown",
   "id": "f84577b4-fece-439f-aa56-ccbf8e9e3816",
   "metadata": {},
   "source": [
    "### Results\n",
    "\n",
    "The interval has narrowed due to increased repetitions as predicted by the Law of Large numbers. The new interval is as follows:\n",
    "\n",
    "$$\\text{Number of Successes }\\in [2,8)$$"
   ]
  }
 ],
 "metadata": {
  "kernelspec": {
   "display_name": "R",
   "language": "R",
   "name": "ir"
  },
  "language_info": {
   "codemirror_mode": "r",
   "file_extension": ".r",
   "mimetype": "text/x-r-source",
   "name": "R",
   "pygments_lexer": "r",
   "version": "3.6.1"
  }
 },
 "nbformat": 4,
 "nbformat_minor": 5
}