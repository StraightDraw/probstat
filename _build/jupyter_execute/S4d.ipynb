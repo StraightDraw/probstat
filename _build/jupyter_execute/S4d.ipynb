{
 "cells": [
  {
   "cell_type": "markdown",
   "id": "6fdc001d-4d8a-4e00-b67c-02daadb3bcd3",
   "metadata": {},
   "source": [
    "# Small Samples and $t$-Tests\n",
    "\n",
    "What do we do when the overall sample size for the $t$-test is $n < 40$?\n",
    "\n",
    "The process is the same as are the formulas, but we take a different approach to verifying the assumptions. For small sample sizes, we don't have enough data points for the **density plots** and **QQ plots** to work properly. Thus, <b><span style=\"color: purple\">our normality check works like this:</span></b>\n",
    "\n",
    "1. Stem Plot -- need evidence the sample was drawn from a bell-shaped distribution.\n",
    "2. Box Plot -- need to find zero outliers, as outliers are extremely influential in small samples.\n",
    "\n",
    "For the <b><span style=\"color: purple\">homogeneity of the variances</span></b> check, we still require the ratio of sample sizes to be no larger than $2 : 1$."
   ]
  },
  {
   "cell_type": "markdown",
   "id": "86a0cde8-c29e-4e0e-81fb-208ec7bcfadd",
   "metadata": {},
   "source": [
    "## Example: Independent Samples $t$-Test\n",
    "\n",
    "Adding bran to the diet can help patients with diverticulosis. The researchers wish to test two different preparations on patients. The transit time through the alimentary canal is tested for both groups. Which bran-based treatment works better? The data is shown below:"
   ]
  },
  {
   "cell_type": "markdown",
   "id": "90d486a3-40e0-4f43-9f25-26a854dd0937",
   "metadata": {},
   "source": [
    "<table style=\"width:80%\">\n",
    "  <tr>\n",
    "    <th>Treat 1</th>\n",
    "    <td>44</td><td>51</td><td>52</td><td>55</td><td>60</td><td>62</td><td>66</td><td>68</td><td>69</td><td>71</td><td>71</td><td>76</td><td>82</td><td>91</td><td>97</td>\n",
    "  </tr>\n",
    "  <tr>\n",
    "    <th>Treat 2</th>\n",
    "    <td>52</td><td>64</td><td>68</td><td>74</td><td>79</td><td>83</td><td>84</td><td>88</td><td>95</td><td>97</td><td>101</td><td>116</td>\n",
    "  </tr>\n",
    "</table>\n",
    "\n",
    "</body>"
   ]
  },
  {
   "cell_type": "markdown",
   "id": "eda23355-7b45-4903-812c-132498644ac4",
   "metadata": {},
   "source": [
    "We need to generate numeric vectors for these data:"
   ]
  },
  {
   "cell_type": "code",
   "execution_count": 1,
   "id": "39b6f4ed-d9f8-4c4a-8ebc-c05cdd310250",
   "metadata": {},
   "outputs": [],
   "source": [
    "one <- c(44, 51, 52, 55, 60, 62, 66, 68, 69, 71, 71, 76, 82, 91, 97)\n",
    "two <- c(52, 64, 68, 74, 79, 83, 84, 88, 95, 97, 101, 116)"
   ]
  },
  {
   "cell_type": "code",
   "execution_count": 2,
   "id": "d9418124-3891-4bc5-9848-7c90559aca8a",
   "metadata": {},
   "outputs": [
    {
     "data": {
      "image/png": "[encoded data removed]",
      "text/plain": [
       "Plot with title \"Boxplot: Two\""
      ]
     },
     "metadata": {},
     "output_type": "display_data"
    }
   ],
   "source": [
    "layout(matrix(c(1,2), ncol = 2), height = lcm(12))\n",
    "boxplot(one, main = 'Boxplot: One')\n",
    "boxplot(two, main = 'Boxplot: Two')"
   ]
  },
  {
   "cell_type": "code",
   "execution_count": 3,
   "id": "6f5d0b1e-4f35-472f-acb6-cdebc8968e4b",
   "metadata": {},
   "outputs": [
    {
     "name": "stdout",
     "output_type": "stream",
     "text": [
      "Stem Plot: One"
     ]
    },
    {
     "name": "stdout",
     "output_type": "stream",
     "text": [
      "\n",
      "  The decimal point is 1 digit(s) to the right of the |\n",
      "\n",
      "  4 | 4\n",
      "  5 | 125\n",
      "  6 | 02689\n",
      "  7 | 116\n",
      "  8 | 2\n",
      "  9 | 17\n",
      "\n"
     ]
    },
    {
     "name": "stdout",
     "output_type": "stream",
     "text": [
      "Stem Plot: Two"
     ]
    },
    {
     "name": "stdout",
     "output_type": "stream",
     "text": [
      "\n",
      "  The decimal point is 1 digit(s) to the right of the |\n",
      "\n",
      "   5 | 2\n",
      "   6 | 48\n",
      "   7 | 49\n",
      "   8 | 348\n",
      "   9 | 57\n",
      "  10 | 1\n",
      "  11 | 6\n",
      "\n"
     ]
    }
   ],
   "source": [
    "cat('Stem Plot: One')\n",
    "stem(one, scale = 2)\n",
    "cat('Stem Plot: Two')\n",
    "stem(two, scale = 2)"
   ]
  },
  {
   "cell_type": "markdown",
   "id": "001b5d9f-24e5-44c6-bf06-9a3129190f82",
   "metadata": {},
   "source": [
    "**Analysis of Normality Assumption**\n",
    "\n",
    "The stem plots both show reasonable evidence of the samples being drawn from normal (bell-shaped) distributions. The box plots show that neither sample has any outliers. Thus, <b><span style=\"color: purple\">the data are appropriate for $t$ procedures.</span></b>"
   ]
  },
  {
   "cell_type": "markdown",
   "id": "cf7ec0e0-8d5c-4daf-b562-db2b7be84095",
   "metadata": {},
   "source": [
    "**Analysis of Homogeneity Assumption**\n",
    "\n",
    "The samples sizes are $n_1 = 15$ and $n_2 = 12$, so the ratio of sample sizes is $15 : 12$ which reduces to $5:4$. Since this is clearly far less than $2:1$, we have few worries when conducting $t$ procedures."
   ]
  },
  {
   "cell_type": "markdown",
   "id": "93af165c-ad0b-4985-b9c3-981979185d6a",
   "metadata": {},
   "source": [
    "### Descriptives\n",
    "\n",
    "We need to know the means, standard deviations and sample sizes for both groups. We can perform all needed calculations inside the **cat()** function as shown below."
   ]
  },
  {
   "cell_type": "code",
   "execution_count": 4,
   "id": "e68ba0ea-85c1-4f54-bb53-e4969526654e",
   "metadata": {},
   "outputs": [
    {
     "name": "stdout",
     "output_type": "stream",
     "text": [
      "Descriptive Statistics for Treatment 1:\n",
      "  Mean =  67.66667 \n",
      "  Std Dev =  14.739 \n",
      "  Sample Size =  15"
     ]
    },
    {
     "name": "stdout",
     "output_type": "stream",
     "text": [
      "\n",
      "Descriptive Statistics for Treatment 2:\n",
      "  Mean =  83.41667 \n",
      "  Std Dev =  17.63498 \n",
      "  Sample Size =  12"
     ]
    }
   ],
   "source": [
    "cat('Descriptive Statistics for Treatment 1:\\n  Mean = ', mean(one), '\\n  Std Dev = ', sd(one), '\\n  Sample Size = ', length(one))\n",
    "cat('\\nDescriptive Statistics for Treatment 2:\\n  Mean = ', mean(two), '\\n  Std Dev = ', sd(two), '\\n  Sample Size = ', length(two))"
   ]
  },
  {
   "cell_type": "markdown",
   "id": "9b61058f-a249-4892-b68a-4bcb856e22cc",
   "metadata": {},
   "source": [
    "### Hypothesis\n",
    "\n",
    "For the independent samples $t$-test, we have the following hypotheses:\n",
    "\n",
    "$$\\begin{align}H_0 &: \\mu_1 = \\mu_2\\\\H_a &: \\mu_1 \\neq \\mu_2 \\end{align}$$\n",
    "\n",
    "where $\\mu_1$ is the sample average improvement due to treatment 1 and $\\mu_2$ is the sample average improvement due to treatment 2."
   ]
  },
  {
   "cell_type": "markdown",
   "id": "e95b7900-240d-4b31-81e4-ffe473fc2b2e",
   "metadata": {},
   "source": [
    "### Cutoff Value\n",
    "\n",
    "With $df = min(n_1 -1, n_2 -1)=11$, we can look up $t^*$ in the $t$-table in the 2-tailed column using the $\\alpha = 0.05$ level of significance. Hence, we see that\n",
    "\n",
    "$$t^* = 2.201$$"
   ]
  },
  {
   "cell_type": "markdown",
   "id": "b9c7292e-7fc3-4445-9c26-249480d7daf6",
   "metadata": {},
   "source": [
    "### Test Stastic\n",
    "\n",
    "To calcuate $t$, the formula sheet gives the following:\n",
    "\n",
    "$$\\begin{align}t &= \\frac{\\bar{x_1}-\\bar{x_2}}{\\sqrt{\\frac{s_1^2}{n_1} + \\frac{s_2^2}{n_2}}}\\\\&= \\frac{67.7-83.4}{\\sqrt{\\frac{14.7^2}{15} + \\frac{17.6^2}{12}}}\\\\&= \\frac{-15.7}{\\sqrt{\\frac{216.1}{15} + \\frac{309.8}{12}}}\\\\&= \\frac{-15.7}{\\sqrt{14.4 + 25.8}}\\\\&= \\frac{-15.7}{6.3} \\implies\\\\t &\\approx 2.5\\\\\\end{align}$$"
   ]
  },
  {
   "cell_type": "markdown",
   "id": "10742f65-d63f-40ff-b356-0425b8e02654",
   "metadata": {},
   "source": [
    "### Reporting Out\n",
    "\n",
    "Since $|t| = 2.5 > 2.201 = t^*$, we reject the null. Thus, we have evidence for a differential effectiveness between the two treatments. Based up the means listed above in the descriptives, we see that the evidence points to a significant difference in favor of treatment 2."
   ]
  },
  {
   "cell_type": "markdown",
   "id": "827ece80-3cdd-4bb6-9985-0e51c1c52c64",
   "metadata": {},
   "source": [
    "## Example 2: Matched Pairs\n",
    "\n",
    "A chemistry department has developed a new lab sequence that they feel will better prepare students to do well in a first college chemistry course. Before deploying the new labs on a large scale, they work with one small class of students who do the new labs. The students are given a diagnostic quiz in a pretest vs. posttest format. The scores are shown below. Test at the $\\alpha = 0.05$ level whether the students improved in their knowledge of chemistry while using this new format."
   ]
  },
  {
   "cell_type": "markdown",
   "id": "a34975dc-5c6b-450e-aaad-ce8832121261",
   "metadata": {},
   "source": [
    "<table style=\"width:80%\">\n",
    "<tr>\n",
    "  <th>Pre</th><td>18</td><td>21</td><td>16</td><td>22</td><td>19</td><td>24</td><td>17</td><td>21</td><td>23</td><td>18</td><td>14</td><td>16</td><td>16</td><td>19</td><td>18</td><td>20</td><td>12</td><td>22</td><td>15</td><td>17</td>\n",
    "</tr><tr>\n",
    "<th>Post</th><td>22</td><td>25</td><td>17</td><td>24</td><td>16</td><td>29</td><td>20</td><td>23</td><td>19</td><td>20</td><td>15</td><td>15</td><td>18</td><td>26</td><td>18</td><td>24</td><td>18</td><td>25</td><td>19</td><td>16</td>\n",
    "</tr>\n",
    "</table>"
   ]
  },
  {
   "cell_type": "markdown",
   "id": "09cc18e7-5fba-4b20-b358-4a7fddad9681",
   "metadata": {},
   "source": [
    "Again, we need to generate numeric vectors for the pretest and posttest data along with gain scores."
   ]
  },
  {
   "cell_type": "code",
   "execution_count": 5,
   "id": "3f2e007f-a892-465d-9bcb-b1bd25b5fc13",
   "metadata": {},
   "outputs": [
    {
     "data": {
      "text/html": [
       "<ol class=list-inline>\n",
       "\t<li>4</li>\n",
       "\t<li>4</li>\n",
       "\t<li>1</li>\n",
       "\t<li>2</li>\n",
       "\t<li>-3</li>\n",
       "</ol>\n"
      ],
      "text/latex": [
       "\\begin{enumerate*}\n",
       "\\item 4\n",
       "\\item 4\n",
       "\\item 1\n",
       "\\item 2\n",
       "\\item -3\n",
       "\\end{enumerate*}\n"
      ],
      "text/markdown": [
       "1. 4\n",
       "2. 4\n",
       "3. 1\n",
       "4. 2\n",
       "5. -3\n",
       "\n",
       "\n"
      ],
      "text/plain": [
       "[1]  4  4  1  2 -3"
      ]
     },
     "metadata": {},
     "output_type": "display_data"
    }
   ],
   "source": [
    "pre <- c(18, 21, 16, 22, 19, 24, 17, 21, 23, 18, 14, 16, 16, 19, 18, 20, 12, 22, 15, 17)\n",
    "post <- c(22, 25, 17, 24, 16, 29, 20, 23, 19, 20, 15, 15, 18, 26, 18, 24, 18, 25, 19, 16)\n",
    "gain <- post - pre\n",
    "head(gain, 5)"
   ]
  },
  {
   "cell_type": "markdown",
   "id": "045c5a61-a057-46e0-8ba9-a99047cb89fb",
   "metadata": {},
   "source": [
    "### Descriptives\n",
    "\n",
    "We work with the single sample of **gain scores** for this test."
   ]
  },
  {
   "cell_type": "code",
   "execution_count": 6,
   "id": "96b78ba9-9b55-41ae-912c-7f133134e553",
   "metadata": {},
   "outputs": [
    {
     "name": "stdout",
     "output_type": "stream",
     "text": [
      "Descriptives: Chemistry gain scores\n",
      "  Mean =  2.05 \n",
      "  Std. Dev =  2.837252 \n",
      "  Sample Size =  20"
     ]
    }
   ],
   "source": [
    "cat('Descriptives: Chemistry gain scores\\n  Mean = ', mean(gain), '\\n  Std. Dev = ', sd(gain), '\\n  Sample Size = ', length(gain))"
   ]
  },
  {
   "cell_type": "markdown",
   "id": "8fac493f-823b-48fc-873b-51b2bcebf7ec",
   "metadata": {},
   "source": [
    "### Normality and Homegeneity Assumptions\n",
    "\n",
    "For normality in this small sample, we inspect the stem plot and the box plot."
   ]
  },
  {
   "cell_type": "code",
   "execution_count": 7,
   "id": "7491d012-4399-4741-ab44-7e52a5a429bc",
   "metadata": {},
   "outputs": [
    {
     "data": {
      "image/png": "[encoded data removed]",
      "text/plain": [
       "plot without title"
      ]
     },
     "metadata": {},
     "output_type": "display_data"
    }
   ],
   "source": [
    "boxplot(gain)"
   ]
  },
  {
   "cell_type": "code",
   "execution_count": 8,
   "id": "d3cb5e51-bf4c-4fa7-825e-7fc82558a106",
   "metadata": {},
   "outputs": [
    {
     "name": "stdout",
     "output_type": "stream",
     "text": [
      "\n",
      "  The decimal point is at the |\n",
      "\n",
      "  -4 | 0\n",
      "  -2 | 0\n",
      "  -0 | 00\n",
      "   0 | 000\n",
      "   2 | 000000\n",
      "   4 | 00000\n",
      "   6 | 00\n",
      "\n"
     ]
    }
   ],
   "source": [
    "stem(gain, scale = 2)"
   ]
  },
  {
   "cell_type": "markdown",
   "id": "a3ee9c2a-094f-4f92-baf2-9705a34b7c64",
   "metadata": {},
   "source": [
    "**Analysis.** While we see some skew to left in the stem plot, we still have good evidence for the data being drawn from an approximately normal distribution. Also, we have no outliers, and thus the **normality assumption passes verification.**\n",
    "\n",
    "There is little we can do to check the homogeneity of the variances for a single sample test other than to note that a sample size of more than 100 is more than adequate for this test. Hence, **these data are appropriate for $t$ procedures.**"
   ]
  },
  {
   "cell_type": "markdown",
   "id": "c8d8df50-8f2e-46db-8164-21e5dd554dc8",
   "metadata": {},
   "source": [
    "### Hypotheses\n",
    "\n",
    "$$\\begin{align}H_0 &: \\mu_g = 0\\\\H_a &: \\mu_g > 0\\end{align}$$"
   ]
  },
  {
   "cell_type": "markdown",
   "id": "44b88d9a-6263-42fb-8ed6-afe9bc917a0e",
   "metadata": {},
   "source": [
    "### Conducting the Test with Formulas and Tables\n",
    "\n",
    "In this small sample case, let's do the work \"by-hand\" after reminding ourselves of the descriptives."
   ]
  },
  {
   "cell_type": "code",
   "execution_count": 9,
   "id": "2ac273ca-24d7-465d-927f-7468ea9c4c45",
   "metadata": {},
   "outputs": [
    {
     "name": "stdout",
     "output_type": "stream",
     "text": [
      "Descriptives: Chemistry gain scores\n",
      "  Mean =  2.05 \n",
      "  Std. Dev =  2.837252 \n",
      "  Sample Size =  20"
     ]
    }
   ],
   "source": [
    "cat('Descriptives: Chemistry gain scores\\n  Mean = ', mean(gain), '\\n  Std. Dev = ', sd(gain), '\\n  Sample Size = ', length(gain))"
   ]
  },
  {
   "cell_type": "markdown",
   "id": "133702bd-673b-4beb-b667-67d264d60c61",
   "metadata": {},
   "source": [
    "Notice that, from the formula sheet, we have:\n",
    "\n",
    "$$t = \\frac{\\bar x - \\mu_0}{\\frac{s}{\\sqrt{n}}}$$\n",
    "\n",
    "where $\\mu_0 = 0$. Thus, we start with the following:\n",
    "\n",
    "$$\\begin{align}t &= \\frac{\\bar x}{\\frac{s}{\\sqrt{n}}}\\\\\n",
    "   &= \\frac{2.05}{\\frac{2.84}{\\sqrt{20}}}\\\\\n",
    "   &= \\frac{2.05}{0.635} \\implies\\\\\n",
    "   t &\\approx 3.23\\end{align}$$"
   ]
  },
  {
   "cell_type": "markdown",
   "id": "ad681bd7-6e7a-41cc-8be1-0d32e734cf03",
   "metadata": {},
   "source": [
    "### Cutoff Value $t^*$\n",
    "\n",
    "In the $t$ table, we use the $\\alpha = 0.05$ column in the 1-tailed test section with $df = n-1 = 19$. We find that\n",
    "\n",
    "$$t^* = 1.729$$"
   ]
  },
  {
   "cell_type": "markdown",
   "id": "53a07f02-d07a-4ee4-b0c2-37142a7f13b5",
   "metadata": {},
   "source": [
    "### Reporting Out\n",
    "\n",
    "Given that $|t| = 3.23 > 1.73 = t^*$, we reject the null. We have evidence for the alternative which indicates that these students, on average, improved their knowledge of basic chemistry during this course."
   ]
  },
  {
   "cell_type": "markdown",
   "id": "32d1e9e1-afb6-40fb-a724-ec69632483d9",
   "metadata": {},
   "source": [
    "## Modern Methods\n",
    "\n",
    "We can quickly compute the $t$-test in R to verify the results."
   ]
  },
  {
   "cell_type": "code",
   "execution_count": 10,
   "id": "7e48b6b3-7d89-487c-b78f-796556a21a11",
   "metadata": {},
   "outputs": [
    {
     "data": {
      "text/plain": [
       "\n",
       "\tOne Sample t-test\n",
       "\n",
       "data:  gain\n",
       "t = 3.2313, df = 19, p-value = 0.004395\n",
       "alternative hypothesis: true mean is not equal to 0\n",
       "95 percent confidence interval:\n",
       " 0.7221251 3.3778749\n",
       "sample estimates:\n",
       "mean of x \n",
       "     2.05 \n"
      ]
     },
     "metadata": {},
     "output_type": "display_data"
    }
   ],
   "source": [
    "t.test(gain)"
   ]
  },
  {
   "cell_type": "markdown",
   "id": "aef32423-c4b1-489a-948e-42e9d94e97c5",
   "metadata": {},
   "source": [
    "The $t$ statistic we calculated was\n",
    "\n",
    "$$t = 3.23$$\n",
    "\n",
    "which matches the R calculation rounded to the hudredth place. Hence, we confirm the above analysis aligns with the same test conducted in R."
   ]
  },
  {
   "cell_type": "code",
   "execution_count": null,
   "id": "53175c82-360f-4ce2-af8e-676c5c3c4429",
   "metadata": {},
   "outputs": [],
   "source": []
  }
 ],
 "metadata": {
  "kernelspec": {
   "display_name": "R",
   "language": "R",
   "name": "ir"
  },
  "language_info": {
   "codemirror_mode": "r",
   "file_extension": ".r",
   "mimetype": "text/x-r-source",
   "name": "R",
   "pygments_lexer": "r",
   "version": "3.6.1"
  }
 },
 "nbformat": 4,
 "nbformat_minor": 5
}