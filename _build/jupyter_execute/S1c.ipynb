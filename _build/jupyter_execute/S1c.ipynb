{
 "cells": [
  {
   "cell_type": "markdown",
   "id": "195f03b8-302a-4034-8734-e99e3730cc88",
   "metadata": {},
   "source": [
    "# Sampling Functions\n",
    "\n",
    "The package **mosaic** features classic sampling functions for R. However, in this environment we use for class, mosaic is difficult to load. Still, we can import the code for useful functions directly and run them in R. This page provides the code to copy into an R notebook along with examples to guide usage.\n",
    "\n",
    "Three mosaic functions that will be useful for us include:\n",
    "\n",
    "1. rflip()\n",
    "2. rspin()\n",
    "3. sample.data.frame()"
   ]
  },
  {
   "cell_type": "markdown",
   "id": "0d81abe5-6f6f-4a5b-b517-dd9b2c5fcb90",
   "metadata": {},
   "source": [
    "## The **rflip()** Function\n",
    "\n",
    "When we want to simulate coin flips, the **rflip** function generates and organizes the output. The function parameters are as follows:\n",
    "\n",
    "- **n** -- the number of coins to toss\n",
    "- **prob** -- probability of heads on each toss\n",
    "- **quiet** -- a logical.  If `TRUE`, less verbose output is used.\n",
    "- **verbose** -- a logical.  If `TRUE`, more verbose output is used.\n",
    "- **summarize** -- if `TRUE`, return a summary (as a data frame).\n",
    "\n",
    "Some examples:\n",
    "- rflip(10)\n",
    "- rflip(10, prob = 1/6, quiet = TRUE)\n",
    "- rflip(10, prob = 1/6, summarize = TRUE)"
   ]
  },
  {
   "cell_type": "markdown",
   "id": "00a81d75-d0d1-4756-996a-752db122e86d",
   "metadata": {},
   "source": [
    "The code to create the function **rflip()** is below."
   ]
  },
  {
   "cell_type": "code",
   "execution_count": 1,
   "id": "00aea4f3-2caf-4620-a931-e90be4ca0fc0",
   "metadata": {},
   "outputs": [],
   "source": [
    "rflip <- function(n=1, prob=.5, quiet=FALSE, verbose = !quiet, summarize = FALSE, \n",
    "                  summarise = summarize) {\n",
    "\tif ( ( prob > 1 && is.integer(prob) ) ) {  \n",
    "\t\t# swap n and prob\n",
    "\t\ttemp <- prob\n",
    "\t\tprob <- n\n",
    "\t\tn <- temp\n",
    "\t}\n",
    "\tif (summarise) {\n",
    "\t  heads <- rbinom(1, n, prob)\n",
    "\t  return(data.frame(n = n, heads = heads, tails = n - heads, prob = prob))\n",
    "\t} else {\n",
    "\t  r <- rbinom(n,1,prob)\n",
    "\t  result <- c('T','H')[ 1 + r ]\n",
    "\t  heads <- sum(r)\n",
    "\t  attr(heads,\"n\") <- n\n",
    "\t  attr(heads,\"prob\") <- prob \n",
    "\t  attr(heads,\"sequence\") <- result\n",
    "\t  attr(heads,\"verbose\") <- verbose\n",
    "\t  class(heads) <- 'cointoss'\n",
    "\t  return(heads)\n",
    "\t}\n",
    "}"
   ]
  },
  {
   "cell_type": "markdown",
   "id": "29c86f05-53ea-4867-87a9-dacd3d4730df",
   "metadata": {},
   "source": [
    "Let's flip $20$ coins and observe the different output configurations we can access."
   ]
  },
  {
   "cell_type": "code",
   "execution_count": 2,
   "id": "04311ac4-a1e9-4f03-accd-770da6008d9e",
   "metadata": {},
   "outputs": [
    {
     "data": {
      "text/plain": [
       "[1] 11\n",
       "attr(,\"n\")\n",
       "[1] 20\n",
       "attr(,\"prob\")\n",
       "[1] 0.5\n",
       "attr(,\"sequence\")\n",
       " [1] \"H\" \"T\" \"H\" \"H\" \"H\" \"H\" \"T\" \"H\" \"H\" \"T\" \"T\" \"T\" \"H\" \"H\" \"T\" \"T\" \"H\" \"T\" \"H\"\n",
       "[20] \"T\"\n",
       "attr(,\"verbose\")\n",
       "[1] TRUE\n",
       "attr(,\"class\")\n",
       "[1] \"cointoss\""
      ]
     },
     "metadata": {},
     "output_type": "display_data"
    }
   ],
   "source": [
    "rflip(20)"
   ]
  },
  {
   "cell_type": "markdown",
   "id": "d87812ae-604a-4a71-b9f0-eeef053e18ca",
   "metadata": {},
   "source": [
    "Notice that the \"number of successes\" is the first output and that the outputs are in a dataframe that we can subset normally. Thus, we can use square brackets [] to access that value:"
   ]
  },
  {
   "cell_type": "code",
   "execution_count": 3,
   "id": "ba253eb7-c87a-4447-8a9c-9e0d3ccb2f14",
   "metadata": {},
   "outputs": [
    {
     "data": {
      "text/html": [
       "9"
      ],
      "text/latex": [
       "9"
      ],
      "text/markdown": [
       "9"
      ],
      "text/plain": [
       "[1] 9"
      ]
     },
     "metadata": {},
     "output_type": "display_data"
    }
   ],
   "source": [
    "rflip(20)[1]"
   ]
  },
  {
   "cell_type": "markdown",
   "id": "bfdcb3b2-32e3-4ad6-a53c-d984da64835c",
   "metadata": {},
   "source": [
    "What if the probability of success is different than 50\\%? We can use the *prob =* option to set the correct value."
   ]
  },
  {
   "cell_type": "code",
   "execution_count": 4,
   "id": "268952dd-592c-495c-9e34-9d846cc6e7b2",
   "metadata": {},
   "outputs": [
    {
     "data": {
      "text/plain": [
       "[1] 4\n",
       "attr(,\"n\")\n",
       "[1] 20\n",
       "attr(,\"prob\")\n",
       "[1] 0.1666667\n",
       "attr(,\"sequence\")\n",
       " [1] \"T\" \"T\" \"T\" \"T\" \"T\" \"T\" \"T\" \"T\" \"H\" \"H\" \"T\" \"T\" \"T\" \"T\" \"T\" \"H\" \"H\" \"T\" \"T\"\n",
       "[20] \"T\"\n",
       "attr(,\"verbose\")\n",
       "[1] TRUE\n",
       "attr(,\"class\")\n",
       "[1] \"cointoss\""
      ]
     },
     "metadata": {},
     "output_type": "display_data"
    }
   ],
   "source": [
    "rflip(20, prob = 1/6)"
   ]
  },
  {
   "cell_type": "markdown",
   "id": "47715fc5-8b22-48e1-83d8-902372b01baa",
   "metadata": {},
   "source": [
    "The function **rflip()** will organize the results attractively for us in an dataframe if we set the option *summarize = TRUE*."
   ]
  },
  {
   "cell_type": "code",
   "execution_count": 5,
   "id": "2fc1d760-4b4c-43b9-a244-d8aac86644cc",
   "metadata": {},
   "outputs": [
    {
     "data": {
      "text/html": [
       "<table>\n",
       "<thead><tr><th scope=col>n</th><th scope=col>heads</th><th scope=col>tails</th><th scope=col>prob</th></tr></thead>\n",
       "<tbody>\n",
       "\t<tr><td>20       </td><td>0        </td><td>20       </td><td>0.1666667</td></tr>\n",
       "</tbody>\n",
       "</table>\n"
      ],
      "text/latex": [
       "\\begin{tabular}{r|llll}\n",
       " n & heads & tails & prob\\\\\n",
       "\\hline\n",
       "\t 20        & 0         & 20        & 0.1666667\\\\\n",
       "\\end{tabular}\n"
      ],
      "text/markdown": [
       "\n",
       "| n | heads | tails | prob |\n",
       "|---|---|---|---|\n",
       "| 20        | 0         | 20        | 0.1666667 |\n",
       "\n"
      ],
      "text/plain": [
       "  n  heads tails prob     \n",
       "1 20 0     20    0.1666667"
      ]
     },
     "metadata": {},
     "output_type": "display_data"
    }
   ],
   "source": [
    "rflip(20, prob = 1/6, summarize = TRUE)"
   ]
  },
  {
   "cell_type": "markdown",
   "id": "27423d6e-115d-4c95-91e3-4402fba1b8ba",
   "metadata": {},
   "source": [
    "## The **rspin()** Function"
   ]
  },
  {
   "cell_type": "markdown",
   "id": "c4cf7d15-71fc-428e-ab69-f8942cf94e59",
   "metadata": {},
   "source": [
    "We can simulate spinning a spinner with **rspin()** using the following input parameters.\n",
    "\n",
    "- **n** number of spins of spinner\n",
    "- **probs** -- a vector of probabilities.  If the sum is not 1, the probabilities will be rescaled.\n",
    "- **labels** -- a character vector of labels for the categories\n",
    "\n",
    "Some examples:\n",
    "\n",
    "- rspin(20, prob=c(1,2,3), labels=c(\"Red\", \"Blue\", \"Green\"))\n",
    "- rspin(30, prob=c(1,2,3,4), labels=c(\"Red\", \"Blue\", \"Green\", \"Purple\"))"
   ]
  },
  {
   "cell_type": "code",
   "execution_count": 6,
   "id": "4d471ee8-e54b-4a71-a623-bed19338e768",
   "metadata": {},
   "outputs": [],
   "source": [
    "rspin <- function(n, probs, labels=1:length(probs)) {\n",
    "  if (any(probs < 0))\n",
    "    stop(\"All probs must be non-negative.\")\n",
    "  \n",
    "  probs <- probs/sum(probs)\n",
    "  res <- as.data.frame(t(rmultinom(1, n, probs)))\n",
    "  names(res) <- labels\n",
    "  res\n",
    "}"
   ]
  },
  {
   "cell_type": "markdown",
   "id": "4e56c7d0-69ee-4fec-9f41-665105e1f677",
   "metadata": {},
   "source": [
    "Two straightforward examples should suffice to demonstrate how the function works."
   ]
  },
  {
   "cell_type": "code",
   "execution_count": 7,
   "id": "6a6c52fe-726d-4314-8e9c-a7aede15b735",
   "metadata": {},
   "outputs": [
    {
     "data": {
      "text/html": [
       "<table>\n",
       "<thead><tr><th scope=col>Red</th><th scope=col>Blue</th><th scope=col>Green</th></tr></thead>\n",
       "<tbody>\n",
       "\t<tr><td>3 </td><td>7 </td><td>10</td></tr>\n",
       "</tbody>\n",
       "</table>\n"
      ],
      "text/latex": [
       "\\begin{tabular}{r|lll}\n",
       " Red & Blue & Green\\\\\n",
       "\\hline\n",
       "\t 3  & 7  & 10\\\\\n",
       "\\end{tabular}\n"
      ],
      "text/markdown": [
       "\n",
       "| Red | Blue | Green |\n",
       "|---|---|---|\n",
       "| 3  | 7  | 10 |\n",
       "\n"
      ],
      "text/plain": [
       "  Red Blue Green\n",
       "1 3   7    10   "
      ]
     },
     "metadata": {},
     "output_type": "display_data"
    }
   ],
   "source": [
    "rspin(20, prob=c(1,2,3), labels=c(\"Red\", \"Blue\", \"Green\"))"
   ]
  },
  {
   "cell_type": "code",
   "execution_count": 8,
   "id": "4cfc6309-7064-4940-afc6-9bd03a6db4a2",
   "metadata": {},
   "outputs": [
    {
     "data": {
      "text/html": [
       "<table>\n",
       "<thead><tr><th scope=col>Red</th><th scope=col>Blue</th><th scope=col>Green</th><th scope=col>Purple</th></tr></thead>\n",
       "<tbody>\n",
       "\t<tr><td>4 </td><td>4 </td><td>8 </td><td>14</td></tr>\n",
       "</tbody>\n",
       "</table>\n"
      ],
      "text/latex": [
       "\\begin{tabular}{r|llll}\n",
       " Red & Blue & Green & Purple\\\\\n",
       "\\hline\n",
       "\t 4  & 4  & 8  & 14\\\\\n",
       "\\end{tabular}\n"
      ],
      "text/markdown": [
       "\n",
       "| Red | Blue | Green | Purple |\n",
       "|---|---|---|---|\n",
       "| 4  | 4  | 8  | 14 |\n",
       "\n"
      ],
      "text/plain": [
       "  Red Blue Green Purple\n",
       "1 4   4    8     14    "
      ]
     },
     "metadata": {},
     "output_type": "display_data"
    }
   ],
   "source": [
    "rspin(30, prob=c(1,2,3,4), labels=c(\"Red\", \"Blue\", \"Green\", \"Purple\"))"
   ]
  },
  {
   "cell_type": "markdown",
   "id": "6f9fad0f-d11f-4ea6-a2aa-6de0cca7160e",
   "metadata": {},
   "source": [
    "### Genetics Example: Flowers\n",
    "\n",
    "Suppose that, based upon Mendel’s laws as expressed in the Punnett square, we have a hybrid where we expect the **purple** to **white** flower ratio to be $3 : 1$. Let's use **rspin()** to simulate growing 400 of the plants and counting the frequency of purple and white flowers."
   ]
  },
  {
   "cell_type": "code",
   "execution_count": 9,
   "id": "2438f0cb-7d31-4d84-b461-819191bf2205",
   "metadata": {},
   "outputs": [
    {
     "data": {
      "text/html": [
       "<table>\n",
       "<thead><tr><th scope=col>Purple</th><th scope=col>White</th></tr></thead>\n",
       "<tbody>\n",
       "\t<tr><td>308</td><td>92 </td></tr>\n",
       "</tbody>\n",
       "</table>\n"
      ],
      "text/latex": [
       "\\begin{tabular}{r|ll}\n",
       " Purple & White\\\\\n",
       "\\hline\n",
       "\t 308 & 92 \\\\\n",
       "\\end{tabular}\n"
      ],
      "text/markdown": [
       "\n",
       "| Purple | White |\n",
       "|---|---|\n",
       "| 308 | 92  |\n",
       "\n"
      ],
      "text/plain": [
       "  Purple White\n",
       "1 308    92   "
      ]
     },
     "metadata": {},
     "output_type": "display_data"
    }
   ],
   "source": [
    "rspin(400, prob=c(3,1), labels=c(\"Purple\", \"White\"))"
   ]
  },
  {
   "cell_type": "markdown",
   "id": "845fdb53-b650-4373-915c-253e3c735df5",
   "metadata": {},
   "source": [
    "### Genetics Example: Peas"
   ]
  },
  {
   "cell_type": "markdown",
   "id": "9eb3ebc4-6a8b-4db9-b810-51a0468ddfd9",
   "metadata": {},
   "source": [
    "Mendel chose to work with common, garden-variety pea plants for his experiments because they grow quickly and are easily raised. The plants have several visible characteristics that vary by proportions predicted by genetics, and we will focus on two of them:\n",
    "\n",
    "- Seeds can be round or wrinkled\n",
    "- Seeds can have yellow or green cotyledons. Cotyledons refer to the tiny leaves inside the seeds.\n",
    "\n",
    "In Mendel's experiment, he determined that the expected value for proportions were as given in the chart below:\n",
    "\n",
    "<html><table style=\"width:45%\">\n",
    "  <tr>\n",
    "    <th>Phenotype</th>\n",
    "    <th>Expected Proportion</th>\n",
    "  </tr>\n",
    "  <tr>\n",
    "    <td>Round Yellow</td>\n",
    "    <td align=\"center\">9/16</td>\n",
    "  </tr>\n",
    "  <tr>\n",
    "    <td>Round Green</td>\n",
    "    <td align=\"center\">3/16</td>\n",
    "  </tr>\n",
    "  <tr>\n",
    "    <td>Wrinkled Yellow</td>\n",
    "    <td align=\"center\">3/16</td>\n",
    "  </tr>\n",
    "  <tr>\n",
    "    <td>Wrinkled Green</td>\n",
    "    <td align=\"center\">1/16</td>\n",
    "  </tr>\n",
    "</table></html>\n",
    "\n",
    "Let's use **rspin()** to simulate growing 2000 of the plants and determining with what frequencies these attributes occur."
   ]
  },
  {
   "cell_type": "code",
   "execution_count": 10,
   "id": "4490e58d-c5d2-4445-a4f5-691884055cbf",
   "metadata": {},
   "outputs": [
    {
     "data": {
      "text/html": [
       "<table>\n",
       "<thead><tr><th scope=col>Round Yellow</th><th scope=col>Round Green</th><th scope=col>Wrinkled Yellow</th><th scope=col>Wrinkled Green</th></tr></thead>\n",
       "<tbody>\n",
       "\t<tr><td>234</td><td>70 </td><td>72 </td><td>24 </td></tr>\n",
       "</tbody>\n",
       "</table>\n"
      ],
      "text/latex": [
       "\\begin{tabular}{r|llll}\n",
       " Round Yellow & Round Green & Wrinkled Yellow & Wrinkled Green\\\\\n",
       "\\hline\n",
       "\t 234 & 70  & 72  & 24 \\\\\n",
       "\\end{tabular}\n"
      ],
      "text/markdown": [
       "\n",
       "| Round Yellow | Round Green | Wrinkled Yellow | Wrinkled Green |\n",
       "|---|---|---|---|\n",
       "| 234 | 70  | 72  | 24  |\n",
       "\n"
      ],
      "text/plain": [
       "  Round Yellow Round Green Wrinkled Yellow Wrinkled Green\n",
       "1 234          70          72              24            "
      ]
     },
     "metadata": {},
     "output_type": "display_data"
    }
   ],
   "source": [
    "rspin(400, prob=c(9,3,3,1), labels=c(\"Round Yellow\", \"Round Green\", \"Wrinkled Yellow\", \"Wrinkled Green\"))"
   ]
  },
  {
   "cell_type": "markdown",
   "id": "f5677b41-d7d0-4530-8c7a-aedd95a8779b",
   "metadata": {},
   "source": [
    "## The **sample.data.frame()** Function"
   ]
  },
  {
   "cell_type": "markdown",
   "id": "0ced4162-2cde-4141-8dd1-f4b04c9cf655",
   "metadata": {},
   "source": [
    "We often wish to generate a random sample of rows from a dataframe, and **sample.date.frame** helps us to do so quickly.\n",
    "\n",
    "- **x** -- dataframe to sample from\n",
    "- **size** -- sample size to draw\n",
    "- **groups** -- a vector (or variable in a data frame) specifying groups to sample within.\n",
    "- **orig.ids** -- a logical; should original ids be included in returned data frame?\n",
    "- **\\dots** -- additional arguments passed to *base::sample()*.\n",
    "- **shuffled** -- a vector of column names. These variables are reshuffled individually (within groups if `groups` is specified), breaking associations among these columns.\n",
    "\n",
    "Some examples:"
   ]
  },
  {
   "cell_type": "code",
   "execution_count": 11,
   "id": "ce1c23a2-295e-4b0f-94ad-188fe6b2633b",
   "metadata": {},
   "outputs": [],
   "source": [
    "sample.data.frame <- function(x, size, replace = FALSE, prob = NULL, groups=NULL, \n",
    "                              orig.ids = TRUE, fixed = names(x), shuffled = c(),\n",
    "                              invisibly.return = NULL, ...) {\n",
    "  if( missing(size) ) size = nrow(x)\n",
    "  if( is.null(invisibly.return) ) invisibly.return = size>50 \n",
    "  shuffled <- intersect(shuffled, names(x))\n",
    "  fixed <- setdiff(intersect(fixed, names(x)), shuffled)\n",
    "  n <- nrow(x)\n",
    "  ids <- 1:n\n",
    "  groups <- eval( substitute(groups), x )\n",
    "  newids <- sample(n, size, replace=replace, prob=prob, ...)\n",
    "  origids <- ids[newids]\n",
    "  result <- x[newids, , drop=FALSE]\n",
    "  \n",
    "  idsString <- as.character(origids)\n",
    "  \n",
    "  for (column in shuffled) {\n",
    "    cids <- sample(newids, groups=groups[newids])\n",
    "    result[,column] <- x[cids,column]\n",
    "    idsString <- paste(idsString, \".\", cids, sep=\"\")\n",
    "  }\n",
    "  \n",
    "  result <-  result[ , union(fixed,shuffled), drop=FALSE]\n",
    "  if (orig.ids) result$orig.id <- idsString\n",
    "  \n",
    "  \n",
    "  if (invisibly.return) { return(invisible(result)) } else {return(result)}\n",
    "}"
   ]
  },
  {
   "cell_type": "markdown",
   "id": "9a2dd891-0a91-47d1-9779-9ee9d473b0c1",
   "metadata": {},
   "source": [
    "Let's load some data to do some examples."
   ]
  },
  {
   "cell_type": "code",
   "execution_count": 12,
   "id": "3f3bfb4f-b145-4ac1-8d79-63a99fb40fbc",
   "metadata": {},
   "outputs": [
    {
     "data": {
      "text/html": [
       "<table>\n",
       "<thead><tr><th scope=col>Age</th><th scope=col>Yr</th><th scope=col>Sex</th><th scope=col>G21</th><th scope=col>Corps</th><th scope=col>Res</th><th scope=col>Greek</th><th scope=col>VarsAth</th><th scope=col>Honor</th><th scope=col>GPA</th><th scope=col>...</th><th scope=col>Perf</th><th scope=col>OCD</th><th scope=col>Play</th><th scope=col>Extro</th><th scope=col>Narc</th><th scope=col>HSAF</th><th scope=col>HSSE</th><th scope=col>HSAG</th><th scope=col>HSSD</th><th scope=col>PHS</th></tr></thead>\n",
       "<tbody>\n",
       "\t<tr><td>21  </td><td>2   </td><td>M   </td><td>Y   </td><td>Y   </td><td>1   </td><td>N   </td><td>N   </td><td>N   </td><td>3.23</td><td>... </td><td>105 </td><td>10  </td><td>142 </td><td> 8  </td><td>11  </td><td>41  </td><td>40  </td><td>26  </td><td>27  </td><td>SE  </td></tr>\n",
       "\t<tr><td>20  </td><td>3   </td><td>F   </td><td>N   </td><td>N   </td><td>2   </td><td>Y   </td><td>N   </td><td>Y   </td><td>3.95</td><td>... </td><td>105 </td><td> 3  </td><td>172 </td><td>16  </td><td>11  </td><td>46  </td><td>52  </td><td>26  </td><td>33  </td><td>SE  </td></tr>\n",
       "\t<tr><td>22  </td><td>3   </td><td>M   </td><td>Y   </td><td>N   </td><td>2   </td><td>N   </td><td>N   </td><td>N   </td><td>3.06</td><td>... </td><td> 73 </td><td> 1  </td><td>134 </td><td>15  </td><td>11  </td><td>48  </td><td>42  </td><td>44  </td><td>29  </td><td>AG  </td></tr>\n",
       "</tbody>\n",
       "</table>\n"
      ],
      "text/latex": [
       "\\begin{tabular}{r|llllllllllllllllllllllllllllllllllll}\n",
       " Age & Yr & Sex & G21 & Corps & Res & Greek & VarsAth & Honor & GPA & ... & Perf & OCD & Play & Extro & Narc & HSAF & HSSE & HSAG & HSSD & PHS\\\\\n",
       "\\hline\n",
       "\t 21   & 2    & M    & Y    & Y    & 1    & N    & N    & N    & 3.23 & ...  & 105  & 10   & 142  &  8   & 11   & 41   & 40   & 26   & 27   & SE  \\\\\n",
       "\t 20   & 3    & F    & N    & N    & 2    & Y    & N    & Y    & 3.95 & ...  & 105  &  3   & 172  & 16   & 11   & 46   & 52   & 26   & 33   & SE  \\\\\n",
       "\t 22   & 3    & M    & Y    & N    & 2    & N    & N    & N    & 3.06 & ...  &  73  &  1   & 134  & 15   & 11   & 48   & 42   & 44   & 29   & AG  \\\\\n",
       "\\end{tabular}\n"
      ],
      "text/markdown": [
       "\n",
       "| Age | Yr | Sex | G21 | Corps | Res | Greek | VarsAth | Honor | GPA | ... | Perf | OCD | Play | Extro | Narc | HSAF | HSSE | HSAG | HSSD | PHS |\n",
       "|---|---|---|---|---|---|---|---|---|---|---|---|---|---|---|---|---|---|---|---|---|\n",
       "| 21   | 2    | M    | Y    | Y    | 1    | N    | N    | N    | 3.23 | ...  | 105  | 10   | 142  |  8   | 11   | 41   | 40   | 26   | 27   | SE   |\n",
       "| 20   | 3    | F    | N    | N    | 2    | Y    | N    | Y    | 3.95 | ...  | 105  |  3   | 172  | 16   | 11   | 46   | 52   | 26   | 33   | SE   |\n",
       "| 22   | 3    | M    | Y    | N    | 2    | N    | N    | N    | 3.06 | ...  |  73  |  1   | 134  | 15   | 11   | 48   | 42   | 44   | 29   | AG   |\n",
       "\n"
      ],
      "text/plain": [
       "  Age Yr Sex G21 Corps Res Greek VarsAth Honor GPA  ... Perf OCD Play Extro\n",
       "1 21  2  M   Y   Y     1   N     N       N     3.23 ... 105  10  142   8   \n",
       "2 20  3  F   N   N     2   Y     N       Y     3.95 ... 105   3  172  16   \n",
       "3 22  3  M   Y   N     2   N     N       N     3.06 ...  73   1  134  15   \n",
       "  Narc HSAF HSSE HSAG HSSD PHS\n",
       "1 11   41   40   26   27   SE \n",
       "2 11   46   52   26   33   SE \n",
       "3 11   48   42   44   29   AG "
      ]
     },
     "metadata": {},
     "output_type": "display_data"
    }
   ],
   "source": [
    "p <- read.csv('https://faculty.ung.edu/rsinn/data/personality.csv')\n",
    "head(p,3)"
   ]
  },
  {
   "cell_type": "markdown",
   "id": "559f8e83-11e7-488f-8be9-28aefad96215",
   "metadata": {},
   "source": [
    "**The example below shows how to draw a random sample of size $n = 25$ from the personality data frame.** The row ID numbers have been included so you can see which rows were selected. Rerun the command, and you will see that a new sample with different rows will be drawn."
   ]
  },
  {
   "cell_type": "code",
   "execution_count": 13,
   "id": "f08afceb-6015-4366-b546-3985a0692c8b",
   "metadata": {},
   "outputs": [
    {
     "data": {
      "text/html": [
       "<table>\n",
       "<thead><tr><th></th><th scope=col>Age</th><th scope=col>Yr</th><th scope=col>Sex</th><th scope=col>G21</th><th scope=col>Corps</th><th scope=col>Res</th><th scope=col>Greek</th><th scope=col>VarsAth</th><th scope=col>Honor</th><th scope=col>GPA</th><th scope=col>...</th><th scope=col>OCD</th><th scope=col>Play</th><th scope=col>Extro</th><th scope=col>Narc</th><th scope=col>HSAF</th><th scope=col>HSSE</th><th scope=col>HSAG</th><th scope=col>HSSD</th><th scope=col>PHS</th><th scope=col>orig.id</th></tr></thead>\n",
       "<tbody>\n",
       "\t<tr><th scope=row>129</th><td>20  </td><td>2   </td><td>F   </td><td>N   </td><td>N   </td><td>2   </td><td>Y   </td><td>N   </td><td>N   </td><td>3.25</td><td>... </td><td>10  </td><td>165 </td><td>11  </td><td>0   </td><td>44  </td><td>34  </td><td>27  </td><td>25  </td><td>AF  </td><td>129 </td></tr>\n",
       "\t<tr><th scope=row>42</th><td>20  </td><td>2   </td><td>F   </td><td>N   </td><td>Y   </td><td>1   </td><td>Y   </td><td>N   </td><td>N   </td><td>3.02</td><td>... </td><td>10  </td><td>147 </td><td>10  </td><td>6   </td><td>33  </td><td>21  </td><td>31  </td><td>33  </td><td>SD  </td><td>42  </td></tr>\n",
       "\t<tr><th scope=row>71</th><td>19  </td><td>3   </td><td>F   </td><td>N   </td><td>N   </td><td>1   </td><td>Y   </td><td>N   </td><td>N   </td><td>3.15</td><td>... </td><td> 9  </td><td>131 </td><td> 9  </td><td>4   </td><td>48  </td><td>42  </td><td>27  </td><td>22  </td><td>AF  </td><td>71  </td></tr>\n",
       "\t<tr><th scope=row>28</th><td>19  </td><td>1   </td><td>F   </td><td>N   </td><td>N   </td><td>1   </td><td>N   </td><td>N   </td><td>N   </td><td>3.18</td><td>... </td><td> 9  </td><td>170 </td><td>11  </td><td>7   </td><td>52  </td><td>47  </td><td>23  </td><td>15  </td><td>SE  </td><td>28  </td></tr>\n",
       "\t<tr><th scope=row>74</th><td>19  </td><td>2   </td><td>F   </td><td>N   </td><td>N   </td><td>1   </td><td>N   </td><td>Y   </td><td>N   </td><td>3.29</td><td>... </td><td> 8  </td><td>112 </td><td> 8  </td><td>4   </td><td>27  </td><td>36  </td><td>28  </td><td>35  </td><td>SD  </td><td>74  </td></tr>\n",
       "\t<tr><th scope=row>22</th><td>20  </td><td>2   </td><td>M   </td><td>N   </td><td>N   </td><td>3   </td><td>N   </td><td>N   </td><td>N   </td><td>3.30</td><td>... </td><td> 6  </td><td>149 </td><td>10  </td><td>8   </td><td>51  </td><td>47  </td><td>38  </td><td>27  </td><td>AG  </td><td>22  </td></tr>\n",
       "\t<tr><th scope=row>62</th><td>19  </td><td>1   </td><td>F   </td><td>N   </td><td>N   </td><td>1   </td><td>N   </td><td>Y   </td><td>N   </td><td>3.40</td><td>... </td><td> 5  </td><td>130 </td><td>13  </td><td>5   </td><td>44  </td><td>33  </td><td>31  </td><td>27  </td><td>AG  </td><td>62  </td></tr>\n",
       "\t<tr><th scope=row>90</th><td>19  </td><td>1   </td><td>M   </td><td>N   </td><td>N   </td><td>1   </td><td>N   </td><td>N   </td><td>N   </td><td>2.80</td><td>... </td><td> 9  </td><td>125 </td><td> 2  </td><td>3   </td><td>37  </td><td>34  </td><td>29  </td><td>39  </td><td>SD  </td><td>90  </td></tr>\n",
       "\t<tr><th scope=row>124</th><td>30  </td><td>3   </td><td>F   </td><td>Y   </td><td>N   </td><td>3   </td><td>N   </td><td>N   </td><td>N   </td><td>2.79</td><td>... </td><td> 4  </td><td>143 </td><td>11  </td><td>1   </td><td>44  </td><td>40  </td><td>25  </td><td>41  </td><td>SD  </td><td>124 </td></tr>\n",
       "\t<tr><th scope=row>108</th><td>19  </td><td>1   </td><td>F   </td><td>N   </td><td>N   </td><td>1   </td><td>N   </td><td>Y   </td><td>N   </td><td>3.35</td><td>... </td><td> 4  </td><td>136 </td><td>10  </td><td>2   </td><td>49  </td><td>40  </td><td>14  </td><td>10  </td><td>AF  </td><td>108 </td></tr>\n",
       "\t<tr><th scope=row>88</th><td>19  </td><td>2   </td><td>F   </td><td>N   </td><td>N   </td><td>1   </td><td>N   </td><td>N   </td><td>N   </td><td>3.75</td><td>... </td><td>11  </td><td>141 </td><td>14  </td><td>3   </td><td>44  </td><td>35  </td><td>19  </td><td>17  </td><td>AF  </td><td>88  </td></tr>\n",
       "\t<tr><th scope=row>99</th><td>18  </td><td>1   </td><td>F   </td><td>N   </td><td>N   </td><td>1   </td><td>N   </td><td>N   </td><td>N   </td><td>3.84</td><td>... </td><td>13  </td><td>158 </td><td>13  </td><td>2   </td><td>49  </td><td>46  </td><td>34  </td><td>23  </td><td>SE  </td><td>99  </td></tr>\n",
       "\t<tr><th scope=row>60</th><td>21  </td><td>3   </td><td>F   </td><td>Y   </td><td>N   </td><td>2   </td><td>Y   </td><td>N   </td><td>N   </td><td>4.00</td><td>... </td><td> 5  </td><td>143 </td><td>10  </td><td>5   </td><td>49  </td><td>50  </td><td>25  </td><td>25  </td><td>SE  </td><td>60  </td></tr>\n",
       "\t<tr><th scope=row>112</th><td>20  </td><td>3   </td><td>F   </td><td>N   </td><td>N   </td><td>3   </td><td>N   </td><td>N   </td><td>N   </td><td>2.50</td><td>... </td><td>13  </td><td>140 </td><td> 3  </td><td>1   </td><td>38  </td><td>28  </td><td>25  </td><td>24  </td><td>AG  </td><td>112 </td></tr>\n",
       "\t<tr><th scope=row>29</th><td>21  </td><td>3   </td><td>M   </td><td>Y   </td><td>N   </td><td>2   </td><td>N   </td><td>Y   </td><td>N   </td><td>3.40</td><td>... </td><td> 8  </td><td>112 </td><td>13  </td><td>7   </td><td>48  </td><td>34  </td><td>43  </td><td>40  </td><td>AG  </td><td>29  </td></tr>\n",
       "\t<tr><th scope=row>81</th><td>21  </td><td>2   </td><td>M   </td><td>Y   </td><td>N   </td><td>1   </td><td>N   </td><td>Y   </td><td>N   </td><td>2.90</td><td>... </td><td> 3  </td><td> 96 </td><td>12  </td><td>4   </td><td>32  </td><td>27  </td><td>28  </td><td>30  </td><td>SD  </td><td>81  </td></tr>\n",
       "\t<tr><th scope=row>54</th><td>22  </td><td>3   </td><td>M   </td><td>Y   </td><td>N   </td><td>1   </td><td>N   </td><td>N   </td><td>N   </td><td>3.26</td><td>... </td><td>13  </td><td>125 </td><td> 3  </td><td>5   </td><td>44  </td><td>55  </td><td>22  </td><td>20  </td><td>SE  </td><td>54  </td></tr>\n",
       "\t<tr><th scope=row>52</th><td>20  </td><td>3   </td><td>M   </td><td>N   </td><td>Y   </td><td>1   </td><td>Y   </td><td>N   </td><td>N   </td><td>3.34</td><td>... </td><td> 4  </td><td>104 </td><td>11  </td><td>6   </td><td>35  </td><td>32  </td><td>30  </td><td>32  </td><td>SD  </td><td>52  </td></tr>\n",
       "\t<tr><th scope=row>70</th><td>22  </td><td>4   </td><td>F   </td><td>Y   </td><td>N   </td><td>2   </td><td>N   </td><td>N   </td><td>N   </td><td>3.78</td><td>... </td><td>11  </td><td>117 </td><td> 4  </td><td>4   </td><td>43  </td><td>37  </td><td>28  </td><td>34  </td><td>SD  </td><td>70  </td></tr>\n",
       "\t<tr><th scope=row>113</th><td>22  </td><td>2   </td><td>F   </td><td>Y   </td><td>N   </td><td>2   </td><td>N   </td><td>N   </td><td>N   </td><td>3.49</td><td>... </td><td>11  </td><td>141 </td><td> 9  </td><td>1   </td><td>44  </td><td>38  </td><td>23  </td><td>31  </td><td>SD  </td><td>113 </td></tr>\n",
       "\t<tr><th scope=row>104</th><td>20  </td><td>2   </td><td>F   </td><td>N   </td><td>N   </td><td>1   </td><td>N   </td><td>N   </td><td>N   </td><td>3.80</td><td>... </td><td> 7  </td><td>122 </td><td> 2  </td><td>2   </td><td>51  </td><td>28  </td><td>13  </td><td>33  </td><td>AF  </td><td>104 </td></tr>\n",
       "\t<tr><th scope=row>19</th><td>20  </td><td>3   </td><td>M   </td><td>N   </td><td>N   </td><td>2   </td><td>N   </td><td>Y   </td><td>Y   </td><td>3.68</td><td>... </td><td>11  </td><td>133 </td><td> 8  </td><td>8   </td><td>30  </td><td>32  </td><td>34  </td><td>34  </td><td>AG  </td><td>19  </td></tr>\n",
       "\t<tr><th scope=row>6</th><td>22  </td><td>3   </td><td>F   </td><td>Y   </td><td>N   </td><td>2   </td><td>Y   </td><td>N   </td><td>N   </td><td>2.63</td><td>... </td><td>20  </td><td>133 </td><td>10  </td><td>9   </td><td>40  </td><td>27  </td><td>31  </td><td>28  </td><td>AG  </td><td>6   </td></tr>\n",
       "\t<tr><th scope=row>38</th><td>19  </td><td>3   </td><td>M   </td><td>N   </td><td>Y   </td><td>1   </td><td>Y   </td><td>Y   </td><td>N   </td><td>4.00</td><td>... </td><td>11  </td><td>127 </td><td> 4  </td><td>6   </td><td>39  </td><td>40  </td><td>29  </td><td>30  </td><td>SE  </td><td>38  </td></tr>\n",
       "\t<tr><th scope=row>91</th><td>21  </td><td>3   </td><td>F   </td><td>Y   </td><td>N   </td><td>2   </td><td>Y   </td><td>N   </td><td>N   </td><td>3.00</td><td>... </td><td> 8  </td><td>142 </td><td> 3  </td><td>3   </td><td>43  </td><td>34  </td><td>40  </td><td>47  </td><td>SD  </td><td>91  </td></tr>\n",
       "</tbody>\n",
       "</table>\n"
      ],
      "text/latex": [
       "\\begin{tabular}{r|lllllllllllllllllllllllllllllllllllll}\n",
       "  & Age & Yr & Sex & G21 & Corps & Res & Greek & VarsAth & Honor & GPA & ... & OCD & Play & Extro & Narc & HSAF & HSSE & HSAG & HSSD & PHS & orig.id\\\\\n",
       "\\hline\n",
       "\t129 & 20   & 2    & F    & N    & N    & 2    & Y    & N    & N    & 3.25 & ...  & 10   & 165  & 11   & 0    & 44   & 34   & 27   & 25   & AF   & 129 \\\\\n",
       "\t42 & 20   & 2    & F    & N    & Y    & 1    & Y    & N    & N    & 3.02 & ...  & 10   & 147  & 10   & 6    & 33   & 21   & 31   & 33   & SD   & 42  \\\\\n",
       "\t71 & 19   & 3    & F    & N    & N    & 1    & Y    & N    & N    & 3.15 & ...  &  9   & 131  &  9   & 4    & 48   & 42   & 27   & 22   & AF   & 71  \\\\\n",
       "\t28 & 19   & 1    & F    & N    & N    & 1    & N    & N    & N    & 3.18 & ...  &  9   & 170  & 11   & 7    & 52   & 47   & 23   & 15   & SE   & 28  \\\\\n",
       "\t74 & 19   & 2    & F    & N    & N    & 1    & N    & Y    & N    & 3.29 & ...  &  8   & 112  &  8   & 4    & 27   & 36   & 28   & 35   & SD   & 74  \\\\\n",
       "\t22 & 20   & 2    & M    & N    & N    & 3    & N    & N    & N    & 3.30 & ...  &  6   & 149  & 10   & 8    & 51   & 47   & 38   & 27   & AG   & 22  \\\\\n",
       "\t62 & 19   & 1    & F    & N    & N    & 1    & N    & Y    & N    & 3.40 & ...  &  5   & 130  & 13   & 5    & 44   & 33   & 31   & 27   & AG   & 62  \\\\\n",
       "\t90 & 19   & 1    & M    & N    & N    & 1    & N    & N    & N    & 2.80 & ...  &  9   & 125  &  2   & 3    & 37   & 34   & 29   & 39   & SD   & 90  \\\\\n",
       "\t124 & 30   & 3    & F    & Y    & N    & 3    & N    & N    & N    & 2.79 & ...  &  4   & 143  & 11   & 1    & 44   & 40   & 25   & 41   & SD   & 124 \\\\\n",
       "\t108 & 19   & 1    & F    & N    & N    & 1    & N    & Y    & N    & 3.35 & ...  &  4   & 136  & 10   & 2    & 49   & 40   & 14   & 10   & AF   & 108 \\\\\n",
       "\t88 & 19   & 2    & F    & N    & N    & 1    & N    & N    & N    & 3.75 & ...  & 11   & 141  & 14   & 3    & 44   & 35   & 19   & 17   & AF   & 88  \\\\\n",
       "\t99 & 18   & 1    & F    & N    & N    & 1    & N    & N    & N    & 3.84 & ...  & 13   & 158  & 13   & 2    & 49   & 46   & 34   & 23   & SE   & 99  \\\\\n",
       "\t60 & 21   & 3    & F    & Y    & N    & 2    & Y    & N    & N    & 4.00 & ...  &  5   & 143  & 10   & 5    & 49   & 50   & 25   & 25   & SE   & 60  \\\\\n",
       "\t112 & 20   & 3    & F    & N    & N    & 3    & N    & N    & N    & 2.50 & ...  & 13   & 140  &  3   & 1    & 38   & 28   & 25   & 24   & AG   & 112 \\\\\n",
       "\t29 & 21   & 3    & M    & Y    & N    & 2    & N    & Y    & N    & 3.40 & ...  &  8   & 112  & 13   & 7    & 48   & 34   & 43   & 40   & AG   & 29  \\\\\n",
       "\t81 & 21   & 2    & M    & Y    & N    & 1    & N    & Y    & N    & 2.90 & ...  &  3   &  96  & 12   & 4    & 32   & 27   & 28   & 30   & SD   & 81  \\\\\n",
       "\t54 & 22   & 3    & M    & Y    & N    & 1    & N    & N    & N    & 3.26 & ...  & 13   & 125  &  3   & 5    & 44   & 55   & 22   & 20   & SE   & 54  \\\\\n",
       "\t52 & 20   & 3    & M    & N    & Y    & 1    & Y    & N    & N    & 3.34 & ...  &  4   & 104  & 11   & 6    & 35   & 32   & 30   & 32   & SD   & 52  \\\\\n",
       "\t70 & 22   & 4    & F    & Y    & N    & 2    & N    & N    & N    & 3.78 & ...  & 11   & 117  &  4   & 4    & 43   & 37   & 28   & 34   & SD   & 70  \\\\\n",
       "\t113 & 22   & 2    & F    & Y    & N    & 2    & N    & N    & N    & 3.49 & ...  & 11   & 141  &  9   & 1    & 44   & 38   & 23   & 31   & SD   & 113 \\\\\n",
       "\t104 & 20   & 2    & F    & N    & N    & 1    & N    & N    & N    & 3.80 & ...  &  7   & 122  &  2   & 2    & 51   & 28   & 13   & 33   & AF   & 104 \\\\\n",
       "\t19 & 20   & 3    & M    & N    & N    & 2    & N    & Y    & Y    & 3.68 & ...  & 11   & 133  &  8   & 8    & 30   & 32   & 34   & 34   & AG   & 19  \\\\\n",
       "\t6 & 22   & 3    & F    & Y    & N    & 2    & Y    & N    & N    & 2.63 & ...  & 20   & 133  & 10   & 9    & 40   & 27   & 31   & 28   & AG   & 6   \\\\\n",
       "\t38 & 19   & 3    & M    & N    & Y    & 1    & Y    & Y    & N    & 4.00 & ...  & 11   & 127  &  4   & 6    & 39   & 40   & 29   & 30   & SE   & 38  \\\\\n",
       "\t91 & 21   & 3    & F    & Y    & N    & 2    & Y    & N    & N    & 3.00 & ...  &  8   & 142  &  3   & 3    & 43   & 34   & 40   & 47   & SD   & 91  \\\\\n",
       "\\end{tabular}\n"
      ],
      "text/markdown": [
       "\n",
       "| <!--/--> | Age | Yr | Sex | G21 | Corps | Res | Greek | VarsAth | Honor | GPA | ... | OCD | Play | Extro | Narc | HSAF | HSSE | HSAG | HSSD | PHS | orig.id |\n",
       "|---|---|---|---|---|---|---|---|---|---|---|---|---|---|---|---|---|---|---|---|---|---|\n",
       "| 129 | 20   | 2    | F    | N    | N    | 2    | Y    | N    | N    | 3.25 | ...  | 10   | 165  | 11   | 0    | 44   | 34   | 27   | 25   | AF   | 129  |\n",
       "| 42 | 20   | 2    | F    | N    | Y    | 1    | Y    | N    | N    | 3.02 | ...  | 10   | 147  | 10   | 6    | 33   | 21   | 31   | 33   | SD   | 42   |\n",
       "| 71 | 19   | 3    | F    | N    | N    | 1    | Y    | N    | N    | 3.15 | ...  |  9   | 131  |  9   | 4    | 48   | 42   | 27   | 22   | AF   | 71   |\n",
       "| 28 | 19   | 1    | F    | N    | N    | 1    | N    | N    | N    | 3.18 | ...  |  9   | 170  | 11   | 7    | 52   | 47   | 23   | 15   | SE   | 28   |\n",
       "| 74 | 19   | 2    | F    | N    | N    | 1    | N    | Y    | N    | 3.29 | ...  |  8   | 112  |  8   | 4    | 27   | 36   | 28   | 35   | SD   | 74   |\n",
       "| 22 | 20   | 2    | M    | N    | N    | 3    | N    | N    | N    | 3.30 | ...  |  6   | 149  | 10   | 8    | 51   | 47   | 38   | 27   | AG   | 22   |\n",
       "| 62 | 19   | 1    | F    | N    | N    | 1    | N    | Y    | N    | 3.40 | ...  |  5   | 130  | 13   | 5    | 44   | 33   | 31   | 27   | AG   | 62   |\n",
       "| 90 | 19   | 1    | M    | N    | N    | 1    | N    | N    | N    | 2.80 | ...  |  9   | 125  |  2   | 3    | 37   | 34   | 29   | 39   | SD   | 90   |\n",
       "| 124 | 30   | 3    | F    | Y    | N    | 3    | N    | N    | N    | 2.79 | ...  |  4   | 143  | 11   | 1    | 44   | 40   | 25   | 41   | SD   | 124  |\n",
       "| 108 | 19   | 1    | F    | N    | N    | 1    | N    | Y    | N    | 3.35 | ...  |  4   | 136  | 10   | 2    | 49   | 40   | 14   | 10   | AF   | 108  |\n",
       "| 88 | 19   | 2    | F    | N    | N    | 1    | N    | N    | N    | 3.75 | ...  | 11   | 141  | 14   | 3    | 44   | 35   | 19   | 17   | AF   | 88   |\n",
       "| 99 | 18   | 1    | F    | N    | N    | 1    | N    | N    | N    | 3.84 | ...  | 13   | 158  | 13   | 2    | 49   | 46   | 34   | 23   | SE   | 99   |\n",
       "| 60 | 21   | 3    | F    | Y    | N    | 2    | Y    | N    | N    | 4.00 | ...  |  5   | 143  | 10   | 5    | 49   | 50   | 25   | 25   | SE   | 60   |\n",
       "| 112 | 20   | 3    | F    | N    | N    | 3    | N    | N    | N    | 2.50 | ...  | 13   | 140  |  3   | 1    | 38   | 28   | 25   | 24   | AG   | 112  |\n",
       "| 29 | 21   | 3    | M    | Y    | N    | 2    | N    | Y    | N    | 3.40 | ...  |  8   | 112  | 13   | 7    | 48   | 34   | 43   | 40   | AG   | 29   |\n",
       "| 81 | 21   | 2    | M    | Y    | N    | 1    | N    | Y    | N    | 2.90 | ...  |  3   |  96  | 12   | 4    | 32   | 27   | 28   | 30   | SD   | 81   |\n",
       "| 54 | 22   | 3    | M    | Y    | N    | 1    | N    | N    | N    | 3.26 | ...  | 13   | 125  |  3   | 5    | 44   | 55   | 22   | 20   | SE   | 54   |\n",
       "| 52 | 20   | 3    | M    | N    | Y    | 1    | Y    | N    | N    | 3.34 | ...  |  4   | 104  | 11   | 6    | 35   | 32   | 30   | 32   | SD   | 52   |\n",
       "| 70 | 22   | 4    | F    | Y    | N    | 2    | N    | N    | N    | 3.78 | ...  | 11   | 117  |  4   | 4    | 43   | 37   | 28   | 34   | SD   | 70   |\n",
       "| 113 | 22   | 2    | F    | Y    | N    | 2    | N    | N    | N    | 3.49 | ...  | 11   | 141  |  9   | 1    | 44   | 38   | 23   | 31   | SD   | 113  |\n",
       "| 104 | 20   | 2    | F    | N    | N    | 1    | N    | N    | N    | 3.80 | ...  |  7   | 122  |  2   | 2    | 51   | 28   | 13   | 33   | AF   | 104  |\n",
       "| 19 | 20   | 3    | M    | N    | N    | 2    | N    | Y    | Y    | 3.68 | ...  | 11   | 133  |  8   | 8    | 30   | 32   | 34   | 34   | AG   | 19   |\n",
       "| 6 | 22   | 3    | F    | Y    | N    | 2    | Y    | N    | N    | 2.63 | ...  | 20   | 133  | 10   | 9    | 40   | 27   | 31   | 28   | AG   | 6    |\n",
       "| 38 | 19   | 3    | M    | N    | Y    | 1    | Y    | Y    | N    | 4.00 | ...  | 11   | 127  |  4   | 6    | 39   | 40   | 29   | 30   | SE   | 38   |\n",
       "| 91 | 21   | 3    | F    | Y    | N    | 2    | Y    | N    | N    | 3.00 | ...  |  8   | 142  |  3   | 3    | 43   | 34   | 40   | 47   | SD   | 91   |\n",
       "\n"
      ],
      "text/plain": [
       "    Age Yr Sex G21 Corps Res Greek VarsAth Honor GPA  ... OCD Play Extro Narc\n",
       "129 20  2  F   N   N     2   Y     N       N     3.25 ... 10  165  11    0   \n",
       "42  20  2  F   N   Y     1   Y     N       N     3.02 ... 10  147  10    6   \n",
       "71  19  3  F   N   N     1   Y     N       N     3.15 ...  9  131   9    4   \n",
       "28  19  1  F   N   N     1   N     N       N     3.18 ...  9  170  11    7   \n",
       "74  19  2  F   N   N     1   N     Y       N     3.29 ...  8  112   8    4   \n",
       "22  20  2  M   N   N     3   N     N       N     3.30 ...  6  149  10    8   \n",
       "62  19  1  F   N   N     1   N     Y       N     3.40 ...  5  130  13    5   \n",
       "90  19  1  M   N   N     1   N     N       N     2.80 ...  9  125   2    3   \n",
       "124 30  3  F   Y   N     3   N     N       N     2.79 ...  4  143  11    1   \n",
       "108 19  1  F   N   N     1   N     Y       N     3.35 ...  4  136  10    2   \n",
       "88  19  2  F   N   N     1   N     N       N     3.75 ... 11  141  14    3   \n",
       "99  18  1  F   N   N     1   N     N       N     3.84 ... 13  158  13    2   \n",
       "60  21  3  F   Y   N     2   Y     N       N     4.00 ...  5  143  10    5   \n",
       "112 20  3  F   N   N     3   N     N       N     2.50 ... 13  140   3    1   \n",
       "29  21  3  M   Y   N     2   N     Y       N     3.40 ...  8  112  13    7   \n",
       "81  21  2  M   Y   N     1   N     Y       N     2.90 ...  3   96  12    4   \n",
       "54  22  3  M   Y   N     1   N     N       N     3.26 ... 13  125   3    5   \n",
       "52  20  3  M   N   Y     1   Y     N       N     3.34 ...  4  104  11    6   \n",
       "70  22  4  F   Y   N     2   N     N       N     3.78 ... 11  117   4    4   \n",
       "113 22  2  F   Y   N     2   N     N       N     3.49 ... 11  141   9    1   \n",
       "104 20  2  F   N   N     1   N     N       N     3.80 ...  7  122   2    2   \n",
       "19  20  3  M   N   N     2   N     Y       Y     3.68 ... 11  133   8    8   \n",
       "6   22  3  F   Y   N     2   Y     N       N     2.63 ... 20  133  10    9   \n",
       "38  19  3  M   N   Y     1   Y     Y       N     4.00 ... 11  127   4    6   \n",
       "91  21  3  F   Y   N     2   Y     N       N     3.00 ...  8  142   3    3   \n",
       "    HSAF HSSE HSAG HSSD PHS orig.id\n",
       "129 44   34   27   25   AF  129    \n",
       "42  33   21   31   33   SD  42     \n",
       "71  48   42   27   22   AF  71     \n",
       "28  52   47   23   15   SE  28     \n",
       "74  27   36   28   35   SD  74     \n",
       "22  51   47   38   27   AG  22     \n",
       "62  44   33   31   27   AG  62     \n",
       "90  37   34   29   39   SD  90     \n",
       "124 44   40   25   41   SD  124    \n",
       "108 49   40   14   10   AF  108    \n",
       "88  44   35   19   17   AF  88     \n",
       "99  49   46   34   23   SE  99     \n",
       "60  49   50   25   25   SE  60     \n",
       "112 38   28   25   24   AG  112    \n",
       "29  48   34   43   40   AG  29     \n",
       "81  32   27   28   30   SD  81     \n",
       "54  44   55   22   20   SE  54     \n",
       "52  35   32   30   32   SD  52     \n",
       "70  43   37   28   34   SD  70     \n",
       "113 44   38   23   31   SD  113    \n",
       "104 51   28   13   33   AF  104    \n",
       "19  30   32   34   34   AG  19     \n",
       "6   40   27   31   28   AG  6      \n",
       "38  39   40   29   30   SE  38     \n",
       "91  43   34   40   47   SD  91     "
      ]
     },
     "metadata": {},
     "output_type": "display_data"
    }
   ],
   "source": [
    "sample.data.frame(p, 25)"
   ]
  },
  {
   "cell_type": "markdown",
   "id": "7bdf1922-6871-46e6-afe8-835f987cab79",
   "metadata": {},
   "source": [
    "**The example below shows how to draw a random sample of size $n = 25$ from the narcissism column of the personality data frame.** "
   ]
  },
  {
   "cell_type": "code",
   "execution_count": 14,
   "id": "4e18a17f-a464-42d0-8f7d-57fbecce2784",
   "metadata": {},
   "outputs": [
    {
     "data": {
      "text/html": [
       "<table>\n",
       "<thead><tr><th></th><th scope=col>Narc</th></tr></thead>\n",
       "<tbody>\n",
       "\t<tr><th scope=row>46</th><td>6</td></tr>\n",
       "\t<tr><th scope=row>23</th><td>8</td></tr>\n",
       "\t<tr><th scope=row>57</th><td>5</td></tr>\n",
       "\t<tr><th scope=row>27</th><td>7</td></tr>\n",
       "\t<tr><th scope=row>88</th><td>3</td></tr>\n",
       "\t<tr><th scope=row>78</th><td>4</td></tr>\n",
       "\t<tr><th scope=row>37</th><td>6</td></tr>\n",
       "\t<tr><th scope=row>66</th><td>4</td></tr>\n",
       "\t<tr><th scope=row>67</th><td>4</td></tr>\n",
       "\t<tr><th scope=row>87</th><td>3</td></tr>\n",
       "\t<tr><th scope=row>61</th><td>5</td></tr>\n",
       "\t<tr><th scope=row>115</th><td>1</td></tr>\n",
       "\t<tr><th scope=row>107</th><td>2</td></tr>\n",
       "\t<tr><th scope=row>31</th><td>7</td></tr>\n",
       "\t<tr><th scope=row>100</th><td>2</td></tr>\n",
       "\t<tr><th scope=row>60</th><td>5</td></tr>\n",
       "\t<tr><th scope=row>42</th><td>6</td></tr>\n",
       "\t<tr><th scope=row>51</th><td>6</td></tr>\n",
       "\t<tr><th scope=row>17</th><td>8</td></tr>\n",
       "\t<tr><th scope=row>105</th><td>2</td></tr>\n",
       "\t<tr><th scope=row>79</th><td>4</td></tr>\n",
       "\t<tr><th scope=row>118</th><td>1</td></tr>\n",
       "\t<tr><th scope=row>128</th><td>0</td></tr>\n",
       "\t<tr><th scope=row>94</th><td>3</td></tr>\n",
       "\t<tr><th scope=row>33</th><td>7</td></tr>\n",
       "</tbody>\n",
       "</table>\n"
      ],
      "text/latex": [
       "\\begin{tabular}{r|l}\n",
       "  & Narc\\\\\n",
       "\\hline\n",
       "\t46 & 6\\\\\n",
       "\t23 & 8\\\\\n",
       "\t57 & 5\\\\\n",
       "\t27 & 7\\\\\n",
       "\t88 & 3\\\\\n",
       "\t78 & 4\\\\\n",
       "\t37 & 6\\\\\n",
       "\t66 & 4\\\\\n",
       "\t67 & 4\\\\\n",
       "\t87 & 3\\\\\n",
       "\t61 & 5\\\\\n",
       "\t115 & 1\\\\\n",
       "\t107 & 2\\\\\n",
       "\t31 & 7\\\\\n",
       "\t100 & 2\\\\\n",
       "\t60 & 5\\\\\n",
       "\t42 & 6\\\\\n",
       "\t51 & 6\\\\\n",
       "\t17 & 8\\\\\n",
       "\t105 & 2\\\\\n",
       "\t79 & 4\\\\\n",
       "\t118 & 1\\\\\n",
       "\t128 & 0\\\\\n",
       "\t94 & 3\\\\\n",
       "\t33 & 7\\\\\n",
       "\\end{tabular}\n"
      ],
      "text/markdown": [
       "\n",
       "| <!--/--> | Narc |\n",
       "|---|---|\n",
       "| 46 | 6 |\n",
       "| 23 | 8 |\n",
       "| 57 | 5 |\n",
       "| 27 | 7 |\n",
       "| 88 | 3 |\n",
       "| 78 | 4 |\n",
       "| 37 | 6 |\n",
       "| 66 | 4 |\n",
       "| 67 | 4 |\n",
       "| 87 | 3 |\n",
       "| 61 | 5 |\n",
       "| 115 | 1 |\n",
       "| 107 | 2 |\n",
       "| 31 | 7 |\n",
       "| 100 | 2 |\n",
       "| 60 | 5 |\n",
       "| 42 | 6 |\n",
       "| 51 | 6 |\n",
       "| 17 | 8 |\n",
       "| 105 | 2 |\n",
       "| 79 | 4 |\n",
       "| 118 | 1 |\n",
       "| 128 | 0 |\n",
       "| 94 | 3 |\n",
       "| 33 | 7 |\n",
       "\n"
      ],
      "text/plain": [
       "    Narc\n",
       "46  6   \n",
       "23  8   \n",
       "57  5   \n",
       "27  7   \n",
       "88  3   \n",
       "78  4   \n",
       "37  6   \n",
       "66  4   \n",
       "67  4   \n",
       "87  3   \n",
       "61  5   \n",
       "115 1   \n",
       "107 2   \n",
       "31  7   \n",
       "100 2   \n",
       "60  5   \n",
       "42  6   \n",
       "51  6   \n",
       "17  8   \n",
       "105 2   \n",
       "79  4   \n",
       "118 1   \n",
       "128 0   \n",
       "94  3   \n",
       "33  7   "
      ]
     },
     "metadata": {},
     "output_type": "display_data"
    }
   ],
   "source": [
    "sample.data.frame(p['Narc'], 25, orig.ids = F)"
   ]
  }
 ],
 "metadata": {
  "kernelspec": {
   "display_name": "R",
   "language": "R",
   "name": "ir"
  },
  "language_info": {
   "codemirror_mode": "r",
   "file_extension": ".r",
   "mimetype": "text/x-r-source",
   "name": "R",
   "pygments_lexer": "r",
   "version": "3.6.1"
  }
 },
 "nbformat": 4,
 "nbformat_minor": 5
}