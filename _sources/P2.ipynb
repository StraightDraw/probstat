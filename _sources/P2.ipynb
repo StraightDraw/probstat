{
 "cells": [
  {
   "cell_type": "markdown",
   "id": "ef5ae477-e350-416e-b8b8-f6c91324c7ee",
   "metadata": {},
   "source": [
    "# Counting Patterns"
   ]
  },
  {
   "cell_type": "markdown",
   "id": "84562c2d-d8e6-4968-bf20-20fcbd4410bf",
   "metadata": {},
   "source": [
    "Most people learn, even if they don't remember, about combination and permutations. There are more than these two counting patterns that we use regularly in probability problem-solving, and we will discuss the most important."
   ]
  },
  {
   "cell_type": "markdown",
   "id": "6aafbe33-87d2-474d-8518-62b0ce5fb3d1",
   "metadata": {},
   "source": [
    "# Basic Counting Patterns"
   ]
  },
  {
   "cell_type": "markdown",
   "id": "1e690a73-1d83-4900-bb0e-171375c8cc47",
   "metadata": {},
   "source": [
    "We have two kinds of draws \\emph{without replacement}, combinations and permutations, but what about draws **with replacement**? Their structure means we count the possible arrangements in the same way we find the cardinality of sets that are Cartesian products: we multiply."
   ]
  },
  {
   "cell_type": "markdown",
   "id": "b0bb8c77-e77e-4cd9-9212-fecf059503c3",
   "metadata": {},
   "source": [
    "```{sidebar} Cardinality\n",
    "The **cardinality** of a set is the number of elements in that set.\n",
    "```"
   ]
  },
  {
   "cell_type": "markdown",
   "id": "e3f36d01-d712-4252-86bd-d0683d0cb931",
   "metadata": {},
   "source": [
    "A Cartesian product of two sets $A$ and $B$ is the set of all ordered pairs $(a,b)$ where the first item is drawn from set $A$ and the second is drawn from set $B$:"
   ]
  },
  {
   "cell_type": "markdown",
   "id": "5aec9de5-db9d-48f3-9fac-583c34b41efc",
   "metadata": {},
   "source": [
    "$$A\\times B=\\{(a,b)\\ \\vert\\ a\\in A, b\\in B\\}$$"
   ]
  },
  {
   "cell_type": "markdown",
   "id": "ffb9086e-4f1e-44cc-84a0-4dd50287ee20",
   "metadata": {},
   "source": [
    "The $xy$-coordinate plane is familiar to most. Cartesian coordinates are used to identify points in the plane. Order matters, because the point $(1,6)$ is different from $(6,1)$. The coordinate plane is the Cartesian product $\\mathbb R\\times\\mathbb R$. While the set of real numbers is infinite, we often use finite sets for Cartesian products in probability settings."
   ]
  },
  {
   "cell_type": "markdown",
   "id": "6d49e809-5e28-4618-9b65-98b29267b112",
   "metadata": {},
   "source": [
    "```{admonition} Example 7\n",
    ":class: tip\n",
    "A 6-sided die is rolled and a coin is flipped. List the elements of the Cartesian product and determine its cardinality.\n",
    "```"
   ]
  },
  {
   "cell_type": "markdown",
   "id": "677e1f2f-ffe4-4367-8e30-83b778601ee1",
   "metadata": {},
   "source": [
    "**Solution.** Let the set $D$ represent the possible outcomes to rolling the fair, 6-sided die, and let the set $C$ represent the possible outcomes when flipping a fair coin:"
   ]
  },
  {
   "cell_type": "markdown",
   "id": "850563c1-3125-4016-a263-0ff02f9dff8a",
   "metadata": {},
   "source": [
    "$$D=\\{1,2,4,5,6\\}$$"
   ]
  },
  {
   "cell_type": "markdown",
   "id": "1f86fdcc-ad09-4662-9512-0cbdb6999e3e",
   "metadata": {},
   "source": [
    "$$C=\\{H,T\\}$$"
   ]
  },
  {
   "cell_type": "markdown",
   "id": "fc7aeeb6-d336-4d12-9303-8cfb29194548",
   "metadata": {},
   "source": [
    "We can arrange the ordered pairs $(d,c)$ to highlight the similarity to Cartesian coordinates:"
   ]
  },
  {
   "cell_type": "markdown",
   "id": "714ec84c-1760-4e3a-bd6b-48b436a41b6f",
   "metadata": {},
   "source": [
    "```{figure} /images/DieCartesionProduct.PNG\n",
    ":height: 100px\n",
    ":name: figure-example-with-dice\n",
    "```"
   ]
  },
  {
   "cell_type": "markdown",
   "id": "150fd60d-8e90-4e9b-beaa-adb2a704d159",
   "metadata": {},
   "source": [
    "Since $|D|=6$ and $|C|=2$, the total number of outcomes in the Cartesian product $D\\times C$ is 12 because:"
   ]
  },
  {
   "cell_type": "markdown",
   "id": "6725c1b0-c850-4e1f-a9a4-8fbd5f9aa157",
   "metadata": {},
   "source": [
    "$$|D\\times C|=2\\times 6=12$$"
   ]
  },
  {
   "cell_type": "markdown",
   "id": "595795ef-c55d-4e89-99b9-d9ec49d0df5b",
   "metadata": {},
   "source": [
    "```{admonition} Example 8\n",
    ":class: tip\n",
    "How many Georgia license plates are possible given the standard pattern is 3 letters followed by 4 numbers?\n",
    "```"
   ]
  },
  {
   "cell_type": "markdown",
   "id": "645e27fd-783a-4311-9a25-bf5f14bc35f0",
   "metadata": {},
   "source": [
    "**Solution.** If $L$ represents the set of 26 letters in our alphabet and $D$ represents the base 10 digits, then possible license plates form a Cartesian product: $L\\times L\\times L\\times D\\times D\\times D\\times D$. The number of possible license plates is given by "
   ]
  },
  {
   "cell_type": "markdown",
   "id": "811e17e8-ce4f-4b1d-b06d-379977171f59",
   "metadata": {},
   "source": [
    "$$L\\times L\\times L\\times D\\times D\\times D\\times D|=26\\times 26\\times 26\\times 10\\times 10\\times 10\\times 10$$"
   ]
  },
  {
   "cell_type": "markdown",
   "id": "efe324bf-52ff-4c7e-a6ba-be0cd6a31d97",
   "metadata": {},
   "source": [
    "$$=26^3\\cdot 10^4$$"
   ]
  },
  {
   "cell_type": "markdown",
   "id": "5b2b2bf3-f392-4b64-a616-d2545b4aec19",
   "metadata": {},
   "source": [
    "$$=175760000$$"
   ]
  },
  {
   "cell_type": "markdown",
   "id": "4ea7686a-5032-4cd5-93d8-c87d457aac0d",
   "metadata": {},
   "source": [
    "The number of outcomes in a Cartesian product is the product of the cardinalities of each set in the Cartesian product."
   ]
  },
  {
   "cell_type": "markdown",
   "id": "57a481cf-cced-4fbb-a3b6-709c0cde957d",
   "metadata": {},
   "source": [
    "## Special Counting Patterns"
   ]
  },
  {
   "cell_type": "markdown",
   "id": "2086cbe8-e78f-49e1-8aff-c33b386ff4fe",
   "metadata": {},
   "source": [
    "The primary tools for counting in a probability context have already been discussed: permutations, combinations, Cartesian products and partitioning the probability space into disjoint subsets. Some additional tools are helpful but seen much less often."
   ]
  },
  {
   "cell_type": "markdown",
   "id": "00c7dee9-4562-4764-8996-665ce27495e9",
   "metadata": {},
   "source": [
    "### Handshake Problem\n",
    "\n",
    "Two classic mathematics idea merge in the handshake problem."
   ]
  },
  {
   "cell_type": "markdown",
   "id": "85c82beb-b7fa-44f7-9e52-52fc5b76fdf9",
   "metadata": {},
   "source": [
    "```{admonition} Example 8\n",
    ":class: tip\n",
    "Ten people attend a party. During the event, each party goer shakes hands with every other person. How many handshakes happened?\n",
    "```"
   ]
  },
  {
   "cell_type": "markdown",
   "id": "119c9ead-ed5f-4f59-96f6-4af3c30924bb",
   "metadata": {},
   "source": [
    "**Solution.** Once we find the pattern, the solution is straightforward. Consider attendees at the party: Al, Bea, Cal, Di,... "
   ]
  },
  {
   "cell_type": "markdown",
   "id": "ad0ac3dc-9b52-4898-9a8f-c34296313a28",
   "metadata": {},
   "source": [
    "```{figure} /images/ProbFig3a.png\n",
    "height: 200px\n",
    "```"
   ]
  },
  {
   "cell_type": "markdown",
   "id": "57ddfe96-0cfd-4558-ab2e-da819238b8d4",
   "metadata": {},
   "source": [
    "Ten people at party, **Al** shakes hands with 9 others, **Bea** shakes hands with 8 others, and so on."
   ]
  },
  {
   "cell_type": "markdown",
   "id": "20188c1a-5fac-4e37-9d6a-3eb197f36852",
   "metadata": {},
   "source": [
    "```{figure} /images/ProbFig3c.png\n",
    "height: 250px\n",
    "```"
   ]
  },
  {
   "cell_type": "markdown",
   "id": "eeb1dcc4-acdc-4d90-b3fd-cc09e7ad799e",
   "metadata": {},
   "source": [
    "If Al shakes hands with everyone, there are 9 handshakes. Then, say Bea shakes hands with everyone she has not shaken hands with, yet. That will create 8 more handshakes. Then Cal, who has shaken hands twice, once with Al and once with Bea, will complete 7 more handshakes, and so on. Thus, the total number of handshakes for all 10 people is: "
   ]
  },
  {
   "cell_type": "markdown",
   "id": "a19247d0-20e1-496d-93d8-35b3f724f704",
   "metadata": {},
   "source": [
    "$$9+8+7+\\cdots +2+1=\\sum_{k=1}^9k=45$$"
   ]
  },
  {
   "cell_type": "markdown",
   "id": "180589a5-7cd8-4661-aa5d-3b16cb3635f6",
   "metadata": {},
   "source": [
    "```{sidebar} Math Prodigy\n",
    "Carl Frederich Gauss who lived from 1777 - 1855 is probably the GOAT in mathematics, that is, the greatest mathematician of all time. At age $11$ or $12$, he discovered a quick method for solving for the sum of consecutive integers between $1$ and $k$ where $k$ is any integer $\\geq 1$.\n",
    "```"
   ]
  },
  {
   "cell_type": "markdown",
   "id": "393fea43-57ca-4239-8efb-5f528c2c3ecb",
   "metadata": {},
   "source": [
    "The sum of all positive integers from $1$ to $n$ is the classic pattern attributed to Gauss. The story goes like this: little Freddie is precocious, and his tutor can't write math problems quickly enough. By the time he gets one written down, Freddie has solved it, and the tutor has no time for any other subject or any other child. In exasperation, the tutor challenges the adolescent math whiz: \"Add up all the numbers between one and one hundred.\" Surprisingly, Freddie answer almost immediately: \"Five thousand and fifty.\" He saw the pattern shown below."
   ]
  },
  {
   "cell_type": "markdown",
   "id": "eb2b1119-d344-4ac6-a824-698a7dc4de16",
   "metadata": {},
   "source": [
    "```{figure} /images/ProbFig4.png\n",
    "---\n",
    "width: 8cm\n",
    "---\n",
    "The Gauss pattern for summing integers from 1 to 100\n",
    "```"
   ]
  },
  {
   "cell_type": "markdown",
   "id": "5196fb06-5abb-4b94-bf0c-d873ba306f75",
   "metadata": {},
   "source": [
    "There are 50 pairs of integers that sum to 101, so he multiplied quickly to find the sum: $50\\times 101=5050$.\n",
    "\n",
    "While formulas exist (you can google \"Gauss's formula\") I encourage you to learn Gauss's idea instead of memorizing some formula, or at least to derive the formula for yourself (it's not hard). The formula works not only for this exact situation. The idea works for the sum of any finite number of terms in **any arithmetic sequence**.\n",
    "\n",
    "The birthday problem counting pattern is iconic, as is Gauss's approach, and any student of mathematics taking a course that includes principles of counting should learn about them."
   ]
  },
  {
   "cell_type": "markdown",
   "id": "cbf7bea0-7732-499d-86db-9f889057449c",
   "metadata": {},
   "source": []
  },
  {
   "cell_type": "markdown",
   "id": "97beb371-4e77-4355-acee-6e8b09d118b7",
   "metadata": {},
   "source": [
    "## Permutations on a Ring"
   ]
  },
  {
   "cell_type": "markdown",
   "id": "9915a05f-7ddd-4448-8fca-01e3a40ce527",
   "metadata": {},
   "source": [
    "```{admonition} Example 9\n",
    ":class: tip\n",
    "A mom of five gets a charm bracelet with each child's name on a charm. How many permutations of the charms are possible?\n",
    "```"
   ]
  },
  {
   "cell_type": "markdown",
   "id": "626fae7d-cf9c-445a-b46c-4e96e3c37904",
   "metadata": {},
   "source": [
    "**Solution.** If her children were named Dee, Eve, Fay, Gil and Hal, it's tempting to consider it like permutation five items into five slots:"
   ]
  },
  {
   "cell_type": "markdown",
   "id": "aaf75c6b-e484-45dc-8866-bee005233894",
   "metadata": {},
   "source": [
    "$$P(5,5) = 5! = 120$$"
   ]
  },
  {
   "cell_type": "markdown",
   "id": "024e5f92-0def-42fc-9ec1-a8e6cf522af9",
   "metadata": {},
   "source": [
    "where the letters would line up:\n",
    "\n",
    "<center>D E F G H</center>\n",
    "\n",
    "That approach turns out to be incorrect. When spaced equally on a circle, there are five identical patterns that correspond to\n",
    "\n",
    "<center>D E F G H</center>\n",
    "\n",
    "Those patterns are shown below:"
   ]
  },
  {
   "cell_type": "markdown",
   "id": "3541700e-a920-4203-be90-5b7cf8c59c4c",
   "metadata": {},
   "source": [
    "::::{grid}\n",
    ":gutter: 3\n",
    "\n",
    ":::{grid-item-card} **D E F G H**\n",
    "```{figure} /images/ProbFig5a.png\n",
    "width: 3cm\n",
    "```\n",
    ":::\n",
    "\n",
    ":::{grid-item-card} **E F G H D**\n",
    "```{figure} /images/ProbFig5b.png\n",
    "width: 3cm\n",
    "```\n",
    ":::\n",
    "\n",
    ":::{grid-item-card} **F G H D E**\n",
    "```{figure} /images/ProbFig5c.png\n",
    "width: 3cm\n",
    "```\n",
    ":::\n",
    "\n",
    ":::{grid-item-card} **G H D E F**\n",
    "```{figure} /images/ProbFig5d.png\n",
    "width: 3cm\n",
    "```\n",
    ":::\n",
    "\n",
    ":::{grid-item-card} **H D E F G**\n",
    "```{figure} /images/ProbFig5e.png\n",
    "width: 3cm\n",
    "```\n",
    ":::\n",
    "::::"
   ]
  },
  {
   "cell_type": "markdown",
   "id": "de628753-c53b-45a9-abbd-c94b9440e341",
   "metadata": {},
   "source": [
    "The same thing is true for every unique permutation of five items on a ring or on a circle. We have the permutation plus four identical copies. To correct for this, we have to divide by 5. Let $C_5$ be the set of all possible permutations of five objects on a circle."
   ]
  },
  {
   "cell_type": "markdown",
   "id": "7f0b94bd-16c3-4175-acf6-ea67b8d60745",
   "metadata": {},
   "source": [
    "$$|C_5|=\\frac{P(5,5)}{5}=\\frac{5!}{5}$$"
   ]
  },
  {
   "cell_type": "markdown",
   "id": "4066ca1c-cd4a-4569-bd7f-3968da12ea30",
   "metadata": {},
   "source": [
    "Most students remember that, in general, the number of permutations of $n$ objects on a circle is given by:"
   ]
  },
  {
   "cell_type": "markdown",
   "id": "31fa2a0e-1cc7-4bd8-afc4-2bc8affa1597",
   "metadata": {},
   "source": []
  },
  {
   "cell_type": "markdown",
   "id": "4a4194c1-b5ea-4a1a-8def-1181a48ea2a2",
   "metadata": {},
   "source": [
    "$$|C_n|=\\frac{n!}{n}$$"
   ]
  },
  {
   "cell_type": "markdown",
   "id": "d2313c41-db2b-43e4-9c25-1868158d29c0",
   "metadata": {},
   "source": [
    "$$\\hspace{17mm}=(n-1)!$$"
   ]
  },
  {
   "cell_type": "markdown",
   "id": "72cf0954-174a-4c72-896b-36c72a290c70",
   "metadata": {},
   "source": [
    "When studying permutations in Abstract Algebra (UNG course MATH 4600), we learn cycle notation for writing down the individual permutations in a permutation group. An $n$-cycle represents $n$ different versions of the exact same permutation, so we use a quick fix for notation: always list the smallest digit in the cycle first. That way, we have a unique representation for permutations, similar to the unique lowest terms form of a fraction."
   ]
  }
 ],
 "metadata": {
  "kernelspec": {
   "display_name": "Python 3 (ipykernel)",
   "language": "python",
   "name": "python3"
  },
  "language_info": {
   "codemirror_mode": {
    "name": "ipython",
    "version": 3
   },
   "file_extension": ".py",
   "mimetype": "text/x-python",
   "name": "python",
   "nbconvert_exporter": "python",
   "pygments_lexer": "ipython3",
   "version": "3.8.20"
  }
 },
 "nbformat": 4,
 "nbformat_minor": 5
}
