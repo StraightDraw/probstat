{
 "cells": [
  {
   "cell_type": "markdown",
   "id": "77b017a9-bde6-4921-bbec-2dc26f5261ed",
   "metadata": {},
   "source": [
    "# Expected Value"
   ]
  },
  {
   "cell_type": "markdown",
   "id": "ff759b56-6d65-4635-86d4-9176e550f067",
   "metadata": {},
   "source": [
    "Professional gamblers often talk about the **equity** or **EV** of their playing decisions. Poker pros think of every bet and call as an investment. EV stands for **expected value**, and positive EV is good. Since it's a bet, there is no guarantee that positive EV will lead to a positive outcome. Yet, on average and over time, playing with positive EV will win money. Negative EV is bad - it's means the play loses money on average."
   ]
  },
  {
   "cell_type": "markdown",
   "id": "5ec965fc-927e-4039-8a63-97e6c8388227",
   "metadata": {},
   "source": [
    "Why don't the pros always play with positive EV? First, the other players bluff and call bluffs, sometimes correctly. Second, there is a psychological side of the game that pros excel at, but can still misread sometimes. Third, even simple poker scenarios often lead difficult EV calculations that the pros can't do in their heads while sitting at the table."
   ]
  },
  {
   "cell_type": "markdown",
   "id": "ded30131-a366-427a-816b-fca43df2f619",
   "metadata": {},
   "source": [
    "## Definitions\n",
    "- The **expected value** of a simple random variable $x\\in X$ is given by:\n",
    "$$E(X)=\\sum x_ip(x_i)$$\n",
    "for all $i$ such that $x_i\\in X$. The expected value is often referred to as the *mean* of $X$ and written as $\\mu_X=E(X)$.\n",
    "- The **variance** of a simple random variable $x\\in X$ is given by:\n",
    "$$V(X) = E\\left(X^2\\right)-E\\left(X\\right)^2$$\n",
    "- The **standard deviation** is the square root of the variance:\n",
    "$$\\sigma_X^2=V(X)$$\n",
    "\n",
    "Note that, since $\\mu_X=E(X)$, we can write variance as follows:\n",
    "$$V(X) = E\\left(X^2\\right)-\\mu_X^2$$"
   ]
  },
  {
   "cell_type": "markdown",
   "id": "44ad1747-7ac3-4212-92ff-e37587bf378b",
   "metadata": {},
   "source": [
    "The expected value of a probability experiment is the value that, on average, one would expect to earn if the experiment were repeated many, many times. The variance measures how widely the different outcomes spread apart. We generally prefer standard deviation over the variance because the standard deviation is in the same the units as the original outcomes.\n",
    "\n",
    "Why do millions of reasonably intelligent people play the lottery which has an expected value of $\\mu_X\\approx -\\$0.33$ for every dollar invested? Because of the extremely high variance. Yes, most times you lose a little bit of money, but the huge variance means that, if you win, you win really, really big. Slot machines with their $\\mu_X \\approx -\\$0.05$ per dollar work on the exact same principle, but on a much smaller scale. In fact, most gambling games take advantage of this alluring facet of probability theory: small, negative expected values paired with huge variance so that, if you do win, you have story to tell."
   ]
  },
  {
   "cell_type": "markdown",
   "id": "77909c5f-96ca-4c1f-9c1f-345879f37689",
   "metadata": {},
   "source": [
    "## Examples\n",
    "\n",
    "Expected value and variance calculations are not difficult. Several examples should suffice to see how the calculations work, and calculator tips are given, as well."
   ]
  }
 ],
 "metadata": {
  "kernelspec": {
   "display_name": "Python 3 (ipykernel)",
   "language": "python",
   "name": "python3"
  },
  "language_info": {
   "codemirror_mode": {
    "name": "ipython",
    "version": 3
   },
   "file_extension": ".py",
   "mimetype": "text/x-python",
   "name": "python",
   "nbconvert_exporter": "python",
   "pygments_lexer": "ipython3",
   "version": "3.8.20"
  }
 },
 "nbformat": 4,
 "nbformat_minor": 5
}
