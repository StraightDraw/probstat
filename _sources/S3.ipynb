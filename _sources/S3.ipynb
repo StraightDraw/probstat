{
 "cells": [
  {
   "cell_type": "markdown",
   "id": "ea1b1212-e1b5-44f5-94db-e76e6d672b55",
   "metadata": {},
   "source": [
    "# Normal Curve"
   ]
  },
  {
   "cell_type": "markdown",
   "id": "7e2068e2-1957-4ae5-991f-901bbdf4556b",
   "metadata": {},
   "source": [
    "The properties of the bell curve were studied by Carl Friedrich Gauss (1777 - 1855) and his contemporaries, and Pierre-Simon LaPlace (1749 - 1827) proved the first version of the Central Limit Theorem in 1810. The modern function that describes the Gaussian distribution or the **Normal Distribution** is as follows:"
   ]
  },
  {
   "cell_type": "markdown",
   "id": "0edd8e59-61a3-4d2e-b71c-a907d4e01f77",
   "metadata": {},
   "source": [
    "$$\n",
    "f(x) = \\frac{1}{\\sigma \\sqrt{2\\pi} } e^{-\\frac{1}{2}\\left(\\frac{x-\\mu}{\\sigma}\\right)^2}\n",
    "$$"
   ]
  },
  {
   "cell_type": "markdown",
   "id": "2e9dbcc2-cd26-4878-8eec-cd54dc217d56",
   "metadata": {},
   "source": [
    "where $\\mu$ is the mean and $\\sigma$ is the standard deviation. In this course, we use the notation $N(\\mu, \\sigma)$ to refer to a normal distribution with the indicated mean and standard deviation."
   ]
  },
  {
   "cell_type": "markdown",
   "id": "814caf6b-c8c6-405f-a973-0d2653adba59",
   "metadata": {},
   "source": [
    "## Standard Normal"
   ]
  },
  {
   "cell_type": "markdown",
   "id": "2d774fab-7de4-4ed0-a41b-6b645e7a3f54",
   "metadata": {},
   "source": [
    "For the purposes of calcuation, especially when the integrals involved must be done by hand, mathematicians developed a simplification where\n",
    "\n",
    "- $\\mu = 0$\n",
    "- $\\sigma = 1$\n",
    "\n",
    "One can readily verify by inspection of the above intgral that, computational, this simplication should make the integration more easily accomplished."
   ]
  },
  {
   "cell_type": "markdown",
   "id": "1bae2028-b655-4e32-a112-7f0531ea24bd",
   "metadata": {},
   "source": [
    "## Standardized Scores"
   ]
  },
  {
   "cell_type": "markdown",
   "id": "6eccfae3-312e-4abe-a571-968bcb45fc17",
   "metadata": {},
   "source": [
    "Statistics before computers involved tables. Any score within the experimentally gathered data could be converted to a standardized score. In this way, the estimation or calculation of percentiles was possible for any data point in the sample data. A stadardized score called a $z$-score was computed, and the relevant value was found in a table."
   ]
  },
  {
   "cell_type": "markdown",
   "id": "91ee5e96-4a31-48c7-b245-871cc7dee670",
   "metadata": {},
   "source": [
    "The formula for calcuating a $z$-score is as follows:\n",
    "\n",
    "$$z = \\frac{x - \\mu}{\\sigma}$$"
   ]
  },
  {
   "cell_type": "markdown",
   "id": "9b94f94a-e753-4776-ac57-b2d531144464",
   "metadata": {},
   "source": [
    "In modern statistical practice, we often estimate $\\mu$ and $\\sigma$. Thus, we often calculate $z$-scores based upon the sample average and sample standard deviation."
   ]
  },
  {
   "cell_type": "markdown",
   "id": "2c282343-a484-44dd-992e-69ddffb07ad7",
   "metadata": {},
   "source": [
    "## Example 1\n",
    "\n",
    "The ACT traditionally has scores that follow a $N(21,5)$ distribution. If Molly scored a 29 on the ACT, in what percentile was here score?"
   ]
  },
  {
   "cell_type": "markdown",
   "id": "89280eaa-9d9e-4a45-8a9c-d88c444c4574",
   "metadata": {},
   "source": [
    "**$z$-score**\n",
    "\n",
    "We first calculate her standardized score:\n",
    "\n",
    "$$z_M = \\frac{29 -21}{5} =\\frac{8}{5} = 1.6$$"
   ]
  },
  {
   "cell_type": "markdown",
   "id": "d5e379c8-50e9-4f55-b9ac-8ea82a75d719",
   "metadata": {},
   "source": [
    "The percentile relative to this $z$-score can be found using the R command **pnorm()**:"
   ]
  },
  {
   "cell_type": "code",
   "execution_count": 16,
   "id": "a8f2155d-7992-42c2-bd0d-32cd77cabda1",
   "metadata": {},
   "outputs": [
    {
     "data": {
      "text/html": [
       "0.945200708300442"
      ],
      "text/latex": [
       "0.945200708300442"
      ],
      "text/markdown": [
       "0.945200708300442"
      ],
      "text/plain": [
       "[1] 0.9452007"
      ]
     },
     "metadata": {},
     "output_type": "display_data"
    }
   ],
   "source": [
    "pnorm(1.6)"
   ]
  },
  {
   "cell_type": "markdown",
   "id": "e54fcd82-19d5-4602-aa5f-27813c1d2b30",
   "metadata": {},
   "source": [
    "Thus, Molly scored in the 94th percentile on the ACT."
   ]
  },
  {
   "cell_type": "markdown",
   "id": "9f6db3ac-57f6-4af4-b5c4-99f1c9282670",
   "metadata": {},
   "source": [
    "## Example 2\n",
    "\n",
    "What if we knew that Dolly scored in the 87th percentile on the ACT. What was her score?"
   ]
  },
  {
   "cell_type": "markdown",
   "id": "159fec62-158b-4da8-b614-befd553c4f1f",
   "metadata": {},
   "source": [
    "First, we have to convert the percentile into a standardized score. For this, we use the R function **qnorm()**."
   ]
  },
  {
   "cell_type": "code",
   "execution_count": 17,
   "id": "9298abee-7926-4406-8da6-76a4bc172890",
   "metadata": {},
   "outputs": [
    {
     "data": {
      "text/html": [
       "0.841621233572914"
      ],
      "text/latex": [
       "0.841621233572914"
      ],
      "text/markdown": [
       "0.841621233572914"
      ],
      "text/plain": [
       "[1] 0.8416212"
      ]
     },
     "metadata": {},
     "output_type": "display_data"
    }
   ],
   "source": [
    "qnorm(0.8)"
   ]
  },
  {
   "cell_type": "markdown",
   "id": "4f9075d1-7d27-41ee-9cea-1a0960a14474",
   "metadata": {},
   "source": [
    "If $z \\approx 0.8416$, then we can calcuate using the $z$-score formula:\n",
    "\n",
    "$$0.8416 = \\frac{ACT_D - 21}{5}$$"
   ]
  },
  {
   "cell_type": "markdown",
   "id": "d0429b5d-027a-424c-a9a6-3445f3c19817",
   "metadata": {},
   "source": [
    "When we simplify and rearrange the equation, we find that:\n",
    "\n",
    "$$ACT_D = 5 (0.8416) + 21$$\n",
    "\n",
    "or equivalently that:\n",
    "\n",
    "$$ACT_D \\approx 25.21$$"
   ]
  },
  {
   "cell_type": "markdown",
   "id": "8894c7fd-4b63-4446-bc17-6d8e3f0e3b04",
   "metadata": {},
   "source": [
    "Thus, Dolly scored a 25 on the ACT."
   ]
  }
 ],
 "metadata": {
  "kernelspec": {
   "display_name": "R",
   "language": "R",
   "name": "ir"
  },
  "language_info": {
   "codemirror_mode": "r",
   "file_extension": ".r",
   "mimetype": "text/x-r-source",
   "name": "R",
   "pygments_lexer": "r",
   "version": "3.6.1"
  }
 },
 "nbformat": 4,
 "nbformat_minor": 5
}
