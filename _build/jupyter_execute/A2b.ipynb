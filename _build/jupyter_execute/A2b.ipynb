{
 "cells": [
  {
   "cell_type": "markdown",
   "id": "c93b8142-ed84-414e-a86d-5be5eec02866",
   "metadata": {
    "editable": true,
    "slideshow": {
     "slide_type": ""
    },
    "tags": []
   },
   "source": [
    "# Subsetting a Data Frame\n",
    "\n",
    "What if we wish to compare the biological sexes on the **narcissism** variable? Then, we need to create a subset of narcissism for both sexes, male and female. Working with the females first, we see the following:"
   ]
  },
  {
   "cell_type": "markdown",
   "id": "663b1ce4-b1de-49c7-a367-51ec28254aab",
   "metadata": {},
   "source": [
    "## Subsetting Females Only\n",
    "\n",
    "We create the new data frame **females** which is made up of rows from the **pers** data frame that have **F** in the *biological sex* column."
   ]
  },
  {
   "cell_type": "code",
   "execution_count": 1,
   "id": "b9e3333a-50cb-437e-b3b0-f4053003d5aa",
   "metadata": {},
   "outputs": [
    {
     "data": {
      "text/html": [
       "<table>\n",
       "<thead><tr><th></th><th scope=col>Age</th><th scope=col>Yr</th><th scope=col>Sex</th><th scope=col>G21</th><th scope=col>Corps</th><th scope=col>Res</th><th scope=col>Greek</th><th scope=col>VarsAth</th><th scope=col>Honor</th><th scope=col>GPA</th><th scope=col>...</th><th scope=col>Perf</th><th scope=col>OCD</th><th scope=col>Play</th><th scope=col>Extro</th><th scope=col>Narc</th><th scope=col>HSAF</th><th scope=col>HSSE</th><th scope=col>HSAG</th><th scope=col>HSSD</th><th scope=col>PHS</th></tr></thead>\n",
       "<tbody>\n",
       "\t<tr><th scope=row>2</th><td>20  </td><td>3   </td><td>F   </td><td>N   </td><td>N   </td><td>2   </td><td>Y   </td><td>N   </td><td>Y   </td><td>3.95</td><td>... </td><td>105 </td><td> 3  </td><td>172 </td><td>16  </td><td>11  </td><td>46  </td><td>52  </td><td>26  </td><td>33  </td><td>SE  </td></tr>\n",
       "\t<tr><th scope=row>4</th><td>27  </td><td>3   </td><td>F   </td><td>Y   </td><td>N   </td><td>3   </td><td>N   </td><td>N   </td><td>N   </td><td>2.84</td><td>... </td><td> 90 </td><td> 9  </td><td>160 </td><td>16  </td><td>10  </td><td>51  </td><td>51  </td><td>23  </td><td>19  </td><td>SE  </td></tr>\n",
       "\t<tr><th scope=row>6</th><td>22  </td><td>3   </td><td>F   </td><td>Y   </td><td>N   </td><td>2   </td><td>Y   </td><td>N   </td><td>N   </td><td>2.63</td><td>... </td><td>114 </td><td>20  </td><td>133 </td><td>10  </td><td> 9  </td><td>40  </td><td>27  </td><td>31  </td><td>28  </td><td>AG  </td></tr>\n",
       "\t<tr><th scope=row>8</th><td>20  </td><td>3   </td><td>F   </td><td>N   </td><td>N   </td><td>1   </td><td>Y   </td><td>N   </td><td>N   </td><td>3.30</td><td>... </td><td>142 </td><td>17  </td><td>168 </td><td>16  </td><td> 9  </td><td>55  </td><td>45  </td><td>24  </td><td>29  </td><td>AF  </td></tr>\n",
       "\t<tr><th scope=row>9</th><td>22  </td><td>2   </td><td>F   </td><td>Y   </td><td>N   </td><td>1   </td><td>N   </td><td>N   </td><td>N   </td><td>3.02</td><td>... </td><td>119 </td><td>16  </td><td>141 </td><td>10  </td><td> 9  </td><td>52  </td><td>47  </td><td>32  </td><td>26  </td><td>SE  </td></tr>\n",
       "</tbody>\n",
       "</table>\n"
      ],
      "text/latex": [
       "\\begin{tabular}{r|llllllllllllllllllllllllllllllllllll}\n",
       "  & Age & Yr & Sex & G21 & Corps & Res & Greek & VarsAth & Honor & GPA & ... & Perf & OCD & Play & Extro & Narc & HSAF & HSSE & HSAG & HSSD & PHS\\\\\n",
       "\\hline\n",
       "\t2 & 20   & 3    & F    & N    & N    & 2    & Y    & N    & Y    & 3.95 & ...  & 105  &  3   & 172  & 16   & 11   & 46   & 52   & 26   & 33   & SE  \\\\\n",
       "\t4 & 27   & 3    & F    & Y    & N    & 3    & N    & N    & N    & 2.84 & ...  &  90  &  9   & 160  & 16   & 10   & 51   & 51   & 23   & 19   & SE  \\\\\n",
       "\t6 & 22   & 3    & F    & Y    & N    & 2    & Y    & N    & N    & 2.63 & ...  & 114  & 20   & 133  & 10   &  9   & 40   & 27   & 31   & 28   & AG  \\\\\n",
       "\t8 & 20   & 3    & F    & N    & N    & 1    & Y    & N    & N    & 3.30 & ...  & 142  & 17   & 168  & 16   &  9   & 55   & 45   & 24   & 29   & AF  \\\\\n",
       "\t9 & 22   & 2    & F    & Y    & N    & 1    & N    & N    & N    & 3.02 & ...  & 119  & 16   & 141  & 10   &  9   & 52   & 47   & 32   & 26   & SE  \\\\\n",
       "\\end{tabular}\n"
      ],
      "text/markdown": [
       "\n",
       "| <!--/--> | Age | Yr | Sex | G21 | Corps | Res | Greek | VarsAth | Honor | GPA | ... | Perf | OCD | Play | Extro | Narc | HSAF | HSSE | HSAG | HSSD | PHS |\n",
       "|---|---|---|---|---|---|---|---|---|---|---|---|---|---|---|---|---|---|---|---|---|---|\n",
       "| 2 | 20   | 3    | F    | N    | N    | 2    | Y    | N    | Y    | 3.95 | ...  | 105  |  3   | 172  | 16   | 11   | 46   | 52   | 26   | 33   | SE   |\n",
       "| 4 | 27   | 3    | F    | Y    | N    | 3    | N    | N    | N    | 2.84 | ...  |  90  |  9   | 160  | 16   | 10   | 51   | 51   | 23   | 19   | SE   |\n",
       "| 6 | 22   | 3    | F    | Y    | N    | 2    | Y    | N    | N    | 2.63 | ...  | 114  | 20   | 133  | 10   |  9   | 40   | 27   | 31   | 28   | AG   |\n",
       "| 8 | 20   | 3    | F    | N    | N    | 1    | Y    | N    | N    | 3.30 | ...  | 142  | 17   | 168  | 16   |  9   | 55   | 45   | 24   | 29   | AF   |\n",
       "| 9 | 22   | 2    | F    | Y    | N    | 1    | N    | N    | N    | 3.02 | ...  | 119  | 16   | 141  | 10   |  9   | 52   | 47   | 32   | 26   | SE   |\n",
       "\n"
      ],
      "text/plain": [
       "  Age Yr Sex G21 Corps Res Greek VarsAth Honor GPA  ... Perf OCD Play Extro\n",
       "2 20  3  F   N   N     2   Y     N       Y     3.95 ... 105   3  172  16   \n",
       "4 27  3  F   Y   N     3   N     N       N     2.84 ...  90   9  160  16   \n",
       "6 22  3  F   Y   N     2   Y     N       N     2.63 ... 114  20  133  10   \n",
       "8 20  3  F   N   N     1   Y     N       N     3.30 ... 142  17  168  16   \n",
       "9 22  2  F   Y   N     1   N     N       N     3.02 ... 119  16  141  10   \n",
       "  Narc HSAF HSSE HSAG HSSD PHS\n",
       "2 11   46   52   26   33   SE \n",
       "4 10   51   51   23   19   SE \n",
       "6  9   40   27   31   28   AG \n",
       "8  9   55   45   24   29   AF \n",
       "9  9   52   47   32   26   SE "
      ]
     },
     "metadata": {},
     "output_type": "display_data"
    }
   ],
   "source": [
    "pers <- read.csv('https://faculty.ung.edu/rsinn/data/personality.csv')\n",
    "females <- subset(pers, Sex == 'F')\n",
    "head(females, 5)"
   ]
  },
  {
   "cell_type": "markdown",
   "id": "1fbc6cab-fc1a-41df-adf9-1023979dc230",
   "metadata": {},
   "source": [
    "## Subsetting Males Only\n",
    "\n",
    "We do exactly the same thing for males:"
   ]
  },
  {
   "cell_type": "code",
   "execution_count": 2,
   "id": "83af105f-f4e8-4393-9dfe-8567a0446c9b",
   "metadata": {},
   "outputs": [
    {
     "data": {
      "text/html": [
       "<table>\n",
       "<thead><tr><th></th><th scope=col>Age</th><th scope=col>Yr</th><th scope=col>Sex</th><th scope=col>G21</th><th scope=col>Corps</th><th scope=col>Res</th><th scope=col>Greek</th><th scope=col>VarsAth</th><th scope=col>Honor</th><th scope=col>GPA</th><th scope=col>...</th><th scope=col>Perf</th><th scope=col>OCD</th><th scope=col>Play</th><th scope=col>Extro</th><th scope=col>Narc</th><th scope=col>HSAF</th><th scope=col>HSSE</th><th scope=col>HSAG</th><th scope=col>HSSD</th><th scope=col>PHS</th></tr></thead>\n",
       "<tbody>\n",
       "\t<tr><th scope=row>1</th><td>21  </td><td>2   </td><td>M   </td><td>Y   </td><td>Y   </td><td>1   </td><td>N   </td><td>N   </td><td>N   </td><td>3.23</td><td>... </td><td>105 </td><td>10  </td><td>142 </td><td> 8  </td><td>11  </td><td>41  </td><td>40  </td><td>26  </td><td>27  </td><td>SE  </td></tr>\n",
       "\t<tr><th scope=row>3</th><td>22  </td><td>3   </td><td>M   </td><td>Y   </td><td>N   </td><td>2   </td><td>N   </td><td>N   </td><td>N   </td><td>3.06</td><td>... </td><td> 73 </td><td> 1  </td><td>134 </td><td>15  </td><td>11  </td><td>48  </td><td>42  </td><td>44  </td><td>29  </td><td>AG  </td></tr>\n",
       "\t<tr><th scope=row>5</th><td>24  </td><td>3   </td><td>M   </td><td>Y   </td><td>N   </td><td>2   </td><td>N   </td><td>N   </td><td>N   </td><td>2.39</td><td>... </td><td> 95 </td><td> 5  </td><td>166 </td><td>14  </td><td>10  </td><td>56  </td><td>46  </td><td>27  </td><td>20  </td><td>AF  </td></tr>\n",
       "\t<tr><th scope=row>7</th><td>18  </td><td>1   </td><td>M   </td><td>N   </td><td>Y   </td><td>1   </td><td>N   </td><td>N   </td><td>N   </td><td>3.17</td><td>... </td><td> 49 </td><td>20  </td><td>114 </td><td>10  </td><td> 9  </td><td>56  </td><td>45  </td><td>41  </td><td>38  </td><td>AG  </td></tr>\n",
       "\t<tr><th scope=row>11</th><td>22  </td><td>4   </td><td>M   </td><td>Y   </td><td>N   </td><td>2   </td><td>N   </td><td>Y   </td><td>N   </td><td>3.01</td><td>... </td><td>104 </td><td>11  </td><td>143 </td><td>10  </td><td> 9  </td><td>51  </td><td>54  </td><td>46  </td><td>21  </td><td>AG  </td></tr>\n",
       "</tbody>\n",
       "</table>\n"
      ],
      "text/latex": [
       "\\begin{tabular}{r|llllllllllllllllllllllllllllllllllll}\n",
       "  & Age & Yr & Sex & G21 & Corps & Res & Greek & VarsAth & Honor & GPA & ... & Perf & OCD & Play & Extro & Narc & HSAF & HSSE & HSAG & HSSD & PHS\\\\\n",
       "\\hline\n",
       "\t1 & 21   & 2    & M    & Y    & Y    & 1    & N    & N    & N    & 3.23 & ...  & 105  & 10   & 142  &  8   & 11   & 41   & 40   & 26   & 27   & SE  \\\\\n",
       "\t3 & 22   & 3    & M    & Y    & N    & 2    & N    & N    & N    & 3.06 & ...  &  73  &  1   & 134  & 15   & 11   & 48   & 42   & 44   & 29   & AG  \\\\\n",
       "\t5 & 24   & 3    & M    & Y    & N    & 2    & N    & N    & N    & 2.39 & ...  &  95  &  5   & 166  & 14   & 10   & 56   & 46   & 27   & 20   & AF  \\\\\n",
       "\t7 & 18   & 1    & M    & N    & Y    & 1    & N    & N    & N    & 3.17 & ...  &  49  & 20   & 114  & 10   &  9   & 56   & 45   & 41   & 38   & AG  \\\\\n",
       "\t11 & 22   & 4    & M    & Y    & N    & 2    & N    & Y    & N    & 3.01 & ...  & 104  & 11   & 143  & 10   &  9   & 51   & 54   & 46   & 21   & AG  \\\\\n",
       "\\end{tabular}\n"
      ],
      "text/markdown": [
       "\n",
       "| <!--/--> | Age | Yr | Sex | G21 | Corps | Res | Greek | VarsAth | Honor | GPA | ... | Perf | OCD | Play | Extro | Narc | HSAF | HSSE | HSAG | HSSD | PHS |\n",
       "|---|---|---|---|---|---|---|---|---|---|---|---|---|---|---|---|---|---|---|---|---|---|\n",
       "| 1 | 21   | 2    | M    | Y    | Y    | 1    | N    | N    | N    | 3.23 | ...  | 105  | 10   | 142  |  8   | 11   | 41   | 40   | 26   | 27   | SE   |\n",
       "| 3 | 22   | 3    | M    | Y    | N    | 2    | N    | N    | N    | 3.06 | ...  |  73  |  1   | 134  | 15   | 11   | 48   | 42   | 44   | 29   | AG   |\n",
       "| 5 | 24   | 3    | M    | Y    | N    | 2    | N    | N    | N    | 2.39 | ...  |  95  |  5   | 166  | 14   | 10   | 56   | 46   | 27   | 20   | AF   |\n",
       "| 7 | 18   | 1    | M    | N    | Y    | 1    | N    | N    | N    | 3.17 | ...  |  49  | 20   | 114  | 10   |  9   | 56   | 45   | 41   | 38   | AG   |\n",
       "| 11 | 22   | 4    | M    | Y    | N    | 2    | N    | Y    | N    | 3.01 | ...  | 104  | 11   | 143  | 10   |  9   | 51   | 54   | 46   | 21   | AG   |\n",
       "\n"
      ],
      "text/plain": [
       "   Age Yr Sex G21 Corps Res Greek VarsAth Honor GPA  ... Perf OCD Play Extro\n",
       "1  21  2  M   Y   Y     1   N     N       N     3.23 ... 105  10  142   8   \n",
       "3  22  3  M   Y   N     2   N     N       N     3.06 ...  73   1  134  15   \n",
       "5  24  3  M   Y   N     2   N     N       N     2.39 ...  95   5  166  14   \n",
       "7  18  1  M   N   Y     1   N     N       N     3.17 ...  49  20  114  10   \n",
       "11 22  4  M   Y   N     2   N     Y       N     3.01 ... 104  11  143  10   \n",
       "   Narc HSAF HSSE HSAG HSSD PHS\n",
       "1  11   41   40   26   27   SE \n",
       "3  11   48   42   44   29   AG \n",
       "5  10   56   46   27   20   AF \n",
       "7   9   56   45   41   38   AG \n",
       "11  9   51   54   46   21   AG "
      ]
     },
     "metadata": {},
     "output_type": "display_data"
    }
   ],
   "source": [
    "males <- subset(pers, Sex == 'M')\n",
    "head(males, 5)"
   ]
  },
  {
   "cell_type": "markdown",
   "id": "6262906a-ba5b-4d56-b5dc-0aa9787de08f",
   "metadata": {},
   "source": [
    "## Subsetting a Subset\n",
    "\n",
    "The numeric variable **aggressive humor** is more often used by males than females and correlates negatively with age. To test this, we might wish to obtaina  sample of young females, say younger than 20.\n",
    "\n",
    "The quickest way to accomplish this is use the **females** data frame we already created by subsetting:"
   ]
  },
  {
   "cell_type": "code",
   "execution_count": 3,
   "id": "d3963361-2787-4108-a5a8-605cb6182640",
   "metadata": {},
   "outputs": [],
   "source": [
    "youngfemales <- subset(females, Age < 20)"
   ]
  },
  {
   "cell_type": "markdown",
   "id": "fb58bd04-b105-4be3-ae1a-fd3fc91a9250",
   "metadata": {},
   "source": [
    "We can extract the **HSAG** aggressive humor values as a numeric vector ready for use in statistical tests:"
   ]
  },
  {
   "cell_type": "code",
   "execution_count": 4,
   "id": "c811e4e2-d668-4cd6-a6f9-40841f4a00ff",
   "metadata": {},
   "outputs": [],
   "source": [
    "aghumor_fem <- youngfemales[,'HSAG']"
   ]
  },
  {
   "cell_type": "code",
   "execution_count": 5,
   "id": "2c70f38b-599d-4a61-ac1c-733d669a4ca9",
   "metadata": {},
   "outputs": [
    {
     "data": {
      "text/html": [
       "<ol class=list-inline>\n",
       "\t<li>32</li>\n",
       "\t<li>23</li>\n",
       "\t<li>24</li>\n",
       "\t<li>29</li>\n",
       "\t<li>18</li>\n",
       "\t<li>36</li>\n",
       "\t<li>22</li>\n",
       "\t<li>15</li>\n",
       "</ol>\n"
      ],
      "text/latex": [
       "\\begin{enumerate*}\n",
       "\\item 32\n",
       "\\item 23\n",
       "\\item 24\n",
       "\\item 29\n",
       "\\item 18\n",
       "\\item 36\n",
       "\\item 22\n",
       "\\item 15\n",
       "\\end{enumerate*}\n"
      ],
      "text/markdown": [
       "1. 32\n",
       "2. 23\n",
       "3. 24\n",
       "4. 29\n",
       "5. 18\n",
       "6. 36\n",
       "7. 22\n",
       "8. 15\n",
       "\n",
       "\n"
      ],
      "text/plain": [
       "[1] 32 23 24 29 18 36 22 15"
      ]
     },
     "metadata": {},
     "output_type": "display_data"
    }
   ],
   "source": [
    "head(aghumor_fem,8)"
   ]
  },
  {
   "cell_type": "markdown",
   "id": "000bb88a-6030-44c5-aade-64c74acc7e9c",
   "metadata": {},
   "source": [
    "## Double Subsetting in a Single Command\n",
    "\n",
    "We can use the **AND** operator **&** along with the **OR** operator **|** to conduct mulitple subsetting operations in a single call of the function **subset()**."
   ]
  },
  {
   "cell_type": "code",
   "execution_count": 6,
   "id": "2a01355f-45fc-4527-bd02-7f119a38d1e4",
   "metadata": {},
   "outputs": [
    {
     "data": {
      "text/html": [
       "<table>\n",
       "<thead><tr><th></th><th scope=col>Age</th><th scope=col>Sex</th><th scope=col>HSAG</th></tr></thead>\n",
       "<tbody>\n",
       "\t<tr><th scope=row>25</th><td>19</td><td>F </td><td>32</td></tr>\n",
       "\t<tr><th scope=row>28</th><td>19</td><td>F </td><td>23</td></tr>\n",
       "\t<tr><th scope=row>30</th><td>19</td><td>F </td><td>24</td></tr>\n",
       "\t<tr><th scope=row>32</th><td>19</td><td>F </td><td>29</td></tr>\n",
       "\t<tr><th scope=row>34</th><td>18</td><td>F </td><td>18</td></tr>\n",
       "\t<tr><th scope=row>41</th><td>19</td><td>F </td><td>36</td></tr>\n",
       "\t<tr><th scope=row>43</th><td>19</td><td>F </td><td>22</td></tr>\n",
       "\t<tr><th scope=row>44</th><td>19</td><td>F </td><td>15</td></tr>\n",
       "</tbody>\n",
       "</table>\n"
      ],
      "text/latex": [
       "\\begin{tabular}{r|lll}\n",
       "  & Age & Sex & HSAG\\\\\n",
       "\\hline\n",
       "\t25 & 19 & F  & 32\\\\\n",
       "\t28 & 19 & F  & 23\\\\\n",
       "\t30 & 19 & F  & 24\\\\\n",
       "\t32 & 19 & F  & 29\\\\\n",
       "\t34 & 18 & F  & 18\\\\\n",
       "\t41 & 19 & F  & 36\\\\\n",
       "\t43 & 19 & F  & 22\\\\\n",
       "\t44 & 19 & F  & 15\\\\\n",
       "\\end{tabular}\n"
      ],
      "text/markdown": [
       "\n",
       "| <!--/--> | Age | Sex | HSAG |\n",
       "|---|---|---|---|\n",
       "| 25 | 19 | F  | 32 |\n",
       "| 28 | 19 | F  | 23 |\n",
       "| 30 | 19 | F  | 24 |\n",
       "| 32 | 19 | F  | 29 |\n",
       "| 34 | 18 | F  | 18 |\n",
       "| 41 | 19 | F  | 36 |\n",
       "| 43 | 19 | F  | 22 |\n",
       "| 44 | 19 | F  | 15 |\n",
       "\n"
      ],
      "text/plain": [
       "   Age Sex HSAG\n",
       "25 19  F   32  \n",
       "28 19  F   23  \n",
       "30 19  F   24  \n",
       "32 19  F   29  \n",
       "34 18  F   18  \n",
       "41 19  F   36  \n",
       "43 19  F   22  \n",
       "44 19  F   15  "
      ]
     },
     "metadata": {},
     "output_type": "display_data"
    }
   ],
   "source": [
    "aghumor_fem <- subset(pers, Sex == 'F' & Age < 20)\n",
    "\n",
    "## Selecting relevant columns for ease of inspection\n",
    "aghumor_fem <- aghumor_fem[,c('Age','Sex', 'HSAG')]\n",
    "\n",
    "head(aghumor_fem, 8)"
   ]
  },
  {
   "cell_type": "markdown",
   "id": "292b6764-1d6b-4123-957d-2d52aee95d7c",
   "metadata": {},
   "source": [
    "If we desire to compare young females and young males on the variable **HSAG**, the subsetting could utilize the **OR** operator which is a vertical line **|**. The savvy student will notice that easier ways exist to accomplish this specific task, but the example below illustrates\n",
    "\n",
    "- Three or more subsetting criteria may be utilized in one call of the functions **subset()**, and\n",
    "- The OR operator usage."
   ]
  },
  {
   "cell_type": "code",
   "execution_count": 7,
   "id": "28d19a8b-cc4e-43c0-9247-09b1b3b08cf2",
   "metadata": {},
   "outputs": [
    {
     "data": {
      "text/html": [
       "<table>\n",
       "<thead><tr><th></th><th scope=col>Age</th><th scope=col>Sex</th><th scope=col>HSAG</th></tr></thead>\n",
       "<tbody>\n",
       "\t<tr><th scope=row>2</th><td>20</td><td>F </td><td>26</td></tr>\n",
       "\t<tr><th scope=row>4</th><td>27</td><td>F </td><td>23</td></tr>\n",
       "\t<tr><th scope=row>6</th><td>22</td><td>F </td><td>31</td></tr>\n",
       "\t<tr><th scope=row>7</th><td>18</td><td>M </td><td>41</td></tr>\n",
       "\t<tr><th scope=row>8</th><td>20</td><td>F </td><td>24</td></tr>\n",
       "\t<tr><th scope=row>9</th><td>22</td><td>F </td><td>32</td></tr>\n",
       "\t<tr><th scope=row>10</th><td>20</td><td>F </td><td>32</td></tr>\n",
       "\t<tr><th scope=row>12</th><td>20</td><td>F </td><td>30</td></tr>\n",
       "</tbody>\n",
       "</table>\n"
      ],
      "text/latex": [
       "\\begin{tabular}{r|lll}\n",
       "  & Age & Sex & HSAG\\\\\n",
       "\\hline\n",
       "\t2 & 20 & F  & 26\\\\\n",
       "\t4 & 27 & F  & 23\\\\\n",
       "\t6 & 22 & F  & 31\\\\\n",
       "\t7 & 18 & M  & 41\\\\\n",
       "\t8 & 20 & F  & 24\\\\\n",
       "\t9 & 22 & F  & 32\\\\\n",
       "\t10 & 20 & F  & 32\\\\\n",
       "\t12 & 20 & F  & 30\\\\\n",
       "\\end{tabular}\n"
      ],
      "text/markdown": [
       "\n",
       "| <!--/--> | Age | Sex | HSAG |\n",
       "|---|---|---|---|\n",
       "| 2 | 20 | F  | 26 |\n",
       "| 4 | 27 | F  | 23 |\n",
       "| 6 | 22 | F  | 31 |\n",
       "| 7 | 18 | M  | 41 |\n",
       "| 8 | 20 | F  | 24 |\n",
       "| 9 | 22 | F  | 32 |\n",
       "| 10 | 20 | F  | 32 |\n",
       "| 12 | 20 | F  | 30 |\n",
       "\n"
      ],
      "text/plain": [
       "   Age Sex HSAG\n",
       "2  20  F   26  \n",
       "4  27  F   23  \n",
       "6  22  F   31  \n",
       "7  18  M   41  \n",
       "8  20  F   24  \n",
       "9  22  F   32  \n",
       "10 20  F   32  \n",
       "12 20  F   30  "
      ]
     },
     "metadata": {},
     "output_type": "display_data"
    }
   ],
   "source": [
    "aghumor <- subset(pers, Sex == 'F' | Sex == 'M' & Age < 20)\n",
    "\n",
    "## Selecting relevant columns for ease of inspection\n",
    "aghumor <- aghumor[,c('Age','Sex', 'HSAG')]\n",
    "\n",
    "head(aghumor, 8)"
   ]
  },
  {
   "cell_type": "code",
   "execution_count": null,
   "id": "9ae39b61-8345-4352-916a-4026f2511ccb",
   "metadata": {},
   "outputs": [],
   "source": []
  }
 ],
 "metadata": {
  "kernelspec": {
   "display_name": "R",
   "language": "R",
   "name": "ir"
  },
  "language_info": {
   "codemirror_mode": "r",
   "file_extension": ".r",
   "mimetype": "text/x-r-source",
   "name": "R",
   "pygments_lexer": "r",
   "version": "3.6.1"
  }
 },
 "nbformat": 4,
 "nbformat_minor": 5
}