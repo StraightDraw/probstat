{
 "cells": [
  {
   "cell_type": "markdown",
   "id": "f6858e48-b719-45e7-a3b9-562f7d3de657",
   "metadata": {},
   "source": [
    "# Outliers\n",
    "\n",
    "If outliers exist in a data set, we need to know how many outliers exist and whether they are above or below the mean. We need some data to work with:"
   ]
  },
  {
   "cell_type": "code",
   "execution_count": 1,
   "id": "9041507a-2c8f-4746-90ee-0c2990d58d89",
   "metadata": {},
   "outputs": [],
   "source": [
    "pers <- read.csv('https://faculty.ung.edu/rsinn/data/personality.csv')\n",
    "age <- pers$Age\n",
    "thrill <- pers$Thrill"
   ]
  },
  {
   "cell_type": "markdown",
   "id": "96ad0551-b6a3-462d-ba0e-e107a470881e",
   "metadata": {},
   "source": [
    "## One Code Block to Rule Them All\n",
    "\n",
    "We provide examples with clarifications below."
   ]
  },
  {
   "cell_type": "code",
   "execution_count": 2,
   "id": "bba84b34-959a-48bd-a858-5ecd13e3a102",
   "metadata": {},
   "outputs": [
    {
     "name": "stdout",
     "output_type": "stream",
     "text": [
      "Outliers for the AGE data using the 2 standard deviation rule:\n",
      "    3  to the right, and \n",
      "    0  to the left.\n",
      "\n"
     ]
    },
    {
     "name": "stdout",
     "output_type": "stream",
     "text": [
      "Outliers for the AGE data using the Box Plot method:\n",
      "    9  to the right, and \n",
      "    0  to the left."
     ]
    }
   ],
   "source": [
    "cat('Outliers for the AGE data using the 2 standard deviation rule:\\n   ',sum(age > mean(age) + 2 * sd(age)), \n",
    "    ' to the right, and','\\n   ', sum(age < mean(age) - 2 * sd(age)) , ' to the left.\\n\\n')\n",
    "\n",
    "Q1 <- quantile(age)[[\"25%\"]] ; Q3 <- quantile(age)[[\"75%\"]] ; IQR <- Q3 - Q1\n",
    "\n",
    "cat('Outliers for the AGE data using the Box Plot method:\\n   ',sum(age > Q3 + 1.5 * IQR), \n",
    "    ' to the right, and','\\n   ', sum(age < Q1 - 1.5 * IQR) , ' to the left.')"
   ]
  },
  {
   "cell_type": "code",
   "execution_count": null,
   "id": "e62e346b-7cf5-4fc8-a73e-1fa1c2f29948",
   "metadata": {},
   "outputs": [],
   "source": []
  },
  {
   "cell_type": "code",
   "execution_count": 3,
   "id": "18ca9884-9751-4af6-9fcf-f7bfe32241a8",
   "metadata": {},
   "outputs": [
    {
     "name": "stdout",
     "output_type": "stream",
     "text": [
      "Outliers for the THRILL data using the 2 standard deviation rule:\n",
      "    0  to the right, and \n",
      "    1  to the left.\n",
      "\n"
     ]
    },
    {
     "name": "stdout",
     "output_type": "stream",
     "text": [
      "Outliers for the THRILL data using the Box Plot method:\n",
      "    0  to the right, and \n",
      "    0  to the left."
     ]
    }
   ],
   "source": [
    "cat('Outliers for the THRILL data using the 2 standard deviation rule:\\n   ',sum(thrill > mean(thrill) + 2 * sd(thrill)), \n",
    "    ' to the right, and','\\n   ', sum(thrill < mean(thrill) - 2 * sd(thrill)) , ' to the left.\\n\\n')\n",
    "\n",
    "Q1 <- quantile(thrill)[[\"25%\"]] ; Q3 <- quantile(thrill)[[\"75%\"]] ; IQR <- Q3 - Q1\n",
    "\n",
    "cat('Outliers for the THRILL data using the Box Plot method:\\n   ',sum(thrill > Q3 + 1.5 * IQR), \n",
    "    ' to the right, and','\\n   ', sum(thrill < Q1 - 1.5 * IQR) , ' to the left.')"
   ]
  },
  {
   "cell_type": "markdown",
   "id": "d8cefb7e-4e66-4fd6-97de-0f1c31d463e0",
   "metadata": {},
   "source": [
    "## Outliers by Mean and Standard Deviation\n",
    "\n",
    "To implement the 2 standard deviation rule for outliers, typically used for small data sets, we do the following."
   ]
  },
  {
   "cell_type": "code",
   "execution_count": 4,
   "id": "681efd73-0596-419c-96e1-bc1cd8ab32df",
   "metadata": {},
   "outputs": [
    {
     "name": "stdout",
     "output_type": "stream",
     "text": [
      "Outliers for the AGE data using the 2 standard deviation rule:\n",
      "    3  to the right, and \n",
      "    0  to the left."
     ]
    }
   ],
   "source": [
    "cat('Outliers for the AGE data using the 2 standard deviation rule:\\n   ',sum(age > mean(age) + 2 * sd(age)), \n",
    "    ' to the right, and','\\n   ', sum(age < mean(age) - 2 * sd(age)) , ' to the left.')"
   ]
  },
  {
   "cell_type": "markdown",
   "id": "5effbce7-eb3c-4211-8c02-513572526c1c",
   "metadata": {},
   "source": [
    "## Outliers Using 5-Number Summary\n",
    "\n",
    "We calculate the fences as follows:\n",
    "- Upper Fence = Q3 + 1.5 * IQR\n",
    "- Lower Fence = Q1 - 1.5 * IQR\n",
    "\n",
    "To implement the Box Plot method for outliers, we do the following."
   ]
  },
  {
   "cell_type": "code",
   "execution_count": 5,
   "id": "4fa500cb-3d72-4f0f-9f75-752e44da6f2b",
   "metadata": {},
   "outputs": [
    {
     "name": "stdout",
     "output_type": "stream",
     "text": [
      "Outliers for the AGE data using the Box Plot method:\n",
      "    2  to the right, and \n",
      "    0  to the left."
     ]
    }
   ],
   "source": [
    "Q1 <- quantile(thrill)[[\"25%\"]] ; Q3 <- quantile(thrill)[[\"75%\"]] ; IQR <- Q3 - Q1\n",
    "## Now that we've calculated the needed values, we have:\n",
    "cat('Outliers for the AGE data using the Box Plot method:\\n   ',sum(age > Q3 + 1.5 * IQR), \n",
    "    ' to the right, and','\\n   ', sum(age < Q1 - 1.5 * IQR) , ' to the left.')"
   ]
  },
  {
   "cell_type": "code",
   "execution_count": null,
   "id": "e0c22c3d-7b0b-41b9-8a3c-e67f22986303",
   "metadata": {},
   "outputs": [],
   "source": []
  }
 ],
 "metadata": {
  "kernelspec": {
   "display_name": "R",
   "language": "R",
   "name": "ir"
  },
  "language_info": {
   "codemirror_mode": "r",
   "file_extension": ".r",
   "mimetype": "text/x-r-source",
   "name": "R",
   "pygments_lexer": "r",
   "version": "3.6.1"
  }
 },
 "nbformat": 4,
 "nbformat_minor": 5
}