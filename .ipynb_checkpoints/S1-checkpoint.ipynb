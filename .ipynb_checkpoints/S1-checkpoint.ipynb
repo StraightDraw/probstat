{
 "cells": [
  {
   "cell_type": "markdown",
   "id": "inner-charge",
   "metadata": {},
   "source": [
    "# Basics of Statistics and R"
   ]
  },
  {
   "cell_type": "markdown",
   "id": "arabic-pathology",
   "metadata": {},
   "source": [
    "Two key questions for exploratory data in statistics are:\n",
    "\n",
    "1. Shape?\n",
    "2. Outliers/skew?\n",
    "\n",
    "For shape, we would like to know if the distribution appears to be uniform, exponential, binomial, bell-shaped or a fit with another common pattern. The key distribution in statistics is the **normal** (or bell-shaped) distribution. A *uniform* distribution is where all outcomes are equally likely? We have looked at distributions like the binomial, hypergeometric, geometric and negative binomial distributions. The most significant shape for introductory statistics is the<span style=\"color: purple\"><b> normal distribution </b></span>since parametric statistical tests like the $z$-test, the $t$-test, ANOVA, and regression are built on assumptions of normality.\n",
    "\n",
    "The second question we need to ask:<span style=\"color: purple\"><b> do skew and outliers exist? </b></span>We need to know because we often must treat skewed data and data with outliers with great care and possibly different tools. The first steps of data analysis are to generate numeric descriptions of the data (descriptive statistics) and typical graphical displays of data like histograms, stem plots."
   ]
  },
  {
   "cell_type": "markdown",
   "id": "3ad653ab-30fe-44d7-8f65-6237b86fdce8",
   "metadata": {},
   "source": [
    "```{sidebar} Data Visualization \n",
    "Data scientists use more robust analytic tools and have entire courses on data visualization which is the art of creating visual displays that tell a story about the data. To understand more about the groundbreaking work in data science, check out several data visualizations at the Pew Research Center regarding [political beliefs in the US](https://www.pewresearch.org/fact-tank/2014/12/29/our-favorite-pew-research-center-data-visualizations-from-2014). Also check out this [blog post](https://visme.co/blog/best-data-visualizations) where data science and artwork intersect</a> or this marketing blog with [16 great examples](https://blog.hubspot.com/marketing/great-data-visualization-examples) of data visualizations. As data science progresses, more and more exciting avenues exist for displaying and visualizing data. In this course, we will provide the basic numeric and graphic approaches to summarizing data. You're learning some R coding along the way. By the end of this course, if you're interested, a few hours will be all you will need to teach yourself to produce some pretty powerful visualizations of your own with RStudio.\n",
    "```"
   ]
  },
  {
   "cell_type": "markdown",
   "id": "formed-council",
   "metadata": {},
   "source": [
    "## Types of Data\n",
    "Data come in two varieties: **quantitative** (numeric) or **qualitative** (categorical) data. Poker player Pete plays Heads Up tournaments with a 20 dollar buy-in (HU20). These two-player tournaments take less than half an hour where he either loses 21, or wins 19. (The online casino takes a cut of each tournament buy-in, called the *rake*.) Pete's HU20 win-loss record is *category data*, a series of W's and L's.\n",
    "\n",
    "Pete's friend Mandy, a math major with a data science minor at North Georgia, enjoys 6-max NL10, an action-intensive version of No Limit Texas Holdem with a maximum of 6 players at the table rather than the standard 9 or 10 players per table. Mandy's list of winnings from her past twenty cash game sessions is *numeric data*.\n",
    "\n",
    "For numeric data sets, we have a **sample** of $n$ data points:"
   ]
  },
  {
   "cell_type": "markdown",
   "id": "1698aa99-3860-4a16-9e2f-8022099205f2",
   "metadata": {},
   "source": [
    "$$\n",
    "\\left\\{x_{1},x_{2},\\dots, x_{n}\\right\\} \\in X\n",
    "$$"
   ]
  },
  {
   "cell_type": "markdown",
   "id": "44d4adcd-8eee-49b4-bbac-34a1c49b3587",
   "metadata": {
    "tags": []
   },
   "source": [
    "## Parameters and Statistics\n",
    "\n",
    "In statistics, we use two different sets of symbols to refer to the mean and standard deviation:"
   ]
  },
  {
   "cell_type": "markdown",
   "id": "3a2bcc86-c3cd-463c-982e-64a019610450",
   "metadata": {},
   "source": [
    "$$\n",
    "\\begin{array}{c|cc}\n",
    "&\\text{Population}&\\text{Sample}\\\\ \\hline\n",
    "\\text{AVG}&\\mu&\\bar{x}\\\\\n",
    "\\text{SD}&\\sigma& s\\\\\n",
    "\\end{array}\n",
    "$$"
   ]
  },
  {
   "cell_type": "markdown",
   "id": "016b0a88-71a8-4755-9569-a52e1ace8dc4",
   "metadata": {},
   "source": [
    "The population parameters $\\mu$ and $\\sigma$ are rarely known. Much of statistics is about estimating these parameters using the sample statistics $\\bar{x}$ and $s$ respectively. For example, a poker player's distribution of winnings (per 100 hands) is a normal distribution. True win rates are not known. Winning poker players often suffer long colds streaks. Over time, things average out. We don't know Mandy's average win rate, $\\mu$, but we can take sample of recent sessions and estimate it with $\\bar{x}$."
   ]
  },
  {
   "cell_type": "markdown",
   "id": "dd5689b6-f5a6-43fd-ad34-f7118eadf9c2",
   "metadata": {},
   "source": [
    "```{admonition} Example 15\n",
    "Suppose that Mandy's winnings from her most recent 20 cash poker sessions is given in the table below. Let's find the descriptive statistics and plot some standard statistical graphics using this data.\n",
    "```\n",
    "\n",
    "<table style=\"width:60%\">\n",
    "  <tr>\n",
    "    <td style='text-align:center; vertical-align:middle'>28</td>\n",
    "    <td style='text-align:center; vertical-align:middle'>11</td>\n",
    "    <td style='text-align:center; vertical-align:middle'>18</td>\n",
    "    <td style='text-align:center; vertical-align:middle'>35</td>\n",
    "    <td style='text-align:center; vertical-align:middle'>36</td>\n",
    "    <td style='text-align:center; vertical-align:middle'>6</td>\n",
    "    <td style='text-align:center; vertical-align:middle'>-38</td>\n",
    "    <td style='text-align:center; vertical-align:middle'>14</td>\n",
    "    <td style='text-align:center; vertical-align:middle'>-19</td>\n",
    "    <td style='text-align:center; vertical-align:middle'>43</td>\n",
    "  </tr>\n",
    "  <tr>\n",
    "    <td style='text-align:center; vertical-align:middle'>-14</td>\n",
    "    <td style='text-align:center; vertical-align:middle'>-30</td>\n",
    "    <td style='text-align:center; vertical-align:middle'>-16</td>\n",
    "    <td style='text-align:center; vertical-align:middle'>-25</td>\n",
    "    <td style='text-align:center; vertical-align:middle'>0</td>\n",
    "    <td style='text-align:center; vertical-align:middle'>40</td>\n",
    "    <td style='text-align:center; vertical-align:middle'>16</td>\n",
    "    <td style='text-align:center; vertical-align:middle'>-79</td>\n",
    "    <td style='text-align:center; vertical-align:middle'>3</td>\n",
    "    <td style='text-align:center; vertical-align:middle'>1</td>\n",
    "  </tr>\n",
    "</table>"
   ]
  },
  {
   "cell_type": "markdown",
   "id": "0e155d80-3da3-40dc-a2c8-40cfa2400b37",
   "metadata": {},
   "source": [
    "We use the concatenate function **c** to create the vector of integers needed as shown below:"
   ]
  },
  {
   "cell_type": "code",
   "execution_count": 6,
   "id": "a167a180-a00b-4891-aea6-9f6c8c698dbc",
   "metadata": {},
   "outputs": [],
   "source": [
    "W <- c( 28, 11, 18, 35, 36, 6, -38, 14, -19, 43, -14, -30, -16, -25, 0, 40, 16, -79, 3, 11)"
   ]
  },
  {
   "cell_type": "code",
   "execution_count": 7,
   "id": "b5faa646-d4a7-4bed-9b3a-5db2af6254fd",
   "metadata": {},
   "outputs": [],
   "source": [
    "m <- mean(W)"
   ]
  },
  {
   "cell_type": "code",
   "execution_count": 8,
   "id": "94a63d98-0606-4c77-8e1f-2d50cc83af29",
   "metadata": {},
   "outputs": [],
   "source": [
    "s <- sd(W)"
   ]
  },
  {
   "cell_type": "code",
   "execution_count": 9,
   "id": "8b874476-9ad4-4eed-9fd3-f69e13dfcc6a",
   "metadata": {},
   "outputs": [
    {
     "name": "stdout",
     "output_type": "stream",
     "text": [
      "For this data, we have: \n",
      "mean = 2 \n",
      "standard deviation = 30.57347 \n",
      "\n",
      "The five number summary is shown below."
     ]
    },
    {
     "data": {
      "text/plain": [
       "   Min. 1st Qu.  Median    Mean 3rd Qu.    Max. \n",
       " -79.00  -16.75    8.50    2.00   20.50   43.00 "
      ]
     },
     "metadata": {},
     "output_type": "display_data"
    }
   ],
   "source": [
    "cat (\"For this data, we have: \\nmean =\", m, \"\\nstandard deviation =\", s,\"\\n\\nThe five number summary is shown below.\")\n",
    "summary(W)"
   ]
  },
  {
   "cell_type": "code",
   "execution_count": 10,
   "id": "0a5f5929-f2cd-4d2e-b950-1af8fc4bf06d",
   "metadata": {},
   "outputs": [
    {
     "data": {
      "image/png": "[encoded data removed]",
      "text/plain": [
       "Plot with title \"Histogram of W\""
      ]
     },
     "metadata": {},
     "output_type": "display_data"
    }
   ],
   "source": [
    "hist(W)"
   ]
  },
  {
   "cell_type": "code",
   "execution_count": null,
   "id": "a076c7ca-7832-4798-905c-3328e8566301",
   "metadata": {},
   "outputs": [],
   "source": []
  }
 ],
 "metadata": {
  "kernelspec": {
   "display_name": "R",
   "language": "R",
   "name": "ir"
  },
  "language_info": {
   "codemirror_mode": "r",
   "file_extension": ".r",
   "mimetype": "text/x-r-source",
   "name": "R",
   "pygments_lexer": "r",
   "version": "3.6.1"
  }
 },
 "nbformat": 4,
 "nbformat_minor": 5
}
