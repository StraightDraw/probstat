{
 "cells": [
  {
   "cell_type": "markdown",
   "id": "caae7212-e78f-4564-91d3-8c69c4eba0d7",
   "metadata": {},
   "source": [
    "# Helpful Code\n",
    "\n",
    "The very basics of R code are demonstrated below:\n",
    "\n",
    "1. Importing data from a URL\n",
    "2. Calculating and Displaying the Standard Descriptives and the 5-Number Summary\n",
    "3. Using the **cat()** function to print text and code output together with some formatting options.\n",
    "4. We also include helpful commands, for example, the code that creates functions for\n",
    "    - Permutations\n",
    "    - Combinations"
   ]
  },
  {
   "cell_type": "markdown",
   "id": "27cd607f-aa84-4c6f-a88a-0dcacbeab75b",
   "metadata": {},
   "source": [
    "## Importing Data from a URL\n",
    "\n",
    "Many data sets are available on the internet in CSV format. The **read.csv()** function is very useful:\n",
    "\n",
    "1. A URL is its input.\n",
    "2. From the URL, R downloads the CSV file.\n",
    "3. From the CSV, R imports the file as a data frame.\n",
    "\n",
    "A typical example is shown below along with extracting the column Sleep as the data vector **s**:"
   ]
  },
  {
   "cell_type": "code",
   "execution_count": 1,
   "id": "fe0e53ef-419d-423c-bf2c-1bd1a00df184",
   "metadata": {},
   "outputs": [
    {
     "data": {
      "text/html": [
       "<table>\n",
       "<thead><tr><th scope=col>Age</th><th scope=col>Yr</th><th scope=col>Sex</th><th scope=col>G21</th><th scope=col>Corps</th><th scope=col>Res</th><th scope=col>Greek</th><th scope=col>VarsAth</th><th scope=col>Honor</th><th scope=col>GPA</th><th scope=col>...</th><th scope=col>Perf</th><th scope=col>OCD</th><th scope=col>Play</th><th scope=col>Extro</th><th scope=col>Narc</th><th scope=col>HSAF</th><th scope=col>HSSE</th><th scope=col>HSAG</th><th scope=col>HSSD</th><th scope=col>PHS</th></tr></thead>\n",
       "<tbody>\n",
       "\t<tr><td>21  </td><td>2   </td><td>M   </td><td>Y   </td><td>Y   </td><td>1   </td><td>N   </td><td>N   </td><td>N   </td><td>3.23</td><td>... </td><td>105 </td><td>10  </td><td>142 </td><td> 8  </td><td>11  </td><td>41  </td><td>40  </td><td>26  </td><td>27  </td><td>SE  </td></tr>\n",
       "\t<tr><td>20  </td><td>3   </td><td>F   </td><td>N   </td><td>N   </td><td>2   </td><td>Y   </td><td>N   </td><td>Y   </td><td>3.95</td><td>... </td><td>105 </td><td> 3  </td><td>172 </td><td>16  </td><td>11  </td><td>46  </td><td>52  </td><td>26  </td><td>33  </td><td>SE  </td></tr>\n",
       "\t<tr><td>22  </td><td>3   </td><td>M   </td><td>Y   </td><td>N   </td><td>2   </td><td>N   </td><td>N   </td><td>N   </td><td>3.06</td><td>... </td><td> 73 </td><td> 1  </td><td>134 </td><td>15  </td><td>11  </td><td>48  </td><td>42  </td><td>44  </td><td>29  </td><td>AG  </td></tr>\n",
       "</tbody>\n",
       "</table>\n"
      ],
      "text/latex": [
       "\\begin{tabular}{r|llllllllllllllllllllllllllllllllllll}\n",
       " Age & Yr & Sex & G21 & Corps & Res & Greek & VarsAth & Honor & GPA & ... & Perf & OCD & Play & Extro & Narc & HSAF & HSSE & HSAG & HSSD & PHS\\\\\n",
       "\\hline\n",
       "\t 21   & 2    & M    & Y    & Y    & 1    & N    & N    & N    & 3.23 & ...  & 105  & 10   & 142  &  8   & 11   & 41   & 40   & 26   & 27   & SE  \\\\\n",
       "\t 20   & 3    & F    & N    & N    & 2    & Y    & N    & Y    & 3.95 & ...  & 105  &  3   & 172  & 16   & 11   & 46   & 52   & 26   & 33   & SE  \\\\\n",
       "\t 22   & 3    & M    & Y    & N    & 2    & N    & N    & N    & 3.06 & ...  &  73  &  1   & 134  & 15   & 11   & 48   & 42   & 44   & 29   & AG  \\\\\n",
       "\\end{tabular}\n"
      ],
      "text/markdown": [
       "\n",
       "| Age | Yr | Sex | G21 | Corps | Res | Greek | VarsAth | Honor | GPA | ... | Perf | OCD | Play | Extro | Narc | HSAF | HSSE | HSAG | HSSD | PHS |\n",
       "|---|---|---|---|---|---|---|---|---|---|---|---|---|---|---|---|---|---|---|---|---|\n",
       "| 21   | 2    | M    | Y    | Y    | 1    | N    | N    | N    | 3.23 | ...  | 105  | 10   | 142  |  8   | 11   | 41   | 40   | 26   | 27   | SE   |\n",
       "| 20   | 3    | F    | N    | N    | 2    | Y    | N    | Y    | 3.95 | ...  | 105  |  3   | 172  | 16   | 11   | 46   | 52   | 26   | 33   | SE   |\n",
       "| 22   | 3    | M    | Y    | N    | 2    | N    | N    | N    | 3.06 | ...  |  73  |  1   | 134  | 15   | 11   | 48   | 42   | 44   | 29   | AG   |\n",
       "\n"
      ],
      "text/plain": [
       "  Age Yr Sex G21 Corps Res Greek VarsAth Honor GPA  ... Perf OCD Play Extro\n",
       "1 21  2  M   Y   Y     1   N     N       N     3.23 ... 105  10  142   8   \n",
       "2 20  3  F   N   N     2   Y     N       Y     3.95 ... 105   3  172  16   \n",
       "3 22  3  M   Y   N     2   N     N       N     3.06 ...  73   1  134  15   \n",
       "  Narc HSAF HSSE HSAG HSSD PHS\n",
       "1 11   41   40   26   27   SE \n",
       "2 11   46   52   26   33   SE \n",
       "3 11   48   42   44   29   AG "
      ]
     },
     "metadata": {},
     "output_type": "display_data"
    }
   ],
   "source": [
    "pers <- read.csv('https://faculty.ung.edu/rsinn/data/personality.csv')\n",
    "head(pers,3)\n",
    "s <- pers$Sleep"
   ]
  },
  {
   "cell_type": "markdown",
   "id": "5624230c-2dd3-474e-b9ad-d4e5ab1b3de4",
   "metadata": {},
   "source": [
    "## Standard Descriptives and cat()\n",
    "\n",
    "We offer the following code from the Descriptive Statistics section. This bit is quite helpful in many cases, especially during explartory data analsyis."
   ]
  },
  {
   "cell_type": "code",
   "execution_count": 2,
   "id": "79c377cc-7af2-455c-a5c3-37a4c6c13bb7",
   "metadata": {},
   "outputs": [
    {
     "name": "stdout",
     "output_type": "stream",
     "text": [
      "The standard descriptives for SLEEP\n",
      "   Mean =  6.24 \n",
      "   Standard Deviation =  2.13 \n",
      "   Sample Size =  129 \n",
      "\n",
      "The 5-number summary for SLEEEP"
     ]
    },
    {
     "data": {
      "text/plain": [
       "   Min. 1st Qu.  Median    Mean 3rd Qu.    Max. \n",
       "   0.50    5.00    6.50    6.24    7.50   11.00 "
      ]
     },
     "metadata": {},
     "output_type": "display_data"
    }
   ],
   "source": [
    "cat('The standard descriptives for SLEEP\\n   Mean = ', round(mean(s),2),\n",
    "    '\\n   Standard Deviation = ', round(sd(s),2),\n",
    "    '\\n   Sample Size = ', length(s),\n",
    "    '\\n\\nThe 5-number summary for SLEEEP')\n",
    "summary(s)"
   ]
  },
  {
   "cell_type": "markdown",
   "id": "cd61a71b-2199-445f-9d30-f4c886ae7ca6",
   "metadata": {},
   "source": [
    "## Combination and Permutations\n",
    "\n",
    "In probability problem-solving, we often need to evaluate combinations and permutations in R. Below is the code we use to create these functions."
   ]
  },
  {
   "cell_type": "code",
   "execution_count": 3,
   "id": "da162543-acd3-4ec0-a673-93dbca930a35",
   "metadata": {},
   "outputs": [],
   "source": [
    "combin <- function(n, k) {\n",
    "    return(factorial(n) / ( factorial(k)*factorial(n-k) )) }\n",
    "perm <- function(n, k) {\n",
    "    return(combin(n,k) * factorial(k))}"
   ]
  },
  {
   "cell_type": "code",
   "execution_count": null,
   "id": "d837962e-47dd-402a-a0cc-1a06488dac4d",
   "metadata": {},
   "outputs": [],
   "source": []
  }
 ],
 "metadata": {
  "kernelspec": {
   "display_name": "R",
   "language": "R",
   "name": "ir"
  },
  "language_info": {
   "codemirror_mode": "r",
   "file_extension": ".r",
   "mimetype": "text/x-r-source",
   "name": "R",
   "pygments_lexer": "r",
   "version": "3.6.1"
  }
 },
 "nbformat": 4,
 "nbformat_minor": 5
}