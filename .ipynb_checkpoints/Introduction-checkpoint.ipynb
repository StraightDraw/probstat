{
 "cells": [
  {
   "cell_type": "markdown",
   "metadata": {},
   "source": [
    "# <center> Course Notes: Probability and Statistics </center>"
   ]
  },
  {
   "cell_type": "markdown",
   "metadata": {},
   "source": [
    "## Instructor and Author\n",
    "**Robb Sinn, Spring 2005**\n",
    "\n",
    "**University of North Georgia, MATH 3350**"
   ]
  },
  {
   "cell_type": "markdown",
   "metadata": {},
   "source": [
    "The pages within this website comprise the course notes for Dr. Sinn's Probability and Statistics course (MATH 3350) at the University of North Georgia. These notes are used in lieu of a textbook."
   ]
  },
  {
   "cell_type": "markdown",
   "metadata": {},
   "source": [
    "To help us learn probability and statistics concepts, we will be using the software **R** this semester. We can use R in the UNG datahub, free to all students and accessible using your UNG credentials. You may also wish to download Rstudio for your own laptop. Since R is open-source freeware, there is no cost. However, we can always work in **R** using the UNG datahub from any computer, tablet or smartphone (e.g. any device that has a browser and a connection to the internet)."
   ]
  },
  {
   "cell_type": "markdown",
   "metadata": {},
   "source": [
    "Your professor will provide the installation details in class, if you wish to use **R**. If students have a working knowledge of **Python**, they will be able to use that as well."
   ]
  },
  {
   "cell_type": "markdown",
   "metadata": {},
   "source": [
    "## Acknowledgements\n",
    "\n",
    "While I have created most of the content herein, I do have several colleagues whose teaching techniques, class examples and code I have been inspired by over the years. Their work is woven into my own, and they deserve credit for it. My UNG colleagues have been amazing, and many thanks to them:\n",
    "\n",
    "- Dr. Dianna Spence\n",
    "- Dr. Brad Bailey\n",
    "- Prof. Gregg Velatini\n",
    "\n",
    "I have also drawn inspiration from the creators and developers of the **mosaic package** in R and those who have extended its functionality to improve the teaching and learning of both statistics and R. With no way to list or thank everyone involved, the work of the following three was especially appreciated:\n",
    "\n",
    "- Randall Pruim\n",
    "- Daniel T. Kaplan\n",
    "- Nicholas J. Horton"
   ]
  }
 ],
 "metadata": {
  "kernelspec": {
   "display_name": "Python 3 (ipykernel)",
   "language": "python",
   "name": "python3"
  },
  "language_info": {
   "codemirror_mode": {
    "name": "ipython",
    "version": 3
   },
   "file_extension": ".py",
   "mimetype": "text/x-python",
   "name": "python",
   "nbconvert_exporter": "python",
   "pygments_lexer": "ipython3",
   "version": "3.8.20"
  }
 },
 "nbformat": 4,
 "nbformat_minor": 4
}
