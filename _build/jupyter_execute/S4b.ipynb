{
 "cells": [
  {
   "cell_type": "markdown",
   "id": "d038f7e1-d453-449a-8ae9-a8b22a5273db",
   "metadata": {},
   "source": [
    "# Independent Samples $t$-Test\n",
    "\n",
    "Let's load some data sets for the examples we will need to analyze."
   ]
  },
  {
   "cell_type": "code",
   "execution_count": 1,
   "id": "3a24e30f-2f2c-4dc3-9d9b-a31e0083a2f7",
   "metadata": {},
   "outputs": [],
   "source": [
    "pers <- read.csv('http://faculty.ung.edu/rsinn/data/personality.csv')\n",
    "births <-  read.csv('http://faculty.ung.edu/rsinn/data/baby.csv')\n",
    "united <- read.csv('http://faculty.ung.edu/rsinn/data/united.csv')\n",
    "airports <- read.csv('http://faculty.ung.edu/rsinn/data/airports.csv')"
   ]
  },
  {
   "cell_type": "markdown",
   "id": "f8d2afe7-0831-4199-a807-b8fce8f2ba8f",
   "metadata": {},
   "source": [
    "## Example 1: Airports and Delays\n",
    "\n",
    "Are delays at southern airports less than the delays at northern airports where bad weather like snow and ice is more common? Compare the average delays at 2 southerm airports:\n",
    "\n",
    "- ATL, Atlanta\n",
    "- DFW, Dallas Fort Worth\n",
    "\n",
    "To the average delays at two northern airports:\n",
    "\n",
    "- PHL, Philadelphia\n",
    "- CLE, Cleveland\n",
    "\n",
    "Determine if there is a difference in average delays using the $\\alpha = 0.05$ level.\n",
    "\n",
    "### Standard Descriptives for Both Samples"
   ]
  },
  {
   "cell_type": "code",
   "execution_count": 2,
   "id": "f93d4c8b-3be5-4e8f-8c2d-547b86f2a3d7",
   "metadata": {},
   "outputs": [
    {
     "name": "stdout",
     "output_type": "stream",
     "text": [
      "The standard descriptives for the southern airports:\n",
      "  Mean =  17.45921 \n",
      "  Std. Deviation =  33.52937 \n",
      "  Sample Size =  331"
     ]
    }
   ],
   "source": [
    "south <- subset(united, Destination == 'ATL' | Destination == 'DFW')\n",
    "m_s <- mean(south[ , 'Delay'])\n",
    "s_s <- sd(south[ , 'Delay'])\n",
    "n_s <- length(south[ , 'Delay'])\n",
    "cat('The standard descriptives for the southern airports:\n",
    "  Mean = ',m_s,'\\n  Std. Deviation = ',s_s, '\\n  Sample Size = ', n_s)"
   ]
  },
  {
   "cell_type": "code",
   "execution_count": 3,
   "id": "a2302288-aab6-4bf0-ae5b-8147760f540d",
   "metadata": {},
   "outputs": [
    {
     "name": "stdout",
     "output_type": "stream",
     "text": [
      "The standard descriptives for the northern airports:\n",
      "  Mean =  18.9104 \n",
      "  Std. Deviation =  33.52937 \n",
      "  Sample Size =  346"
     ]
    }
   ],
   "source": [
    "north <- subset(united, Destination == 'CLE' | Destination == 'PHL') # | Destination == 'ORD')\n",
    "m_n <- mean(north[ , 'Delay'])\n",
    "s_n <- sd(south[ , 'Delay'])\n",
    "n_n <- length(north[ , 'Delay'])\n",
    "cat('The standard descriptives for the northern airports:\n",
    "  Mean = ',m_n,'\\n  Std. Deviation = ',s_n, '\\n  Sample Size = ', n_n)"
   ]
  },
  {
   "cell_type": "markdown",
   "id": "e5a3e061-49d7-4c6a-83f3-db0f1900ddae",
   "metadata": {},
   "source": [
    "### Verification of Assumptions\n",
    "\n",
    "Checking normality, we will analyze both a density plot and a QQ plot for both samples.\n",
    "\n",
    "#### Airports Data and Normality\n",
    "\n",
    "We create density plots and QQ normal plots for both samples."
   ]
  },
  {
   "cell_type": "code",
   "execution_count": 4,
   "id": "1980a62b-2425-45cf-8f74-bb05838d6d93",
   "metadata": {},
   "outputs": [
    {
     "data": {
      "image/png": "[encoded data removed]",
      "text/plain": [
       "Plot with title \"Normal QQ Plot: CLE & PHL\""
      ]
     },
     "metadata": {},
     "output_type": "display_data"
    }
   ],
   "source": [
    "plt <- layout(matrix(c(1,2,3,4), ncol = 2), heights = lcm(9))\n",
    "\n",
    "plot(density(south[ , 'Delay']), main = 'Density Plot: ATL & DFW', xlab = 'Delay')\n",
    "plot2 <- {qqnorm(south[ , 'Delay'], main = 'Normal QQ Plot: ATL & DFW', xlab = 'Normal Quantiles')\n",
    "qqline(south[ , 'Delay'], col = 'red')    \n",
    "}\n",
    "plot(density(north[ , 'Delay']), main = 'Density Plot: CLE & PHL', xlab = 'Delay')\n",
    "plot3 <- {qqnorm(north[ , 'Delay'], main = 'Normal QQ Plot: CLE & PHL', xlab = 'Normal Quantiles')\n",
    "qqline(north[ , 'Delay'], col = 'red')    \n",
    "}"
   ]
  },
  {
   "cell_type": "markdown",
   "id": "a2a79145-906b-4fdc-94bb-ff29fac5ac1d",
   "metadata": {},
   "source": [
    "**Analysis.** The density plots concerns us because we see an approximately bell-shaped distribution but with a <b><span style=\"color: purple\" >massive skew to the right</span></b>. The QQ plot shows the impact of the massive outliers which render the outcome a very non-normal distribution. We must reject this sample as <b><span style=\"color: red\" >not normal</span></b>.\n",
    "\n",
    "Given the radical skewing to the right for both samples and lack of evidence in the QQ plots that the distributions are normal, we reject these data as <b><span style=\"color: purple\" >unacceptable for $t$ procedures</span></b>.\n",
    "\n",
    "#### Results\n",
    "\n",
    "We will not run a $t$-test on these data as they <b><span style=\"color: red\" >do not meet the requirements of the normality assumption</span></b>."
   ]
  },
  {
   "cell_type": "markdown",
   "id": "93f982f5-b1cb-45ec-a759-f012873f7dde",
   "metadata": {},
   "source": [
    "## Example 2: Births and Smoking during Pregnancy\n",
    "\n",
    "Does smoking during pregnancy affect the health of the baby at birth? Test at the $\\alpha = 0.05$ level using **Birth Weight** as a proxy variable for health of the baby."
   ]
  },
  {
   "cell_type": "code",
   "execution_count": 5,
   "id": "57c7a7c7-4414-4ae0-b717-c78455ecda65",
   "metadata": {},
   "outputs": [
    {
     "data": {
      "text/html": [
       "<table>\n",
       "<thead><tr><th scope=col>Birth.Weight</th><th scope=col>Gestational.Days</th><th scope=col>Maternal.Age</th><th scope=col>Maternal.Height</th><th scope=col>Maternal.Pregnancy.Weight</th><th scope=col>Maternal.Smoker</th></tr></thead>\n",
       "<tbody>\n",
       "\t<tr><td>120  </td><td>284  </td><td>27   </td><td>62   </td><td>100  </td><td>False</td></tr>\n",
       "\t<tr><td>113  </td><td>282  </td><td>33   </td><td>64   </td><td>135  </td><td>False</td></tr>\n",
       "\t<tr><td>128  </td><td>279  </td><td>28   </td><td>64   </td><td>115  </td><td>True </td></tr>\n",
       "\t<tr><td>108  </td><td>282  </td><td>23   </td><td>67   </td><td>125  </td><td>True </td></tr>\n",
       "\t<tr><td>136  </td><td>286  </td><td>25   </td><td>62   </td><td> 93  </td><td>False</td></tr>\n",
       "</tbody>\n",
       "</table>\n"
      ],
      "text/latex": [
       "\\begin{tabular}{r|llllll}\n",
       " Birth.Weight & Gestational.Days & Maternal.Age & Maternal.Height & Maternal.Pregnancy.Weight & Maternal.Smoker\\\\\n",
       "\\hline\n",
       "\t 120   & 284   & 27    & 62    & 100   & False\\\\\n",
       "\t 113   & 282   & 33    & 64    & 135   & False\\\\\n",
       "\t 128   & 279   & 28    & 64    & 115   & True \\\\\n",
       "\t 108   & 282   & 23    & 67    & 125   & True \\\\\n",
       "\t 136   & 286   & 25    & 62    &  93   & False\\\\\n",
       "\\end{tabular}\n"
      ],
      "text/markdown": [
       "\n",
       "| Birth.Weight | Gestational.Days | Maternal.Age | Maternal.Height | Maternal.Pregnancy.Weight | Maternal.Smoker |\n",
       "|---|---|---|---|---|---|\n",
       "| 120   | 284   | 27    | 62    | 100   | False |\n",
       "| 113   | 282   | 33    | 64    | 135   | False |\n",
       "| 128   | 279   | 28    | 64    | 115   | True  |\n",
       "| 108   | 282   | 23    | 67    | 125   | True  |\n",
       "| 136   | 286   | 25    | 62    |  93   | False |\n",
       "\n"
      ],
      "text/plain": [
       "  Birth.Weight Gestational.Days Maternal.Age Maternal.Height\n",
       "1 120          284              27           62             \n",
       "2 113          282              33           64             \n",
       "3 128          279              28           64             \n",
       "4 108          282              23           67             \n",
       "5 136          286              25           62             \n",
       "  Maternal.Pregnancy.Weight Maternal.Smoker\n",
       "1 100                       False          \n",
       "2 135                       False          \n",
       "3 115                       True           \n",
       "4 125                       True           \n",
       "5  93                       False          "
      ]
     },
     "metadata": {},
     "output_type": "display_data"
    }
   ],
   "source": [
    "head(births,5)"
   ]
  },
  {
   "cell_type": "markdown",
   "id": "3fd6fc35-b94c-49bb-a850-26160ab65075",
   "metadata": {},
   "source": [
    "We need 2 vectors, one for the birth weight data from the smoking moms group and the other from the non-smoking moms group."
   ]
  },
  {
   "cell_type": "markdown",
   "id": "e4ec7183-1b4b-40cb-9bff-25ba19002306",
   "metadata": {},
   "source": [
    "```{warning}\n",
    "The values in the \"Maternal Smoker\" column are not the boolean variables TRUE and FALSE. The values in this data frame are strings, actual text. Thus, the subsetting used is for text but would look quite different in the boolean variable case.\n",
    "```"
   ]
  },
  {
   "cell_type": "code",
   "execution_count": 6,
   "id": "37b67074-a502-4952-b682-8690b0194793",
   "metadata": {},
   "outputs": [
    {
     "data": {
      "text/html": [
       "<table>\n",
       "<thead><tr><th></th><th scope=col>Birth.Weight</th><th scope=col>Gestational.Days</th><th scope=col>Maternal.Age</th><th scope=col>Maternal.Height</th><th scope=col>Maternal.Pregnancy.Weight</th><th scope=col>Maternal.Smoker</th></tr></thead>\n",
       "<tbody>\n",
       "\t<tr><th scope=row>3</th><td>128 </td><td>279 </td><td>28  </td><td>64  </td><td>115 </td><td>True</td></tr>\n",
       "\t<tr><th scope=row>4</th><td>108 </td><td>282 </td><td>23  </td><td>67  </td><td>125 </td><td>True</td></tr>\n",
       "\t<tr><th scope=row>9</th><td>143 </td><td>299 </td><td>30  </td><td>66  </td><td>136 </td><td>True</td></tr>\n",
       "</tbody>\n",
       "</table>\n"
      ],
      "text/latex": [
       "\\begin{tabular}{r|llllll}\n",
       "  & Birth.Weight & Gestational.Days & Maternal.Age & Maternal.Height & Maternal.Pregnancy.Weight & Maternal.Smoker\\\\\n",
       "\\hline\n",
       "\t3 & 128  & 279  & 28   & 64   & 115  & True\\\\\n",
       "\t4 & 108  & 282  & 23   & 67   & 125  & True\\\\\n",
       "\t9 & 143  & 299  & 30   & 66   & 136  & True\\\\\n",
       "\\end{tabular}\n"
      ],
      "text/markdown": [
       "\n",
       "| <!--/--> | Birth.Weight | Gestational.Days | Maternal.Age | Maternal.Height | Maternal.Pregnancy.Weight | Maternal.Smoker |\n",
       "|---|---|---|---|---|---|---|\n",
       "| 3 | 128  | 279  | 28   | 64   | 115  | True |\n",
       "| 4 | 108  | 282  | 23   | 67   | 125  | True |\n",
       "| 9 | 143  | 299  | 30   | 66   | 136  | True |\n",
       "\n"
      ],
      "text/plain": [
       "  Birth.Weight Gestational.Days Maternal.Age Maternal.Height\n",
       "3 128          279              28           64             \n",
       "4 108          282              23           67             \n",
       "9 143          299              30           66             \n",
       "  Maternal.Pregnancy.Weight Maternal.Smoker\n",
       "3 115                       True           \n",
       "4 125                       True           \n",
       "9 136                       True           "
      ]
     },
     "metadata": {},
     "output_type": "display_data"
    }
   ],
   "source": [
    "smoke = subset(births, Maternal.Smoker == 'True')\n",
    "head(smoke, 3)"
   ]
  },
  {
   "cell_type": "code",
   "execution_count": 7,
   "id": "5f15964b-e709-4713-9b5a-420d7a0d2cd5",
   "metadata": {},
   "outputs": [
    {
     "data": {
      "text/html": [
       "<table>\n",
       "<thead><tr><th></th><th scope=col>Birth.Weight</th><th scope=col>Gestational.Days</th><th scope=col>Maternal.Age</th><th scope=col>Maternal.Height</th><th scope=col>Maternal.Pregnancy.Weight</th><th scope=col>Maternal.Smoker</th></tr></thead>\n",
       "<tbody>\n",
       "\t<tr><th scope=row>1</th><td>120  </td><td>284  </td><td>27   </td><td>62   </td><td>100  </td><td>False</td></tr>\n",
       "\t<tr><th scope=row>2</th><td>113  </td><td>282  </td><td>33   </td><td>64   </td><td>135  </td><td>False</td></tr>\n",
       "\t<tr><th scope=row>5</th><td>136  </td><td>286  </td><td>25   </td><td>62   </td><td> 93  </td><td>False</td></tr>\n",
       "</tbody>\n",
       "</table>\n"
      ],
      "text/latex": [
       "\\begin{tabular}{r|llllll}\n",
       "  & Birth.Weight & Gestational.Days & Maternal.Age & Maternal.Height & Maternal.Pregnancy.Weight & Maternal.Smoker\\\\\n",
       "\\hline\n",
       "\t1 & 120   & 284   & 27    & 62    & 100   & False\\\\\n",
       "\t2 & 113   & 282   & 33    & 64    & 135   & False\\\\\n",
       "\t5 & 136   & 286   & 25    & 62    &  93   & False\\\\\n",
       "\\end{tabular}\n"
      ],
      "text/markdown": [
       "\n",
       "| <!--/--> | Birth.Weight | Gestational.Days | Maternal.Age | Maternal.Height | Maternal.Pregnancy.Weight | Maternal.Smoker |\n",
       "|---|---|---|---|---|---|---|\n",
       "| 1 | 120   | 284   | 27    | 62    | 100   | False |\n",
       "| 2 | 113   | 282   | 33    | 64    | 135   | False |\n",
       "| 5 | 136   | 286   | 25    | 62    |  93   | False |\n",
       "\n"
      ],
      "text/plain": [
       "  Birth.Weight Gestational.Days Maternal.Age Maternal.Height\n",
       "1 120          284              27           62             \n",
       "2 113          282              33           64             \n",
       "5 136          286              25           62             \n",
       "  Maternal.Pregnancy.Weight Maternal.Smoker\n",
       "1 100                       False          \n",
       "2 135                       False          \n",
       "5  93                       False          "
      ]
     },
     "metadata": {},
     "output_type": "display_data"
    }
   ],
   "source": [
    "non = subset(births, Maternal.Smoker == 'False')\n",
    "head(non, 3)"
   ]
  },
  {
   "cell_type": "markdown",
   "id": "723cd817-7ce7-4501-8e87-aed8d4c31c63",
   "metadata": {},
   "source": [
    "With the table subsetted properly, we now have need for vectors for both the smoking and non-smoking case. The correct format for extracting the correct values from the table are shown below:"
   ]
  },
  {
   "cell_type": "code",
   "execution_count": 8,
   "id": "7c848b67-6510-49c4-89d2-b7f95344e237",
   "metadata": {},
   "outputs": [
    {
     "name": "stdout",
     "output_type": "stream",
     "text": [
      "The smoke_bw vector: "
     ]
    },
    {
     "data": {
      "text/html": [
       "<ol class=list-inline>\n",
       "\t<li>128</li>\n",
       "\t<li>108</li>\n",
       "\t<li>143</li>\n",
       "\t<li>144</li>\n",
       "\t<li>141</li>\n",
       "</ol>\n"
      ],
      "text/latex": [
       "\\begin{enumerate*}\n",
       "\\item 128\n",
       "\\item 108\n",
       "\\item 143\n",
       "\\item 144\n",
       "\\item 141\n",
       "\\end{enumerate*}\n"
      ],
      "text/markdown": [
       "1. 128\n",
       "2. 108\n",
       "3. 143\n",
       "4. 144\n",
       "5. 141\n",
       "\n",
       "\n"
      ],
      "text/plain": [
       "[1] 128 108 143 144 141"
      ]
     },
     "metadata": {},
     "output_type": "display_data"
    },
    {
     "name": "stdout",
     "output_type": "stream",
     "text": [
      "The non_bw vector: "
     ]
    },
    {
     "data": {
      "text/html": [
       "<ol class=list-inline>\n",
       "\t<li>128</li>\n",
       "\t<li>108</li>\n",
       "\t<li>143</li>\n",
       "\t<li>144</li>\n",
       "\t<li>141</li>\n",
       "</ol>\n"
      ],
      "text/latex": [
       "\\begin{enumerate*}\n",
       "\\item 128\n",
       "\\item 108\n",
       "\\item 143\n",
       "\\item 144\n",
       "\\item 141\n",
       "\\end{enumerate*}\n"
      ],
      "text/markdown": [
       "1. 128\n",
       "2. 108\n",
       "3. 143\n",
       "4. 144\n",
       "5. 141\n",
       "\n",
       "\n"
      ],
      "text/plain": [
       "[1] 128 108 143 144 141"
      ]
     },
     "metadata": {},
     "output_type": "display_data"
    }
   ],
   "source": [
    "cat('The smoke_bw vector: ')\n",
    "smoke_bw = smoke[ , 'Birth.Weight']\n",
    "head(smoke_bw, 5)\n",
    "cat('The non_bw vector: ')\n",
    "non_bw = smoke[ , 'Birth.Weight']\n",
    "head(non_bw, 5)"
   ]
  },
  {
   "cell_type": "markdown",
   "id": "5cc86911-12bb-46a7-a5f2-7dc3822cadb7",
   "metadata": {},
   "source": [
    "### Verification of the Normality Assumption\n",
    "\n",
    "We conduct the density and QQ plots for both samples, just as we did above with the United Airlines data."
   ]
  },
  {
   "cell_type": "code",
   "execution_count": 9,
   "id": "a18e8bb4-fe25-4351-85b3-8ca7cf7a2cc0",
   "metadata": {},
   "outputs": [
    {
     "data": {
      "image/png": "[encoded data removed]",
      "text/plain": [
       "Plot with title \"Normal QQ: Non-Smoking Moms\""
      ]
     },
     "metadata": {},
     "output_type": "display_data"
    }
   ],
   "source": [
    "plt <- layout(matrix(c(1,2,3,4), ncol = 2), heights = lcm(9))\n",
    "\n",
    "plot(density(smoke[ , 'Birth.Weight']), main = 'Density Plot: Smoking Moms', xlab = 'Birth Weight (in oz.)')\n",
    "plot2 <- { qqnorm(smoke[ , 'Birth.Weight'], main = 'Normal QQ Plot: Smoking Moms', xlab = 'Normal Quantiles')\n",
    "qqline(smoke[ , 'Birth.Weight'], col = 'red') }\n",
    "plot(density(non[ , 'Birth.Weight']),main = 'Density Plot: Non-Smoking Moms')\n",
    "plot3 <- { qqnorm(non[ , 'Birth.Weight'], main = 'Normal QQ: Non-Smoking Moms', xlab = 'Normal Quantiles')\n",
    "qqline(non[ , 'Birth.Weight'], col = 'red') }"
   ]
  },
  {
   "cell_type": "markdown",
   "id": "0684fe57-2f57-44fd-8fb2-674aa406c2b0",
   "metadata": {},
   "source": [
    "**Analysis of Normality Plots.** The plots for the births to smoking moms data show a normal distribution. The plots for the births to non-smoking moms look good in the case of the density plot and a bit worrisome in the case of the QQ plot.\n",
    "\n",
    "**Heavy Tails.** The QQ plot for births to non-smoking moms shows evidence of heavy tails. This occurs when more outliers exist in the sample data than would be expected from a perfectly normal distribution. However, this difficulty is not very pronounced. The data here do appear to be approximately normally distributed with the allowance that the second QQ plot indicate the accuracy of the $p$-values resulting from a $t$-test may be compromised slightly.\n",
    "\n",
    "In the final analysis, we can see the following:\n",
    "\n",
    "<center><span style=\"color:purple\"><b>These data are appropriate for $t$ procedures with regards to the normality assumption.</b></span></center>"
   ]
  },
  {
   "cell_type": "markdown",
   "id": "60f37fe9-c1ee-43c9-a2dc-79a66600ee72",
   "metadata": {},
   "source": [
    "### Verification of the Homogeneity of Variances Assumption\n",
    "\n",
    "Let's first gather the standard descriptives for the two vectors."
   ]
  },
  {
   "cell_type": "code",
   "execution_count": 10,
   "id": "5c273539-a18d-4cc6-9a21-412d647db057",
   "metadata": {},
   "outputs": [
    {
     "name": "stdout",
     "output_type": "stream",
     "text": [
      "The standard descriptives for the births to smoking moms: \n",
      "  Mean =  113.8192 \n",
      "  Std. Deviation =  18.29501 \n",
      "  Sample Size =  459 \n",
      "\n"
     ]
    },
    {
     "name": "stdout",
     "output_type": "stream",
     "text": [
      "The standard descriptives for the births to non-smoking moms: \n",
      "  Mean =  123.0853 \n",
      "  Std. Deviation =  17.4237 \n",
      "  Sample Size =  715"
     ]
    }
   ],
   "source": [
    "m_s <- mean(smoke[ , 'Birth.Weight'])\n",
    "s_s <- sd(smoke[ , 'Birth.Weight'])\n",
    "n_s <- length(smoke[ , 'Birth.Weight'])\n",
    "cat('The standard descriptives for the births to smoking moms: \\n  Mean = ',m_s,'\\n  Std. Deviation = ',s_s, '\\n  Sample Size = ', n_s, '\\n\\n')\n",
    "\n",
    "m_n <- mean(non[ , 'Birth.Weight'])\n",
    "s_n <- sd(non[ , 'Birth.Weight'])\n",
    "n_n <- length(non[ , 'Birth.Weight'])\n",
    "cat('The standard descriptives for the births to non-smoking moms: \\n  Mean = ',m_n,'\\n  Std. Deviation = ',s_n, '\\n  Sample Size = ', n_n)"
   ]
  },
  {
   "cell_type": "markdown",
   "id": "7ded0ad2-453d-4135-ba1e-0f6e8be176ba",
   "metadata": {},
   "source": [
    "```{sidebar} Levene Test\n",
    "Some statisticians suggest conducting Levenes test for equality of the standard deviations. However, this nearly doubles the Type I error rate and decreases the overall power of the $t$-test. In this course, we will not conduct a Levene test for these reasons.\n",
    "```"
   ]
  },
  {
   "cell_type": "markdown",
   "id": "5c5f8b12-a045-400c-84f0-83d5cea37269",
   "metadata": {},
   "source": [
    "With the ratio of largest to smallest sample sizes at $715:459$ approximately $1.56 : 1$ which is far less than $2:1$, we can conclude the group sizes are not **sharply unequal**. Thus, there is no reason to suspect that the homoegeneity of the variances assumption is incorrect here.\n",
    "\n",
    "<span style=\"color:purple\"><b>We will conduct Welch's $t$-test which does not assume equal standard deviations while avoiding situations where the sample sizes are sharply unequal. These data are appropriate for $t$ procedures with regards to the homogeneity assumption.</b></span>"
   ]
  },
  {
   "cell_type": "markdown",
   "id": "0e9b7574-be0f-43fd-904a-04ea6aa2715c",
   "metadata": {},
   "source": [
    "### Conducting the Independent Samples $t$-Test for Birth Weights\n",
    "\n",
    "Let's first setup our null and alternative hypotheses:\n",
    "\n",
    "$$\\begin{align}H_0 &: \\mu_S = \\mu_N\\\\ H_a &: \\mu_S < \\mu_N\\end{align}$$\n",
    "\n",
    "We can utilize symbolic notation in R:"
   ]
  },
  {
   "cell_type": "markdown",
   "id": "d7d68642-20d7-45f7-bccb-863608fe2ab2",
   "metadata": {},
   "source": [
    "```{warning}\n",
    "Due to the use of symbolic notation, we lose control of which sample mean is subtracted from which. Hence, we run the $t$-test first to see how the subtraction is happening, and again with the correct alternative hypothesis symbol to run the test we wish to conduct.\n",
    "```"
   ]
  },
  {
   "cell_type": "code",
   "execution_count": 11,
   "id": "63581efb-ea89-411a-b520-401e6ddff050",
   "metadata": {},
   "outputs": [
    {
     "data": {
      "text/plain": [
       "\n",
       "\tWelch Two Sample t-test\n",
       "\n",
       "data:  Birth.Weight by Maternal.Smoker\n",
       "t = 8.6265, df = 941.81, p-value < 2.2e-16\n",
       "alternative hypothesis: true difference in means is greater than 0\n",
       "95 percent confidence interval:\n",
       " 7.497579      Inf\n",
       "sample estimates:\n",
       "mean in group False  mean in group True \n",
       "           123.0853            113.8192 \n"
      ]
     },
     "metadata": {},
     "output_type": "display_data"
    }
   ],
   "source": [
    "t.test(Birth.Weight ~ Maternal.Smoker, data = births, alternative = 'greater')"
   ]
  },
  {
   "cell_type": "markdown",
   "id": "538a94cc-bd8f-456c-a04b-dd1b34d5e560",
   "metadata": {},
   "source": [
    "### Reporting Out\n",
    "\n",
    "Because $p = 2.2\\times 10^{-16} < 0.05 =\\alpha$, we reject the null. Thus, we have evidence in favor of the alternative hypothesis that, in fact, the birth weights are higher in the non-smoking moms group than for smoking moms."
   ]
  },
  {
   "cell_type": "markdown",
   "id": "89ea9792-0691-41a9-bf1b-997954e6fedb",
   "metadata": {},
   "source": [
    "### Calculations with Formulas and Tables\n",
    "\n",
    "Let's recall the values of the standard descriptives so that we can calculate the $t$-statistic. Also, let's link to the [formula sheet](https://faculty.ung.edu/rsinn/3350/StatsFormulas.pdf) for the class and the [$t$ table](https://faculty.ung.edu/rsinn/3350/Table_T.pdf)."
   ]
  },
  {
   "cell_type": "code",
   "execution_count": 12,
   "id": "bdd2f949-6c33-4ea7-875e-9b03385d1219",
   "metadata": {},
   "outputs": [
    {
     "name": "stdout",
     "output_type": "stream",
     "text": [
      "The standard descriptives for the births to smoking moms: \n",
      "  Mean =  113.8192 \n",
      "  Std. Deviation =  18.29501 \n",
      "  Sample Size =  459 \n",
      "\n"
     ]
    },
    {
     "name": "stdout",
     "output_type": "stream",
     "text": [
      "The standard descriptives for the births to non-smoking moms: \n",
      "  Mean =  123.0853 \n",
      "  Std. Deviation =  17.4237 \n",
      "  Sample Size =  715"
     ]
    }
   ],
   "source": [
    "cat('The standard descriptives for the births to smoking moms: \\n  Mean = ',m_s,'\\n  Std. Deviation = ',s_s, '\\n  Sample Size = ', n_s, '\\n\\n')\n",
    "cat('The standard descriptives for the births to non-smoking moms: \\n  Mean = ',m_n,'\\n  Std. Deviation = ',s_n, '\\n  Sample Size = ', n_n)"
   ]
  },
  {
   "cell_type": "markdown",
   "id": "ed776b40-1f6f-4502-b02e-2cf51053689d",
   "metadata": {},
   "source": [
    "#### The $t$ Statistic\n",
    "\n",
    "The formula from our class formula sheet is as follows:\n",
    "\n",
    "$$t = \\frac{\\bar{x_1}-\\bar{x_2}}{\\sqrt{\\frac{s_1^2}{n_1} + \\frac{s_2^2}{n_2}}}$$"
   ]
  },
  {
   "cell_type": "markdown",
   "id": "82921932-244d-4b49-b7e2-9d67daa8a216",
   "metadata": {},
   "source": [
    "We can substitute into this formula values from the lists above rounded to the nearest tenth. We will then simplify and solve:"
   ]
  },
  {
   "cell_type": "markdown",
   "id": "4a563847-94d7-4b02-9e11-897f554f6263",
   "metadata": {},
   "source": [
    "$$t = \\frac{113.8 - 123.1}{\\sqrt{\\frac{18.3^2}{459} + \\frac{17.4^2}{715}}}$$"
   ]
  },
  {
   "cell_type": "markdown",
   "id": "72d3635a-ed17-4891-8eb4-4e02740a3562",
   "metadata": {},
   "source": [
    "**Calculations: First Steps**"
   ]
  },
  {
   "cell_type": "code",
   "execution_count": 13,
   "id": "9d5ae143-342c-4f8a-879d-2f282bb23bf7",
   "metadata": {},
   "outputs": [
    {
     "data": {
      "text/html": [
       "-9.3"
      ],
      "text/latex": [
       "-9.3"
      ],
      "text/markdown": [
       "-9.3"
      ],
      "text/plain": [
       "[1] -9.3"
      ]
     },
     "metadata": {},
     "output_type": "display_data"
    },
    {
     "data": {
      "text/html": [
       "334.89"
      ],
      "text/latex": [
       "334.89"
      ],
      "text/markdown": [
       "334.89"
      ],
      "text/plain": [
       "[1] 334.89"
      ]
     },
     "metadata": {},
     "output_type": "display_data"
    },
    {
     "data": {
      "text/html": [
       "302.76"
      ],
      "text/latex": [
       "302.76"
      ],
      "text/markdown": [
       "302.76"
      ],
      "text/plain": [
       "[1] 302.76"
      ]
     },
     "metadata": {},
     "output_type": "display_data"
    }
   ],
   "source": [
    "113.8 - 123.1\n",
    "18.3^2\n",
    "17.4^2"
   ]
  },
  {
   "cell_type": "markdown",
   "id": "f76ba7df-ab00-408e-aca9-36ffc19f2948",
   "metadata": {},
   "source": [
    "$$t = \\frac{-9.3}{\\sqrt{\\frac{334.9}{459} + \\frac{302.8}{715}}}$$"
   ]
  },
  {
   "cell_type": "markdown",
   "id": "bedd3c00-ace4-4115-9999-9519f5cbbf4d",
   "metadata": {},
   "source": [
    "**Final Calculations**"
   ]
  },
  {
   "cell_type": "code",
   "execution_count": 14,
   "id": "785eb040-612f-4c86-8012-7efca6229eb9",
   "metadata": {},
   "outputs": [
    {
     "data": {
      "text/html": [
       "-9.21927537446768"
      ],
      "text/latex": [
       "-9.21927537446768"
      ],
      "text/markdown": [
       "-9.21927537446768"
      ],
      "text/plain": [
       "[1] -9.219275"
      ]
     },
     "metadata": {},
     "output_type": "display_data"
    }
   ],
   "source": [
    "-9.9 / sqrt( 334.9 / 459 + 302.8 / 715 )"
   ]
  },
  {
   "cell_type": "markdown",
   "id": "45d9b36e-67c3-4ec1-afd6-9417ffcc90d8",
   "metadata": {},
   "source": [
    "$$t = -9.22$$"
   ]
  },
  {
   "cell_type": "markdown",
   "id": "bb873f36-438a-474a-a293-2b70938b89f3",
   "metadata": {},
   "source": [
    "#### Cutoff Value from Table\n",
    "\n",
    "We are conducting a 1-tailed hypothesis test since\n",
    "\n",
    "$$H_a : \\mu_S < \\mu_N$$\n",
    "\n",
    "with an $\\alpha = 0.05$ level of significance. Also, our degrees of freedom (also shown on the formula sheet) for this case:\n",
    "\n",
    "$$df = \\min(n_1-1,n_2-1)$$\n",
    "\n",
    "Note that, given that both sample sizes reach well into the hundreds, we will use the $\\infty$ degrees of freedom row in the table. Thus, we find the cutoff value:\n",
    "\n",
    "$$t^* = 1.645$$"
   ]
  },
  {
   "cell_type": "markdown",
   "id": "57d4cfb5-30c8-44a2-965d-6eabb7bb91cc",
   "metadata": {},
   "source": [
    "```{note}\n",
    "The test statistic we calculated by hand is quite different from the one the computer calculated above. This happens for two reasons.\n",
    "1. The computer can calculate $t$ while using a much more accurate degrees of freedom value than is practical when using a table.\n",
    "2. We have rounding error present in our calculated test statistic.\n",
    "```"
   ]
  },
  {
   "cell_type": "markdown",
   "id": "eca044d6-2655-4c0c-bff5-00535dc16f0d",
   "metadata": {},
   "source": [
    "#### Reporting Out\n",
    "\n",
    "We reject the null since $|t| = 9.22 > 1.645 = t^*$. We have evidence for the alternative, that the birth weight of babies born to moms who smoke during pregnancy is less, on average, than the birth weight of babies born to non-smoking moms."
   ]
  }
 ],
 "metadata": {
  "kernelspec": {
   "display_name": "R",
   "language": "R",
   "name": "ir"
  },
  "language_info": {
   "codemirror_mode": "r",
   "file_extension": ".r",
   "mimetype": "text/x-r-source",
   "name": "R",
   "pygments_lexer": "r",
   "version": "3.6.1"
  }
 },
 "nbformat": 4,
 "nbformat_minor": 5
}