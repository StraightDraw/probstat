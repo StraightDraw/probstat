{
 "cells": [
  {
   "cell_type": "markdown",
   "id": "inner-charge",
   "metadata": {},
   "source": [
    "# Basics of Statistics and R"
   ]
  },
  {
   "cell_type": "markdown",
   "id": "arabic-pathology",
   "metadata": {},
   "source": [
    "Two key questions for <span style=\"color: purple\"><b>exploratory data analysis</b></span> in statistics are:\n",
    "\n",
    "1. Shape?\n",
    "2. Outliers/skew?\n",
    "\n",
    "For shape, we would like to know if the distribution appears to be uniform, exponential, binomial, bell-shaped or a fit with another common pattern. The key distribution in statistics is the **normal** (or bell-shaped) distribution. A *uniform* distribution is where all outcomes are equally likely? We have looked at distributions like the binomial, hypergeometric, geometric and negative binomial distributions. The most significant shape for introductory statistics is the<span style=\"color: purple\"><b> normal distribution </b></span>since parametric statistical tests like the $z$-test, the $t$-test, ANOVA, and regression are built on assumptions of normality.\n",
    "\n",
    "The second question we need to ask:<span style=\"color: purple\"><b> do skew and outliers exist? </b></span>We need to know because we often must treat skewed data and data with outliers with great care and possibly different tools. The first steps of data analysis are to generate numeric descriptions of the data (descriptive statistics) and typical graphical displays of data like histograms, stem plots."
   ]
  },
  {
   "cell_type": "markdown",
   "id": "3ad653ab-30fe-44d7-8f65-6237b86fdce8",
   "metadata": {},
   "source": [
    "```{sidebar} Data Visualization \n",
    "Data scientists use more robust analytic tools and have entire courses on data visualization which is the art of creating visual displays that tell a story about the data. To understand more about the groundbreaking work in data science, check out several data visualizations at the Pew Research Center regarding [political beliefs in the US](https://www.pewresearch.org/fact-tank/2014/12/29/our-favorite-pew-research-center-data-visualizations-from-2014). Also check out this [blog post](https://visme.co/blog/best-data-visualizations) where data science and artwork intersect</a> or this marketing blog with [16 great examples](https://blog.hubspot.com/marketing/great-data-visualization-examples) of data visualizations. As data science progresses, more and more exciting avenues exist for displaying and visualizing data. In this course, we will provide the basic numeric and graphic approaches to summarizing data. You're learning some R coding along the way. By the end of this course, if you're interested, a few hours will be all you will need to teach yourself to produce some pretty powerful visualizations of your own with RStudio.\n",
    "```"
   ]
  },
  {
   "cell_type": "markdown",
   "id": "formed-council",
   "metadata": {},
   "source": []
  },
  {
   "cell_type": "markdown",
   "id": "1698aa99-3860-4a16-9e2f-8022099205f2",
   "metadata": {},
   "source": [
    "$$\n",
    "\\left\\{x_{1},x_{2},\\dots, x_{n}\\right\\} \\in X\n",
    "$$"
   ]
  },
  {
   "cell_type": "markdown",
   "id": "44d4adcd-8eee-49b4-bbac-34a1c49b3587",
   "metadata": {
    "tags": []
   },
   "source": [
    "## Parameters and Statistics\n",
    "\n",
    "In statistics, we use two different sets of symbols to refer to the mean and standard deviation:"
   ]
  },
  {
   "cell_type": "markdown",
   "id": "3a2bcc86-c3cd-463c-982e-64a019610450",
   "metadata": {},
   "source": [
    "$$\n",
    "\\begin{array}{c|cc}\n",
    "&\\text{Population}&\\text{Sample}\\\\ \\hline\n",
    "\\text{AVG}&\\mu&\\bar{x}\\\\\n",
    "\\text{SD}&\\sigma& s\\\\\n",
    "\\end{array}\n",
    "$$"
   ]
  },
  {
   "cell_type": "markdown",
   "id": "016b0a88-71a8-4755-9569-a52e1ace8dc4",
   "metadata": {},
   "source": [
    "The population parameters $\\mu$ and $\\sigma$ are rarely known. Much of statistics is about estimating these parameters using the sample statistics $\\bar{x}$ and $s$ respectively. For example, a poker player's distribution of winnings (per 100 hands) is a normal distribution. True win rates are not known. Winning poker players often suffer long colds streaks. Over time, things average out. We don't know Mandy's average win rate, $\\mu$, but we can take sample of recent sessions and estimate it with $\\bar{x}$."
   ]
  },
  {
   "cell_type": "markdown",
   "id": "dd5689b6-f5a6-43fd-ad34-f7118eadf9c2",
   "metadata": {},
   "source": [
    "```{admonition} Example 1\n",
    "Suppose that Mandy's winnings from her most recent 20 cash poker sessions is given in the table below. Let's find the descriptive statistics and plot some standard statistical graphics using this data.\n",
    "```\n",
    "\n",
    "<table style=\"width:60%\">\n",
    "  <tr>\n",
    "    <td style='text-align:center; vertical-align:middle'>28</td>\n",
    "    <td style='text-align:center; vertical-align:middle'>11</td>\n",
    "    <td style='text-align:center; vertical-align:middle'>18</td>\n",
    "    <td style='text-align:center; vertical-align:middle'>35</td>\n",
    "    <td style='text-align:center; vertical-align:middle'>36</td>\n",
    "    <td style='text-align:center; vertical-align:middle'>6</td>\n",
    "    <td style='text-align:center; vertical-align:middle'>-38</td>\n",
    "    <td style='text-align:center; vertical-align:middle'>14</td>\n",
    "    <td style='text-align:center; vertical-align:middle'>-19</td>\n",
    "    <td style='text-align:center; vertical-align:middle'>43</td>\n",
    "  </tr>\n",
    "  <tr>\n",
    "    <td style='text-align:center; vertical-align:middle'>-14</td>\n",
    "    <td style='text-align:center; vertical-align:middle'>-30</td>\n",
    "    <td style='text-align:center; vertical-align:middle'>-16</td>\n",
    "    <td style='text-align:center; vertical-align:middle'>-25</td>\n",
    "    <td style='text-align:center; vertical-align:middle'>0</td>\n",
    "    <td style='text-align:center; vertical-align:middle'>40</td>\n",
    "    <td style='text-align:center; vertical-align:middle'>16</td>\n",
    "    <td style='text-align:center; vertical-align:middle'>-79</td>\n",
    "    <td style='text-align:center; vertical-align:middle'>3</td>\n",
    "    <td style='text-align:center; vertical-align:middle'>1</td>\n",
    "  </tr>\n",
    "</table>"
   ]
  },
  {
   "cell_type": "markdown",
   "id": "0e155d80-3da3-40dc-a2c8-40cfa2400b37",
   "metadata": {},
   "source": [
    "### Loading Data into a Vector Manually\n",
    "\n",
    "We use the concatenate function **c** to create the vector of integers. **Concatenate** means to join together, and most computer programming languages have a function that does almost exactly what **c** does as shown below:"
   ]
  },
  {
   "cell_type": "code",
   "execution_count": 73,
   "id": "a167a180-a00b-4891-aea6-9f6c8c698dbc",
   "metadata": {},
   "outputs": [],
   "source": [
    "W <- c( 28, 11, 18, 35, 36, 6, -38, 14, -19, 43, -14, -30, -16, -25, 0, 40, 16, -79, 3, 11)"
   ]
  },
  {
   "cell_type": "markdown",
   "id": "f232545c-203e-4507-b1a5-72a77c503979",
   "metadata": {},
   "source": [
    "## Descriptive Statistics\n",
    "\n",
    "The *mean*, *standard deviation*, and *sample size* ($n$) are the key descriptives because almost every statistical test is calculated based upon them. We also will typically include the **5-Number Summary** as it will help us especially when we have a skewed data set. The functions we will use to gather the key descriptives are as follows:\n",
    "\n",
    "- Average: **mean()**\n",
    "- Standard Deviation: **sd()**\n",
    "- Sample Size: **length()**\n",
    "\n",
    "For the 5-Number Summary, we use the function **summary()**."
   ]
  },
  {
   "cell_type": "code",
   "execution_count": 74,
   "id": "b5faa646-d4a7-4bed-9b3a-5db2af6254fd",
   "metadata": {},
   "outputs": [],
   "source": [
    "m <- mean(W)\n",
    "s <- sd(W)\n",
    "n <- length(W)"
   ]
  },
  {
   "cell_type": "markdown",
   "id": "e236fb39-e0a7-4941-859c-37749ed6fd9a",
   "metadata": {},
   "source": [
    "### Output in R\n",
    "\n",
    "Often, we wish to summarize and organize output, and the function **cat()** helps us to do so. The *cat* function is a hybrid of the concatenate function and print function. Thus, we can join together strings of text, outputs of variables and even calculations as needed.\n",
    "\n",
    "The example below is a code cell we will copy, paste and reuse throughout the course."
   ]
  },
  {
   "cell_type": "code",
   "execution_count": 75,
   "id": "8b874476-9ad4-4eed-9fd3-f69e13dfcc6a",
   "metadata": {},
   "outputs": [
    {
     "name": "stdout",
     "output_type": "stream",
     "text": [
      "Descriptive Statistics: \n",
      "  mean = 2 \n",
      "  standard deviation = 30.57347 \n",
      "  sample size = 20 \n",
      "\n",
      "The 5-number summary is shown below."
     ]
    },
    {
     "data": {
      "text/plain": [
       "   Min. 1st Qu.  Median    Mean 3rd Qu.    Max. \n",
       " -79.00  -16.75    8.50    2.00   20.50   43.00 "
      ]
     },
     "metadata": {},
     "output_type": "display_data"
    }
   ],
   "source": [
    "cat (\"Descriptive Statistics: \\n  mean =\", m, \"\\n  standard deviation =\", s, \"\\n  sample size =\", n,\"\\n\\nThe 5-number summary is shown below.\")\n",
    "summary(W)"
   ]
  },
  {
   "cell_type": "markdown",
   "id": "755ad598-00df-4fed-ba7e-955e18b81663",
   "metadata": {},
   "source": [
    "The most interesting point of analysis we can see already is that the mean is a good bit lower than the median. This can and often does indicate skew and a potential for outliers."
   ]
  },
  {
   "cell_type": "code",
   "execution_count": 76,
   "id": "0a5f5929-f2cd-4d2e-b950-1af8fc4bf06d",
   "metadata": {},
   "outputs": [
    {
     "data": {
      "image/png": "[encoded data removed]",
      "text/plain": [
       "Plot with title \"Histogram of W\""
      ]
     },
     "metadata": {},
     "output_type": "display_data"
    }
   ],
   "source": [
    "hist(W)"
   ]
  },
  {
   "cell_type": "markdown",
   "id": "83f0d946-1b4c-4fd7-a9b6-d81ec9f0f6af",
   "metadata": {},
   "source": [
    "The histogram confirms the skew to the left that we identified above. The distribution appears to be approximately normal (or bell-shaped) and skewed left. The tail to the left comprises 4 bars while the tail to the right comprises only 2. The direction of skew, if any, is in the same direction as the longest tail in the histogram."
   ]
  },
  {
   "cell_type": "markdown",
   "id": "c57115cb-7f3a-44f6-b40d-3d576deb6472",
   "metadata": {},
   "source": [
    "## Subsetting Data and Grouping by Category"
   ]
  },
  {
   "cell_type": "markdown",
   "id": "c6455ab6-c7ca-4be4-bd9a-12c33eab5202",
   "metadata": {},
   "source": [
    "First, let's load a data frame from an Excel spreadsheet using the URL. We will call the data frame **p** as it contains the personality data set collected pursuant to an undergraduate research project on sense of humor. Notice that we use **read.csv()** for the upload and the function **head()** to summarize the data frame by showing only its top five rows. Many data frames will be far to large to print out completely."
   ]
  },
  {
   "cell_type": "code",
   "execution_count": 77,
   "id": "3491fb80-b56d-4273-95c3-2be138fbb105",
   "metadata": {},
   "outputs": [
    {
     "data": {
      "text/html": [
       "<table>\n",
       "<thead><tr><th scope=col>Age</th><th scope=col>Yr</th><th scope=col>Sex</th><th scope=col>G21</th><th scope=col>Corps</th><th scope=col>Res</th><th scope=col>Greek</th><th scope=col>VarsAth</th><th scope=col>Honor</th><th scope=col>GPA</th><th scope=col>...</th><th scope=col>Perf</th><th scope=col>OCD</th><th scope=col>Play</th><th scope=col>Extro</th><th scope=col>Narc</th><th scope=col>HSAF</th><th scope=col>HSSE</th><th scope=col>HSAG</th><th scope=col>HSSD</th><th scope=col>PHS</th></tr></thead>\n",
       "<tbody>\n",
       "\t<tr><td>21  </td><td>2   </td><td>M   </td><td>Y   </td><td>Y   </td><td>1   </td><td>N   </td><td>N   </td><td>N   </td><td>3.23</td><td>... </td><td>105 </td><td>10  </td><td>142 </td><td> 8  </td><td>11  </td><td>41  </td><td>40  </td><td>26  </td><td>27  </td><td>SE  </td></tr>\n",
       "\t<tr><td>20  </td><td>3   </td><td>F   </td><td>N   </td><td>N   </td><td>2   </td><td>Y   </td><td>N   </td><td>Y   </td><td>3.95</td><td>... </td><td>105 </td><td> 3  </td><td>172 </td><td>16  </td><td>11  </td><td>46  </td><td>52  </td><td>26  </td><td>33  </td><td>SE  </td></tr>\n",
       "\t<tr><td>22  </td><td>3   </td><td>M   </td><td>Y   </td><td>N   </td><td>2   </td><td>N   </td><td>N   </td><td>N   </td><td>3.06</td><td>... </td><td> 73 </td><td> 1  </td><td>134 </td><td>15  </td><td>11  </td><td>48  </td><td>42  </td><td>44  </td><td>29  </td><td>AG  </td></tr>\n",
       "\t<tr><td>27  </td><td>3   </td><td>F   </td><td>Y   </td><td>N   </td><td>3   </td><td>N   </td><td>N   </td><td>N   </td><td>2.84</td><td>... </td><td> 90 </td><td> 9  </td><td>160 </td><td>16  </td><td>10  </td><td>51  </td><td>51  </td><td>23  </td><td>19  </td><td>SE  </td></tr>\n",
       "\t<tr><td>24  </td><td>3   </td><td>M   </td><td>Y   </td><td>N   </td><td>2   </td><td>N   </td><td>N   </td><td>N   </td><td>2.39</td><td>... </td><td> 95 </td><td> 5  </td><td>166 </td><td>14  </td><td>10  </td><td>56  </td><td>46  </td><td>27  </td><td>20  </td><td>AF  </td></tr>\n",
       "</tbody>\n",
       "</table>\n"
      ],
      "text/latex": [
       "\\begin{tabular}{r|llllllllllllllllllllllllllllllllllll}\n",
       " Age & Yr & Sex & G21 & Corps & Res & Greek & VarsAth & Honor & GPA & ... & Perf & OCD & Play & Extro & Narc & HSAF & HSSE & HSAG & HSSD & PHS\\\\\n",
       "\\hline\n",
       "\t 21   & 2    & M    & Y    & Y    & 1    & N    & N    & N    & 3.23 & ...  & 105  & 10   & 142  &  8   & 11   & 41   & 40   & 26   & 27   & SE  \\\\\n",
       "\t 20   & 3    & F    & N    & N    & 2    & Y    & N    & Y    & 3.95 & ...  & 105  &  3   & 172  & 16   & 11   & 46   & 52   & 26   & 33   & SE  \\\\\n",
       "\t 22   & 3    & M    & Y    & N    & 2    & N    & N    & N    & 3.06 & ...  &  73  &  1   & 134  & 15   & 11   & 48   & 42   & 44   & 29   & AG  \\\\\n",
       "\t 27   & 3    & F    & Y    & N    & 3    & N    & N    & N    & 2.84 & ...  &  90  &  9   & 160  & 16   & 10   & 51   & 51   & 23   & 19   & SE  \\\\\n",
       "\t 24   & 3    & M    & Y    & N    & 2    & N    & N    & N    & 2.39 & ...  &  95  &  5   & 166  & 14   & 10   & 56   & 46   & 27   & 20   & AF  \\\\\n",
       "\\end{tabular}\n"
      ],
      "text/markdown": [
       "\n",
       "| Age | Yr | Sex | G21 | Corps | Res | Greek | VarsAth | Honor | GPA | ... | Perf | OCD | Play | Extro | Narc | HSAF | HSSE | HSAG | HSSD | PHS |\n",
       "|---|---|---|---|---|---|---|---|---|---|---|---|---|---|---|---|---|---|---|---|---|\n",
       "| 21   | 2    | M    | Y    | Y    | 1    | N    | N    | N    | 3.23 | ...  | 105  | 10   | 142  |  8   | 11   | 41   | 40   | 26   | 27   | SE   |\n",
       "| 20   | 3    | F    | N    | N    | 2    | Y    | N    | Y    | 3.95 | ...  | 105  |  3   | 172  | 16   | 11   | 46   | 52   | 26   | 33   | SE   |\n",
       "| 22   | 3    | M    | Y    | N    | 2    | N    | N    | N    | 3.06 | ...  |  73  |  1   | 134  | 15   | 11   | 48   | 42   | 44   | 29   | AG   |\n",
       "| 27   | 3    | F    | Y    | N    | 3    | N    | N    | N    | 2.84 | ...  |  90  |  9   | 160  | 16   | 10   | 51   | 51   | 23   | 19   | SE   |\n",
       "| 24   | 3    | M    | Y    | N    | 2    | N    | N    | N    | 2.39 | ...  |  95  |  5   | 166  | 14   | 10   | 56   | 46   | 27   | 20   | AF   |\n",
       "\n"
      ],
      "text/plain": [
       "  Age Yr Sex G21 Corps Res Greek VarsAth Honor GPA  ... Perf OCD Play Extro\n",
       "1 21  2  M   Y   Y     1   N     N       N     3.23 ... 105  10  142   8   \n",
       "2 20  3  F   N   N     2   Y     N       Y     3.95 ... 105   3  172  16   \n",
       "3 22  3  M   Y   N     2   N     N       N     3.06 ...  73   1  134  15   \n",
       "4 27  3  F   Y   N     3   N     N       N     2.84 ...  90   9  160  16   \n",
       "5 24  3  M   Y   N     2   N     N       N     2.39 ...  95   5  166  14   \n",
       "  Narc HSAF HSSE HSAG HSSD PHS\n",
       "1 11   41   40   26   27   SE \n",
       "2 11   46   52   26   33   SE \n",
       "3 11   48   42   44   29   AG \n",
       "4 10   51   51   23   19   SE \n",
       "5 10   56   46   27   20   AF "
      ]
     },
     "metadata": {},
     "output_type": "display_data"
    }
   ],
   "source": [
    "p <- read.csv('https://faculty.ung.edu/rsinn/data/personality.csv')\n",
    "head(p,5)"
   ]
  },
  {
   "cell_type": "markdown",
   "id": "7b9b0b36-66da-4d2f-8c31-31ce78dea92c",
   "metadata": {},
   "source": [
    "We have a quick way to determine the size of the data frame using the functions **nrows()** and **ncols()**."
   ]
  },
  {
   "cell_type": "code",
   "execution_count": 78,
   "id": "51b23db9-fe31-4934-a97f-eaf58b3974b9",
   "metadata": {},
   "outputs": [
    {
     "data": {
      "text/html": [
       "129"
      ],
      "text/latex": [
       "129"
      ],
      "text/markdown": [
       "129"
      ],
      "text/plain": [
       "[1] 129"
      ]
     },
     "metadata": {},
     "output_type": "display_data"
    },
    {
     "data": {
      "text/html": [
       "36"
      ],
      "text/latex": [
       "36"
      ],
      "text/markdown": [
       "36"
      ],
      "text/plain": [
       "[1] 36"
      ]
     },
     "metadata": {},
     "output_type": "display_data"
    }
   ],
   "source": [
    "nrow(p)\n",
    "ncol(p)"
   ]
  },
  {
   "cell_type": "markdown",
   "id": "8bc7024e-4d94-486a-9322-bbd1e39028d2",
   "metadata": {},
   "source": [
    "In this data set, we had 129 UNG Dahlonega students answer questions that comprised 36 variables. Most data frames are constructed in a similar way: columns are variables and rows are the individuals that were studied. Note that, by individuals, we might mean house prices, lab rats, or the fuel mileage of vehicles."
   ]
  },
  {
   "cell_type": "markdown",
   "id": "e65695f8-21e8-4f6d-afbb-9ab21495ba5f",
   "metadata": {},
   "source": [
    "### Subsetting a Data Frame"
   ]
  },
  {
   "cell_type": "markdown",
   "id": "806c0258-400d-4658-bff5-ee747f0ca28a",
   "metadata": {},
   "source": [
    "To create a new data frame that contains only the first 10 columns of **p**, we can do this:"
   ]
  },
  {
   "cell_type": "code",
   "execution_count": 79,
   "id": "11178f20-e933-44fd-918f-9c1cb026bf6b",
   "metadata": {},
   "outputs": [
    {
     "data": {
      "text/html": [
       "<table>\n",
       "<thead><tr><th scope=col>Age</th><th scope=col>Yr</th><th scope=col>Sex</th><th scope=col>G21</th><th scope=col>Corps</th><th scope=col>Res</th><th scope=col>Greek</th><th scope=col>VarsAth</th><th scope=col>Honor</th><th scope=col>GPA</th></tr></thead>\n",
       "<tbody>\n",
       "\t<tr><td>21  </td><td>2   </td><td>M   </td><td>Y   </td><td>Y   </td><td>1   </td><td>N   </td><td>N   </td><td>N   </td><td>3.23</td></tr>\n",
       "\t<tr><td>20  </td><td>3   </td><td>F   </td><td>N   </td><td>N   </td><td>2   </td><td>Y   </td><td>N   </td><td>Y   </td><td>3.95</td></tr>\n",
       "\t<tr><td>22  </td><td>3   </td><td>M   </td><td>Y   </td><td>N   </td><td>2   </td><td>N   </td><td>N   </td><td>N   </td><td>3.06</td></tr>\n",
       "\t<tr><td>27  </td><td>3   </td><td>F   </td><td>Y   </td><td>N   </td><td>3   </td><td>N   </td><td>N   </td><td>N   </td><td>2.84</td></tr>\n",
       "\t<tr><td>24  </td><td>3   </td><td>M   </td><td>Y   </td><td>N   </td><td>2   </td><td>N   </td><td>N   </td><td>N   </td><td>2.39</td></tr>\n",
       "</tbody>\n",
       "</table>\n"
      ],
      "text/latex": [
       "\\begin{tabular}{r|llllllllll}\n",
       " Age & Yr & Sex & G21 & Corps & Res & Greek & VarsAth & Honor & GPA\\\\\n",
       "\\hline\n",
       "\t 21   & 2    & M    & Y    & Y    & 1    & N    & N    & N    & 3.23\\\\\n",
       "\t 20   & 3    & F    & N    & N    & 2    & Y    & N    & Y    & 3.95\\\\\n",
       "\t 22   & 3    & M    & Y    & N    & 2    & N    & N    & N    & 3.06\\\\\n",
       "\t 27   & 3    & F    & Y    & N    & 3    & N    & N    & N    & 2.84\\\\\n",
       "\t 24   & 3    & M    & Y    & N    & 2    & N    & N    & N    & 2.39\\\\\n",
       "\\end{tabular}\n"
      ],
      "text/markdown": [
       "\n",
       "| Age | Yr | Sex | G21 | Corps | Res | Greek | VarsAth | Honor | GPA |\n",
       "|---|---|---|---|---|---|---|---|---|---|\n",
       "| 21   | 2    | M    | Y    | Y    | 1    | N    | N    | N    | 3.23 |\n",
       "| 20   | 3    | F    | N    | N    | 2    | Y    | N    | Y    | 3.95 |\n",
       "| 22   | 3    | M    | Y    | N    | 2    | N    | N    | N    | 3.06 |\n",
       "| 27   | 3    | F    | Y    | N    | 3    | N    | N    | N    | 2.84 |\n",
       "| 24   | 3    | M    | Y    | N    | 2    | N    | N    | N    | 2.39 |\n",
       "\n"
      ],
      "text/plain": [
       "  Age Yr Sex G21 Corps Res Greek VarsAth Honor GPA \n",
       "1 21  2  M   Y   Y     1   N     N       N     3.23\n",
       "2 20  3  F   N   N     2   Y     N       Y     3.95\n",
       "3 22  3  M   Y   N     2   N     N       N     3.06\n",
       "4 27  3  F   Y   N     3   N     N       N     2.84\n",
       "5 24  3  M   Y   N     2   N     N       N     2.39"
      ]
     },
     "metadata": {},
     "output_type": "display_data"
    }
   ],
   "source": [
    "new_p <- p[1:10]\n",
    "head(new_p,5)"
   ]
  },
  {
   "cell_type": "markdown",
   "id": "4430b7b6-19d5-4f24-9e3b-5dc9160a66f3",
   "metadata": {},
   "source": [
    "Notice that $n:k$ is a command in R that produces all integers from $n$ to $k$ inclusive. The [] indicates that we wish to create a subset of the data frame named. We can use the *concatenate* function to list non-adjacent column numbers:"
   ]
  },
  {
   "cell_type": "code",
   "execution_count": 80,
   "id": "07a56752-cfa5-4a25-897e-940a5fc98100",
   "metadata": {},
   "outputs": [
    {
     "data": {
      "text/html": [
       "<table>\n",
       "<thead><tr><th scope=col>Age</th><th scope=col>Yr</th><th scope=col>Sex</th><th scope=col>AccDate</th><th scope=col>Thrill</th><th scope=col>Perf</th><th scope=col>Narc</th></tr></thead>\n",
       "<tbody>\n",
       "\t<tr><td>21 </td><td>2  </td><td>M  </td><td>N  </td><td>23 </td><td>105</td><td>11 </td></tr>\n",
       "\t<tr><td>20 </td><td>3  </td><td>F  </td><td>Y  </td><td>25 </td><td>105</td><td>11 </td></tr>\n",
       "\t<tr><td>22 </td><td>3  </td><td>M  </td><td>Y  </td><td>27 </td><td> 73</td><td>11 </td></tr>\n",
       "\t<tr><td>27 </td><td>3  </td><td>F  </td><td>N  </td><td>21 </td><td> 90</td><td>10 </td></tr>\n",
       "\t<tr><td>24 </td><td>3  </td><td>M  </td><td>N  </td><td>30 </td><td> 95</td><td>10 </td></tr>\n",
       "</tbody>\n",
       "</table>\n"
      ],
      "text/latex": [
       "\\begin{tabular}{r|lllllll}\n",
       " Age & Yr & Sex & AccDate & Thrill & Perf & Narc\\\\\n",
       "\\hline\n",
       "\t 21  & 2   & M   & N   & 23  & 105 & 11 \\\\\n",
       "\t 20  & 3   & F   & Y   & 25  & 105 & 11 \\\\\n",
       "\t 22  & 3   & M   & Y   & 27  &  73 & 11 \\\\\n",
       "\t 27  & 3   & F   & N   & 21  &  90 & 10 \\\\\n",
       "\t 24  & 3   & M   & N   & 30  &  95 & 10 \\\\\n",
       "\\end{tabular}\n"
      ],
      "text/markdown": [
       "\n",
       "| Age | Yr | Sex | AccDate | Thrill | Perf | Narc |\n",
       "|---|---|---|---|---|---|---|\n",
       "| 21  | 2   | M   | N   | 23  | 105 | 11  |\n",
       "| 20  | 3   | F   | Y   | 25  | 105 | 11  |\n",
       "| 22  | 3   | M   | Y   | 27  |  73 | 11  |\n",
       "| 27  | 3   | F   | N   | 21  |  90 | 10  |\n",
       "| 24  | 3   | M   | N   | 30  |  95 | 10  |\n",
       "\n"
      ],
      "text/plain": [
       "  Age Yr Sex AccDate Thrill Perf Narc\n",
       "1 21  2  M   N       23     105  11  \n",
       "2 20  3  F   Y       25     105  11  \n",
       "3 22  3  M   Y       27      73  11  \n",
       "4 27  3  F   N       21      90  10  \n",
       "5 24  3  M   N       30      95  10  "
      ]
     },
     "metadata": {},
     "output_type": "display_data"
    }
   ],
   "source": [
    "new2_p <- p[c(1:3, 14, 20, 27, 31)]\n",
    "head(new2_p,5)"
   ]
  },
  {
   "cell_type": "markdown",
   "id": "2c28392f-9110-4efe-86bf-cc8a5b5c4d64",
   "metadata": {},
   "source": [
    "In a similar way, we can use the concatenate function along with column titles which must be within quotation marks."
   ]
  },
  {
   "cell_type": "code",
   "execution_count": 81,
   "id": "3ef16be9-60c7-4c18-ba54-d533b45cbb17",
   "metadata": {},
   "outputs": [
    {
     "data": {
      "text/html": [
       "<table>\n",
       "<thead><tr><th scope=col>Sex</th><th scope=col>Thrill</th></tr></thead>\n",
       "<tbody>\n",
       "\t<tr><td>M </td><td>23</td></tr>\n",
       "\t<tr><td>F </td><td>25</td></tr>\n",
       "\t<tr><td>M </td><td>27</td></tr>\n",
       "\t<tr><td>F </td><td>21</td></tr>\n",
       "\t<tr><td>M </td><td>30</td></tr>\n",
       "</tbody>\n",
       "</table>\n"
      ],
      "text/latex": [
       "\\begin{tabular}{r|ll}\n",
       " Sex & Thrill\\\\\n",
       "\\hline\n",
       "\t M  & 23\\\\\n",
       "\t F  & 25\\\\\n",
       "\t M  & 27\\\\\n",
       "\t F  & 21\\\\\n",
       "\t M  & 30\\\\\n",
       "\\end{tabular}\n"
      ],
      "text/markdown": [
       "\n",
       "| Sex | Thrill |\n",
       "|---|---|\n",
       "| M  | 23 |\n",
       "| F  | 25 |\n",
       "| M  | 27 |\n",
       "| F  | 21 |\n",
       "| M  | 30 |\n",
       "\n"
      ],
      "text/plain": [
       "  Sex Thrill\n",
       "1 M   23    \n",
       "2 F   25    \n",
       "3 M   27    \n",
       "4 F   21    \n",
       "5 M   30    "
      ]
     },
     "metadata": {},
     "output_type": "display_data"
    }
   ],
   "source": [
    "new3_p <- p[c('Sex', 'Thrill')]\n",
    "head(new3_p,5)"
   ]
  },
  {
   "cell_type": "markdown",
   "id": "a2bf96a1-1eb1-48cf-9826-2cf9a7c6b84c",
   "metadata": {},
   "source": [
    "### Pivot Tables"
   ]
  },
  {
   "cell_type": "markdown",
   "id": "01091207-ff28-461b-8c57-a0a0d01196c7",
   "metadata": {},
   "source": [
    "We also have a quick ways to summarize 2 category variables in a 2-way table or pivot table:"
   ]
  },
  {
   "cell_type": "code",
   "execution_count": 83,
   "id": "07dffda6-6c5b-406e-b942-86bff6e6b67e",
   "metadata": {},
   "outputs": [
    {
     "data": {
      "text/plain": [
       "   AccDate\n",
       "Sex  N  Y\n",
       "  F 28 46\n",
       "  M 28 27"
      ]
     },
     "metadata": {},
     "output_type": "display_data"
    }
   ],
   "source": [
    "xtabs(~Sex + AccDate, data = p)"
   ]
  },
  {
   "cell_type": "markdown",
   "id": "891192f3-b50c-4207-936a-6ff47f3ffbe9",
   "metadata": {},
   "source": [
    "We will talk more later in these notes about statistical formulas and what they convey."
   ]
  }
 ],
 "metadata": {
  "kernelspec": {
   "display_name": "R",
   "language": "R",
   "name": "ir"
  },
  "language_info": {
   "codemirror_mode": "r",
   "file_extension": ".r",
   "mimetype": "text/x-r-source",
   "name": "R",
   "pygments_lexer": "r",
   "version": "3.6.1"
  }
 },
 "nbformat": 4,
 "nbformat_minor": 5
}
