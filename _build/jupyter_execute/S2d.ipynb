{
 "cells": [
  {
   "cell_type": "markdown",
   "id": "8be20f68-ead6-422a-8423-639f4e6d5e4c",
   "metadata": {},
   "source": [
    "# Sampling with Geometric Distribution\n",
    "\n",
    "Recall that, in general, the geometric distribution has the following pdf:\n",
    "\n",
    "- $n$ is the index of the first success,\n",
    "- $p$ is the probability of success, and\n",
    "- $q=1-p$ indicates the probability of failure.\n",
    "\n",
    "The probability of the first success occuring on the $n^{th}$ trial is given by:\n",
    "\n",
    "$$P(n) = (q)^{n-1}p$$"
   ]
  },
  {
   "cell_type": "markdown",
   "id": "a460bad2-cc73-4915-86fa-2c8ed675cece",
   "metadata": {},
   "source": [
    "The expected value of the geometric distribution is given by:\n",
    "\n",
    "$$E(X) = \\frac{1}{p}$$"
   ]
  },
  {
   "cell_type": "markdown",
   "id": "f04f26d8-504f-4aac-9e72-b45f7ca81fb7",
   "metadata": {
    "editable": true,
    "slideshow": {
     "slide_type": ""
    },
    "tags": []
   },
   "source": [
    "## Example: How Many Dice Rolls to Get 10 or More\n",
    "\n",
    "Suppose we are rolling two, 6-sided dice and summing the values shown in a standard Monopoly dice roll. How many trials $n$ on average are required before a success occurs?\n",
    "\n",
    "### Probability of Success\n",
    "\n",
    "Let's note that, of the 36 possible outcomes, 3 are 10's, 2 are 11's and 1 is 12. Thus, the probability of success on one dice roll is given by:\n",
    "\n",
    "$$p = \\frac{6}{36} = \\frac{1}{6}$$\n",
    "\n",
    "### The rflip() Function\n",
    "\n",
    "We need to be able to use **rflip()** function, so we load that code below."
   ]
  },
  {
   "cell_type": "code",
   "execution_count": 1,
   "id": "d845e515-e371-4082-a3e0-ee0928132d8a",
   "metadata": {
    "editable": true,
    "slideshow": {
     "slide_type": ""
    },
    "tags": [
     "hide-input"
    ]
   },
   "outputs": [],
   "source": [
    "rflip <- function(n=1, prob=.5, quiet=FALSE, verbose = !quiet, summarize = FALSE, \n",
    "                  summarise = summarize) {\n",
    "\tif ( ( prob > 1 && is.integer(prob) ) ) {  \n",
    "\t\t# swap n and prob\n",
    "\t\ttemp <- prob\n",
    "\t\tprob <- n\n",
    "\t\tn <- temp\n",
    "\t}\n",
    "\tif (summarise) {\n",
    "\t  heads <- rbinom(1, n, prob)\n",
    "\t  return(data.frame(n = n, heads = heads, tails = n - heads, prob = prob))\n",
    "\t} else {\n",
    "\t  r <- rbinom(n,1,prob)\n",
    "\t  result <- c('T','H')[ 1 + r ]\n",
    "\t  heads <- sum(r)\n",
    "\t  attr(heads,\"n\") <- n\n",
    "\t  attr(heads,\"prob\") <- prob \n",
    "\t  attr(heads,\"sequence\") <- result\n",
    "\t  attr(heads,\"verbose\") <- verbose\n",
    "\t  class(heads) <- 'cointoss'\n",
    "\t  return(heads)\n",
    "\t}\n",
    "}"
   ]
  },
  {
   "cell_type": "markdown",
   "id": "2fdaed71-e73f-480e-8151-46fde8add750",
   "metadata": {
    "editable": true,
    "slideshow": {
     "slide_type": ""
    },
    "tags": []
   },
   "source": [
    "### Relationship to Negative Binomial\n",
    "\n",
    "The fact the geometric distribution is a sub-case of the negative binomial distribution where $k=1$ can help us here. We can use the **while loop** created in the previous section.\n",
    "\n",
    "### Expected Value\n",
    "\n",
    "For the geometric distribution, the expected value is as follows:\n",
    "\n",
    "$$E(X) = \\frac{1}{p}$$\n",
    "\n",
    "Thus, for this example:\n",
    "\n",
    "$$E(X) = \\frac{1}{\\frac{1}{4}} = 4$$"
   ]
  },
  {
   "cell_type": "code",
   "execution_count": 2,
   "id": "7926283e-f22b-45cb-93cd-d5c0498da99a",
   "metadata": {
    "editable": true,
    "slideshow": {
     "slide_type": ""
    },
    "tags": []
   },
   "outputs": [
    {
     "name": "stdout",
     "output_type": "stream",
     "text": [
      "The grand mean of the number of trials needed to achieve success is equal to\n",
      "    3.88"
     ]
    },
    {
     "data": {
      "image/png": "[encoded data removed]",
      "text/plain": [
       "Plot with title \"Histogram of Oil Wells Drilled: Repetitions = 100\""
      ]
     },
     "metadata": {},
     "output_type": "display_data"
    }
   ],
   "source": [
    "num_trials_needed <- c()     # create a vector to store the number of trials needed in while loop\n",
    "num_samps = 100              # set the number of times to run the simulation\n",
    "\n",
    "for (i in 1:num_samps){\n",
    "   k <- 0     # Initialize successes to zero\n",
    "   n <- 0     # Initialize number of total trials needed for success to occur\n",
    "   while (k < 1 && n < 20) {\n",
    "      k <- k + rflip(1, prob = 1/4, summarize = TRUE)[1,2]\n",
    "      n <- n + 1\n",
    "    }\n",
    "   num_trials_needed[i] <- n     # store the number of trials need in this simulation\n",
    "}\n",
    "\n",
    "lower <- quantile(num_trials_needed, prob = 0.05)     # Calcuate the 5th percentile.\n",
    "upper <- quantile(num_trials_needed, prob = 0.95)     # Calcuate the 95th percentile.\n",
    "cat('The grand mean of the number of trials needed to achieve success is equal to\\n   ',mean(num_trials_needed) )\n",
    "hist(num_trials_needed, breaks = 8, main = 'Histogram of Oil Wells Drilled: Repetitions = 100', xlab = 'Number of Wells Drilled')\n",
    "abline( v = lower, col=\"blue\")     # Add vertical line at 5th percentile\n",
    "abline(v = upper, col=\"blue\")      # Add vertical line at 95th percentile "
   ]
  },
  {
   "cell_type": "markdown",
   "id": "1500fa5b-2907-4571-8910-0122b5ecad56",
   "metadata": {},
   "source": [
    "This table summarizes the investigation to include five examples from the sampling distribution of Drawing a Spades hand:\n",
    "\n",
    "<table class=\"center\" style=\"width:70%; text-align:center;\">\n",
    "  <tr>\n",
    "    <th>Max Number of Wells Drilled</th>\n",
    "    <th>p = 1/4</th> \n",
    "    <th>E(X)</th>\n",
    "    <th>Simulation Grand Mean</th>\n",
    "  </tr>\n",
    "  <tr>\n",
    "    <td>100</td>\n",
    "    <td>0.25</td>\n",
    "    <td>4</td>\n",
    "    <td>4.05</td>\n",
    "  </tr>\n",
    "  <tr>\n",
    "    <td>200</td>\n",
    "    <td>0.25</td>\n",
    "    <td>4</td>\n",
    "    <td>3.92</td>\n",
    "  </tr>\n",
    "  <tr>\n",
    "    <td>500</td>\n",
    "    <td>0.25</td>\n",
    "    <td>4</td>\n",
    "    <td>4.28</td>\n",
    "  </tr>\n",
    "  <tr>\n",
    "    <td>1,000</td>\n",
    "    <td>0.25</td>\n",
    "    <td>4</td>\n",
    "    <td>3.857</td>\n",
    "  </tr>\n",
    "  <tr>"
   ]
  },
  {
   "cell_type": "code",
   "execution_count": 3,
   "id": "481c66b5-5cc7-47e4-8075-ec7da33b4d0a",
   "metadata": {},
   "outputs": [
    {
     "name": "stdout",
     "output_type": "stream",
     "text": [
      "The grand mean of the number of trials needed to achieve success is equal to\n",
      "    4.02"
     ]
    },
    {
     "data": {
      "image/png": "[encoded data removed]",
      "text/plain": [
       "Plot with title \"Histogram of Oil Wells Drilled: Repetitions = 200\""
      ]
     },
     "metadata": {},
     "output_type": "display_data"
    }
   ],
   "source": [
    "num_trials_needed <- c()     # create a vector to store the number of trials needed in while loop\n",
    "num_samps = 200              # set the number of times to run the simulation\n",
    "\n",
    "for (i in 1:num_samps){\n",
    "   k <- 0     # Initialize successes to zero\n",
    "   n <- 0     # Initialize number of total trials needed for success to occur\n",
    "   while (k < 1 && n < 20) {\n",
    "      k <- k + rflip(1, prob = 1/4, summarize = TRUE)[1,2]\n",
    "      n <- n + 1\n",
    "    }\n",
    "   num_trials_needed[i] <- n     # store the number of trials need in this simulation\n",
    "}\n",
    "\n",
    "lower <- quantile(num_trials_needed, prob = 0.05)     # Calcuate the 5th percentile.\n",
    "upper <- quantile(num_trials_needed, prob = 0.95)     # Calcuate the 95th percentile.\n",
    "cat('The grand mean of the number of trials needed to achieve success is equal to\\n   ',mean(num_trials_needed) )\n",
    "hist(num_trials_needed, breaks = 8, main = 'Histogram of Oil Wells Drilled: Repetitions = 200', xlab = 'Number of Wells Drilled')\n",
    "abline( v = lower, col=\"blue\")     # Add vertical line at 5th percentile\n",
    "abline(v = upper, col=\"blue\")      # Add vertical line at 95th percentile "
   ]
  },
  {
   "cell_type": "code",
   "execution_count": 4,
   "id": "8a92fd95-2371-4cce-8caa-e84fb3990bdb",
   "metadata": {},
   "outputs": [
    {
     "name": "stdout",
     "output_type": "stream",
     "text": [
      "The grand mean of the number of trials needed to achieve success is equal to\n",
      "    3.756"
     ]
    },
    {
     "data": {
      "image/png": "[encoded data removed]",
      "text/plain": [
       "Plot with title \"Histogram of Oil Wells Drilled: Repetitions = 500\""
      ]
     },
     "metadata": {},
     "output_type": "display_data"
    }
   ],
   "source": [
    "num_trials_needed <- c()     # create a vector to store the number of trials needed in while loop\n",
    "num_samps = 500              # set the number of times to run the simulation\n",
    "\n",
    "for (i in 1:num_samps){\n",
    "   k <- 0     # Initialize successes to zero\n",
    "   n <- 0     # Initialize number of total trials needed for success to occur\n",
    "   while (k < 1 && n < 20) {\n",
    "      k <- k + rflip(1, prob = 1/4, summarize = TRUE)[1,2]\n",
    "      n <- n + 1\n",
    "    }\n",
    "   num_trials_needed[i] <- n     # store the number of trials need in this simulation\n",
    "}\n",
    "\n",
    "lower <- quantile(num_trials_needed, prob = 0.05)     # Calcuate the 5th percentile.\n",
    "upper <- quantile(num_trials_needed, prob = 0.95)     # Calcuate the 95th percentile.\n",
    "cat('The grand mean of the number of trials needed to achieve success is equal to\\n   ',mean(num_trials_needed) )\n",
    "hist(num_trials_needed, breaks = 8, main = 'Histogram of Oil Wells Drilled: Repetitions = 500', xlab = 'Number of Wells Drilled')\n",
    "abline( v = lower, col=\"blue\")     # Add vertical line at 5th percentile\n",
    "abline(v = upper, col=\"blue\")      # Add vertical line at 95th percentile "
   ]
  },
  {
   "cell_type": "code",
   "execution_count": 5,
   "id": "1b7f303f-f631-4fee-bf77-2d080276bf1e",
   "metadata": {},
   "outputs": [
    {
     "name": "stdout",
     "output_type": "stream",
     "text": [
      "The grand mean of the number of trials needed to achieve success is equal to\n",
      "    3.921"
     ]
    },
    {
     "data": {
      "image/png": "[encoded data removed]",
      "text/plain": [
       "Plot with title \"Histogram of Oil Wells Drilled: Repetitions = 1,000\""
      ]
     },
     "metadata": {},
     "output_type": "display_data"
    }
   ],
   "source": [
    "num_trials_needed <- c()     # create a vector to store the number of trials needed in while loop\n",
    "num_samps = 1000              # set the number of times to run the simulation\n",
    "\n",
    "for (i in 1:num_samps){\n",
    "   k <- 0     # Initialize successes to zero\n",
    "   n <- 0     # Initialize number of total trials needed for success to occur\n",
    "   while (k < 1 && n < 20) {\n",
    "      k <- k + rflip(1, prob = 1/4, summarize = TRUE)[1,2]\n",
    "      n <- n + 1\n",
    "    }\n",
    "   num_trials_needed[i] <- n     # store the number of trials need in this simulation\n",
    "}\n",
    "\n",
    "lower <- quantile(num_trials_needed, prob = 0.05)     # Calcuate the 5th percentile.\n",
    "upper <- quantile(num_trials_needed, prob = 0.95)     # Calcuate the 95th percentile.\n",
    "cat('The grand mean of the number of trials needed to achieve success is equal to\\n   ',mean(num_trials_needed) )\n",
    "hist(num_trials_needed, breaks = 8, main = 'Histogram of Oil Wells Drilled: Repetitions = 1,000', xlab = 'Number of Wells Drilled')\n",
    "abline( v = lower, col=\"blue\")     # Add vertical line at 5th percentile\n",
    "abline(v = upper, col=\"blue\")      # Add vertical line at 95th percentile "
   ]
  },
  {
   "cell_type": "code",
   "execution_count": null,
   "id": "dfee46d5-038f-4e04-af82-d0227c2848db",
   "metadata": {},
   "outputs": [],
   "source": []
  }
 ],
 "metadata": {
  "kernelspec": {
   "display_name": "R",
   "language": "R",
   "name": "ir"
  },
  "language_info": {
   "codemirror_mode": "r",
   "file_extension": ".r",
   "mimetype": "text/x-r-source",
   "name": "R",
   "pygments_lexer": "r",
   "version": "3.6.1"
  }
 },
 "nbformat": 4,
 "nbformat_minor": 5
}