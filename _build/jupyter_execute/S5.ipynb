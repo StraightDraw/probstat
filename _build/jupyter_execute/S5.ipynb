{
 "cells": [
  {
   "cell_type": "markdown",
   "id": "8fdddaf4-4b7f-48c9-8757-6f76e8baab8a",
   "metadata": {},
   "source": [
    "# Proportion Testing\n",
    "\n",
    "We have seen proportion testing in the 1-sample and 2-sample cases where we utilize the $z$-test for population propotion. See [this section of our course notes](https://straightdraw.github.io/probstat/S3b.html). In general, we use the \n",
    "\n",
    "<center><b>$\\chi^2$ Test of Independence</b></center></br>\n",
    "\n",
    "for hypothesis testing with category (or proportion) data. Just as ANOVA is the straightforward extension of $t$ procedures into the cases where we have more than 2 samples of numeric data, $\\chi^2$ methods are the mathematical extension of $z$-proportion procedures for categorical data."
   ]
  },
  {
   "cell_type": "markdown",
   "id": "933a0648-28f7-4757-b0d7-7d33e93c13e3",
   "metadata": {},
   "source": [
    "## Goodness of Fit\n",
    "\n",
    "As it happens, the $\\chi^2$ test can be used to test a probability model. This stastical test is called the Goodness of Fit and is often abbreviated GOF."
   ]
  },
  {
   "cell_type": "markdown",
   "id": "7acb429b-7324-4dc6-a028-1ac79029f297",
   "metadata": {},
   "source": [
    "## Calculations\n",
    "\n",
    "Both methods, the Test of Independence and the Goodness of Fit test, have similar (and in some cases identical) calculations, degrees of freedom and assumptions to check. While their hypotheses differ, the way in the tests are conducted is very much the same. "
   ]
  }
 ],
 "metadata": {
  "kernelspec": {
   "display_name": "R",
   "language": "R",
   "name": "ir"
  },
  "language_info": {
   "codemirror_mode": "r",
   "file_extension": ".r",
   "mimetype": "text/x-r-source",
   "name": "R",
   "pygments_lexer": "r",
   "version": "3.6.1"
  }
 },
 "nbformat": 4,
 "nbformat_minor": 5
}