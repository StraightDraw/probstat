{
 "cells": [
  {
   "cell_type": "markdown",
   "id": "df5b74bd-6910-41d9-a694-808fe0fb23a9",
   "metadata": {},
   "source": [
    "# Exercises\n",
    "\n",
    "The following practice problems related to expected value, variance and standard deviation."
   ]
  },
  {
   "cell_type": "markdown",
   "id": "9c8f9b1c-0cdf-4e59-a358-d9912eb7fcb8",
   "metadata": {},
   "source": [
    "1. A raffle is held by the UNG student government association to draw for a horseback riding trip in the mountains worth a 1,000 dollars. Two thousand tickets are sold at 1 dollar each. Find the expected value and standard deviation of purchasing one ticket.\n",
    "\n",
    "2. You draw 1 card from a standard, well-shuffled deck of playing cards. If you pick a heart, you win 10 dollars. If you pick a face card which is not a heart, you win 8 dollars. If you pick any other cards, you lose 6 dollars. Do you want to play this game?\n",
    "\n",
    "3. A game consists of flipping two coins. If both coins turn up heads, you win $1.00. What is a \"fair\" price to pay to play?\n",
    "\n",
    "4. A game consists of rolling a colored die with three green sides, two red sides, and one  blue side. A roll of a red loses. A roll of blue pays 6 dollars. A roll of green pays 2 dollars.  What is a fair price to pay to play?\n",
    "\n",
    "5. At the racetrack, Daryl to enter his horse in a stakes race. He believes that the horse has a 1/20 chance of winning, a 1/10 chance of finishing second, and a 1/4 chance of finishing third. If first pays 5 thousand dollars, second pays 3,500 dollars and third pays 2,500 dollars, should Daryl enter his horse in the race?\n",
    "\n",
    "6. A raffle sells 847 tickets at five dollars per ticket for five prizes of 50 dollars, 1oo dollars, 150 dollars, 200 dollars and 500 dollars. What is the expected value of buying tickets, in dollars?\n",
    "\n",
    "7. A game consists of rolling a colored die with two red sides, one blue side, and three  green sides. A roll of red loses, a roll of blue wins 6 dollars, and a roll of green allows  another roll. A player is allowed no more than three rolls. What is a fair price to pay  to play?\n",
    "\n",
    "8. Assume a person pays 1 dollar to play the following game. Four coins are tossed. If all  coins show the same (e.g. all 4 heads or all 4 tails), the player wins 6 dollars. Otherwise, the player  loses. Find the expected value for this game."
   ]
  },
  {
   "cell_type": "code",
   "execution_count": null,
   "id": "fd7f8973-1026-4f95-8afe-738703946a30",
   "metadata": {},
   "outputs": [],
   "source": []
  }
 ],
 "metadata": {
  "kernelspec": {
   "display_name": "R",
   "language": "R",
   "name": "ir"
  },
  "language_info": {
   "codemirror_mode": "r",
   "file_extension": ".r",
   "mimetype": "text/x-r-source",
   "name": "R",
   "pygments_lexer": "r",
   "version": "3.6.1"
  }
 },
 "nbformat": 4,
 "nbformat_minor": 5
}